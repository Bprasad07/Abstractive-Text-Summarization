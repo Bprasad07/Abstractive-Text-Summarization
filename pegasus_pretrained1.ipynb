{
  "cells": [
    {
      "cell_type": "code",
      "execution_count": null,
      "metadata": {
        "colab": {
          "base_uri": "https://localhost:8080/"
        },
        "id": "409f1b99",
        "outputId": "ca2da8a1-5133-4d82-fef7-95eef348d4d2"
      },
      "outputs": [
        {
          "output_type": "stream",
          "name": "stdout",
          "text": [
            "Looking in indexes: https://pypi.org/simple, https://us-python.pkg.dev/colab-wheels/public/simple/\n",
            "Collecting transformers\n",
            "  Downloading transformers-4.29.1-py3-none-any.whl (7.1 MB)\n",
            "\u001b[2K     \u001b[90m━━━━━━━━━━━━━━━━━━━━━━━━━━━━━━━━━━━━━━━━\u001b[0m \u001b[32m7.1/7.1 MB\u001b[0m \u001b[31m57.5 MB/s\u001b[0m eta \u001b[36m0:00:00\u001b[0m\n",
            "\u001b[?25hRequirement already satisfied: filelock in /usr/local/lib/python3.10/dist-packages (from transformers) (3.12.0)\n",
            "Collecting huggingface-hub<1.0,>=0.14.1 (from transformers)\n",
            "  Downloading huggingface_hub-0.14.1-py3-none-any.whl (224 kB)\n",
            "\u001b[2K     \u001b[90m━━━━━━━━━━━━━━━━━━━━━━━━━━━━━━━━━━━━━━\u001b[0m \u001b[32m224.5/224.5 kB\u001b[0m \u001b[31m22.7 MB/s\u001b[0m eta \u001b[36m0:00:00\u001b[0m\n",
            "\u001b[?25hRequirement already satisfied: numpy>=1.17 in /usr/local/lib/python3.10/dist-packages (from transformers) (1.24.3)\n",
            "Requirement already satisfied: packaging>=20.0 in /usr/local/lib/python3.10/dist-packages (from transformers) (23.1)\n",
            "Requirement already satisfied: pyyaml>=5.1 in /usr/local/lib/python3.10/dist-packages (from transformers) (6.0)\n",
            "Requirement already satisfied: regex!=2019.12.17 in /usr/local/lib/python3.10/dist-packages (from transformers) (2022.10.31)\n",
            "Requirement already satisfied: requests in /usr/local/lib/python3.10/dist-packages (from transformers) (2.27.1)\n",
            "Collecting tokenizers!=0.11.3,<0.14,>=0.11.1 (from transformers)\n",
            "  Downloading tokenizers-0.13.3-cp310-cp310-manylinux_2_17_x86_64.manylinux2014_x86_64.whl (7.8 MB)\n",
            "\u001b[2K     \u001b[90m━━━━━━━━━━━━━━━━━━━━━━━━━━━━━━━━━━━━━━━━\u001b[0m \u001b[32m7.8/7.8 MB\u001b[0m \u001b[31m102.4 MB/s\u001b[0m eta \u001b[36m0:00:00\u001b[0m\n",
            "\u001b[?25hRequirement already satisfied: tqdm>=4.27 in /usr/local/lib/python3.10/dist-packages (from transformers) (4.65.0)\n",
            "Requirement already satisfied: fsspec in /usr/local/lib/python3.10/dist-packages (from huggingface-hub<1.0,>=0.14.1->transformers) (2023.4.0)\n",
            "Requirement already satisfied: typing-extensions>=3.7.4.3 in /usr/local/lib/python3.10/dist-packages (from huggingface-hub<1.0,>=0.14.1->transformers) (4.5.0)\n",
            "Requirement already satisfied: urllib3<1.27,>=1.21.1 in /usr/local/lib/python3.10/dist-packages (from requests->transformers) (1.26.15)\n",
            "Requirement already satisfied: certifi>=2017.4.17 in /usr/local/lib/python3.10/dist-packages (from requests->transformers) (2022.12.7)\n",
            "Requirement already satisfied: charset-normalizer~=2.0.0 in /usr/local/lib/python3.10/dist-packages (from requests->transformers) (2.0.12)\n",
            "Requirement already satisfied: idna<4,>=2.5 in /usr/local/lib/python3.10/dist-packages (from requests->transformers) (3.4)\n",
            "Installing collected packages: tokenizers, huggingface-hub, transformers\n",
            "Successfully installed huggingface-hub-0.14.1 tokenizers-0.13.3 transformers-4.29.1\n",
            "Looking in indexes: https://pypi.org/simple, https://us-python.pkg.dev/colab-wheels/public/simple/\n",
            "Collecting sentencepiece\n",
            "  Downloading sentencepiece-0.1.99-cp310-cp310-manylinux_2_17_x86_64.manylinux2014_x86_64.whl (1.3 MB)\n",
            "\u001b[2K     \u001b[90m━━━━━━━━━━━━━━━━━━━━━━━━━━━━━━━━━━━━━━━━\u001b[0m \u001b[32m1.3/1.3 MB\u001b[0m \u001b[31m18.2 MB/s\u001b[0m eta \u001b[36m0:00:00\u001b[0m\n",
            "\u001b[?25hInstalling collected packages: sentencepiece\n",
            "Successfully installed sentencepiece-0.1.99\n"
          ]
        }
      ],
      "source": [
        "!pip3 install transformers\n",
        "!pip3 install sentencepiece"
      ],
      "id": "409f1b99"
    },
    {
      "cell_type": "code",
      "execution_count": null,
      "metadata": {
        "colab": {
          "base_uri": "https://localhost:8080/"
        },
        "id": "18PepSx8n4gJ",
        "outputId": "51a3f584-d60d-4b4c-d502-2309caaf68ae"
      },
      "outputs": [
        {
          "output_type": "stream",
          "name": "stdout",
          "text": [
            "Mounted at /content/drive\n"
          ]
        }
      ],
      "source": [
        "from google.colab import drive\n",
        "drive.mount('/content/drive')"
      ],
      "id": "18PepSx8n4gJ"
    },
    {
      "cell_type": "code",
      "execution_count": null,
      "metadata": {
        "colab": {
          "base_uri": "https://localhost:8080/"
        },
        "id": "j6uhKNW1tEL1",
        "outputId": "7ae735e7-0b43-445c-cc6e-c5c2709de4aa"
      },
      "outputs": [
        {
          "output_type": "stream",
          "name": "stdout",
          "text": [
            "\u001b[?25l     \u001b[90m━━━━━━━━━━━━━━━━━━━━━━━━━━━━━━━━━━━━━━━━\u001b[0m \u001b[32m0.0/474.6 kB\u001b[0m \u001b[31m?\u001b[0m eta \u001b[36m-:--:--\u001b[0m\r\u001b[2K     \u001b[91m━━━━━━━━━━━━━━━━━━━━━━━━━━━━\u001b[0m\u001b[91m╸\u001b[0m\u001b[90m━━━━━━━━━\u001b[0m \u001b[32m358.4/474.6 kB\u001b[0m \u001b[31m10.8 MB/s\u001b[0m eta \u001b[36m0:00:01\u001b[0m\r\u001b[2K     \u001b[90m━━━━━━━━━━━━━━━━━━━━━━━━━━━━━━━━━━━━━━\u001b[0m \u001b[32m474.6/474.6 kB\u001b[0m \u001b[31m10.1 MB/s\u001b[0m eta \u001b[36m0:00:00\u001b[0m\n",
            "\u001b[2K     \u001b[90m━━━━━━━━━━━━━━━━━━━━━━━━━━━━━━━━━━━━━━\u001b[0m \u001b[32m118.9/118.9 kB\u001b[0m \u001b[31m13.4 MB/s\u001b[0m eta \u001b[36m0:00:00\u001b[0m\n",
            "\u001b[?25h  Preparing metadata (setup.py) ... \u001b[?25l\u001b[?25hdone\n",
            "\u001b[2K     \u001b[90m━━━━━━━━━━━━━━━━━━━━━━━━━━━━━━━━━━━━━━━━\u001b[0m \u001b[32m66.4/66.4 kB\u001b[0m \u001b[31m7.2 MB/s\u001b[0m eta \u001b[36m0:00:00\u001b[0m\n",
            "\u001b[2K     \u001b[90m━━━━━━━━━━━━━━━━━━━━━━━━━━━━━━━━━━━━━━━━\u001b[0m \u001b[32m1.1/1.1 MB\u001b[0m \u001b[31m46.3 MB/s\u001b[0m eta \u001b[36m0:00:00\u001b[0m\n",
            "\u001b[2K     \u001b[90m━━━━━━━━━━━━━━━━━━━━━━━━━━━━━━━━━━━━━━\u001b[0m \u001b[32m110.5/110.5 kB\u001b[0m \u001b[31m12.8 MB/s\u001b[0m eta \u001b[36m0:00:00\u001b[0m\n",
            "\u001b[2K     \u001b[90m━━━━━━━━━━━━━━━━━━━━━━━━━━━━━━━━━━━━━━\u001b[0m \u001b[32m212.5/212.5 kB\u001b[0m \u001b[31m23.4 MB/s\u001b[0m eta \u001b[36m0:00:00\u001b[0m\n",
            "\u001b[2K     \u001b[90m━━━━━━━━━━━━━━━━━━━━━━━━━━━━━━━━━━━━━━\u001b[0m \u001b[32m134.3/134.3 kB\u001b[0m \u001b[31m15.1 MB/s\u001b[0m eta \u001b[36m0:00:00\u001b[0m\n",
            "\u001b[2K     \u001b[90m━━━━━━━━━━━━━━━━━━━━━━━━━━━━━━━━━━━━━━━━\u001b[0m \u001b[32m1.0/1.0 MB\u001b[0m \u001b[31m66.5 MB/s\u001b[0m eta \u001b[36m0:00:00\u001b[0m\n",
            "\u001b[2K     \u001b[90m━━━━━━━━━━━━━━━━━━━━━━━━━━━━━━━━━━━━━━━━\u001b[0m \u001b[32m2.1/2.1 MB\u001b[0m \u001b[31m57.7 MB/s\u001b[0m eta \u001b[36m0:00:00\u001b[0m\n",
            "\u001b[2K     \u001b[90m━━━━━━━━━━━━━━━━━━━━━━━━━━━━━━━━━━━━━━\u001b[0m \u001b[32m399.3/399.3 kB\u001b[0m \u001b[31m39.4 MB/s\u001b[0m eta \u001b[36m0:00:00\u001b[0m\n",
            "\u001b[2K     \u001b[90m━━━━━━━━━━━━━━━━━━━━━━━━━━━━━━━━━━━━━━\u001b[0m \u001b[32m138.8/138.8 kB\u001b[0m \u001b[31m16.4 MB/s\u001b[0m eta \u001b[36m0:00:00\u001b[0m\n",
            "\u001b[2K     \u001b[90m━━━━━━━━━━━━━━━━━━━━━━━━━━━━━━━━━━━━━━━━\u001b[0m \u001b[32m49.8/49.8 kB\u001b[0m \u001b[31m5.2 MB/s\u001b[0m eta \u001b[36m0:00:00\u001b[0m\n",
            "\u001b[2K     \u001b[90m━━━━━━━━━━━━━━━━━━━━━━━━━━━━━━━━━━━━━━━━\u001b[0m \u001b[32m2.7/2.7 MB\u001b[0m \u001b[31m81.8 MB/s\u001b[0m eta \u001b[36m0:00:00\u001b[0m\n",
            "\u001b[2K     \u001b[90m━━━━━━━━━━━━━━━━━━━━━━━━━━━━━━━━━━━━━━━━\u001b[0m \u001b[32m93.1/93.1 kB\u001b[0m \u001b[31m11.0 MB/s\u001b[0m eta \u001b[36m0:00:00\u001b[0m\n",
            "\u001b[2K     \u001b[90m━━━━━━━━━━━━━━━━━━━━━━━━━━━━━━━━━━━━━━\u001b[0m \u001b[32m114.5/114.5 kB\u001b[0m \u001b[31m14.6 MB/s\u001b[0m eta \u001b[36m0:00:00\u001b[0m\n",
            "\u001b[2K     \u001b[90m━━━━━━━━━━━━━━━━━━━━━━━━━━━━━━━━━━━━━━\u001b[0m \u001b[32m268.8/268.8 kB\u001b[0m \u001b[31m29.8 MB/s\u001b[0m eta \u001b[36m0:00:00\u001b[0m\n",
            "\u001b[2K     \u001b[90m━━━━━━━━━━━━━━━━━━━━━━━━━━━━━━━━━━━━━━\u001b[0m \u001b[32m149.6/149.6 kB\u001b[0m \u001b[31m19.2 MB/s\u001b[0m eta \u001b[36m0:00:00\u001b[0m\n",
            "\u001b[?25h  Building wheel for rouge_score (setup.py) ... \u001b[?25l\u001b[?25hdone\n",
            "\u001b[31mERROR: pip's dependency resolver does not currently take into account all the packages that are installed. This behaviour is the source of the following dependency conflicts.\n",
            "tensorflow 2.12.0 requires numpy<1.24,>=1.22, but you have numpy 1.24.3 which is incompatible.\n",
            "tensorflow 2.12.0 requires protobuf!=4.21.0,!=4.21.1,!=4.21.2,!=4.21.3,!=4.21.4,!=4.21.5,<5.0.0dev,>=3.20.3, but you have protobuf 3.20.2 which is incompatible.\n",
            "tensorflow-metadata 1.13.1 requires protobuf<5,>=3.20.3, but you have protobuf 3.20.2 which is incompatible.\u001b[0m\u001b[31m\n",
            "\u001b[0m"
          ]
        }
      ],
      "source": [
        "!pip install transformers[sentencepiece] datasets sacrebleu rouge_score py7zr -q\n"
      ],
      "id": "j6uhKNW1tEL1"
    },
    {
      "cell_type": "code",
      "execution_count": null,
      "metadata": {
        "colab": {
          "base_uri": "https://localhost:8080/"
        },
        "id": "Yi8omIbKoWO8",
        "outputId": "35736253-1773-4df9-8bdf-7ce48a03c80a"
      },
      "outputs": [
        {
          "output_type": "stream",
          "name": "stderr",
          "text": [
            "[nltk_data] Downloading package punkt to /root/nltk_data...\n",
            "[nltk_data]   Unzipping tokenizers/punkt.zip.\n"
          ]
        },
        {
          "output_type": "execute_result",
          "data": {
            "text/plain": [
              "True"
            ]
          },
          "metadata": {},
          "execution_count": 4
        }
      ],
      "source": [
        "from transformers import pipeline\n",
        "\n",
        "import matplotlib.pyplot as plt\n",
        "\n",
        "import pandas as pd\n",
        "#from datasets import load_dataset\n",
        "from datasets import load_metric\n",
        "\n",
        "from transformers import AutoModelForSeq2SeqLM, AutoTokenizer\n",
        "\n",
        "import nltk\n",
        "from nltk.tokenize import sent_tokenize\n",
        "\n",
        "from tqdm import tqdm\n",
        "import torch\n",
        "\n",
        "nltk.download(\"punkt\")"
      ],
      "id": "Yi8omIbKoWO8"
    },
    {
      "cell_type": "code",
      "execution_count": null,
      "metadata": {
        "colab": {
          "base_uri": "https://localhost:8080/"
        },
        "id": "DN97YglR01Yb",
        "outputId": "961250e8-0b54-4515-dea0-f38823793575"
      },
      "outputs": [
        {
          "name": "stdout",
          "output_type": "stream",
          "text": [
            "/bin/bash: nvidia-smi: command not found\n"
          ]
        }
      ],
      "source": [
        "!nvidia-smi"
      ],
      "id": "DN97YglR01Yb"
    },
    {
      "cell_type": "code",
      "execution_count": null,
      "metadata": {
        "id": "rcDbUMr9oWVl"
      },
      "outputs": [],
      "source": [
        "from datasets import load_dataset"
      ],
      "id": "rcDbUMr9oWVl"
    },
    {
      "cell_type": "code",
      "execution_count": null,
      "metadata": {
        "id": "YvCyV01ToWba"
      },
      "outputs": [],
      "source": [
        "from transformers import AutoModelForSeq2SeqLM, AutoTokenizer"
      ],
      "id": "YvCyV01ToWba"
    },
    {
      "cell_type": "code",
      "execution_count": null,
      "metadata": {
        "id": "pRTqaJY9oWf6",
        "colab": {
          "base_uri": "https://localhost:8080/",
          "height": 209,
          "referenced_widgets": [
            "29da4c6626484787af95c12a977b1667",
            "a3c35278df1345879e529267c501c29c",
            "fdefe886e15742fcb9d77b831a55b78d",
            "1c7dea9681d8406ca841082698e5639c",
            "b3b8d856f5aa4f1f999fbddfe163a42e",
            "b6e94b48d2dd420aab30c17bd19b7aff",
            "75437d479dc24e8f89e4677f77378d86",
            "06f0c13afd9e48c080bc68ce0ded4c3b",
            "c5f2334e8b5b4b009ff2163b475a5586",
            "93b195cbfe9d4a78935cebd93df0515b",
            "e4dce54e8c3b4d9d9d29774022ee12b6",
            "21c7329e73464f26aff414d58e0e6f3d",
            "4e5417d44aca44569dcd2d216cdbc125",
            "7c3bb0c9e5bb43f5a24b40b7a4e0ea51",
            "83952a81ff13465ca35a0d2b7d3e7b0d",
            "5c7ac0c0b8a04789a0ad314e3ef12c68",
            "107310bdc19042d1bfedba6200c318ba",
            "712416453274405f989d9600bd3ceee7",
            "5acdd836faaf40cf94dfd27851b71e87",
            "21925538036642198d129d3fd4426e83",
            "a21c6cb222884418973cd4caa23ae4dd",
            "4480591dbb0746a1b4b007e389eee15f",
            "e3f12e5cd6744d93921a57e8480e437e",
            "a6b88ffad0a9405abb51451c4e944fca",
            "5acdaa905c5842129424a4dd574e14fb",
            "f7fb600bf218411e9e9f7d55da5d534b",
            "05af40290db84b8c8581dc3ca85619a1",
            "1a220f9e0f7e4157ba1dc430685fa24d",
            "fc4436c6a860447cbae158bf1fd0db85",
            "e27d5bd3948748b69ee4d9ed4d9268a2",
            "3398f6c379a443029f96520132f493fd",
            "98425ff112a0413a9dd27230499bc906",
            "cde9b71fd73f4eb0a8bafea1313d34ed",
            "985c7733da73436ca9d49c8e48eea237",
            "f4c785e853934d55b2836ded7e1bf664",
            "18e896a52c6e47448b9ed9d1ca427fd1",
            "ae21c809ad804f42a4d8909f778113d8",
            "e74f6a6318344c8793bba9a1d2faac3f",
            "bfff4d5853114a6cb00dfa0f29d965e5",
            "5e7e7f50be564ed684e4fedaee5d601d",
            "4e77d0aced474d20a1ef319e5540a9ab",
            "8dc61d7330c04c7bac2cd43e4cbdb594",
            "df0178eda8754dfa9afcd9467fc9bac8",
            "ff7351c769724470bc7bc1b89ed747ca",
            "77c39f0df28742c18342be0507aab0ec",
            "c73cd041469f44da98dd6b207a2982fd",
            "3329987137d94f53bf0da65c23f26301",
            "0245beaddf134a79a9b01b5bd4731e92",
            "50b98b0e9fb540e6b89962b9126f1dc3",
            "9b828c6ed40d484f88b854f229eab41a",
            "22acbb6da07f4cd6b5f733b11cc50dd5",
            "4d97bb1272c041be8b5f5dc2cc4b178f",
            "7514fdd88849400d9e9e8c6741cce098",
            "a89e2bad04914d409a4505fbe5235e5c",
            "8b0beb14211240f3bb9a89ac5aa5b4af",
            "b4c39c1ec01340feb63644f5a2428da7",
            "0dfd67deda94478b9a5e4bb28d4901e6",
            "96ab3e7b6bfd42cab163bf9af81a386d",
            "68de0a9c71d74993a6327bb531fc0e06",
            "4e931a6a437d4077a74a0a595978420b",
            "85e7ea21921343e8b8ba7d0382653794",
            "c6d235fd69984d9f95b1c2a9066cacdf",
            "51b2a90ea2814558b0a070ee4c1c303a",
            "ba26374576374ae1aa80a91b6f934fde",
            "ead4e4edb46c435aad085c110e62f1b3",
            "663c00f463fd4ac9b4931c8b22eaa277"
          ]
        },
        "outputId": "9a2d3c59-bbaa-4b2f-b50c-519b353a31a7"
      },
      "outputs": [
        {
          "output_type": "display_data",
          "data": {
            "text/plain": [
              "Downloading (…)okenizer_config.json:   0%|          | 0.00/88.0 [00:00<?, ?B/s]"
            ],
            "application/vnd.jupyter.widget-view+json": {
              "version_major": 2,
              "version_minor": 0,
              "model_id": "29da4c6626484787af95c12a977b1667"
            }
          },
          "metadata": {}
        },
        {
          "output_type": "display_data",
          "data": {
            "text/plain": [
              "Downloading (…)lve/main/config.json:   0%|          | 0.00/1.12k [00:00<?, ?B/s]"
            ],
            "application/vnd.jupyter.widget-view+json": {
              "version_major": 2,
              "version_minor": 0,
              "model_id": "21c7329e73464f26aff414d58e0e6f3d"
            }
          },
          "metadata": {}
        },
        {
          "output_type": "display_data",
          "data": {
            "text/plain": [
              "Downloading (…)ve/main/spiece.model:   0%|          | 0.00/1.91M [00:00<?, ?B/s]"
            ],
            "application/vnd.jupyter.widget-view+json": {
              "version_major": 2,
              "version_minor": 0,
              "model_id": "e3f12e5cd6744d93921a57e8480e437e"
            }
          },
          "metadata": {}
        },
        {
          "output_type": "display_data",
          "data": {
            "text/plain": [
              "Downloading (…)cial_tokens_map.json:   0%|          | 0.00/65.0 [00:00<?, ?B/s]"
            ],
            "application/vnd.jupyter.widget-view+json": {
              "version_major": 2,
              "version_minor": 0,
              "model_id": "985c7733da73436ca9d49c8e48eea237"
            }
          },
          "metadata": {}
        },
        {
          "output_type": "display_data",
          "data": {
            "text/plain": [
              "Downloading pytorch_model.bin:   0%|          | 0.00/2.28G [00:00<?, ?B/s]"
            ],
            "application/vnd.jupyter.widget-view+json": {
              "version_major": 2,
              "version_minor": 0,
              "model_id": "77c39f0df28742c18342be0507aab0ec"
            }
          },
          "metadata": {}
        },
        {
          "output_type": "display_data",
          "data": {
            "text/plain": [
              "Downloading (…)neration_config.json:   0%|          | 0.00/280 [00:00<?, ?B/s]"
            ],
            "application/vnd.jupyter.widget-view+json": {
              "version_major": 2,
              "version_minor": 0,
              "model_id": "b4c39c1ec01340feb63644f5a2428da7"
            }
          },
          "metadata": {}
        }
      ],
      "source": [
        "device = 'cuda' if torch.cuda.is_available() else 'cpu'\n",
        "model_checkpoint = 'google/pegasus-multi_news'\n",
        "tokenizer = AutoTokenizer.from_pretrained(model_checkpoint)\n",
        "model_pegasus = AutoModelForSeq2SeqLM.from_pretrained(model_checkpoint).to(device)"
      ],
      "id": "pRTqaJY9oWf6"
    },
    {
      "cell_type": "code",
      "execution_count": null,
      "metadata": {
        "id": "CtIvE6XGrdBu"
      },
      "outputs": [],
      "source": [
        "device = 'cuda' if torch.cuda.is_available() else 'cpu'"
      ],
      "id": "CtIvE6XGrdBu"
    },
    {
      "cell_type": "code",
      "execution_count": null,
      "metadata": {
        "colab": {
          "base_uri": "https://localhost:8080/"
        },
        "id": "W8XVotRq2CTr",
        "outputId": "b202ad57-3eff-4d27-97fd-06c3e9793c24"
      },
      "outputs": [
        {
          "name": "stdout",
          "output_type": "stream",
          "text": [
            "0\n"
          ]
        }
      ],
      "source": [
        "device\n",
        "print(torch.cuda.memory_allocated())"
      ],
      "id": "W8XVotRq2CTr"
    },
    {
      "cell_type": "code",
      "execution_count": null,
      "metadata": {
        "colab": {
          "base_uri": "https://localhost:8080/",
          "height": 121,
          "referenced_widgets": [
            "ac95a1e5cf4a4e80b6864d8e0b2e0986",
            "388e02b51c804d53a227d7e6d518209a",
            "d5f27739f98c451f855eb4ae0ba36a97",
            "8f6215b1be2349db95f7cbedf4e360b9",
            "fffbe74a2e1444bc95bbd76e23bdaa89",
            "fdaf07d547384233bbaf83f31d34880d",
            "04e1e6d0acd245d48aaf6e3c5feb920c",
            "58b6dffaa7bd47ff98626559714d7701",
            "d8c9e2d23da94287a55af335bbf89477",
            "97c583d35bd64894853ccf97fa44b66a",
            "00d9584d1c534f91b86f1713a524ddbc"
          ]
        },
        "id": "PXexDU4f1SvK",
        "outputId": "b75147f0-f9dc-4ee2-cf89-0c4c5da22667"
      },
      "outputs": [
        {
          "name": "stderr",
          "output_type": "stream",
          "text": [
            "WARNING:datasets.builder:Found cached dataset cnn_dailymail (/root/.cache/huggingface/datasets/cnn_dailymail/3.0.0/3.0.0/1b3c71476f6d152c31c1730e83ccb08bcf23e348233f4fcc11e182248e6bf7de)\n"
          ]
        },
        {
          "data": {
            "application/vnd.jupyter.widget-view+json": {
              "model_id": "ac95a1e5cf4a4e80b6864d8e0b2e0986",
              "version_major": 2,
              "version_minor": 0
            },
            "text/plain": [
              "  0%|          | 0/3 [00:00<?, ?it/s]"
            ]
          },
          "metadata": {},
          "output_type": "display_data"
        },
        {
          "name": "stdout",
          "output_type": "stream",
          "text": [
            "Split lengths: [287113, 13368, 11490]\n",
            "Features: ['article', 'highlights', 'id']\n"
          ]
        }
      ],
      "source": [
        "dataset_cnn = load_dataset('cnn_dailymail','3.0.0')\n",
        "split_lengths = [len(dataset_cnn[split])for split in dataset_cnn]\n",
        "\n",
        "print(f\"Split lengths: {split_lengths}\")\n",
        "print(f\"Features: {dataset_cnn['train'].column_names}\")"
      ],
      "id": "PXexDU4f1SvK"
    },
    {
      "cell_type": "code",
      "execution_count": null,
      "metadata": {
        "colab": {
          "base_uri": "https://localhost:8080/"
        },
        "id": "h-5ZhbiU4Lss",
        "outputId": "ea5ccf27-33a6-43a0-cf15-34737205da26"
      },
      "outputs": [
        {
          "data": {
            "text/plain": [
              "DatasetDict({\n",
              "    train: Dataset({\n",
              "        features: ['article', 'highlights', 'id'],\n",
              "        num_rows: 287113\n",
              "    })\n",
              "    validation: Dataset({\n",
              "        features: ['article', 'highlights', 'id'],\n",
              "        num_rows: 13368\n",
              "    })\n",
              "    test: Dataset({\n",
              "        features: ['article', 'highlights', 'id'],\n",
              "        num_rows: 11490\n",
              "    })\n",
              "})"
            ]
          },
          "execution_count": 11,
          "metadata": {},
          "output_type": "execute_result"
        }
      ],
      "source": [
        "dataset_cnn"
      ],
      "id": "h-5ZhbiU4Lss"
    },
    {
      "cell_type": "code",
      "execution_count": null,
      "metadata": {
        "id": "9ghDCgNvherI"
      },
      "outputs": [],
      "source": [
        "#Evaluating the pretrained pegasus xsum on cnn dailymail dataset before training"
      ],
      "id": "9ghDCgNvherI"
    },
    {
      "cell_type": "code",
      "execution_count": null,
      "metadata": {
        "id": "x3e-uvLK56VN"
      },
      "outputs": [],
      "source": [
        "def generate_batch_sized_chunks(list_of_elements, batch_size):\n",
        "    \"\"\"split the dataset into smaller batches that we can process simultaneously\n",
        "    Yield successive batch-sized chunks from list_of_elements.\"\"\"\n",
        "    for i in range(0, len(list_of_elements), batch_size):\n",
        "        yield list_of_elements[i : i + batch_size]\n"
      ],
      "id": "x3e-uvLK56VN"
    },
    {
      "cell_type": "code",
      "execution_count": null,
      "metadata": {
        "id": "ZI-gWhQchxft"
      },
      "outputs": [],
      "source": [
        "def calculate_metric_on_test_ds(dataset, metric, model, tokenizer, \n",
        "                               batch_size=8, device=device, \n",
        "                               column_text=\"article\", \n",
        "                               column_summary=\"highlights\"):\n",
        "    article_batches = list(generate_batch_sized_chunks(dataset[column_text], batch_size))\n",
        "    target_batches = list(generate_batch_sized_chunks(dataset[column_summary], batch_size))\n",
        "\n",
        "    for article_batch, target_batch in tqdm(\n",
        "        zip(article_batches, target_batches), total=len(article_batches)):\n",
        "        \n",
        "        inputs = tokenizer(article_batch, max_length=1024,  truncation=True, \n",
        "                        padding=\"max_length\", return_tensors=\"pt\")\n",
        "        \n",
        "        # Filter out examples with a shorter sequence length\n",
        "        #mask = inputs['attention_mask'].sum(dim=1) > 0\n",
        "        #inputs = {k: v[mask] for k, v in inputs.items()}\n",
        "        #target_batch = [t for t, m in zip(target_batch, mask) if m]\n",
        "        \n",
        "        print(\"input_ids shape:\", inputs[\"input_ids\"].shape)\n",
        "        print(\"max input_ids value:\", inputs[\"input_ids\"].max())\n",
        "        print(\"vocabulary size:\", tokenizer.vocab_size)\n",
        "\n",
        "        summaries = model.generate(input_ids=inputs[\"input_ids\"].to(device),\n",
        "                         attention_mask=inputs[\"attention_mask\"].to(device), \n",
        "                         length_penalty=0.8, num_beams=8, max_length=128)\n",
        "        ''' parameter for length penalty ensures that the model does not generate sequences that are too long. '''\n",
        "       \n",
        "        print(summaries.shape)\n",
        "        print(inputs[\"attention_mask\"].shape)\n",
        "        # Finally, we decode the generated texts, \n",
        "        # replace the <n> token, and add the decoded texts with the references to the metric.\n",
        "        decoded_summaries = [tokenizer.decode(s, skip_special_tokens=True, \n",
        "                                clean_up_tokenization_spaces=True) \n",
        "               for s in summaries]      \n",
        "        \n",
        "        #decoded_summaries = [d.replace(\"<n>\", \" \") for d in decoded_summaries]\n",
        "        \n",
        "        \n",
        "        metric.add_batch(predictions=decoded_summaries, references=target_batch)\n",
        "        \n",
        "    #  Finally compute and return the ROUGE scores.\n",
        "    score = metric.compute(use_stemmer=False)\n",
        "    return score"
      ],
      "id": "ZI-gWhQchxft"
    },
    {
      "cell_type": "code",
      "execution_count": null,
      "metadata": {
        "colab": {
          "base_uri": "https://localhost:8080/",
          "height": 1000
        },
        "id": "8XG66LuQhxpS",
        "outputId": "ec635607-8b20-439a-944b-aeec79381218"
      },
      "outputs": [
        {
          "data": {
            "text/html": [
              "<pre style=\"white-space:pre;overflow-x:auto;line-height:normal;font-family:Menlo,'DejaVu Sans Mono',consolas,'Courier New',monospace\"><span style=\"color: #800000; text-decoration-color: #800000\">╭─────────────────────────────── </span><span style=\"color: #800000; text-decoration-color: #800000; font-weight: bold\">Traceback </span><span style=\"color: #bf7f7f; text-decoration-color: #bf7f7f; font-weight: bold\">(most recent call last)</span><span style=\"color: #800000; text-decoration-color: #800000\"> ────────────────────────────────╮</span>\n",
              "<span style=\"color: #800000; text-decoration-color: #800000\">│</span> in <span style=\"color: #00ff00; text-decoration-color: #00ff00\">&lt;cell line: 1&gt;</span>:<span style=\"color: #0000ff; text-decoration-color: #0000ff\">1</span>                                                                              <span style=\"color: #800000; text-decoration-color: #800000\">│</span>\n",
              "<span style=\"color: #800000; text-decoration-color: #800000\">│</span>                                                                                                  <span style=\"color: #800000; text-decoration-color: #800000\">│</span>\n",
              "<span style=\"color: #800000; text-decoration-color: #800000\">│</span> <span style=\"color: #bfbf7f; text-decoration-color: #bfbf7f\">/usr/local/lib/python3.10/dist-packages/transformers/pipelines/</span><span style=\"color: #808000; text-decoration-color: #808000; font-weight: bold\">__init__.py</span>:<span style=\"color: #0000ff; text-decoration-color: #0000ff\">788</span> in <span style=\"color: #00ff00; text-decoration-color: #00ff00\">pipeline</span>       <span style=\"color: #800000; text-decoration-color: #800000\">│</span>\n",
              "<span style=\"color: #800000; text-decoration-color: #800000\">│</span>                                                                                                  <span style=\"color: #800000; text-decoration-color: #800000\">│</span>\n",
              "<span style=\"color: #800000; text-decoration-color: #800000\">│</span>   <span style=\"color: #7f7f7f; text-decoration-color: #7f7f7f\">785 │   # Forced if framework already defined, inferred if it's None</span>                           <span style=\"color: #800000; text-decoration-color: #800000\">│</span>\n",
              "<span style=\"color: #800000; text-decoration-color: #800000\">│</span>   <span style=\"color: #7f7f7f; text-decoration-color: #7f7f7f\">786 │   # Will load the correct model if possible</span>                                              <span style=\"color: #800000; text-decoration-color: #800000\">│</span>\n",
              "<span style=\"color: #800000; text-decoration-color: #800000\">│</span>   <span style=\"color: #7f7f7f; text-decoration-color: #7f7f7f\">787 │   </span>model_classes = {<span style=\"color: #808000; text-decoration-color: #808000\">\"tf\"</span>: targeted_task[<span style=\"color: #808000; text-decoration-color: #808000\">\"tf\"</span>], <span style=\"color: #808000; text-decoration-color: #808000\">\"pt\"</span>: targeted_task[<span style=\"color: #808000; text-decoration-color: #808000\">\"pt\"</span>]}                 <span style=\"color: #800000; text-decoration-color: #800000\">│</span>\n",
              "<span style=\"color: #800000; text-decoration-color: #800000\">│</span> <span style=\"color: #800000; text-decoration-color: #800000\">❱ </span>788 <span style=\"color: #7f7f7f; text-decoration-color: #7f7f7f\">│   </span>framework, model = infer_framework_load_model(                                         <span style=\"color: #800000; text-decoration-color: #800000\">│</span>\n",
              "<span style=\"color: #800000; text-decoration-color: #800000\">│</span>   <span style=\"color: #7f7f7f; text-decoration-color: #7f7f7f\">789 │   │   </span>model,                                                                             <span style=\"color: #800000; text-decoration-color: #800000\">│</span>\n",
              "<span style=\"color: #800000; text-decoration-color: #800000\">│</span>   <span style=\"color: #7f7f7f; text-decoration-color: #7f7f7f\">790 │   │   </span>model_classes=model_classes,                                                       <span style=\"color: #800000; text-decoration-color: #800000\">│</span>\n",
              "<span style=\"color: #800000; text-decoration-color: #800000\">│</span>   <span style=\"color: #7f7f7f; text-decoration-color: #7f7f7f\">791 │   │   </span>config=config,                                                                     <span style=\"color: #800000; text-decoration-color: #800000\">│</span>\n",
              "<span style=\"color: #800000; text-decoration-color: #800000\">│</span>                                                                                                  <span style=\"color: #800000; text-decoration-color: #800000\">│</span>\n",
              "<span style=\"color: #800000; text-decoration-color: #800000\">│</span> <span style=\"color: #bfbf7f; text-decoration-color: #bfbf7f\">/usr/local/lib/python3.10/dist-packages/transformers/pipelines/</span><span style=\"color: #808000; text-decoration-color: #808000; font-weight: bold\">base.py</span>:<span style=\"color: #0000ff; text-decoration-color: #0000ff\">270</span> in                    <span style=\"color: #800000; text-decoration-color: #800000\">│</span>\n",
              "<span style=\"color: #800000; text-decoration-color: #800000\">│</span> <span style=\"color: #00ff00; text-decoration-color: #00ff00\">infer_framework_load_model</span>                                                                       <span style=\"color: #800000; text-decoration-color: #800000\">│</span>\n",
              "<span style=\"color: #800000; text-decoration-color: #800000\">│</span>                                                                                                  <span style=\"color: #800000; text-decoration-color: #800000\">│</span>\n",
              "<span style=\"color: #800000; text-decoration-color: #800000\">│</span>   <span style=\"color: #7f7f7f; text-decoration-color: #7f7f7f\"> 267 │   │   │   │   </span>)                                                                         <span style=\"color: #800000; text-decoration-color: #800000\">│</span>\n",
              "<span style=\"color: #800000; text-decoration-color: #800000\">│</span>   <span style=\"color: #7f7f7f; text-decoration-color: #7f7f7f\"> 268 │   │   │   </span>                                                                              <span style=\"color: #800000; text-decoration-color: #800000\">│</span>\n",
              "<span style=\"color: #800000; text-decoration-color: #800000\">│</span>   <span style=\"color: #7f7f7f; text-decoration-color: #7f7f7f\"> 269 │   │   │   </span><span style=\"color: #0000ff; text-decoration-color: #0000ff\">try</span>:                                                                          <span style=\"color: #800000; text-decoration-color: #800000\">│</span>\n",
              "<span style=\"color: #800000; text-decoration-color: #800000\">│</span> <span style=\"color: #800000; text-decoration-color: #800000\">❱ </span> 270 <span style=\"color: #7f7f7f; text-decoration-color: #7f7f7f\">│   │   │   │   </span>model = model_class.from_pretrained(model, **kwargs)                      <span style=\"color: #800000; text-decoration-color: #800000\">│</span>\n",
              "<span style=\"color: #800000; text-decoration-color: #800000\">│</span>   <span style=\"color: #7f7f7f; text-decoration-color: #7f7f7f\"> 271 │   │   │   │   </span><span style=\"color: #0000ff; text-decoration-color: #0000ff\">if</span> <span style=\"color: #00ffff; text-decoration-color: #00ffff\">hasattr</span>(model, <span style=\"color: #808000; text-decoration-color: #808000\">\"eval\"</span>):                                                <span style=\"color: #800000; text-decoration-color: #800000\">│</span>\n",
              "<span style=\"color: #800000; text-decoration-color: #800000\">│</span>   <span style=\"color: #7f7f7f; text-decoration-color: #7f7f7f\"> 272 │   │   │   │   │   </span>model = model.eval()                                                  <span style=\"color: #800000; text-decoration-color: #800000\">│</span>\n",
              "<span style=\"color: #800000; text-decoration-color: #800000\">│</span>   <span style=\"color: #7f7f7f; text-decoration-color: #7f7f7f\"> 273 │   │   │   │   # Stop loading on the first successful load.</span>                              <span style=\"color: #800000; text-decoration-color: #800000\">│</span>\n",
              "<span style=\"color: #800000; text-decoration-color: #800000\">│</span>                                                                                                  <span style=\"color: #800000; text-decoration-color: #800000\">│</span>\n",
              "<span style=\"color: #800000; text-decoration-color: #800000\">│</span> <span style=\"color: #bfbf7f; text-decoration-color: #bfbf7f\">/usr/local/lib/python3.10/dist-packages/transformers/models/auto/</span><span style=\"color: #808000; text-decoration-color: #808000; font-weight: bold\">auto_factory.py</span>:<span style=\"color: #0000ff; text-decoration-color: #0000ff\">467</span> in          <span style=\"color: #800000; text-decoration-color: #800000\">│</span>\n",
              "<span style=\"color: #800000; text-decoration-color: #800000\">│</span> <span style=\"color: #00ff00; text-decoration-color: #00ff00\">from_pretrained</span>                                                                                  <span style=\"color: #800000; text-decoration-color: #800000\">│</span>\n",
              "<span style=\"color: #800000; text-decoration-color: #800000\">│</span>                                                                                                  <span style=\"color: #800000; text-decoration-color: #800000\">│</span>\n",
              "<span style=\"color: #800000; text-decoration-color: #800000\">│</span>   <span style=\"color: #7f7f7f; text-decoration-color: #7f7f7f\">464 │   │   │   </span>)                                                                              <span style=\"color: #800000; text-decoration-color: #800000\">│</span>\n",
              "<span style=\"color: #800000; text-decoration-color: #800000\">│</span>   <span style=\"color: #7f7f7f; text-decoration-color: #7f7f7f\">465 │   │   </span><span style=\"color: #0000ff; text-decoration-color: #0000ff\">elif</span> <span style=\"color: #00ffff; text-decoration-color: #00ffff\">type</span>(config) <span style=\"color: #ff00ff; text-decoration-color: #ff00ff\">in</span> <span style=\"color: #00ffff; text-decoration-color: #00ffff\">cls</span>._model_mapping.keys():                                    <span style=\"color: #800000; text-decoration-color: #800000\">│</span>\n",
              "<span style=\"color: #800000; text-decoration-color: #800000\">│</span>   <span style=\"color: #7f7f7f; text-decoration-color: #7f7f7f\">466 │   │   │   </span>model_class = _get_model_class(config, <span style=\"color: #00ffff; text-decoration-color: #00ffff\">cls</span>._model_mapping)                     <span style=\"color: #800000; text-decoration-color: #800000\">│</span>\n",
              "<span style=\"color: #800000; text-decoration-color: #800000\">│</span> <span style=\"color: #800000; text-decoration-color: #800000\">❱ </span>467 <span style=\"color: #7f7f7f; text-decoration-color: #7f7f7f\">│   │   │   </span><span style=\"color: #0000ff; text-decoration-color: #0000ff\">return</span> model_class.from_pretrained(                                            <span style=\"color: #800000; text-decoration-color: #800000\">│</span>\n",
              "<span style=\"color: #800000; text-decoration-color: #800000\">│</span>   <span style=\"color: #7f7f7f; text-decoration-color: #7f7f7f\">468 │   │   │   │   </span>pretrained_model_name_or_path, *model_args, config=config, **hub_kwargs,   <span style=\"color: #800000; text-decoration-color: #800000\">│</span>\n",
              "<span style=\"color: #800000; text-decoration-color: #800000\">│</span>   <span style=\"color: #7f7f7f; text-decoration-color: #7f7f7f\">469 │   │   │   </span>)                                                                              <span style=\"color: #800000; text-decoration-color: #800000\">│</span>\n",
              "<span style=\"color: #800000; text-decoration-color: #800000\">│</span>   <span style=\"color: #7f7f7f; text-decoration-color: #7f7f7f\">470 │   │   </span><span style=\"color: #0000ff; text-decoration-color: #0000ff\">raise</span> <span style=\"color: #00ffff; text-decoration-color: #00ffff\">ValueError</span>(                                                                  <span style=\"color: #800000; text-decoration-color: #800000\">│</span>\n",
              "<span style=\"color: #800000; text-decoration-color: #800000\">│</span>                                                                                                  <span style=\"color: #800000; text-decoration-color: #800000\">│</span>\n",
              "<span style=\"color: #800000; text-decoration-color: #800000\">│</span> <span style=\"color: #bfbf7f; text-decoration-color: #bfbf7f\">/usr/local/lib/python3.10/dist-packages/transformers/</span><span style=\"color: #808000; text-decoration-color: #808000; font-weight: bold\">modeling_utils.py</span>:<span style=\"color: #0000ff; text-decoration-color: #0000ff\">2611</span> in <span style=\"color: #00ff00; text-decoration-color: #00ff00\">from_pretrained</span>   <span style=\"color: #800000; text-decoration-color: #800000\">│</span>\n",
              "<span style=\"color: #800000; text-decoration-color: #800000\">│</span>                                                                                                  <span style=\"color: #800000; text-decoration-color: #800000\">│</span>\n",
              "<span style=\"color: #800000; text-decoration-color: #800000\">│</span>   <span style=\"color: #7f7f7f; text-decoration-color: #7f7f7f\">2608 │   │   │   </span>init_contexts.append(init_empty_weights())                                    <span style=\"color: #800000; text-decoration-color: #800000\">│</span>\n",
              "<span style=\"color: #800000; text-decoration-color: #800000\">│</span>   <span style=\"color: #7f7f7f; text-decoration-color: #7f7f7f\">2609 │   │   </span>                                                                                  <span style=\"color: #800000; text-decoration-color: #800000\">│</span>\n",
              "<span style=\"color: #800000; text-decoration-color: #800000\">│</span>   <span style=\"color: #7f7f7f; text-decoration-color: #7f7f7f\">2610 │   │   </span><span style=\"color: #0000ff; text-decoration-color: #0000ff\">with</span> ContextManagers(init_contexts):                                              <span style=\"color: #800000; text-decoration-color: #800000\">│</span>\n",
              "<span style=\"color: #800000; text-decoration-color: #800000\">│</span> <span style=\"color: #800000; text-decoration-color: #800000\">❱ </span>2611 <span style=\"color: #7f7f7f; text-decoration-color: #7f7f7f\">│   │   │   </span>model = <span style=\"color: #00ffff; text-decoration-color: #00ffff\">cls</span>(config, *model_args, **model_kwargs)                              <span style=\"color: #800000; text-decoration-color: #800000\">│</span>\n",
              "<span style=\"color: #800000; text-decoration-color: #800000\">│</span>   <span style=\"color: #7f7f7f; text-decoration-color: #7f7f7f\">2612 │   │   </span>                                                                                  <span style=\"color: #800000; text-decoration-color: #800000\">│</span>\n",
              "<span style=\"color: #800000; text-decoration-color: #800000\">│</span>   <span style=\"color: #7f7f7f; text-decoration-color: #7f7f7f\">2613 │   │   # Check first if we are `from_pt`</span>                                                 <span style=\"color: #800000; text-decoration-color: #800000\">│</span>\n",
              "<span style=\"color: #800000; text-decoration-color: #800000\">│</span>   <span style=\"color: #7f7f7f; text-decoration-color: #7f7f7f\">2614 │   │   </span><span style=\"color: #0000ff; text-decoration-color: #0000ff\">if</span> use_keep_in_fp32_modules:                                                      <span style=\"color: #800000; text-decoration-color: #800000\">│</span>\n",
              "<span style=\"color: #800000; text-decoration-color: #800000\">│</span>                                                                                                  <span style=\"color: #800000; text-decoration-color: #800000\">│</span>\n",
              "<span style=\"color: #800000; text-decoration-color: #800000\">│</span> <span style=\"color: #bfbf7f; text-decoration-color: #bfbf7f\">/usr/local/lib/python3.10/dist-packages/transformers/models/pegasus/</span><span style=\"color: #808000; text-decoration-color: #808000; font-weight: bold\">modeling_pegasus.py</span>:<span style=\"color: #0000ff; text-decoration-color: #0000ff\">1318</span> in  <span style=\"color: #800000; text-decoration-color: #800000\">│</span>\n",
              "<span style=\"color: #800000; text-decoration-color: #800000\">│</span> <span style=\"color: #00ff00; text-decoration-color: #00ff00\">__init__</span>                                                                                         <span style=\"color: #800000; text-decoration-color: #800000\">│</span>\n",
              "<span style=\"color: #800000; text-decoration-color: #800000\">│</span>                                                                                                  <span style=\"color: #800000; text-decoration-color: #800000\">│</span>\n",
              "<span style=\"color: #800000; text-decoration-color: #800000\">│</span>   <span style=\"color: #7f7f7f; text-decoration-color: #7f7f7f\">1315 │   </span>                                                                                      <span style=\"color: #800000; text-decoration-color: #800000\">│</span>\n",
              "<span style=\"color: #800000; text-decoration-color: #800000\">│</span>   <span style=\"color: #7f7f7f; text-decoration-color: #7f7f7f\">1316 │   </span><span style=\"color: #0000ff; text-decoration-color: #0000ff\">def</span> <span style=\"color: #00ff00; text-decoration-color: #00ff00\">__init__</span>(<span style=\"color: #00ffff; text-decoration-color: #00ffff\">self</span>, config: PegasusConfig):                                            <span style=\"color: #800000; text-decoration-color: #800000\">│</span>\n",
              "<span style=\"color: #800000; text-decoration-color: #800000\">│</span>   <span style=\"color: #7f7f7f; text-decoration-color: #7f7f7f\">1317 │   │   </span><span style=\"color: #00ffff; text-decoration-color: #00ffff\">super</span>().<span style=\"color: #00ff00; text-decoration-color: #00ff00\">__init__</span>(config)                                                          <span style=\"color: #800000; text-decoration-color: #800000\">│</span>\n",
              "<span style=\"color: #800000; text-decoration-color: #800000\">│</span> <span style=\"color: #800000; text-decoration-color: #800000\">❱ </span>1318 <span style=\"color: #7f7f7f; text-decoration-color: #7f7f7f\">│   │   </span><span style=\"color: #00ffff; text-decoration-color: #00ffff\">self</span>.model = PegasusModel(config)                                                 <span style=\"color: #800000; text-decoration-color: #800000\">│</span>\n",
              "<span style=\"color: #800000; text-decoration-color: #800000\">│</span>   <span style=\"color: #7f7f7f; text-decoration-color: #7f7f7f\">1319 │   │   </span><span style=\"color: #00ffff; text-decoration-color: #00ffff\">self</span>.register_buffer(<span style=\"color: #808000; text-decoration-color: #808000\">\"final_logits_bias\"</span>, torch.zeros((<span style=\"color: #0000ff; text-decoration-color: #0000ff\">1</span>, <span style=\"color: #00ffff; text-decoration-color: #00ffff\">self</span>.model.shared.num_  <span style=\"color: #800000; text-decoration-color: #800000\">│</span>\n",
              "<span style=\"color: #800000; text-decoration-color: #800000\">│</span>   <span style=\"color: #7f7f7f; text-decoration-color: #7f7f7f\">1320 │   │   </span><span style=\"color: #00ffff; text-decoration-color: #00ffff\">self</span>.lm_head = nn.Linear(config.d_model, <span style=\"color: #00ffff; text-decoration-color: #00ffff\">self</span>.model.shared.num_embeddings, bias=  <span style=\"color: #800000; text-decoration-color: #800000\">│</span>\n",
              "<span style=\"color: #800000; text-decoration-color: #800000\">│</span>   <span style=\"color: #7f7f7f; text-decoration-color: #7f7f7f\">1321 </span>                                                                                          <span style=\"color: #800000; text-decoration-color: #800000\">│</span>\n",
              "<span style=\"color: #800000; text-decoration-color: #800000\">│</span>                                                                                                  <span style=\"color: #800000; text-decoration-color: #800000\">│</span>\n",
              "<span style=\"color: #800000; text-decoration-color: #800000\">│</span> <span style=\"color: #bfbf7f; text-decoration-color: #bfbf7f\">/usr/local/lib/python3.10/dist-packages/transformers/models/pegasus/</span><span style=\"color: #808000; text-decoration-color: #808000; font-weight: bold\">modeling_pegasus.py</span>:<span style=\"color: #0000ff; text-decoration-color: #0000ff\">1160</span> in  <span style=\"color: #800000; text-decoration-color: #800000\">│</span>\n",
              "<span style=\"color: #800000; text-decoration-color: #800000\">│</span> <span style=\"color: #00ff00; text-decoration-color: #00ff00\">__init__</span>                                                                                         <span style=\"color: #800000; text-decoration-color: #800000\">│</span>\n",
              "<span style=\"color: #800000; text-decoration-color: #800000\">│</span>                                                                                                  <span style=\"color: #800000; text-decoration-color: #800000\">│</span>\n",
              "<span style=\"color: #800000; text-decoration-color: #800000\">│</span>   <span style=\"color: #7f7f7f; text-decoration-color: #7f7f7f\">1157 │   │   </span><span style=\"color: #00ffff; text-decoration-color: #00ffff\">super</span>().<span style=\"color: #00ff00; text-decoration-color: #00ff00\">__init__</span>(config)                                                          <span style=\"color: #800000; text-decoration-color: #800000\">│</span>\n",
              "<span style=\"color: #800000; text-decoration-color: #800000\">│</span>   <span style=\"color: #7f7f7f; text-decoration-color: #7f7f7f\">1158 │   │   </span>                                                                                  <span style=\"color: #800000; text-decoration-color: #800000\">│</span>\n",
              "<span style=\"color: #800000; text-decoration-color: #800000\">│</span>   <span style=\"color: #7f7f7f; text-decoration-color: #7f7f7f\">1159 │   │   </span>padding_idx, vocab_size = config.pad_token_id, config.vocab_size                  <span style=\"color: #800000; text-decoration-color: #800000\">│</span>\n",
              "<span style=\"color: #800000; text-decoration-color: #800000\">│</span> <span style=\"color: #800000; text-decoration-color: #800000\">❱ </span>1160 <span style=\"color: #7f7f7f; text-decoration-color: #7f7f7f\">│   │   </span><span style=\"color: #00ffff; text-decoration-color: #00ffff\">self</span>.shared = nn.Embedding(vocab_size, config.d_model, padding_idx)               <span style=\"color: #800000; text-decoration-color: #800000\">│</span>\n",
              "<span style=\"color: #800000; text-decoration-color: #800000\">│</span>   <span style=\"color: #7f7f7f; text-decoration-color: #7f7f7f\">1161 │   │   </span>                                                                                  <span style=\"color: #800000; text-decoration-color: #800000\">│</span>\n",
              "<span style=\"color: #800000; text-decoration-color: #800000\">│</span>   <span style=\"color: #7f7f7f; text-decoration-color: #7f7f7f\">1162 │   │   </span><span style=\"color: #00ffff; text-decoration-color: #00ffff\">self</span>.encoder = PegasusEncoder(config, <span style=\"color: #00ffff; text-decoration-color: #00ffff\">self</span>.shared)                                <span style=\"color: #800000; text-decoration-color: #800000\">│</span>\n",
              "<span style=\"color: #800000; text-decoration-color: #800000\">│</span>   <span style=\"color: #7f7f7f; text-decoration-color: #7f7f7f\">1163 │   │   </span><span style=\"color: #00ffff; text-decoration-color: #00ffff\">self</span>.decoder = PegasusDecoder(config, <span style=\"color: #00ffff; text-decoration-color: #00ffff\">self</span>.shared)                                <span style=\"color: #800000; text-decoration-color: #800000\">│</span>\n",
              "<span style=\"color: #800000; text-decoration-color: #800000\">│</span>                                                                                                  <span style=\"color: #800000; text-decoration-color: #800000\">│</span>\n",
              "<span style=\"color: #800000; text-decoration-color: #800000\">│</span> <span style=\"color: #bfbf7f; text-decoration-color: #bfbf7f\">/usr/local/lib/python3.10/dist-packages/torch/nn/modules/</span><span style=\"color: #808000; text-decoration-color: #808000; font-weight: bold\">sparse.py</span>:<span style=\"color: #0000ff; text-decoration-color: #0000ff\">144</span> in <span style=\"color: #00ff00; text-decoration-color: #00ff00\">__init__</span>               <span style=\"color: #800000; text-decoration-color: #800000\">│</span>\n",
              "<span style=\"color: #800000; text-decoration-color: #800000\">│</span>                                                                                                  <span style=\"color: #800000; text-decoration-color: #800000\">│</span>\n",
              "<span style=\"color: #800000; text-decoration-color: #800000\">│</span>   <span style=\"color: #7f7f7f; text-decoration-color: #7f7f7f\">141 │   │   </span><span style=\"color: #0000ff; text-decoration-color: #0000ff\">if</span> _weight <span style=\"color: #ff00ff; text-decoration-color: #ff00ff\">is</span> <span style=\"color: #0000ff; text-decoration-color: #0000ff\">None</span>:                                                                <span style=\"color: #800000; text-decoration-color: #800000\">│</span>\n",
              "<span style=\"color: #800000; text-decoration-color: #800000\">│</span>   <span style=\"color: #7f7f7f; text-decoration-color: #7f7f7f\">142 │   │   │   </span><span style=\"color: #00ffff; text-decoration-color: #00ffff\">self</span>.weight = Parameter(torch.empty((num_embeddings, embedding_dim), **facto   <span style=\"color: #800000; text-decoration-color: #800000\">│</span>\n",
              "<span style=\"color: #800000; text-decoration-color: #800000\">│</span>   <span style=\"color: #7f7f7f; text-decoration-color: #7f7f7f\">143 │   │   │   │   │   │   │   │   │   </span>requires_grad=<span style=\"color: #ff00ff; text-decoration-color: #ff00ff\">not</span> _freeze)                             <span style=\"color: #800000; text-decoration-color: #800000\">│</span>\n",
              "<span style=\"color: #800000; text-decoration-color: #800000\">│</span> <span style=\"color: #800000; text-decoration-color: #800000\">❱ </span>144 <span style=\"color: #7f7f7f; text-decoration-color: #7f7f7f\">│   │   │   </span><span style=\"color: #00ffff; text-decoration-color: #00ffff\">self</span>.reset_parameters()                                                        <span style=\"color: #800000; text-decoration-color: #800000\">│</span>\n",
              "<span style=\"color: #800000; text-decoration-color: #800000\">│</span>   <span style=\"color: #7f7f7f; text-decoration-color: #7f7f7f\">145 │   │   </span><span style=\"color: #0000ff; text-decoration-color: #0000ff\">else</span>:                                                                              <span style=\"color: #800000; text-decoration-color: #800000\">│</span>\n",
              "<span style=\"color: #800000; text-decoration-color: #800000\">│</span>   <span style=\"color: #7f7f7f; text-decoration-color: #7f7f7f\">146 │   │   │   </span><span style=\"color: #0000ff; text-decoration-color: #0000ff\">assert</span> <span style=\"color: #00ffff; text-decoration-color: #00ffff\">list</span>(_weight.shape) == [num_embeddings, embedding_dim], \\               <span style=\"color: #800000; text-decoration-color: #800000\">│</span>\n",
              "<span style=\"color: #800000; text-decoration-color: #800000\">│</span>   <span style=\"color: #7f7f7f; text-decoration-color: #7f7f7f\">147 │   │   │   │   </span><span style=\"color: #808000; text-decoration-color: #808000\">'Shape of weight does not match num_embeddings and embedding_dim'</span>          <span style=\"color: #800000; text-decoration-color: #800000\">│</span>\n",
              "<span style=\"color: #800000; text-decoration-color: #800000\">│</span>                                                                                                  <span style=\"color: #800000; text-decoration-color: #800000\">│</span>\n",
              "<span style=\"color: #800000; text-decoration-color: #800000\">│</span> <span style=\"color: #bfbf7f; text-decoration-color: #bfbf7f\">/usr/local/lib/python3.10/dist-packages/torch/nn/modules/</span><span style=\"color: #808000; text-decoration-color: #808000; font-weight: bold\">sparse.py</span>:<span style=\"color: #0000ff; text-decoration-color: #0000ff\">153</span> in <span style=\"color: #00ff00; text-decoration-color: #00ff00\">reset_parameters</span>       <span style=\"color: #800000; text-decoration-color: #800000\">│</span>\n",
              "<span style=\"color: #800000; text-decoration-color: #800000\">│</span>                                                                                                  <span style=\"color: #800000; text-decoration-color: #800000\">│</span>\n",
              "<span style=\"color: #800000; text-decoration-color: #800000\">│</span>   <span style=\"color: #7f7f7f; text-decoration-color: #7f7f7f\">150 │   │   </span><span style=\"color: #00ffff; text-decoration-color: #00ffff\">self</span>.sparse = sparse                                                               <span style=\"color: #800000; text-decoration-color: #800000\">│</span>\n",
              "<span style=\"color: #800000; text-decoration-color: #800000\">│</span>   <span style=\"color: #7f7f7f; text-decoration-color: #7f7f7f\">151 │   </span>                                                                                       <span style=\"color: #800000; text-decoration-color: #800000\">│</span>\n",
              "<span style=\"color: #800000; text-decoration-color: #800000\">│</span>   <span style=\"color: #7f7f7f; text-decoration-color: #7f7f7f\">152 │   </span><span style=\"color: #0000ff; text-decoration-color: #0000ff\">def</span> <span style=\"color: #00ff00; text-decoration-color: #00ff00\">reset_parameters</span>(<span style=\"color: #00ffff; text-decoration-color: #00ffff\">self</span>) -&gt; <span style=\"color: #0000ff; text-decoration-color: #0000ff\">None</span>:                                                    <span style=\"color: #800000; text-decoration-color: #800000\">│</span>\n",
              "<span style=\"color: #800000; text-decoration-color: #800000\">│</span> <span style=\"color: #800000; text-decoration-color: #800000\">❱ </span>153 <span style=\"color: #7f7f7f; text-decoration-color: #7f7f7f\">│   │   </span>init.normal_(<span style=\"color: #00ffff; text-decoration-color: #00ffff\">self</span>.weight)                                                          <span style=\"color: #800000; text-decoration-color: #800000\">│</span>\n",
              "<span style=\"color: #800000; text-decoration-color: #800000\">│</span>   <span style=\"color: #7f7f7f; text-decoration-color: #7f7f7f\">154 │   │   </span><span style=\"color: #00ffff; text-decoration-color: #00ffff\">self</span>._fill_padding_idx_with_zero()                                                 <span style=\"color: #800000; text-decoration-color: #800000\">│</span>\n",
              "<span style=\"color: #800000; text-decoration-color: #800000\">│</span>   <span style=\"color: #7f7f7f; text-decoration-color: #7f7f7f\">155 │   </span>                                                                                       <span style=\"color: #800000; text-decoration-color: #800000\">│</span>\n",
              "<span style=\"color: #800000; text-decoration-color: #800000\">│</span>   <span style=\"color: #7f7f7f; text-decoration-color: #7f7f7f\">156 │   </span><span style=\"color: #0000ff; text-decoration-color: #0000ff\">def</span> <span style=\"color: #00ff00; text-decoration-color: #00ff00\">_fill_padding_idx_with_zero</span>(<span style=\"color: #00ffff; text-decoration-color: #00ffff\">self</span>) -&gt; <span style=\"color: #0000ff; text-decoration-color: #0000ff\">None</span>:                                         <span style=\"color: #800000; text-decoration-color: #800000\">│</span>\n",
              "<span style=\"color: #800000; text-decoration-color: #800000\">│</span>                                                                                                  <span style=\"color: #800000; text-decoration-color: #800000\">│</span>\n",
              "<span style=\"color: #800000; text-decoration-color: #800000\">│</span> <span style=\"color: #bfbf7f; text-decoration-color: #bfbf7f\">/usr/local/lib/python3.10/dist-packages/torch/nn/</span><span style=\"color: #808000; text-decoration-color: #808000; font-weight: bold\">init.py</span>:<span style=\"color: #0000ff; text-decoration-color: #0000ff\">155</span> in <span style=\"color: #00ff00; text-decoration-color: #00ff00\">normal_</span>                          <span style=\"color: #800000; text-decoration-color: #800000\">│</span>\n",
              "<span style=\"color: #800000; text-decoration-color: #800000\">│</span>                                                                                                  <span style=\"color: #800000; text-decoration-color: #800000\">│</span>\n",
              "<span style=\"color: #800000; text-decoration-color: #800000\">│</span>   <span style=\"color: #7f7f7f; text-decoration-color: #7f7f7f\">152 </span><span style=\"color: #bfbf7f; text-decoration-color: #bfbf7f\">│   </span><span style=\"color: #808000; text-decoration-color: #808000\">\"\"\"</span>                                                                                    <span style=\"color: #800000; text-decoration-color: #800000\">│</span>\n",
              "<span style=\"color: #800000; text-decoration-color: #800000\">│</span>   <span style=\"color: #7f7f7f; text-decoration-color: #7f7f7f\">153 │   </span><span style=\"color: #0000ff; text-decoration-color: #0000ff\">if</span> torch.overrides.has_torch_function_variadic(tensor):                                <span style=\"color: #800000; text-decoration-color: #800000\">│</span>\n",
              "<span style=\"color: #800000; text-decoration-color: #800000\">│</span>   <span style=\"color: #7f7f7f; text-decoration-color: #7f7f7f\">154 │   │   </span><span style=\"color: #0000ff; text-decoration-color: #0000ff\">return</span> torch.overrides.handle_torch_function(normal_, (tensor,), tensor=tensor,    <span style=\"color: #800000; text-decoration-color: #800000\">│</span>\n",
              "<span style=\"color: #800000; text-decoration-color: #800000\">│</span> <span style=\"color: #800000; text-decoration-color: #800000\">❱ </span>155 <span style=\"color: #7f7f7f; text-decoration-color: #7f7f7f\">│   </span><span style=\"color: #0000ff; text-decoration-color: #0000ff\">return</span> _no_grad_normal_(tensor, mean, std)                                             <span style=\"color: #800000; text-decoration-color: #800000\">│</span>\n",
              "<span style=\"color: #800000; text-decoration-color: #800000\">│</span>   <span style=\"color: #7f7f7f; text-decoration-color: #7f7f7f\">156 </span>                                                                                           <span style=\"color: #800000; text-decoration-color: #800000\">│</span>\n",
              "<span style=\"color: #800000; text-decoration-color: #800000\">│</span>   <span style=\"color: #7f7f7f; text-decoration-color: #7f7f7f\">157 </span><span style=\"color: #0000ff; text-decoration-color: #0000ff\">def</span> <span style=\"color: #00ff00; text-decoration-color: #00ff00\">trunc_normal_</span>(tensor: Tensor, mean: <span style=\"color: #00ffff; text-decoration-color: #00ffff\">float</span> = <span style=\"color: #0000ff; text-decoration-color: #0000ff\">0.</span>, std: <span style=\"color: #00ffff; text-decoration-color: #00ffff\">float</span> = <span style=\"color: #0000ff; text-decoration-color: #0000ff\">1.</span>, a: <span style=\"color: #00ffff; text-decoration-color: #00ffff\">float</span> = -<span style=\"color: #0000ff; text-decoration-color: #0000ff\">2.</span>, b:    <span style=\"color: #800000; text-decoration-color: #800000\">│</span>\n",
              "<span style=\"color: #800000; text-decoration-color: #800000\">│</span>   <span style=\"color: #7f7f7f; text-decoration-color: #7f7f7f\">158 </span><span style=\"color: #bfbfbf; text-decoration-color: #bfbfbf\">│   </span><span style=\"color: #808000; text-decoration-color: #808000\">r\"\"\"Fills the input Tensor with values drawn from a truncated</span>                          <span style=\"color: #800000; text-decoration-color: #800000\">│</span>\n",
              "<span style=\"color: #800000; text-decoration-color: #800000\">│</span>                                                                                                  <span style=\"color: #800000; text-decoration-color: #800000\">│</span>\n",
              "<span style=\"color: #800000; text-decoration-color: #800000\">│</span> <span style=\"color: #bfbf7f; text-decoration-color: #bfbf7f\">/usr/local/lib/python3.10/dist-packages/torch/nn/</span><span style=\"color: #808000; text-decoration-color: #808000; font-weight: bold\">init.py</span>:<span style=\"color: #0000ff; text-decoration-color: #0000ff\">19</span> in <span style=\"color: #00ff00; text-decoration-color: #00ff00\">_no_grad_normal_</span>                  <span style=\"color: #800000; text-decoration-color: #800000\">│</span>\n",
              "<span style=\"color: #800000; text-decoration-color: #800000\">│</span>                                                                                                  <span style=\"color: #800000; text-decoration-color: #800000\">│</span>\n",
              "<span style=\"color: #800000; text-decoration-color: #800000\">│</span>   <span style=\"color: #7f7f7f; text-decoration-color: #7f7f7f\"> 16 </span>                                                                                           <span style=\"color: #800000; text-decoration-color: #800000\">│</span>\n",
              "<span style=\"color: #800000; text-decoration-color: #800000\">│</span>   <span style=\"color: #7f7f7f; text-decoration-color: #7f7f7f\"> 17 </span><span style=\"color: #0000ff; text-decoration-color: #0000ff\">def</span> <span style=\"color: #00ff00; text-decoration-color: #00ff00\">_no_grad_normal_</span>(tensor, mean, std):                                                   <span style=\"color: #800000; text-decoration-color: #800000\">│</span>\n",
              "<span style=\"color: #800000; text-decoration-color: #800000\">│</span>   <span style=\"color: #7f7f7f; text-decoration-color: #7f7f7f\"> 18 │   </span><span style=\"color: #0000ff; text-decoration-color: #0000ff\">with</span> torch.no_grad():                                                                  <span style=\"color: #800000; text-decoration-color: #800000\">│</span>\n",
              "<span style=\"color: #800000; text-decoration-color: #800000\">│</span> <span style=\"color: #800000; text-decoration-color: #800000\">❱ </span> 19 <span style=\"color: #7f7f7f; text-decoration-color: #7f7f7f\">│   │   </span><span style=\"color: #0000ff; text-decoration-color: #0000ff\">return</span> tensor.normal_(mean, std)                                                   <span style=\"color: #800000; text-decoration-color: #800000\">│</span>\n",
              "<span style=\"color: #800000; text-decoration-color: #800000\">│</span>   <span style=\"color: #7f7f7f; text-decoration-color: #7f7f7f\"> 20 </span>                                                                                           <span style=\"color: #800000; text-decoration-color: #800000\">│</span>\n",
              "<span style=\"color: #800000; text-decoration-color: #800000\">│</span>   <span style=\"color: #7f7f7f; text-decoration-color: #7f7f7f\"> 21 </span>                                                                                           <span style=\"color: #800000; text-decoration-color: #800000\">│</span>\n",
              "<span style=\"color: #800000; text-decoration-color: #800000\">│</span>   <span style=\"color: #7f7f7f; text-decoration-color: #7f7f7f\"> 22 </span><span style=\"color: #0000ff; text-decoration-color: #0000ff\">def</span> <span style=\"color: #00ff00; text-decoration-color: #00ff00\">_no_grad_trunc_normal_</span>(tensor, mean, std, a, b):                                       <span style=\"color: #800000; text-decoration-color: #800000\">│</span>\n",
              "<span style=\"color: #800000; text-decoration-color: #800000\">╰──────────────────────────────────────────────────────────────────────────────────────────────────╯</span>\n",
              "<span style=\"color: #ff0000; text-decoration-color: #ff0000; font-weight: bold\">KeyboardInterrupt</span>\n",
              "</pre>\n"
            ],
            "text/plain": [
              "\u001b[31m╭─\u001b[0m\u001b[31m──────────────────────────────\u001b[0m\u001b[31m \u001b[0m\u001b[1;31mTraceback \u001b[0m\u001b[1;2;31m(most recent call last)\u001b[0m\u001b[31m \u001b[0m\u001b[31m───────────────────────────────\u001b[0m\u001b[31m─╮\u001b[0m\n",
              "\u001b[31m│\u001b[0m in \u001b[92m<cell line: 1>\u001b[0m:\u001b[94m1\u001b[0m                                                                              \u001b[31m│\u001b[0m\n",
              "\u001b[31m│\u001b[0m                                                                                                  \u001b[31m│\u001b[0m\n",
              "\u001b[31m│\u001b[0m \u001b[2;33m/usr/local/lib/python3.10/dist-packages/transformers/pipelines/\u001b[0m\u001b[1;33m__init__.py\u001b[0m:\u001b[94m788\u001b[0m in \u001b[92mpipeline\u001b[0m       \u001b[31m│\u001b[0m\n",
              "\u001b[31m│\u001b[0m                                                                                                  \u001b[31m│\u001b[0m\n",
              "\u001b[31m│\u001b[0m   \u001b[2m785 \u001b[0m\u001b[2m│   \u001b[0m\u001b[2m# Forced if framework already defined, inferred if it's None\u001b[0m                           \u001b[31m│\u001b[0m\n",
              "\u001b[31m│\u001b[0m   \u001b[2m786 \u001b[0m\u001b[2m│   \u001b[0m\u001b[2m# Will load the correct model if possible\u001b[0m                                              \u001b[31m│\u001b[0m\n",
              "\u001b[31m│\u001b[0m   \u001b[2m787 \u001b[0m\u001b[2m│   \u001b[0mmodel_classes = {\u001b[33m\"\u001b[0m\u001b[33mtf\u001b[0m\u001b[33m\"\u001b[0m: targeted_task[\u001b[33m\"\u001b[0m\u001b[33mtf\u001b[0m\u001b[33m\"\u001b[0m], \u001b[33m\"\u001b[0m\u001b[33mpt\u001b[0m\u001b[33m\"\u001b[0m: targeted_task[\u001b[33m\"\u001b[0m\u001b[33mpt\u001b[0m\u001b[33m\"\u001b[0m]}                 \u001b[31m│\u001b[0m\n",
              "\u001b[31m│\u001b[0m \u001b[31m❱ \u001b[0m788 \u001b[2m│   \u001b[0mframework, model = infer_framework_load_model(                                         \u001b[31m│\u001b[0m\n",
              "\u001b[31m│\u001b[0m   \u001b[2m789 \u001b[0m\u001b[2m│   │   \u001b[0mmodel,                                                                             \u001b[31m│\u001b[0m\n",
              "\u001b[31m│\u001b[0m   \u001b[2m790 \u001b[0m\u001b[2m│   │   \u001b[0mmodel_classes=model_classes,                                                       \u001b[31m│\u001b[0m\n",
              "\u001b[31m│\u001b[0m   \u001b[2m791 \u001b[0m\u001b[2m│   │   \u001b[0mconfig=config,                                                                     \u001b[31m│\u001b[0m\n",
              "\u001b[31m│\u001b[0m                                                                                                  \u001b[31m│\u001b[0m\n",
              "\u001b[31m│\u001b[0m \u001b[2;33m/usr/local/lib/python3.10/dist-packages/transformers/pipelines/\u001b[0m\u001b[1;33mbase.py\u001b[0m:\u001b[94m270\u001b[0m in                    \u001b[31m│\u001b[0m\n",
              "\u001b[31m│\u001b[0m \u001b[92minfer_framework_load_model\u001b[0m                                                                       \u001b[31m│\u001b[0m\n",
              "\u001b[31m│\u001b[0m                                                                                                  \u001b[31m│\u001b[0m\n",
              "\u001b[31m│\u001b[0m   \u001b[2m 267 \u001b[0m\u001b[2m│   │   │   │   \u001b[0m)                                                                         \u001b[31m│\u001b[0m\n",
              "\u001b[31m│\u001b[0m   \u001b[2m 268 \u001b[0m\u001b[2m│   │   │   \u001b[0m                                                                              \u001b[31m│\u001b[0m\n",
              "\u001b[31m│\u001b[0m   \u001b[2m 269 \u001b[0m\u001b[2m│   │   │   \u001b[0m\u001b[94mtry\u001b[0m:                                                                          \u001b[31m│\u001b[0m\n",
              "\u001b[31m│\u001b[0m \u001b[31m❱ \u001b[0m 270 \u001b[2m│   │   │   │   \u001b[0mmodel = model_class.from_pretrained(model, **kwargs)                      \u001b[31m│\u001b[0m\n",
              "\u001b[31m│\u001b[0m   \u001b[2m 271 \u001b[0m\u001b[2m│   │   │   │   \u001b[0m\u001b[94mif\u001b[0m \u001b[96mhasattr\u001b[0m(model, \u001b[33m\"\u001b[0m\u001b[33meval\u001b[0m\u001b[33m\"\u001b[0m):                                                \u001b[31m│\u001b[0m\n",
              "\u001b[31m│\u001b[0m   \u001b[2m 272 \u001b[0m\u001b[2m│   │   │   │   │   \u001b[0mmodel = model.eval()                                                  \u001b[31m│\u001b[0m\n",
              "\u001b[31m│\u001b[0m   \u001b[2m 273 \u001b[0m\u001b[2m│   │   │   │   \u001b[0m\u001b[2m# Stop loading on the first successful load.\u001b[0m                              \u001b[31m│\u001b[0m\n",
              "\u001b[31m│\u001b[0m                                                                                                  \u001b[31m│\u001b[0m\n",
              "\u001b[31m│\u001b[0m \u001b[2;33m/usr/local/lib/python3.10/dist-packages/transformers/models/auto/\u001b[0m\u001b[1;33mauto_factory.py\u001b[0m:\u001b[94m467\u001b[0m in          \u001b[31m│\u001b[0m\n",
              "\u001b[31m│\u001b[0m \u001b[92mfrom_pretrained\u001b[0m                                                                                  \u001b[31m│\u001b[0m\n",
              "\u001b[31m│\u001b[0m                                                                                                  \u001b[31m│\u001b[0m\n",
              "\u001b[31m│\u001b[0m   \u001b[2m464 \u001b[0m\u001b[2m│   │   │   \u001b[0m)                                                                              \u001b[31m│\u001b[0m\n",
              "\u001b[31m│\u001b[0m   \u001b[2m465 \u001b[0m\u001b[2m│   │   \u001b[0m\u001b[94melif\u001b[0m \u001b[96mtype\u001b[0m(config) \u001b[95min\u001b[0m \u001b[96mcls\u001b[0m._model_mapping.keys():                                    \u001b[31m│\u001b[0m\n",
              "\u001b[31m│\u001b[0m   \u001b[2m466 \u001b[0m\u001b[2m│   │   │   \u001b[0mmodel_class = _get_model_class(config, \u001b[96mcls\u001b[0m._model_mapping)                     \u001b[31m│\u001b[0m\n",
              "\u001b[31m│\u001b[0m \u001b[31m❱ \u001b[0m467 \u001b[2m│   │   │   \u001b[0m\u001b[94mreturn\u001b[0m model_class.from_pretrained(                                            \u001b[31m│\u001b[0m\n",
              "\u001b[31m│\u001b[0m   \u001b[2m468 \u001b[0m\u001b[2m│   │   │   │   \u001b[0mpretrained_model_name_or_path, *model_args, config=config, **hub_kwargs,   \u001b[31m│\u001b[0m\n",
              "\u001b[31m│\u001b[0m   \u001b[2m469 \u001b[0m\u001b[2m│   │   │   \u001b[0m)                                                                              \u001b[31m│\u001b[0m\n",
              "\u001b[31m│\u001b[0m   \u001b[2m470 \u001b[0m\u001b[2m│   │   \u001b[0m\u001b[94mraise\u001b[0m \u001b[96mValueError\u001b[0m(                                                                  \u001b[31m│\u001b[0m\n",
              "\u001b[31m│\u001b[0m                                                                                                  \u001b[31m│\u001b[0m\n",
              "\u001b[31m│\u001b[0m \u001b[2;33m/usr/local/lib/python3.10/dist-packages/transformers/\u001b[0m\u001b[1;33mmodeling_utils.py\u001b[0m:\u001b[94m2611\u001b[0m in \u001b[92mfrom_pretrained\u001b[0m   \u001b[31m│\u001b[0m\n",
              "\u001b[31m│\u001b[0m                                                                                                  \u001b[31m│\u001b[0m\n",
              "\u001b[31m│\u001b[0m   \u001b[2m2608 \u001b[0m\u001b[2m│   │   │   \u001b[0minit_contexts.append(init_empty_weights())                                    \u001b[31m│\u001b[0m\n",
              "\u001b[31m│\u001b[0m   \u001b[2m2609 \u001b[0m\u001b[2m│   │   \u001b[0m                                                                                  \u001b[31m│\u001b[0m\n",
              "\u001b[31m│\u001b[0m   \u001b[2m2610 \u001b[0m\u001b[2m│   │   \u001b[0m\u001b[94mwith\u001b[0m ContextManagers(init_contexts):                                              \u001b[31m│\u001b[0m\n",
              "\u001b[31m│\u001b[0m \u001b[31m❱ \u001b[0m2611 \u001b[2m│   │   │   \u001b[0mmodel = \u001b[96mcls\u001b[0m(config, *model_args, **model_kwargs)                              \u001b[31m│\u001b[0m\n",
              "\u001b[31m│\u001b[0m   \u001b[2m2612 \u001b[0m\u001b[2m│   │   \u001b[0m                                                                                  \u001b[31m│\u001b[0m\n",
              "\u001b[31m│\u001b[0m   \u001b[2m2613 \u001b[0m\u001b[2m│   │   \u001b[0m\u001b[2m# Check first if we are `from_pt`\u001b[0m                                                 \u001b[31m│\u001b[0m\n",
              "\u001b[31m│\u001b[0m   \u001b[2m2614 \u001b[0m\u001b[2m│   │   \u001b[0m\u001b[94mif\u001b[0m use_keep_in_fp32_modules:                                                      \u001b[31m│\u001b[0m\n",
              "\u001b[31m│\u001b[0m                                                                                                  \u001b[31m│\u001b[0m\n",
              "\u001b[31m│\u001b[0m \u001b[2;33m/usr/local/lib/python3.10/dist-packages/transformers/models/pegasus/\u001b[0m\u001b[1;33mmodeling_pegasus.py\u001b[0m:\u001b[94m1318\u001b[0m in  \u001b[31m│\u001b[0m\n",
              "\u001b[31m│\u001b[0m \u001b[92m__init__\u001b[0m                                                                                         \u001b[31m│\u001b[0m\n",
              "\u001b[31m│\u001b[0m                                                                                                  \u001b[31m│\u001b[0m\n",
              "\u001b[31m│\u001b[0m   \u001b[2m1315 \u001b[0m\u001b[2m│   \u001b[0m                                                                                      \u001b[31m│\u001b[0m\n",
              "\u001b[31m│\u001b[0m   \u001b[2m1316 \u001b[0m\u001b[2m│   \u001b[0m\u001b[94mdef\u001b[0m \u001b[92m__init__\u001b[0m(\u001b[96mself\u001b[0m, config: PegasusConfig):                                            \u001b[31m│\u001b[0m\n",
              "\u001b[31m│\u001b[0m   \u001b[2m1317 \u001b[0m\u001b[2m│   │   \u001b[0m\u001b[96msuper\u001b[0m().\u001b[92m__init__\u001b[0m(config)                                                          \u001b[31m│\u001b[0m\n",
              "\u001b[31m│\u001b[0m \u001b[31m❱ \u001b[0m1318 \u001b[2m│   │   \u001b[0m\u001b[96mself\u001b[0m.model = PegasusModel(config)                                                 \u001b[31m│\u001b[0m\n",
              "\u001b[31m│\u001b[0m   \u001b[2m1319 \u001b[0m\u001b[2m│   │   \u001b[0m\u001b[96mself\u001b[0m.register_buffer(\u001b[33m\"\u001b[0m\u001b[33mfinal_logits_bias\u001b[0m\u001b[33m\"\u001b[0m, torch.zeros((\u001b[94m1\u001b[0m, \u001b[96mself\u001b[0m.model.shared.num_  \u001b[31m│\u001b[0m\n",
              "\u001b[31m│\u001b[0m   \u001b[2m1320 \u001b[0m\u001b[2m│   │   \u001b[0m\u001b[96mself\u001b[0m.lm_head = nn.Linear(config.d_model, \u001b[96mself\u001b[0m.model.shared.num_embeddings, bias=  \u001b[31m│\u001b[0m\n",
              "\u001b[31m│\u001b[0m   \u001b[2m1321 \u001b[0m                                                                                          \u001b[31m│\u001b[0m\n",
              "\u001b[31m│\u001b[0m                                                                                                  \u001b[31m│\u001b[0m\n",
              "\u001b[31m│\u001b[0m \u001b[2;33m/usr/local/lib/python3.10/dist-packages/transformers/models/pegasus/\u001b[0m\u001b[1;33mmodeling_pegasus.py\u001b[0m:\u001b[94m1160\u001b[0m in  \u001b[31m│\u001b[0m\n",
              "\u001b[31m│\u001b[0m \u001b[92m__init__\u001b[0m                                                                                         \u001b[31m│\u001b[0m\n",
              "\u001b[31m│\u001b[0m                                                                                                  \u001b[31m│\u001b[0m\n",
              "\u001b[31m│\u001b[0m   \u001b[2m1157 \u001b[0m\u001b[2m│   │   \u001b[0m\u001b[96msuper\u001b[0m().\u001b[92m__init__\u001b[0m(config)                                                          \u001b[31m│\u001b[0m\n",
              "\u001b[31m│\u001b[0m   \u001b[2m1158 \u001b[0m\u001b[2m│   │   \u001b[0m                                                                                  \u001b[31m│\u001b[0m\n",
              "\u001b[31m│\u001b[0m   \u001b[2m1159 \u001b[0m\u001b[2m│   │   \u001b[0mpadding_idx, vocab_size = config.pad_token_id, config.vocab_size                  \u001b[31m│\u001b[0m\n",
              "\u001b[31m│\u001b[0m \u001b[31m❱ \u001b[0m1160 \u001b[2m│   │   \u001b[0m\u001b[96mself\u001b[0m.shared = nn.Embedding(vocab_size, config.d_model, padding_idx)               \u001b[31m│\u001b[0m\n",
              "\u001b[31m│\u001b[0m   \u001b[2m1161 \u001b[0m\u001b[2m│   │   \u001b[0m                                                                                  \u001b[31m│\u001b[0m\n",
              "\u001b[31m│\u001b[0m   \u001b[2m1162 \u001b[0m\u001b[2m│   │   \u001b[0m\u001b[96mself\u001b[0m.encoder = PegasusEncoder(config, \u001b[96mself\u001b[0m.shared)                                \u001b[31m│\u001b[0m\n",
              "\u001b[31m│\u001b[0m   \u001b[2m1163 \u001b[0m\u001b[2m│   │   \u001b[0m\u001b[96mself\u001b[0m.decoder = PegasusDecoder(config, \u001b[96mself\u001b[0m.shared)                                \u001b[31m│\u001b[0m\n",
              "\u001b[31m│\u001b[0m                                                                                                  \u001b[31m│\u001b[0m\n",
              "\u001b[31m│\u001b[0m \u001b[2;33m/usr/local/lib/python3.10/dist-packages/torch/nn/modules/\u001b[0m\u001b[1;33msparse.py\u001b[0m:\u001b[94m144\u001b[0m in \u001b[92m__init__\u001b[0m               \u001b[31m│\u001b[0m\n",
              "\u001b[31m│\u001b[0m                                                                                                  \u001b[31m│\u001b[0m\n",
              "\u001b[31m│\u001b[0m   \u001b[2m141 \u001b[0m\u001b[2m│   │   \u001b[0m\u001b[94mif\u001b[0m _weight \u001b[95mis\u001b[0m \u001b[94mNone\u001b[0m:                                                                \u001b[31m│\u001b[0m\n",
              "\u001b[31m│\u001b[0m   \u001b[2m142 \u001b[0m\u001b[2m│   │   │   \u001b[0m\u001b[96mself\u001b[0m.weight = Parameter(torch.empty((num_embeddings, embedding_dim), **facto   \u001b[31m│\u001b[0m\n",
              "\u001b[31m│\u001b[0m   \u001b[2m143 \u001b[0m\u001b[2m│   │   │   │   │   │   │   │   │   \u001b[0mrequires_grad=\u001b[95mnot\u001b[0m _freeze)                             \u001b[31m│\u001b[0m\n",
              "\u001b[31m│\u001b[0m \u001b[31m❱ \u001b[0m144 \u001b[2m│   │   │   \u001b[0m\u001b[96mself\u001b[0m.reset_parameters()                                                        \u001b[31m│\u001b[0m\n",
              "\u001b[31m│\u001b[0m   \u001b[2m145 \u001b[0m\u001b[2m│   │   \u001b[0m\u001b[94melse\u001b[0m:                                                                              \u001b[31m│\u001b[0m\n",
              "\u001b[31m│\u001b[0m   \u001b[2m146 \u001b[0m\u001b[2m│   │   │   \u001b[0m\u001b[94massert\u001b[0m \u001b[96mlist\u001b[0m(_weight.shape) == [num_embeddings, embedding_dim], \\               \u001b[31m│\u001b[0m\n",
              "\u001b[31m│\u001b[0m   \u001b[2m147 \u001b[0m\u001b[2m│   │   │   │   \u001b[0m\u001b[33m'\u001b[0m\u001b[33mShape of weight does not match num_embeddings and embedding_dim\u001b[0m\u001b[33m'\u001b[0m          \u001b[31m│\u001b[0m\n",
              "\u001b[31m│\u001b[0m                                                                                                  \u001b[31m│\u001b[0m\n",
              "\u001b[31m│\u001b[0m \u001b[2;33m/usr/local/lib/python3.10/dist-packages/torch/nn/modules/\u001b[0m\u001b[1;33msparse.py\u001b[0m:\u001b[94m153\u001b[0m in \u001b[92mreset_parameters\u001b[0m       \u001b[31m│\u001b[0m\n",
              "\u001b[31m│\u001b[0m                                                                                                  \u001b[31m│\u001b[0m\n",
              "\u001b[31m│\u001b[0m   \u001b[2m150 \u001b[0m\u001b[2m│   │   \u001b[0m\u001b[96mself\u001b[0m.sparse = sparse                                                               \u001b[31m│\u001b[0m\n",
              "\u001b[31m│\u001b[0m   \u001b[2m151 \u001b[0m\u001b[2m│   \u001b[0m                                                                                       \u001b[31m│\u001b[0m\n",
              "\u001b[31m│\u001b[0m   \u001b[2m152 \u001b[0m\u001b[2m│   \u001b[0m\u001b[94mdef\u001b[0m \u001b[92mreset_parameters\u001b[0m(\u001b[96mself\u001b[0m) -> \u001b[94mNone\u001b[0m:                                                    \u001b[31m│\u001b[0m\n",
              "\u001b[31m│\u001b[0m \u001b[31m❱ \u001b[0m153 \u001b[2m│   │   \u001b[0minit.normal_(\u001b[96mself\u001b[0m.weight)                                                          \u001b[31m│\u001b[0m\n",
              "\u001b[31m│\u001b[0m   \u001b[2m154 \u001b[0m\u001b[2m│   │   \u001b[0m\u001b[96mself\u001b[0m._fill_padding_idx_with_zero()                                                 \u001b[31m│\u001b[0m\n",
              "\u001b[31m│\u001b[0m   \u001b[2m155 \u001b[0m\u001b[2m│   \u001b[0m                                                                                       \u001b[31m│\u001b[0m\n",
              "\u001b[31m│\u001b[0m   \u001b[2m156 \u001b[0m\u001b[2m│   \u001b[0m\u001b[94mdef\u001b[0m \u001b[92m_fill_padding_idx_with_zero\u001b[0m(\u001b[96mself\u001b[0m) -> \u001b[94mNone\u001b[0m:                                         \u001b[31m│\u001b[0m\n",
              "\u001b[31m│\u001b[0m                                                                                                  \u001b[31m│\u001b[0m\n",
              "\u001b[31m│\u001b[0m \u001b[2;33m/usr/local/lib/python3.10/dist-packages/torch/nn/\u001b[0m\u001b[1;33minit.py\u001b[0m:\u001b[94m155\u001b[0m in \u001b[92mnormal_\u001b[0m                          \u001b[31m│\u001b[0m\n",
              "\u001b[31m│\u001b[0m                                                                                                  \u001b[31m│\u001b[0m\n",
              "\u001b[31m│\u001b[0m   \u001b[2m152 \u001b[0m\u001b[2;33m│   \u001b[0m\u001b[33m\"\"\"\u001b[0m                                                                                    \u001b[31m│\u001b[0m\n",
              "\u001b[31m│\u001b[0m   \u001b[2m153 \u001b[0m\u001b[2m│   \u001b[0m\u001b[94mif\u001b[0m torch.overrides.has_torch_function_variadic(tensor):                                \u001b[31m│\u001b[0m\n",
              "\u001b[31m│\u001b[0m   \u001b[2m154 \u001b[0m\u001b[2m│   │   \u001b[0m\u001b[94mreturn\u001b[0m torch.overrides.handle_torch_function(normal_, (tensor,), tensor=tensor,    \u001b[31m│\u001b[0m\n",
              "\u001b[31m│\u001b[0m \u001b[31m❱ \u001b[0m155 \u001b[2m│   \u001b[0m\u001b[94mreturn\u001b[0m _no_grad_normal_(tensor, mean, std)                                             \u001b[31m│\u001b[0m\n",
              "\u001b[31m│\u001b[0m   \u001b[2m156 \u001b[0m                                                                                           \u001b[31m│\u001b[0m\n",
              "\u001b[31m│\u001b[0m   \u001b[2m157 \u001b[0m\u001b[94mdef\u001b[0m \u001b[92mtrunc_normal_\u001b[0m(tensor: Tensor, mean: \u001b[96mfloat\u001b[0m = \u001b[94m0.\u001b[0m, std: \u001b[96mfloat\u001b[0m = \u001b[94m1.\u001b[0m, a: \u001b[96mfloat\u001b[0m = -\u001b[94m2.\u001b[0m, b:    \u001b[31m│\u001b[0m\n",
              "\u001b[31m│\u001b[0m   \u001b[2m158 \u001b[0m\u001b[2;90m│   \u001b[0m\u001b[33mr\u001b[0m\u001b[33m\"\"\"Fills the input Tensor with values drawn from a truncated\u001b[0m                          \u001b[31m│\u001b[0m\n",
              "\u001b[31m│\u001b[0m                                                                                                  \u001b[31m│\u001b[0m\n",
              "\u001b[31m│\u001b[0m \u001b[2;33m/usr/local/lib/python3.10/dist-packages/torch/nn/\u001b[0m\u001b[1;33minit.py\u001b[0m:\u001b[94m19\u001b[0m in \u001b[92m_no_grad_normal_\u001b[0m                  \u001b[31m│\u001b[0m\n",
              "\u001b[31m│\u001b[0m                                                                                                  \u001b[31m│\u001b[0m\n",
              "\u001b[31m│\u001b[0m   \u001b[2m 16 \u001b[0m                                                                                           \u001b[31m│\u001b[0m\n",
              "\u001b[31m│\u001b[0m   \u001b[2m 17 \u001b[0m\u001b[94mdef\u001b[0m \u001b[92m_no_grad_normal_\u001b[0m(tensor, mean, std):                                                   \u001b[31m│\u001b[0m\n",
              "\u001b[31m│\u001b[0m   \u001b[2m 18 \u001b[0m\u001b[2m│   \u001b[0m\u001b[94mwith\u001b[0m torch.no_grad():                                                                  \u001b[31m│\u001b[0m\n",
              "\u001b[31m│\u001b[0m \u001b[31m❱ \u001b[0m 19 \u001b[2m│   │   \u001b[0m\u001b[94mreturn\u001b[0m tensor.normal_(mean, std)                                                   \u001b[31m│\u001b[0m\n",
              "\u001b[31m│\u001b[0m   \u001b[2m 20 \u001b[0m                                                                                           \u001b[31m│\u001b[0m\n",
              "\u001b[31m│\u001b[0m   \u001b[2m 21 \u001b[0m                                                                                           \u001b[31m│\u001b[0m\n",
              "\u001b[31m│\u001b[0m   \u001b[2m 22 \u001b[0m\u001b[94mdef\u001b[0m \u001b[92m_no_grad_trunc_normal_\u001b[0m(tensor, mean, std, a, b):                                       \u001b[31m│\u001b[0m\n",
              "\u001b[31m╰──────────────────────────────────────────────────────────────────────────────────────────────────╯\u001b[0m\n",
              "\u001b[1;91mKeyboardInterrupt\u001b[0m\n"
            ]
          },
          "metadata": {},
          "output_type": "display_data"
        }
      ],
      "source": [
        "pipe = pipeline('summarization', model=model_checkpoint)\n",
        "pipe_out = pipe(dataset_cnn['test'][10]['article'])\n",
        "print(pipe_out)"
      ],
      "id": "8XG66LuQhxpS"
    },
    {
      "cell_type": "code",
      "execution_count": null,
      "metadata": {
        "colab": {
          "base_uri": "https://localhost:8080/"
        },
        "id": "B460Rm7Ohxrq",
        "outputId": "9f4e49fe-d4a0-4548-fc5f-e30203afc6bc"
      },
      "outputs": [
        {
          "name": "stdout",
          "output_type": "stream",
          "text": [
            "*****article**********\n",
            "London (CNN)A 19-year-old man was charged Wednesday with terror offenses after he was arrested as he returned to Britain from Turkey, London's Metropolitan Police said. Yahya Rashid, a UK national from northwest London, was detained at Luton airport on Tuesday after he arrived on a flight from Istanbul, police said. He's been charged with engaging in conduct in preparation of acts of terrorism, and with engaging in conduct with the intention of assisting others to commit acts of terrorism. Both charges relate to the period between November 1 and March 31. Rashid is due to appear in Westminster Magistrates' Court on Wednesday, police said. CNN's Lindsay Isaac contributed to this report.\n"
          ]
        }
      ],
      "source": [
        "print('*****article**********')\n",
        "print(dataset_cnn['test'][10]['article'])"
      ],
      "id": "B460Rm7Ohxrq"
    },
    {
      "cell_type": "code",
      "execution_count": null,
      "metadata": {
        "colab": {
          "base_uri": "https://localhost:8080/"
        },
        "id": "3KuCxz93hxt7",
        "outputId": "bdc5f206-a91f-44db-b78a-ad45f10ab707"
      },
      "outputs": [
        {
          "name": "stdout",
          "output_type": "stream",
          "text": [
            "*********human generated reference summary*********\n",
            "London's Metropolitan Police say the man was arrested at Luton airport after landing on a flight from Istanbul .\n",
            "He's been charged with terror offenses allegedly committed since the start of November .\n"
          ]
        }
      ],
      "source": [
        "print('*********human generated reference summary*********')\n",
        "print(dataset_cnn['test'][10]['highlights'])"
      ],
      "id": "3KuCxz93hxt7"
    },
    {
      "cell_type": "code",
      "execution_count": null,
      "metadata": {
        "id": "KkxcRfLCKD09"
      },
      "outputs": [],
      "source": [
        "import torch\n",
        "torch.cuda.empty_cache()\n"
      ],
      "id": "KkxcRfLCKD09"
    },
    {
      "cell_type": "code",
      "execution_count": null,
      "metadata": {
        "colab": {
          "base_uri": "https://localhost:8080/"
        },
        "id": "o-HJWNcehxwO",
        "outputId": "52b6dc50-ec21-4c34-806f-0c5829f40399"
      },
      "outputs": [
        {
          "name": "stderr",
          "output_type": "stream",
          "text": [
            "\r  0%|          | 0/125 [00:00<?, ?it/s]"
          ]
        },
        {
          "name": "stdout",
          "output_type": "stream",
          "text": [
            "input_ids shape: torch.Size([8, 1024])\n",
            "max input_ids value: tensor(95967)\n",
            "vocabulary size: 96103\n",
            "torch.Size([8, 128])\n",
            "torch.Size([8, 1024])\n"
          ]
        },
        {
          "name": "stderr",
          "output_type": "stream",
          "text": [
            "\r  1%|          | 1/125 [01:20<2:46:11, 80.42s/it]"
          ]
        },
        {
          "name": "stdout",
          "output_type": "stream",
          "text": [
            "input_ids shape: torch.Size([8, 1024])\n",
            "max input_ids value: tensor(88699)\n",
            "vocabulary size: 96103\n"
          ]
        },
        {
          "name": "stderr",
          "output_type": "stream",
          "text": [
            "\r  2%|▏         | 2/125 [02:36<2:40:03, 78.08s/it]"
          ]
        },
        {
          "name": "stdout",
          "output_type": "stream",
          "text": [
            "torch.Size([8, 128])\n",
            "torch.Size([8, 1024])\n",
            "input_ids shape: torch.Size([8, 1024])\n",
            "max input_ids value: tensor(94811)\n",
            "vocabulary size: 96103\n"
          ]
        },
        {
          "name": "stderr",
          "output_type": "stream",
          "text": [
            "\r  2%|▏         | 3/125 [03:53<2:37:08, 77.29s/it]"
          ]
        },
        {
          "name": "stdout",
          "output_type": "stream",
          "text": [
            "torch.Size([8, 128])\n",
            "torch.Size([8, 1024])\n",
            "input_ids shape: torch.Size([8, 1024])\n",
            "max input_ids value: tensor(95607)\n",
            "vocabulary size: 96103\n"
          ]
        },
        {
          "name": "stderr",
          "output_type": "stream",
          "text": [
            "\r  3%|▎         | 4/125 [05:10<2:35:41, 77.20s/it]"
          ]
        },
        {
          "name": "stdout",
          "output_type": "stream",
          "text": [
            "torch.Size([8, 128])\n",
            "torch.Size([8, 1024])\n",
            "input_ids shape: torch.Size([8, 1024])\n",
            "max input_ids value: tensor(95013)\n",
            "vocabulary size: 96103\n"
          ]
        },
        {
          "name": "stderr",
          "output_type": "stream",
          "text": [
            "\r  4%|▍         | 5/125 [06:26<2:33:44, 76.87s/it]"
          ]
        },
        {
          "name": "stdout",
          "output_type": "stream",
          "text": [
            "torch.Size([8, 128])\n",
            "torch.Size([8, 1024])\n",
            "input_ids shape: torch.Size([8, 1024])\n",
            "max input_ids value: tensor(95460)\n",
            "vocabulary size: 96103\n"
          ]
        },
        {
          "name": "stderr",
          "output_type": "stream",
          "text": [
            "\r  5%|▍         | 6/125 [07:42<2:31:40, 76.47s/it]"
          ]
        },
        {
          "name": "stdout",
          "output_type": "stream",
          "text": [
            "torch.Size([8, 128])\n",
            "torch.Size([8, 1024])\n",
            "input_ids shape: torch.Size([8, 1024])\n",
            "max input_ids value: tensor(93338)\n",
            "vocabulary size: 96103\n"
          ]
        },
        {
          "name": "stderr",
          "output_type": "stream",
          "text": [
            "\r  6%|▌         | 7/125 [08:58<2:30:07, 76.34s/it]"
          ]
        },
        {
          "name": "stdout",
          "output_type": "stream",
          "text": [
            "torch.Size([8, 128])\n",
            "torch.Size([8, 1024])\n",
            "input_ids shape: torch.Size([8, 1024])\n",
            "max input_ids value: tensor(95379)\n",
            "vocabulary size: 96103\n"
          ]
        },
        {
          "name": "stderr",
          "output_type": "stream",
          "text": [
            "\r  6%|▋         | 8/125 [10:14<2:28:44, 76.28s/it]"
          ]
        },
        {
          "name": "stdout",
          "output_type": "stream",
          "text": [
            "torch.Size([8, 128])\n",
            "torch.Size([8, 1024])\n",
            "input_ids shape: torch.Size([8, 1024])\n",
            "max input_ids value: tensor(95775)\n",
            "vocabulary size: 96103\n"
          ]
        },
        {
          "name": "stderr",
          "output_type": "stream",
          "text": [
            "\r  7%|▋         | 9/125 [11:44<2:35:52, 80.62s/it]"
          ]
        },
        {
          "name": "stdout",
          "output_type": "stream",
          "text": [
            "torch.Size([8, 128])\n",
            "torch.Size([8, 1024])\n",
            "input_ids shape: torch.Size([8, 1024])\n",
            "max input_ids value: tensor(94872)\n",
            "vocabulary size: 96103\n"
          ]
        },
        {
          "name": "stderr",
          "output_type": "stream",
          "text": [
            "\r  8%|▊         | 10/125 [12:56<2:29:36, 78.06s/it]"
          ]
        },
        {
          "name": "stdout",
          "output_type": "stream",
          "text": [
            "torch.Size([8, 128])\n",
            "torch.Size([8, 1024])\n",
            "input_ids shape: torch.Size([8, 1024])\n",
            "max input_ids value: tensor(95616)\n",
            "vocabulary size: 96103\n"
          ]
        },
        {
          "name": "stderr",
          "output_type": "stream",
          "text": [
            "\r  9%|▉         | 11/125 [14:13<2:27:14, 77.50s/it]"
          ]
        },
        {
          "name": "stdout",
          "output_type": "stream",
          "text": [
            "torch.Size([8, 128])\n",
            "torch.Size([8, 1024])\n",
            "input_ids shape: torch.Size([8, 1024])\n",
            "max input_ids value: tensor(95659)\n",
            "vocabulary size: 96103\n"
          ]
        },
        {
          "name": "stderr",
          "output_type": "stream",
          "text": [
            "\r 10%|▉         | 12/125 [15:29<2:25:02, 77.02s/it]"
          ]
        },
        {
          "name": "stdout",
          "output_type": "stream",
          "text": [
            "torch.Size([8, 128])\n",
            "torch.Size([8, 1024])\n",
            "input_ids shape: torch.Size([8, 1024])\n",
            "max input_ids value: tensor(94712)\n",
            "vocabulary size: 96103\n"
          ]
        },
        {
          "name": "stderr",
          "output_type": "stream",
          "text": [
            "\r 10%|█         | 13/125 [16:46<2:23:49, 77.05s/it]"
          ]
        },
        {
          "name": "stdout",
          "output_type": "stream",
          "text": [
            "torch.Size([8, 128])\n",
            "torch.Size([8, 1024])\n",
            "input_ids shape: torch.Size([8, 1024])\n",
            "max input_ids value: tensor(95642)\n",
            "vocabulary size: 96103\n",
            "torch.Size([8, 128])\n",
            "torch.Size([8, 1024])\n"
          ]
        },
        {
          "name": "stderr",
          "output_type": "stream",
          "text": [
            "\r 11%|█         | 14/125 [17:56<2:18:57, 75.12s/it]"
          ]
        },
        {
          "name": "stdout",
          "output_type": "stream",
          "text": [
            "input_ids shape: torch.Size([8, 1024])\n",
            "max input_ids value: tensor(92719)\n",
            "vocabulary size: 96103\n"
          ]
        },
        {
          "name": "stderr",
          "output_type": "stream",
          "text": [
            "\r 12%|█▏        | 15/125 [19:11<2:17:38, 75.08s/it]"
          ]
        },
        {
          "name": "stdout",
          "output_type": "stream",
          "text": [
            "torch.Size([8, 128])\n",
            "torch.Size([8, 1024])\n",
            "input_ids shape: torch.Size([8, 1024])\n",
            "max input_ids value: tensor(94429)\n",
            "vocabulary size: 96103\n"
          ]
        },
        {
          "name": "stderr",
          "output_type": "stream",
          "text": [
            "\r 13%|█▎        | 16/125 [20:25<2:15:40, 74.68s/it]"
          ]
        },
        {
          "name": "stdout",
          "output_type": "stream",
          "text": [
            "torch.Size([8, 128])\n",
            "torch.Size([8, 1024])\n",
            "input_ids shape: torch.Size([8, 1024])\n",
            "max input_ids value: tensor(95386)\n",
            "vocabulary size: 96103\n"
          ]
        },
        {
          "name": "stderr",
          "output_type": "stream",
          "text": [
            "\r 14%|█▎        | 17/125 [21:36<2:12:20, 73.53s/it]"
          ]
        },
        {
          "name": "stdout",
          "output_type": "stream",
          "text": [
            "torch.Size([8, 128])\n",
            "torch.Size([8, 1024])\n",
            "input_ids shape: torch.Size([8, 1024])\n",
            "max input_ids value: tensor(93338)\n",
            "vocabulary size: 96103\n"
          ]
        },
        {
          "name": "stderr",
          "output_type": "stream",
          "text": [
            "\r 14%|█▍        | 18/125 [22:49<2:10:39, 73.27s/it]"
          ]
        },
        {
          "name": "stdout",
          "output_type": "stream",
          "text": [
            "torch.Size([8, 128])\n",
            "torch.Size([8, 1024])\n",
            "input_ids shape: torch.Size([8, 1024])\n",
            "max input_ids value: tensor(94815)\n",
            "vocabulary size: 96103\n",
            "torch.Size([8, 128])\n",
            "torch.Size([8, 1024])\n"
          ]
        },
        {
          "name": "stderr",
          "output_type": "stream",
          "text": [
            "\r 15%|█▌        | 19/125 [23:59<2:07:39, 72.26s/it]"
          ]
        },
        {
          "name": "stdout",
          "output_type": "stream",
          "text": [
            "input_ids shape: torch.Size([8, 1024])\n",
            "max input_ids value: tensor(95775)\n",
            "vocabulary size: 96103\n"
          ]
        },
        {
          "name": "stderr",
          "output_type": "stream",
          "text": [
            "\r 16%|█▌        | 20/125 [25:14<2:08:03, 73.17s/it]"
          ]
        },
        {
          "name": "stdout",
          "output_type": "stream",
          "text": [
            "torch.Size([8, 128])\n",
            "torch.Size([8, 1024])\n",
            "input_ids shape: torch.Size([8, 1024])\n",
            "max input_ids value: tensor(95134)\n",
            "vocabulary size: 96103\n"
          ]
        },
        {
          "name": "stderr",
          "output_type": "stream",
          "text": [
            "\r 17%|█▋        | 21/125 [26:28<2:07:33, 73.59s/it]"
          ]
        },
        {
          "name": "stdout",
          "output_type": "stream",
          "text": [
            "torch.Size([8, 128])\n",
            "torch.Size([8, 1024])\n",
            "input_ids shape: torch.Size([8, 1024])\n",
            "max input_ids value: tensor(93872)\n",
            "vocabulary size: 96103\n"
          ]
        },
        {
          "name": "stderr",
          "output_type": "stream",
          "text": [
            "\r 18%|█▊        | 22/125 [27:32<2:01:09, 70.58s/it]"
          ]
        },
        {
          "name": "stdout",
          "output_type": "stream",
          "text": [
            "torch.Size([8, 128])\n",
            "torch.Size([8, 1024])\n",
            "input_ids shape: torch.Size([8, 1024])\n",
            "max input_ids value: tensor(95134)\n",
            "vocabulary size: 96103\n"
          ]
        },
        {
          "name": "stderr",
          "output_type": "stream",
          "text": [
            "\r 18%|█▊        | 23/125 [28:25<1:50:49, 65.19s/it]"
          ]
        },
        {
          "name": "stdout",
          "output_type": "stream",
          "text": [
            "torch.Size([8, 128])\n",
            "torch.Size([8, 1024])\n",
            "input_ids shape: torch.Size([8, 1024])\n",
            "max input_ids value: tensor(90254)\n",
            "vocabulary size: 96103\n"
          ]
        },
        {
          "name": "stderr",
          "output_type": "stream",
          "text": [
            "\r 19%|█▉        | 24/125 [29:17<1:43:14, 61.33s/it]"
          ]
        },
        {
          "name": "stdout",
          "output_type": "stream",
          "text": [
            "torch.Size([8, 128])\n",
            "torch.Size([8, 1024])\n",
            "input_ids shape: torch.Size([8, 1024])\n",
            "max input_ids value: tensor(93615)\n",
            "vocabulary size: 96103\n"
          ]
        },
        {
          "name": "stderr",
          "output_type": "stream",
          "text": [
            "\r 20%|██        | 25/125 [30:07<1:36:40, 58.01s/it]"
          ]
        },
        {
          "name": "stdout",
          "output_type": "stream",
          "text": [
            "torch.Size([8, 128])\n",
            "torch.Size([8, 1024])\n",
            "input_ids shape: torch.Size([8, 1024])\n",
            "max input_ids value: tensor(95693)\n",
            "vocabulary size: 96103\n"
          ]
        },
        {
          "name": "stderr",
          "output_type": "stream",
          "text": [
            "\r 21%|██        | 26/125 [31:00<1:33:00, 56.37s/it]"
          ]
        },
        {
          "name": "stdout",
          "output_type": "stream",
          "text": [
            "torch.Size([8, 128])\n",
            "torch.Size([8, 1024])\n",
            "input_ids shape: torch.Size([8, 1024])\n",
            "max input_ids value: tensor(93301)\n",
            "vocabulary size: 96103\n"
          ]
        },
        {
          "name": "stderr",
          "output_type": "stream",
          "text": [
            "\r 22%|██▏       | 27/125 [31:48<1:28:07, 53.95s/it]"
          ]
        },
        {
          "name": "stdout",
          "output_type": "stream",
          "text": [
            "torch.Size([8, 128])\n",
            "torch.Size([8, 1024])\n",
            "input_ids shape: torch.Size([8, 1024])\n",
            "max input_ids value: tensor(95452)\n",
            "vocabulary size: 96103\n"
          ]
        },
        {
          "name": "stderr",
          "output_type": "stream",
          "text": [
            "\r 22%|██▏       | 28/125 [32:40<1:26:20, 53.40s/it]"
          ]
        },
        {
          "name": "stdout",
          "output_type": "stream",
          "text": [
            "torch.Size([8, 128])\n",
            "torch.Size([8, 1024])\n",
            "input_ids shape: torch.Size([8, 1024])\n",
            "max input_ids value: tensor(93003)\n",
            "vocabulary size: 96103\n"
          ]
        },
        {
          "name": "stderr",
          "output_type": "stream",
          "text": [
            "\r 23%|██▎       | 29/125 [33:28<1:22:40, 51.67s/it]"
          ]
        },
        {
          "name": "stdout",
          "output_type": "stream",
          "text": [
            "torch.Size([8, 128])\n",
            "torch.Size([8, 1024])\n",
            "input_ids shape: torch.Size([8, 1024])\n",
            "max input_ids value: tensor(95608)\n",
            "vocabulary size: 96103\n"
          ]
        },
        {
          "name": "stderr",
          "output_type": "stream",
          "text": [
            "\r 24%|██▍       | 30/125 [34:15<1:19:53, 50.46s/it]"
          ]
        },
        {
          "name": "stdout",
          "output_type": "stream",
          "text": [
            "torch.Size([8, 128])\n",
            "torch.Size([8, 1024])\n",
            "input_ids shape: torch.Size([8, 1024])\n",
            "max input_ids value: tensor(95720)\n",
            "vocabulary size: 96103\n"
          ]
        },
        {
          "name": "stderr",
          "output_type": "stream",
          "text": [
            "\r 25%|██▍       | 31/125 [35:03<1:17:43, 49.61s/it]"
          ]
        },
        {
          "name": "stdout",
          "output_type": "stream",
          "text": [
            "torch.Size([8, 128])\n",
            "torch.Size([8, 1024])\n",
            "input_ids shape: torch.Size([8, 1024])\n",
            "max input_ids value: tensor(95921)\n",
            "vocabulary size: 96103\n"
          ]
        },
        {
          "name": "stderr",
          "output_type": "stream",
          "text": [
            "\r 26%|██▌       | 32/125 [35:55<1:18:05, 50.38s/it]"
          ]
        },
        {
          "name": "stdout",
          "output_type": "stream",
          "text": [
            "torch.Size([8, 128])\n",
            "torch.Size([8, 1024])\n",
            "input_ids shape: torch.Size([8, 1024])\n",
            "max input_ids value: tensor(95987)\n",
            "vocabulary size: 96103\n"
          ]
        },
        {
          "name": "stderr",
          "output_type": "stream",
          "text": [
            "\r 26%|██▋       | 33/125 [36:47<1:18:05, 50.93s/it]"
          ]
        },
        {
          "name": "stdout",
          "output_type": "stream",
          "text": [
            "torch.Size([8, 128])\n",
            "torch.Size([8, 1024])\n",
            "input_ids shape: torch.Size([8, 1024])\n",
            "max input_ids value: tensor(92819)\n",
            "vocabulary size: 96103\n"
          ]
        },
        {
          "name": "stderr",
          "output_type": "stream",
          "text": [
            "\r 27%|██▋       | 34/125 [37:40<1:17:46, 51.28s/it]"
          ]
        },
        {
          "name": "stdout",
          "output_type": "stream",
          "text": [
            "torch.Size([8, 128])\n",
            "torch.Size([8, 1024])\n",
            "input_ids shape: torch.Size([8, 1024])\n",
            "max input_ids value: tensor(96092)\n",
            "vocabulary size: 96103\n"
          ]
        },
        {
          "name": "stderr",
          "output_type": "stream",
          "text": [
            "\r 28%|██▊       | 35/125 [38:27<1:15:08, 50.09s/it]"
          ]
        },
        {
          "name": "stdout",
          "output_type": "stream",
          "text": [
            "torch.Size([8, 128])\n",
            "torch.Size([8, 1024])\n",
            "input_ids shape: torch.Size([8, 1024])\n",
            "max input_ids value: tensor(93566)\n",
            "vocabulary size: 96103\n"
          ]
        },
        {
          "name": "stderr",
          "output_type": "stream",
          "text": [
            "\r 29%|██▉       | 36/125 [39:18<1:14:45, 50.40s/it]"
          ]
        },
        {
          "name": "stdout",
          "output_type": "stream",
          "text": [
            "torch.Size([8, 128])\n",
            "torch.Size([8, 1024])\n",
            "input_ids shape: torch.Size([8, 1024])\n",
            "max input_ids value: tensor(94961)\n",
            "vocabulary size: 96103\n"
          ]
        },
        {
          "name": "stderr",
          "output_type": "stream",
          "text": [
            "\r 30%|██▉       | 37/125 [40:05<1:12:16, 49.28s/it]"
          ]
        },
        {
          "name": "stdout",
          "output_type": "stream",
          "text": [
            "torch.Size([8, 128])\n",
            "torch.Size([8, 1024])\n",
            "input_ids shape: torch.Size([8, 1024])\n",
            "max input_ids value: tensor(94726)\n",
            "vocabulary size: 96103\n",
            "torch.Size([8, 128])\n",
            "torch.Size([8, 1024])\n"
          ]
        },
        {
          "name": "stderr",
          "output_type": "stream",
          "text": [
            "\r 30%|███       | 38/125 [40:54<1:11:32, 49.34s/it]"
          ]
        },
        {
          "name": "stdout",
          "output_type": "stream",
          "text": [
            "input_ids shape: torch.Size([8, 1024])\n",
            "max input_ids value: tensor(94542)\n",
            "vocabulary size: 96103\n"
          ]
        },
        {
          "name": "stderr",
          "output_type": "stream",
          "text": [
            "\r 31%|███       | 39/125 [41:47<1:12:03, 50.28s/it]"
          ]
        },
        {
          "name": "stdout",
          "output_type": "stream",
          "text": [
            "torch.Size([8, 128])\n",
            "torch.Size([8, 1024])\n",
            "input_ids shape: torch.Size([8, 1024])\n",
            "max input_ids value: tensor(94694)\n",
            "vocabulary size: 96103\n",
            "torch.Size([8, 128])\n",
            "torch.Size([8, 1024])\n"
          ]
        },
        {
          "name": "stderr",
          "output_type": "stream",
          "text": [
            "\r 32%|███▏      | 40/125 [42:35<1:10:35, 49.83s/it]"
          ]
        },
        {
          "name": "stdout",
          "output_type": "stream",
          "text": [
            "input_ids shape: torch.Size([8, 1024])\n",
            "max input_ids value: tensor(92609)\n",
            "vocabulary size: 96103\n"
          ]
        },
        {
          "name": "stderr",
          "output_type": "stream",
          "text": [
            "\r 33%|███▎      | 41/125 [43:27<1:10:22, 50.27s/it]"
          ]
        },
        {
          "name": "stdout",
          "output_type": "stream",
          "text": [
            "torch.Size([8, 128])\n",
            "torch.Size([8, 1024])\n",
            "input_ids shape: torch.Size([8, 1024])\n",
            "max input_ids value: tensor(95790)\n",
            "vocabulary size: 96103\n"
          ]
        },
        {
          "name": "stderr",
          "output_type": "stream",
          "text": [
            "\r 34%|███▎      | 42/125 [44:20<1:10:38, 51.06s/it]"
          ]
        },
        {
          "name": "stdout",
          "output_type": "stream",
          "text": [
            "torch.Size([8, 128])\n",
            "torch.Size([8, 1024])\n",
            "input_ids shape: torch.Size([8, 1024])\n",
            "max input_ids value: tensor(95607)\n",
            "vocabulary size: 96103\n"
          ]
        },
        {
          "name": "stderr",
          "output_type": "stream",
          "text": [
            "\r 34%|███▍      | 43/125 [45:13<1:10:49, 51.82s/it]"
          ]
        },
        {
          "name": "stdout",
          "output_type": "stream",
          "text": [
            "torch.Size([8, 128])\n",
            "torch.Size([8, 1024])\n",
            "input_ids shape: torch.Size([8, 1024])\n",
            "max input_ids value: tensor(95722)\n",
            "vocabulary size: 96103\n"
          ]
        },
        {
          "name": "stderr",
          "output_type": "stream",
          "text": [
            "\r 35%|███▌      | 44/125 [46:07<1:10:38, 52.32s/it]"
          ]
        },
        {
          "name": "stdout",
          "output_type": "stream",
          "text": [
            "torch.Size([8, 128])\n",
            "torch.Size([8, 1024])\n",
            "input_ids shape: torch.Size([8, 1024])\n",
            "max input_ids value: tensor(94183)\n",
            "vocabulary size: 96103\n"
          ]
        },
        {
          "name": "stderr",
          "output_type": "stream",
          "text": [
            "\r 36%|███▌      | 45/125 [46:56<1:08:41, 51.52s/it]"
          ]
        },
        {
          "name": "stdout",
          "output_type": "stream",
          "text": [
            "torch.Size([8, 128])\n",
            "torch.Size([8, 1024])\n",
            "input_ids shape: torch.Size([8, 1024])\n",
            "max input_ids value: tensor(93768)\n",
            "vocabulary size: 96103\n"
          ]
        },
        {
          "name": "stderr",
          "output_type": "stream",
          "text": [
            "\r 37%|███▋      | 46/125 [47:52<1:09:26, 52.74s/it]"
          ]
        },
        {
          "name": "stdout",
          "output_type": "stream",
          "text": [
            "torch.Size([8, 128])\n",
            "torch.Size([8, 1024])\n",
            "input_ids shape: torch.Size([8, 1024])\n",
            "max input_ids value: tensor(96092)\n",
            "vocabulary size: 96103\n"
          ]
        },
        {
          "name": "stderr",
          "output_type": "stream",
          "text": [
            "\r 38%|███▊      | 47/125 [48:50<1:10:34, 54.29s/it]"
          ]
        },
        {
          "name": "stdout",
          "output_type": "stream",
          "text": [
            "torch.Size([8, 128])\n",
            "torch.Size([8, 1024])\n",
            "input_ids shape: torch.Size([8, 1024])\n",
            "max input_ids value: tensor(95452)\n",
            "vocabulary size: 96103\n"
          ]
        },
        {
          "name": "stderr",
          "output_type": "stream",
          "text": [
            "\r 38%|███▊      | 48/125 [49:43<1:09:18, 54.00s/it]"
          ]
        },
        {
          "name": "stdout",
          "output_type": "stream",
          "text": [
            "torch.Size([8, 128])\n",
            "torch.Size([8, 1024])\n",
            "input_ids shape: torch.Size([8, 1024])\n",
            "max input_ids value: tensor(95616)\n",
            "vocabulary size: 96103\n"
          ]
        },
        {
          "name": "stderr",
          "output_type": "stream",
          "text": [
            "\r 39%|███▉      | 49/125 [50:40<1:09:24, 54.79s/it]"
          ]
        },
        {
          "name": "stdout",
          "output_type": "stream",
          "text": [
            "torch.Size([8, 128])\n",
            "torch.Size([8, 1024])\n",
            "input_ids shape: torch.Size([8, 1024])\n",
            "max input_ids value: tensor(94462)\n",
            "vocabulary size: 96103\n"
          ]
        },
        {
          "name": "stderr",
          "output_type": "stream",
          "text": [
            "\r 40%|████      | 50/125 [51:31<1:07:17, 53.83s/it]"
          ]
        },
        {
          "name": "stdout",
          "output_type": "stream",
          "text": [
            "torch.Size([8, 128])\n",
            "torch.Size([8, 1024])\n",
            "input_ids shape: torch.Size([8, 1024])\n",
            "max input_ids value: tensor(95853)\n",
            "vocabulary size: 96103\n"
          ]
        },
        {
          "name": "stderr",
          "output_type": "stream",
          "text": [
            "\r 41%|████      | 51/125 [52:21<1:04:58, 52.69s/it]"
          ]
        },
        {
          "name": "stdout",
          "output_type": "stream",
          "text": [
            "torch.Size([8, 128])\n",
            "torch.Size([8, 1024])\n",
            "input_ids shape: torch.Size([8, 1024])\n",
            "max input_ids value: tensor(95059)\n",
            "vocabulary size: 96103\n"
          ]
        },
        {
          "name": "stderr",
          "output_type": "stream",
          "text": [
            "\r 42%|████▏     | 52/125 [53:12<1:03:26, 52.14s/it]"
          ]
        },
        {
          "name": "stdout",
          "output_type": "stream",
          "text": [
            "torch.Size([8, 128])\n",
            "torch.Size([8, 1024])\n",
            "input_ids shape: torch.Size([8, 1024])\n",
            "max input_ids value: tensor(95806)\n",
            "vocabulary size: 96103\n",
            "torch.Size([8, 128])\n",
            "torch.Size([8, 1024])\n"
          ]
        },
        {
          "name": "stderr",
          "output_type": "stream",
          "text": [
            "\r 42%|████▏     | 53/125 [54:06<1:02:59, 52.50s/it]"
          ]
        },
        {
          "name": "stdout",
          "output_type": "stream",
          "text": [
            "input_ids shape: torch.Size([8, 1024])\n",
            "max input_ids value: tensor(94571)\n",
            "vocabulary size: 96103\n"
          ]
        },
        {
          "name": "stderr",
          "output_type": "stream",
          "text": [
            "\r 43%|████▎     | 54/125 [55:01<1:03:05, 53.32s/it]"
          ]
        },
        {
          "name": "stdout",
          "output_type": "stream",
          "text": [
            "torch.Size([8, 128])\n",
            "torch.Size([8, 1024])\n",
            "input_ids shape: torch.Size([8, 1024])\n",
            "max input_ids value: tensor(96037)\n",
            "vocabulary size: 96103\n"
          ]
        },
        {
          "name": "stderr",
          "output_type": "stream",
          "text": [
            "\r 44%|████▍     | 55/125 [55:52<1:01:32, 52.75s/it]"
          ]
        },
        {
          "name": "stdout",
          "output_type": "stream",
          "text": [
            "torch.Size([8, 128])\n",
            "torch.Size([8, 1024])\n",
            "input_ids shape: torch.Size([8, 1024])\n",
            "max input_ids value: tensor(96000)\n",
            "vocabulary size: 96103\n"
          ]
        },
        {
          "name": "stderr",
          "output_type": "stream",
          "text": [
            "\r 45%|████▍     | 56/125 [56:44<1:00:22, 52.49s/it]"
          ]
        },
        {
          "name": "stdout",
          "output_type": "stream",
          "text": [
            "torch.Size([8, 128])\n",
            "torch.Size([8, 1024])\n",
            "input_ids shape: torch.Size([8, 1024])\n",
            "max input_ids value: tensor(93630)\n",
            "vocabulary size: 96103\n"
          ]
        },
        {
          "name": "stderr",
          "output_type": "stream",
          "text": [
            "\r 46%|████▌     | 57/125 [57:39<1:00:11, 53.11s/it]"
          ]
        },
        {
          "name": "stdout",
          "output_type": "stream",
          "text": [
            "torch.Size([8, 128])\n",
            "torch.Size([8, 1024])\n",
            "input_ids shape: torch.Size([8, 1024])\n",
            "max input_ids value: tensor(95335)\n",
            "vocabulary size: 96103\n"
          ]
        },
        {
          "name": "stderr",
          "output_type": "stream",
          "text": [
            "\r 46%|████▋     | 58/125 [58:28<58:11, 52.11s/it]  "
          ]
        },
        {
          "name": "stdout",
          "output_type": "stream",
          "text": [
            "torch.Size([8, 128])\n",
            "torch.Size([8, 1024])\n",
            "input_ids shape: torch.Size([8, 1024])\n",
            "max input_ids value: tensor(95932)\n",
            "vocabulary size: 96103\n"
          ]
        },
        {
          "name": "stderr",
          "output_type": "stream",
          "text": [
            "\r 47%|████▋     | 59/125 [59:18<56:27, 51.33s/it]"
          ]
        },
        {
          "name": "stdout",
          "output_type": "stream",
          "text": [
            "torch.Size([8, 128])\n",
            "torch.Size([8, 1024])\n",
            "input_ids shape: torch.Size([8, 1024])\n",
            "max input_ids value: tensor(95735)\n",
            "vocabulary size: 96103\n"
          ]
        },
        {
          "name": "stderr",
          "output_type": "stream",
          "text": [
            "\r 48%|████▊     | 60/125 [1:00:13<56:48, 52.44s/it]"
          ]
        },
        {
          "name": "stdout",
          "output_type": "stream",
          "text": [
            "torch.Size([8, 128])\n",
            "torch.Size([8, 1024])\n",
            "input_ids shape: torch.Size([8, 1024])\n",
            "max input_ids value: tensor(95864)\n",
            "vocabulary size: 96103\n"
          ]
        },
        {
          "name": "stderr",
          "output_type": "stream",
          "text": [
            "\r 49%|████▉     | 61/125 [1:01:07<56:24, 52.88s/it]"
          ]
        },
        {
          "name": "stdout",
          "output_type": "stream",
          "text": [
            "torch.Size([8, 128])\n",
            "torch.Size([8, 1024])\n",
            "input_ids shape: torch.Size([8, 1024])\n",
            "max input_ids value: tensor(94771)\n",
            "vocabulary size: 96103\n"
          ]
        },
        {
          "name": "stderr",
          "output_type": "stream",
          "text": [
            "\r 50%|████▉     | 62/125 [1:02:01<55:49, 53.17s/it]"
          ]
        },
        {
          "name": "stdout",
          "output_type": "stream",
          "text": [
            "torch.Size([8, 128])\n",
            "torch.Size([8, 1024])\n",
            "input_ids shape: torch.Size([8, 1024])\n",
            "max input_ids value: tensor(96092)\n",
            "vocabulary size: 96103\n"
          ]
        },
        {
          "name": "stderr",
          "output_type": "stream",
          "text": [
            "\r 50%|█████     | 63/125 [1:02:53<54:45, 53.00s/it]"
          ]
        },
        {
          "name": "stdout",
          "output_type": "stream",
          "text": [
            "torch.Size([8, 128])\n",
            "torch.Size([8, 1024])\n",
            "input_ids shape: torch.Size([8, 1024])\n",
            "max input_ids value: tensor(95794)\n",
            "vocabulary size: 96103\n"
          ]
        },
        {
          "name": "stderr",
          "output_type": "stream",
          "text": [
            "\r 51%|█████     | 64/125 [1:03:44<53:18, 52.43s/it]"
          ]
        },
        {
          "name": "stdout",
          "output_type": "stream",
          "text": [
            "torch.Size([8, 128])\n",
            "torch.Size([8, 1024])\n",
            "input_ids shape: torch.Size([8, 1024])\n",
            "max input_ids value: tensor(95077)\n",
            "vocabulary size: 96103\n"
          ]
        },
        {
          "name": "stderr",
          "output_type": "stream",
          "text": [
            "\r 52%|█████▏    | 65/125 [1:04:38<52:48, 52.81s/it]"
          ]
        },
        {
          "name": "stdout",
          "output_type": "stream",
          "text": [
            "torch.Size([8, 128])\n",
            "torch.Size([8, 1024])\n",
            "input_ids shape: torch.Size([8, 1024])\n",
            "max input_ids value: tensor(95103)\n",
            "vocabulary size: 96103\n"
          ]
        },
        {
          "name": "stderr",
          "output_type": "stream",
          "text": [
            "\r 53%|█████▎    | 66/125 [1:05:28<51:03, 51.92s/it]"
          ]
        },
        {
          "name": "stdout",
          "output_type": "stream",
          "text": [
            "torch.Size([8, 128])\n",
            "torch.Size([8, 1024])\n",
            "input_ids shape: torch.Size([8, 1024])\n",
            "max input_ids value: tensor(96082)\n",
            "vocabulary size: 96103\n"
          ]
        },
        {
          "name": "stderr",
          "output_type": "stream",
          "text": [
            "\r 54%|█████▎    | 67/125 [1:06:16<49:04, 50.76s/it]"
          ]
        },
        {
          "name": "stdout",
          "output_type": "stream",
          "text": [
            "torch.Size([8, 128])\n",
            "torch.Size([8, 1024])\n",
            "input_ids shape: torch.Size([8, 1024])\n",
            "max input_ids value: tensor(95905)\n",
            "vocabulary size: 96103\n"
          ]
        },
        {
          "name": "stderr",
          "output_type": "stream",
          "text": [
            "\r 54%|█████▍    | 68/125 [1:07:07<48:10, 50.71s/it]"
          ]
        },
        {
          "name": "stdout",
          "output_type": "stream",
          "text": [
            "torch.Size([8, 128])\n",
            "torch.Size([8, 1024])\n",
            "input_ids shape: torch.Size([8, 1024])\n",
            "max input_ids value: tensor(95616)\n",
            "vocabulary size: 96103\n"
          ]
        },
        {
          "name": "stderr",
          "output_type": "stream",
          "text": [
            "\r 55%|█████▌    | 69/125 [1:07:55<46:43, 50.06s/it]"
          ]
        },
        {
          "name": "stdout",
          "output_type": "stream",
          "text": [
            "torch.Size([8, 128])\n",
            "torch.Size([8, 1024])\n",
            "input_ids shape: torch.Size([8, 1024])\n",
            "max input_ids value: tensor(95787)\n",
            "vocabulary size: 96103\n"
          ]
        },
        {
          "name": "stderr",
          "output_type": "stream",
          "text": [
            "\r 56%|█████▌    | 70/125 [1:08:45<45:55, 50.11s/it]"
          ]
        },
        {
          "name": "stdout",
          "output_type": "stream",
          "text": [
            "torch.Size([8, 128])\n",
            "torch.Size([8, 1024])\n",
            "input_ids shape: torch.Size([8, 1024])\n",
            "max input_ids value: tensor(95787)\n",
            "vocabulary size: 96103\n"
          ]
        },
        {
          "name": "stderr",
          "output_type": "stream",
          "text": [
            "\r 57%|█████▋    | 71/125 [1:09:40<46:15, 51.40s/it]"
          ]
        },
        {
          "name": "stdout",
          "output_type": "stream",
          "text": [
            "torch.Size([8, 128])\n",
            "torch.Size([8, 1024])\n",
            "input_ids shape: torch.Size([8, 1024])\n",
            "max input_ids value: tensor(95608)\n",
            "vocabulary size: 96103\n"
          ]
        },
        {
          "name": "stderr",
          "output_type": "stream",
          "text": [
            "\r 58%|█████▊    | 72/125 [1:10:30<45:09, 51.12s/it]"
          ]
        },
        {
          "name": "stdout",
          "output_type": "stream",
          "text": [
            "torch.Size([8, 128])\n",
            "torch.Size([8, 1024])\n",
            "input_ids shape: torch.Size([8, 1024])\n",
            "max input_ids value: tensor(95787)\n",
            "vocabulary size: 96103\n"
          ]
        },
        {
          "name": "stderr",
          "output_type": "stream",
          "text": [
            "\r 58%|█████▊    | 73/125 [1:11:20<43:50, 50.59s/it]"
          ]
        },
        {
          "name": "stdout",
          "output_type": "stream",
          "text": [
            "torch.Size([8, 128])\n",
            "torch.Size([8, 1024])\n",
            "input_ids shape: torch.Size([8, 1024])\n",
            "max input_ids value: tensor(96034)\n",
            "vocabulary size: 96103\n"
          ]
        },
        {
          "name": "stderr",
          "output_type": "stream",
          "text": [
            "\r 59%|█████▉    | 74/125 [1:12:10<42:56, 50.51s/it]"
          ]
        },
        {
          "name": "stdout",
          "output_type": "stream",
          "text": [
            "torch.Size([8, 128])\n",
            "torch.Size([8, 1024])\n",
            "input_ids shape: torch.Size([8, 1024])\n",
            "max input_ids value: tensor(93850)\n",
            "vocabulary size: 96103\n"
          ]
        },
        {
          "name": "stderr",
          "output_type": "stream",
          "text": [
            "\r 60%|██████    | 75/125 [1:12:58<41:34, 49.89s/it]"
          ]
        },
        {
          "name": "stdout",
          "output_type": "stream",
          "text": [
            "torch.Size([8, 128])\n",
            "torch.Size([8, 1024])\n",
            "input_ids shape: torch.Size([8, 1024])\n",
            "max input_ids value: tensor(96091)\n",
            "vocabulary size: 96103\n"
          ]
        },
        {
          "name": "stderr",
          "output_type": "stream",
          "text": [
            "\r 61%|██████    | 76/125 [1:13:53<41:55, 51.33s/it]"
          ]
        },
        {
          "name": "stdout",
          "output_type": "stream",
          "text": [
            "torch.Size([8, 128])\n",
            "torch.Size([8, 1024])\n",
            "input_ids shape: torch.Size([8, 1024])\n",
            "max input_ids value: tensor(93543)\n",
            "vocabulary size: 96103\n"
          ]
        },
        {
          "name": "stderr",
          "output_type": "stream",
          "text": [
            "\r 62%|██████▏   | 77/125 [1:14:45<41:13, 51.53s/it]"
          ]
        },
        {
          "name": "stdout",
          "output_type": "stream",
          "text": [
            "torch.Size([8, 128])\n",
            "torch.Size([8, 1024])\n",
            "input_ids shape: torch.Size([8, 1024])\n",
            "max input_ids value: tensor(93240)\n",
            "vocabulary size: 96103\n",
            "torch.Size([8, 128])\n",
            "torch.Size([8, 1024])\n"
          ]
        },
        {
          "name": "stderr",
          "output_type": "stream",
          "text": [
            "\r 62%|██████▏   | 78/125 [1:15:35<40:03, 51.15s/it]"
          ]
        },
        {
          "name": "stdout",
          "output_type": "stream",
          "text": [
            "input_ids shape: torch.Size([8, 1024])\n",
            "max input_ids value: tensor(93182)\n",
            "vocabulary size: 96103\n"
          ]
        },
        {
          "name": "stderr",
          "output_type": "stream",
          "text": [
            "\r 63%|██████▎   | 79/125 [1:16:30<39:56, 52.11s/it]"
          ]
        },
        {
          "name": "stdout",
          "output_type": "stream",
          "text": [
            "torch.Size([8, 128])\n",
            "torch.Size([8, 1024])\n",
            "input_ids shape: torch.Size([8, 1024])\n",
            "max input_ids value: tensor(94294)\n",
            "vocabulary size: 96103\n"
          ]
        },
        {
          "name": "stderr",
          "output_type": "stream",
          "text": [
            "\r 64%|██████▍   | 80/125 [1:17:20<38:41, 51.60s/it]"
          ]
        },
        {
          "name": "stdout",
          "output_type": "stream",
          "text": [
            "torch.Size([8, 128])\n",
            "torch.Size([8, 1024])\n",
            "input_ids shape: torch.Size([8, 1024])\n",
            "max input_ids value: tensor(95430)\n",
            "vocabulary size: 96103\n"
          ]
        },
        {
          "name": "stderr",
          "output_type": "stream",
          "text": [
            "\r 65%|██████▍   | 81/125 [1:18:10<37:27, 51.09s/it]"
          ]
        },
        {
          "name": "stdout",
          "output_type": "stream",
          "text": [
            "torch.Size([8, 128])\n",
            "torch.Size([8, 1024])\n",
            "input_ids shape: torch.Size([8, 1024])\n",
            "max input_ids value: tensor(95658)\n",
            "vocabulary size: 96103\n"
          ]
        },
        {
          "name": "stderr",
          "output_type": "stream",
          "text": [
            "\r 66%|██████▌   | 82/125 [1:19:00<36:19, 50.70s/it]"
          ]
        },
        {
          "name": "stdout",
          "output_type": "stream",
          "text": [
            "torch.Size([8, 128])\n",
            "torch.Size([8, 1024])\n",
            "input_ids shape: torch.Size([8, 1024])\n",
            "max input_ids value: tensor(95787)\n",
            "vocabulary size: 96103\n"
          ]
        },
        {
          "name": "stderr",
          "output_type": "stream",
          "text": [
            "\r 66%|██████▋   | 83/125 [1:19:51<35:41, 50.99s/it]"
          ]
        },
        {
          "name": "stdout",
          "output_type": "stream",
          "text": [
            "torch.Size([8, 128])\n",
            "torch.Size([8, 1024])\n",
            "input_ids shape: torch.Size([8, 1024])\n",
            "max input_ids value: tensor(94842)\n",
            "vocabulary size: 96103\n"
          ]
        },
        {
          "name": "stderr",
          "output_type": "stream",
          "text": [
            "\r 67%|██████▋   | 84/125 [1:20:44<35:14, 51.58s/it]"
          ]
        },
        {
          "name": "stdout",
          "output_type": "stream",
          "text": [
            "torch.Size([8, 128])\n",
            "torch.Size([8, 1024])\n",
            "input_ids shape: torch.Size([8, 1024])\n",
            "max input_ids value: tensor(91658)\n",
            "vocabulary size: 96103\n"
          ]
        },
        {
          "name": "stderr",
          "output_type": "stream",
          "text": [
            "\r 68%|██████▊   | 85/125 [1:21:37<34:39, 51.99s/it]"
          ]
        },
        {
          "name": "stdout",
          "output_type": "stream",
          "text": [
            "torch.Size([8, 128])\n",
            "torch.Size([8, 1024])\n",
            "input_ids shape: torch.Size([8, 1024])\n",
            "max input_ids value: tensor(95849)\n",
            "vocabulary size: 96103\n"
          ]
        },
        {
          "name": "stderr",
          "output_type": "stream",
          "text": [
            "\r 69%|██████▉   | 86/125 [1:22:26<33:04, 50.88s/it]"
          ]
        },
        {
          "name": "stdout",
          "output_type": "stream",
          "text": [
            "torch.Size([8, 128])\n",
            "torch.Size([8, 1024])\n",
            "input_ids shape: torch.Size([8, 1024])\n",
            "max input_ids value: tensor(93827)\n",
            "vocabulary size: 96103\n"
          ]
        },
        {
          "name": "stderr",
          "output_type": "stream",
          "text": [
            "\r 70%|██████▉   | 87/125 [1:23:18<32:34, 51.44s/it]"
          ]
        },
        {
          "name": "stdout",
          "output_type": "stream",
          "text": [
            "torch.Size([8, 128])\n",
            "torch.Size([8, 1024])\n",
            "input_ids shape: torch.Size([8, 1024])\n",
            "max input_ids value: tensor(96000)\n",
            "vocabulary size: 96103\n",
            "torch.Size([8, 128])\n",
            "torch.Size([8, 1024])\n"
          ]
        },
        {
          "name": "stderr",
          "output_type": "stream",
          "text": [
            "\r 70%|███████   | 88/125 [1:24:07<31:13, 50.63s/it]"
          ]
        },
        {
          "name": "stdout",
          "output_type": "stream",
          "text": [
            "input_ids shape: torch.Size([8, 1024])\n",
            "max input_ids value: tensor(94571)\n",
            "vocabulary size: 96103\n"
          ]
        },
        {
          "name": "stderr",
          "output_type": "stream",
          "text": [
            "\r 71%|███████   | 89/125 [1:25:00<30:43, 51.21s/it]"
          ]
        },
        {
          "name": "stdout",
          "output_type": "stream",
          "text": [
            "torch.Size([8, 128])\n",
            "torch.Size([8, 1024])\n",
            "input_ids shape: torch.Size([8, 1024])\n",
            "max input_ids value: tensor(94066)\n",
            "vocabulary size: 96103\n"
          ]
        },
        {
          "name": "stderr",
          "output_type": "stream",
          "text": [
            "\r 72%|███████▏  | 90/125 [1:25:54<30:22, 52.08s/it]"
          ]
        },
        {
          "name": "stdout",
          "output_type": "stream",
          "text": [
            "torch.Size([8, 128])\n",
            "torch.Size([8, 1024])\n",
            "input_ids shape: torch.Size([8, 1024])\n",
            "max input_ids value: tensor(95813)\n",
            "vocabulary size: 96103\n"
          ]
        },
        {
          "name": "stderr",
          "output_type": "stream",
          "text": [
            "\r 73%|███████▎  | 91/125 [1:26:44<29:12, 51.55s/it]"
          ]
        },
        {
          "name": "stdout",
          "output_type": "stream",
          "text": [
            "torch.Size([8, 128])\n",
            "torch.Size([8, 1024])\n",
            "input_ids shape: torch.Size([8, 1024])\n",
            "max input_ids value: tensor(96020)\n",
            "vocabulary size: 96103\n"
          ]
        },
        {
          "name": "stderr",
          "output_type": "stream",
          "text": [
            "\r 74%|███████▎  | 92/125 [1:27:37<28:35, 52.00s/it]"
          ]
        },
        {
          "name": "stdout",
          "output_type": "stream",
          "text": [
            "torch.Size([8, 128])\n",
            "torch.Size([8, 1024])\n",
            "input_ids shape: torch.Size([8, 1024])\n",
            "max input_ids value: tensor(95569)\n",
            "vocabulary size: 96103\n"
          ]
        },
        {
          "name": "stderr",
          "output_type": "stream",
          "text": [
            "\r 74%|███████▍  | 93/125 [1:28:32<28:13, 52.91s/it]"
          ]
        },
        {
          "name": "stdout",
          "output_type": "stream",
          "text": [
            "torch.Size([8, 128])\n",
            "torch.Size([8, 1024])\n",
            "input_ids shape: torch.Size([8, 1024])\n",
            "max input_ids value: tensor(94172)\n",
            "vocabulary size: 96103\n"
          ]
        },
        {
          "name": "stderr",
          "output_type": "stream",
          "text": [
            "\r 75%|███████▌  | 94/125 [1:29:30<28:06, 54.42s/it]"
          ]
        },
        {
          "name": "stdout",
          "output_type": "stream",
          "text": [
            "torch.Size([8, 128])\n",
            "torch.Size([8, 1024])\n",
            "input_ids shape: torch.Size([8, 1024])\n",
            "max input_ids value: tensor(95452)\n",
            "vocabulary size: 96103\n"
          ]
        },
        {
          "name": "stderr",
          "output_type": "stream",
          "text": [
            "\r 76%|███████▌  | 95/125 [1:30:31<28:08, 56.27s/it]"
          ]
        },
        {
          "name": "stdout",
          "output_type": "stream",
          "text": [
            "torch.Size([8, 128])\n",
            "torch.Size([8, 1024])\n",
            "input_ids shape: torch.Size([8, 1024])\n",
            "max input_ids value: tensor(95722)\n",
            "vocabulary size: 96103\n"
          ]
        },
        {
          "name": "stderr",
          "output_type": "stream",
          "text": [
            "\r 77%|███████▋  | 96/125 [1:31:31<27:44, 57.40s/it]"
          ]
        },
        {
          "name": "stdout",
          "output_type": "stream",
          "text": [
            "torch.Size([8, 128])\n",
            "torch.Size([8, 1024])\n",
            "input_ids shape: torch.Size([8, 1024])\n",
            "max input_ids value: tensor(95607)\n",
            "vocabulary size: 96103\n"
          ]
        },
        {
          "name": "stderr",
          "output_type": "stream",
          "text": [
            "\r 78%|███████▊  | 97/125 [1:32:26<26:28, 56.74s/it]"
          ]
        },
        {
          "name": "stdout",
          "output_type": "stream",
          "text": [
            "torch.Size([8, 128])\n",
            "torch.Size([8, 1024])\n",
            "input_ids shape: torch.Size([8, 1024])\n",
            "max input_ids value: tensor(95916)\n",
            "vocabulary size: 96103\n",
            "torch.Size([8, 128])\n",
            "torch.Size([8, 1024])\n"
          ]
        },
        {
          "name": "stderr",
          "output_type": "stream",
          "text": [
            "\r 78%|███████▊  | 98/125 [1:33:19<24:59, 55.54s/it]"
          ]
        },
        {
          "name": "stdout",
          "output_type": "stream",
          "text": [
            "input_ids shape: torch.Size([8, 1024])\n",
            "max input_ids value: tensor(90136)\n",
            "vocabulary size: 96103\n"
          ]
        },
        {
          "name": "stderr",
          "output_type": "stream",
          "text": [
            "\r 79%|███████▉  | 99/125 [1:34:17<24:23, 56.27s/it]"
          ]
        },
        {
          "name": "stdout",
          "output_type": "stream",
          "text": [
            "torch.Size([8, 128])\n",
            "torch.Size([8, 1024])\n",
            "input_ids shape: torch.Size([8, 1024])\n",
            "max input_ids value: tensor(96098)\n",
            "vocabulary size: 96103\n"
          ]
        },
        {
          "name": "stderr",
          "output_type": "stream",
          "text": [
            "\r 80%|████████  | 100/125 [1:35:15<23:44, 56.96s/it]"
          ]
        },
        {
          "name": "stdout",
          "output_type": "stream",
          "text": [
            "torch.Size([8, 128])\n",
            "torch.Size([8, 1024])\n",
            "input_ids shape: torch.Size([8, 1024])\n",
            "max input_ids value: tensor(93841)\n",
            "vocabulary size: 96103\n"
          ]
        },
        {
          "name": "stderr",
          "output_type": "stream",
          "text": [
            "\r 81%|████████  | 101/125 [1:36:08<22:17, 55.73s/it]"
          ]
        },
        {
          "name": "stdout",
          "output_type": "stream",
          "text": [
            "torch.Size([8, 128])\n",
            "torch.Size([8, 1024])\n",
            "input_ids shape: torch.Size([8, 1024])\n",
            "max input_ids value: tensor(96100)\n",
            "vocabulary size: 96103\n"
          ]
        },
        {
          "name": "stderr",
          "output_type": "stream",
          "text": [
            "\r 82%|████████▏ | 102/125 [1:37:03<21:16, 55.52s/it]"
          ]
        },
        {
          "name": "stdout",
          "output_type": "stream",
          "text": [
            "torch.Size([8, 128])\n",
            "torch.Size([8, 1024])\n",
            "input_ids shape: torch.Size([8, 1024])\n",
            "max input_ids value: tensor(95326)\n",
            "vocabulary size: 96103\n"
          ]
        },
        {
          "name": "stderr",
          "output_type": "stream",
          "text": [
            "\r 82%|████████▏ | 103/125 [1:37:57<20:07, 54.87s/it]"
          ]
        },
        {
          "name": "stdout",
          "output_type": "stream",
          "text": [
            "torch.Size([8, 128])\n",
            "torch.Size([8, 1024])\n",
            "input_ids shape: torch.Size([8, 1024])\n",
            "max input_ids value: tensor(95849)\n",
            "vocabulary size: 96103\n"
          ]
        },
        {
          "name": "stderr",
          "output_type": "stream",
          "text": [
            "\r 83%|████████▎ | 104/125 [1:38:53<19:23, 55.41s/it]"
          ]
        },
        {
          "name": "stdout",
          "output_type": "stream",
          "text": [
            "torch.Size([8, 128])\n",
            "torch.Size([8, 1024])\n",
            "input_ids shape: torch.Size([8, 1024])\n",
            "max input_ids value: tensor(94222)\n",
            "vocabulary size: 96103\n"
          ]
        },
        {
          "name": "stderr",
          "output_type": "stream",
          "text": [
            "\r 84%|████████▍ | 105/125 [1:39:49<18:30, 55.50s/it]"
          ]
        },
        {
          "name": "stdout",
          "output_type": "stream",
          "text": [
            "torch.Size([8, 128])\n",
            "torch.Size([8, 1024])\n",
            "input_ids shape: torch.Size([8, 1024])\n",
            "max input_ids value: tensor(93736)\n",
            "vocabulary size: 96103\n",
            "torch.Size([8, 128])\n",
            "torch.Size([8, 1024])\n"
          ]
        },
        {
          "name": "stderr",
          "output_type": "stream",
          "text": [
            "\r 85%|████████▍ | 106/125 [1:40:39<17:04, 53.92s/it]"
          ]
        },
        {
          "name": "stdout",
          "output_type": "stream",
          "text": [
            "input_ids shape: torch.Size([8, 1024])\n",
            "max input_ids value: tensor(95999)\n",
            "vocabulary size: 96103\n"
          ]
        },
        {
          "name": "stderr",
          "output_type": "stream",
          "text": [
            "\r 86%|████████▌ | 107/125 [1:41:32<16:03, 53.55s/it]"
          ]
        },
        {
          "name": "stdout",
          "output_type": "stream",
          "text": [
            "torch.Size([8, 128])\n",
            "torch.Size([8, 1024])\n",
            "input_ids shape: torch.Size([8, 1024])\n",
            "max input_ids value: tensor(95107)\n",
            "vocabulary size: 96103\n"
          ]
        },
        {
          "name": "stderr",
          "output_type": "stream",
          "text": [
            "\r 86%|████████▋ | 108/125 [1:42:25<15:07, 53.40s/it]"
          ]
        },
        {
          "name": "stdout",
          "output_type": "stream",
          "text": [
            "torch.Size([8, 128])\n",
            "torch.Size([8, 1024])\n",
            "input_ids shape: torch.Size([8, 1024])\n",
            "max input_ids value: tensor(95276)\n",
            "vocabulary size: 96103\n"
          ]
        },
        {
          "name": "stderr",
          "output_type": "stream",
          "text": [
            "\r 87%|████████▋ | 109/125 [1:43:18<14:14, 53.39s/it]"
          ]
        },
        {
          "name": "stdout",
          "output_type": "stream",
          "text": [
            "torch.Size([8, 128])\n",
            "torch.Size([8, 1024])\n",
            "input_ids shape: torch.Size([8, 1024])\n",
            "max input_ids value: tensor(96039)\n",
            "vocabulary size: 96103\n"
          ]
        },
        {
          "name": "stderr",
          "output_type": "stream",
          "text": [
            "\r 88%|████████▊ | 110/125 [1:44:11<13:19, 53.29s/it]"
          ]
        },
        {
          "name": "stdout",
          "output_type": "stream",
          "text": [
            "torch.Size([8, 128])\n",
            "torch.Size([8, 1024])\n",
            "input_ids shape: torch.Size([8, 1024])\n",
            "max input_ids value: tensor(94136)\n",
            "vocabulary size: 96103\n"
          ]
        },
        {
          "name": "stderr",
          "output_type": "stream",
          "text": [
            "\r 89%|████████▉ | 111/125 [1:45:04<12:25, 53.26s/it]"
          ]
        },
        {
          "name": "stdout",
          "output_type": "stream",
          "text": [
            "torch.Size([8, 128])\n",
            "torch.Size([8, 1024])\n",
            "input_ids shape: torch.Size([8, 1024])\n",
            "max input_ids value: tensor(93768)\n",
            "vocabulary size: 96103\n"
          ]
        },
        {
          "name": "stderr",
          "output_type": "stream",
          "text": [
            "\r 90%|████████▉ | 112/125 [1:45:52<11:09, 51.51s/it]"
          ]
        },
        {
          "name": "stdout",
          "output_type": "stream",
          "text": [
            "torch.Size([8, 128])\n",
            "torch.Size([8, 1024])\n",
            "input_ids shape: torch.Size([8, 1024])\n",
            "max input_ids value: tensor(94705)\n",
            "vocabulary size: 96103\n"
          ]
        },
        {
          "name": "stderr",
          "output_type": "stream",
          "text": [
            "\r 90%|█████████ | 113/125 [1:46:41<10:08, 50.71s/it]"
          ]
        },
        {
          "name": "stdout",
          "output_type": "stream",
          "text": [
            "torch.Size([8, 128])\n",
            "torch.Size([8, 1024])\n",
            "input_ids shape: torch.Size([8, 1024])\n",
            "max input_ids value: tensor(93881)\n",
            "vocabulary size: 96103\n"
          ]
        },
        {
          "name": "stderr",
          "output_type": "stream",
          "text": [
            "\r 91%|█████████ | 114/125 [1:47:31<09:17, 50.69s/it]"
          ]
        },
        {
          "name": "stdout",
          "output_type": "stream",
          "text": [
            "torch.Size([8, 128])\n",
            "torch.Size([8, 1024])\n",
            "input_ids shape: torch.Size([8, 1024])\n",
            "max input_ids value: tensor(94271)\n",
            "vocabulary size: 96103\n",
            "torch.Size([8, 128])\n",
            "torch.Size([8, 1024])\n"
          ]
        },
        {
          "name": "stderr",
          "output_type": "stream",
          "text": [
            "\r 92%|█████████▏| 115/125 [1:48:19<08:17, 49.75s/it]"
          ]
        },
        {
          "name": "stdout",
          "output_type": "stream",
          "text": [
            "input_ids shape: torch.Size([8, 1024])\n",
            "max input_ids value: tensor(95531)\n",
            "vocabulary size: 96103\n",
            "torch.Size([8, 128])\n",
            "torch.Size([8, 1024])\n"
          ]
        },
        {
          "name": "stderr",
          "output_type": "stream",
          "text": [
            "\r 93%|█████████▎| 116/125 [1:49:13<07:38, 50.93s/it]"
          ]
        },
        {
          "name": "stdout",
          "output_type": "stream",
          "text": [
            "input_ids shape: torch.Size([8, 1024])\n",
            "max input_ids value: tensor(95787)\n",
            "vocabulary size: 96103\n"
          ]
        },
        {
          "name": "stderr",
          "output_type": "stream",
          "text": [
            "\r 94%|█████████▎| 117/125 [1:50:06<06:53, 51.67s/it]"
          ]
        },
        {
          "name": "stdout",
          "output_type": "stream",
          "text": [
            "torch.Size([8, 128])\n",
            "torch.Size([8, 1024])\n",
            "input_ids shape: torch.Size([8, 1024])\n",
            "max input_ids value: tensor(95338)\n",
            "vocabulary size: 96103\n"
          ]
        },
        {
          "name": "stderr",
          "output_type": "stream",
          "text": [
            "\r 94%|█████████▍| 118/125 [1:50:59<06:04, 52.00s/it]"
          ]
        },
        {
          "name": "stdout",
          "output_type": "stream",
          "text": [
            "torch.Size([8, 128])\n",
            "torch.Size([8, 1024])\n",
            "input_ids shape: torch.Size([8, 1024])\n",
            "max input_ids value: tensor(94014)\n",
            "vocabulary size: 96103\n"
          ]
        },
        {
          "name": "stderr",
          "output_type": "stream",
          "text": [
            "\r 95%|█████████▌| 119/125 [1:51:51<05:12, 52.04s/it]"
          ]
        },
        {
          "name": "stdout",
          "output_type": "stream",
          "text": [
            "torch.Size([8, 128])\n",
            "torch.Size([8, 1024])\n",
            "input_ids shape: torch.Size([8, 1024])\n",
            "max input_ids value: tensor(92196)\n",
            "vocabulary size: 96103\n"
          ]
        },
        {
          "name": "stderr",
          "output_type": "stream",
          "text": [
            "\r 96%|█████████▌| 120/125 [1:52:43<04:20, 52.08s/it]"
          ]
        },
        {
          "name": "stdout",
          "output_type": "stream",
          "text": [
            "torch.Size([8, 128])\n",
            "torch.Size([8, 1024])\n",
            "input_ids shape: torch.Size([8, 1024])\n",
            "max input_ids value: tensor(95590)\n",
            "vocabulary size: 96103\n"
          ]
        },
        {
          "name": "stderr",
          "output_type": "stream",
          "text": [
            "\r 97%|█████████▋| 121/125 [1:53:33<03:26, 51.54s/it]"
          ]
        },
        {
          "name": "stdout",
          "output_type": "stream",
          "text": [
            "torch.Size([8, 128])\n",
            "torch.Size([8, 1024])\n",
            "input_ids shape: torch.Size([8, 1024])\n",
            "max input_ids value: tensor(95965)\n",
            "vocabulary size: 96103\n",
            "torch.Size([8, 128])\n",
            "torch.Size([8, 1024])\n"
          ]
        },
        {
          "name": "stderr",
          "output_type": "stream",
          "text": [
            "\r 98%|█████████▊| 122/125 [1:54:21<02:31, 50.43s/it]"
          ]
        },
        {
          "name": "stdout",
          "output_type": "stream",
          "text": [
            "input_ids shape: torch.Size([8, 1024])\n",
            "max input_ids value: tensor(95847)\n",
            "vocabulary size: 96103\n"
          ]
        },
        {
          "name": "stderr",
          "output_type": "stream",
          "text": [
            "\r 98%|█████████▊| 123/125 [1:55:13<01:41, 50.76s/it]"
          ]
        },
        {
          "name": "stdout",
          "output_type": "stream",
          "text": [
            "torch.Size([8, 128])\n",
            "torch.Size([8, 1024])\n",
            "input_ids shape: torch.Size([8, 1024])\n",
            "max input_ids value: tensor(93458)\n",
            "vocabulary size: 96103\n"
          ]
        },
        {
          "name": "stderr",
          "output_type": "stream",
          "text": [
            "\r 99%|█████████▉| 124/125 [1:56:05<00:51, 51.23s/it]"
          ]
        },
        {
          "name": "stdout",
          "output_type": "stream",
          "text": [
            "torch.Size([8, 128])\n",
            "torch.Size([8, 1024])\n",
            "input_ids shape: torch.Size([8, 1024])\n",
            "max input_ids value: tensor(95905)\n",
            "vocabulary size: 96103\n"
          ]
        },
        {
          "name": "stderr",
          "output_type": "stream",
          "text": [
            "100%|██████████| 125/125 [1:56:58<00:00, 56.15s/it]"
          ]
        },
        {
          "name": "stdout",
          "output_type": "stream",
          "text": [
            "torch.Size([8, 128])\n",
            "torch.Size([8, 1024])\n"
          ]
        },
        {
          "name": "stderr",
          "output_type": "stream",
          "text": [
            "\n"
          ]
        }
      ],
      "source": [
        "rouge_names = [\"rouge1\", \"rouge2\", \"rougeL\", \"rougeLsum\"]\n",
        "\n",
        "rouge_metric = load_metric('rouge')\n",
        "\n",
        "score = calculate_metric_on_test_ds(dataset_cnn['test'][:1000], rouge_metric, model_pegasus, tokenizer, column_text = 'article', column_summary='highlights', batch_size=8 )"
      ],
      "id": "o-HJWNcehxwO"
    },
    {
      "cell_type": "code",
      "execution_count": null,
      "metadata": {
        "colab": {
          "base_uri": "https://localhost:8080/",
          "height": 81
        },
        "id": "v-lnMcr9Pljw",
        "outputId": "0f3cdac0-26a8-4021-edb9-8a824a404461"
      },
      "outputs": [
        {
          "data": {
            "text/html": [
              "\n",
              "  <div id=\"df-36b336f0-7b7f-4b37-9dda-57c6b5dea810\">\n",
              "    <div class=\"colab-df-container\">\n",
              "      <div>\n",
              "<style scoped>\n",
              "    .dataframe tbody tr th:only-of-type {\n",
              "        vertical-align: middle;\n",
              "    }\n",
              "\n",
              "    .dataframe tbody tr th {\n",
              "        vertical-align: top;\n",
              "    }\n",
              "\n",
              "    .dataframe thead th {\n",
              "        text-align: right;\n",
              "    }\n",
              "</style>\n",
              "<table border=\"1\" class=\"dataframe\">\n",
              "  <thead>\n",
              "    <tr style=\"text-align: right;\">\n",
              "      <th></th>\n",
              "      <th>rouge1</th>\n",
              "      <th>rouge2</th>\n",
              "      <th>rougeL</th>\n",
              "      <th>rougeLsum</th>\n",
              "    </tr>\n",
              "  </thead>\n",
              "  <tbody>\n",
              "    <tr>\n",
              "      <th>pegasus</th>\n",
              "      <td>0.250474</td>\n",
              "      <td>0.088866</td>\n",
              "      <td>0.167381</td>\n",
              "      <td>0.1999</td>\n",
              "    </tr>\n",
              "  </tbody>\n",
              "</table>\n",
              "</div>\n",
              "      <button class=\"colab-df-convert\" onclick=\"convertToInteractive('df-36b336f0-7b7f-4b37-9dda-57c6b5dea810')\"\n",
              "              title=\"Convert this dataframe to an interactive table.\"\n",
              "              style=\"display:none;\">\n",
              "        \n",
              "  <svg xmlns=\"http://www.w3.org/2000/svg\" height=\"24px\"viewBox=\"0 0 24 24\"\n",
              "       width=\"24px\">\n",
              "    <path d=\"M0 0h24v24H0V0z\" fill=\"none\"/>\n",
              "    <path d=\"M18.56 5.44l.94 2.06.94-2.06 2.06-.94-2.06-.94-.94-2.06-.94 2.06-2.06.94zm-11 1L8.5 8.5l.94-2.06 2.06-.94-2.06-.94L8.5 2.5l-.94 2.06-2.06.94zm10 10l.94 2.06.94-2.06 2.06-.94-2.06-.94-.94-2.06-.94 2.06-2.06.94z\"/><path d=\"M17.41 7.96l-1.37-1.37c-.4-.4-.92-.59-1.43-.59-.52 0-1.04.2-1.43.59L10.3 9.45l-7.72 7.72c-.78.78-.78 2.05 0 2.83L4 21.41c.39.39.9.59 1.41.59.51 0 1.02-.2 1.41-.59l7.78-7.78 2.81-2.81c.8-.78.8-2.07 0-2.86zM5.41 20L4 18.59l7.72-7.72 1.47 1.35L5.41 20z\"/>\n",
              "  </svg>\n",
              "      </button>\n",
              "      \n",
              "  <style>\n",
              "    .colab-df-container {\n",
              "      display:flex;\n",
              "      flex-wrap:wrap;\n",
              "      gap: 12px;\n",
              "    }\n",
              "\n",
              "    .colab-df-convert {\n",
              "      background-color: #E8F0FE;\n",
              "      border: none;\n",
              "      border-radius: 50%;\n",
              "      cursor: pointer;\n",
              "      display: none;\n",
              "      fill: #1967D2;\n",
              "      height: 32px;\n",
              "      padding: 0 0 0 0;\n",
              "      width: 32px;\n",
              "    }\n",
              "\n",
              "    .colab-df-convert:hover {\n",
              "      background-color: #E2EBFA;\n",
              "      box-shadow: 0px 1px 2px rgba(60, 64, 67, 0.3), 0px 1px 3px 1px rgba(60, 64, 67, 0.15);\n",
              "      fill: #174EA6;\n",
              "    }\n",
              "\n",
              "    [theme=dark] .colab-df-convert {\n",
              "      background-color: #3B4455;\n",
              "      fill: #D2E3FC;\n",
              "    }\n",
              "\n",
              "    [theme=dark] .colab-df-convert:hover {\n",
              "      background-color: #434B5C;\n",
              "      box-shadow: 0px 1px 3px 1px rgba(0, 0, 0, 0.15);\n",
              "      filter: drop-shadow(0px 1px 2px rgba(0, 0, 0, 0.3));\n",
              "      fill: #FFFFFF;\n",
              "    }\n",
              "  </style>\n",
              "\n",
              "      <script>\n",
              "        const buttonEl =\n",
              "          document.querySelector('#df-36b336f0-7b7f-4b37-9dda-57c6b5dea810 button.colab-df-convert');\n",
              "        buttonEl.style.display =\n",
              "          google.colab.kernel.accessAllowed ? 'block' : 'none';\n",
              "\n",
              "        async function convertToInteractive(key) {\n",
              "          const element = document.querySelector('#df-36b336f0-7b7f-4b37-9dda-57c6b5dea810');\n",
              "          const dataTable =\n",
              "            await google.colab.kernel.invokeFunction('convertToInteractive',\n",
              "                                                     [key], {});\n",
              "          if (!dataTable) return;\n",
              "\n",
              "          const docLinkHtml = 'Like what you see? Visit the ' +\n",
              "            '<a target=\"_blank\" href=https://colab.research.google.com/notebooks/data_table.ipynb>data table notebook</a>'\n",
              "            + ' to learn more about interactive tables.';\n",
              "          element.innerHTML = '';\n",
              "          dataTable['output_type'] = 'display_data';\n",
              "          await google.colab.output.renderOutput(dataTable, element);\n",
              "          const docLink = document.createElement('div');\n",
              "          docLink.innerHTML = docLinkHtml;\n",
              "          element.appendChild(docLink);\n",
              "        }\n",
              "      </script>\n",
              "    </div>\n",
              "  </div>\n",
              "  "
            ],
            "text/plain": [
              "           rouge1    rouge2    rougeL  rougeLsum\n",
              "pegasus  0.250474  0.088866  0.167381     0.1999"
            ]
          },
          "execution_count": 16,
          "metadata": {},
          "output_type": "execute_result"
        }
      ],
      "source": [
        "rouge_dict = dict((rn, score[rn].mid.fmeasure ) for rn in rouge_names )\n",
        "\n",
        "pd.DataFrame(rouge_dict, index = ['pegasus'])"
      ],
      "id": "v-lnMcr9Pljw"
    },
    {
      "cell_type": "code",
      "execution_count": null,
      "metadata": {
        "id": "WvG9gn8TXMPn"
      },
      "outputs": [],
      "source": [
        "rouge_scores_wo_pretrain = pd.DataFrame(rouge_dict, index = ['pegasus'])\n",
        "rouge_scores_wo_pretrain.to_csv('rouge_scores_no_pretraining.csv')"
      ],
      "id": "WvG9gn8TXMPn"
    },
    {
      "cell_type": "markdown",
      "metadata": {
        "id": "xucVxN4LPwZE"
      },
      "source": [
        "Histogram"
      ],
      "id": "xucVxN4LPwZE"
    },
    {
      "cell_type": "code",
      "execution_count": null,
      "metadata": {
        "colab": {
          "base_uri": "https://localhost:8080/",
          "height": 332
        },
        "id": "0XUJo9S7hxyv",
        "outputId": "b94e8ec5-5bea-404f-8e43-750570600f45"
      },
      "outputs": [
        {
          "data": {
            "image/png": "[encoded data removed]",
            "text/plain": [
              "<Figure size 1000x400 with 2 Axes>"
            ]
          },
          "metadata": {},
          "output_type": "display_data"
        }
      ],
      "source": [
        "import matplotlib.pyplot as plt\n",
        "\n",
        "article_token_len = [len(tokenizer.encode(s)) for s in dataset_cnn['train']['article']]\n",
        "\n",
        "highlights_token_len = [len(tokenizer.encode(s)) for s in dataset_cnn['train']['highlights']]\n",
        "\n",
        "\n",
        "fig, axes = plt.subplots(1, 2, figsize=(10, 4), sharey=True )\n",
        "axes[0].hist(article_token_len, bins = 20, color = 'C0', edgecolor = 'C0' )\n",
        "axes[0].set_title(\"article Token Length\")\n",
        "axes[0].set_xlabel(\"Length\")\n",
        "axes[0].set_ylabel(\"Count\")\n",
        "\n",
        "axes[1].hist(highlights_token_len, bins = 20, color = 'C1', edgecolor = 'C1' )\n",
        "axes[1].set_title(\"highlights Token Length\")\n",
        "axes[1].set_xlabel(\"Length\")\n",
        "plt.tight_layout()\n",
        "plt.show()\n"
      ],
      "id": "0XUJo9S7hxyv"
    },
    {
      "cell_type": "code",
      "execution_count": null,
      "metadata": {
        "colab": {
          "base_uri": "https://localhost:8080/",
          "height": 72,
          "referenced_widgets": [
            "b8baf3b0679046d78abc05934b1498e9",
            "72407edbcdbd42b0a6b2853694c3dbce",
            "b0263f4e70774d44a440162fe42b7c7e",
            "dd5ca4e62f4d41ae8ea73a27788544a7",
            "2eccbe1b9de14bf298053bf187ce128b",
            "b5da637577e349ee9aaa92b9b17f9d1a",
            "8df8de4a32504279855a92c2c06c4b6b",
            "a99d0f92d4a24361b3982066d64a4481",
            "1191d950c5b8423a9510f63b7ec91da7",
            "17134cd480a2457192d8ad28d3bf93d8",
            "0b30de618feb4163aa2cd5cf6ef737ca",
            "d3062bf7bf204baa9d1b566680db8817",
            "179f3f2650634b6e9bdd4326c37bbb8c",
            "dd7f8cd2e07d402a900aac39db2da462",
            "fca72dad12ea48578fcdab47c704e262",
            "7adfbda825644341ad38770c45f79bdc",
            "a38c7a50a30a453f98d571f28e7bd1d5",
            "0bd89415b86745ddbca39af5e1fc5ec7",
            "6466fba593514a7b96f970f11b2f4a96",
            "24c3b0f0920c44b3a4b185d4612838f9",
            "4f6f22eab7de4365b21d53de44e8d7e5",
            "05cc791bee6345b48e02d92324e6a8fa",
            "7cf16ad166ab47409959b5e803a0c5f2",
            "d55d96f897e24e5ab57598d0b1aba7dc",
            "5db58539b85a4da3af2ed25eaff1a465",
            "e3b8b1c1c3854d8fb816d973ed3cee1b",
            "0b93274c78ef41b78a56592d31fca16c",
            "67ae888ff5f9450383a384862a52a896",
            "5eec0ba18c5e4c6f84076167cd5e5074",
            "10238ec54aa14ac491ccd0a5636b5fa2",
            "c726de93c7dd451788aafe827a79fc17",
            "17fb1153048d4511b66df7866fbca9a1",
            "768ed44dc95d46a8936d0b48cb4880ea"
          ]
        },
        "id": "fJY6UFLHQG19",
        "outputId": "8e89dd34-c450-4b3f-f781-2e6c88a6fa52"
      },
      "outputs": [
        {
          "data": {
            "application/vnd.jupyter.widget-view+json": {
              "model_id": "b8baf3b0679046d78abc05934b1498e9",
              "version_major": 2,
              "version_minor": 0
            },
            "text/plain": [
              "Map:   0%|          | 0/287113 [00:00<?, ? examples/s]"
            ]
          },
          "metadata": {},
          "output_type": "display_data"
        },
        {
          "name": "stderr",
          "output_type": "stream",
          "text": [
            "/usr/local/lib/python3.10/dist-packages/transformers/tokenization_utils_base.py:3606: UserWarning: `as_target_tokenizer` is deprecated and will be removed in v5 of Transformers. You can tokenize your labels by using the argument `text_target` of the regular `__call__` method (either in the same call as your input texts if you use the same keyword arguments, or in a separate call.\n",
            "  warnings.warn(\n"
          ]
        },
        {
          "data": {
            "application/vnd.jupyter.widget-view+json": {
              "model_id": "d3062bf7bf204baa9d1b566680db8817",
              "version_major": 2,
              "version_minor": 0
            },
            "text/plain": [
              "Map:   0%|          | 0/13368 [00:00<?, ? examples/s]"
            ]
          },
          "metadata": {},
          "output_type": "display_data"
        },
        {
          "data": {
            "application/vnd.jupyter.widget-view+json": {
              "model_id": "7cf16ad166ab47409959b5e803a0c5f2",
              "version_major": 2,
              "version_minor": 0
            },
            "text/plain": [
              "Map:   0%|          | 0/11490 [00:00<?, ? examples/s]"
            ]
          },
          "metadata": {},
          "output_type": "display_data"
        }
      ],
      "source": [
        "def convert_examples_to_features(example_batch):\n",
        "    input_encodings = tokenizer(example_batch['article'] , max_length = 1024, truncation = True )\n",
        "    \n",
        "    with tokenizer.as_target_tokenizer():\n",
        "        target_encodings = tokenizer(example_batch['highlights'], max_length = 128, truncation = True )\n",
        "        \n",
        "    return {\n",
        "        'input_ids' : input_encodings['input_ids'],\n",
        "        'attention_mask': input_encodings['attention_mask'],\n",
        "        'labels': target_encodings['input_ids']\n",
        "    }\n",
        "    \n",
        "dataset_cnn_pt = dataset_cnn.map(convert_examples_to_features, remove_columns = ['id','article','highlights'],batched = True)"
      ],
      "id": "fJY6UFLHQG19"
    },
    {
      "cell_type": "code",
      "execution_count": null,
      "metadata": {
        "id": "oQjtCqiSHTrL"
      },
      "outputs": [],
      "source": [
        "from datasets import DatasetDict\n",
        "\n",
        "# Assuming you have a DatasetDict object called dataset_dict\n",
        "dataset_dict = DatasetDict({\n",
        "    'train': dataset_cnn_pt['train'],  # Your train dataset\n",
        "    'validation': dataset_cnn_pt['validation'],  # Your validation dataset\n",
        "    'test': dataset_cnn_pt['test']  # Your test dataset\n",
        "})\n",
        "\n",
        "# Print 5 rows of a specific dataset within the DatasetDict\n",
        "dataset_name = 'train'  # Specify the name of the dataset you want to print\n",
        "dataset = dataset_dict[dataset_name]\n",
        "\n",
        "print(dataset.head(5))\n"
      ],
      "id": "oQjtCqiSHTrL"
    },
    {
      "cell_type": "code",
      "execution_count": null,
      "metadata": {
        "colab": {
          "base_uri": "https://localhost:8080/"
        },
        "id": "l0HKKWpXz5hh",
        "outputId": "15f20158-0a9b-439a-88b0-0b1fa58ac811"
      },
      "outputs": [
        {
          "data": {
            "text/plain": [
              "DatasetDict({\n",
              "    train: Dataset({\n",
              "        features: ['input_ids', 'attention_mask', 'labels'],\n",
              "        num_rows: 287113\n",
              "    })\n",
              "    validation: Dataset({\n",
              "        features: ['input_ids', 'attention_mask', 'labels'],\n",
              "        num_rows: 13368\n",
              "    })\n",
              "    test: Dataset({\n",
              "        features: ['input_ids', 'attention_mask', 'labels'],\n",
              "        num_rows: 11490\n",
              "    })\n",
              "})"
            ]
          },
          "execution_count": 65,
          "metadata": {},
          "output_type": "execute_result"
        }
      ],
      "source": [
        "dataset_cnn_pt"
      ],
      "id": "l0HKKWpXz5hh"
    },
    {
      "cell_type": "code",
      "execution_count": null,
      "metadata": {
        "colab": {
          "base_uri": "https://localhost:8080/"
        },
        "id": "k6y5pEvXFfB1",
        "outputId": "3abecc88-3f1d-40e9-af46-9f684bb5c34e"
      },
      "outputs": [
        {
          "name": "stdout",
          "output_type": "stream",
          "text": [
            "train:\n",
            "{'input_ids': [45933, 108, 2159, 143, 25445, 158, 1315, 5849, 10173, 2187, 4767, 59988, 6602, 489, 112, 114, 1668, 25946, 604, 38589, 17593, 604, 158, 9490, 130, 178, 3043, 1204, 124, 1491, 108, 155, 178, 21031, 109, 408, 576, 131, 144, 2682, 114, 7779, 124, 342, 107, 4767, 59988, 130, 5849, 10173, 115, 198, 30827, 10173, 111, 109, 4257, 113, 109, 7045, 194, 413, 109, 11313, 113, 20581, 22803, 116, 279, 109, 278, 108, 109, 758, 5102, 649, 178, 148, 220, 1017, 112, 94670, 169, 1325, 429, 124, 991, 1732, 108, 2256, 111, 8913, 1829, 107, 198, 187, 272, 131, 144, 511, 112, 129, 156, 113, 274, 200, 170, 108, 130, 783, 130, 157, 795, 7739, 5008, 631, 1118, 114, 2926, 1537, 439, 949, 132, 364, 984, 745, 178, 898, 142, 2676, 27348, 1678, 136, 625, 107, 198, 187, 272, 131, 144, 311, 125, 131, 267, 129, 1533, 22948, 107, 198, 159, 341, 125, 172, 1783, 127, 341, 120, 519, 160, 377, 4118, 1315, 1031, 111, 15610, 111, 17371, 496, 654, 7739, 59988, 138, 129, 350, 112, 22299, 115, 114, 3080, 108, 631, 114, 2256, 115, 114, 7821, 132, 236, 109, 7297, 896, 198, 21083, 2734, 151, 3643, 2751, 745, 767, 1029, 1262, 487, 169, 344, 156, 1397, 124, 109, 926, 1076, 629, 3673, 107, 8247, 113, 199, 178, 131, 267, 2689, 169, 11023, 2453, 127, 365, 13227, 107, 1006, 2575, 111, 61740, 196, 220, 1929, 124, 169, 1017, 107, 198, 187, 131, 267, 1264, 133, 181, 1851, 113, 829, 745, 178, 243, 115, 142, 2292, 107, 198, 19144, 3546, 113, 119, 138, 129, 961, 160, 126, 496, 59988, 131, 116, 5264, 135, 109, 211, 668, 10173, 3265, 133, 174, 886, 115, 114, 1650, 2617, 162, 178, 148, 146, 174, 350, 112, 1266, 107, 4987, 169, 1222, 10022, 111, 27687, 108, 109, 5102, 649, 178, 117, 1727, 169, 1377, 8380, 124, 109, 1230, 107, 198, 5433, 127, 329, 383, 112, 416, 1034, 29081, 2187, 1168, 299, 109, 14341, 108, 131, 194, 178, 898, 9877, 289, 625, 107, 198, 955, 125, 508, 221, 514, 146, 112, 275, 120, 230, 262, 126, 192, 129, 314, 400, 118, 183, 496, 1006, 807, 17481, 130, 109, 2955, 16703, 115, 198, 30827, 10173, 111, 109, 4257, 113, 109, 7045, 194, 117, 4282, 2125, 124, 302, 2600, 113, 109, 5824, 111, 178, 138, 54242, 109, 868, 115, 109, 289, 228, 3265, 107, 3711, 125, 121, 80770, 361, 215, 933, 113, 10173, 131, 116, 807, 110, 105, 110, 107, 353, 117, 271, 1454, 10173, 108, 802, 107, 139, 1169, 420, 148, 13993, 114, 1180, 1397, 568, 198, 1207, 7171, 3641, 745, 160, 1782, 92738, 68303, 111, 169, 1601, 108, 640, 118, 1131, 678, 136, 232, 107, 285, 138, 163, 1699, 115, 198, 15968, 8656, 745, 142, 2676, 896, 160, 541, 3185, 170, 4514, 142, 31057, 107, 14740, 136, 232, 108, 178, 266, 169, 1348, 4042, 1123, 114, 33533, 10686, 115, 3104, 78743, 131, 116, 198, 1005, 15053, 1579, 496, 8199, 108, 178, 117, 72032, 118, 254, 2943, 636, 16222, 239, 120, 178, 131, 116, 7829, 142, 2765, 151, 198, 187, 188, 311, 125, 131, 208, 313, 112, 129, 154, 1851, 113, 2335, 389, 745, 178, 898, 15078, 107, 699, 121, 2873, 112, 114, 1151, 110, 107, 9272, 4001, 15078, 107, 436, 1420, 4398, 107, 287, 1001, 218, 146, 129, 1299, 108, 6017, 108, 53779, 108, 132, 70946, 107, 1], 'attention_mask': [1, 1, 1, 1, 1, 1, 1, 1, 1, 1, 1, 1, 1, 1, 1, 1, 1, 1, 1, 1, 1, 1, 1, 1, 1, 1, 1, 1, 1, 1, 1, 1, 1, 1, 1, 1, 1, 1, 1, 1, 1, 1, 1, 1, 1, 1, 1, 1, 1, 1, 1, 1, 1, 1, 1, 1, 1, 1, 1, 1, 1, 1, 1, 1, 1, 1, 1, 1, 1, 1, 1, 1, 1, 1, 1, 1, 1, 1, 1, 1, 1, 1, 1, 1, 1, 1, 1, 1, 1, 1, 1, 1, 1, 1, 1, 1, 1, 1, 1, 1, 1, 1, 1, 1, 1, 1, 1, 1, 1, 1, 1, 1, 1, 1, 1, 1, 1, 1, 1, 1, 1, 1, 1, 1, 1, 1, 1, 1, 1, 1, 1, 1, 1, 1, 1, 1, 1, 1, 1, 1, 1, 1, 1, 1, 1, 1, 1, 1, 1, 1, 1, 1, 1, 1, 1, 1, 1, 1, 1, 1, 1, 1, 1, 1, 1, 1, 1, 1, 1, 1, 1, 1, 1, 1, 1, 1, 1, 1, 1, 1, 1, 1, 1, 1, 1, 1, 1, 1, 1, 1, 1, 1, 1, 1, 1, 1, 1, 1, 1, 1, 1, 1, 1, 1, 1, 1, 1, 1, 1, 1, 1, 1, 1, 1, 1, 1, 1, 1, 1, 1, 1, 1, 1, 1, 1, 1, 1, 1, 1, 1, 1, 1, 1, 1, 1, 1, 1, 1, 1, 1, 1, 1, 1, 1, 1, 1, 1, 1, 1, 1, 1, 1, 1, 1, 1, 1, 1, 1, 1, 1, 1, 1, 1, 1, 1, 1, 1, 1, 1, 1, 1, 1, 1, 1, 1, 1, 1, 1, 1, 1, 1, 1, 1, 1, 1, 1, 1, 1, 1, 1, 1, 1, 1, 1, 1, 1, 1, 1, 1, 1, 1, 1, 1, 1, 1, 1, 1, 1, 1, 1, 1, 1, 1, 1, 1, 1, 1, 1, 1, 1, 1, 1, 1, 1, 1, 1, 1, 1, 1, 1, 1, 1, 1, 1, 1, 1, 1, 1, 1, 1, 1, 1, 1, 1, 1, 1, 1, 1, 1, 1, 1, 1, 1, 1, 1, 1, 1, 1, 1, 1, 1, 1, 1, 1, 1, 1, 1, 1, 1, 1, 1, 1, 1, 1, 1, 1, 1, 1, 1, 1, 1, 1, 1, 1, 1, 1, 1, 1, 1, 1, 1, 1, 1, 1, 1, 1, 1, 1, 1, 1, 1, 1, 1, 1, 1, 1, 1, 1, 1, 1, 1, 1, 1, 1, 1, 1, 1, 1, 1, 1, 1, 1, 1, 1, 1, 1, 1, 1, 1, 1, 1, 1, 1, 1, 1, 1, 1, 1, 1, 1, 1, 1, 1, 1, 1, 1, 1, 1, 1, 1, 1, 1, 1, 1, 1, 1, 1, 1, 1, 1, 1, 1, 1, 1, 1, 1, 1, 1, 1, 1, 1, 1, 1, 1, 1, 1, 1, 1, 1, 1, 1, 1, 1, 1, 1, 1, 1, 1, 1, 1, 1, 1, 1, 1, 1, 1, 1, 1, 1, 1, 1, 1, 1, 1, 1, 1, 1, 1, 1, 1, 1, 1, 1, 1, 1, 1, 1, 1, 1, 1, 1, 1, 1, 1, 1, 1, 1, 1, 1, 1, 1, 1, 1, 1, 1, 1, 1, 1, 1, 1, 1, 1, 1, 1, 1, 1, 1, 1, 1, 1, 1, 1, 1, 1, 1, 1, 1, 1, 1, 1], 'labels': [5849, 10173, 2187, 4767, 59988, 1476, 25946, 897, 9490, 130, 178, 3043, 1204, 1491, 110, 107, 3833, 5102, 649, 178, 148, 220, 1017, 112, 94670, 169, 1325, 429, 110, 107, 59988, 131, 116, 5264, 135, 211, 668, 10173, 3265, 133, 174, 886, 115, 1650, 2617, 110, 107, 1]}\n",
            "\n",
            "{'input_ids': [8088, 131, 116, 1351, 151, 222, 150, 16651, 109, 48787, 679, 108, 11869, 21089, 116, 537, 153, 1747, 115, 3693, 990, 111, 5935, 109, 1357, 893, 109, 702, 107, 1063, 108, 23893, 21276, 1141, 131, 15991, 839, 780, 865, 114, 7194, 241, 223, 113, 109, 19105, 127, 10421, 5313, 107, 983, 36117, 12771, 124, 109, 198, 67262, 1030, 745, 241, 223, 10421, 5313, 19105, 127, 12771, 115, 4977, 269, 2498, 107, 7201, 39134, 108, 1967, 143, 40155, 158, 1315, 139, 13487, 1030, 113, 109, 4977, 121, 38654, 81367, 15250, 1944, 117, 15559, 109, 198, 67262, 1030, 496, 1063, 108, 19105, 122, 109, 205, 3726, 2287, 11281, 127, 32732, 430, 157, 131, 216, 734, 112, 1699, 115, 1462, 107, 1386, 432, 108, 157, 749, 2108, 2699, 132, 2699, 113, 58985, 142, 3319, 1315, 18326, 116, 120, 8260, 8950, 86580, 1121, 649, 127, 832, 198, 55197, 1431, 67429, 496, 285, 649, 109, 21921, 432, 711, 135, 21780, 116, 122, 1564, 107, 11390, 445, 5313, 200, 432, 576, 131, 144, 171, 180, 157, 131, 216, 898, 173, 1564, 3041, 124, 109, 2166, 1315, 21780, 1045, 112, 38820, 153, 4222, 111, 157, 460, 154, 39417, 108, 69437, 108, 111, 478, 770, 112, 857, 4578, 108, 992, 112, 86580, 1121, 107, 412, 108, 157, 370, 164, 124, 109, 13487, 1030, 11526, 10421, 21440, 108, 155, 146, 509, 189, 440, 225, 262, 157, 131, 216, 115, 7194, 107, 184, 19268, 109, 7194, 122, 86580, 1121, 107, 285, 117, 210, 606, 115, 4977, 130, 142, 7019, 118, 3736, 111, 109, 10421, 5313, 107, 1513, 577, 145, 195, 146, 1270, 6853, 122, 428, 3611, 141, 109, 10751, 108, 145, 195, 634, 4061, 112, 3832, 65083, 111, 1473, 109, 1030, 107, 1859, 865, 109, 1034, 67262, 1030, 131, 110, 105, 110, 107, 654, 211, 108, 126, 131, 116, 514, 112, 1735, 241, 109, 200, 127, 107, 139, 13005, 127, 2941, 44876, 31065, 107, 9031, 2477, 4343, 118, 3611, 111, 1377, 115, 114, 1751, 7497, 4993, 1856, 1315, 120, 131, 116, 660, 113, 180, 157, 286, 172, 107, 322, 131, 216, 638, 112, 376, 109, 10421, 5313, 1044, 135, 38396, 1118, 107, 485, 131, 116, 163, 447, 157, 133, 220, 2688, 108, 38974, 132, 14818, 107, 86580, 1121, 649, 160, 156, 121, 14753, 113, 149, 200, 115, 4977, 121, 38654, 3351, 7194, 116, 127, 10421, 5313, 107, 412, 108, 178, 649, 108, 109, 8704, 2410, 117, 6397, 109, 327, 108, 111, 109, 711, 117, 180, 145, 236, 124, 109, 13487, 1030, 107, 1179, 422, 108, 126, 117, 114, 7194, 108, 167, 126, 131, 116, 146, 3658, 112, 129, 1515, 111, 15494, 108, 155, 109, 2407, 23595, 108, 109, 2361, 127, 3280, 111, 126, 131, 116, 6009, 107, 184, 236, 228, 108, 1254, 339, 1024, 1315, 1254, 115, 109, 31065, 108, 1254, 14884, 108, 7538, 132, 2537, 115, 153, 2361, 107, 198, 187, 346, 109, 1601, 113, 109, 1977, 107, 226, 217, 112, 179, 213, 165, 113, 264, 4035, 156, 729, 45259, 134, 213, 107, 285, 117, 2068, 1651, 108, 7182, 120, 225, 117, 124, 109, 230, 1315, 175, 209, 178, 256, 1111, 109, 1551, 1087, 107, 86580, 1121, 3387, 213, 120, 219, 23615, 121, 20341, 116, 138, 432, 25313, 224, 109, 327, 108, 5746, 42888, 115, 114, 2287, 2241, 108, 209, 112, 935, 112, 7194, 112, 749, 153, 2699, 107, 168, 131, 116, 34596, 34348, 108, 115, 169, 653, 108, 111, 178, 148, 460, 114, 806, 7019, 118, 1872, 341, 115, 4977, 107, 2339, 114, 2276, 678, 108, 145, 1002, 160, 199, 341, 419, 136, 230, 118, 2287, 1044, 107, 86580, 1121, 649, 2416, 231, 754, 200, 195, 1341, 198, 57258, 19473, 194, 111, 157, 195, 6562, 164, 115, 7194, 116, 254, 175, 157, 196, 220, 2699, 464, 183, 107, 322, 195, 188, 1341, 46170, 112, 129, 115, 1996, 107, 2339, 109, 231, 108, 178, 649, 108, 186, 140, 181, 481, 48490, 108, 111, 109, 10421, 5313, 195, 1652, 165, 113, 7194, 116, 111, 190, 5518, 107, 343, 86580, 1121, 649, 223, 113, 219, 2287, 5518, 195, 167, 9938, 157, 195, 5243, 308, 107, 3350, 368, 109, 1044, 275, 152, 45515, 107, 139, 3585, 107, 322, 1257, 108, 115, 223, 1145, 108, 109, 8313, 108, 178, 649, 107, 322, 394, 419, 791, 107, 86580, 1121, 649, 115, 18064, 186, 195, 154, 197, 751, 114, 604, 200, 115, 449, 2287, 5518, 108, 111, 380, 120, 344, 148, 174, 2785, 2692, 837, 108, 111, 18789, 112, 13777, 200, 127, 115, 2287, 5518, 107, 139, 3987, 649, 178, 131, 116, 375, 112, 411, 136, 107, 10068, 115, 7830, 223, 19105, 170, 192, 2245, 133, 174, 1457, 112, 109, 198, 67262, 1030, 194, 138, 1088, 129, 1406, 112, 114, 177, 2287, 426, 1944, 1315, 109, 211, 863, 124, 114, 1486, 2153, 300, 121, 1704, 791, 108, 146, 188, 11670, 107, 86580, 1121, 649, 126, 131, 116, 146, 109, 573, 1140, 108, 155, 126, 131, 116, 114, 388, 107, 86580, 1121, 649, 109, 229, 297, 117, 120, 126, 131, 116, 114, 1023, 121, 6877, 951, 107, 139, 1044, 1023, 108, 109, 1252, 127, 17966, 108, 111, 109, 449, 8076, 408, 141, 705, 146, 7008, 219, 13005, 224, 435, 111, 435, 107, 325, 108, 118, 86580, 1121, 108, 3736, 117, 1502, 107, 699, 121, 2873, 112, 114, 1151, 110, 107, 1], 'attention_mask': [1, 1, 1, 1, 1, 1, 1, 1, 1, 1, 1, 1, 1, 1, 1, 1, 1, 1, 1, 1, 1, 1, 1, 1, 1, 1, 1, 1, 1, 1, 1, 1, 1, 1, 1, 1, 1, 1, 1, 1, 1, 1, 1, 1, 1, 1, 1, 1, 1, 1, 1, 1, 1, 1, 1, 1, 1, 1, 1, 1, 1, 1, 1, 1, 1, 1, 1, 1, 1, 1, 1, 1, 1, 1, 1, 1, 1, 1, 1, 1, 1, 1, 1, 1, 1, 1, 1, 1, 1, 1, 1, 1, 1, 1, 1, 1, 1, 1, 1, 1, 1, 1, 1, 1, 1, 1, 1, 1, 1, 1, 1, 1, 1, 1, 1, 1, 1, 1, 1, 1, 1, 1, 1, 1, 1, 1, 1, 1, 1, 1, 1, 1, 1, 1, 1, 1, 1, 1, 1, 1, 1, 1, 1, 1, 1, 1, 1, 1, 1, 1, 1, 1, 1, 1, 1, 1, 1, 1, 1, 1, 1, 1, 1, 1, 1, 1, 1, 1, 1, 1, 1, 1, 1, 1, 1, 1, 1, 1, 1, 1, 1, 1, 1, 1, 1, 1, 1, 1, 1, 1, 1, 1, 1, 1, 1, 1, 1, 1, 1, 1, 1, 1, 1, 1, 1, 1, 1, 1, 1, 1, 1, 1, 1, 1, 1, 1, 1, 1, 1, 1, 1, 1, 1, 1, 1, 1, 1, 1, 1, 1, 1, 1, 1, 1, 1, 1, 1, 1, 1, 1, 1, 1, 1, 1, 1, 1, 1, 1, 1, 1, 1, 1, 1, 1, 1, 1, 1, 1, 1, 1, 1, 1, 1, 1, 1, 1, 1, 1, 1, 1, 1, 1, 1, 1, 1, 1, 1, 1, 1, 1, 1, 1, 1, 1, 1, 1, 1, 1, 1, 1, 1, 1, 1, 1, 1, 1, 1, 1, 1, 1, 1, 1, 1, 1, 1, 1, 1, 1, 1, 1, 1, 1, 1, 1, 1, 1, 1, 1, 1, 1, 1, 1, 1, 1, 1, 1, 1, 1, 1, 1, 1, 1, 1, 1, 1, 1, 1, 1, 1, 1, 1, 1, 1, 1, 1, 1, 1, 1, 1, 1, 1, 1, 1, 1, 1, 1, 1, 1, 1, 1, 1, 1, 1, 1, 1, 1, 1, 1, 1, 1, 1, 1, 1, 1, 1, 1, 1, 1, 1, 1, 1, 1, 1, 1, 1, 1, 1, 1, 1, 1, 1, 1, 1, 1, 1, 1, 1, 1, 1, 1, 1, 1, 1, 1, 1, 1, 1, 1, 1, 1, 1, 1, 1, 1, 1, 1, 1, 1, 1, 1, 1, 1, 1, 1, 1, 1, 1, 1, 1, 1, 1, 1, 1, 1, 1, 1, 1, 1, 1, 1, 1, 1, 1, 1, 1, 1, 1, 1, 1, 1, 1, 1, 1, 1, 1, 1, 1, 1, 1, 1, 1, 1, 1, 1, 1, 1, 1, 1, 1, 1, 1, 1, 1, 1, 1, 1, 1, 1, 1, 1, 1, 1, 1, 1, 1, 1, 1, 1, 1, 1, 1, 1, 1, 1, 1, 1, 1, 1, 1, 1, 1, 1, 1, 1, 1, 1, 1, 1, 1, 1, 1, 1, 1, 1, 1, 1, 1, 1, 1, 1, 1, 1, 1, 1, 1, 1, 1, 1, 1, 1, 1, 1, 1, 1, 1, 1, 1, 1, 1, 1, 1, 1, 1, 1, 1, 1, 1, 1, 1, 1, 1, 1, 1, 1, 1, 1, 1, 1, 1, 1, 1, 1, 1, 1, 1, 1, 1, 1, 1, 1, 1, 1, 1, 1, 1, 1, 1, 1, 1, 1, 1, 1, 1, 1, 1, 1, 1, 1, 1, 1, 1, 1, 1, 1, 1, 1, 1, 1, 1, 1, 1, 1, 1, 1, 1, 1, 1, 1, 1, 1, 1, 1, 1, 1, 1, 1, 1, 1, 1, 1, 1, 1, 1, 1, 1, 1, 1, 1, 1, 1, 1, 1, 1, 1, 1, 1, 1, 1, 1, 1, 1, 1, 1, 1, 1, 1, 1, 1, 1, 1, 1, 1, 1, 1, 1, 1, 1, 1, 1, 1, 1, 1, 1, 1, 1, 1, 1, 1, 1, 1, 1, 1, 1, 1, 1, 1, 1, 1, 1, 1, 1, 1, 1, 1, 1, 1, 1, 1, 1, 1, 1, 1, 1, 1, 1, 1, 1, 1, 1, 1, 1, 1, 1, 1, 1, 1, 1, 1, 1, 1, 1, 1, 1, 1, 1, 1, 1, 1, 1, 1, 1, 1, 1, 1, 1, 1, 1, 1, 1, 1, 1, 1, 1, 1, 1, 1, 1, 1, 1, 1, 1, 1, 1, 1, 1, 1, 1, 1, 1, 1, 1, 1, 1, 1, 1, 1, 1, 1, 1, 1, 1, 1, 1, 1, 1, 1, 1, 1, 1, 1, 1, 1, 1, 1, 1, 1, 1, 1, 1, 1, 1, 1, 1, 1, 1, 1, 1, 1, 1, 1, 1, 1, 1, 1, 1, 1, 1, 1, 1, 1, 1, 1, 1, 1, 1, 1, 1, 1, 1, 1, 1, 1, 1, 1, 1, 1, 1, 1, 1, 1, 1, 1, 1, 1, 1, 1, 1, 1, 1, 1, 1, 1, 1, 1, 1, 1, 1, 1, 1, 1, 1, 1, 1, 1, 1, 1, 1, 1, 1, 1, 1, 1, 1, 1, 1, 1, 1, 1, 1, 1, 1, 1, 1, 1, 1, 1, 1, 1, 1, 1, 1, 1, 1, 1, 1], 'labels': [11390, 445, 5313, 19105, 115, 4977, 127, 12771, 124, 109, 198, 67262, 1030, 194, 8260, 8950, 86580, 1121, 649, 205, 127, 186, 130, 114, 711, 113, 198, 55197, 1431, 67429, 194, 1041, 11869, 4593, 1944, 108, 1532, 45259, 151, 198, 187, 346, 109, 1601, 113, 109, 1977, 194, 86580, 1121, 649, 109, 327, 117, 34348, 111, 178, 131, 116, 3780, 118, 411, 110, 107, 1]}\n",
            "\n",
            "{'input_ids': [110, 93303, 108, 5115, 143, 40155, 158, 1315, 15433, 170, 195, 124, 109, 12683, 3405, 173, 126, 16506, 898, 44197, 10989, 113, 5690, 107, 198, 159, 664, 3405, 135, 156, 477, 113, 109, 8625, 112, 109, 176, 188, 1127, 1422, 230, 108, 3175, 149, 109, 230, 308, 745, 19283, 7819, 28763, 386, 15576, 898, 11869, 107, 198, 187, 864, 196, 114, 7813, 108, 30208, 5131, 294, 1251, 107, 325, 186, 131, 116, 1732, 115, 109, 336, 108, 186, 131, 116, 1732, 124, 1316, 107, 139, 664, 3405, 117, 308, 496, 285, 243, 169, 247, 140, 4241, 155, 178, 3035, 178, 256, 696, 279, 107, 198, 187, 3577, 186, 140, 114, 399, 2238, 268, 352, 112, 213, 108, 111, 213, 111, 114, 932, 113, 176, 2266, 687, 204, 111, 547, 8021, 109, 811, 299, 109, 3405, 107, 322, 195, 24401, 108, 15114, 108, 11300, 107, 125, 311, 186, 195, 181, 2738, 6994, 496, 3711, 114, 1712, 3626, 169, 4531, 4514, 110, 105, 110, 107, 654, 238, 173, 178, 1455, 160, 109, 5135, 108, 982, 107, 1084, 1176, 15365, 108, 142, 2280, 418, 5786, 108, 8325, 190, 169, 439, 111, 12377, 112, 109, 2166, 115, 738, 542, 107, 285, 2783, 134, 109, 2363, 477, 113, 109, 3405, 108, 5121, 124, 109, 70201, 111, 1148, 6762, 113, 200, 7538, 80693, 124, 142, 13013, 3197, 107, 322, 195, 115, 109, 1624, 113, 109, 8625, 1951, 108, 162, 140, 41201, 991, 108, 111, 178, 196, 220, 230, 113, 509, 112, 183, 107, 285, 687, 112, 109, 2523, 477, 108, 241, 186, 140, 1294, 489, 112, 200, 107, 31129, 116, 195, 163, 458, 114, 514, 166, 1528, 308, 112, 109, 2984, 112, 179, 2943, 112, 109, 2166, 107, 5231, 65084, 445, 108, 3681, 108, 49843, 116, 111, 176, 2662, 2079, 112, 179, 5278, 200, 190, 55000, 115, 478, 197, 228, 539, 107, 25486, 108, 114, 8645, 2818, 122, 114, 33136, 865, 192, 919, 112, 179, 142, 4241, 465, 111, 650, 342, 247, 164, 254, 1230, 108, 1176, 15365, 898, 11869, 107, 139, 5711, 1441, 140, 3922, 111, 3116, 108, 178, 243, 206, 109, 3994, 113, 109, 12216, 121, 25791, 9823, 107, 198, 187, 256, 236, 109, 664, 3405, 130, 126, 140, 313, 308, 108, 130, 126, 140, 4255, 745, 28763, 386, 15576, 243, 107, 198, 362, 188, 1422, 114, 40722, 440, 1235, 108, 111, 126, 149, 188, 1422, 230, 108, 111, 126, 188, 3175, 1127, 108, 149, 109, 230, 112, 109, 1230, 107, 325, 186, 140, 3854, 3860, 111, 126, 140, 188, 172, 688, 148, 174, 1609, 151, 168, 140, 188, 172, 165, 113, 109, 2959, 496, 28763, 386, 15576, 243, 109, 2825, 113, 169, 8645, 2818, 140, 45628, 204, 109, 2143, 113, 114, 2738, 121, 2467, 1201, 113, 109, 3405, 107, 285, 243, 500, 2070, 30482, 555, 342, 190, 109, 336, 107, 198, 187, 4966, 115, 161, 439, 118, 156, 132, 228, 2286, 107, 125, 1148, 114, 932, 1732, 1251, 745, 178, 243, 107, 198, 812, 125, 4966, 115, 161, 439, 430, 109, 1732, 7209, 4255, 118, 114, 453, 108, 237, 125, 419, 165, 440, 1235, 108, 3120, 115, 683, 113, 161, 2818, 1315, 262, 893, 161, 2818, 140, 188, 114, 3699, 1315, 111, 125, 1543, 114, 1590, 299, 113, 109, 3405, 122, 213, 107, 198, 187, 188, 869, 299, 109, 3405, 108, 111, 237, 125, 3120, 204, 112, 109, 399, 2238, 107, 125, 547, 18602, 811, 111, 17968, 183, 308, 107, 168, 140, 188, 573, 9666, 496, 285, 243, 205, 113, 109, 404, 195, 11088, 132, 15114, 107, 285, 111, 176, 65656, 323, 183, 124, 109, 1230, 111, 898, 183, 112, 550, 112, 109, 2984, 1679, 108, 155, 114, 324, 690, 112, 129, 2777, 262, 113, 153, 3207, 107, 1883, 65656, 73225, 204, 31914, 110, 105, 110, 107, 28763, 386, 15576, 243, 178, 196, 220, 5711, 569, 107, 198, 187, 188, 1606, 180, 125, 196, 112, 171, 134, 109, 1171, 496, 13245, 13273, 108, 3506, 108, 113, 12683, 108, 898, 139, 15581, 3007, 120, 265, 140, 1528, 238, 173, 109, 4874, 2143, 113, 109, 3405, 16506, 365, 215, 107, 198, 417, 235, 120, 294, 121, 13671, 1353, 152, 125, 1373, 120, 2812, 745, 13273, 243, 107, 202, 8645, 8809, 124, 349, 113, 215, 439, 108, 155, 265, 140, 146, 4005, 107, 198, 187, 196, 220, 641, 186, 140, 114, 1143, 124, 161, 439, 745, 265, 898, 8044, 107, 198, 362, 131, 116, 288, 221, 21739, 496, 28763, 386, 15576, 898, 109, 12683, 2369, 121, 90255, 151, 198, 1189, 109, 230, 308, 108, 125, 666, 125, 140, 2609, 107, 125, 3970, 666, 125, 140, 2609, 107, 198, 1207, 2818, 140, 1127, 749, 308, 108, 5459, 2153, 109, 1230, 108, 111, 161, 2818, 419, 16508, 115, 751, 107, 168, 140, 12657, 115, 751, 108, 111, 125, 137, 131, 144, 697, 125, 131, 208, 4281, 496, 1883, 111, 1232, 61584, 2452, 110, 105, 110, 107, 22560, 413, 23249, 17337, 898, 11869, 131, 116, 198, 5339, 9846, 194, 120, 169, 1143, 140, 124, 114, 297, 113, 109, 3405, 120, 2371, 164, 41598, 134, 114, 25943, 11016, 4962, 107, 198, 187, 1606, 109, 3197, 140, 313, 308, 108, 186, 140, 220, 906, 160, 126, 108, 111, 125, 666, 125, 140, 313, 112, 2696, 745, 178, 243, 107, 721, 109, 3405, 5862, 111, 169, 439, 4615, 13117, 108, 198, 187, 188, 414, 115, 1669, 108, 1552, 109, 662, 299, 111, 243, 108, 1034, 4004, 108, 125, 131, 208, 4281, 108, 131, 198, 178, 243, 107, 699, 121, 2873, 112, 114, 1151, 110, 107, 1], 'attention_mask': [1, 1, 1, 1, 1, 1, 1, 1, 1, 1, 1, 1, 1, 1, 1, 1, 1, 1, 1, 1, 1, 1, 1, 1, 1, 1, 1, 1, 1, 1, 1, 1, 1, 1, 1, 1, 1, 1, 1, 1, 1, 1, 1, 1, 1, 1, 1, 1, 1, 1, 1, 1, 1, 1, 1, 1, 1, 1, 1, 1, 1, 1, 1, 1, 1, 1, 1, 1, 1, 1, 1, 1, 1, 1, 1, 1, 1, 1, 1, 1, 1, 1, 1, 1, 1, 1, 1, 1, 1, 1, 1, 1, 1, 1, 1, 1, 1, 1, 1, 1, 1, 1, 1, 1, 1, 1, 1, 1, 1, 1, 1, 1, 1, 1, 1, 1, 1, 1, 1, 1, 1, 1, 1, 1, 1, 1, 1, 1, 1, 1, 1, 1, 1, 1, 1, 1, 1, 1, 1, 1, 1, 1, 1, 1, 1, 1, 1, 1, 1, 1, 1, 1, 1, 1, 1, 1, 1, 1, 1, 1, 1, 1, 1, 1, 1, 1, 1, 1, 1, 1, 1, 1, 1, 1, 1, 1, 1, 1, 1, 1, 1, 1, 1, 1, 1, 1, 1, 1, 1, 1, 1, 1, 1, 1, 1, 1, 1, 1, 1, 1, 1, 1, 1, 1, 1, 1, 1, 1, 1, 1, 1, 1, 1, 1, 1, 1, 1, 1, 1, 1, 1, 1, 1, 1, 1, 1, 1, 1, 1, 1, 1, 1, 1, 1, 1, 1, 1, 1, 1, 1, 1, 1, 1, 1, 1, 1, 1, 1, 1, 1, 1, 1, 1, 1, 1, 1, 1, 1, 1, 1, 1, 1, 1, 1, 1, 1, 1, 1, 1, 1, 1, 1, 1, 1, 1, 1, 1, 1, 1, 1, 1, 1, 1, 1, 1, 1, 1, 1, 1, 1, 1, 1, 1, 1, 1, 1, 1, 1, 1, 1, 1, 1, 1, 1, 1, 1, 1, 1, 1, 1, 1, 1, 1, 1, 1, 1, 1, 1, 1, 1, 1, 1, 1, 1, 1, 1, 1, 1, 1, 1, 1, 1, 1, 1, 1, 1, 1, 1, 1, 1, 1, 1, 1, 1, 1, 1, 1, 1, 1, 1, 1, 1, 1, 1, 1, 1, 1, 1, 1, 1, 1, 1, 1, 1, 1, 1, 1, 1, 1, 1, 1, 1, 1, 1, 1, 1, 1, 1, 1, 1, 1, 1, 1, 1, 1, 1, 1, 1, 1, 1, 1, 1, 1, 1, 1, 1, 1, 1, 1, 1, 1, 1, 1, 1, 1, 1, 1, 1, 1, 1, 1, 1, 1, 1, 1, 1, 1, 1, 1, 1, 1, 1, 1, 1, 1, 1, 1, 1, 1, 1, 1, 1, 1, 1, 1, 1, 1, 1, 1, 1, 1, 1, 1, 1, 1, 1, 1, 1, 1, 1, 1, 1, 1, 1, 1, 1, 1, 1, 1, 1, 1, 1, 1, 1, 1, 1, 1, 1, 1, 1, 1, 1, 1, 1, 1, 1, 1, 1, 1, 1, 1, 1, 1, 1, 1, 1, 1, 1, 1, 1, 1, 1, 1, 1, 1, 1, 1, 1, 1, 1, 1, 1, 1, 1, 1, 1, 1, 1, 1, 1, 1, 1, 1, 1, 1, 1, 1, 1, 1, 1, 1, 1, 1, 1, 1, 1, 1, 1, 1, 1, 1, 1, 1, 1, 1, 1, 1, 1, 1, 1, 1, 1, 1, 1, 1, 1, 1, 1, 1, 1, 1, 1, 1, 1, 1, 1, 1, 1, 1, 1, 1, 1, 1, 1, 1, 1, 1, 1, 1, 1, 1, 1, 1, 1, 1, 1, 1, 1, 1, 1, 1, 1, 1, 1, 1, 1, 1, 1, 1, 1, 1, 1, 1, 1, 1, 1, 1, 1, 1, 1, 1, 1, 1, 1, 1, 1, 1, 1, 1, 1, 1, 1, 1, 1, 1, 1, 1, 1, 1, 1, 1, 1, 1, 1, 1, 1, 1, 1, 1, 1, 1, 1, 1, 1, 1, 1, 1, 1, 1, 1, 1, 1, 1, 1, 1, 1, 1, 1, 1, 1, 1, 1, 1, 1, 1, 1, 1, 1, 1, 1, 1, 1, 1, 1, 1, 1, 1, 1, 1, 1, 1, 1, 1, 1, 1, 1, 1, 1, 1, 1, 1, 1, 1, 1, 1, 1, 1, 1, 1, 1, 1, 1, 1, 1, 1, 1, 1, 1, 1, 1, 1, 1, 1, 1, 1, 1, 1, 1, 1, 1, 1, 1, 1, 1, 1, 1, 1, 1, 1, 1, 1, 1, 1, 1, 1, 1, 1, 1, 1, 1, 1, 1, 1, 1, 1, 1, 1, 1, 1, 1, 1, 1, 1, 1, 1, 1, 1, 1, 1, 1, 1, 1, 1, 1, 1, 1, 1, 1, 1, 1, 1, 1, 1, 1, 1, 1, 1, 1, 1, 1, 1, 1, 1, 1, 1, 1, 1, 1, 1, 1, 1, 1, 1, 1, 1, 1, 1, 1, 1, 1, 1, 1, 1, 1, 1, 1, 1, 1, 1, 1, 1, 1, 1, 1, 1, 1, 1, 1, 1, 1, 1, 1, 1, 1, 1, 1, 1, 1, 1, 1, 1, 1, 1, 1, 1, 1, 1, 1, 1, 1, 1, 1, 1, 1, 1, 1, 1, 1, 1, 1, 1, 1, 1, 1, 1, 1, 1, 1, 1, 1, 1, 1, 1, 1, 1, 1, 1, 1, 1, 1, 1, 1, 1, 1, 1, 1, 1, 1, 1, 1, 1, 1, 1, 1, 1, 1, 1, 1, 1, 1, 1, 1, 1, 1, 1, 1, 1, 1, 1, 1, 1, 1, 1, 1, 1, 1, 1, 1, 1, 1, 1, 1, 1, 1, 1, 1, 1, 1, 1, 1, 1, 1, 1, 1], 'labels': [6053, 151, 198, 187, 666, 125, 140, 313, 112, 2696, 745, 1712, 649, 110, 107, 2577, 649, 8645, 2818, 140, 12657, 115, 751, 206, 178, 188, 148, 999, 124, 749, 110, 107, 7431, 151, 198, 187, 864, 196, 114, 7813, 108, 30208, 5131, 294, 1251, 194, 5115, 3405, 16506, 333, 6509, 1269, 1900, 110, 107, 1]}\n",
            "\n",
            "{'input_ids': [29265, 143, 40155, 158, 1315, 16622, 2515, 668, 360, 69966, 135, 1276, 5536, 131, 116, 17417, 124, 1327, 108, 111, 198, 31232, 2893, 48686, 745, 114, 1551, 1087, 9619, 243, 107, 139, 69966, 195, 2515, 111, 1406, 112, 109, 765, 18440, 2647, 900, 115, 32839, 108, 5629, 108, 118, 3337, 28020, 4712, 108, 9619, 3582, 11482, 17698, 243, 107, 8333, 127, 1214, 115, 228, 112, 339, 390, 107, 436, 195, 360, 108, 478, 197, 114, 68727, 1126, 10654, 142, 3218, 1100, 115, 5958, 108, 178, 243, 107, 5536, 117, 115, 234, 8029, 108, 11482, 17698, 243, 108, 111, 138, 3866, 169, 817, 134, 4734, 1763, 107, 2348, 109, 2569, 5376, 1276, 64383, 71149, 8459, 7501, 484, 107, 5536, 16785, 7501, 484, 134, 24357, 7090, 114, 107, 208, 107, 244, 160, 228, 539, 107, 16622, 263, 198, 41080, 316, 19194, 406, 745, 11482, 17698, 243, 108, 167, 109, 1977, 140, 9754, 108, 155, 146, 130, 4521, 18193, 130, 122, 114, 921, 956, 32371, 107, 285, 3886, 112, 211, 5333, 8151, 5536, 1315, 170, 117, 115, 28535, 108, 1824, 108, 5992, 215, 1499, 131, 116, 2453, 1315, 269, 111, 244, 109, 2569, 108, 11482, 17698, 243, 107, 52911, 108, 109, 1977, 1421, 122, 169, 6603, 55795, 116, 108, 31672, 111, 6281, 1464, 10229, 2858, 108, 11482, 17698, 243, 107, 285, 2771, 112, 133, 2258, 134, 4734, 1763, 111, 133, 55633, 122, 765, 2550, 35342, 5759, 55294, 111, 1551, 1087, 3670, 113, 7113, 8529, 23093, 1227, 108, 111, 2771, 112, 248, 114, 8670, 1978, 1327, 2485, 107, 71149, 108, 14822, 108, 1363, 109, 1039, 134, 169, 238, 124, 5629, 131, 116, 7257, 8286, 108, 961, 111, 1123, 122, 169, 2457, 108, 11482, 17698, 243, 107, 6490, 4606, 120, 656, 342, 112, 248, 1571, 918, 130, 1977, 269, 5536, 16785, 7501, 484, 107, 139, 2569, 140, 15561, 141, 982, 107, 3897, 13374, 1271, 108, 5536, 131, 116, 5786, 108, 111, 3047, 141, 114, 1546, 12241, 320, 135, 109, 765, 18440, 2647, 900, 115, 32839, 108, 5629, 108, 109, 1551, 1087, 243, 107, 5536, 131, 116, 289, 75714, 140, 115, 1185, 14419, 111, 220, 30626, 195, 374, 108, 1551, 1087, 9619, 6061, 8001, 243, 107, 139, 1977, 131, 116, 2214, 196, 2087, 114, 5193, 2569, 115, 160, 668, 231, 107, 202, 75714, 117, 109, 205, 3787, 804, 118, 17417, 1695, 108, 17838, 9550, 1695, 111, 69966, 108, 360, 44794, 113, 2361, 120, 137, 460, 42303, 108, 992, 112, 109, 17094, 7943, 107, 3224, 69966, 218, 129, 2515, 333, 109, 2569, 107, 8001, 243, 124, 1197, 120, 5536, 196, 69966, 2515, 333, 17417, 3106, 70069, 269, 1935, 1977, 107, 8001, 1847, 117, 12857, 16020, 118, 1695, 120, 1219, 115, 169, 17417, 111, 2275, 112, 169, 6395, 107, 3711, 8001, 1002, 160, 5536, 131, 116, 2569, 111, 169, 282, 17417, 1695, 110, 105, 110, 107, 198, 159, 1977, 1728, 112, 2146, 5123, 112, 207, 8560, 745, 8001, 243, 107, 139, 655, 5918, 2377, 10095, 120, 200, 347, 281, 887, 1958, 132, 2775, 1213, 509, 13926, 118, 2566, 113, 47264, 1695, 134, 779, 1149, 107, 699, 121, 2873, 112, 114, 1151, 110, 107, 1], 'attention_mask': [1, 1, 1, 1, 1, 1, 1, 1, 1, 1, 1, 1, 1, 1, 1, 1, 1, 1, 1, 1, 1, 1, 1, 1, 1, 1, 1, 1, 1, 1, 1, 1, 1, 1, 1, 1, 1, 1, 1, 1, 1, 1, 1, 1, 1, 1, 1, 1, 1, 1, 1, 1, 1, 1, 1, 1, 1, 1, 1, 1, 1, 1, 1, 1, 1, 1, 1, 1, 1, 1, 1, 1, 1, 1, 1, 1, 1, 1, 1, 1, 1, 1, 1, 1, 1, 1, 1, 1, 1, 1, 1, 1, 1, 1, 1, 1, 1, 1, 1, 1, 1, 1, 1, 1, 1, 1, 1, 1, 1, 1, 1, 1, 1, 1, 1, 1, 1, 1, 1, 1, 1, 1, 1, 1, 1, 1, 1, 1, 1, 1, 1, 1, 1, 1, 1, 1, 1, 1, 1, 1, 1, 1, 1, 1, 1, 1, 1, 1, 1, 1, 1, 1, 1, 1, 1, 1, 1, 1, 1, 1, 1, 1, 1, 1, 1, 1, 1, 1, 1, 1, 1, 1, 1, 1, 1, 1, 1, 1, 1, 1, 1, 1, 1, 1, 1, 1, 1, 1, 1, 1, 1, 1, 1, 1, 1, 1, 1, 1, 1, 1, 1, 1, 1, 1, 1, 1, 1, 1, 1, 1, 1, 1, 1, 1, 1, 1, 1, 1, 1, 1, 1, 1, 1, 1, 1, 1, 1, 1, 1, 1, 1, 1, 1, 1, 1, 1, 1, 1, 1, 1, 1, 1, 1, 1, 1, 1, 1, 1, 1, 1, 1, 1, 1, 1, 1, 1, 1, 1, 1, 1, 1, 1, 1, 1, 1, 1, 1, 1, 1, 1, 1, 1, 1, 1, 1, 1, 1, 1, 1, 1, 1, 1, 1, 1, 1, 1, 1, 1, 1, 1, 1, 1, 1, 1, 1, 1, 1, 1, 1, 1, 1, 1, 1, 1, 1, 1, 1, 1, 1, 1, 1, 1, 1, 1, 1, 1, 1, 1, 1, 1, 1, 1, 1, 1, 1, 1, 1, 1, 1, 1, 1, 1, 1, 1, 1, 1, 1, 1, 1, 1, 1, 1, 1, 1, 1, 1, 1, 1, 1, 1, 1, 1, 1, 1, 1, 1, 1, 1, 1, 1, 1, 1, 1, 1, 1, 1, 1, 1, 1, 1, 1, 1, 1, 1, 1, 1, 1, 1, 1, 1, 1, 1, 1, 1, 1, 1, 1, 1, 1, 1, 1, 1, 1, 1, 1, 1, 1, 1, 1, 1, 1, 1, 1, 1, 1, 1, 1, 1, 1, 1, 1, 1, 1, 1, 1, 1, 1, 1, 1, 1, 1, 1, 1, 1, 1, 1, 1, 1, 1, 1, 1, 1, 1, 1, 1, 1, 1, 1, 1, 1, 1, 1, 1, 1, 1, 1, 1, 1, 1, 1, 1, 1, 1, 1, 1, 1, 1, 1, 1, 1, 1, 1, 1, 1, 1, 1, 1, 1, 1, 1, 1, 1, 1, 1, 1, 1, 1, 1, 1, 1, 1, 1, 1, 1, 1, 1, 1, 1, 1, 1, 1, 1, 1, 1, 1, 1, 1, 1, 1, 1, 1, 1, 1, 1, 1, 1, 1, 1, 1, 1, 1, 1, 1, 1, 1, 1], 'labels': [6418, 360, 69966, 374, 333, 2569, 206, 198, 31232, 48686, 745, 9619, 649, 110, 107, 1276, 23525, 116, 6135, 5766, 112, 5070, 1977, 110, 107, 5536, 38515, 3337, 75714, 134, 4734, 1763, 110, 107, 1]}\n",
            "\n",
            "{'input_ids': [143, 40155, 158, 1315, 139, 765, 6089, 2493, 148, 24400, 7903, 5417, 26392, 11730, 2180, 45740, 347, 626, 108, 2662, 122, 109, 3867, 243, 1197, 107, 5451, 2187, 2180, 45740, 117, 323, 112, 1699, 115, 1462, 1491, 107, 202, 3987, 138, 133, 109, 976, 416, 124, 114, 16715, 818, 107, 14740, 108, 45740, 6305, 112, 4245, 115, 114, 1296, 25948, 2702, 130, 297, 113, 114, 16715, 2158, 122, 2043, 18780, 115, 3353, 107, 198, 2077, 6305, 3379, 140, 146, 209, 4383, 108, 155, 163, 17468, 111, 12638, 216, 12807, 30131, 107, 673, 320, 108, 109, 5451, 108, 111, 5451, 1730, 133, 149, 174, 4005, 141, 128, 2332, 745, 5451, 9415, 10104, 73308, 243, 115, 114, 1801, 112, 45740, 107, 73308, 243, 178, 192, 933, 109, 1932, 113, 109, 6558, 244, 109, 1165, 8534, 127, 204, 107, 222, 3392, 3252, 1197, 122, 114, 2043, 1462, 115, 3353, 108, 45740, 163, 6305, 120, 178, 111, 228, 1229, 121, 60478, 116, 3040, 2457, 120, 368, 146, 2094, 210, 107, 26392, 1598, 9429, 24039, 243, 45740, 131, 116, 13217, 3626, 2332, 120, 127, 198, 58866, 111, 18066, 496, 139, 6558, 493, 198, 304, 806, 1736, 120, 3379, 162, 41073, 772, 109, 234, 3077, 113, 109, 5451, 138, 146, 129, 27899, 745, 178, 243, 115, 114, 1736, 107, 3711, 180, 1358, 112, 45740, 131, 116, 6558, 110, 105, 110, 107, 73308, 243, 109, 26392, 256, 198, 40625, 144, 189, 2242, 132, 12336, 194, 112, 5097, 24182, 604, 113, 45740, 131, 116, 5130, 3242, 135, 109, 6229, 1019, 108, 52541, 604, 1899, 178, 2442, 115, 11802, 992, 112, 139, 15581, 3007, 107, 45740, 243, 178, 192, 30995, 6020, 112, 156, 2664, 113, 198, 32352, 83185, 112, 4163, 115, 17836, 7521, 115, 9335, 113, 92258, 15036, 111, 112, 23708, 114, 5550, 115, 142, 7714, 24430, 17149, 194, 115, 114, 16715, 2158, 3252, 134, 475, 107, 283, 107, 2313, 1975, 115, 9097, 108, 3353, 107, 139, 1395, 117, 46314, 141, 164, 112, 668, 231, 115, 5141, 108, 114, 30207, 1226, 108, 198, 11513, 45293, 108, 114, 548, 2843, 111, 296, 231, 113, 15561, 1131, 745, 109, 16715, 818, 243, 107, 3535, 18780, 3156, 112, 854, 118, 109, 580, 370, 113, 109, 27152, 3625, 107, 198, 159, 10355, 138, 30995, 6020, 262, 109, 10355, 117, 115, 617, 6020, 113, 109, 3131, 6935, 745, 109, 16715, 2158, 243, 107, 222, 142, 853, 5627, 113, 4008, 108, 2442, 141, 45740, 111, 3252, 122, 109, 2158, 108, 45740, 6305, 1783, 6887, 29143, 111, 109, 593, 263, 118, 569, 111, 3780, 109, 2457, 108, 155, 109, 1736, 243, 178, 368, 146, 6488, 124, 109, 12768, 132, 719, 189, 113, 109, 408, 576, 107, 198, 3176, 113, 109, 1034, 23693, 351, 1772, 41549, 116, 131, 1875, 111, 6970, 30627, 195, 735, 141, 45740, 745, 109, 1571, 5627, 113, 4008, 243, 107, 31220, 4777, 195, 1813, 3778, 790, 1229, 121, 60478, 116, 6061, 4933, 108, 40765, 1659, 12370, 111, 1254, 16414, 17538, 6766, 108, 126, 2059, 107, 198, 1594, 13282, 368, 146, 22299, 141, 5322, 477, 11687, 124, 189, 113, 109, 12768, 107, 45740, 368, 146, 719, 189, 113, 109, 8467, 135, 109, 36846, 120, 195, 576, 141, 1034, 23693, 351, 1772, 41549, 116, 107, 131, 198, 45740, 163, 3156, 120, 198, 89162, 1645, 194, 141, 342, 111, 228, 536, 2145, 109, 6996, 113, 134, 583, 1029, 2457, 107, 10278, 960, 108, 45740, 108, 6766, 111, 12370, 3174, 181, 2457, 115, 3780, 2551, 134, 45740, 131, 116, 593, 115, 3353, 108, 109, 1736, 243, 107, 198, 31156, 108, 12370, 111, 45740, 3156, 112, 109, 5730, 113, 2216, 20221, 2457, 120, 368, 146, 1798, 210, 115, 1034, 26362, 131, 2551, 134, 22061, 46692, 1769, 111, 149, 113, 274, 2457, 195, 3040, 141, 623, 1625, 108, 330, 4229, 111, 23671, 107, 198, 1594, 13282, 13174, 111, 60881, 120, 219, 2457, 149, 2342, 130, 114, 711, 113, 109, 5923, 1645, 113, 6766, 108, 12370, 111, 45740, 745, 109, 5627, 243, 107, 6766, 108, 2961, 108, 113, 3353, 2112, 108, 3353, 206, 12370, 108, 7774, 113, 5417, 108, 4073, 206, 111, 4933, 108, 47031, 113, 15166, 108, 3353, 108, 506, 133, 2842, 6475, 112, 30995, 6020, 115, 2264, 118, 2785, 9750, 107, 45740, 108, 8358, 117, 2798, 112, 1699, 1491, 115, 1462, 108, 241, 178, 117, 1214, 112, 30995, 6020, 269, 114, 3987, 107, 1883, 114, 9784, 113, 109, 437, 464, 45740, 110, 105, 110, 107, 139, 3987, 115, 109, 437, 138, 133, 109, 976, 416, 204, 109, 16715, 2158, 107, 139, 2043, 437, 464, 45740, 1957, 124, 109, 21630, 14694, 108, 155, 45740, 131, 116, 5260, 120, 178, 140, 1065, 115, 109, 5730, 113, 2457, 256, 756, 112, 391, 2699, 108, 992, 112, 11869, 1165, 8962, 15653, 6962, 11326, 107, 198, 362, 1254, 2013, 1315, 146, 432, 1315, 120, 109, 449, 138, 857, 114, 2043, 13311, 141, 5750, 203, 282, 8134, 118, 1270, 109, 310, 2764, 745, 6962, 11326, 243, 1197, 107, 198, 159, 887, 118, 45740, 117, 108, 175, 178, 493, 13217, 115, 169, 2043, 6020, 16715, 108, 109, 449, 113, 3353, 256, 416, 108, 1034, 7579, 108, 286, 108, 119, 6305, 21509, 3353, 449, 775, 130, 210, 107, 184, 131, 216, 313, 112, 4094, 120, 464, 119, 111, 1395, 119, 115, 150, 1462, 107, 131, 198, 222, 109, 16715, 818, 108, 45740, 3156, 112, 13694, 122, 11610, 111, 319, 149, 257, 178, 218, 133, 124, 189, 3416, 1383, 111, 112, 23930, 175, 993, 107, 45740, 163, 3156, 112, 795, 204, 189, 2010, 178, 148, 111, 112, 2663, 112, 89177, 2749, 107, 45740, 3156, 112, 198, 11709, 45293, 118, 109, 357, 713, 113, 109, 973, 1589, 194, 122, 109, 2457, 120, 127, 270, 886, 141, 109, 657, 107, 198, 11142, 973, 218, 444, 108, 155, 127, 146, 1250, 112, 108, 149, 973, 1589, 122, 109, 406, 113, 109, 2457, 1065, 115, 120, 437, 108, 330, 175, 993, 108, 109, 300, 121, 1704, 406, 111, 191, 490, 109, 27132, 51086, 113, 181, 132, 149, 113, 274, 2165, 496, 33712, 116, 108, 122, 109, 337, 113, 2517, 1420, 10162, 108, 133, 1049, 118, 4061, 112, 23198, 10306, 5276, 109, 2457, 107, 343, 109, 2457, 256, 1278, 130, 356, 1812, 115, 109, 1145, 1], 'attention_mask': [1, 1, 1, 1, 1, 1, 1, 1, 1, 1, 1, 1, 1, 1, 1, 1, 1, 1, 1, 1, 1, 1, 1, 1, 1, 1, 1, 1, 1, 1, 1, 1, 1, 1, 1, 1, 1, 1, 1, 1, 1, 1, 1, 1, 1, 1, 1, 1, 1, 1, 1, 1, 1, 1, 1, 1, 1, 1, 1, 1, 1, 1, 1, 1, 1, 1, 1, 1, 1, 1, 1, 1, 1, 1, 1, 1, 1, 1, 1, 1, 1, 1, 1, 1, 1, 1, 1, 1, 1, 1, 1, 1, 1, 1, 1, 1, 1, 1, 1, 1, 1, 1, 1, 1, 1, 1, 1, 1, 1, 1, 1, 1, 1, 1, 1, 1, 1, 1, 1, 1, 1, 1, 1, 1, 1, 1, 1, 1, 1, 1, 1, 1, 1, 1, 1, 1, 1, 1, 1, 1, 1, 1, 1, 1, 1, 1, 1, 1, 1, 1, 1, 1, 1, 1, 1, 1, 1, 1, 1, 1, 1, 1, 1, 1, 1, 1, 1, 1, 1, 1, 1, 1, 1, 1, 1, 1, 1, 1, 1, 1, 1, 1, 1, 1, 1, 1, 1, 1, 1, 1, 1, 1, 1, 1, 1, 1, 1, 1, 1, 1, 1, 1, 1, 1, 1, 1, 1, 1, 1, 1, 1, 1, 1, 1, 1, 1, 1, 1, 1, 1, 1, 1, 1, 1, 1, 1, 1, 1, 1, 1, 1, 1, 1, 1, 1, 1, 1, 1, 1, 1, 1, 1, 1, 1, 1, 1, 1, 1, 1, 1, 1, 1, 1, 1, 1, 1, 1, 1, 1, 1, 1, 1, 1, 1, 1, 1, 1, 1, 1, 1, 1, 1, 1, 1, 1, 1, 1, 1, 1, 1, 1, 1, 1, 1, 1, 1, 1, 1, 1, 1, 1, 1, 1, 1, 1, 1, 1, 1, 1, 1, 1, 1, 1, 1, 1, 1, 1, 1, 1, 1, 1, 1, 1, 1, 1, 1, 1, 1, 1, 1, 1, 1, 1, 1, 1, 1, 1, 1, 1, 1, 1, 1, 1, 1, 1, 1, 1, 1, 1, 1, 1, 1, 1, 1, 1, 1, 1, 1, 1, 1, 1, 1, 1, 1, 1, 1, 1, 1, 1, 1, 1, 1, 1, 1, 1, 1, 1, 1, 1, 1, 1, 1, 1, 1, 1, 1, 1, 1, 1, 1, 1, 1, 1, 1, 1, 1, 1, 1, 1, 1, 1, 1, 1, 1, 1, 1, 1, 1, 1, 1, 1, 1, 1, 1, 1, 1, 1, 1, 1, 1, 1, 1, 1, 1, 1, 1, 1, 1, 1, 1, 1, 1, 1, 1, 1, 1, 1, 1, 1, 1, 1, 1, 1, 1, 1, 1, 1, 1, 1, 1, 1, 1, 1, 1, 1, 1, 1, 1, 1, 1, 1, 1, 1, 1, 1, 1, 1, 1, 1, 1, 1, 1, 1, 1, 1, 1, 1, 1, 1, 1, 1, 1, 1, 1, 1, 1, 1, 1, 1, 1, 1, 1, 1, 1, 1, 1, 1, 1, 1, 1, 1, 1, 1, 1, 1, 1, 1, 1, 1, 1, 1, 1, 1, 1, 1, 1, 1, 1, 1, 1, 1, 1, 1, 1, 1, 1, 1, 1, 1, 1, 1, 1, 1, 1, 1, 1, 1, 1, 1, 1, 1, 1, 1, 1, 1, 1, 1, 1, 1, 1, 1, 1, 1, 1, 1, 1, 1, 1, 1, 1, 1, 1, 1, 1, 1, 1, 1, 1, 1, 1, 1, 1, 1, 1, 1, 1, 1, 1, 1, 1, 1, 1, 1, 1, 1, 1, 1, 1, 1, 1, 1, 1, 1, 1, 1, 1, 1, 1, 1, 1, 1, 1, 1, 1, 1, 1, 1, 1, 1, 1, 1, 1, 1, 1, 1, 1, 1, 1, 1, 1, 1, 1, 1, 1, 1, 1, 1, 1, 1, 1, 1, 1, 1, 1, 1, 1, 1, 1, 1, 1, 1, 1, 1, 1, 1, 1, 1, 1, 1, 1, 1, 1, 1, 1, 1, 1, 1, 1, 1, 1, 1, 1, 1, 1, 1, 1, 1, 1, 1, 1, 1, 1, 1, 1, 1, 1, 1, 1, 1, 1, 1, 1, 1, 1, 1, 1, 1, 1, 1, 1, 1, 1, 1, 1, 1, 1, 1, 1, 1, 1, 1, 1, 1, 1, 1, 1, 1, 1, 1, 1, 1, 1, 1, 1, 1, 1, 1, 1, 1, 1, 1, 1, 1, 1, 1, 1, 1, 1, 1, 1, 1, 1, 1, 1, 1, 1, 1, 1, 1, 1, 1, 1, 1, 1, 1, 1, 1, 1, 1, 1, 1, 1, 1, 1, 1, 1, 1, 1, 1, 1, 1, 1, 1, 1, 1, 1, 1, 1, 1, 1, 1, 1, 1, 1, 1, 1, 1, 1, 1, 1, 1, 1, 1, 1, 1, 1, 1, 1, 1, 1, 1, 1, 1, 1, 1, 1, 1, 1, 1, 1, 1, 1, 1, 1, 1, 1, 1, 1, 1, 1, 1, 1, 1, 1, 1, 1, 1, 1, 1, 1, 1, 1, 1, 1, 1, 1, 1, 1, 1, 1, 1, 1, 1, 1, 1, 1, 1, 1, 1, 1, 1, 1, 1, 1, 1, 1, 1, 1, 1, 1, 1, 1, 1, 1, 1, 1, 1, 1, 1, 1, 1, 1, 1, 1, 1, 1, 1, 1, 1, 1, 1, 1, 1, 1, 1, 1, 1, 1, 1, 1, 1, 1, 1, 1, 1, 1, 1, 1, 1, 1, 1, 1, 1, 1, 1, 1, 1, 1, 1, 1, 1, 1, 1, 1, 1, 1, 1, 1, 1, 1, 1, 1, 1, 1, 1, 1, 1, 1, 1, 1, 1, 1, 1, 1, 1, 1, 1, 1, 1, 1, 1, 1, 1, 1, 1, 1, 1, 1, 1, 1, 1, 1, 1, 1, 1, 1, 1, 1, 1, 1, 1, 1, 1, 1, 1, 1, 1, 1, 1, 1, 1, 1, 1, 1, 1, 1, 1, 1, 1, 1, 1, 1, 1, 1, 1, 1, 1, 1, 1, 1, 1, 1, 1, 1, 1, 1, 1, 1, 1, 1, 1, 1, 1, 1, 1, 1, 1, 1, 1, 1, 1, 1, 1, 1, 1, 1, 1, 1, 1, 1, 1, 1, 1, 1, 1, 1, 1, 1, 1, 1, 1, 1, 1, 1, 1, 1, 1, 1, 1, 1, 1, 1, 1, 1], 'labels': [6053, 151, 5451, 3522, 108, 5417, 26392, 1598, 1710, 113, 2180, 45740, 131, 116, 3379, 110, 107, 5451, 19274, 116, 26392, 11730, 24400, 347, 626, 110, 107, 45740, 18481, 2149, 1296, 25948, 2148, 155, 649, 178, 368, 146, 22299, 110, 107, 45740, 640, 115, 2043, 1462, 1491, 206, 533, 115, 5451, 2085, 11899, 110, 107, 1]}\n",
            "\n",
            "validation:\n",
            "{'input_ids': [143, 40155, 158, 11680, 108, 111, 128, 1283, 138, 129, 27018, 107, 485, 218, 1056, 172, 142, 45070, 36982, 108, 155, 173, 67455, 445, 596, 21188, 116, 6559, 84442, 1159, 112, 361, 156, 113, 215, 24303, 112, 114, 11507, 108, 215, 13493, 7703, 164, 122, 461, 335, 107, 168, 5455, 115, 1029, 1044, 2886, 42142, 107, 485, 3557, 111, 51202, 215, 107, 198, 187, 666, 125, 140, 313, 112, 225, 136, 156, 465, 170, 125, 272, 131, 144, 235, 108, 155, 109, 617, 120, 167, 223, 200, 137, 133, 114, 271, 3228, 108, 120, 131, 116, 848, 461, 745, 596, 21188, 116, 6559, 898, 11869, 6237, 1046, 12527, 107, 452, 218, 393, 5908, 115, 215, 13493, 141, 114, 902, 484, 107, 198, 2229, 118, 149, 109, 337, 111, 7850, 745, 114, 1929, 124, 114, 1208, 438, 115, 215, 442, 516, 107, 198, 187, 235, 136, 954, 1486, 117, 249, 2660, 197, 149, 113, 214, 107, 125, 163, 235, 125, 131, 208, 188, 109, 20808, 496, 11869, 967, 6212, 109, 12659, 113, 109, 438, 107, 343, 109, 484, 120, 27018, 596, 21188, 116, 6559, 131, 116, 1283, 140, 335, 2196, 113, 6761, 5771, 135, 10389, 121, 216, 23546, 23040, 8052, 107, 168, 659, 124, 114, 586, 31477, 5652, 155, 839, 126, 112, 114, 249, 902, 476, 108, 992, 112, 1310, 3755, 2647, 900, 115, 1212, 3730, 107, 412, 281, 108, 120, 126, 117, 646, 668, 15225, 108, 114, 34299, 415, 113, 5786, 15024, 108, 8147, 111, 114, 95816, 108, 111, 154, 197, 1466, 337, 648, 112, 1798, 16254, 124, 665, 200, 107, 322, 127, 28170, 1029, 24303, 135, 9460, 111, 10922, 273, 183, 190, 1029, 10323, 107, 198, 159, 3110, 113, 109, 9460, 111, 10323, 499, 135, 2571, 112, 3109, 111, 444, 339, 2929, 111, 667, 8052, 108, 156, 21419, 2188, 111, 156, 2936, 111, 3051, 121, 386, 121, 5505, 2188, 745, 109, 941, 1104, 243, 115, 114, 1736, 107, 139, 2552, 113, 16254, 117, 112, 129, 6345, 164, 1197, 107, 222, 1095, 1051, 108, 109, 941, 1104, 117, 1062, 112, 1137, 114, 4595, 118, 149, 665, 1044, 107, 1063, 131, 116, 199, 109, 1561, 9333, 659, 108, 992, 112, 1310, 3755, 2647, 900, 107, 9267, 108, 128, 2936, 397, 114, 8934, 112, 803, 169, 271, 108, 132, 134, 583, 179, 299, 113, 28128, 108, 111, 119, 131, 216, 2747, 112, 361, 342, 156, 113, 128, 116, 107, 343, 237, 126, 3043, 165, 120, 128, 8934, 117, 146, 114, 1311, 118, 342, 108, 111, 126, 131, 116, 878, 169, 513, 192, 12139, 126, 107, 673, 2936, 137, 237, 179, 124, 114, 231, 121, 4254, 1838, 467, 118, 114, 8934, 792, 135, 142, 8890, 10389, 170, 2342, 107, 3183, 120, 138, 201, 165, 1315, 132, 146, 108, 111, 166, 256, 550, 165, 118, 342, 107, 11584, 108, 119, 111, 128, 2936, 256, 286, 118, 372, 6863, 121, 15577, 10389, 932, 172, 19176, 1315, 416, 108, 228, 154, 11243, 108, 241, 109, 10389, 131, 116, 8934, 875, 131, 144, 5943, 118, 169, 3051, 108, 109, 6863, 107, 343, 1556, 128, 8934, 117, 114, 1311, 118, 169, 3051, 108, 111, 169, 8934, 117, 114, 1311, 118, 128, 2936, 107, 412, 108, 119, 131, 252, 171, 114, 9333, 107, 485, 131, 116, 568, 114, 7703, 5041, 107, 168, 131, 116, 114, 588, 113, 114, 7061, 2151, 2325, 108, 241, 541, 200, 1891, 204, 2091, 10241, 111, 5123, 1168, 238, 11260, 107, 343, 1088, 113, 114, 2151, 2325, 108, 596, 21188, 116, 6559, 131, 116, 5263, 696, 323, 299, 114, 2552, 4658, 108, 172, 84012, 4255, 107, 1911, 8934, 108, 162, 140, 2515, 1789, 108, 687, 112, 114, 6863, 108, 170, 140, 7703, 122, 114, 10389, 107, 485, 10389, 131, 116, 8934, 687, 112, 109, 352, 6863, 108, 170, 140, 163, 7703, 122, 114, 10389, 108, 111, 167, 124, 107, 651, 1197, 108, 109, 289, 10389, 138, 361, 114, 8934, 112, 647, 170, 148, 174, 5469, 273, 166, 124, 156, 113, 274, 12620, 10389, 4240, 112, 573, 109, 2552, 107, 4385, 300, 121, 18894, 75363, 117, 2822, 107, 168, 131, 116, 174, 479, 269, 108, 1310, 3755, 2647, 900, 243, 115, 114, 1736, 108, 155, 4555, 164, 109, 200, 115, 109, 2552, 148, 174, 41404, 111, 784, 114, 300, 166, 107, 485, 1545, 173, 114, 958, 19388, 1729, 1763, 20074, 915, 114, 8934, 13555, 107, 285, 196, 174, 1838, 124, 114, 12620, 10389, 467, 108, 173, 114, 498, 10389, 642, 466, 1315, 647, 948, 505, 112, 361, 429, 114, 8934, 112, 114, 11507, 107, 20074, 1389, 126, 782, 122, 169, 3661, 766, 108, 1125, 9796, 33310, 108, 114, 431, 120, 21456, 3637, 164, 10389, 8052, 132, 8700, 890, 107, 198, 676, 145, 368, 114, 668, 121, 3018, 9333, 114, 324, 231, 754, 108, 162, 140, 156, 113, 109, 1368, 108, 126, 635, 160, 339, 112, 541, 590, 107, 184, 368, 136, 115, 160, 339, 899, 745, 20074, 243, 107, 343, 136, 2552, 2177, 131, 144, 133, 947, 167, 890, 347, 596, 21188, 116, 6559, 131, 116, 13493, 1315, 132, 218, 146, 133, 947, 134, 149, 107, 198, 159, 7286, 113, 109, 69839, 10389, 117, 120, 126, 4672, 164, 4570, 118, 13189, 4502, 9460, 111, 10323, 745, 243, 982, 107, 8950, 31408, 79480, 107, 198, 4342, 186, 196, 174, 209, 339, 132, 541, 671, 108, 122, 109, 7476, 113, 109, 69839, 10389, 108, 145, 196, 9931, 671, 112, 1037, 118, 4555, 9460, 111, 10323, 496, 325, 120, 131, 116, 9411, 108, 596, 21188, 116, 6559, 131, 116, 1151, 20015, 4225, 2021, 115, 114, 1929, 215, 124, 596, 21188, 116, 6559, 131, 116, 1208, 438, 107, 198, 417, 127, 114, 921, 10938, 161, 1151, 496, 1], 'attention_mask': [1, 1, 1, 1, 1, 1, 1, 1, 1, 1, 1, 1, 1, 1, 1, 1, 1, 1, 1, 1, 1, 1, 1, 1, 1, 1, 1, 1, 1, 1, 1, 1, 1, 1, 1, 1, 1, 1, 1, 1, 1, 1, 1, 1, 1, 1, 1, 1, 1, 1, 1, 1, 1, 1, 1, 1, 1, 1, 1, 1, 1, 1, 1, 1, 1, 1, 1, 1, 1, 1, 1, 1, 1, 1, 1, 1, 1, 1, 1, 1, 1, 1, 1, 1, 1, 1, 1, 1, 1, 1, 1, 1, 1, 1, 1, 1, 1, 1, 1, 1, 1, 1, 1, 1, 1, 1, 1, 1, 1, 1, 1, 1, 1, 1, 1, 1, 1, 1, 1, 1, 1, 1, 1, 1, 1, 1, 1, 1, 1, 1, 1, 1, 1, 1, 1, 1, 1, 1, 1, 1, 1, 1, 1, 1, 1, 1, 1, 1, 1, 1, 1, 1, 1, 1, 1, 1, 1, 1, 1, 1, 1, 1, 1, 1, 1, 1, 1, 1, 1, 1, 1, 1, 1, 1, 1, 1, 1, 1, 1, 1, 1, 1, 1, 1, 1, 1, 1, 1, 1, 1, 1, 1, 1, 1, 1, 1, 1, 1, 1, 1, 1, 1, 1, 1, 1, 1, 1, 1, 1, 1, 1, 1, 1, 1, 1, 1, 1, 1, 1, 1, 1, 1, 1, 1, 1, 1, 1, 1, 1, 1, 1, 1, 1, 1, 1, 1, 1, 1, 1, 1, 1, 1, 1, 1, 1, 1, 1, 1, 1, 1, 1, 1, 1, 1, 1, 1, 1, 1, 1, 1, 1, 1, 1, 1, 1, 1, 1, 1, 1, 1, 1, 1, 1, 1, 1, 1, 1, 1, 1, 1, 1, 1, 1, 1, 1, 1, 1, 1, 1, 1, 1, 1, 1, 1, 1, 1, 1, 1, 1, 1, 1, 1, 1, 1, 1, 1, 1, 1, 1, 1, 1, 1, 1, 1, 1, 1, 1, 1, 1, 1, 1, 1, 1, 1, 1, 1, 1, 1, 1, 1, 1, 1, 1, 1, 1, 1, 1, 1, 1, 1, 1, 1, 1, 1, 1, 1, 1, 1, 1, 1, 1, 1, 1, 1, 1, 1, 1, 1, 1, 1, 1, 1, 1, 1, 1, 1, 1, 1, 1, 1, 1, 1, 1, 1, 1, 1, 1, 1, 1, 1, 1, 1, 1, 1, 1, 1, 1, 1, 1, 1, 1, 1, 1, 1, 1, 1, 1, 1, 1, 1, 1, 1, 1, 1, 1, 1, 1, 1, 1, 1, 1, 1, 1, 1, 1, 1, 1, 1, 1, 1, 1, 1, 1, 1, 1, 1, 1, 1, 1, 1, 1, 1, 1, 1, 1, 1, 1, 1, 1, 1, 1, 1, 1, 1, 1, 1, 1, 1, 1, 1, 1, 1, 1, 1, 1, 1, 1, 1, 1, 1, 1, 1, 1, 1, 1, 1, 1, 1, 1, 1, 1, 1, 1, 1, 1, 1, 1, 1, 1, 1, 1, 1, 1, 1, 1, 1, 1, 1, 1, 1, 1, 1, 1, 1, 1, 1, 1, 1, 1, 1, 1, 1, 1, 1, 1, 1, 1, 1, 1, 1, 1, 1, 1, 1, 1, 1, 1, 1, 1, 1, 1, 1, 1, 1, 1, 1, 1, 1, 1, 1, 1, 1, 1, 1, 1, 1, 1, 1, 1, 1, 1, 1, 1, 1, 1, 1, 1, 1, 1, 1, 1, 1, 1, 1, 1, 1, 1, 1, 1, 1, 1, 1, 1, 1, 1, 1, 1, 1, 1, 1, 1, 1, 1, 1, 1, 1, 1, 1, 1, 1, 1, 1, 1, 1, 1, 1, 1, 1, 1, 1, 1, 1, 1, 1, 1, 1, 1, 1, 1, 1, 1, 1, 1, 1, 1, 1, 1, 1, 1, 1, 1, 1, 1, 1, 1, 1, 1, 1, 1, 1, 1, 1, 1, 1, 1, 1, 1, 1, 1, 1, 1, 1, 1, 1, 1, 1, 1, 1, 1, 1, 1, 1, 1, 1, 1, 1, 1, 1, 1, 1, 1, 1, 1, 1, 1, 1, 1, 1, 1, 1, 1, 1, 1, 1, 1, 1, 1, 1, 1, 1, 1, 1, 1, 1, 1, 1, 1, 1, 1, 1, 1, 1, 1, 1, 1, 1, 1, 1, 1, 1, 1, 1, 1, 1, 1, 1, 1, 1, 1, 1, 1, 1, 1, 1, 1, 1, 1, 1, 1, 1, 1, 1, 1, 1, 1, 1, 1, 1, 1, 1, 1, 1, 1, 1, 1, 1, 1, 1, 1, 1, 1, 1, 1, 1, 1, 1, 1, 1, 1, 1, 1, 1, 1, 1, 1, 1, 1, 1, 1, 1, 1, 1, 1, 1, 1, 1, 1, 1, 1, 1, 1, 1, 1, 1, 1, 1, 1, 1, 1, 1, 1, 1, 1, 1, 1, 1, 1, 1, 1, 1, 1, 1, 1, 1, 1, 1, 1, 1, 1, 1, 1, 1, 1, 1, 1, 1, 1, 1, 1, 1, 1, 1, 1, 1, 1, 1, 1, 1, 1, 1, 1, 1, 1, 1, 1, 1, 1, 1, 1, 1, 1, 1, 1, 1, 1, 1, 1, 1, 1, 1, 1, 1, 1, 1, 1, 1, 1, 1, 1, 1, 1, 1, 1, 1, 1, 1, 1, 1, 1, 1, 1, 1, 1, 1, 1, 1, 1, 1, 1, 1, 1, 1, 1, 1, 1, 1, 1, 1, 1, 1, 1, 1, 1, 1, 1, 1, 1, 1, 1, 1, 1, 1, 1, 1, 1, 1, 1, 1, 1, 1, 1, 1, 1, 1, 1, 1, 1, 1, 1, 1, 1, 1, 1, 1, 1, 1, 1, 1, 1, 1, 1, 1, 1, 1, 1, 1, 1, 1, 1, 1, 1, 1, 1, 1, 1, 1, 1, 1, 1, 1, 1, 1, 1, 1, 1, 1, 1, 1], 'labels': [67455, 445, 596, 21188, 116, 6559, 1159, 112, 361, 114, 8934, 112, 114, 11507, 110, 107, 202, 177, 958, 431, 1543, 215, 5041, 20332, 42142, 118, 1029, 8934, 1044, 110, 107, 1]}\n",
            "\n",
            "{'input_ids': [143, 40155, 158, 1189, 109, 530, 307, 113, 960, 19648, 1212, 7845, 33870, 111, 3710, 706, 24997, 25187, 165, 115, 683, 113, 7686, 43917, 38225, 1730, 134, 109, 34567, 7060, 115, 1212, 7845, 108, 1310, 107, 139, 3246, 3639, 140, 109, 211, 521, 7087, 2493, 12612, 1311, 1315, 114, 8712, 177, 13675, 118, 109, 278, 131, 116, 928, 2867, 115, 114, 1241, 203, 25139, 196, 610, 112, 18567, 107, 92429, 551, 4944, 109, 918, 118, 15547, 108, 33458, 12662, 8005, 33362, 19714, 2540, 109, 38736, 198, 38474, 113, 114, 177, 4065, 118, 655, 6068, 496, 4395, 247, 134, 6787, 135, 120, 60464, 1709, 239, 126, 131, 116, 514, 146, 112, 393, 114, 878, 21228, 107, 596, 66236, 8802, 108, 17800, 14613, 111, 4768, 2613, 28408, 112, 193, 727, 154, 1845, 195, 149, 297, 113, 109, 30987, 11377, 306, 107, 48161, 17898, 195, 5039, 112, 319, 4970, 134, 109, 370, 113, 276, 751, 107, 1513, 154, 14354, 445, 108, 5483, 727, 195, 5862, 141, 41917, 116, 120, 1148, 12097, 1080, 550, 122, 109, 1760, 135, 30208, 7057, 116, 165, 269, 7022, 112, 2737, 109, 13125, 21591, 107, 398, 109, 11377, 14049, 112, 2689, 109, 1427, 113, 203, 599, 307, 578, 108, 126, 131, 116, 514, 112, 12888, 188, 199, 249, 109, 3867, 148, 17077, 115, 109, 43983, 908, 107, 2859, 1871, 117, 109, 2524, 112, 42600, 122, 109, 1696, 113, 109, 389, 118, 114, 388, 107, 42198, 116, 127, 902, 197, 521, 269, 277, 109, 344, 113, 1518, 1065, 148, 10185, 135, 377, 115, 109, 9137, 1541, 112, 599, 115, 3858, 202, 701, 541, 127, 323, 112, 129, 717, 141, 12573, 651, 349, 113, 136, 108, 109, 177, 578, 117, 109, 211, 113, 114, 177, 2970, 1180, 111, 636, 1420, 818, 122, 26849, 108, 15547, 111, 92732, 1092, 34897, 604, 204, 1965, 231, 107, 182, 1868, 218, 9842, 9225, 109, 5257, 107, 740, 1722, 938, 1389, 141, 926, 33607, 118, 109, 1188, 6235, 2493, 108, 109, 21315, 2418, 3867, 115, 109, 278, 108, 155, 126, 3401, 114, 1117, 3124, 115, 564, 113, 109, 1331, 11377, 818, 107, 2973, 112, 7400, 93396, 108, 1229, 121, 45535, 1598, 111, 1977, 113, 109, 177, 11377, 5812, 108, 8392, 672, 12612, 1718, 108, 198, 544, 503, 111, 109, 389, 1110, 148, 1652, 124, 7309, 194, 115, 109, 475, 107, 283, 107, 107, 285, 3999, 180, 192, 3294, 1149, 231, 874, 115, 205, 176, 3217, 148, 174, 1267, 115, 109, 211, 228, 2701, 113, 109, 11377, 107, 93396, 131, 1666, 117, 114, 4561, 587, 113, 136, 4686, 5199, 107, 285, 5002, 1080, 270, 5817, 165, 113, 1872, 1631, 262, 113, 114, 1522, 13656, 122, 114, 3717, 755, 146, 167, 300, 754, 107, 182, 1339, 25520, 1730, 127, 1214, 112, 5945, 8392, 672, 131, 116, 1671, 1339, 9997, 464, 351, 859, 672, 108, 372, 177, 1666, 395, 153, 11377, 7489, 107, 894, 3164, 4960, 53947, 111, 1763, 8106, 138, 795, 165, 118, 8392, 111, 351, 859, 672, 4802, 107, 198, 284, 131, 216, 188, 124, 109, 22238, 113, 109, 4660, 134, 109, 1171, 745, 93396, 243, 113, 2418, 131, 116, 655, 1974, 107, 198, 2695, 126, 129, 109, 344, 228, 108, 344, 339, 2867, 115, 136, 531, 152, 2657, 108, 125, 311, 126, 137, 107, 325, 126, 137, 129, 115, 114, 613, 501, 113, 166, 496, 507, 1259, 48741, 127, 6001, 141, 109, 1124, 820, 475, 107, 283, 107, 1730, 2375, 115, 289, 232, 131, 116, 894, 3164, 115, 5472, 107, 2308, 2106, 131, 116, 456, 1348, 13656, 122, 9650, 7814, 1182, 604, 6866, 108, 992, 112, 3432, 135, 1180, 5006, 1419, 108, 25339, 107, 485, 131, 116, 8581, 154, 197, 109, 738, 604, 5421, 131, 116, 2191, 894, 2879, 16532, 124, 26849, 132, 109, 984, 1684, 120, 7228, 190, 109, 1953, 7766, 14527, 124, 8172, 107, 7964, 170, 1148, 12445, 19142, 121, 768, 758, 1730, 2666, 165, 2501, 131, 116, 6365, 981, 112, 11579, 124, 153, 531, 879, 461, 6234, 108, 14822, 108, 192, 258, 126, 514, 112, 6927, 464, 6068, 115, 109, 475, 107, 283, 107, 239, 270, 742, 176, 197, 114, 461, 818, 107, 52557, 136, 7367, 1348, 108, 802, 108, 148, 174, 742, 155, 114, 2291, 1978, 107, 139, 11377, 140, 1668, 112, 133, 1166, 130, 249, 130, 17057, 604, 115, 203, 211, 668, 231, 277, 1077, 6407, 116, 4471, 71413, 244, 109, 11927, 578, 107, 4123, 1518, 1315, 4977, 15827, 108, 9712, 2016, 10484, 37008, 143, 10771, 115, 52411, 111, 88642, 2106, 26470, 1315, 195, 64013, 466, 109, 230, 640, 112, 114, 3173, 113, 1905, 113, 1781, 820, 111, 4865, 12332, 107, 202, 731, 141, 15347, 134, 109, 370, 113, 5539, 14822, 108, 4620, 120, 209, 377, 165, 113, 1925, 11377, 1518, 195, 7612, 107, 325, 130, 938, 130, 136, 396, 108, 11377, 1080, 1740, 172, 157, 256, 129, 313, 124, 5100, 204, 9125, 111, 109, 268, 113, 1080, 112, 460, 294, 3073, 173, 153, 4597, 370, 107, 1249, 186, 131, 116, 109, 230, 109, 3867, 8727, 108, 12497, 111, 10284, 1080, 107, 202, 5219, 3889, 42695, 109, 713, 1518, 137, 1178, 124, 1123, 42486, 107, 1547, 477, 108, 802, 108, 148, 114, 344, 113, 2849, 120, 137, 129, 11038, 112, 198, 2467, 1349, 194, 47349, 162, 127, 146, 953, 373, 109, 3889, 107, 182, 709, 7367, 11772, 18905, 1080, 170, 1646, 109, 11377, 224, 109, 4582, 747, 269, 4853, 153, 1416, 798, 107, 1043, 18501, 1080, 135, 1666, 131, 116, 486, 41268, 127, 163, 13875, 130, 127, 114, 2004, 113, 339, 5957, 1080, 143, 14405, 116, 312, 832, 13523, 942, 1964, 1843, 9125, 111, 1955, 2083, 138, 129, 1622, 141, 1666, 1721, 132, 8116, 107, 614, 113, 109, 674, 36915, 113, 109, 11377, 111, 203, 1482, 1446, 4902, 84250, 117, 120, 277, 126, 358, 23434, 5644, 3061, 113, 109, 389, 172, 1763, 31848, 108, 24328, 1054, 39026, 7028, 111, 60978, 5244, 112, 1699, 115, 109, 11377, 108, 126, 209, 358, 167, 173, 153, 6312, 127, 124, 114, 15763, 19486, 107, 1807, 192, 142, 3446, 1446, 245, 112, 696, 112, 114, 3867, 120, 137, 209, 4350, 114, 6467, 113, 349, 7063, 134, 189, 156, 166, 108, 244, 149, 152, 325, 15600, 4269, 156, 113, 109, 1], 'attention_mask': [1, 1, 1, 1, 1, 1, 1, 1, 1, 1, 1, 1, 1, 1, 1, 1, 1, 1, 1, 1, 1, 1, 1, 1, 1, 1, 1, 1, 1, 1, 1, 1, 1, 1, 1, 1, 1, 1, 1, 1, 1, 1, 1, 1, 1, 1, 1, 1, 1, 1, 1, 1, 1, 1, 1, 1, 1, 1, 1, 1, 1, 1, 1, 1, 1, 1, 1, 1, 1, 1, 1, 1, 1, 1, 1, 1, 1, 1, 1, 1, 1, 1, 1, 1, 1, 1, 1, 1, 1, 1, 1, 1, 1, 1, 1, 1, 1, 1, 1, 1, 1, 1, 1, 1, 1, 1, 1, 1, 1, 1, 1, 1, 1, 1, 1, 1, 1, 1, 1, 1, 1, 1, 1, 1, 1, 1, 1, 1, 1, 1, 1, 1, 1, 1, 1, 1, 1, 1, 1, 1, 1, 1, 1, 1, 1, 1, 1, 1, 1, 1, 1, 1, 1, 1, 1, 1, 1, 1, 1, 1, 1, 1, 1, 1, 1, 1, 1, 1, 1, 1, 1, 1, 1, 1, 1, 1, 1, 1, 1, 1, 1, 1, 1, 1, 1, 1, 1, 1, 1, 1, 1, 1, 1, 1, 1, 1, 1, 1, 1, 1, 1, 1, 1, 1, 1, 1, 1, 1, 1, 1, 1, 1, 1, 1, 1, 1, 1, 1, 1, 1, 1, 1, 1, 1, 1, 1, 1, 1, 1, 1, 1, 1, 1, 1, 1, 1, 1, 1, 1, 1, 1, 1, 1, 1, 1, 1, 1, 1, 1, 1, 1, 1, 1, 1, 1, 1, 1, 1, 1, 1, 1, 1, 1, 1, 1, 1, 1, 1, 1, 1, 1, 1, 1, 1, 1, 1, 1, 1, 1, 1, 1, 1, 1, 1, 1, 1, 1, 1, 1, 1, 1, 1, 1, 1, 1, 1, 1, 1, 1, 1, 1, 1, 1, 1, 1, 1, 1, 1, 1, 1, 1, 1, 1, 1, 1, 1, 1, 1, 1, 1, 1, 1, 1, 1, 1, 1, 1, 1, 1, 1, 1, 1, 1, 1, 1, 1, 1, 1, 1, 1, 1, 1, 1, 1, 1, 1, 1, 1, 1, 1, 1, 1, 1, 1, 1, 1, 1, 1, 1, 1, 1, 1, 1, 1, 1, 1, 1, 1, 1, 1, 1, 1, 1, 1, 1, 1, 1, 1, 1, 1, 1, 1, 1, 1, 1, 1, 1, 1, 1, 1, 1, 1, 1, 1, 1, 1, 1, 1, 1, 1, 1, 1, 1, 1, 1, 1, 1, 1, 1, 1, 1, 1, 1, 1, 1, 1, 1, 1, 1, 1, 1, 1, 1, 1, 1, 1, 1, 1, 1, 1, 1, 1, 1, 1, 1, 1, 1, 1, 1, 1, 1, 1, 1, 1, 1, 1, 1, 1, 1, 1, 1, 1, 1, 1, 1, 1, 1, 1, 1, 1, 1, 1, 1, 1, 1, 1, 1, 1, 1, 1, 1, 1, 1, 1, 1, 1, 1, 1, 1, 1, 1, 1, 1, 1, 1, 1, 1, 1, 1, 1, 1, 1, 1, 1, 1, 1, 1, 1, 1, 1, 1, 1, 1, 1, 1, 1, 1, 1, 1, 1, 1, 1, 1, 1, 1, 1, 1, 1, 1, 1, 1, 1, 1, 1, 1, 1, 1, 1, 1, 1, 1, 1, 1, 1, 1, 1, 1, 1, 1, 1, 1, 1, 1, 1, 1, 1, 1, 1, 1, 1, 1, 1, 1, 1, 1, 1, 1, 1, 1, 1, 1, 1, 1, 1, 1, 1, 1, 1, 1, 1, 1, 1, 1, 1, 1, 1, 1, 1, 1, 1, 1, 1, 1, 1, 1, 1, 1, 1, 1, 1, 1, 1, 1, 1, 1, 1, 1, 1, 1, 1, 1, 1, 1, 1, 1, 1, 1, 1, 1, 1, 1, 1, 1, 1, 1, 1, 1, 1, 1, 1, 1, 1, 1, 1, 1, 1, 1, 1, 1, 1, 1, 1, 1, 1, 1, 1, 1, 1, 1, 1, 1, 1, 1, 1, 1, 1, 1, 1, 1, 1, 1, 1, 1, 1, 1, 1, 1, 1, 1, 1, 1, 1, 1, 1, 1, 1, 1, 1, 1, 1, 1, 1, 1, 1, 1, 1, 1, 1, 1, 1, 1, 1, 1, 1, 1, 1, 1, 1, 1, 1, 1, 1, 1, 1, 1, 1, 1, 1, 1, 1, 1, 1, 1, 1, 1, 1, 1, 1, 1, 1, 1, 1, 1, 1, 1, 1, 1, 1, 1, 1, 1, 1, 1, 1, 1, 1, 1, 1, 1, 1, 1, 1, 1, 1, 1, 1, 1, 1, 1, 1, 1, 1, 1, 1, 1, 1, 1, 1, 1, 1, 1, 1, 1, 1, 1, 1, 1, 1, 1, 1, 1, 1, 1, 1, 1, 1, 1, 1, 1, 1, 1, 1, 1, 1, 1, 1, 1, 1, 1, 1, 1, 1, 1, 1, 1, 1, 1, 1, 1, 1, 1, 1, 1, 1, 1, 1, 1, 1, 1, 1, 1, 1, 1, 1, 1, 1, 1, 1, 1, 1, 1, 1, 1, 1, 1, 1, 1, 1, 1, 1, 1, 1, 1, 1, 1, 1, 1, 1, 1, 1, 1, 1, 1, 1, 1, 1, 1, 1, 1, 1, 1, 1, 1, 1, 1, 1, 1, 1, 1, 1, 1, 1, 1, 1, 1, 1, 1, 1, 1, 1, 1, 1, 1, 1, 1, 1, 1, 1, 1, 1, 1, 1, 1, 1, 1, 1, 1, 1, 1, 1, 1, 1, 1, 1, 1, 1, 1, 1, 1, 1, 1, 1, 1, 1, 1, 1, 1, 1, 1, 1, 1, 1, 1, 1, 1, 1, 1, 1, 1, 1, 1, 1, 1, 1, 1, 1, 1, 1, 1, 1, 1, 1, 1, 1, 1, 1, 1, 1, 1, 1, 1, 1, 1, 1, 1, 1, 1, 1, 1, 1, 1, 1, 1, 1, 1, 1, 1, 1, 1, 1, 1, 1, 1, 1, 1, 1, 1, 1, 1, 1, 1, 1, 1, 1, 1, 1, 1, 1, 1, 1, 1, 1, 1, 1, 1, 1, 1, 1, 1, 1, 1, 1, 1, 1, 1, 1, 1, 1, 1, 1, 1, 1, 1, 1, 1, 1, 1, 1, 1, 1, 1, 1, 1, 1, 1, 1, 1, 1, 1, 1, 1, 1, 1, 1, 1, 1, 1, 1, 1, 1, 1, 1, 1, 1], 'labels': [139, 599, 307, 11377, 578, 2779, 136, 1339, 110, 107, 2493, 148, 1545, 7309, 381, 203, 12188, 115, 9137, 110, 107, 1027, 906, 682, 1696, 1409, 5219, 9678, 111, 7995, 217, 112, 411, 110, 107, 1]}\n",
            "\n",
            "{'input_ids': [143, 40155, 158, 20295, 18137, 11045, 48096, 87942, 1859, 17562, 108, 170, 148, 114, 689, 113, 76484, 108, 243, 178, 117, 239, 198, 42605, 210, 194, 244, 36258, 333, 28084, 131, 116, 27825, 1135, 134, 26232, 115, 109, 6235, 2493, 124, 1900, 107, 139, 10231, 4077, 4606, 115, 109, 211, 751, 134, 1551, 9322, 6378, 1315, 244, 26232, 3523, 115, 109, 8850, 1960, 1315, 155, 109, 34782, 1019, 121, 1623, 518, 109, 4634, 7394, 645, 160, 668, 542, 113, 791, 107, 139, 11351, 717, 120, 178, 140, 2941, 142, 6728, 6374, 107, 3419, 140, 10241, 3135, 269, 67402, 107, 398, 109, 1311, 17077, 108, 28084, 15752, 120, 1859, 17562, 140, 198, 22801, 745, 122, 2031, 41017, 32417, 303, 109, 310, 1172, 112, 3626, 1859, 17562, 131, 1436, 107, 1859, 17562, 1363, 109, 565, 115, 2241, 130, 114, 33736, 108, 28084, 243, 124, 203, 387, 107, 198, 187, 869, 112, 30752, 119, 3990, 161, 426, 745, 1859, 17562, 898, 109, 387, 107, 198, 362, 589, 978, 249, 71897, 197, 126, 117, 5560, 3346, 108, 111, 125, 346, 1353, 210, 239, 107, 198, 187, 133, 174, 365, 114, 255, 818, 113, 1743, 111, 8466, 640, 112, 161, 1802, 131, 116, 426, 108, 162, 1632, 213, 112, 275, 247, 111, 5381, 135, 2481, 107, 198, 187, 140, 6285, 120, 125, 1826, 131, 144, 225, 161, 320, 4941, 108, 155, 239, 579, 117, 247, 115, 385, 107, 125, 163, 245, 112, 2041, 688, 118, 153, 337, 111, 179, 210, 2910, 496, 1859, 17562, 196, 984, 76484, 14659, 115, 2481, 108, 162, 10078, 109, 1977, 113, 169, 1319, 1666, 108, 7026, 121, 44226, 202, 9677, 116, 113, 21507, 108, 112, 823, 1775, 3069, 115, 3418, 151, 198, 284, 137, 131, 144, 146, 129, 5238, 108, 126, 35769, 119, 276, 166, 496, 28084, 3120, 2749, 124, 1859, 17562, 108, 243, 32417, 108, 1620, 112, 5130, 342, 124, 114, 294, 1955, 289, 1307, 107, 198, 1097, 188, 148, 114, 332, 588, 113, 580, 1458, 1367, 162, 2791, 119, 114, 332, 588, 113, 743, 745, 32417, 243, 115, 114, 32735, 2292, 124, 5018, 107, 198, 362, 131, 116, 174, 297, 113, 169, 271, 107, 184, 195, 210, 1906, 113, 120, 173, 145, 2442, 342, 107, 285, 131, 116, 479, 149, 109, 2241, 5723, 111, 149, 109, 941, 5723, 119, 137, 2570, 171, 111, 126, 131, 116, 188, 297, 113, 169, 271, 107, 198, 362, 131, 116, 220, 743, 11270, 107, 168, 131, 116, 146, 130, 1651, 130, 126, 978, 496, 1859, 17562, 148, 3523, 228, 3867, 1203, 118, 28084, 136, 578, 108, 2320, 115, 114, 5010, 868, 107, 285, 1257, 109, 12175, 477, 131, 116, 349, 18137, 173, 20724, 23433, 12306, 415, 2442, 122, 5420, 672, 115, 1268, 107, 9809, 1270, 339, 231, 754, 134, 1551, 9322, 6378, 108, 237, 20956, 16973, 13749, 326, 10484, 20803, 16506, 244, 3716, 114, 13577, 7170, 107, 285, 140, 828, 1323, 108, 992, 112, 20956, 108, 155, 7646, 244, 270, 2839, 134, 109, 1169, 26793, 3348, 107, 285, 8524, 5774, 107, 2428, 62543, 108, 330, 28802, 942, 9926, 121, 94257, 1227, 15391, 326, 115, 5851, 111, 3258, 942, 7607, 16529, 43007, 115, 9248, 595, 131, 144, 5229, 244, 36258, 124, 109, 4634, 107, 1], 'attention_mask': [1, 1, 1, 1, 1, 1, 1, 1, 1, 1, 1, 1, 1, 1, 1, 1, 1, 1, 1, 1, 1, 1, 1, 1, 1, 1, 1, 1, 1, 1, 1, 1, 1, 1, 1, 1, 1, 1, 1, 1, 1, 1, 1, 1, 1, 1, 1, 1, 1, 1, 1, 1, 1, 1, 1, 1, 1, 1, 1, 1, 1, 1, 1, 1, 1, 1, 1, 1, 1, 1, 1, 1, 1, 1, 1, 1, 1, 1, 1, 1, 1, 1, 1, 1, 1, 1, 1, 1, 1, 1, 1, 1, 1, 1, 1, 1, 1, 1, 1, 1, 1, 1, 1, 1, 1, 1, 1, 1, 1, 1, 1, 1, 1, 1, 1, 1, 1, 1, 1, 1, 1, 1, 1, 1, 1, 1, 1, 1, 1, 1, 1, 1, 1, 1, 1, 1, 1, 1, 1, 1, 1, 1, 1, 1, 1, 1, 1, 1, 1, 1, 1, 1, 1, 1, 1, 1, 1, 1, 1, 1, 1, 1, 1, 1, 1, 1, 1, 1, 1, 1, 1, 1, 1, 1, 1, 1, 1, 1, 1, 1, 1, 1, 1, 1, 1, 1, 1, 1, 1, 1, 1, 1, 1, 1, 1, 1, 1, 1, 1, 1, 1, 1, 1, 1, 1, 1, 1, 1, 1, 1, 1, 1, 1, 1, 1, 1, 1, 1, 1, 1, 1, 1, 1, 1, 1, 1, 1, 1, 1, 1, 1, 1, 1, 1, 1, 1, 1, 1, 1, 1, 1, 1, 1, 1, 1, 1, 1, 1, 1, 1, 1, 1, 1, 1, 1, 1, 1, 1, 1, 1, 1, 1, 1, 1, 1, 1, 1, 1, 1, 1, 1, 1, 1, 1, 1, 1, 1, 1, 1, 1, 1, 1, 1, 1, 1, 1, 1, 1, 1, 1, 1, 1, 1, 1, 1, 1, 1, 1, 1, 1, 1, 1, 1, 1, 1, 1, 1, 1, 1, 1, 1, 1, 1, 1, 1, 1, 1, 1, 1, 1, 1, 1, 1, 1, 1, 1, 1, 1, 1, 1, 1, 1, 1, 1, 1, 1, 1, 1, 1, 1, 1, 1, 1, 1, 1, 1, 1, 1, 1, 1, 1, 1, 1, 1, 1, 1, 1, 1, 1, 1, 1, 1, 1, 1, 1, 1, 1, 1, 1, 1, 1, 1, 1, 1, 1, 1, 1, 1, 1, 1, 1, 1, 1, 1, 1, 1, 1, 1, 1, 1, 1, 1, 1, 1, 1, 1, 1, 1, 1, 1, 1, 1, 1, 1, 1, 1, 1, 1, 1, 1, 1, 1, 1, 1, 1, 1, 1, 1, 1, 1, 1, 1, 1, 1, 1, 1, 1, 1, 1, 1, 1, 1, 1, 1, 1, 1, 1, 1, 1, 1, 1, 1, 1, 1, 1, 1, 1, 1, 1, 1, 1, 1, 1, 1, 1, 1, 1, 1, 1, 1, 1, 1, 1, 1, 1, 1, 1, 1, 1, 1, 1, 1, 1, 1, 1, 1, 1, 1, 1, 1, 1, 1, 1, 1, 1, 1, 1, 1, 1, 1, 1, 1, 1, 1, 1, 1, 1, 1, 1, 1, 1, 1, 1, 1, 1, 1, 1, 1, 1, 1, 1, 1, 1, 1, 1, 1, 1, 1, 1, 1, 1, 1, 1, 1, 1, 1, 1, 1, 1, 1, 1, 1], 'labels': [11045, 48096, 87942, 1859, 17562, 46371, 373, 377, 542, 113, 32661, 134, 26232, 110, 107, 343, 178, 7789, 518, 109, 4634, 7394, 111, 2941, 142, 6728, 6374, 110, 107, 1859, 17562, 678, 243, 120, 178, 140, 198, 42605, 210, 194, 139, 4077, 642, 339, 231, 244, 13749, 326, 10484, 20803, 16506, 134, 1551, 9322, 6378, 110, 107, 1]}\n",
            "\n",
            "{'input_ids': [143, 40155, 158, 362, 140, 142, 1787, 113, 9296, 1850, 154, 3732, 1589, 122, 3063, 131, 116, 15255, 1857, 121, 26354, 4098, 40719, 197, 109, 278, 131, 116, 31843, 566, 3898, 1446, 107, 343, 173, 30335, 66192, 4172, 169, 453, 1785, 124, 109, 10064, 3699, 113, 109, 1354, 15853, 21493, 5816, 190, 114, 3971, 1197, 108, 178, 382, 130, 210, 133, 174, 48474, 109, 249, 1314, 5262, 69681, 1510, 107, 3255, 3712, 169, 1344, 122, 114, 3876, 1760, 108, 109, 541, 121, 1139, 698, 2872, 2365, 109, 4601, 18083, 263, 112, 462, 109, 33858, 1785, 190, 109, 336, 130, 210, 107, 198, 741, 362, 158, 1373, 234, 134, 109, 166, 745, 114, 37352, 4717, 66192, 678, 243, 113, 109, 4077, 115, 1770, 2777, 141, 109, 19524, 4015, 387, 107, 198, 187, 188, 538, 9296, 179, 109, 340, 113, 213, 107, 168, 140, 1206, 113, 109, 1171, 108, 111, 125, 1021, 108, 175, 126, 196, 113, 174, 189, 176, 1666, 125, 864, 2177, 131, 144, 133, 155, 125, 595, 131, 144, 217, 114, 296, 105, 18083, 118, 109, 1004, 113, 109, 1344, 167, 125, 666, 108, 447, 146, 496, 139, 1666, 198, 18847, 133, 687, 114, 234, 1790, 108, 3109, 4280, 745, 178, 35554, 107, 66192, 5924, 1847, 112, 1365, 122, 114, 453, 1344, 113, 3109, 108, 2096, 342, 156, 121, 8492, 118, 109, 4152, 111, 1965, 3901, 299, 109, 3644, 323, 141, 1919, 29943, 16093, 107, 1041, 142, 2757, 124, 289, 899, 637, 134, 109, 6882, 5427, 455, 108, 241, 178, 3004, 112, 193, 109, 999, 108, 109, 3701, 74202, 131, 116, 9296, 122, 1811, 113, 169, 389, 140, 309, 786, 107, 198, 187, 311, 290, 26154, 2618, 126, 262, 125, 272, 131, 144, 1194, 3901, 172, 109, 156, 125, 1194, 124, 608, 124, 109, 499, 745, 178, 243, 107, 198, 1435, 131, 116, 180, 288, 44047, 213, 108, 109, 617, 120, 125, 179, 165, 124, 109, 422, 111, 125, 1194, 3901, 120, 125, 131, 208, 146, 1749, 173, 125, 131, 208, 115, 114, 154, 5242, 849, 107, 198, 812, 126, 131, 116, 114, 332, 588, 113, 2287, 108, 114, 332, 588, 113, 1312, 107, 168, 131, 116, 188, 579, 117, 146, 708, 4555, 164, 496, 54580, 124, 109, 422, 108, 5024, 16093, 3523, 114, 228, 121, 8492, 121, 9885, 11290, 112, 1686, 115, 453, 975, 1380, 108, 228, 3901, 893, 16093, 107, 15426, 278, 566, 3898, 108, 5262, 3582, 752, 316, 142, 2745, 9495, 112, 1365, 109, 242, 339, 3901, 299, 109, 3644, 134, 1029, 121, 8492, 277, 57764, 11311, 111, 45671, 873, 49783, 127, 5483, 118, 2868, 124, 541, 121, 8492, 107, 1], 'attention_mask': [1, 1, 1, 1, 1, 1, 1, 1, 1, 1, 1, 1, 1, 1, 1, 1, 1, 1, 1, 1, 1, 1, 1, 1, 1, 1, 1, 1, 1, 1, 1, 1, 1, 1, 1, 1, 1, 1, 1, 1, 1, 1, 1, 1, 1, 1, 1, 1, 1, 1, 1, 1, 1, 1, 1, 1, 1, 1, 1, 1, 1, 1, 1, 1, 1, 1, 1, 1, 1, 1, 1, 1, 1, 1, 1, 1, 1, 1, 1, 1, 1, 1, 1, 1, 1, 1, 1, 1, 1, 1, 1, 1, 1, 1, 1, 1, 1, 1, 1, 1, 1, 1, 1, 1, 1, 1, 1, 1, 1, 1, 1, 1, 1, 1, 1, 1, 1, 1, 1, 1, 1, 1, 1, 1, 1, 1, 1, 1, 1, 1, 1, 1, 1, 1, 1, 1, 1, 1, 1, 1, 1, 1, 1, 1, 1, 1, 1, 1, 1, 1, 1, 1, 1, 1, 1, 1, 1, 1, 1, 1, 1, 1, 1, 1, 1, 1, 1, 1, 1, 1, 1, 1, 1, 1, 1, 1, 1, 1, 1, 1, 1, 1, 1, 1, 1, 1, 1, 1, 1, 1, 1, 1, 1, 1, 1, 1, 1, 1, 1, 1, 1, 1, 1, 1, 1, 1, 1, 1, 1, 1, 1, 1, 1, 1, 1, 1, 1, 1, 1, 1, 1, 1, 1, 1, 1, 1, 1, 1, 1, 1, 1, 1, 1, 1, 1, 1, 1, 1, 1, 1, 1, 1, 1, 1, 1, 1, 1, 1, 1, 1, 1, 1, 1, 1, 1, 1, 1, 1, 1, 1, 1, 1, 1, 1, 1, 1, 1, 1, 1, 1, 1, 1, 1, 1, 1, 1, 1, 1, 1, 1, 1, 1, 1, 1, 1, 1, 1, 1, 1, 1, 1, 1, 1, 1, 1, 1, 1, 1, 1, 1, 1, 1, 1, 1, 1, 1, 1, 1, 1, 1, 1, 1, 1, 1, 1, 1, 1, 1, 1, 1, 1, 1, 1, 1, 1, 1, 1, 1, 1, 1, 1, 1, 1, 1, 1, 1, 1, 1, 1, 1, 1, 1, 1, 1, 1, 1, 1, 1, 1, 1, 1, 1, 1, 1, 1, 1, 1, 1, 1, 1, 1, 1, 1, 1, 1, 1, 1, 1, 1, 1, 1, 1, 1, 1, 1, 1, 1, 1, 1, 1, 1, 1, 1, 1, 1, 1, 1, 1, 1, 1, 1, 1, 1, 1, 1, 1, 1, 1, 1, 1, 1, 1, 1, 1, 1, 1, 1, 1, 1, 1, 1, 1, 1, 1, 1, 1, 1, 1, 1, 1, 1, 1, 1, 1, 1, 1, 1, 1, 1, 1, 1, 1, 1, 1, 1], 'labels': [30335, 66192, 12141, 1666, 190, 336, 134, 1354, 15853, 21493, 5816, 110, 107, 3701, 74202, 9736, 244, 6769, 1785, 190, 336, 13414, 110, 107, 1]}\n",
            "\n",
            "{'input_ids': [143, 40155, 158, 251, 4900, 427, 117, 6769, 424, 112, 725, 118, 142, 10064, 121, 8401, 980, 170, 148, 174, 2362, 381, 1900, 107, 139, 725, 148, 4188, 2490, 113, 3681, 124, 2034, 111, 338, 107, 139, 1119, 113, 28122, 34602, 1271, 108, 7487, 133, 174, 9825, 224, 109, 1208, 456, 198, 4507, 28122, 194, 381, 114, 242, 244, 169, 24309, 108, 992, 112, 686, 1151, 1763, 13657, 116, 27867, 420, 107, 35779, 3385, 416, 28122, 140, 289, 684, 2941, 114, 5950, 308, 1582, 5204, 108, 810, 5288, 6741, 111, 5744, 5572, 107, 285, 256, 129, 115, 109, 14966, 15094, 121, 58569, 345, 108, 5864, 599, 1567, 135, 5546, 108, 132, 218, 133, 2483, 114, 1976, 2787, 112, 5546, 108, 992, 112, 142, 6034, 1155, 124, 1208, 107, 198, 284, 311, 120, 178, 419, 114, 643, 135, 399, 111, 140, 7385, 141, 126, 111, 518, 130, 142, 41426, 1787, 745, 80241, 34602, 1271, 108, 28122, 131, 116, 1802, 108, 2021, 1789, 124, 109, 456, 438, 107, 198, 284, 133, 6502, 112, 169, 594, 111, 157, 171, 146, 235, 241, 178, 117, 107, 28122, 358, 133, 169, 685, 108, 145, 272, 131, 144, 235, 175, 178, 148, 189, 1325, 108, 178, 358, 146, 133, 169, 7767, 496, 139, 1119, 243, 120, 169, 685, 140, 165, 113, 484, 134, 109, 166, 107, 198, 17970, 34736, 518, 373, 677, 542, 244, 178, 915, 142, 643, 135, 399, 1409, 22250, 238, 201, 143, 2625, 171, 146, 6511, 109, 399, 158, 111, 205, 864, 368, 146, 171, 189, 1133, 1062, 1256, 285, 117, 114, 234, 3721, 108, 111, 148, 220, 5626, 3863, 132, 176, 618, 108, 136, 117, 109, 211, 166, 178, 148, 521, 479, 742, 172, 136, 745, 169, 1802, 111, 1499, 108, 24655, 34602, 1271, 108, 1155, 1197, 107, 139, 1119, 2021, 1327, 120, 28122, 140, 146, 2941, 8967, 3219, 111, 120, 178, 368, 146, 248, 169, 11757, 107, 13657, 116, 27867, 420, 243, 1403, 1250, 725, 1645, 1900, 108, 109, 565, 28122, 687, 2362, 107, 1900, 126, 140, 12514, 111, 1789, 186, 140, 20221, 3052, 113, 2505, 107, 24418, 113, 3681, 133, 8405, 164, 112, 1566, 165, 59215, 111, 112, 5999, 116, 633, 108, 992, 112, 2131, 107, 202, 450, 1095, 1327, 3436, 725, 1645, 953, 198, 50908, 108, 12640, 121, 31569, 31350, 3845, 680, 112, 1735, 109, 3015, 2081, 241, 56589, 687, 745, 111, 717, 120, 109, 725, 192, 129, 784, 112, 109, 12211, 1342, 122, 7598, 113, 109, 5350, 1605, 16228, 107, 222, 223, 2131, 108, 109, 1252, 19440, 1072, 112, 153, 1601, 107, 198, 17970, 34736, 108, 175, 119, 516, 136, 528, 235, 120, 119, 127, 25732, 118, 579, 108, 111, 125, 1021, 579, 108, 119, 133, 109, 3233, 294, 1566, 107, 1205, 331, 238, 108, 145, 127, 167, 5238, 160, 119, 194, 109, 328, 1155, 1327, 107, 202, 1285, 112, 1252, 135, 109, 693, 113, 139, 74969, 760, 108, 162, 28122, 27339, 108, 516, 115, 297, 151, 198, 17970, 34736, 131, 116, 3051, 17721, 117, 115, 13487, 2476, 134, 74969, 111, 169, 1119, 108, 80241, 111, 24655, 108, 127, 8790, 200, 107, 322, 133, 6668, 1564, 111, 127, 1906, 120, 145, 127, 3586, 119, 136, 643, 107, 184, 715, 120, 28122, 117, 6514, 111, 127, 1609, 150, 7850, 496, 11869, 256, 146, 1501, 179, 115, 1266, 122, 1564, 132, 109, 10148, 107, 1], 'attention_mask': [1, 1, 1, 1, 1, 1, 1, 1, 1, 1, 1, 1, 1, 1, 1, 1, 1, 1, 1, 1, 1, 1, 1, 1, 1, 1, 1, 1, 1, 1, 1, 1, 1, 1, 1, 1, 1, 1, 1, 1, 1, 1, 1, 1, 1, 1, 1, 1, 1, 1, 1, 1, 1, 1, 1, 1, 1, 1, 1, 1, 1, 1, 1, 1, 1, 1, 1, 1, 1, 1, 1, 1, 1, 1, 1, 1, 1, 1, 1, 1, 1, 1, 1, 1, 1, 1, 1, 1, 1, 1, 1, 1, 1, 1, 1, 1, 1, 1, 1, 1, 1, 1, 1, 1, 1, 1, 1, 1, 1, 1, 1, 1, 1, 1, 1, 1, 1, 1, 1, 1, 1, 1, 1, 1, 1, 1, 1, 1, 1, 1, 1, 1, 1, 1, 1, 1, 1, 1, 1, 1, 1, 1, 1, 1, 1, 1, 1, 1, 1, 1, 1, 1, 1, 1, 1, 1, 1, 1, 1, 1, 1, 1, 1, 1, 1, 1, 1, 1, 1, 1, 1, 1, 1, 1, 1, 1, 1, 1, 1, 1, 1, 1, 1, 1, 1, 1, 1, 1, 1, 1, 1, 1, 1, 1, 1, 1, 1, 1, 1, 1, 1, 1, 1, 1, 1, 1, 1, 1, 1, 1, 1, 1, 1, 1, 1, 1, 1, 1, 1, 1, 1, 1, 1, 1, 1, 1, 1, 1, 1, 1, 1, 1, 1, 1, 1, 1, 1, 1, 1, 1, 1, 1, 1, 1, 1, 1, 1, 1, 1, 1, 1, 1, 1, 1, 1, 1, 1, 1, 1, 1, 1, 1, 1, 1, 1, 1, 1, 1, 1, 1, 1, 1, 1, 1, 1, 1, 1, 1, 1, 1, 1, 1, 1, 1, 1, 1, 1, 1, 1, 1, 1, 1, 1, 1, 1, 1, 1, 1, 1, 1, 1, 1, 1, 1, 1, 1, 1, 1, 1, 1, 1, 1, 1, 1, 1, 1, 1, 1, 1, 1, 1, 1, 1, 1, 1, 1, 1, 1, 1, 1, 1, 1, 1, 1, 1, 1, 1, 1, 1, 1, 1, 1, 1, 1, 1, 1, 1, 1, 1, 1, 1, 1, 1, 1, 1, 1, 1, 1, 1, 1, 1, 1, 1, 1, 1, 1, 1, 1, 1, 1, 1, 1, 1, 1, 1, 1, 1, 1, 1, 1, 1, 1, 1, 1, 1, 1, 1, 1, 1, 1, 1, 1, 1, 1, 1, 1, 1, 1, 1, 1, 1, 1, 1, 1, 1, 1, 1, 1, 1, 1, 1, 1, 1, 1, 1, 1, 1, 1, 1, 1, 1, 1, 1, 1, 1, 1, 1, 1, 1, 1, 1, 1, 1, 1, 1, 1, 1, 1, 1, 1, 1, 1, 1, 1, 1, 1, 1, 1, 1, 1, 1, 1, 1, 1, 1, 1, 1, 1, 1, 1, 1, 1, 1, 1, 1, 1, 1, 1, 1, 1, 1, 1, 1, 1, 1, 1, 1, 1, 1, 1, 1, 1, 1, 1, 1, 1, 1, 1, 1, 1, 1, 1, 1, 1, 1, 1, 1, 1, 1, 1, 1, 1, 1, 1, 1, 1, 1, 1, 1, 1, 1, 1, 1, 1, 1, 1, 1, 1, 1, 1, 1, 1, 1, 1, 1, 1, 1, 1, 1, 1, 1, 1, 1, 1, 1, 1, 1, 1, 1, 1, 1, 1, 1, 1, 1, 1, 1, 1, 1, 1, 1, 1, 1, 1, 1], 'labels': [28122, 34602, 1271, 108, 7487, 4146, 131, 144, 174, 1455, 135, 381, 1900, 110, 107, 3385, 108, 328, 108, 3681, 725, 118, 10064, 121, 68346, 110, 107, 1]}\n",
            "\n",
            "test:\n",
            "{'input_ids': [143, 40155, 158, 159, 10042, 5369, 4551, 1257, 109, 14575, 2007, 855, 113, 109, 1142, 13044, 1975, 124, 1900, 108, 114, 863, 120, 1106, 109, 1462, 9544, 204, 6854, 8134, 115, 10042, 13853, 107, 139, 3722, 37961, 140, 4246, 122, 114, 3989, 134, 139, 30922, 108, 115, 109, 6508, 108, 241, 109, 1462, 117, 451, 107, 139, 18336, 2442, 109, 24076, 131, 116, 7862, 6807, 62903, 115, 1268, 108, 173, 157, 163, 2842, 203, 9544, 204, 6854, 8134, 2200, 198, 386, 109, 8452, 10042, 5902, 108, 330, 1445, 9496, 108, 381, 1185, 7487, 4202, 194, 8280, 120, 625, 108, 109, 24076, 1963, 114, 8823, 4712, 190, 109, 1288, 115, 10042, 13853, 108, 18377, 109, 230, 118, 433, 1795, 8134, 9051, 464, 35484, 107, 398, 549, 113, 109, 1462, 108, 18336, 218, 129, 1220, 112, 3029, 121, 18326, 116, 130, 210, 107, 3019, 111, 109, 706, 1013, 108, 4891, 113, 162, 117, 142, 24076, 855, 108, 5336, 109, 18336, 131, 1645, 112, 1305, 109, 513, 107, 343, 10042, 6947, 2965, 63087, 252, 2700, 121, 27816, 6046, 108, 2968, 134, 1900, 131, 116, 3989, 108, 243, 126, 140, 114, 696, 2153, 1626, 3736, 107, 198, 605, 18850, 11830, 2052, 114, 816, 2905, 112, 109, 6807, 62903, 380, 108, 109, 278, 117, 163, 114, 863, 2943, 112, 4439, 114, 300, 4065, 113, 54376, 111, 21112, 745, 178, 243, 108, 992, 112, 142, 24076, 990, 1131, 107, 198, 17544, 108, 380, 2053, 214, 2943, 112, 150, 1692, 1203, 113, 3736, 111, 2206, 496, 8260, 60916, 4623, 1141, 50048, 108, 114, 5070, 1977, 113, 109, 24076, 108, 243, 16362, 59465, 112, 109, 19343, 140, 188, 109, 211, 863, 118, 109, 18336, 107, 198, 605, 109, 6807, 62903, 380, 11209, 190, 1937, 118, 109, 816, 113, 18850, 108, 18850, 52290, 149, 109, 1420, 130, 210, 130, 110, 5466, 120, 331, 122, 270, 114, 816, 2905, 112, 109, 62903, 107, 507, 127, 26558, 10776, 108, 162, 967, 129, 784, 7632, 745, 265, 243, 107, 4176, 456, 3674, 4176, 3711, 6853, 109, 486, 107, 198, 23649, 116, 2486, 112, 70060, 18850, 118, 3569, 109, 24076, 246, 1501, 370, 153, 1367, 108, 111, 1105, 120, 337, 6161, 6585, 113, 109, 1462, 131, 116, 19343, 246, 1799, 165, 112, 1576, 203, 3206, 745, 243, 87002, 15961, 12877, 13841, 108, 942, 3736, 7247, 118, 109, 456, 107, 198, 567, 131, 116, 56345, 117, 109, 5086, 112, 20566, 942, 3736, 108, 146, 18850, 131, 116, 1057, 112, 1305, 114, 19343, 112, 162, 204, 1061, 1105, 279, 109, 278, 127, 549, 496, 222, 1268, 108, 173, 109, 8823, 24076, 4712, 140, 1963, 108, 6886, 4230, 2965, 10749, 26803, 2540, 126, 130, 142, 23139, 108, 1609, 109, 1462, 140, 204, 77433, 203, 6692, 107, 139, 706, 1013, 163, 243, 126, 198, 16674, 445, 194, 38507, 122, 109, 1462, 131, 116, 1057, 107, 198, 605, 145, 133, 243, 8295, 108, 145, 171, 146, 697, 120, 18850, 117, 114, 449, 111, 1923, 145, 171, 146, 697, 120, 126, 117, 3352, 112, 1305, 109, 24076, 745, 109, 816, 1318, 243, 115, 114, 1736, 107, 168, 10907, 109, 60544, 2600, 112, 4568, 153, 3888, 224, 1443, 8102, 107, 198, 284, 138, 801, 112, 17194, 2332, 464, 3019, 134, 109, 24076, 130, 3029, 29657, 112, 109, 1007, 113, 2206, 745, 126, 243, 107, 343, 109, 24076, 34345, 112, 7346, 122, 109, 3955, 113, 114, 449, 118, 203, 2578, 111, 6335, 112, 109, 13853, 130, 198, 80149, 496, 1041, 114, 8823, 4712, 117, 146, 114, 3722, 3244, 108, 126, 871, 109, 1462, 112, 933, 1812, 111, 1735, 682, 112, 5731, 14760, 124, 302, 2600, 107, 33712, 9961, 12005, 3703, 2770, 16903, 243, 215, 629, 192, 198, 50141, 203, 1382, 115, 357, 6846, 111, 81969, 496, 139, 1795, 317, 3019, 111, 23219, 24329, 115, 15015, 289, 922, 518, 154, 197, 9717, 200, 2609, 107, 139, 8799, 138, 444, 6854, 1795, 8134, 2200, 381, 1185, 107, 139, 1142, 13044, 1975, 140, 323, 164, 115, 6358, 112, 36249, 27486, 108, 8134, 464, 7633, 111, 1795, 8134, 107, 11869, 131, 116, 82355, 1398, 497, 29854, 108, 63437, 4192, 72789, 6123, 111, 10893, 41137, 457, 5674, 112, 136, 731, 107, 1], 'attention_mask': [1, 1, 1, 1, 1, 1, 1, 1, 1, 1, 1, 1, 1, 1, 1, 1, 1, 1, 1, 1, 1, 1, 1, 1, 1, 1, 1, 1, 1, 1, 1, 1, 1, 1, 1, 1, 1, 1, 1, 1, 1, 1, 1, 1, 1, 1, 1, 1, 1, 1, 1, 1, 1, 1, 1, 1, 1, 1, 1, 1, 1, 1, 1, 1, 1, 1, 1, 1, 1, 1, 1, 1, 1, 1, 1, 1, 1, 1, 1, 1, 1, 1, 1, 1, 1, 1, 1, 1, 1, 1, 1, 1, 1, 1, 1, 1, 1, 1, 1, 1, 1, 1, 1, 1, 1, 1, 1, 1, 1, 1, 1, 1, 1, 1, 1, 1, 1, 1, 1, 1, 1, 1, 1, 1, 1, 1, 1, 1, 1, 1, 1, 1, 1, 1, 1, 1, 1, 1, 1, 1, 1, 1, 1, 1, 1, 1, 1, 1, 1, 1, 1, 1, 1, 1, 1, 1, 1, 1, 1, 1, 1, 1, 1, 1, 1, 1, 1, 1, 1, 1, 1, 1, 1, 1, 1, 1, 1, 1, 1, 1, 1, 1, 1, 1, 1, 1, 1, 1, 1, 1, 1, 1, 1, 1, 1, 1, 1, 1, 1, 1, 1, 1, 1, 1, 1, 1, 1, 1, 1, 1, 1, 1, 1, 1, 1, 1, 1, 1, 1, 1, 1, 1, 1, 1, 1, 1, 1, 1, 1, 1, 1, 1, 1, 1, 1, 1, 1, 1, 1, 1, 1, 1, 1, 1, 1, 1, 1, 1, 1, 1, 1, 1, 1, 1, 1, 1, 1, 1, 1, 1, 1, 1, 1, 1, 1, 1, 1, 1, 1, 1, 1, 1, 1, 1, 1, 1, 1, 1, 1, 1, 1, 1, 1, 1, 1, 1, 1, 1, 1, 1, 1, 1, 1, 1, 1, 1, 1, 1, 1, 1, 1, 1, 1, 1, 1, 1, 1, 1, 1, 1, 1, 1, 1, 1, 1, 1, 1, 1, 1, 1, 1, 1, 1, 1, 1, 1, 1, 1, 1, 1, 1, 1, 1, 1, 1, 1, 1, 1, 1, 1, 1, 1, 1, 1, 1, 1, 1, 1, 1, 1, 1, 1, 1, 1, 1, 1, 1, 1, 1, 1, 1, 1, 1, 1, 1, 1, 1, 1, 1, 1, 1, 1, 1, 1, 1, 1, 1, 1, 1, 1, 1, 1, 1, 1, 1, 1, 1, 1, 1, 1, 1, 1, 1, 1, 1, 1, 1, 1, 1, 1, 1, 1, 1, 1, 1, 1, 1, 1, 1, 1, 1, 1, 1, 1, 1, 1, 1, 1, 1, 1, 1, 1, 1, 1, 1, 1, 1, 1, 1, 1, 1, 1, 1, 1, 1, 1, 1, 1, 1, 1, 1, 1, 1, 1, 1, 1, 1, 1, 1, 1, 1, 1, 1, 1, 1, 1, 1, 1, 1, 1, 1, 1, 1, 1, 1, 1, 1, 1, 1, 1, 1, 1, 1, 1, 1, 1, 1, 1, 1, 1, 1, 1, 1, 1, 1, 1, 1, 1, 1, 1, 1, 1, 1, 1, 1, 1, 1, 1, 1, 1, 1, 1, 1, 1, 1, 1, 1, 1, 1, 1, 1, 1, 1, 1, 1, 1, 1, 1, 1, 1, 1, 1, 1, 1, 1, 1, 1, 1, 1, 1, 1, 1, 1, 1, 1, 1, 1, 1, 1, 1, 1, 1, 1, 1, 1, 1, 1, 1, 1, 1, 1, 1, 1, 1, 1, 1, 1, 1, 1, 1, 1, 1, 1, 1, 1, 1, 1, 1, 1, 1, 1, 1, 1, 1, 1, 1, 1, 1, 1, 1, 1, 1, 1, 1, 1, 1, 1, 1, 1, 1, 1, 1, 1, 1, 1, 1, 1, 1, 1, 1, 1, 1, 1, 1, 1, 1, 1, 1, 1, 1, 1, 1, 1, 1, 1, 1, 1, 1, 1, 1, 1, 1, 1, 1, 1, 1, 1, 1, 1, 1, 1, 1, 1, 1, 1, 1, 1, 1, 1, 1, 1, 1, 1, 1, 1, 1, 1, 1, 1, 1, 1, 1, 1, 1, 1, 1, 1, 1, 1, 1, 1, 1, 1, 1, 1, 1, 1, 1, 1, 1, 1, 1, 1, 1, 1, 1, 1, 1, 1, 1, 1, 1, 1, 1, 1, 1], 'labels': [10945, 1106, 109, 24076, 9544, 204, 6854, 8134, 2200, 115, 10042, 13853, 381, 289, 1185, 110, 107, 3019, 111, 109, 706, 1013, 5336, 109, 696, 108, 162, 256, 428, 109, 1059, 112, 1795, 8134, 9051, 464, 35484, 110, 107, 1]}\n",
            "\n",
            "{'input_ids': [143, 40155, 158, 11619, 653, 4901, 458, 2899, 965, 107, 202, 17841, 42357, 115, 1741, 816, 148, 263, 164, 134, 583, 339, 113, 215, 282, 244, 270, 1194, 141, 114, 439, 108, 5175, 35929, 316, 124, 109, 693, 122, 114, 9583, 115, 114, 35391, 12475, 5730, 111, 237, 8056, 115, 114, 764, 1315, 209, 112, 5229, 107, 485, 131, 116, 992, 112, 1741, 816, 502, 108, 241, 109, 1296, 1315, 114, 1615, 695, 121, 526, 121, 10572, 25802, 8539, 1707, 239, 1729, 139, 2396, 1315, 148, 174, 2886, 406, 134, 109, 16558, 9790, 3348, 107, 5107, 390, 244, 215, 6838, 1323, 108, 109, 1296, 2079, 112, 79282, 112, 114, 2906, 2741, 108, 5063, 121, 20624, 111, 94439, 108, 241, 265, 140, 374, 141, 114, 5631, 170, 635, 215, 112, 114, 11494, 118, 225, 107, 452, 140, 784, 115, 141, 12766, 1904, 108, 1741, 108, 4625, 10197, 9894, 76191, 107, 198, 26643, 579, 120, 265, 131, 116, 174, 224, 108, 265, 131, 116, 3560, 5154, 111, 4081, 745, 9894, 76191, 243, 108, 992, 112, 50911, 2380, 107, 198, 2239, 131, 116, 114, 921, 12835, 1296, 111, 265, 8068, 114, 234, 271, 496, 139, 2396, 117, 209, 156, 232, 459, 155, 109, 1296, 131, 116, 4227, 122, 1323, 368, 146, 858, 215, 59793, 107, 452, 4742, 114, 74919, 5487, 108, 3928, 3207, 111, 114, 8665, 252, 121, 386, 23697, 17954, 1315, 111, 309, 1632, 2446, 112, 225, 215, 8803, 107, 139, 13032, 2241, 131, 116, 1952, 33723, 3911, 3289, 3366, 181, 408, 112, 225, 626, 118, 109, 1296, 131, 116, 791, 108, 155, 9894, 76191, 148, 323, 164, 114, 7251, 438, 112, 225, 670, 109, 2756, 519, 113, 109, 1296, 131, 116, 406, 107, 452, 131, 116, 163, 732, 114, 1208, 438, 112, 376, 6204, 2033, 107, 62858, 133, 506, 23861, 109, 13924, 1762, 108, 2261, 141, 139, 2396, 131, 116, 6951, 113, 5690, 464, 109, 6424, 107, 651, 109, 7251, 438, 108, 9894, 76191, 6260, 108, 198, 2239, 117, 115, 9974, 217, 113, 2248, 941, 2811, 112, 2374, 215, 19586, 1303, 111, 7889, 215, 5487, 107, 125, 3156, 112, 6267, 215, 430, 265, 1477, 374, 114, 4081, 238, 496, 452, 117, 1548, 112, 395, 334, 139, 2396, 1476, 109, 941, 1090, 265, 397, 108, 9894, 76191, 3488, 108, 111, 1728, 112, 198, 11709, 334, 265, 1476, 1828, 115, 114, 328, 241, 136, 138, 394, 1391, 112, 215, 435, 4035, 2533, 853, 1837, 2244, 138, 129, 198, 16097, 782, 194, 112, 225, 176, 2165, 107, 139, 2396, 117, 146, 109, 209, 2517, 112, 5175, 2423, 135, 109, 11537, 115, 909, 899, 107, 202, 2972, 115, 9712, 108, 1967, 108, 374, 7017, 2609, 244, 178, 140, 1194, 141, 114, 439, 115, 1268, 108, 2375, 164, 4281, 115, 114, 8826, 131, 116, 3676, 668, 390, 244, 178, 140, 8056, 141, 169, 1598, 107, 139, 2972, 140, 115, 1025, 1674, 108, 122, 67901, 116, 3693, 428, 12378, 124, 169, 513, 111, 114, 17753, 518, 1324, 108, 155, 15908, 7646, 122, 109, 225, 113, 791, 135, 109, 32335, 2377, 107, 1], 'attention_mask': [1, 1, 1, 1, 1, 1, 1, 1, 1, 1, 1, 1, 1, 1, 1, 1, 1, 1, 1, 1, 1, 1, 1, 1, 1, 1, 1, 1, 1, 1, 1, 1, 1, 1, 1, 1, 1, 1, 1, 1, 1, 1, 1, 1, 1, 1, 1, 1, 1, 1, 1, 1, 1, 1, 1, 1, 1, 1, 1, 1, 1, 1, 1, 1, 1, 1, 1, 1, 1, 1, 1, 1, 1, 1, 1, 1, 1, 1, 1, 1, 1, 1, 1, 1, 1, 1, 1, 1, 1, 1, 1, 1, 1, 1, 1, 1, 1, 1, 1, 1, 1, 1, 1, 1, 1, 1, 1, 1, 1, 1, 1, 1, 1, 1, 1, 1, 1, 1, 1, 1, 1, 1, 1, 1, 1, 1, 1, 1, 1, 1, 1, 1, 1, 1, 1, 1, 1, 1, 1, 1, 1, 1, 1, 1, 1, 1, 1, 1, 1, 1, 1, 1, 1, 1, 1, 1, 1, 1, 1, 1, 1, 1, 1, 1, 1, 1, 1, 1, 1, 1, 1, 1, 1, 1, 1, 1, 1, 1, 1, 1, 1, 1, 1, 1, 1, 1, 1, 1, 1, 1, 1, 1, 1, 1, 1, 1, 1, 1, 1, 1, 1, 1, 1, 1, 1, 1, 1, 1, 1, 1, 1, 1, 1, 1, 1, 1, 1, 1, 1, 1, 1, 1, 1, 1, 1, 1, 1, 1, 1, 1, 1, 1, 1, 1, 1, 1, 1, 1, 1, 1, 1, 1, 1, 1, 1, 1, 1, 1, 1, 1, 1, 1, 1, 1, 1, 1, 1, 1, 1, 1, 1, 1, 1, 1, 1, 1, 1, 1, 1, 1, 1, 1, 1, 1, 1, 1, 1, 1, 1, 1, 1, 1, 1, 1, 1, 1, 1, 1, 1, 1, 1, 1, 1, 1, 1, 1, 1, 1, 1, 1, 1, 1, 1, 1, 1, 1, 1, 1, 1, 1, 1, 1, 1, 1, 1, 1, 1, 1, 1, 1, 1, 1, 1, 1, 1, 1, 1, 1, 1, 1, 1, 1, 1, 1, 1, 1, 1, 1, 1, 1, 1, 1, 1, 1, 1, 1, 1, 1, 1, 1, 1, 1, 1, 1, 1, 1, 1, 1, 1, 1, 1, 1, 1, 1, 1, 1, 1, 1, 1, 1, 1, 1, 1, 1, 1, 1, 1, 1, 1, 1, 1, 1, 1, 1, 1, 1, 1, 1, 1, 1, 1, 1, 1, 1, 1, 1, 1, 1, 1, 1, 1, 1, 1, 1, 1, 1, 1, 1, 1, 1, 1, 1, 1, 1, 1, 1, 1, 1, 1, 1, 1, 1, 1, 1, 1, 1, 1, 1, 1, 1, 1, 1, 1, 1, 1, 1, 1, 1, 1, 1, 1, 1, 1, 1, 1, 1, 1, 1, 1, 1, 1, 1, 1, 1, 1, 1, 1, 1, 1, 1, 1, 1, 1, 1, 1, 1, 1, 1, 1, 1, 1, 1, 1, 1, 1, 1, 1, 1, 1, 1, 1, 1, 1, 1, 1, 1, 1, 1, 1, 1, 1, 1, 1, 1, 1, 1, 1, 1, 1, 1, 1, 1, 1, 1, 1], 'labels': [139, 2396, 108, 114, 25802, 8539, 1707, 108, 140, 5175, 1194, 141, 114, 439, 108, 35929, 316, 122, 114, 9583, 111, 8056, 115, 114, 764, 110, 107, 198, 2239, 131, 116, 114, 921, 12835, 1296, 111, 265, 8068, 114, 234, 271, 745, 649, 10197, 9894, 76191, 108, 170, 117, 383, 118, 114, 238, 118, 139, 2396, 110, 107, 1]}\n",
            "\n",
            "{'input_ids': [143, 40155, 158, 359, 119, 131, 261, 174, 645, 109, 990, 6707, 108, 186, 127, 878, 341, 119, 57680, 235, 160, 26101, 6830, 252, 86498, 107, 285, 117, 108, 113, 422, 108, 109, 11583, 2328, 5299, 107, 285, 148, 174, 475, 107, 283, 107, 4754, 113, 816, 1084, 14670, 131, 116, 3994, 344, 115, 9989, 114, 13732, 115, 4573, 5051, 120, 256, 756, 112, 142, 370, 112, 10936, 464, 4813, 1315, 175, 109, 703, 137, 129, 947, 165, 115, 109, 792, 899, 107, 325, 178, 915, 114, 6555, 131, 116, 1576, 130, 178, 2783, 115, 4813, 124, 114, 6934, 1197, 1039, 107, 198, 10897, 498, 86498, 745, 11053, 66134, 130, 169, 439, 6302, 3642, 308, 109, 4023, 1913, 107, 226, 218, 210, 133, 516, 120, 178, 117, 198, 68012, 194, 111, 108, 21220, 118, 156, 45459, 122, 253, 57981, 618, 108, 198, 8959, 7770, 1114, 496, 983, 1469, 725, 118, 198, 95399, 6830, 252, 86498, 194, 111, 198, 8959, 7770, 1114, 194, 11042, 1873, 113, 602, 107, 285, 1468, 148, 1871, 114, 300, 230, 112, 650, 4813, 115, 135, 109, 1505, 111, 763, 126, 112, 41287, 109, 942, 427, 107, 343, 186, 127, 181, 4008, 160, 86498, 120, 127, 478, 210, 121, 4338, 107, 1063, 127, 1029, 151, 110, 107, 222, 1338, 5539, 86498, 15752, 198, 9265, 47733, 89276, 745, 8007, 112, 109, 4388, 351, 2024, 107, 485, 10078, 14775, 34335, 108, 109, 2045, 113, 1087, 34794, 9040, 10509, 34335, 108, 112, 2847, 122, 114, 10719, 113, 215, 282, 151, 198, 2229, 107, 139, 351, 2024, 192, 129, 254, 27246, 175, 119, 192, 370, 4813, 131, 116, 20097, 13465, 108, 18132, 496, 325, 108, 1850, 112, 215, 2989, 108, 34335, 419, 114, 1407, 107, 198, 40254, 394, 6837, 126, 745, 86498, 15752, 247, 107, 198, 159, 729, 170, 140, 8707, 112, 129, 17024, 126, 117, 239, 1871, 107, 4098, 351, 2024, 496, 139, 2334, 140, 770, 112, 1319, 11583, 1276, 52353, 85303, 108, 170, 196, 518, 629, 109, 1331, 625, 107, 86498, 140, 8728, 112, 129, 2328, 5299, 141, 85303, 131, 116, 15749, 108, 31138, 27921, 5332, 457, 107, 1006, 2328, 4774, 2401, 108, 1850, 43249, 108, 120, 198, 20545, 112, 109, 1488, 111, 750, 1047, 113, 109, 166, 108, 178, 1159, 112, 801, 169, 798, 115, 109, 706, 1013, 496, 485, 117, 372, 230, 113, 1609, 120, 178, 140, 833, 109, 531, 333, 109, 12631, 464, 109, 13604, 113, 4813, 108, 162, 1219, 115, 34257, 111, 333, 109, 11583, 9367, 108, 162, 6192, 109, 110, 50594, 135, 484, 115, 30629, 86498, 518, 109, 531, 115, 34257, 915, 169, 7278, 1393, 135, 1212, 3730, 816, 502, 115, 35119, 169, 2080, 131, 116, 115, 942, 4362, 135, 109, 502, 113, 6649, 115, 13937, 111, 169, 22937, 135, 109, 502, 113, 6649, 115, 26948, 2595, 113, 169, 404, 195, 1723, 115, 109, 706, 1013, 107, 139, 387, 113, 109, 11583, 6947, 4674, 108, 162, 86498, 2012, 108, 967, 254, 1989, 122, 1110, 124, 173, 178, 140, 1723, 107, 139, 211, 5577, 113, 169, 1571, 16054, 108, 1850, 115, 114, 18658, 112, 109, 6135, 120, 129, 115, 22353, 108, 649, 86498, 140, 198, 7623, 112, 114, 3503, 1113, 328, 115, 22353, 115, 52682, 194, 8280, 124, 109, 310, 438, 108, 802, 108, 169, 796, 113, 2755, 117, 1661, 130, 1268, 7169, 6939, 107, 325, 109, 11583, 70369, 387, 649, 178, 140, 1723, 115, 115, 23969, 110, 107, 412, 178, 117, 7883, 108, 5278, 132, 1556, 254, 8282, 107, 45484, 108, 178, 117, 309, 8581, 3629, 197, 169, 3994, 344, 108, 14670, 108, 170, 117, 11290, 107, 139, 7076, 116, 10920, 342, 204, 169, 6854, 868, 115, 8300, 109, 202, 60167, 2006, 108, 114, 10427, 1134, 107, 139, 475, 107, 283, 107, 4465, 1318, 243, 109, 1134, 140, 19116, 550, 124, 3688, 113, 109, 11583, 657, 112, 62465, 408, 111, 179, 279, 475, 107, 283, 107, 10936, 107, 343, 289, 232, 108, 114, 5183, 115, 109, 437, 108, 365, 162, 109, 2800, 3156, 112, 361, 114, 34890, 9555, 563, 115, 8230, 466, 122, 176, 1746, 112, 109, 475, 107, 283, 107, 657, 108, 368, 146, 2721, 86498, 131, 116, 442, 107, 6236, 115, 109, 11583, 9367, 108, 86498, 140, 790, 109, 392, 170, 635, 204, 109, 11583, 44097, 115, 1212, 3730, 107, 139, 2560, 108, 649, 109, 387, 11583, 107, 363, 1315, 162, 29833, 86498, 131, 116, 32574, 108, 6486, 198, 4493, 107, 12931, 194, 1315, 140, 112, 50255, 135, 109, 38487, 200, 170, 195, 146, 16067, 6282, 107, 8280, 108, 109, 387, 649, 108, 86498, 687, 112, 193, 114, 984, 8255, 134, 109, 11583, 1755, 112, 109, 706, 5898, 107, 222, 1407, 108, 109, 11583, 14466, 112, 109, 706, 5898, 1340, 342, 114, 494, 107, 222, 617, 108, 178, 148, 239, 1363, 154, 166, 122, 14670, 197, 189, 176, 2328, 5299, 115, 109, 278, 107, 325, 120, 713, 113, 348, 166, 138, 209, 815, 130, 109, 228, 1024, 108, 122, 225, 135, 176, 2328, 15288, 130, 210, 108, 508, 112, 670, 114, 1185, 677, 5591, 118, 60672, 308, 109, 703, 113, 109, 2158, 157, 2079, 112, 7333, 136, 396, 115, 7317, 107, 1], 'attention_mask': [1, 1, 1, 1, 1, 1, 1, 1, 1, 1, 1, 1, 1, 1, 1, 1, 1, 1, 1, 1, 1, 1, 1, 1, 1, 1, 1, 1, 1, 1, 1, 1, 1, 1, 1, 1, 1, 1, 1, 1, 1, 1, 1, 1, 1, 1, 1, 1, 1, 1, 1, 1, 1, 1, 1, 1, 1, 1, 1, 1, 1, 1, 1, 1, 1, 1, 1, 1, 1, 1, 1, 1, 1, 1, 1, 1, 1, 1, 1, 1, 1, 1, 1, 1, 1, 1, 1, 1, 1, 1, 1, 1, 1, 1, 1, 1, 1, 1, 1, 1, 1, 1, 1, 1, 1, 1, 1, 1, 1, 1, 1, 1, 1, 1, 1, 1, 1, 1, 1, 1, 1, 1, 1, 1, 1, 1, 1, 1, 1, 1, 1, 1, 1, 1, 1, 1, 1, 1, 1, 1, 1, 1, 1, 1, 1, 1, 1, 1, 1, 1, 1, 1, 1, 1, 1, 1, 1, 1, 1, 1, 1, 1, 1, 1, 1, 1, 1, 1, 1, 1, 1, 1, 1, 1, 1, 1, 1, 1, 1, 1, 1, 1, 1, 1, 1, 1, 1, 1, 1, 1, 1, 1, 1, 1, 1, 1, 1, 1, 1, 1, 1, 1, 1, 1, 1, 1, 1, 1, 1, 1, 1, 1, 1, 1, 1, 1, 1, 1, 1, 1, 1, 1, 1, 1, 1, 1, 1, 1, 1, 1, 1, 1, 1, 1, 1, 1, 1, 1, 1, 1, 1, 1, 1, 1, 1, 1, 1, 1, 1, 1, 1, 1, 1, 1, 1, 1, 1, 1, 1, 1, 1, 1, 1, 1, 1, 1, 1, 1, 1, 1, 1, 1, 1, 1, 1, 1, 1, 1, 1, 1, 1, 1, 1, 1, 1, 1, 1, 1, 1, 1, 1, 1, 1, 1, 1, 1, 1, 1, 1, 1, 1, 1, 1, 1, 1, 1, 1, 1, 1, 1, 1, 1, 1, 1, 1, 1, 1, 1, 1, 1, 1, 1, 1, 1, 1, 1, 1, 1, 1, 1, 1, 1, 1, 1, 1, 1, 1, 1, 1, 1, 1, 1, 1, 1, 1, 1, 1, 1, 1, 1, 1, 1, 1, 1, 1, 1, 1, 1, 1, 1, 1, 1, 1, 1, 1, 1, 1, 1, 1, 1, 1, 1, 1, 1, 1, 1, 1, 1, 1, 1, 1, 1, 1, 1, 1, 1, 1, 1, 1, 1, 1, 1, 1, 1, 1, 1, 1, 1, 1, 1, 1, 1, 1, 1, 1, 1, 1, 1, 1, 1, 1, 1, 1, 1, 1, 1, 1, 1, 1, 1, 1, 1, 1, 1, 1, 1, 1, 1, 1, 1, 1, 1, 1, 1, 1, 1, 1, 1, 1, 1, 1, 1, 1, 1, 1, 1, 1, 1, 1, 1, 1, 1, 1, 1, 1, 1, 1, 1, 1, 1, 1, 1, 1, 1, 1, 1, 1, 1, 1, 1, 1, 1, 1, 1, 1, 1, 1, 1, 1, 1, 1, 1, 1, 1, 1, 1, 1, 1, 1, 1, 1, 1, 1, 1, 1, 1, 1, 1, 1, 1, 1, 1, 1, 1, 1, 1, 1, 1, 1, 1, 1, 1, 1, 1, 1, 1, 1, 1, 1, 1, 1, 1, 1, 1, 1, 1, 1, 1, 1, 1, 1, 1, 1, 1, 1, 1, 1, 1, 1, 1, 1, 1, 1, 1, 1, 1, 1, 1, 1, 1, 1, 1, 1, 1, 1, 1, 1, 1, 1, 1, 1, 1, 1, 1, 1, 1, 1, 1, 1, 1, 1, 1, 1, 1, 1, 1, 1, 1, 1, 1, 1, 1, 1, 1, 1, 1, 1, 1, 1, 1, 1, 1, 1, 1, 1, 1, 1, 1, 1, 1, 1, 1, 1, 1, 1, 1, 1, 1, 1, 1, 1, 1, 1, 1, 1, 1, 1, 1, 1, 1, 1, 1, 1, 1, 1, 1, 1, 1, 1, 1, 1, 1, 1, 1, 1, 1, 1, 1, 1, 1, 1, 1, 1, 1, 1, 1, 1, 1, 1, 1, 1, 1, 1, 1, 1, 1, 1, 1, 1, 1, 1, 1, 1, 1, 1, 1, 1, 1, 1, 1, 1, 1, 1, 1, 1, 1, 1, 1, 1, 1, 1, 1, 1, 1, 1, 1, 1, 1, 1, 1, 1, 1, 1, 1, 1, 1, 1, 1, 1, 1, 1, 1, 1, 1, 1, 1, 1, 1, 1, 1, 1, 1, 1, 1, 1, 1, 1, 1, 1, 1, 1, 1, 1, 1, 1, 1, 1, 1, 1, 1, 1, 1, 1, 1, 1, 1, 1, 1, 1, 1, 1, 1, 1, 1, 1, 1, 1, 1, 1, 1, 1, 1, 1, 1, 1, 1, 1, 1, 1, 1, 1, 1, 1, 1, 1, 1, 1, 1, 1, 1, 1, 1, 1, 1, 1, 1, 1, 1, 1, 1, 1, 1, 1, 1, 1, 1, 1, 1, 1, 1, 1, 1, 1, 1, 1, 1, 1, 1, 1, 1, 1, 1, 1, 1, 1, 1, 1, 1, 1, 1, 1, 1, 1, 1, 1, 1, 1, 1, 1, 1, 1, 1, 1, 1, 1, 1, 1, 1, 1, 1, 1, 1, 1, 1, 1, 1, 1, 1, 1, 1, 1, 1, 1, 1, 1, 1, 1, 1, 1, 1], 'labels': [26101, 6830, 252, 86498, 148, 1363, 154, 166, 122, 1084, 14670, 197, 189, 176, 2328, 5299, 110, 107, 285, 559, 5764, 115, 114, 22433, 113, 109, 11583, 44097, 115, 1212, 3730, 110, 107, 139, 11583, 2328, 5299, 12532, 115, 1188, 110, 107, 1]}\n",
            "\n",
            "{'input_ids': [143, 40155, 158, 15367, 3361, 170, 195, 10129, 118, 339, 899, 134, 142, 18257, 108, 10781, 108, 2241, 244, 270, 4200, 112, 24716, 115, 1167, 1922, 133, 174, 1291, 108, 114, 10781, 4030, 9619, 243, 115, 142, 643, 1900, 107, 614, 113, 109, 668, 196, 114, 773, 121, 3316, 797, 124, 1327, 111, 148, 174, 18552, 155, 4146, 131, 144, 518, 109, 345, 108, 4933, 5867, 2021, 107, 139, 536, 133, 506, 1871, 238, 107, 322, 195, 4200, 112, 24716, 115, 10944, 29035, 115, 1051, 108, 155, 3546, 1184, 109, 10011, 5807, 107, 322, 127, 17869, 118, 7376, 115, 1300, 108, 114, 3457, 121, 936, 2637, 456, 107, 322, 149, 196, 471, 122, 114, 10806, 170, 140, 6878, 122, 109, 1568, 111, 117, 270, 2839, 134, 109, 765, 27937, 113, 1300, 115, 32839, 108, 5629, 107, 398, 113, 1491, 108, 120, 426, 406, 5631, 117, 115, 2335, 1436, 107, 139, 12390, 118, 9812, 3245, 111, 10620, 115, 5417, 148, 243, 109, 289, 113, 1689, 1044, 170, 195, 270, 10129, 127, 1214, 112, 129, 1291, 141, 1789, 107, 1439, 197, 7199, 200, 133, 2342, 115, 114, 1167, 2636, 16087, 113, 24716, 120, 3060, 112, 1408, 5539, 992, 112, 109, 894, 1300, 7235, 107, 9809, 149, 109, 6996, 133, 174, 115, 15143, 108, 27558, 111, 10944, 29035, 107, 24716, 117, 2275, 141, 1443, 471, 122, 109, 16949, 15701, 113, 142, 10251, 465, 107, 1], 'attention_mask': [1, 1, 1, 1, 1, 1, 1, 1, 1, 1, 1, 1, 1, 1, 1, 1, 1, 1, 1, 1, 1, 1, 1, 1, 1, 1, 1, 1, 1, 1, 1, 1, 1, 1, 1, 1, 1, 1, 1, 1, 1, 1, 1, 1, 1, 1, 1, 1, 1, 1, 1, 1, 1, 1, 1, 1, 1, 1, 1, 1, 1, 1, 1, 1, 1, 1, 1, 1, 1, 1, 1, 1, 1, 1, 1, 1, 1, 1, 1, 1, 1, 1, 1, 1, 1, 1, 1, 1, 1, 1, 1, 1, 1, 1, 1, 1, 1, 1, 1, 1, 1, 1, 1, 1, 1, 1, 1, 1, 1, 1, 1, 1, 1, 1, 1, 1, 1, 1, 1, 1, 1, 1, 1, 1, 1, 1, 1, 1, 1, 1, 1, 1, 1, 1, 1, 1, 1, 1, 1, 1, 1, 1, 1, 1, 1, 1, 1, 1, 1, 1, 1, 1, 1, 1, 1, 1, 1, 1, 1, 1, 1, 1, 1, 1, 1, 1, 1, 1, 1, 1, 1, 1, 1, 1, 1, 1, 1, 1, 1, 1, 1, 1, 1, 1, 1, 1, 1, 1, 1, 1, 1, 1, 1, 1, 1, 1, 1, 1, 1, 1, 1, 1, 1, 1, 1, 1, 1, 1, 1, 1, 1, 1, 1, 1, 1, 1, 1, 1, 1, 1, 1, 1, 1, 1, 1, 1, 1, 1, 1, 1, 1, 1], 'labels': [1689, 3361, 195, 4200, 112, 109, 24716, 5807, 277, 115, 10944, 29035, 115, 1051, 110, 107, 3314, 465, 140, 6878, 122, 109, 1568, 111, 784, 112, 2241, 115, 5629, 110, 107, 765, 27937, 113, 1300, 649, 109, 1532, 117, 115, 2335, 1436, 244, 899, 113, 791, 110, 107, 1]}\n",
            "\n",
            "{'input_ids': [143, 40155, 158, 251, 8120, 980, 148, 6305, 112, 4229, 114, 80611, 266, 113, 9032, 135, 114, 1681, 828, 114, 980, 4974, 108, 2631, 2662, 243, 1789, 107, 139, 6473, 808, 399, 595, 131, 144, 1956, 109, 980, 108, 13764, 2043, 2715, 2564, 107, 222, 114, 990, 1131, 108, 126, 243, 109, 980, 140, 220, 895, 124, 3017, 111, 138, 749, 980, 3379, 933, 107, 139, 980, 140, 3087, 333, 142, 3244, 141, 3017, 1564, 111, 109, 629, 113, 980, 7044, 111, 6305, 112, 5322, 109, 80611, 124, 109, 1681, 616, 1900, 108, 109, 2631, 243, 107, 30344, 127, 309, 847, 112, 1735, 175, 176, 200, 195, 1065, 107, 13044, 9051, 190, 109, 4077, 127, 3121, 130, 210, 107, 3548, 111, 3729, 549, 27673, 1900, 2485, 33110, 198, 284, 127, 146, 4304, 107, 184, 1281, 424, 745, 244, 1297, 113, 109, 80611, 195, 1973, 279, 124, 525, 636, 107, 654, 114, 3828, 886, 124, 109, 1550, 113, 8120, 11051, 108, 686, 112, 241, 109, 80611, 140, 2642, 134, 280, 114, 107, 208, 107, 108, 2490, 113, 200, 5232, 107, 198, 417, 642, 264, 118, 109, 870, 120, 119, 245, 112, 416, 122, 213, 108, 1034, 287, 117, 220, 8120, 145, 138, 2217, 107, 182, 117, 220, 8120, 145, 245, 107, 182, 117, 146, 109, 8120, 145, 131, 216, 264, 112, 306, 107, 325, 136, 117, 146, 109, 8120, 145, 131, 216, 264, 112, 421, 108, 131, 198, 8120, 1276, 3897, 44686, 4801, 898, 109, 3427, 107, 139, 4077, 117, 156, 113, 500, 909, 15493, 702, 112, 2384, 1416, 392, 107, 2882, 625, 114, 29961, 134, 109, 502, 113, 6369, 196, 203, 7164, 2515, 244, 114, 545, 24970, 1986, 549, 303, 109, 1101, 121, 13246, 111, 8007, 112, 81909, 115, 114, 28993, 107, 2508, 392, 195, 35964, 107, 222, 1538, 108, 114, 80611, 140, 9217, 279, 109, 3464, 113, 114, 11976, 113, 114, 1808, 3541, 1420, 1868, 134, 109, 502, 113, 8625, 107, 202, 1736, 3020, 141, 8120, 243, 186, 140, 114, 1331, 731, 113, 4180, 3442, 3944, 134, 392, 124, 3017, 107, 222, 109, 990, 1131, 108, 109, 5070, 1977, 118, 980, 7044, 568, 109, 80611, 4077, 114, 198, 1572, 9520, 445, 1787, 496, 198, 737, 57786, 2200, 136, 40589, 111, 9049, 1787, 108, 125, 188, 245, 112, 416, 120, 175, 128, 6596, 140, 112, 421, 2417, 108, 126, 138, 133, 109, 3994, 1298, 745, 9915, 35908, 304, 243, 1900, 107, 8120, 502, 117, 114, 808, 1416, 122, 160, 18458, 392, 115, 14746, 108, 892, 3286, 107, 11869, 131, 116, 5861, 2474, 116, 768, 5674, 112, 136, 731, 107, 1], 'attention_mask': [1, 1, 1, 1, 1, 1, 1, 1, 1, 1, 1, 1, 1, 1, 1, 1, 1, 1, 1, 1, 1, 1, 1, 1, 1, 1, 1, 1, 1, 1, 1, 1, 1, 1, 1, 1, 1, 1, 1, 1, 1, 1, 1, 1, 1, 1, 1, 1, 1, 1, 1, 1, 1, 1, 1, 1, 1, 1, 1, 1, 1, 1, 1, 1, 1, 1, 1, 1, 1, 1, 1, 1, 1, 1, 1, 1, 1, 1, 1, 1, 1, 1, 1, 1, 1, 1, 1, 1, 1, 1, 1, 1, 1, 1, 1, 1, 1, 1, 1, 1, 1, 1, 1, 1, 1, 1, 1, 1, 1, 1, 1, 1, 1, 1, 1, 1, 1, 1, 1, 1, 1, 1, 1, 1, 1, 1, 1, 1, 1, 1, 1, 1, 1, 1, 1, 1, 1, 1, 1, 1, 1, 1, 1, 1, 1, 1, 1, 1, 1, 1, 1, 1, 1, 1, 1, 1, 1, 1, 1, 1, 1, 1, 1, 1, 1, 1, 1, 1, 1, 1, 1, 1, 1, 1, 1, 1, 1, 1, 1, 1, 1, 1, 1, 1, 1, 1, 1, 1, 1, 1, 1, 1, 1, 1, 1, 1, 1, 1, 1, 1, 1, 1, 1, 1, 1, 1, 1, 1, 1, 1, 1, 1, 1, 1, 1, 1, 1, 1, 1, 1, 1, 1, 1, 1, 1, 1, 1, 1, 1, 1, 1, 1, 1, 1, 1, 1, 1, 1, 1, 1, 1, 1, 1, 1, 1, 1, 1, 1, 1, 1, 1, 1, 1, 1, 1, 1, 1, 1, 1, 1, 1, 1, 1, 1, 1, 1, 1, 1, 1, 1, 1, 1, 1, 1, 1, 1, 1, 1, 1, 1, 1, 1, 1, 1, 1, 1, 1, 1, 1, 1, 1, 1, 1, 1, 1, 1, 1, 1, 1, 1, 1, 1, 1, 1, 1, 1, 1, 1, 1, 1, 1, 1, 1, 1, 1, 1, 1, 1, 1, 1, 1, 1, 1, 1, 1, 1, 1, 1, 1, 1, 1, 1, 1, 1, 1, 1, 1, 1, 1, 1, 1, 1, 1, 1, 1, 1, 1, 1, 1, 1, 1, 1, 1, 1, 1, 1, 1, 1, 1, 1, 1, 1, 1, 1, 1, 1, 1, 1, 1, 1, 1, 1, 1, 1, 1, 1, 1, 1, 1, 1, 1, 1, 1, 1, 1, 1, 1, 1, 1, 1, 1, 1, 1, 1, 1, 1, 1, 1, 1, 1, 1, 1, 1, 1, 1, 1, 1, 1, 1, 1, 1, 1, 1, 1, 1, 1, 1, 1, 1, 1, 1, 1, 1, 1, 1, 1, 1, 1, 1, 1], 'labels': [4881, 117, 220, 895, 124, 8120, 502, 3017, 111, 138, 749, 22486, 933, 110, 107, 760, 2662, 3087, 980, 333, 3244, 111, 109, 465, 6305, 112, 4229, 109, 80611, 108, 8120, 649, 110, 107, 139, 80611, 108, 266, 113, 9032, 108, 140, 2642, 124, 3017, 160, 280, 114, 107, 208, 107, 1]}\n",
            "\n"
          ]
        }
      ],
      "source": [
        "#Print the first 5 rows of each dataset\n",
        "for dataset_name, dataset in dataset_cnn_pt.items():\n",
        "    print(f'{dataset_name}:')\n",
        "    for i in range(5):\n",
        "      print(dataset[i])\n",
        "      print()"
      ],
      "id": "k6y5pEvXFfB1"
    },
    {
      "cell_type": "code",
      "execution_count": null,
      "metadata": {
        "id": "fl3Y3ntGwy7k"
      },
      "outputs": [],
      "source": [
        "from transformers import DataCollatorForSeq2Seq\n",
        "\n",
        "seq2seq_data_collator = DataCollatorForSeq2Seq(tokenizer, model=model_pegasus)"
      ],
      "id": "fl3Y3ntGwy7k"
    },
    {
      "cell_type": "code",
      "execution_count": null,
      "metadata": {
        "colab": {
          "base_uri": "https://localhost:8080/"
        },
        "id": "V9zNCsvlWbFA",
        "outputId": "74c41d92-20ca-4317-e1c6-a5f5c03e30fd"
      },
      "outputs": [
        {
          "name": "stdout",
          "output_type": "stream",
          "text": [
            "Dataset({\n",
            "    features: ['input_ids', 'attention_mask', 'labels'],\n",
            "    num_rows: 10000\n",
            "})\n",
            "Number of rows: 10000\n"
          ]
        }
      ],
      "source": [
        "filtered_dataset = dataset_cnn_pt[\"train\"].select(range(10000))\n",
        "print(filtered_dataset)\n",
        "print(\"Number of rows:\", len(filtered_dataset))"
      ],
      "id": "V9zNCsvlWbFA"
    },
    {
      "cell_type": "code",
      "execution_count": null,
      "metadata": {
        "colab": {
          "base_uri": "https://localhost:8080/"
        },
        "id": "75DUvxd5XX3f",
        "outputId": "a73240a8-e23b-41fe-fd32-ca0e0586ac5f"
      },
      "outputs": [
        {
          "name": "stdout",
          "output_type": "stream",
          "text": [
            "Looking in indexes: https://pypi.org/simple, https://us-python.pkg.dev/colab-wheels/public/simple/\n",
            "Collecting accelerate\n",
            "  Downloading accelerate-0.19.0-py3-none-any.whl (219 kB)\n",
            "\u001b[2K     \u001b[90m━━━━━━━━━━━━━━━━━━━━━━━━━━━━━━━━━━━━━━━\u001b[0m \u001b[32m219.1/219.1 kB\u001b[0m \u001b[31m6.2 MB/s\u001b[0m eta \u001b[36m0:00:00\u001b[0m\n",
            "\u001b[?25hRequirement already satisfied: numpy>=1.17 in /usr/local/lib/python3.10/dist-packages (from accelerate) (1.24.3)\n",
            "Requirement already satisfied: packaging>=20.0 in /usr/local/lib/python3.10/dist-packages (from accelerate) (23.1)\n",
            "Requirement already satisfied: psutil in /usr/local/lib/python3.10/dist-packages (from accelerate) (5.9.5)\n",
            "Requirement already satisfied: pyyaml in /usr/local/lib/python3.10/dist-packages (from accelerate) (6.0)\n",
            "Requirement already satisfied: torch>=1.6.0 in /usr/local/lib/python3.10/dist-packages (from accelerate) (2.0.0+cu118)\n",
            "Requirement already satisfied: filelock in /usr/local/lib/python3.10/dist-packages (from torch>=1.6.0->accelerate) (3.12.0)\n",
            "Requirement already satisfied: typing-extensions in /usr/local/lib/python3.10/dist-packages (from torch>=1.6.0->accelerate) (4.5.0)\n",
            "Requirement already satisfied: sympy in /usr/local/lib/python3.10/dist-packages (from torch>=1.6.0->accelerate) (1.11.1)\n",
            "Requirement already satisfied: networkx in /usr/local/lib/python3.10/dist-packages (from torch>=1.6.0->accelerate) (3.1)\n",
            "Requirement already satisfied: jinja2 in /usr/local/lib/python3.10/dist-packages (from torch>=1.6.0->accelerate) (3.1.2)\n",
            "Requirement already satisfied: triton==2.0.0 in /usr/local/lib/python3.10/dist-packages (from torch>=1.6.0->accelerate) (2.0.0)\n",
            "Requirement already satisfied: cmake in /usr/local/lib/python3.10/dist-packages (from triton==2.0.0->torch>=1.6.0->accelerate) (3.25.2)\n",
            "Requirement already satisfied: lit in /usr/local/lib/python3.10/dist-packages (from triton==2.0.0->torch>=1.6.0->accelerate) (16.0.3)\n",
            "Requirement already satisfied: MarkupSafe>=2.0 in /usr/local/lib/python3.10/dist-packages (from jinja2->torch>=1.6.0->accelerate) (2.1.2)\n",
            "Requirement already satisfied: mpmath>=0.19 in /usr/local/lib/python3.10/dist-packages (from sympy->torch>=1.6.0->accelerate) (1.3.0)\n",
            "Installing collected packages: accelerate\n",
            "Successfully installed accelerate-0.19.0\n"
          ]
        }
      ],
      "source": [
        "!pip install --upgrade accelerate"
      ],
      "id": "75DUvxd5XX3f"
    },
    {
      "cell_type": "markdown",
      "metadata": {
        "id": "Cor2bmaiXWsN"
      },
      "source": [],
      "id": "Cor2bmaiXWsN"
    },
    {
      "cell_type": "code",
      "execution_count": null,
      "metadata": {
        "colab": {
          "base_uri": "https://localhost:8080/",
          "height": 801
        },
        "id": "WGSu16blXWGC",
        "outputId": "e91afe6e-dc9d-4735-ceba-c615b18248ed"
      },
      "outputs": [
        {
          "name": "stdout",
          "output_type": "stream",
          "text": [
            "Found existing installation: transformers 4.29.0\n",
            "Uninstalling transformers-4.29.0:\n",
            "  Successfully uninstalled transformers-4.29.0\n",
            "Found existing installation: accelerate 0.19.0\n",
            "Uninstalling accelerate-0.19.0:\n",
            "  Successfully uninstalled accelerate-0.19.0\n",
            "Looking in indexes: https://pypi.org/simple, https://us-python.pkg.dev/colab-wheels/public/simple/\n",
            "Collecting transformers\n",
            "  Downloading transformers-4.29.1-py3-none-any.whl (7.1 MB)\n",
            "\u001b[2K     \u001b[90m━━━━━━━━━━━━━━━━━━━━━━━━━━━━━━━━━━━━━━━━\u001b[0m \u001b[32m7.1/7.1 MB\u001b[0m \u001b[31m43.6 MB/s\u001b[0m eta \u001b[36m0:00:00\u001b[0m\n",
            "\u001b[?25hCollecting accelerate\n",
            "  Using cached accelerate-0.19.0-py3-none-any.whl (219 kB)\n",
            "Requirement already satisfied: filelock in /usr/local/lib/python3.10/dist-packages (from transformers) (3.12.0)\n",
            "Requirement already satisfied: huggingface-hub<1.0,>=0.14.1 in /usr/local/lib/python3.10/dist-packages (from transformers) (0.14.1)\n",
            "Requirement already satisfied: numpy>=1.17 in /usr/local/lib/python3.10/dist-packages (from transformers) (1.24.3)\n",
            "Requirement already satisfied: packaging>=20.0 in /usr/local/lib/python3.10/dist-packages (from transformers) (23.1)\n",
            "Requirement already satisfied: pyyaml>=5.1 in /usr/local/lib/python3.10/dist-packages (from transformers) (6.0)\n",
            "Requirement already satisfied: regex!=2019.12.17 in /usr/local/lib/python3.10/dist-packages (from transformers) (2022.10.31)\n",
            "Requirement already satisfied: requests in /usr/local/lib/python3.10/dist-packages (from transformers) (2.27.1)\n",
            "Requirement already satisfied: tokenizers!=0.11.3,<0.14,>=0.11.1 in /usr/local/lib/python3.10/dist-packages (from transformers) (0.13.3)\n",
            "Requirement already satisfied: tqdm>=4.27 in /usr/local/lib/python3.10/dist-packages (from transformers) (4.65.0)\n",
            "Requirement already satisfied: psutil in /usr/local/lib/python3.10/dist-packages (from accelerate) (5.9.5)\n",
            "Requirement already satisfied: torch>=1.6.0 in /usr/local/lib/python3.10/dist-packages (from accelerate) (2.0.0+cu118)\n",
            "Requirement already satisfied: fsspec in /usr/local/lib/python3.10/dist-packages (from huggingface-hub<1.0,>=0.14.1->transformers) (2023.4.0)\n",
            "Requirement already satisfied: typing-extensions>=3.7.4.3 in /usr/local/lib/python3.10/dist-packages (from huggingface-hub<1.0,>=0.14.1->transformers) (4.5.0)\n",
            "Requirement already satisfied: sympy in /usr/local/lib/python3.10/dist-packages (from torch>=1.6.0->accelerate) (1.11.1)\n",
            "Requirement already satisfied: networkx in /usr/local/lib/python3.10/dist-packages (from torch>=1.6.0->accelerate) (3.1)\n",
            "Requirement already satisfied: jinja2 in /usr/local/lib/python3.10/dist-packages (from torch>=1.6.0->accelerate) (3.1.2)\n",
            "Requirement already satisfied: triton==2.0.0 in /usr/local/lib/python3.10/dist-packages (from torch>=1.6.0->accelerate) (2.0.0)\n",
            "Requirement already satisfied: cmake in /usr/local/lib/python3.10/dist-packages (from triton==2.0.0->torch>=1.6.0->accelerate) (3.25.2)\n",
            "Requirement already satisfied: lit in /usr/local/lib/python3.10/dist-packages (from triton==2.0.0->torch>=1.6.0->accelerate) (16.0.3)\n",
            "Requirement already satisfied: urllib3<1.27,>=1.21.1 in /usr/local/lib/python3.10/dist-packages (from requests->transformers) (1.26.15)\n",
            "Requirement already satisfied: certifi>=2017.4.17 in /usr/local/lib/python3.10/dist-packages (from requests->transformers) (2022.12.7)\n",
            "Requirement already satisfied: charset-normalizer~=2.0.0 in /usr/local/lib/python3.10/dist-packages (from requests->transformers) (2.0.12)\n",
            "Requirement already satisfied: idna<4,>=2.5 in /usr/local/lib/python3.10/dist-packages (from requests->transformers) (3.4)\n",
            "Requirement already satisfied: MarkupSafe>=2.0 in /usr/local/lib/python3.10/dist-packages (from jinja2->torch>=1.6.0->accelerate) (2.1.2)\n",
            "Requirement already satisfied: mpmath>=0.19 in /usr/local/lib/python3.10/dist-packages (from sympy->torch>=1.6.0->accelerate) (1.3.0)\n",
            "Installing collected packages: transformers, accelerate\n",
            "Successfully installed accelerate-0.19.0 transformers-4.29.1\n"
          ]
        },
        {
          "data": {
            "application/vnd.colab-display-data+json": {
              "pip_warning": {
                "packages": [
                  "transformers"
                ]
              }
            }
          },
          "metadata": {},
          "output_type": "display_data"
        }
      ],
      "source": [
        "!pip uninstall -y transformers accelerate\n",
        "!pip install transformers accelerate"
      ],
      "id": "WGSu16blXWGC"
    },
    {
      "cell_type": "code",
      "execution_count": null,
      "metadata": {
        "id": "PTDR4lCTwzFR"
      },
      "outputs": [],
      "source": [
        "from transformers import TrainingArguments, Trainer\n",
        "\n",
        "trainer_args = TrainingArguments(\n",
        "    output_dir='pegasus-cnn', num_train_epochs=2, warmup_steps=500,\n",
        "    per_device_train_batch_size=3, per_device_eval_batch_size=2,\n",
        "    weight_decay=0.01, logging_steps=10,\n",
        "    evaluation_strategy='steps', eval_steps=500, save_steps=1e6,\n",
        "    gradient_accumulation_steps=16)"
      ],
      "id": "PTDR4lCTwzFR"
    },
    {
      "cell_type": "code",
      "execution_count": null,
      "metadata": {
        "id": "GpJ9p9lewzI5"
      },
      "outputs": [],
      "source": [
        "trainer = Trainer(model=model_pegasus, args=trainer_args,\n",
        "                  tokenizer=tokenizer, data_collator=seq2seq_data_collator,\n",
        "                  train_dataset=dataset_cnn_pt[\"train\"].select(range(10000)), \n",
        "                  eval_dataset=dataset_cnn_pt[\"validation\"].select(range(1000)))"
      ],
      "id": "GpJ9p9lewzI5"
    },
    {
      "cell_type": "code",
      "execution_count": null,
      "metadata": {
        "colab": {
          "base_uri": "https://localhost:8080/",
          "height": 133
        },
        "id": "MUA9iaTkwzML",
        "outputId": "1664190b-e75f-4655-800b-ba3b2caeaaf8"
      },
      "outputs": [
        {
          "data": {
            "text/html": [
              "\n",
              "    <div>\n",
              "      \n",
              "      <progress value='3' max='416' style='width:300px; height:20px; vertical-align: middle;'></progress>\n",
              "      [  3/416 02:02 < 14:06:11, 0.01 it/s, Epoch 0.01/2]\n",
              "    </div>\n",
              "    <table border=\"1\" class=\"dataframe\">\n",
              "  <thead>\n",
              " <tr style=\"text-align: left;\">\n",
              "      <th>Step</th>\n",
              "      <th>Training Loss</th>\n",
              "      <th>Validation Loss</th>\n",
              "    </tr>\n",
              "  </thead>\n",
              "  <tbody>\n",
              "  </tbody>\n",
              "</table><p>"
            ],
            "text/plain": [
              "<IPython.core.display.HTML object>"
            ]
          },
          "metadata": {},
          "output_type": "display_data"
        },
        {
          "data": {
            "text/html": [
              "\n",
              "    <div>\n",
              "      \n",
              "      <progress value='8' max='416' style='width:300px; height:20px; vertical-align: middle;'></progress>\n",
              "      [  8/416 13:14 < 15:00:35, 0.01 it/s, Epoch 0.03/2]\n",
              "    </div>\n",
              "    <table border=\"1\" class=\"dataframe\">\n",
              "  <thead>\n",
              " <tr style=\"text-align: left;\">\n",
              "      <th>Step</th>\n",
              "      <th>Training Loss</th>\n",
              "      <th>Validation Loss</th>\n",
              "    </tr>\n",
              "  </thead>\n",
              "  <tbody>\n",
              "  </tbody>\n",
              "</table><p>"
            ],
            "text/plain": [
              "<IPython.core.display.HTML object>"
            ]
          },
          "metadata": {},
          "output_type": "display_data"
        }
      ],
      "source": [
        "trainer.train()\n",
        "\n"
      ],
      "id": "MUA9iaTkwzML"
    },
    {
      "cell_type": "code",
      "execution_count": null,
      "metadata": {
        "id": "P43XfSXGkp3f"
      },
      "outputs": [],
      "source": [
        "#trial for smaller dataset by taking only 2000 from training and 200 from validation"
      ],
      "id": "P43XfSXGkp3f"
    },
    {
      "cell_type": "code",
      "execution_count": null,
      "metadata": {
        "id": "5LH7ipnGkpbl"
      },
      "outputs": [],
      "source": [
        "small_dataset = dataset_cnn.copy()"
      ],
      "id": "5LH7ipnGkpbl"
    },
    {
      "cell_type": "code",
      "execution_count": null,
      "metadata": {
        "id": "AUWMH8igko-k"
      },
      "outputs": [],
      "source": [],
      "id": "AUWMH8igko-k"
    },
    {
      "cell_type": "code",
      "execution_count": null,
      "metadata": {
        "id": "p9pPnPKX1CbH"
      },
      "outputs": [],
      "source": [],
      "id": "p9pPnPKX1CbH"
    },
    {
      "cell_type": "code",
      "execution_count": null,
      "metadata": {
        "id": "naqIGnCK1CeH"
      },
      "outputs": [],
      "source": [
        "#--------------------------"
      ],
      "id": "naqIGnCK1CeH"
    },
    {
      "cell_type": "code",
      "execution_count": null,
      "metadata": {
        "id": "zkSa1vAd1CgZ"
      },
      "outputs": [],
      "source": [
        "from transformers import PegasusForConditionalGeneration, PegasusTokenizer, Trainer, TrainingArguments\n",
        "import torch"
      ],
      "id": "zkSa1vAd1CgZ"
    },
    {
      "cell_type": "code",
      "execution_count": null,
      "metadata": {
        "colab": {
          "base_uri": "https://localhost:8080/",
          "height": 35
        },
        "id": "yqJ5gr941Ciy",
        "outputId": "e95f0dd0-8942-4cf6-81c6-8a85632d7021"
      },
      "outputs": [
        {
          "data": {
            "application/vnd.google.colaboratory.intrinsic+json": {
              "type": "string"
            },
            "text/plain": [
              "'2.0.0+cu118'"
            ]
          },
          "execution_count": 11,
          "metadata": {},
          "output_type": "execute_result"
        }
      ],
      "source": [
        "torch.__version__"
      ],
      "id": "yqJ5gr941Ciy"
    },
    {
      "cell_type": "code",
      "execution_count": null,
      "metadata": {
        "id": "Mit40VsT1Clc"
      },
      "outputs": [],
      "source": [
        "class PegasusDataset(torch.utils.data.Dataset):\n",
        "    def __init__(self, encodings, labels):\n",
        "        self.encodings = encodings\n",
        "        self.labels = labels\n",
        "    def __getitem__(self, idx):\n",
        "        item = {key: torch.tensor(val[idx]) for key, val in self.encodings.items()}\n",
        "        item['labels'] = torch.tensor(self.labels['input_ids'][idx])  # torch.tensor(self.labels[idx])\n",
        "        return item\n",
        "    def __len__(self):\n",
        "        return len(self.labels)"
      ],
      "id": "Mit40VsT1Clc"
    },
    {
      "cell_type": "code",
      "execution_count": null,
      "metadata": {
        "id": "fLrBwe4e1CoV"
      },
      "outputs": [],
      "source": [
        "def prepare_data(model_name, \n",
        "                 train_texts, train_labels, \n",
        "                 val_texts, val_labels, \n",
        "                 test_texts=None, test_labels=None):\n",
        "  \"\"\"\n",
        "  Prepare input data for model fine-tuning\n",
        "  \"\"\"\n",
        "  tokenizer = PegasusTokenizer.from_pretrained(model_name)\n",
        "\n",
        "  prepare_val = False if val_texts is None or val_labels is None else True\n",
        "  prepare_test = False if test_texts is None or test_labels is None else True\n",
        "\n",
        "  def tokenize_data(texts, labels):\n",
        "    encodings = tokenizer(texts, truncation=True, padding=True)\n",
        "    decodings = tokenizer(labels, truncation=True, padding=True)\n",
        "    dataset_tokenized = PegasusDataset(encodings, decodings)\n",
        "    return dataset_tokenized\n",
        "\n",
        "  train_dataset = tokenize_data(train_texts, train_labels)\n",
        "  val_dataset = tokenize_data(val_texts, val_labels) if prepare_val else None\n",
        "  test_dataset = tokenize_data(test_texts, test_labels) if prepare_test else None\n",
        "\n",
        "  return train_dataset, val_dataset, test_dataset"
      ],
      "id": "fLrBwe4e1CoV"
    },
    {
      "cell_type": "code",
      "execution_count": null,
      "metadata": {
        "id": "N9w3ScdV1Cqv"
      },
      "outputs": [],
      "source": [
        "def prepare_fine_tuning(model_name, train_dataset, val_dataset, freeze_encoder=False, output_dir='./results'):\n",
        "  \"\"\"\n",
        "  Prepare configurations and base model for fine-tuning\n",
        "  \"\"\"\n",
        "  torch_device = 'cuda' if torch.cuda.is_available() else 'cpu'\n",
        "  model = PegasusForConditionalGeneration.from_pretrained(model_name).to(torch_device)\n",
        "\n",
        "  if freeze_encoder:\n",
        "    for param in model.model.encoder.parameters():\n",
        "      param.requires_grad = False\n",
        "\n",
        "  if val_dataset is not None:\n",
        "    training_args = TrainingArguments(\n",
        "      output_dir=output_dir,           # output directory\n",
        "      adafactor=True,                   # use adafactor instead of AdamW\n",
        "      num_train_epochs=500,           # total number of training epochs\n",
        "      per_device_train_batch_size=2,   # batch size per device during training, can increase if memory allows\n",
        "      per_device_eval_batch_size=2,    # batch size for evaluation, can increase if memory allows\n",
        "      save_steps=100,                  # number of updates steps before checkpoint saves\n",
        "      save_total_limit=5,              # limit the total amount of checkpoints and deletes the older checkpoints\n",
        "      evaluation_strategy='steps',     # evaluation strategy to adopt during training\n",
        "      eval_steps=100,                  # number of update steps before evaluation\n",
        "      warmup_steps=500,                # number of warmup steps for learning rate scheduler\n",
        "      weight_decay=0.01,               # strength of weight decay\n",
        "      logging_dir='./logs',            # directory for storing logs\n",
        "      logging_steps=10,\n",
        "    )\n",
        "\n",
        "    trainer = Trainer(\n",
        "      model=model,                         # the instantiated 🤗 Transformers model to be trained\n",
        "      args=training_args,                  # training arguments, defined above\n",
        "      train_dataset=train_dataset,         # training dataset\n",
        "      eval_dataset=val_dataset             # evaluation dataset\n",
        "    )\n",
        "\n",
        "  else:\n",
        "    training_args = TrainingArguments(\n",
        "      output_dir=output_dir,           # output directory\n",
        "      adafactor=True,                  # use adafactor instead of AdamW\n",
        "      num_train_epochs=500,           # total number of training epochs\n",
        "      per_device_train_batch_size=2,   # batch size per device during training, can increase if memory allows\n",
        "      save_steps=100,                  # number of updates steps before checkpoint saves\n",
        "      save_total_limit=5,              # limit the total amount of checkpoints and deletes the older checkpoints\n",
        "      warmup_steps=500,                # number of warmup steps for learning rate scheduler\n",
        "      weight_decay=0.01,               # strength of weight decay\n",
        "      logging_dir='./logs',            # directory for storing logs\n",
        "      logging_steps=10,\n",
        "    )\n",
        "\n",
        "    trainer = Trainer(\n",
        "      model=model,                         # the instantiated 🤗 Transformers model to be trained\n",
        "      args=training_args,                  # training arguments, defined above\n",
        "      train_dataset=train_dataset,         # training dataset\n",
        "    )\n",
        "\n",
        "  return trainer"
      ],
      "id": "N9w3ScdV1Cqv"
    },
    {
      "cell_type": "code",
      "execution_count": null,
      "metadata": {
        "id": "WxpT03NH1CtB"
      },
      "outputs": [],
      "source": [
        "# use cnn dataset as example, with first 2000 docs as training data\n",
        "\n",
        "train_texts, train_labels = dataset_cnn['train']['article'][:10000], dataset_cnn['train']['highlights'][:10000]\n",
        "#train_texts, train_labels = dataset['train']['document'], dataset['train']['summary']\n",
        "val_texts, val_labels = dataset_cnn['validation']['article'][:500], dataset_cnn['validation']['highlights'][:500]"
      ],
      "id": "WxpT03NH1CtB"
    },
    {
      "cell_type": "code",
      "execution_count": null,
      "metadata": {
        "id": "Is-3ItkslOP4"
      },
      "outputs": [],
      "source": [],
      "id": "Is-3ItkslOP4"
    },
    {
      "cell_type": "markdown",
      "metadata": {
        "id": "CTVzv9uJ6aee"
      },
      "source": [],
      "id": "CTVzv9uJ6aee"
    },
    {
      "cell_type": "code",
      "execution_count": null,
      "metadata": {
        "colab": {
          "base_uri": "https://localhost:8080/"
        },
        "id": "CXuOJXQE1Cvy",
        "outputId": "a20e3260-278e-48f2-ee24-526ec7e0c251"
      },
      "outputs": [
        {
          "data": {
            "text/plain": [
              "2000"
            ]
          },
          "execution_count": 52,
          "metadata": {},
          "output_type": "execute_result"
        }
      ],
      "source": [
        "len(train_texts)"
      ],
      "id": "CXuOJXQE1Cvy"
    },
    {
      "cell_type": "code",
      "execution_count": null,
      "metadata": {
        "colab": {
          "base_uri": "https://localhost:8080/"
        },
        "id": "sYqXjp7N3K6F",
        "outputId": "1b4dd504-a0a5-45c0-bd4e-c5e0be738977"
      },
      "outputs": [
        {
          "data": {
            "text/plain": [
              "200"
            ]
          },
          "execution_count": 53,
          "metadata": {},
          "output_type": "execute_result"
        }
      ],
      "source": [
        "len(val_texts)"
      ],
      "id": "sYqXjp7N3K6F"
    },
    {
      "cell_type": "code",
      "execution_count": null,
      "metadata": {
        "colab": {
          "base_uri": "https://localhost:8080/",
          "height": 113,
          "referenced_widgets": [
            "82825fce171a48b4a891e97d8832a5bf",
            "88b28cb5fe22418eb7632ef187189aa0",
            "bcdaa5e0c48346a1932b7dab9185d678",
            "a42a55a6bff14e3fa7fc73ec481a2848",
            "a554ec1354c94383b377a9950990b94e",
            "931aabf166cd460abd22cf89b8277099",
            "c229cb9c0dda4e82a067b291f63ab94e",
            "7aed088259664092bea28c4e1fe527cf",
            "1936795c4b6b4d27818de8cbad0a8771",
            "931695e5d1214fe68fe2c2d7b2558e47",
            "f2aa07aafd6a42cda948b914d0af553e",
            "0d07969b1f854f238ba83bfba3541346",
            "cef7a33a16df422e9b894764f7f61345",
            "e1c55d36c9ab40238288b8b2f1b848b5",
            "8503bf0c6365495fa55a19daefcd2f92",
            "072ccb4294394666895d86995b4f0967",
            "45f7131636d14f1b86aab9247286f698",
            "2b7b9e0a992b49dca7d3d14bc6e0bff4",
            "2a2acbb28782454382d61b3083abba87",
            "9f4717aa96304f43a2c9d09a2a918038",
            "46c7f51d9aec498186532bd8b401908c",
            "3ce649ad65cc44059d8db6dfa7ab3e89",
            "7e76c7797203464d9fe89fbe7250bb99",
            "871896f4510242c2b40bd2ccd712b668",
            "dedfa760765d4208af6102e1a5b5ae89",
            "a0c899d0e80a4308a3c1e8c0bbf4f6be",
            "622092eeb40d4f85b2203c99a83ddd58",
            "4d026ed62fb3431aac3cc4797e8c8dd1",
            "b78375ab61fc4bc5b61b633aaa432066",
            "2c690bfbc60f44fbbd16c82381a1124e",
            "73449e78cd1b4c05b15cf7ae361ed9a8",
            "1a57e316c5d640c4943be2d789ec7356",
            "58b923933a224b80ae500e89585dcbc4"
          ]
        },
        "id": "e6RromMm1CyM",
        "outputId": "736d4874-8b86-4464-ea79-fa32a66dbe10"
      },
      "outputs": [
        {
          "data": {
            "application/vnd.jupyter.widget-view+json": {
              "model_id": "82825fce171a48b4a891e97d8832a5bf",
              "version_major": 2,
              "version_minor": 0
            },
            "text/plain": [
              "Downloading (…)ve/main/spiece.model:   0%|          | 0.00/1.91M [00:00<?, ?B/s]"
            ]
          },
          "metadata": {},
          "output_type": "display_data"
        },
        {
          "data": {
            "application/vnd.jupyter.widget-view+json": {
              "model_id": "0d07969b1f854f238ba83bfba3541346",
              "version_major": 2,
              "version_minor": 0
            },
            "text/plain": [
              "Downloading (…)cial_tokens_map.json:   0%|          | 0.00/65.0 [00:00<?, ?B/s]"
            ]
          },
          "metadata": {},
          "output_type": "display_data"
        },
        {
          "data": {
            "application/vnd.jupyter.widget-view+json": {
              "model_id": "7e76c7797203464d9fe89fbe7250bb99",
              "version_major": 2,
              "version_minor": 0
            },
            "text/plain": [
              "Downloading (…)okenizer_config.json:   0%|          | 0.00/88.0 [00:00<?, ?B/s]"
            ]
          },
          "metadata": {},
          "output_type": "display_data"
        }
      ],
      "source": [
        "model_checkpoint = 'google/pegasus-large'\n",
        "# about 8 mins to finish for the whole dataset\n",
        "train_dataset, val_dataset, _ = prepare_data(model_checkpoint, train_texts, train_labels, val_texts, val_labels)\n"
      ],
      "id": "e6RromMm1CyM"
    },
    {
      "cell_type": "code",
      "execution_count": null,
      "metadata": {
        "colab": {
          "base_uri": "https://localhost:8080/"
        },
        "id": "GAa6idod1C0v",
        "outputId": "f58f36da-30ad-4b29-8f2b-42a0fc877d23"
      },
      "outputs": [
        {
          "name": "stdout",
          "output_type": "stream",
          "text": [
            "CPU times: user 16.6 s, sys: 4.09 s, total: 20.7 s\n",
            "Wall time: 15 s\n"
          ]
        },
        {
          "name": "stderr",
          "output_type": "stream",
          "text": [
            "/usr/local/lib/python3.10/dist-packages/transformers/training_args.py:1243: FutureWarning: `--adafactor` is deprecated and will be removed in version 5 of 🤗 Transformers. Use `--optim adafactor` instead\n",
            "  warnings.warn(\n"
          ]
        }
      ],
      "source": [
        "%%time\n",
        "# only about 1 minute\n",
        "trainer = prepare_fine_tuning(model_checkpoint, train_dataset, val_dataset)"
      ],
      "id": "GAa6idod1C0v"
    },
    {
      "cell_type": "code",
      "execution_count": null,
      "metadata": {
        "colab": {
          "base_uri": "https://localhost:8080/",
          "height": 284
        },
        "id": "fi11ToKL7dYL",
        "outputId": "477cc944-5012-438e-951d-df010f90cd16"
      },
      "outputs": [
        {
          "data": {
            "text/html": [
              "\n",
              "    <div>\n",
              "      \n",
              "      <progress value='500' max='500' style='width:300px; height:20px; vertical-align: middle;'></progress>\n",
              "      [500/500 1:16:01, Epoch 500/500]\n",
              "    </div>\n",
              "    <table border=\"1\" class=\"dataframe\">\n",
              "  <thead>\n",
              " <tr style=\"text-align: left;\">\n",
              "      <th>Step</th>\n",
              "      <th>Training Loss</th>\n",
              "      <th>Validation Loss</th>\n",
              "    </tr>\n",
              "  </thead>\n",
              "  <tbody>\n",
              "    <tr>\n",
              "      <td>100</td>\n",
              "      <td>5.566100</td>\n",
              "      <td>7.887821</td>\n",
              "    </tr>\n",
              "    <tr>\n",
              "      <td>200</td>\n",
              "      <td>3.953600</td>\n",
              "      <td>7.174061</td>\n",
              "    </tr>\n",
              "    <tr>\n",
              "      <td>300</td>\n",
              "      <td>3.135000</td>\n",
              "      <td>6.866641</td>\n",
              "    </tr>\n",
              "    <tr>\n",
              "      <td>400</td>\n",
              "      <td>1.440700</td>\n",
              "      <td>5.740567</td>\n",
              "    </tr>\n",
              "    <tr>\n",
              "      <td>500</td>\n",
              "      <td>0.072900</td>\n",
              "      <td>3.039482</td>\n",
              "    </tr>\n",
              "  </tbody>\n",
              "</table><p>"
            ],
            "text/plain": [
              "<IPython.core.display.HTML object>"
            ]
          },
          "metadata": {},
          "output_type": "display_data"
        },
        {
          "data": {
            "text/plain": [
              "TrainOutput(global_step=500, training_loss=3.389253124833107, metrics={'train_runtime': 4574.0307, 'train_samples_per_second': 0.219, 'train_steps_per_second': 0.109, 'total_flos': 2889464414208000.0, 'train_loss': 3.389253124833107, 'epoch': 500.0})"
            ]
          },
          "execution_count": 56,
          "metadata": {},
          "output_type": "execute_result"
        }
      ],
      "source": [
        "trainer.train()"
      ],
      "id": "fi11ToKL7dYL"
    },
    {
      "cell_type": "code",
      "execution_count": null,
      "metadata": {
        "colab": {
          "base_uri": "https://localhost:8080/"
        },
        "id": "O4WLvkX1KhV2",
        "outputId": "f51d5dd7-371a-4433-99f2-d7f508a4fdde"
      },
      "outputs": [
        {
          "name": "stdout",
          "output_type": "stream",
          "text": [
            "checkpoint-100\tcheckpoint-200\tcheckpoint-300\tcheckpoint-400\tcheckpoint-500\n"
          ]
        }
      ],
      "source": [
        "!ls results/"
      ],
      "id": "O4WLvkX1KhV2"
    },
    {
      "cell_type": "code",
      "execution_count": null,
      "metadata": {
        "id": "CHt80B3yM9zo"
      },
      "outputs": [],
      "source": [
        "pegtokenizer  = PegasusTokenizer.from_pretrained(model_checkpoint)\n",
        "rouge_names = [\"rouge1\", \"rouge2\", \"rougeL\", \"rougeLsum\"]\n",
        "\n",
        "rouge_metric = load_metric('rouge')"
      ],
      "id": "CHt80B3yM9zo"
    },
    {
      "cell_type": "code",
      "execution_count": null,
      "metadata": {
        "colab": {
          "base_uri": "https://localhost:8080/",
          "height": 1000
        },
        "id": "jFcntktXKhi9",
        "outputId": "aab8b585-f1ac-4623-c7b5-c779111a9723"
      },
      "outputs": [
        {
          "name": "stderr",
          "output_type": "stream",
          "text": [
            "\r  0%|          | 0/100 [00:00<?, ?it/s]"
          ]
        },
        {
          "name": "stdout",
          "output_type": "stream",
          "text": [
            "input_ids shape: torch.Size([2, 1024])\n",
            "max input_ids value: tensor(94439)\n",
            "vocabulary size: 96103\n"
          ]
        },
        {
          "name": "stderr",
          "output_type": "stream",
          "text": [
            "\r  1%|          | 1/100 [00:19<31:44, 19.24s/it]"
          ]
        },
        {
          "name": "stdout",
          "output_type": "stream",
          "text": [
            "torch.Size([2, 103])\n",
            "torch.Size([2, 1024])\n",
            "input_ids shape: torch.Size([2, 1024])\n",
            "max input_ids value: tensor(95399)\n",
            "vocabulary size: 96103\n"
          ]
        },
        {
          "name": "stderr",
          "output_type": "stream",
          "text": [
            "\r  2%|▏         | 2/100 [00:35<28:54, 17.69s/it]"
          ]
        },
        {
          "name": "stdout",
          "output_type": "stream",
          "text": [
            "torch.Size([2, 74])\n",
            "torch.Size([2, 1024])\n",
            "input_ids shape: torch.Size([2, 1024])\n",
            "max input_ids value: tensor(88480)\n",
            "vocabulary size: 96103\n"
          ]
        },
        {
          "name": "stderr",
          "output_type": "stream",
          "text": [
            "\r  3%|▎         | 3/100 [00:53<28:46, 17.79s/it]"
          ]
        },
        {
          "name": "stdout",
          "output_type": "stream",
          "text": [
            "torch.Size([2, 128])\n",
            "torch.Size([2, 1024])\n",
            "input_ids shape: torch.Size([2, 1024])\n",
            "max input_ids value: tensor(95967)\n",
            "vocabulary size: 96103\n"
          ]
        },
        {
          "name": "stderr",
          "output_type": "stream",
          "text": [
            "\r  4%|▍         | 4/100 [01:11<28:33, 17.85s/it]"
          ]
        },
        {
          "name": "stdout",
          "output_type": "stream",
          "text": [
            "torch.Size([2, 104])\n",
            "torch.Size([2, 1024])\n",
            "input_ids shape: torch.Size([2, 1024])\n",
            "max input_ids value: tensor(87575)\n",
            "vocabulary size: 96103\n"
          ]
        },
        {
          "name": "stderr",
          "output_type": "stream",
          "text": [
            "\r  5%|▌         | 5/100 [01:29<28:05, 17.74s/it]"
          ]
        },
        {
          "name": "stdout",
          "output_type": "stream",
          "text": [
            "torch.Size([2, 128])\n",
            "torch.Size([2, 1024])\n",
            "input_ids shape: torch.Size([2, 1024])\n",
            "max input_ids value: tensor(83660)\n",
            "vocabulary size: 96103\n"
          ]
        },
        {
          "name": "stderr",
          "output_type": "stream",
          "text": [
            "\r  6%|▌         | 6/100 [01:43<25:45, 16.44s/it]"
          ]
        },
        {
          "name": "stdout",
          "output_type": "stream",
          "text": [
            "torch.Size([2, 53])\n",
            "torch.Size([2, 1024])\n",
            "input_ids shape: torch.Size([2, 1024])\n",
            "max input_ids value: tensor(88699)\n",
            "vocabulary size: 96103\n"
          ]
        },
        {
          "name": "stderr",
          "output_type": "stream",
          "text": [
            "\r  7%|▋         | 7/100 [02:00<26:07, 16.85s/it]"
          ]
        },
        {
          "name": "stdout",
          "output_type": "stream",
          "text": [
            "torch.Size([2, 112])\n",
            "torch.Size([2, 1024])\n",
            "input_ids shape: torch.Size([2, 1024])\n",
            "max input_ids value: tensor(86888)\n",
            "vocabulary size: 96103\n"
          ]
        },
        {
          "name": "stderr",
          "output_type": "stream",
          "text": [
            "\r  8%|▊         | 8/100 [02:16<25:22, 16.55s/it]"
          ]
        },
        {
          "name": "stdout",
          "output_type": "stream",
          "text": [
            "torch.Size([2, 86])\n",
            "torch.Size([2, 1024])\n",
            "input_ids shape: torch.Size([2, 1024])\n",
            "max input_ids value: tensor(92531)\n",
            "vocabulary size: 96103\n"
          ]
        },
        {
          "name": "stderr",
          "output_type": "stream",
          "text": [
            "\r  9%|▉         | 9/100 [02:34<25:45, 16.98s/it]"
          ]
        },
        {
          "name": "stdout",
          "output_type": "stream",
          "text": [
            "torch.Size([2, 92])\n",
            "torch.Size([2, 1024])\n",
            "input_ids shape: torch.Size([2, 1024])\n",
            "max input_ids value: tensor(93359)\n",
            "vocabulary size: 96103\n"
          ]
        },
        {
          "name": "stderr",
          "output_type": "stream",
          "text": [
            "\r 10%|█         | 10/100 [02:53<26:06, 17.40s/it]"
          ]
        },
        {
          "name": "stdout",
          "output_type": "stream",
          "text": [
            "torch.Size([2, 81])\n",
            "torch.Size([2, 1024])\n",
            "input_ids shape: torch.Size([2, 1024])\n",
            "max input_ids value: tensor(94811)\n",
            "vocabulary size: 96103\n"
          ]
        },
        {
          "name": "stderr",
          "output_type": "stream",
          "text": [
            "\r 11%|█         | 11/100 [03:10<26:02, 17.56s/it]"
          ]
        },
        {
          "name": "stdout",
          "output_type": "stream",
          "text": [
            "torch.Size([2, 102])\n",
            "torch.Size([2, 1024])\n",
            "input_ids shape: torch.Size([2, 1024])\n",
            "max input_ids value: tensor(90790)\n",
            "vocabulary size: 96103\n"
          ]
        },
        {
          "name": "stderr",
          "output_type": "stream",
          "text": [
            "\r 12%|█▏        | 12/100 [03:28<25:50, 17.62s/it]"
          ]
        },
        {
          "name": "stdout",
          "output_type": "stream",
          "text": [
            "torch.Size([2, 121])\n",
            "torch.Size([2, 1024])\n",
            "input_ids shape: torch.Size([2, 1024])\n",
            "max input_ids value: tensor(95607)\n",
            "vocabulary size: 96103\n"
          ]
        },
        {
          "name": "stderr",
          "output_type": "stream",
          "text": [
            "\r 13%|█▎        | 13/100 [03:46<25:35, 17.66s/it]"
          ]
        },
        {
          "name": "stdout",
          "output_type": "stream",
          "text": [
            "torch.Size([2, 126])\n",
            "torch.Size([2, 1024])\n",
            "input_ids shape: torch.Size([2, 1024])\n",
            "max input_ids value: tensor(94494)\n",
            "vocabulary size: 96103\n"
          ]
        },
        {
          "name": "stderr",
          "output_type": "stream",
          "text": [
            "\r 14%|█▍        | 14/100 [04:04<25:24, 17.73s/it]"
          ]
        },
        {
          "name": "stdout",
          "output_type": "stream",
          "text": [
            "torch.Size([2, 103])\n",
            "torch.Size([2, 1024])\n",
            "input_ids shape: torch.Size([2, 1024])\n",
            "max input_ids value: tensor(93172)\n",
            "vocabulary size: 96103\n"
          ]
        },
        {
          "name": "stderr",
          "output_type": "stream",
          "text": [
            "\r 15%|█▌        | 15/100 [04:22<25:24, 17.94s/it]"
          ]
        },
        {
          "name": "stdout",
          "output_type": "stream",
          "text": [
            "torch.Size([2, 128])\n",
            "torch.Size([2, 1024])\n",
            "input_ids shape: torch.Size([2, 1024])\n",
            "max input_ids value: tensor(95534)\n",
            "vocabulary size: 96103\n"
          ]
        },
        {
          "name": "stderr",
          "output_type": "stream",
          "text": [
            "\r 16%|█▌        | 16/100 [04:40<25:02, 17.89s/it]"
          ]
        },
        {
          "name": "stdout",
          "output_type": "stream",
          "text": [
            "torch.Size([2, 128])\n",
            "torch.Size([2, 1024])\n",
            "input_ids shape: torch.Size([2, 1024])\n",
            "max input_ids value: tensor(95013)\n",
            "vocabulary size: 96103\n"
          ]
        },
        {
          "name": "stderr",
          "output_type": "stream",
          "text": [
            "\r 17%|█▋        | 17/100 [04:58<24:47, 17.93s/it]"
          ]
        },
        {
          "name": "stdout",
          "output_type": "stream",
          "text": [
            "torch.Size([2, 128])\n",
            "torch.Size([2, 1024])\n",
            "input_ids shape: torch.Size([2, 1024])\n",
            "max input_ids value: tensor(91755)\n",
            "vocabulary size: 96103\n"
          ]
        },
        {
          "name": "stderr",
          "output_type": "stream",
          "text": [
            "\r 18%|█▊        | 18/100 [05:16<24:36, 18.01s/it]"
          ]
        },
        {
          "name": "stdout",
          "output_type": "stream",
          "text": [
            "torch.Size([2, 128])\n",
            "torch.Size([2, 1024])\n",
            "input_ids shape: torch.Size([2, 1024])\n",
            "max input_ids value: tensor(93454)\n",
            "vocabulary size: 96103\n"
          ]
        },
        {
          "name": "stderr",
          "output_type": "stream",
          "text": [
            "\r 19%|█▉        | 19/100 [05:36<25:00, 18.53s/it]"
          ]
        },
        {
          "name": "stdout",
          "output_type": "stream",
          "text": [
            "torch.Size([2, 99])\n",
            "torch.Size([2, 1024])\n",
            "input_ids shape: torch.Size([2, 1024])\n",
            "max input_ids value: tensor(92144)\n",
            "vocabulary size: 96103\n"
          ]
        },
        {
          "name": "stderr",
          "output_type": "stream",
          "text": [
            "\r 20%|██        | 20/100 [05:54<24:30, 18.38s/it]"
          ]
        },
        {
          "name": "stdout",
          "output_type": "stream",
          "text": [
            "torch.Size([2, 74])\n",
            "torch.Size([2, 1024])\n",
            "input_ids shape: torch.Size([2, 1024])\n",
            "max input_ids value: tensor(95460)\n",
            "vocabulary size: 96103\n"
          ]
        },
        {
          "name": "stderr",
          "output_type": "stream",
          "text": [
            "\r 21%|██        | 21/100 [06:13<24:14, 18.41s/it]"
          ]
        },
        {
          "name": "stdout",
          "output_type": "stream",
          "text": [
            "torch.Size([2, 89])\n",
            "torch.Size([2, 1024])\n",
            "input_ids shape: torch.Size([2, 1024])\n",
            "max input_ids value: tensor(91955)\n",
            "vocabulary size: 96103\n"
          ]
        },
        {
          "name": "stderr",
          "output_type": "stream",
          "text": [
            "\r 22%|██▏       | 22/100 [06:31<24:04, 18.52s/it]"
          ]
        },
        {
          "name": "stdout",
          "output_type": "stream",
          "text": [
            "torch.Size([2, 105])\n",
            "torch.Size([2, 1024])\n",
            "input_ids shape: torch.Size([2, 1024])\n",
            "max input_ids value: tensor(92172)\n",
            "vocabulary size: 96103\n"
          ]
        },
        {
          "name": "stderr",
          "output_type": "stream",
          "text": [
            "\r 23%|██▎       | 23/100 [06:50<23:48, 18.55s/it]"
          ]
        },
        {
          "name": "stdout",
          "output_type": "stream",
          "text": [
            "torch.Size([2, 128])\n",
            "torch.Size([2, 1024])\n",
            "input_ids shape: torch.Size([2, 1024])\n",
            "max input_ids value: tensor(88550)\n",
            "vocabulary size: 96103\n"
          ]
        },
        {
          "name": "stderr",
          "output_type": "stream",
          "text": [
            "\r 24%|██▍       | 24/100 [07:08<23:22, 18.45s/it]"
          ]
        },
        {
          "name": "stdout",
          "output_type": "stream",
          "text": [
            "torch.Size([2, 85])\n",
            "torch.Size([2, 1024])\n",
            "input_ids shape: torch.Size([2, 1024])\n",
            "max input_ids value: tensor(91274)\n",
            "vocabulary size: 96103\n"
          ]
        },
        {
          "name": "stderr",
          "output_type": "stream",
          "text": [
            "\r 25%|██▌       | 25/100 [07:27<23:09, 18.53s/it]"
          ]
        },
        {
          "name": "stdout",
          "output_type": "stream",
          "text": [
            "torch.Size([2, 128])\n",
            "torch.Size([2, 1024])\n",
            "input_ids shape: torch.Size([2, 1024])\n",
            "max input_ids value: tensor(93338)\n",
            "vocabulary size: 96103\n"
          ]
        },
        {
          "name": "stderr",
          "output_type": "stream",
          "text": [
            "\r 26%|██▌       | 26/100 [07:42<21:34, 17.49s/it]"
          ]
        },
        {
          "name": "stdout",
          "output_type": "stream",
          "text": [
            "torch.Size([2, 96])\n",
            "torch.Size([2, 1024])\n",
            "input_ids shape: torch.Size([2, 1024])\n",
            "max input_ids value: tensor(87608)\n",
            "vocabulary size: 96103\n"
          ]
        },
        {
          "name": "stderr",
          "output_type": "stream",
          "text": [
            "\r 27%|██▋       | 27/100 [08:00<21:20, 17.54s/it]"
          ]
        },
        {
          "name": "stdout",
          "output_type": "stream",
          "text": [
            "torch.Size([2, 52])\n",
            "torch.Size([2, 1024])\n",
            "input_ids shape: torch.Size([2, 1024])\n",
            "max input_ids value: tensor(87023)\n",
            "vocabulary size: 96103\n"
          ]
        },
        {
          "name": "stderr",
          "output_type": "stream",
          "text": [
            "\r 28%|██▊       | 28/100 [08:18<21:21, 17.80s/it]"
          ]
        },
        {
          "name": "stdout",
          "output_type": "stream",
          "text": [
            "torch.Size([2, 100])\n",
            "torch.Size([2, 1024])\n",
            "input_ids shape: torch.Size([2, 1024])\n",
            "max input_ids value: tensor(82016)\n",
            "vocabulary size: 96103\n"
          ]
        },
        {
          "name": "stderr",
          "output_type": "stream",
          "text": [
            "\r 29%|██▉       | 29/100 [08:36<21:05, 17.83s/it]"
          ]
        },
        {
          "name": "stdout",
          "output_type": "stream",
          "text": [
            "torch.Size([2, 75])\n",
            "torch.Size([2, 1024])\n",
            "input_ids shape: torch.Size([2, 1024])\n",
            "max input_ids value: tensor(91223)\n",
            "vocabulary size: 96103\n"
          ]
        },
        {
          "name": "stderr",
          "output_type": "stream",
          "text": [
            "\r 30%|███       | 30/100 [08:54<20:49, 17.85s/it]"
          ]
        },
        {
          "name": "stdout",
          "output_type": "stream",
          "text": [
            "torch.Size([2, 128])\n",
            "torch.Size([2, 1024])\n",
            "input_ids shape: torch.Size([2, 1024])\n",
            "max input_ids value: tensor(95379)\n",
            "vocabulary size: 96103\n"
          ]
        },
        {
          "name": "stderr",
          "output_type": "stream",
          "text": [
            "\r 31%|███       | 31/100 [09:08<19:19, 16.80s/it]"
          ]
        },
        {
          "name": "stdout",
          "output_type": "stream",
          "text": [
            "torch.Size([2, 63])\n",
            "torch.Size([2, 1024])\n",
            "input_ids shape: torch.Size([2, 1024])\n",
            "max input_ids value: tensor(94207)\n",
            "vocabulary size: 96103\n"
          ]
        },
        {
          "name": "stderr",
          "output_type": "stream",
          "text": [
            "\r 32%|███▏      | 32/100 [09:26<19:22, 17.10s/it]"
          ]
        },
        {
          "name": "stdout",
          "output_type": "stream",
          "text": [
            "torch.Size([2, 68])\n",
            "torch.Size([2, 1024])\n",
            "input_ids shape: torch.Size([2, 1024])\n",
            "max input_ids value: tensor(95722)\n",
            "vocabulary size: 96103\n"
          ]
        },
        {
          "name": "stderr",
          "output_type": "stream",
          "text": [
            "\r 33%|███▎      | 33/100 [09:44<19:34, 17.52s/it]"
          ]
        },
        {
          "name": "stdout",
          "output_type": "stream",
          "text": [
            "torch.Size([2, 70])\n",
            "torch.Size([2, 1024])\n",
            "input_ids shape: torch.Size([2, 1024])\n",
            "max input_ids value: tensor(95775)\n",
            "vocabulary size: 96103\n"
          ]
        },
        {
          "name": "stderr",
          "output_type": "stream",
          "text": [
            "\r 34%|███▍      | 34/100 [10:04<19:54, 18.11s/it]"
          ]
        },
        {
          "name": "stdout",
          "output_type": "stream",
          "text": [
            "torch.Size([2, 90])\n",
            "torch.Size([2, 1024])\n",
            "input_ids shape: torch.Size([2, 1024])\n",
            "max input_ids value: tensor(92627)\n",
            "vocabulary size: 96103\n"
          ]
        },
        {
          "name": "stderr",
          "output_type": "stream",
          "text": [
            "\r 35%|███▌      | 35/100 [10:23<19:58, 18.44s/it]"
          ]
        },
        {
          "name": "stdout",
          "output_type": "stream",
          "text": [
            "torch.Size([2, 39])\n",
            "torch.Size([2, 1024])\n",
            "input_ids shape: torch.Size([2, 1024])\n",
            "max input_ids value: tensor(90892)\n",
            "vocabulary size: 96103\n"
          ]
        },
        {
          "name": "stderr",
          "output_type": "stream",
          "text": [
            "\r 36%|███▌      | 36/100 [10:41<19:31, 18.30s/it]"
          ]
        },
        {
          "name": "stdout",
          "output_type": "stream",
          "text": [
            "torch.Size([2, 70])\n",
            "torch.Size([2, 1024])\n",
            "input_ids shape: torch.Size([2, 1024])\n",
            "max input_ids value: tensor(94709)\n",
            "vocabulary size: 96103\n"
          ]
        },
        {
          "name": "stderr",
          "output_type": "stream",
          "text": [
            "\r 37%|███▋      | 37/100 [10:56<18:14, 17.38s/it]"
          ]
        },
        {
          "name": "stdout",
          "output_type": "stream",
          "text": [
            "torch.Size([2, 83])\n",
            "torch.Size([2, 1024])\n",
            "input_ids shape: torch.Size([2, 1024])\n",
            "max input_ids value: tensor(87002)\n",
            "vocabulary size: 96103\n"
          ]
        },
        {
          "name": "stderr",
          "output_type": "stream",
          "text": [
            "\r 38%|███▊      | 38/100 [11:20<20:00, 19.37s/it]"
          ]
        },
        {
          "name": "stdout",
          "output_type": "stream",
          "text": [
            "torch.Size([2, 120])\n",
            "torch.Size([2, 1024])\n",
            "input_ids shape: torch.Size([2, 1024])\n",
            "max input_ids value: tensor(92818)\n",
            "vocabulary size: 96103\n"
          ]
        },
        {
          "name": "stderr",
          "output_type": "stream",
          "text": [
            "\r 39%|███▉      | 39/100 [11:41<20:11, 19.86s/it]"
          ]
        },
        {
          "name": "stdout",
          "output_type": "stream",
          "text": [
            "torch.Size([2, 104])\n",
            "torch.Size([2, 1024])\n",
            "input_ids shape: torch.Size([2, 1024])\n",
            "max input_ids value: tensor(94872)\n",
            "vocabulary size: 96103\n"
          ]
        },
        {
          "name": "stderr",
          "output_type": "stream",
          "text": [
            "\r 40%|████      | 40/100 [12:02<20:02, 20.04s/it]"
          ]
        },
        {
          "name": "stdout",
          "output_type": "stream",
          "text": [
            "torch.Size([2, 109])\n",
            "torch.Size([2, 1024])\n",
            "input_ids shape: torch.Size([2, 1024])\n",
            "max input_ids value: tensor(92539)\n",
            "vocabulary size: 96103\n"
          ]
        },
        {
          "name": "stderr",
          "output_type": "stream",
          "text": [
            "\r 41%|████      | 41/100 [12:23<20:09, 20.50s/it]"
          ]
        },
        {
          "name": "stdout",
          "output_type": "stream",
          "text": [
            "torch.Size([2, 78])\n",
            "torch.Size([2, 1024])\n",
            "input_ids shape: torch.Size([2, 1024])\n",
            "max input_ids value: tensor(95616)\n",
            "vocabulary size: 96103\n"
          ]
        },
        {
          "name": "stderr",
          "output_type": "stream",
          "text": [
            "\r 42%|████▏     | 42/100 [12:45<20:11, 20.89s/it]"
          ]
        },
        {
          "name": "stdout",
          "output_type": "stream",
          "text": [
            "torch.Size([2, 91])\n",
            "torch.Size([2, 1024])\n",
            "input_ids shape: torch.Size([2, 1024])\n",
            "max input_ids value: tensor(90423)\n",
            "vocabulary size: 96103\n"
          ]
        },
        {
          "name": "stderr",
          "output_type": "stream",
          "text": [
            "\r 43%|████▎     | 43/100 [13:04<19:08, 20.15s/it]"
          ]
        },
        {
          "name": "stdout",
          "output_type": "stream",
          "text": [
            "torch.Size([2, 46])\n",
            "torch.Size([2, 1024])\n",
            "input_ids shape: torch.Size([2, 1024])\n",
            "max input_ids value: tensor(89061)\n",
            "vocabulary size: 96103\n"
          ]
        },
        {
          "name": "stderr",
          "output_type": "stream",
          "text": [
            "\r 44%|████▍     | 44/100 [13:27<19:50, 21.25s/it]"
          ]
        },
        {
          "name": "stdout",
          "output_type": "stream",
          "text": [
            "torch.Size([2, 128])\n",
            "torch.Size([2, 1024])\n",
            "input_ids shape: torch.Size([2, 1024])\n",
            "max input_ids value: tensor(89875)\n",
            "vocabulary size: 96103\n"
          ]
        },
        {
          "name": "stderr",
          "output_type": "stream",
          "text": [
            "\r 45%|████▌     | 45/100 [13:50<19:45, 21.56s/it]"
          ]
        },
        {
          "name": "stdout",
          "output_type": "stream",
          "text": [
            "torch.Size([2, 128])\n",
            "torch.Size([2, 1024])\n",
            "input_ids shape: torch.Size([2, 1024])\n",
            "max input_ids value: tensor(82547)\n",
            "vocabulary size: 96103\n"
          ]
        },
        {
          "name": "stderr",
          "output_type": "stream",
          "text": [
            "\r 46%|████▌     | 46/100 [14:11<19:16, 21.41s/it]"
          ]
        },
        {
          "name": "stdout",
          "output_type": "stream",
          "text": [
            "torch.Size([2, 94])\n",
            "torch.Size([2, 1024])\n",
            "input_ids shape: torch.Size([2, 1024])\n",
            "max input_ids value: tensor(89146)\n",
            "vocabulary size: 96103\n"
          ]
        },
        {
          "name": "stderr",
          "output_type": "stream",
          "text": [
            "\r 47%|████▋     | 47/100 [14:35<19:39, 22.25s/it]"
          ]
        },
        {
          "name": "stdout",
          "output_type": "stream",
          "text": [
            "torch.Size([2, 85])\n",
            "torch.Size([2, 1024])\n",
            "input_ids shape: torch.Size([2, 1024])\n",
            "max input_ids value: tensor(95659)\n",
            "vocabulary size: 96103\n"
          ]
        },
        {
          "name": "stderr",
          "output_type": "stream",
          "text": [
            "\r 48%|████▊     | 48/100 [15:00<19:58, 23.05s/it]"
          ]
        },
        {
          "name": "stdout",
          "output_type": "stream",
          "text": [
            "torch.Size([2, 128])\n",
            "torch.Size([2, 1024])\n",
            "input_ids shape: torch.Size([2, 1024])\n",
            "max input_ids value: tensor(90444)\n",
            "vocabulary size: 96103\n"
          ]
        },
        {
          "name": "stderr",
          "output_type": "stream",
          "text": [
            "\r 49%|████▉     | 49/100 [15:25<20:01, 23.56s/it]"
          ]
        },
        {
          "name": "stdout",
          "output_type": "stream",
          "text": [
            "torch.Size([2, 128])\n",
            "torch.Size([2, 1024])\n",
            "input_ids shape: torch.Size([2, 1024])\n",
            "max input_ids value: tensor(94712)\n",
            "vocabulary size: 96103\n"
          ]
        },
        {
          "name": "stderr",
          "output_type": "stream",
          "text": [
            "\r 50%|█████     | 50/100 [15:47<19:27, 23.35s/it]"
          ]
        },
        {
          "name": "stdout",
          "output_type": "stream",
          "text": [
            "torch.Size([2, 67])\n",
            "torch.Size([2, 1024])\n",
            "input_ids shape: torch.Size([2, 1024])\n",
            "max input_ids value: tensor(83695)\n",
            "vocabulary size: 96103\n"
          ]
        },
        {
          "name": "stderr",
          "output_type": "stream",
          "text": [
            "\r 51%|█████     | 51/100 [16:09<18:44, 22.95s/it]"
          ]
        },
        {
          "name": "stdout",
          "output_type": "stream",
          "text": [
            "torch.Size([2, 97])\n",
            "torch.Size([2, 1024])\n",
            "input_ids shape: torch.Size([2, 1024])\n",
            "max input_ids value: tensor(87185)\n",
            "vocabulary size: 96103\n"
          ]
        },
        {
          "name": "stderr",
          "output_type": "stream",
          "text": [
            "\r 52%|█████▏    | 52/100 [16:32<18:13, 22.78s/it]"
          ]
        },
        {
          "name": "stdout",
          "output_type": "stream",
          "text": [
            "torch.Size([2, 128])\n",
            "torch.Size([2, 1024])\n",
            "input_ids shape: torch.Size([2, 1024])\n",
            "max input_ids value: tensor(95642)\n",
            "vocabulary size: 96103\n"
          ]
        },
        {
          "name": "stderr",
          "output_type": "stream",
          "text": [
            "\r 53%|█████▎    | 53/100 [16:55<17:53, 22.84s/it]"
          ]
        },
        {
          "name": "stdout",
          "output_type": "stream",
          "text": [
            "torch.Size([2, 109])\n",
            "torch.Size([2, 1024])\n",
            "input_ids shape: torch.Size([2, 1024])\n",
            "max input_ids value: tensor(94229)\n",
            "vocabulary size: 96103\n"
          ]
        },
        {
          "name": "stderr",
          "output_type": "stream",
          "text": [
            "\r 54%|█████▍    | 54/100 [17:17<17:25, 22.73s/it]"
          ]
        },
        {
          "name": "stdout",
          "output_type": "stream",
          "text": [
            "torch.Size([2, 56])\n",
            "torch.Size([2, 1024])\n",
            "input_ids shape: torch.Size([2, 1024])\n",
            "max input_ids value: tensor(92614)\n",
            "vocabulary size: 96103\n"
          ]
        },
        {
          "name": "stderr",
          "output_type": "stream",
          "text": [
            "\r 55%|█████▌    | 55/100 [17:40<17:05, 22.80s/it]"
          ]
        },
        {
          "name": "stdout",
          "output_type": "stream",
          "text": [
            "torch.Size([2, 47])\n",
            "torch.Size([2, 1024])\n",
            "input_ids shape: torch.Size([2, 1024])\n",
            "max input_ids value: tensor(95341)\n",
            "vocabulary size: 96103\n"
          ]
        },
        {
          "name": "stderr",
          "output_type": "stream",
          "text": [
            "\r 56%|█████▌    | 56/100 [18:06<17:17, 23.57s/it]"
          ]
        },
        {
          "name": "stdout",
          "output_type": "stream",
          "text": [
            "torch.Size([2, 94])\n",
            "torch.Size([2, 1024])\n",
            "input_ids shape: torch.Size([2, 1024])\n",
            "max input_ids value: tensor(92719)\n",
            "vocabulary size: 96103\n"
          ]
        },
        {
          "name": "stderr",
          "output_type": "stream",
          "text": [
            "\r 57%|█████▋    | 57/100 [18:28<16:31, 23.06s/it]"
          ]
        },
        {
          "name": "stdout",
          "output_type": "stream",
          "text": [
            "torch.Size([2, 71])\n",
            "torch.Size([2, 1024])\n",
            "input_ids shape: torch.Size([2, 1024])\n",
            "max input_ids value: tensor(89703)\n",
            "vocabulary size: 96103\n"
          ]
        },
        {
          "name": "stderr",
          "output_type": "stream",
          "text": [
            "\r 58%|█████▊    | 58/100 [18:48<15:30, 22.15s/it]"
          ]
        },
        {
          "name": "stdout",
          "output_type": "stream",
          "text": [
            "torch.Size([2, 93])\n",
            "torch.Size([2, 1024])\n",
            "input_ids shape: torch.Size([2, 1024])\n",
            "max input_ids value: tensor(89786)\n",
            "vocabulary size: 96103\n"
          ]
        },
        {
          "name": "stderr",
          "output_type": "stream",
          "text": [
            "\r 59%|█████▉    | 59/100 [19:09<15:05, 22.08s/it]"
          ]
        },
        {
          "name": "stdout",
          "output_type": "stream",
          "text": [
            "torch.Size([2, 105])\n",
            "torch.Size([2, 1024])\n",
            "input_ids shape: torch.Size([2, 1024])\n",
            "max input_ids value: tensor(81991)\n",
            "vocabulary size: 96103\n"
          ]
        },
        {
          "name": "stderr",
          "output_type": "stream",
          "text": [
            "\r 60%|██████    | 60/100 [19:32<14:44, 22.12s/it]"
          ]
        },
        {
          "name": "stdout",
          "output_type": "stream",
          "text": [
            "torch.Size([2, 89])\n",
            "torch.Size([2, 1024])\n",
            "input_ids shape: torch.Size([2, 1024])\n",
            "max input_ids value: tensor(82274)\n",
            "vocabulary size: 96103\n"
          ]
        },
        {
          "name": "stderr",
          "output_type": "stream",
          "text": [
            "\r 61%|██████    | 61/100 [19:54<14:26, 22.22s/it]"
          ]
        },
        {
          "name": "stdout",
          "output_type": "stream",
          "text": [
            "torch.Size([2, 71])\n",
            "torch.Size([2, 1024])\n",
            "input_ids shape: torch.Size([2, 1024])\n",
            "max input_ids value: tensor(92025)\n",
            "vocabulary size: 96103\n"
          ]
        },
        {
          "name": "stderr",
          "output_type": "stream",
          "text": [
            "\r 62%|██████▏   | 62/100 [20:16<13:56, 22.02s/it]"
          ]
        },
        {
          "name": "stdout",
          "output_type": "stream",
          "text": [
            "torch.Size([2, 128])\n",
            "torch.Size([2, 1024])\n",
            "input_ids shape: torch.Size([2, 1024])\n",
            "max input_ids value: tensor(94429)\n",
            "vocabulary size: 96103\n"
          ]
        },
        {
          "name": "stderr",
          "output_type": "stream",
          "text": [
            "\r 63%|██████▎   | 63/100 [20:36<13:15, 21.50s/it]"
          ]
        },
        {
          "name": "stdout",
          "output_type": "stream",
          "text": [
            "torch.Size([2, 101])\n",
            "torch.Size([2, 1024])\n",
            "input_ids shape: torch.Size([2, 1024])\n",
            "max input_ids value: tensor(92771)\n",
            "vocabulary size: 96103\n"
          ]
        },
        {
          "name": "stderr",
          "output_type": "stream",
          "text": [
            "\r 64%|██████▍   | 64/100 [20:57<12:50, 21.40s/it]"
          ]
        },
        {
          "name": "stdout",
          "output_type": "stream",
          "text": [
            "torch.Size([2, 128])\n",
            "torch.Size([2, 1024])\n",
            "input_ids shape: torch.Size([2, 1024])\n",
            "max input_ids value: tensor(77960)\n",
            "vocabulary size: 96103\n"
          ]
        },
        {
          "name": "stderr",
          "output_type": "stream",
          "text": [
            "\r 65%|██████▌   | 65/100 [21:18<12:22, 21.22s/it]"
          ]
        },
        {
          "name": "stdout",
          "output_type": "stream",
          "text": [
            "torch.Size([2, 128])\n",
            "torch.Size([2, 1024])\n",
            "input_ids shape: torch.Size([2, 1024])\n",
            "max input_ids value: tensor(95386)\n",
            "vocabulary size: 96103\n"
          ]
        },
        {
          "name": "stderr",
          "output_type": "stream",
          "text": [
            "\r 66%|██████▌   | 66/100 [21:43<12:38, 22.32s/it]"
          ]
        },
        {
          "name": "stdout",
          "output_type": "stream",
          "text": [
            "torch.Size([2, 85])\n",
            "torch.Size([2, 1024])\n",
            "input_ids shape: torch.Size([2, 1024])\n",
            "max input_ids value: tensor(90981)\n",
            "vocabulary size: 96103\n"
          ]
        },
        {
          "name": "stderr",
          "output_type": "stream",
          "text": [
            "\r 67%|██████▋   | 67/100 [22:07<12:33, 22.83s/it]"
          ]
        },
        {
          "name": "stdout",
          "output_type": "stream",
          "text": [
            "torch.Size([2, 82])\n",
            "torch.Size([2, 1024])\n",
            "input_ids shape: torch.Size([2, 1024])\n",
            "max input_ids value: tensor(86695)\n",
            "vocabulary size: 96103\n"
          ]
        },
        {
          "name": "stderr",
          "output_type": "stream",
          "text": [
            "\r 68%|██████▊   | 68/100 [22:28<11:52, 22.25s/it]"
          ]
        },
        {
          "name": "stdout",
          "output_type": "stream",
          "text": [
            "torch.Size([2, 128])\n",
            "torch.Size([2, 1024])\n",
            "input_ids shape: torch.Size([2, 1024])\n",
            "max input_ids value: tensor(93338)\n",
            "vocabulary size: 96103\n"
          ]
        },
        {
          "name": "stderr",
          "output_type": "stream",
          "text": [
            "\r 69%|██████▉   | 69/100 [22:49<11:17, 21.86s/it]"
          ]
        },
        {
          "name": "stdout",
          "output_type": "stream",
          "text": [
            "torch.Size([2, 53])\n",
            "torch.Size([2, 1024])\n",
            "input_ids shape: torch.Size([2, 1024])\n",
            "max input_ids value: tensor(87158)\n",
            "vocabulary size: 96103\n"
          ]
        },
        {
          "name": "stderr",
          "output_type": "stream",
          "text": [
            "\r 70%|███████   | 70/100 [23:04<09:59, 19.98s/it]"
          ]
        },
        {
          "name": "stdout",
          "output_type": "stream",
          "text": [
            "torch.Size([2, 60])\n",
            "torch.Size([2, 1024])\n",
            "input_ids shape: torch.Size([2, 1024])\n",
            "max input_ids value: tensor(92106)\n",
            "vocabulary size: 96103\n"
          ]
        },
        {
          "name": "stderr",
          "output_type": "stream",
          "text": [
            "\r 71%|███████   | 71/100 [23:24<09:40, 20.02s/it]"
          ]
        },
        {
          "name": "stdout",
          "output_type": "stream",
          "text": [
            "torch.Size([2, 128])\n",
            "torch.Size([2, 1024])\n",
            "input_ids shape: torch.Size([2, 1024])\n",
            "max input_ids value: tensor(92325)\n",
            "vocabulary size: 96103\n"
          ]
        },
        {
          "name": "stderr",
          "output_type": "stream",
          "text": [
            "\r 72%|███████▏  | 72/100 [23:40<08:42, 18.67s/it]"
          ]
        },
        {
          "name": "stdout",
          "output_type": "stream",
          "text": [
            "torch.Size([2, 56])\n",
            "torch.Size([2, 1024])\n",
            "input_ids shape: torch.Size([2, 1024])\n",
            "max input_ids value: tensor(94815)\n",
            "vocabulary size: 96103\n"
          ]
        },
        {
          "name": "stderr",
          "output_type": "stream",
          "text": [
            "\r 73%|███████▎  | 73/100 [23:58<08:17, 18.42s/it]"
          ]
        },
        {
          "name": "stdout",
          "output_type": "stream",
          "text": [
            "torch.Size([2, 81])\n",
            "torch.Size([2, 1024])\n",
            "input_ids shape: torch.Size([2, 1024])\n",
            "max input_ids value: tensor(93673)\n",
            "vocabulary size: 96103\n"
          ]
        },
        {
          "name": "stderr",
          "output_type": "stream",
          "text": [
            "\r 74%|███████▍  | 74/100 [24:23<08:48, 20.34s/it]"
          ]
        },
        {
          "name": "stdout",
          "output_type": "stream",
          "text": [
            "torch.Size([2, 101])\n",
            "torch.Size([2, 1024])\n",
            "input_ids shape: torch.Size([2, 1024])\n",
            "max input_ids value: tensor(90091)\n",
            "vocabulary size: 96103\n"
          ]
        },
        {
          "name": "stderr",
          "output_type": "stream",
          "text": [
            "\r 75%|███████▌  | 75/100 [24:45<08:41, 20.86s/it]"
          ]
        },
        {
          "name": "stdout",
          "output_type": "stream",
          "text": [
            "torch.Size([2, 122])\n",
            "torch.Size([2, 1024])\n",
            "input_ids shape: torch.Size([2, 1024])\n",
            "max input_ids value: tensor(92726)\n",
            "vocabulary size: 96103\n"
          ]
        },
        {
          "name": "stderr",
          "output_type": "stream",
          "text": [
            "\r 76%|███████▌  | 76/100 [25:04<08:13, 20.56s/it]"
          ]
        },
        {
          "name": "stdout",
          "output_type": "stream",
          "text": [
            "torch.Size([2, 113])\n",
            "torch.Size([2, 1024])\n",
            "input_ids shape: torch.Size([2, 1024])\n",
            "max input_ids value: tensor(89723)\n",
            "vocabulary size: 96103\n"
          ]
        },
        {
          "name": "stderr",
          "output_type": "stream",
          "text": [
            "\r 77%|███████▋  | 77/100 [25:24<07:48, 20.39s/it]"
          ]
        },
        {
          "name": "stdout",
          "output_type": "stream",
          "text": [
            "torch.Size([2, 71])\n",
            "torch.Size([2, 1024])\n",
            "input_ids shape: torch.Size([2, 1024])\n",
            "max input_ids value: tensor(93262)\n",
            "vocabulary size: 96103\n"
          ]
        },
        {
          "name": "stderr",
          "output_type": "stream",
          "text": [
            "\r 78%|███████▊  | 78/100 [25:43<07:18, 19.91s/it]"
          ]
        },
        {
          "name": "stdout",
          "output_type": "stream",
          "text": [
            "torch.Size([2, 116])\n",
            "torch.Size([2, 1024])\n",
            "input_ids shape: torch.Size([2, 1024])\n",
            "max input_ids value: tensor(85528)\n",
            "vocabulary size: 96103\n"
          ]
        },
        {
          "name": "stderr",
          "output_type": "stream",
          "text": [
            "\r 79%|███████▉  | 79/100 [26:04<07:00, 20.03s/it]"
          ]
        },
        {
          "name": "stdout",
          "output_type": "stream",
          "text": [
            "torch.Size([2, 70])\n",
            "torch.Size([2, 1024])\n",
            "input_ids shape: torch.Size([2, 1024])\n",
            "max input_ids value: tensor(95775)\n",
            "vocabulary size: 96103\n"
          ]
        },
        {
          "name": "stderr",
          "output_type": "stream",
          "text": [
            "\r 80%|████████  | 80/100 [26:24<06:42, 20.12s/it]"
          ]
        },
        {
          "name": "stdout",
          "output_type": "stream",
          "text": [
            "torch.Size([2, 82])\n",
            "torch.Size([2, 1024])\n",
            "input_ids shape: torch.Size([2, 1024])\n",
            "max input_ids value: tensor(94136)\n",
            "vocabulary size: 96103\n"
          ]
        },
        {
          "name": "stderr",
          "output_type": "stream",
          "text": [
            "\r 81%|████████  | 81/100 [26:44<06:22, 20.13s/it]"
          ]
        },
        {
          "name": "stdout",
          "output_type": "stream",
          "text": [
            "torch.Size([2, 116])\n",
            "torch.Size([2, 1024])\n",
            "input_ids shape: torch.Size([2, 1024])\n",
            "max input_ids value: tensor(95134)\n",
            "vocabulary size: 96103\n"
          ]
        },
        {
          "name": "stderr",
          "output_type": "stream",
          "text": [
            "\r 82%|████████▏ | 82/100 [26:59<05:34, 18.56s/it]"
          ]
        },
        {
          "name": "stdout",
          "output_type": "stream",
          "text": [
            "torch.Size([2, 69])\n",
            "torch.Size([2, 1024])\n",
            "input_ids shape: torch.Size([2, 1024])\n",
            "max input_ids value: tensor(95103)\n",
            "vocabulary size: 96103\n"
          ]
        },
        {
          "name": "stderr",
          "output_type": "stream",
          "text": [
            "\r 83%|████████▎ | 83/100 [27:21<05:31, 19.50s/it]"
          ]
        },
        {
          "name": "stdout",
          "output_type": "stream",
          "text": [
            "torch.Size([2, 72])\n",
            "torch.Size([2, 1024])\n",
            "input_ids shape: torch.Size([2, 1024])\n",
            "max input_ids value: tensor(91999)\n",
            "vocabulary size: 96103\n"
          ]
        },
        {
          "name": "stderr",
          "output_type": "stream",
          "text": [
            "\r 84%|████████▍ | 84/100 [27:35<04:49, 18.09s/it]"
          ]
        },
        {
          "name": "stdout",
          "output_type": "stream",
          "text": [
            "torch.Size([2, 87])\n",
            "torch.Size([2, 1024])\n",
            "input_ids shape: torch.Size([2, 1024])\n",
            "max input_ids value: tensor(93872)\n",
            "vocabulary size: 96103\n"
          ]
        },
        {
          "name": "stderr",
          "output_type": "stream",
          "text": [
            "\r 85%|████████▌ | 85/100 [27:55<04:35, 18.38s/it]"
          ]
        },
        {
          "name": "stdout",
          "output_type": "stream",
          "text": [
            "torch.Size([2, 99])\n",
            "torch.Size([2, 1024])\n",
            "input_ids shape: torch.Size([2, 1024])\n",
            "max input_ids value: tensor(90919)\n",
            "vocabulary size: 96103\n"
          ]
        },
        {
          "name": "stderr",
          "output_type": "stream",
          "text": [
            "\r 86%|████████▌ | 86/100 [28:14<04:22, 18.72s/it]"
          ]
        },
        {
          "name": "stdout",
          "output_type": "stream",
          "text": [
            "torch.Size([2, 114])\n",
            "torch.Size([2, 1024])\n",
            "input_ids shape: torch.Size([2, 1024])\n",
            "max input_ids value: tensor(88366)\n",
            "vocabulary size: 96103\n"
          ]
        },
        {
          "name": "stderr",
          "output_type": "stream",
          "text": [
            "\r 87%|████████▋ | 87/100 [28:37<04:20, 20.01s/it]"
          ]
        },
        {
          "name": "stdout",
          "output_type": "stream",
          "text": [
            "torch.Size([2, 105])\n",
            "torch.Size([2, 1024])\n",
            "input_ids shape: torch.Size([2, 1024])\n",
            "max input_ids value: tensor(90955)\n",
            "vocabulary size: 96103\n"
          ]
        },
        {
          "name": "stderr",
          "output_type": "stream",
          "text": [
            "\r 88%|████████▊ | 88/100 [29:01<04:15, 21.32s/it]"
          ]
        },
        {
          "name": "stdout",
          "output_type": "stream",
          "text": [
            "torch.Size([2, 110])\n",
            "torch.Size([2, 1024])\n",
            "input_ids shape: torch.Size([2, 1024])\n",
            "max input_ids value: tensor(88057)\n",
            "vocabulary size: 96103\n"
          ]
        },
        {
          "name": "stderr",
          "output_type": "stream",
          "text": [
            "\r 89%|████████▉ | 89/100 [29:30<04:18, 23.54s/it]"
          ]
        },
        {
          "name": "stdout",
          "output_type": "stream",
          "text": [
            "torch.Size([2, 112])\n",
            "torch.Size([2, 1024])\n",
            "input_ids shape: torch.Size([2, 1024])\n",
            "max input_ids value: tensor(94393)\n",
            "vocabulary size: 96103\n"
          ]
        },
        {
          "name": "stderr",
          "output_type": "stream",
          "text": [
            "\r 90%|█████████ | 90/100 [29:41<03:18, 19.86s/it]"
          ]
        },
        {
          "name": "stdout",
          "output_type": "stream",
          "text": [
            "torch.Size([2, 70])\n",
            "torch.Size([2, 1024])\n",
            "input_ids shape: torch.Size([2, 1024])\n",
            "max input_ids value: tensor(91133)\n",
            "vocabulary size: 96103\n"
          ]
        },
        {
          "name": "stderr",
          "output_type": "stream",
          "text": [
            "\r 91%|█████████ | 91/100 [29:59<02:53, 19.26s/it]"
          ]
        },
        {
          "name": "stdout",
          "output_type": "stream",
          "text": [
            "torch.Size([2, 96])\n",
            "torch.Size([2, 1024])\n",
            "input_ids shape: torch.Size([2, 1024])\n",
            "max input_ids value: tensor(95134)\n",
            "vocabulary size: 96103\n"
          ]
        },
        {
          "name": "stderr",
          "output_type": "stream",
          "text": [
            "\r 92%|█████████▏| 92/100 [30:17<02:30, 18.85s/it]"
          ]
        },
        {
          "name": "stdout",
          "output_type": "stream",
          "text": [
            "torch.Size([2, 86])\n",
            "torch.Size([2, 1024])\n",
            "input_ids shape: torch.Size([2, 1024])\n",
            "max input_ids value: tensor(78243)\n",
            "vocabulary size: 96103\n"
          ]
        },
        {
          "name": "stderr",
          "output_type": "stream",
          "text": [
            "\r 93%|█████████▎| 93/100 [30:35<02:10, 18.58s/it]"
          ]
        },
        {
          "name": "stdout",
          "output_type": "stream",
          "text": [
            "torch.Size([2, 86])\n",
            "torch.Size([2, 1024])\n",
            "input_ids shape: torch.Size([2, 1024])\n",
            "max input_ids value: tensor(88125)\n",
            "vocabulary size: 96103\n"
          ]
        },
        {
          "name": "stderr",
          "output_type": "stream",
          "text": [
            "\r 94%|█████████▍| 94/100 [30:45<01:36, 16.05s/it]"
          ]
        },
        {
          "name": "stdout",
          "output_type": "stream",
          "text": [
            "torch.Size([2, 48])\n",
            "torch.Size([2, 1024])\n",
            "input_ids shape: torch.Size([2, 1024])\n",
            "max input_ids value: tensor(90254)\n",
            "vocabulary size: 96103\n"
          ]
        },
        {
          "name": "stderr",
          "output_type": "stream",
          "text": [
            "\r 95%|█████████▌| 95/100 [30:59<01:17, 15.40s/it]"
          ]
        },
        {
          "name": "stdout",
          "output_type": "stream",
          "text": [
            "torch.Size([2, 78])\n",
            "torch.Size([2, 1024])\n",
            "input_ids shape: torch.Size([2, 1024])\n",
            "max input_ids value: tensor(89872)\n",
            "vocabulary size: 96103\n"
          ]
        },
        {
          "name": "stderr",
          "output_type": "stream",
          "text": [
            "\r 96%|█████████▌| 96/100 [31:17<01:05, 16.27s/it]"
          ]
        },
        {
          "name": "stdout",
          "output_type": "stream",
          "text": [
            "torch.Size([2, 93])\n",
            "torch.Size([2, 1024])\n",
            "input_ids shape: torch.Size([2, 1024])\n",
            "max input_ids value: tensor(93615)\n",
            "vocabulary size: 96103\n"
          ]
        },
        {
          "name": "stderr",
          "output_type": "stream",
          "text": [
            "\r 97%|█████████▋| 97/100 [31:36<00:50, 16.90s/it]"
          ]
        },
        {
          "name": "stdout",
          "output_type": "stream",
          "text": [
            "torch.Size([2, 50])\n",
            "torch.Size([2, 1024])\n",
            "input_ids shape: torch.Size([2, 1024])\n",
            "max input_ids value: tensor(85793)\n",
            "vocabulary size: 96103\n"
          ]
        },
        {
          "name": "stderr",
          "output_type": "stream",
          "text": [
            "\r 98%|█████████▊| 98/100 [31:54<00:34, 17.32s/it]"
          ]
        },
        {
          "name": "stdout",
          "output_type": "stream",
          "text": [
            "torch.Size([2, 40])\n",
            "torch.Size([2, 1024])\n",
            "input_ids shape: torch.Size([2, 1024])\n",
            "max input_ids value: tensor(92542)\n",
            "vocabulary size: 96103\n"
          ]
        },
        {
          "name": "stderr",
          "output_type": "stream",
          "text": [
            "\r 99%|█████████▉| 99/100 [32:07<00:15, 15.86s/it]"
          ]
        },
        {
          "name": "stdout",
          "output_type": "stream",
          "text": [
            "torch.Size([2, 55])\n",
            "torch.Size([2, 1024])\n",
            "input_ids shape: torch.Size([2, 1024])\n",
            "max input_ids value: tensor(91219)\n",
            "vocabulary size: 96103\n"
          ]
        },
        {
          "name": "stderr",
          "output_type": "stream",
          "text": [
            "100%|██████████| 100/100 [32:24<00:00, 19.45s/it]"
          ]
        },
        {
          "name": "stdout",
          "output_type": "stream",
          "text": [
            "torch.Size([2, 100])\n",
            "torch.Size([2, 1024])\n"
          ]
        },
        {
          "name": "stderr",
          "output_type": "stream",
          "text": [
            "\n"
          ]
        },
        {
          "data": {
            "text/html": [
              "\n",
              "  <div id=\"df-2947c29a-33a4-47e9-9390-e076b3938c0f\">\n",
              "    <div class=\"colab-df-container\">\n",
              "      <div>\n",
              "<style scoped>\n",
              "    .dataframe tbody tr th:only-of-type {\n",
              "        vertical-align: middle;\n",
              "    }\n",
              "\n",
              "    .dataframe tbody tr th {\n",
              "        vertical-align: top;\n",
              "    }\n",
              "\n",
              "    .dataframe thead th {\n",
              "        text-align: right;\n",
              "    }\n",
              "</style>\n",
              "<table border=\"1\" class=\"dataframe\">\n",
              "  <thead>\n",
              "    <tr style=\"text-align: right;\">\n",
              "      <th></th>\n",
              "      <th>rouge1</th>\n",
              "      <th>rouge2</th>\n",
              "      <th>rougeL</th>\n",
              "      <th>rougeLsum</th>\n",
              "    </tr>\n",
              "  </thead>\n",
              "  <tbody>\n",
              "    <tr>\n",
              "      <th>pegasus</th>\n",
              "      <td>0.257284</td>\n",
              "      <td>0.086007</td>\n",
              "      <td>0.176206</td>\n",
              "      <td>0.21146</td>\n",
              "    </tr>\n",
              "  </tbody>\n",
              "</table>\n",
              "</div>\n",
              "      <button class=\"colab-df-convert\" onclick=\"convertToInteractive('df-2947c29a-33a4-47e9-9390-e076b3938c0f')\"\n",
              "              title=\"Convert this dataframe to an interactive table.\"\n",
              "              style=\"display:none;\">\n",
              "        \n",
              "  <svg xmlns=\"http://www.w3.org/2000/svg\" height=\"24px\"viewBox=\"0 0 24 24\"\n",
              "       width=\"24px\">\n",
              "    <path d=\"M0 0h24v24H0V0z\" fill=\"none\"/>\n",
              "    <path d=\"M18.56 5.44l.94 2.06.94-2.06 2.06-.94-2.06-.94-.94-2.06-.94 2.06-2.06.94zm-11 1L8.5 8.5l.94-2.06 2.06-.94-2.06-.94L8.5 2.5l-.94 2.06-2.06.94zm10 10l.94 2.06.94-2.06 2.06-.94-2.06-.94-.94-2.06-.94 2.06-2.06.94z\"/><path d=\"M17.41 7.96l-1.37-1.37c-.4-.4-.92-.59-1.43-.59-.52 0-1.04.2-1.43.59L10.3 9.45l-7.72 7.72c-.78.78-.78 2.05 0 2.83L4 21.41c.39.39.9.59 1.41.59.51 0 1.02-.2 1.41-.59l7.78-7.78 2.81-2.81c.8-.78.8-2.07 0-2.86zM5.41 20L4 18.59l7.72-7.72 1.47 1.35L5.41 20z\"/>\n",
              "  </svg>\n",
              "      </button>\n",
              "      \n",
              "  <style>\n",
              "    .colab-df-container {\n",
              "      display:flex;\n",
              "      flex-wrap:wrap;\n",
              "      gap: 12px;\n",
              "    }\n",
              "\n",
              "    .colab-df-convert {\n",
              "      background-color: #E8F0FE;\n",
              "      border: none;\n",
              "      border-radius: 50%;\n",
              "      cursor: pointer;\n",
              "      display: none;\n",
              "      fill: #1967D2;\n",
              "      height: 32px;\n",
              "      padding: 0 0 0 0;\n",
              "      width: 32px;\n",
              "    }\n",
              "\n",
              "    .colab-df-convert:hover {\n",
              "      background-color: #E2EBFA;\n",
              "      box-shadow: 0px 1px 2px rgba(60, 64, 67, 0.3), 0px 1px 3px 1px rgba(60, 64, 67, 0.15);\n",
              "      fill: #174EA6;\n",
              "    }\n",
              "\n",
              "    [theme=dark] .colab-df-convert {\n",
              "      background-color: #3B4455;\n",
              "      fill: #D2E3FC;\n",
              "    }\n",
              "\n",
              "    [theme=dark] .colab-df-convert:hover {\n",
              "      background-color: #434B5C;\n",
              "      box-shadow: 0px 1px 3px 1px rgba(0, 0, 0, 0.15);\n",
              "      filter: drop-shadow(0px 1px 2px rgba(0, 0, 0, 0.3));\n",
              "      fill: #FFFFFF;\n",
              "    }\n",
              "  </style>\n",
              "\n",
              "      <script>\n",
              "        const buttonEl =\n",
              "          document.querySelector('#df-2947c29a-33a4-47e9-9390-e076b3938c0f button.colab-df-convert');\n",
              "        buttonEl.style.display =\n",
              "          google.colab.kernel.accessAllowed ? 'block' : 'none';\n",
              "\n",
              "        async function convertToInteractive(key) {\n",
              "          const element = document.querySelector('#df-2947c29a-33a4-47e9-9390-e076b3938c0f');\n",
              "          const dataTable =\n",
              "            await google.colab.kernel.invokeFunction('convertToInteractive',\n",
              "                                                     [key], {});\n",
              "          if (!dataTable) return;\n",
              "\n",
              "          const docLinkHtml = 'Like what you see? Visit the ' +\n",
              "            '<a target=\"_blank\" href=https://colab.research.google.com/notebooks/data_table.ipynb>data table notebook</a>'\n",
              "            + ' to learn more about interactive tables.';\n",
              "          element.innerHTML = '';\n",
              "          dataTable['output_type'] = 'display_data';\n",
              "          await google.colab.output.renderOutput(dataTable, element);\n",
              "          const docLink = document.createElement('div');\n",
              "          docLink.innerHTML = docLinkHtml;\n",
              "          element.appendChild(docLink);\n",
              "        }\n",
              "      </script>\n",
              "    </div>\n",
              "  </div>\n",
              "  "
            ],
            "text/plain": [
              "           rouge1    rouge2    rougeL  rougeLsum\n",
              "pegasus  0.257284  0.086007  0.176206    0.21146"
            ]
          },
          "execution_count": 59,
          "metadata": {},
          "output_type": "execute_result"
        }
      ],
      "source": [
        "score = calculate_metric_on_test_ds(\n",
        "    dataset_cnn['test'][:200], rouge_metric, trainer.model, pegtokenizer, batch_size = 2, column_text = 'article', column_summary= 'highlights'\n",
        ")\n",
        "\n",
        "rouge_dict = dict((rn, score[rn].mid.fmeasure ) for rn in rouge_names )\n",
        "\n",
        "pd.DataFrame(rouge_dict, index = [f'pegasus'] )"
      ],
      "id": "jFcntktXKhi9"
    },
    {
      "cell_type": "code",
      "execution_count": null,
      "metadata": {
        "colab": {
          "base_uri": "https://localhost:8080/"
        },
        "id": "jcui03ILKhqq",
        "outputId": "489f806a-2591-472e-d698-2e0c7ea5ddc9"
      },
      "outputs": [
        {
          "name": "stdout",
          "output_type": "stream",
          "text": [
            "config.json\t\toptimizer.pt\t   rng_state.pth  trainer_state.json\n",
            "generation_config.json\tpytorch_model.bin  scheduler.pt   training_args.bin\n"
          ]
        }
      ],
      "source": [
        "!ls results/checkpoint-500/"
      ],
      "id": "jcui03ILKhqq"
    },
    {
      "cell_type": "code",
      "execution_count": null,
      "metadata": {
        "colab": {
          "base_uri": "https://localhost:8080/",
          "height": 145,
          "referenced_widgets": [
            "9ee0f8dffa934149a2e54a23e96a38b0",
            "66db3b47d28840ecb4c4e8d2008fb6ea",
            "3d6e0946bca042338cfd7f637fff0854",
            "b8afc7434f4d4c33b1417debd23119fb",
            "7dc6e586833440cfb4c3d7bfebabc3c7",
            "07f99a355a0946fd9aa4537f8b10a240",
            "57d5b42c7c4a441ba64f8b564afc1e63",
            "16e5432fa9044cf59732f1175dc2a3a7",
            "60fa1999c7e745dcb249c31e25a4d087",
            "13833e47a6bc473c9397cc86fe1febd3",
            "e91dd1b959cf43828602c0cc6813916e",
            "6e35e72046714c359d00996396af7605",
            "23bf66b5aae540ce9b4a7b6f6e78d403",
            "4c8e1315bec64737bc8c9db9ae16f615",
            "8e020580d95547df9371bbfd97956c29",
            "6e3be94bd85540e7bba33f063367b301",
            "11c97dc0532d4986acc6f88e03ebbdd8",
            "dbddca6f05f2448c97ad6133f6292c9b",
            "2cc7eeb76f7e4a8aa5762fcee1ddb860",
            "bfaf21c852b148e9b3613a27670dc607",
            "c932792e066f485f88e39b70508dda0d",
            "fd929787aa4e48edbe8ee0af923842a5",
            "d66c2baa5a7c4ef7978870fb0379dc44",
            "a85f55d4f8364cc884d192f126345d4f",
            "b3b4fc05866247148279453c85f45c20",
            "b9f7b2bcd1c44768a946e594b015a20d",
            "612f3998a538467d89666719bff3522a",
            "09b4fef230a349c688b94a270dbf458c",
            "fbe7de5dd20f4019b799297bc6ab4270",
            "2df1d0f08af4422e8661a44a6412bc1d",
            "d5f090da05ef44d4a682e9d0d662e034",
            "6385a84335944b47b64f0eaaa9f0b7a4",
            "a8c0b853c7254950b2dd3c9e6adcc6bc",
            "9163e619ea014143b31778e7a72becaf",
            "f234ce08f91d4ede84e3287158c93106",
            "04f45e9852894cb4b14836e0030b1828",
            "c168590ebc1342f78e7ef69dc4f44dfc",
            "c9485ef21866415380d22f7ddef87f8d",
            "b2752b1e927b4c17825b658275ba47af",
            "3e6ac791aafe42c5807b0a9437fbaa95",
            "114a8f3be49745febf4cfe90e7ea4b98",
            "4659f1c8fc3b41a6a4b97bfadcc31670",
            "739cf710358447208e834b2506eacd50",
            "03bbfbcd922d4b0db7e6e9966a549ce2"
          ]
        },
        "id": "mDo_1D7kKhv0",
        "outputId": "13a68218-9a86-4718-96bb-2f105f4008a7"
      },
      "outputs": [
        {
          "data": {
            "application/vnd.jupyter.widget-view+json": {
              "model_id": "9ee0f8dffa934149a2e54a23e96a38b0",
              "version_major": 2,
              "version_minor": 0
            },
            "text/plain": [
              "Downloading (…)ve/main/spiece.model:   0%|          | 0.00/1.91M [00:00<?, ?B/s]"
            ]
          },
          "metadata": {},
          "output_type": "display_data"
        },
        {
          "data": {
            "application/vnd.jupyter.widget-view+json": {
              "model_id": "6e35e72046714c359d00996396af7605",
              "version_major": 2,
              "version_minor": 0
            },
            "text/plain": [
              "Downloading (…)cial_tokens_map.json:   0%|          | 0.00/65.0 [00:00<?, ?B/s]"
            ]
          },
          "metadata": {},
          "output_type": "display_data"
        },
        {
          "data": {
            "application/vnd.jupyter.widget-view+json": {
              "model_id": "d66c2baa5a7c4ef7978870fb0379dc44",
              "version_major": 2,
              "version_minor": 0
            },
            "text/plain": [
              "Downloading (…)okenizer_config.json:   0%|          | 0.00/88.0 [00:00<?, ?B/s]"
            ]
          },
          "metadata": {},
          "output_type": "display_data"
        },
        {
          "data": {
            "application/vnd.jupyter.widget-view+json": {
              "model_id": "9163e619ea014143b31778e7a72becaf",
              "version_major": 2,
              "version_minor": 0
            },
            "text/plain": [
              "Downloading (…)lve/main/config.json:   0%|          | 0.00/3.09k [00:00<?, ?B/s]"
            ]
          },
          "metadata": {},
          "output_type": "display_data"
        }
      ],
      "source": [
        "torch_device = 'cuda' if torch.cuda.is_available() else 'cpu'\n",
        "tokenizer = PegasusTokenizer.from_pretrained('google/pegasus-large')"
      ],
      "id": "mDo_1D7kKhv0"
    },
    {
      "cell_type": "code",
      "execution_count": null,
      "metadata": {
        "id": "4JG59tW-is33"
      },
      "outputs": [],
      "source": [
        "# load the finetuned model\n",
        "model_path = \"./results/checkpoint-500/\"\n",
        "model_finetune = PegasusForConditionalGeneration.from_pretrained(model_path, local_files_only=True).to(torch_device)"
      ],
      "id": "4JG59tW-is33"
    },
    {
      "cell_type": "code",
      "execution_count": null,
      "metadata": {
        "id": "zOFqkBxujy4l"
      },
      "outputs": [],
      "source": [
        "model_large = PegasusForConditionalGeneration.from_pretrained('google/pegasus-large').to(torch_device)"
      ],
      "id": "zOFqkBxujy4l"
    },
    {
      "cell_type": "code",
      "execution_count": null,
      "metadata": {
        "colab": {
          "base_uri": "https://localhost:8080/",
          "height": 113,
          "referenced_widgets": [
            "0bd4342febed4213a8318c59b9373e73",
            "d6b738b77c874be390c19eb4ffe99ef4",
            "dae2e95e05fc4bcaa4c4e08fe4494d26",
            "f3d7edbde7574a7aae63ce2e357ac277",
            "18851eb6d4814daa87ac5ff35c07f201",
            "d0e7728a459e474fb8413c92c1ef78ce",
            "44c0406f0f104d209ec765c5dd247e5a",
            "677763b5d5df4b9098b8bcb75d3f13b8",
            "53aae45a69ec4934b4bd01851af94370",
            "9822324ff67d4177bae06d014c7093f5",
            "3acbe9bbfbf9435f8ce7dcfbf47d2d3a",
            "ac0f97c0fa1c4fff82366066b7f4a802",
            "b539eb7404a84e3ab5d453c2e7c3834e",
            "403a89651fd0480786a9fdb2b381b70f",
            "35a4d5f48f7f4fbe8222e1adf6fe2f45",
            "e6bb4a74f12040d599ba16a22d346b19",
            "48454e8e281d485c8e645bae0e18542c",
            "7c339a38838142eaaa2d6e7c1abef2ea",
            "aad02bcd58254f19a56e5a62a2d64033",
            "1805db9fe9264bb8a377d9b16908f54c",
            "9a5b211d992444bca6503c8f0c796c3a",
            "15add7417520471b872cdc205110233a",
            "c9d385d24f1c4fe5a1adddab3e3f85e8",
            "771c0d62cd2b47c6abf5d7a5bf796421",
            "d4bf8d6c642440ecb050495a238fbac1",
            "1181e9ad383d4e6a8271503d0aa2ac5d",
            "e92faf2059c1401e90717c35896570cd",
            "30c69019bb3440beb898cf3bc8a5577a",
            "5f52b522f0924d1b96dd9f2f786cecaa",
            "391831381e1049838e206e44086ec336",
            "8c342f5411f94d289cacce378d1c95c2",
            "aba2fd042f8a45aea893d134df4ea8b5",
            "b7486af753a44c54a62b6821d67acf9e"
          ]
        },
        "id": "Gpq5P6w7jyNX",
        "outputId": "707442e7-5919-48d0-db5d-f1f441bf4994"
      },
      "outputs": [
        {
          "data": {
            "application/vnd.jupyter.widget-view+json": {
              "model_id": "0bd4342febed4213a8318c59b9373e73",
              "version_major": 2,
              "version_minor": 0
            },
            "text/plain": [
              "Downloading (…)lve/main/config.json:   0%|          | 0.00/1.12k [00:00<?, ?B/s]"
            ]
          },
          "metadata": {},
          "output_type": "display_data"
        },
        {
          "data": {
            "application/vnd.jupyter.widget-view+json": {
              "model_id": "ac0f97c0fa1c4fff82366066b7f4a802",
              "version_major": 2,
              "version_minor": 0
            },
            "text/plain": [
              "Downloading pytorch_model.bin:   0%|          | 0.00/2.28G [00:00<?, ?B/s]"
            ]
          },
          "metadata": {},
          "output_type": "display_data"
        },
        {
          "data": {
            "application/vnd.jupyter.widget-view+json": {
              "model_id": "c9d385d24f1c4fe5a1adddab3e3f85e8",
              "version_major": 2,
              "version_minor": 0
            },
            "text/plain": [
              "Downloading (…)neration_config.json:   0%|          | 0.00/280 [00:00<?, ?B/s]"
            ]
          },
          "metadata": {},
          "output_type": "display_data"
        }
      ],
      "source": [
        "# load the pegasus multinews model\n",
        "model_cnn = PegasusForConditionalGeneration.from_pretrained('google/pegasus-cnn_dailymail').to(torch_device)"
      ],
      "id": "Gpq5P6w7jyNX"
    },
    {
      "cell_type": "code",
      "execution_count": null,
      "metadata": {
        "id": "xyxUmw2Ajahl"
      },
      "outputs": [],
      "source": [
        "def show_result(src_text, model):\n",
        "  batch = tokenizer.prepare_seq2seq_batch(src_text, truncation=True, padding='longest', return_tensors=\"pt\").to(torch_device)\n",
        "  translated = model.generate(**batch)\n",
        "  gen_text = tokenizer.batch_decode(translated, skip_special_tokens=True)\n",
        "  return gen_text"
      ],
      "id": "xyxUmw2Ajahl"
    },
    {
      "cell_type": "code",
      "execution_count": null,
      "metadata": {
        "colab": {
          "base_uri": "https://localhost:8080/"
        },
        "id": "R-LKZOG3ja3a",
        "outputId": "ce9e5dc8-daf2-4354-a462-0d80321d0e57"
      },
      "outputs": [
        {
          "name": "stderr",
          "output_type": "stream",
          "text": [
            "/usr/local/lib/python3.10/dist-packages/transformers/tokenization_utils_base.py:3722: FutureWarning: \n",
            "`prepare_seq2seq_batch` is deprecated and will be removed in version 5 of HuggingFace Transformers. Use the regular\n",
            "`__call__` method to prepare your inputs and targets.\n",
            "\n",
            "Here is a short example:\n",
            "\n",
            "model_inputs = tokenizer(src_texts, text_target=tgt_texts, ...)\n",
            "\n",
            "If you either need to use different keyword arguments for the source and target texts, you should do two calls like\n",
            "this:\n",
            "\n",
            "model_inputs = tokenizer(src_texts, ...)\n",
            "labels = tokenizer(text_target=tgt_texts, ...)\n",
            "model_inputs[\"labels\"] = labels[\"input_ids\"]\n",
            "\n",
            "See the documentation of your specific tokenizer for more details on the specific arguments to the tokenizer of choice.\n",
            "For a more complete example, see the implementation of `prepare_seq2seq_batch`.\n",
            "\n",
            "  warnings.warn(formatted_warning, FutureWarning)\n",
            "/usr/local/lib/python3.10/dist-packages/transformers/generation/utils.py:1313: UserWarning: Using `max_length`'s default (256) to control the generation length. This behaviour is deprecated and will be removed from the config in v5 of Transformers -- we recommend using `max_new_tokens` to control the maximum length of the generation.\n",
            "  warnings.warn(\n"
          ]
        },
        {
          "name": "stdout",
          "output_type": "stream",
          "text": [
            "my fine-tuned model result 1: [\"Musk's overall wealth has fallen down dramatic since January when the Tesla CEO was valued at around $197 billion and after the consecutive fall within the last few weeks, Musk is now valued at $150.900 billion, as per Forbes's real-time billionaire's list.\"]\n",
            "--------------------\n",
            "\n",
            "\n",
            "\n",
            "\n"
          ]
        },
        {
          "name": "stderr",
          "output_type": "stream",
          "text": [
            "/usr/local/lib/python3.10/dist-packages/transformers/generation/utils.py:1313: UserWarning: Using `max_length`'s default (128) to control the generation length. This behaviour is deprecated and will be removed from the config in v5 of Transformers -- we recommend using `max_new_tokens` to control the maximum length of the generation.\n",
            "  warnings.warn(\n"
          ]
        },
        {
          "name": "stdout",
          "output_type": "stream",
          "text": [
            "official large model result 1: [\"The Tesla CEO, Elon Musk has fallen to the third spot in the list of the Forbes billionaire rankings after a significant fall in Tesla shares recently.<n>The billionaire lost close to $6.2 billion by the end of the day on Wednesday.<n>While Amazon's CEO Jeff Bezos appears to be unshakable at the number one position at $175.4 billion, the second spot has now been claimed by the French billionaire Bernard Arnault.\"]\n",
            "**************************************************\n",
            "my fine-tuned model result 2: [\"Englishman Bob Houghton, who coaches the national team, said recalling Fan and Sun for the Asian Games would allow him to see if they can bring the things they have learned recently in England to the national team,'' the China Sports Daily said.\"]\n",
            "--------------------\n",
            "\n",
            "\n",
            "\n",
            "\n",
            "official multinews model result 2: ['China could call back four players from overseas to boost its chances at the Asian Games in Thailand in December.<n>Two of the players, Fan Zhiyi and Sun Jihai, play for Crystal Palace in the English First Division.<n>Another, Yang Chen, plays in Germany, while Li Jinyu is with Nantes in France.']\n",
            "official pegasus large model result 2: [\"Englishman Bob Houghton, who coaches the national team, said recalling Fan and Sun for the Asian Games would allow him to see if they can bring the things they have learned recently in England to the national team,'' the China Sports Daily said.\"]\n"
          ]
        }
      ],
      "source": [
        "# after fine tune xsum dataset the result is same as large \n",
        "# but the result from official xsum fine tuned model is different\n",
        "text_1 = [\n",
        "    \"\"\" \n",
        "    The Tesla CEO, Elon Musk has fallen to the third spot in the list of \n",
        "    the Forbes billionaire rankings after a significant fall in \n",
        "    Tesla shares recently. The billionaire lost close to $6.2 billion \n",
        "    by the end of the day on Wednesday. \n",
        "    Musk's overall wealth has fallen down dramatic since January when \n",
        "    the Tesla CEO was valued at around $197 billion and after the \n",
        "    consecutive fall within the last few weeks, Musk is now valued at \n",
        "    $150.900 billion, as per Forbes's real-time billionaire's list.\n",
        "    While Amazon's CEO Jeff Bezos appears to be unshakable at the number \n",
        "    one position at $175.4 billion, the second spot has now been claimed \n",
        "    by the French billionaire Bernard Arnault who is the owner conglomerate \n",
        "    LVMH , with a fortune of $ 155.600 billion. For the record, the LVMH group \n",
        "    encompasses over 70 luxury brands including Fendi, Givenchy, Louis Vuitton, \n",
        "    Christian Dior, Marc Jacobs, Fenty Beauty, \n",
        "    Bvlgari, Tiffany & Co. and Sephora.\n",
        "    \"\"\"\n",
        "]\n",
        "\n",
        "text_2 = [\n",
        "    \"\"\" \n",
        "    China's national soccer team could call back four players from overseas \n",
        "to boost its chances at the Asian Games in Thailand in December, an \n",
        "official newspaper reported Monday. Two of the players, Fan Zhiyi \n",
        "and Sun Jihai, play for Crystal Palace in the English First Division. \n",
        "Another, Yang Chen, plays in Germany, while Li Jinyu is with Nantes \n",
        "in France. Englishman Bob Houghton, who coaches the national team, \n",
        "said recalling Fan and Sun for the Asian Games would allow him to \n",
        "``see if they can bring the things they have learned recently in England \n",
        "to the national team,'' the China Sports Daily said. Houghton also \n",
        "said that Yang, who plays in Frankfurt, ``very possibly could become \n",
        "an extremely important player in the national team,'' the newspaper \n",
        "reported. Li, who has not had many chances to play since his move \n",
        "to France, also ``is very willing to come back,'' the newspaper said. \n",
        "China and South Korea will both field their Asian Games teams at a \n",
        "friendly warm-up match Nov. 22, the newspaper said. The Asian Games \n",
        "are held every four years. \n",
        "    \"\"\"\n",
        "]\n",
        "\n",
        "\n",
        "print('my fine-tuned model result 1:', show_result(text_1, model_finetune))\n",
        "print('--------------------')\n",
        "print('\\n')\n",
        "print('\\n')\n",
        "print('official large model result 1:', show_result(text_1, model_cnn))\n",
        "print('**************************************************')\n",
        "print('my fine-tuned model result 2:', show_result(text_2, model_finetune))\n",
        "print('--------------------')\n",
        "print('\\n')\n",
        "print('\\n')\n",
        "print('official multinews model result 2:', show_result(text_2, model_cnn))\n",
        "print('official pegasus large model result 2:', show_result(text_2, model_large))"
      ],
      "id": "R-LKZOG3ja3a"
    },
    {
      "cell_type": "markdown",
      "metadata": {
        "id": "Qi6x75zRL2re"
      },
      "source": [
        "**Using transformed (augmented) data**"
      ],
      "id": "Qi6x75zRL2re"
    },
    {
      "cell_type": "code",
      "execution_count": null,
      "metadata": {
        "id": "SFV4FTz9ja97"
      },
      "outputs": [],
      "source": [
        "#####trying to use augmented dataset. convert pandas dataframe to dataset dictionary"
      ],
      "id": "SFV4FTz9ja97"
    },
    {
      "cell_type": "code",
      "execution_count": null,
      "metadata": {
        "id": "N9PZByHMZ5fo"
      },
      "outputs": [],
      "source": [
        "import pandas as pd\n",
        "df = pd.read_csv('/content/drive/MyDrive/final/augmented_train3.csv')"
      ],
      "id": "N9PZByHMZ5fo"
    },
    {
      "cell_type": "code",
      "execution_count": null,
      "metadata": {
        "colab": {
          "base_uri": "https://localhost:8080/"
        },
        "id": "cfy4Sx_mZ5i8",
        "outputId": "cc6c2bf7-1979-4048-a5fe-5bc589fae730"
      },
      "outputs": [
        {
          "data": {
            "text/plain": [
              "(480289, 2)"
            ]
          },
          "execution_count": 2,
          "metadata": {},
          "output_type": "execute_result"
        }
      ],
      "source": [
        "df.shape"
      ],
      "id": "cfy4Sx_mZ5i8"
    },
    {
      "cell_type": "code",
      "execution_count": null,
      "metadata": {
        "id": "Cqe4NDDjiJA-"
      },
      "outputs": [],
      "source": [
        "#importing the cleaned and preprocessed test csv file exported from jupyter notebook\n",
        "test_df = pd.read_csv('/content/drive/MyDrive/final/cleaned_test.csv')"
      ],
      "id": "Cqe4NDDjiJA-"
    },
    {
      "cell_type": "code",
      "execution_count": null,
      "metadata": {
        "colab": {
          "base_uri": "https://localhost:8080/"
        },
        "id": "gRUVT22YigcR",
        "outputId": "a7ae8f5d-c4ef-4acd-ff20-0c3908565ff5"
      },
      "outputs": [
        {
          "data": {
            "text/plain": [
              "(15441, 2)"
            ]
          },
          "execution_count": 4,
          "metadata": {},
          "output_type": "execute_result"
        }
      ],
      "source": [
        "test_df.shape"
      ],
      "id": "gRUVT22YigcR"
    },
    {
      "cell_type": "code",
      "execution_count": null,
      "metadata": {
        "id": "HsNJXOAviJ4h"
      },
      "outputs": [],
      "source": [
        "#importing the cleaned and preprocessed test csv file exported from jupyter notebook\n",
        "val_df = pd.read_csv('/content/drive/MyDrive/final/cleaned_val.csv')"
      ],
      "id": "HsNJXOAviJ4h"
    },
    {
      "cell_type": "code",
      "execution_count": null,
      "metadata": {
        "colab": {
          "base_uri": "https://localhost:8080/"
        },
        "id": "80OnPikYind1",
        "outputId": "19d67b7c-746f-421c-cc46-c60cbe1d691e"
      },
      "outputs": [
        {
          "data": {
            "text/plain": [
              "(15442, 2)"
            ]
          },
          "execution_count": 6,
          "metadata": {},
          "output_type": "execute_result"
        }
      ],
      "source": [
        "val_df.shape"
      ],
      "id": "80OnPikYind1"
    },
    {
      "cell_type": "code",
      "execution_count": null,
      "metadata": {
        "id": "EfOvQdvkZ5mf"
      },
      "outputs": [],
      "source": [
        "#shuffling all the rows so that original and augmented data rows gets mixed\n",
        "train_df = df.sample(frac=1, random_state=42)\n"
      ],
      "id": "EfOvQdvkZ5mf"
    },
    {
      "cell_type": "code",
      "execution_count": null,
      "metadata": {
        "id": "OSnib_PoZ5qJ"
      },
      "outputs": [],
      "source": [
        "# reset index\n",
        "train_df.reset_index(drop=True, inplace=True)"
      ],
      "id": "OSnib_PoZ5qJ"
    },
    {
      "cell_type": "code",
      "execution_count": null,
      "metadata": {
        "id": "91mQC7N5bGUT"
      },
      "outputs": [],
      "source": [
        "from datasets import Dataset, DatasetDict\n",
        "\n",
        "# convert DataFrame to DatasetDict\n",
        "dataset_dict = DatasetDict({\n",
        "    \"train\": Dataset.from_pandas(train_df[[\"article\", \"highlights\"]]),\n",
        "    \"validation\": Dataset.from_pandas(val_df[[\"article\", \"highlights\"]]),\n",
        "    \"test\": Dataset.from_pandas(test_df[[\"article\", \"highlights\"]]),\n",
        "})"
      ],
      "id": "91mQC7N5bGUT"
    },
    {
      "cell_type": "code",
      "execution_count": null,
      "metadata": {
        "colab": {
          "base_uri": "https://localhost:8080/"
        },
        "id": "9HZcgRSlbHX3",
        "outputId": "1ffaea6e-cd8f-4c11-dad7-8b674f76aaff"
      },
      "outputs": [
        {
          "data": {
            "text/plain": [
              "DatasetDict({\n",
              "    train: Dataset({\n",
              "        features: ['article', 'highlights'],\n",
              "        num_rows: 480289\n",
              "    })\n",
              "    validation: Dataset({\n",
              "        features: ['article', 'highlights'],\n",
              "        num_rows: 15442\n",
              "    })\n",
              "    test: Dataset({\n",
              "        features: ['article', 'highlights'],\n",
              "        num_rows: 15441\n",
              "    })\n",
              "})"
            ]
          },
          "execution_count": 10,
          "metadata": {},
          "output_type": "execute_result"
        }
      ],
      "source": [
        "dataset_dict"
      ],
      "id": "9HZcgRSlbHX3"
    },
    {
      "cell_type": "code",
      "execution_count": null,
      "metadata": {
        "id": "SgHVJicSbHtU"
      },
      "outputs": [],
      "source": [
        "from transformers import PegasusForConditionalGeneration, PegasusTokenizer, Trainer, TrainingArguments\n",
        "import torch"
      ],
      "id": "SgHVJicSbHtU"
    },
    {
      "cell_type": "code",
      "execution_count": null,
      "metadata": {
        "id": "SNVXCOutkCr0"
      },
      "outputs": [],
      "source": [
        "class PegasusDataset(torch.utils.data.Dataset):\n",
        "    def __init__(self, encodings, labels):\n",
        "        self.encodings = encodings\n",
        "        self.labels = labels\n",
        "    def __getitem__(self, idx):\n",
        "        item = {key: torch.tensor(val[idx]) for key, val in self.encodings.items()}\n",
        "        item['labels'] = torch.tensor(self.labels['input_ids'][idx])  # torch.tensor(self.labels[idx])\n",
        "        return item\n",
        "    def __len__(self):\n",
        "        return len(self.labels)"
      ],
      "id": "SNVXCOutkCr0"
    },
    {
      "cell_type": "code",
      "execution_count": null,
      "metadata": {
        "id": "OuG8JjJekDgO"
      },
      "outputs": [],
      "source": [
        "def prepare_data(model_name, \n",
        "                 train_texts, train_labels, \n",
        "                 val_texts, val_labels, \n",
        "                 test_texts=None, test_labels=None):\n",
        "  \"\"\"\n",
        "  Prepare input data for model fine-tuning\n",
        "  \"\"\"\n",
        "  tokenizer = PegasusTokenizer.from_pretrained(model_name)\n",
        "\n",
        "  prepare_val = False if val_texts is None or val_labels is None else True\n",
        "  prepare_test = False if test_texts is None or test_labels is None else True\n",
        "\n",
        "  def tokenize_data(texts, labels):\n",
        "    encodings = tokenizer(texts, truncation=True, padding=True)\n",
        "    decodings = tokenizer(labels, truncation=True, padding=True)\n",
        "    dataset_tokenized = PegasusDataset(encodings, decodings)\n",
        "    return dataset_tokenized\n",
        "\n",
        "  train_dataset = tokenize_data(train_texts, train_labels)\n",
        "  val_dataset = tokenize_data(val_texts, val_labels) if prepare_val else None\n",
        "  test_dataset = tokenize_data(test_texts, test_labels) if prepare_test else None\n",
        "\n",
        "  return train_dataset, val_dataset, test_dataset"
      ],
      "id": "OuG8JjJekDgO"
    },
    {
      "cell_type": "code",
      "execution_count": null,
      "metadata": {
        "id": "Qxz-hnFBkEaV"
      },
      "outputs": [],
      "source": [
        "def prepare_fine_tuning(model_name, train_dataset, val_dataset, freeze_encoder=False, output_dir='./results'):\n",
        "  \"\"\"\n",
        "  Prepare configurations and base model for fine-tuning\n",
        "  \"\"\"\n",
        "  torch_device = 'cuda' if torch.cuda.is_available() else 'cpu'\n",
        "  model = PegasusForConditionalGeneration.from_pretrained(model_name).to(torch_device)\n",
        "\n",
        "  if freeze_encoder:\n",
        "    for param in model.model.encoder.parameters():\n",
        "      param.requires_grad = False\n",
        "\n",
        "  if val_dataset is not None:\n",
        "    training_args = TrainingArguments(\n",
        "      output_dir=output_dir,           # output directory\n",
        "      #adafactor=True, \n",
        "      AdamW=True,                 # use adafactor instead of AdamW\n",
        "      num_train_epochs=200,           # total number of training epochs\n",
        "      per_device_train_batch_size=2,   # batch size per device during training, can increase if memory allows\n",
        "      per_device_eval_batch_size=2,    # batch size for evaluation, can increase if memory allows\n",
        "      save_steps=100,                  # number of updates steps before checkpoint saves\n",
        "      save_total_limit=5,              # limit the total amount of checkpoints and deletes the older checkpoints\n",
        "      evaluation_strategy='steps',     # evaluation strategy to adopt during training\n",
        "      eval_steps=100,                  # number of update steps before evaluation\n",
        "      warmup_steps=500,                # number of warmup steps for learning rate scheduler\n",
        "      weight_decay=0.01,               # strength of weight decay\n",
        "      logging_dir='./logs',            # directory for storing logs\n",
        "      logging_steps=10,\n",
        "    )\n",
        "\n",
        "    trainer = Trainer(\n",
        "      model=model,                         # the instantiated 🤗 Transformers model to be trained\n",
        "      args=training_args,                  # training arguments, defined above\n",
        "      train_dataset=train_dataset,         # training dataset\n",
        "      eval_dataset=val_dataset             # evaluation dataset\n",
        "    )\n",
        "\n",
        "  else:\n",
        "    training_args = TrainingArguments(\n",
        "      output_dir=output_dir,           # output directory\n",
        "      adafactor=True,                  # use adafactor instead of AdamW\n",
        "      num_train_epochs=1000,           # total number of training epochs\n",
        "      per_device_train_batch_size=2,   # batch size per device during training, can increase if memory allows\n",
        "      save_steps=100,                  # number of updates steps before checkpoint saves\n",
        "      save_total_limit=5,              # limit the total amount of checkpoints and deletes the older checkpoints\n",
        "      warmup_steps=500,                # number of warmup steps for learning rate scheduler\n",
        "      weight_decay=0.01,               # strength of weight decay\n",
        "      logging_dir='./logs',            # directory for storing logs\n",
        "      logging_steps=10,\n",
        "    )\n",
        "\n",
        "    trainer = Trainer(\n",
        "      model=model,                         # the instantiated 🤗 Transformers model to be trained\n",
        "      args=training_args,                  # training arguments, defined above\n",
        "      train_dataset=train_dataset,         # training dataset\n",
        "    )\n",
        "\n",
        "  return trainer"
      ],
      "id": "Qxz-hnFBkEaV"
    },
    {
      "cell_type": "code",
      "execution_count": null,
      "metadata": {
        "id": "kJ-xo39G92E6"
      },
      "outputs": [],
      "source": [],
      "id": "kJ-xo39G92E6"
    },
    {
      "cell_type": "code",
      "execution_count": null,
      "metadata": {
        "id": "ww3EergxlXa2"
      },
      "outputs": [],
      "source": [
        "# use cnn dataset, with first 100, 1000, 2000, 5000, 10000 docs as training data\n",
        "\n",
        "train_texts, train_labels = dataset_dict['train']['article'][:10000], dataset_dict['train']['highlights'][:10000]\n",
        "#train_texts, train_labels = dataset['train']['document'], dataset['train']['summary']\n",
        "val_texts, val_labels = dataset_dict['validation']['article'][:1000], dataset_dict['validation']['highlights'][:1000]"
      ],
      "id": "ww3EergxlXa2"
    },
    {
      "cell_type": "code",
      "execution_count": null,
      "metadata": {
        "id": "OMHgBXUumS64"
      },
      "outputs": [],
      "source": [
        "model_checkpoint = 'google/pegasus-large'\n",
        "# about 8 mins to finish for the whole dataset\n",
        "train_dataset, val_dataset, _ = prepare_data(model_checkpoint, train_texts, train_labels, val_texts, val_labels)\n"
      ],
      "id": "OMHgBXUumS64"
    },
    {
      "cell_type": "code",
      "execution_count": null,
      "metadata": {
        "colab": {
          "base_uri": "https://localhost:8080/"
        },
        "id": "RQvqqAye-M8X",
        "outputId": "ca11fc5b-a9af-4681-c884-cb0b61518b35"
      },
      "outputs": [
        {
          "name": "stdout",
          "output_type": "stream",
          "text": [
            "<__main__.PegasusDataset object at 0x7ff43af73970>\n"
          ]
        }
      ],
      "source": [
        "print(train_dataset)"
      ],
      "id": "RQvqqAye-M8X"
    },
    {
      "cell_type": "code",
      "execution_count": null,
      "metadata": {
        "colab": {
          "base_uri": "https://localhost:8080/",
          "height": 226,
          "referenced_widgets": [
            "504f0f0dd1de436487c768fbf4f6fa84",
            "61f377b4584b4bf4a240b7b6796ce432",
            "46536d7fef9143cf8d17ac564cb1e0e3",
            "9d4edc09ffd1449abdf72e3bc5b841c4",
            "4d26f0b84e8d447e8f0f0cc8d13d8e58",
            "f5180788376b42528d93676a027d3b39",
            "a71e8c83b7c24ede94d2ab594d42c9bc",
            "166eb5db6edb46c1a3f8be02757f6346",
            "b10a7bc17da44fdd996bb46ee1ecabfc",
            "2488fd4c8c784e45b0ec9f536f3015bf",
            "59ba2b4bc983462a9bd49c47ed6bd8de",
            "48d34fee1a2a40e18d6fb3007921bf9c",
            "6c7d30e234f945ef8bb15d9799bf8983",
            "873466a84a114c68898751c76f755bfa",
            "8c179bbf7d2a4e1698a022a35dcf8bc6",
            "f29f796b70744e21bff00a77be35b345",
            "b8ec7736d60448c4b50bc15318307b25",
            "5fa9f0da4ae94619bb7990a23239083c",
            "3849caeb34454d92974f151122e4b57b",
            "20fe912c786b468591c90ffc687cb807",
            "a0842a101c6c4d559c9285d1572579ef",
            "c90cd9e3f41646b390bc2bb7ff9ee1bc"
          ]
        },
        "id": "WuHT9upUnPAp",
        "outputId": "ee3b44bd-7633-41b8-a6f2-7688c7620f08"
      },
      "outputs": [
        {
          "data": {
            "application/vnd.jupyter.widget-view+json": {
              "model_id": "504f0f0dd1de436487c768fbf4f6fa84",
              "version_major": 2,
              "version_minor": 0
            },
            "text/plain": [
              "Downloading pytorch_model.bin:   0%|          | 0.00/2.28G [00:00<?, ?B/s]"
            ]
          },
          "metadata": {},
          "output_type": "display_data"
        },
        {
          "data": {
            "application/vnd.jupyter.widget-view+json": {
              "model_id": "48d34fee1a2a40e18d6fb3007921bf9c",
              "version_major": 2,
              "version_minor": 0
            },
            "text/plain": [
              "Downloading (…)neration_config.json:   0%|          | 0.00/260 [00:00<?, ?B/s]"
            ]
          },
          "metadata": {},
          "output_type": "display_data"
        },
        {
          "name": "stdout",
          "output_type": "stream",
          "text": [
            "CPU times: user 20.5 s, sys: 10.4 s, total: 31 s\n",
            "Wall time: 28.9 s\n"
          ]
        },
        {
          "name": "stderr",
          "output_type": "stream",
          "text": [
            "/usr/local/lib/python3.10/dist-packages/transformers/training_args.py:1243: FutureWarning: `--adafactor` is deprecated and will be removed in version 5 of 🤗 Transformers. Use `--optim adafactor` instead\n",
            "  warnings.warn(\n"
          ]
        }
      ],
      "source": [
        "%%time\n",
        "# only about 1 minute\n",
        "trainer = prepare_fine_tuning(model_checkpoint, train_dataset, val_dataset)"
      ],
      "id": "WuHT9upUnPAp"
    },
    {
      "cell_type": "code",
      "execution_count": null,
      "metadata": {
        "colab": {
          "base_uri": "https://localhost:8080/",
          "height": 458
        },
        "id": "TblhKJ9cnlKk",
        "outputId": "be5ed98f-e997-4a46-b4f0-4cee36d25cc3"
      },
      "outputs": [
        {
          "data": {
            "text/html": [
              "\n",
              "    <div>\n",
              "      \n",
              "      <progress value='1000' max='1000' style='width:300px; height:20px; vertical-align: middle;'></progress>\n",
              "      [1000/1000 3:03:19, Epoch 1000/1000]\n",
              "    </div>\n",
              "    <table border=\"1\" class=\"dataframe\">\n",
              "  <thead>\n",
              " <tr style=\"text-align: left;\">\n",
              "      <th>Step</th>\n",
              "      <th>Training Loss</th>\n",
              "      <th>Validation Loss</th>\n",
              "    </tr>\n",
              "  </thead>\n",
              "  <tbody>\n",
              "    <tr>\n",
              "      <td>100</td>\n",
              "      <td>9.049100</td>\n",
              "      <td>9.799663</td>\n",
              "    </tr>\n",
              "    <tr>\n",
              "      <td>200</td>\n",
              "      <td>7.516100</td>\n",
              "      <td>9.609241</td>\n",
              "    </tr>\n",
              "    <tr>\n",
              "      <td>300</td>\n",
              "      <td>5.399300</td>\n",
              "      <td>8.949566</td>\n",
              "    </tr>\n",
              "    <tr>\n",
              "      <td>400</td>\n",
              "      <td>1.179500</td>\n",
              "      <td>5.969426</td>\n",
              "    </tr>\n",
              "    <tr>\n",
              "      <td>500</td>\n",
              "      <td>0.027800</td>\n",
              "      <td>2.549798</td>\n",
              "    </tr>\n",
              "    <tr>\n",
              "      <td>600</td>\n",
              "      <td>0.004800</td>\n",
              "      <td>4.226098</td>\n",
              "    </tr>\n",
              "    <tr>\n",
              "      <td>700</td>\n",
              "      <td>0.004300</td>\n",
              "      <td>3.185999</td>\n",
              "    </tr>\n",
              "    <tr>\n",
              "      <td>800</td>\n",
              "      <td>0.001900</td>\n",
              "      <td>2.760791</td>\n",
              "    </tr>\n",
              "    <tr>\n",
              "      <td>900</td>\n",
              "      <td>0.000600</td>\n",
              "      <td>2.571616</td>\n",
              "    </tr>\n",
              "    <tr>\n",
              "      <td>1000</td>\n",
              "      <td>0.003500</td>\n",
              "      <td>2.650543</td>\n",
              "    </tr>\n",
              "  </tbody>\n",
              "</table><p>"
            ],
            "text/plain": [
              "<IPython.core.display.HTML object>"
            ]
          },
          "metadata": {},
          "output_type": "display_data"
        },
        {
          "data": {
            "text/plain": [
              "TrainOutput(global_step=1000, training_loss=2.7978585387831556, metrics={'train_runtime': 11015.3286, 'train_samples_per_second': 0.182, 'train_steps_per_second': 0.091, 'total_flos': 5778928828416000.0, 'train_loss': 2.7978585387831556, 'epoch': 1000.0})"
            ]
          },
          "execution_count": 29,
          "metadata": {},
          "output_type": "execute_result"
        }
      ],
      "source": [
        "trainer.train()"
      ],
      "id": "TblhKJ9cnlKk"
    },
    {
      "cell_type": "code",
      "execution_count": null,
      "metadata": {
        "colab": {
          "base_uri": "https://localhost:8080/"
        },
        "id": "zVk5M_oypp5Q",
        "outputId": "9a5d16f2-dbcf-42b0-df52-ee32faff1140"
      },
      "outputs": [
        {
          "name": "stdout",
          "output_type": "stream",
          "text": [
            "checkpoint-1000  checkpoint-600  checkpoint-700  checkpoint-800  checkpoint-900\n"
          ]
        }
      ],
      "source": [
        "!ls /content/drive/MyDrive/final/results/"
      ],
      "id": "zVk5M_oypp5Q"
    },
    {
      "cell_type": "code",
      "execution_count": null,
      "metadata": {
        "id": "mNk_Q8GuPYS9"
      },
      "outputs": [],
      "source": [
        "model_checkpoint = 'google/pegasus-large'"
      ],
      "id": "mNk_Q8GuPYS9"
    },
    {
      "cell_type": "code",
      "execution_count": null,
      "metadata": {
        "colab": {
          "base_uri": "https://localhost:8080/"
        },
        "id": "2oYo4oR7Ovr3",
        "outputId": "abfc164a-835a-4fe9-c5c4-746dc7ffcd30"
      },
      "outputs": [
        {
          "name": "stdout",
          "output_type": "stream",
          "text": [
            "Looking in indexes: https://pypi.org/simple, https://us-python.pkg.dev/colab-wheels/public/simple/\n",
            "Requirement already satisfied: rouge_score in /usr/local/lib/python3.10/dist-packages (0.1.2)\n",
            "Requirement already satisfied: absl-py in /usr/local/lib/python3.10/dist-packages (from rouge_score) (1.4.0)\n",
            "Requirement already satisfied: nltk in /usr/local/lib/python3.10/dist-packages (from rouge_score) (3.8.1)\n",
            "Requirement already satisfied: numpy in /usr/local/lib/python3.10/dist-packages (from rouge_score) (1.24.3)\n",
            "Requirement already satisfied: six>=1.14.0 in /usr/local/lib/python3.10/dist-packages (from rouge_score) (1.16.0)\n",
            "Requirement already satisfied: click in /usr/local/lib/python3.10/dist-packages (from nltk->rouge_score) (8.1.3)\n",
            "Requirement already satisfied: joblib in /usr/local/lib/python3.10/dist-packages (from nltk->rouge_score) (1.2.0)\n",
            "Requirement already satisfied: regex>=2021.8.3 in /usr/local/lib/python3.10/dist-packages (from nltk->rouge_score) (2022.10.31)\n",
            "Requirement already satisfied: tqdm in /usr/local/lib/python3.10/dist-packages (from nltk->rouge_score) (4.65.0)\n"
          ]
        }
      ],
      "source": [
        "!pip install rouge_score"
      ],
      "id": "2oYo4oR7Ovr3"
    },
    {
      "cell_type": "code",
      "execution_count": null,
      "metadata": {
        "id": "hPAwjEcgpwVx"
      },
      "outputs": [],
      "source": [
        "pegtokenizer  = PegasusTokenizer.from_pretrained(model_checkpoint)\n",
        "rouge_names = [\"rouge1\", \"rouge2\", \"rougeL\", \"rougeLsum\"]\n",
        "\n",
        "rouge_metric = load_metric('rouge')"
      ],
      "id": "hPAwjEcgpwVx"
    },
    {
      "cell_type": "code",
      "execution_count": null,
      "metadata": {
        "id": "SDhCRL-eKOZL"
      },
      "outputs": [],
      "source": [
        "device = 'cuda' if torch.cuda.is_available() else 'cpu'"
      ],
      "id": "SDhCRL-eKOZL"
    },
    {
      "cell_type": "code",
      "execution_count": null,
      "metadata": {
        "colab": {
          "base_uri": "https://localhost:8080/",
          "height": 1000
        },
        "id": "5BzqdHVxqGBN",
        "outputId": "fe7c1ee6-f83b-498a-fe20-41678eecadb9"
      },
      "outputs": [
        {
          "name": "stderr",
          "output_type": "stream",
          "text": [
            "\r  0%|          | 0/250 [00:00<?, ?it/s]"
          ]
        },
        {
          "name": "stdout",
          "output_type": "stream",
          "text": [
            "input_ids shape: torch.Size([2, 1024])\n",
            "max input_ids value: tensor(95824)\n",
            "vocabulary size: 96103\n"
          ]
        },
        {
          "name": "stderr",
          "output_type": "stream",
          "text": [
            "\r  0%|          | 1/250 [00:22<1:34:30, 22.77s/it]"
          ]
        },
        {
          "name": "stdout",
          "output_type": "stream",
          "text": [
            "torch.Size([2, 128])\n",
            "torch.Size([2, 1024])\n",
            "input_ids shape: torch.Size([2, 1024])\n",
            "max input_ids value: tensor(92829)\n",
            "vocabulary size: 96103\n"
          ]
        },
        {
          "name": "stderr",
          "output_type": "stream",
          "text": [
            "\r  1%|          | 2/250 [00:43<1:29:36, 21.68s/it]"
          ]
        },
        {
          "name": "stdout",
          "output_type": "stream",
          "text": [
            "torch.Size([2, 128])\n",
            "torch.Size([2, 1024])\n",
            "input_ids shape: torch.Size([2, 1024])\n",
            "max input_ids value: tensor(93505)\n",
            "vocabulary size: 96103\n"
          ]
        },
        {
          "name": "stderr",
          "output_type": "stream",
          "text": [
            "\r  1%|          | 3/250 [01:04<1:27:36, 21.28s/it]"
          ]
        },
        {
          "name": "stdout",
          "output_type": "stream",
          "text": [
            "torch.Size([2, 128])\n",
            "torch.Size([2, 1024])\n",
            "input_ids shape: torch.Size([2, 1024])\n",
            "max input_ids value: tensor(92006)\n",
            "vocabulary size: 96103\n"
          ]
        },
        {
          "name": "stderr",
          "output_type": "stream",
          "text": [
            "\r  2%|▏         | 4/250 [01:26<1:28:40, 21.63s/it]"
          ]
        },
        {
          "name": "stdout",
          "output_type": "stream",
          "text": [
            "torch.Size([2, 128])\n",
            "torch.Size([2, 1024])\n",
            "input_ids shape: torch.Size([2, 1024])\n",
            "max input_ids value: tensor(93676)\n",
            "vocabulary size: 96103\n"
          ]
        },
        {
          "name": "stderr",
          "output_type": "stream",
          "text": [
            "\r  2%|▏         | 5/250 [01:47<1:26:41, 21.23s/it]"
          ]
        },
        {
          "name": "stdout",
          "output_type": "stream",
          "text": [
            "torch.Size([2, 128])\n",
            "torch.Size([2, 1024])\n",
            "input_ids shape: torch.Size([2, 1024])\n",
            "max input_ids value: tensor(95559)\n",
            "vocabulary size: 96103\n"
          ]
        },
        {
          "name": "stderr",
          "output_type": "stream",
          "text": [
            "\r  2%|▏         | 6/250 [02:07<1:25:10, 20.95s/it]"
          ]
        },
        {
          "name": "stdout",
          "output_type": "stream",
          "text": [
            "torch.Size([2, 128])\n",
            "torch.Size([2, 1024])\n",
            "input_ids shape: torch.Size([2, 1024])\n",
            "max input_ids value: tensor(88903)\n",
            "vocabulary size: 96103\n"
          ]
        },
        {
          "name": "stderr",
          "output_type": "stream",
          "text": [
            "\r  3%|▎         | 7/250 [02:28<1:24:41, 20.91s/it]"
          ]
        },
        {
          "name": "stdout",
          "output_type": "stream",
          "text": [
            "torch.Size([2, 128])\n",
            "torch.Size([2, 1024])\n",
            "input_ids shape: torch.Size([2, 1024])\n",
            "max input_ids value: tensor(85666)\n",
            "vocabulary size: 96103\n"
          ]
        },
        {
          "name": "stderr",
          "output_type": "stream",
          "text": [
            "\r  3%|▎         | 8/250 [02:50<1:25:48, 21.27s/it]"
          ]
        },
        {
          "name": "stdout",
          "output_type": "stream",
          "text": [
            "torch.Size([2, 128])\n",
            "torch.Size([2, 1024])\n",
            "input_ids shape: torch.Size([2, 1024])\n",
            "max input_ids value: tensor(92539)\n",
            "vocabulary size: 96103\n"
          ]
        },
        {
          "name": "stderr",
          "output_type": "stream",
          "text": [
            "\r  4%|▎         | 9/250 [03:10<1:24:23, 21.01s/it]"
          ]
        },
        {
          "name": "stdout",
          "output_type": "stream",
          "text": [
            "torch.Size([2, 128])\n",
            "torch.Size([2, 1024])\n",
            "input_ids shape: torch.Size([2, 1024])\n",
            "max input_ids value: tensor(89038)\n",
            "vocabulary size: 96103\n"
          ]
        },
        {
          "name": "stderr",
          "output_type": "stream",
          "text": [
            "\r  4%|▍         | 10/250 [03:31<1:23:40, 20.92s/it]"
          ]
        },
        {
          "name": "stdout",
          "output_type": "stream",
          "text": [
            "torch.Size([2, 128])\n",
            "torch.Size([2, 1024])\n",
            "input_ids shape: torch.Size([2, 1024])\n",
            "max input_ids value: tensor(95655)\n",
            "vocabulary size: 96103\n"
          ]
        },
        {
          "name": "stderr",
          "output_type": "stream",
          "text": [
            "\r  4%|▍         | 11/250 [03:52<1:23:12, 20.89s/it]"
          ]
        },
        {
          "name": "stdout",
          "output_type": "stream",
          "text": [
            "torch.Size([2, 128])\n",
            "torch.Size([2, 1024])\n",
            "input_ids shape: torch.Size([2, 1024])\n",
            "max input_ids value: tensor(95655)\n",
            "vocabulary size: 96103\n"
          ]
        },
        {
          "name": "stderr",
          "output_type": "stream",
          "text": [
            "\r  5%|▍         | 12/250 [04:13<1:23:07, 20.95s/it]"
          ]
        },
        {
          "name": "stdout",
          "output_type": "stream",
          "text": [
            "torch.Size([2, 128])\n",
            "torch.Size([2, 1024])\n",
            "input_ids shape: torch.Size([2, 1024])\n",
            "max input_ids value: tensor(94875)\n",
            "vocabulary size: 96103\n"
          ]
        },
        {
          "name": "stderr",
          "output_type": "stream",
          "text": [
            "\r  5%|▌         | 13/250 [04:34<1:22:23, 20.86s/it]"
          ]
        },
        {
          "name": "stdout",
          "output_type": "stream",
          "text": [
            "torch.Size([2, 128])\n",
            "torch.Size([2, 1024])\n",
            "input_ids shape: torch.Size([2, 1024])\n",
            "max input_ids value: tensor(93307)\n",
            "vocabulary size: 96103\n"
          ]
        },
        {
          "name": "stderr",
          "output_type": "stream",
          "text": [
            "\r  6%|▌         | 14/250 [04:54<1:21:20, 20.68s/it]"
          ]
        },
        {
          "name": "stdout",
          "output_type": "stream",
          "text": [
            "torch.Size([2, 128])\n",
            "torch.Size([2, 1024])\n",
            "input_ids shape: torch.Size([2, 1024])\n",
            "max input_ids value: tensor(92339)\n",
            "vocabulary size: 96103\n"
          ]
        },
        {
          "name": "stderr",
          "output_type": "stream",
          "text": [
            "\r  6%|▌         | 15/250 [05:15<1:21:09, 20.72s/it]"
          ]
        },
        {
          "name": "stdout",
          "output_type": "stream",
          "text": [
            "torch.Size([2, 128])\n",
            "torch.Size([2, 1024])\n",
            "input_ids shape: torch.Size([2, 1024])\n",
            "max input_ids value: tensor(84512)\n",
            "vocabulary size: 96103\n"
          ]
        },
        {
          "name": "stderr",
          "output_type": "stream",
          "text": [
            "\r  6%|▋         | 16/250 [05:39<1:24:47, 21.74s/it]"
          ]
        },
        {
          "name": "stdout",
          "output_type": "stream",
          "text": [
            "torch.Size([2, 128])\n",
            "torch.Size([2, 1024])\n",
            "input_ids shape: torch.Size([2, 1024])\n",
            "max input_ids value: tensor(86233)\n",
            "vocabulary size: 96103\n"
          ]
        },
        {
          "name": "stderr",
          "output_type": "stream",
          "text": [
            "\r  7%|▋         | 17/250 [06:00<1:23:46, 21.57s/it]"
          ]
        },
        {
          "name": "stdout",
          "output_type": "stream",
          "text": [
            "torch.Size([2, 128])\n",
            "torch.Size([2, 1024])\n",
            "input_ids shape: torch.Size([2, 1024])\n",
            "max input_ids value: tensor(89736)\n",
            "vocabulary size: 96103\n"
          ]
        },
        {
          "name": "stderr",
          "output_type": "stream",
          "text": [
            "\r  7%|▋         | 18/250 [06:21<1:22:17, 21.28s/it]"
          ]
        },
        {
          "name": "stdout",
          "output_type": "stream",
          "text": [
            "torch.Size([2, 128])\n",
            "torch.Size([2, 1024])\n",
            "input_ids shape: torch.Size([2, 1024])\n",
            "max input_ids value: tensor(89322)\n",
            "vocabulary size: 96103\n"
          ]
        },
        {
          "name": "stderr",
          "output_type": "stream",
          "text": [
            "\r  8%|▊         | 19/250 [06:41<1:21:06, 21.07s/it]"
          ]
        },
        {
          "name": "stdout",
          "output_type": "stream",
          "text": [
            "torch.Size([2, 128])\n",
            "torch.Size([2, 1024])\n",
            "input_ids shape: torch.Size([2, 1024])\n",
            "max input_ids value: tensor(95569)\n",
            "vocabulary size: 96103\n"
          ]
        },
        {
          "name": "stderr",
          "output_type": "stream",
          "text": [
            "\r  8%|▊         | 20/250 [07:03<1:21:34, 21.28s/it]"
          ]
        },
        {
          "name": "stdout",
          "output_type": "stream",
          "text": [
            "torch.Size([2, 128])\n",
            "torch.Size([2, 1024])\n",
            "input_ids shape: torch.Size([2, 1024])\n",
            "max input_ids value: tensor(95814)\n",
            "vocabulary size: 96103\n"
          ]
        },
        {
          "name": "stderr",
          "output_type": "stream",
          "text": [
            "\r  8%|▊         | 21/250 [07:24<1:20:51, 21.19s/it]"
          ]
        },
        {
          "name": "stdout",
          "output_type": "stream",
          "text": [
            "torch.Size([2, 128])\n",
            "torch.Size([2, 1024])\n",
            "input_ids shape: torch.Size([2, 1024])\n",
            "max input_ids value: tensor(95655)\n",
            "vocabulary size: 96103\n"
          ]
        },
        {
          "name": "stderr",
          "output_type": "stream",
          "text": [
            "\r  9%|▉         | 22/250 [07:45<1:19:58, 21.04s/it]"
          ]
        },
        {
          "name": "stdout",
          "output_type": "stream",
          "text": [
            "torch.Size([2, 128])\n",
            "torch.Size([2, 1024])\n",
            "input_ids shape: torch.Size([2, 1024])\n",
            "max input_ids value: tensor(93998)\n",
            "vocabulary size: 96103\n"
          ]
        },
        {
          "name": "stderr",
          "output_type": "stream",
          "text": [
            "\r  9%|▉         | 23/250 [08:06<1:19:28, 21.01s/it]"
          ]
        },
        {
          "name": "stdout",
          "output_type": "stream",
          "text": [
            "torch.Size([2, 128])\n",
            "torch.Size([2, 1024])\n",
            "input_ids shape: torch.Size([2, 1024])\n",
            "max input_ids value: tensor(91488)\n",
            "vocabulary size: 96103\n"
          ]
        },
        {
          "name": "stderr",
          "output_type": "stream",
          "text": [
            "\r 10%|▉         | 24/250 [08:28<1:20:30, 21.37s/it]"
          ]
        },
        {
          "name": "stdout",
          "output_type": "stream",
          "text": [
            "torch.Size([2, 128])\n",
            "torch.Size([2, 1024])\n",
            "input_ids shape: torch.Size([2, 1024])\n",
            "max input_ids value: tensor(94736)\n",
            "vocabulary size: 96103\n"
          ]
        },
        {
          "name": "stderr",
          "output_type": "stream",
          "text": [
            "\r 10%|█         | 25/250 [08:49<1:19:57, 21.32s/it]"
          ]
        },
        {
          "name": "stdout",
          "output_type": "stream",
          "text": [
            "torch.Size([2, 128])\n",
            "torch.Size([2, 1024])\n",
            "input_ids shape: torch.Size([2, 1024])\n",
            "max input_ids value: tensor(92943)\n",
            "vocabulary size: 96103\n"
          ]
        },
        {
          "name": "stderr",
          "output_type": "stream",
          "text": [
            "\r 10%|█         | 26/250 [09:10<1:19:06, 21.19s/it]"
          ]
        },
        {
          "name": "stdout",
          "output_type": "stream",
          "text": [
            "torch.Size([2, 128])\n",
            "torch.Size([2, 1024])\n",
            "input_ids shape: torch.Size([2, 1024])\n",
            "max input_ids value: tensor(94747)\n",
            "vocabulary size: 96103\n"
          ]
        },
        {
          "name": "stderr",
          "output_type": "stream",
          "text": [
            "\r 11%|█         | 27/250 [09:31<1:18:26, 21.10s/it]"
          ]
        },
        {
          "name": "stdout",
          "output_type": "stream",
          "text": [
            "torch.Size([2, 128])\n",
            "torch.Size([2, 1024])\n",
            "input_ids shape: torch.Size([2, 1024])\n",
            "max input_ids value: tensor(94082)\n",
            "vocabulary size: 96103\n"
          ]
        },
        {
          "name": "stderr",
          "output_type": "stream",
          "text": [
            "\r 11%|█         | 28/250 [09:53<1:19:15, 21.42s/it]"
          ]
        },
        {
          "name": "stdout",
          "output_type": "stream",
          "text": [
            "torch.Size([2, 128])\n",
            "torch.Size([2, 1024])\n",
            "input_ids shape: torch.Size([2, 1024])\n",
            "max input_ids value: tensor(92041)\n",
            "vocabulary size: 96103\n"
          ]
        },
        {
          "name": "stderr",
          "output_type": "stream",
          "text": [
            "\r 12%|█▏        | 29/250 [10:14<1:18:11, 21.23s/it]"
          ]
        },
        {
          "name": "stdout",
          "output_type": "stream",
          "text": [
            "torch.Size([2, 128])\n",
            "torch.Size([2, 1024])\n",
            "input_ids shape: torch.Size([2, 1024])\n",
            "max input_ids value: tensor(92296)\n",
            "vocabulary size: 96103\n"
          ]
        },
        {
          "name": "stderr",
          "output_type": "stream",
          "text": [
            "\r 12%|█▏        | 30/250 [10:34<1:17:13, 21.06s/it]"
          ]
        },
        {
          "name": "stdout",
          "output_type": "stream",
          "text": [
            "torch.Size([2, 128])\n",
            "torch.Size([2, 1024])\n",
            "input_ids shape: torch.Size([2, 1024])\n",
            "max input_ids value: tensor(95655)\n",
            "vocabulary size: 96103\n"
          ]
        },
        {
          "name": "stderr",
          "output_type": "stream",
          "text": [
            "\r 12%|█▏        | 31/250 [10:56<1:17:11, 21.15s/it]"
          ]
        },
        {
          "name": "stdout",
          "output_type": "stream",
          "text": [
            "torch.Size([2, 128])\n",
            "torch.Size([2, 1024])\n",
            "input_ids shape: torch.Size([2, 1024])\n",
            "max input_ids value: tensor(92646)\n",
            "vocabulary size: 96103\n"
          ]
        },
        {
          "name": "stderr",
          "output_type": "stream",
          "text": [
            "\r 13%|█▎        | 32/250 [11:17<1:16:47, 21.14s/it]"
          ]
        },
        {
          "name": "stdout",
          "output_type": "stream",
          "text": [
            "torch.Size([2, 128])\n",
            "torch.Size([2, 1024])\n",
            "input_ids shape: torch.Size([2, 1024])\n",
            "max input_ids value: tensor(91434)\n",
            "vocabulary size: 96103\n"
          ]
        },
        {
          "name": "stderr",
          "output_type": "stream",
          "text": [
            "\r 13%|█▎        | 33/250 [11:38<1:16:10, 21.06s/it]"
          ]
        },
        {
          "name": "stdout",
          "output_type": "stream",
          "text": [
            "torch.Size([2, 128])\n",
            "torch.Size([2, 1024])\n",
            "input_ids shape: torch.Size([2, 1024])\n",
            "max input_ids value: tensor(93963)\n",
            "vocabulary size: 96103\n"
          ]
        },
        {
          "name": "stderr",
          "output_type": "stream",
          "text": [
            "\r 14%|█▎        | 34/250 [11:58<1:15:24, 20.95s/it]"
          ]
        },
        {
          "name": "stdout",
          "output_type": "stream",
          "text": [
            "torch.Size([2, 128])\n",
            "torch.Size([2, 1024])\n",
            "input_ids shape: torch.Size([2, 1024])\n",
            "max input_ids value: tensor(95607)\n",
            "vocabulary size: 96103\n"
          ]
        },
        {
          "name": "stderr",
          "output_type": "stream",
          "text": [
            "\r 14%|█▍        | 35/250 [12:19<1:14:33, 20.81s/it]"
          ]
        },
        {
          "name": "stdout",
          "output_type": "stream",
          "text": [
            "torch.Size([2, 128])\n",
            "torch.Size([2, 1024])\n",
            "input_ids shape: torch.Size([2, 1024])\n",
            "max input_ids value: tensor(93818)\n",
            "vocabulary size: 96103\n"
          ]
        },
        {
          "name": "stderr",
          "output_type": "stream",
          "text": [
            "\r 14%|█▍        | 36/250 [12:41<1:15:21, 21.13s/it]"
          ]
        },
        {
          "name": "stdout",
          "output_type": "stream",
          "text": [
            "torch.Size([2, 128])\n",
            "torch.Size([2, 1024])\n",
            "input_ids shape: torch.Size([2, 1024])\n",
            "max input_ids value: tensor(95655)\n",
            "vocabulary size: 96103\n"
          ]
        },
        {
          "name": "stderr",
          "output_type": "stream",
          "text": [
            "\r 15%|█▍        | 37/250 [13:02<1:14:33, 21.00s/it]"
          ]
        },
        {
          "name": "stdout",
          "output_type": "stream",
          "text": [
            "torch.Size([2, 128])\n",
            "torch.Size([2, 1024])\n",
            "input_ids shape: torch.Size([2, 1024])\n",
            "max input_ids value: tensor(80834)\n",
            "vocabulary size: 96103\n"
          ]
        },
        {
          "name": "stderr",
          "output_type": "stream",
          "text": [
            "\r 15%|█▌        | 38/250 [13:22<1:13:52, 20.91s/it]"
          ]
        },
        {
          "name": "stdout",
          "output_type": "stream",
          "text": [
            "torch.Size([2, 128])\n",
            "torch.Size([2, 1024])\n",
            "input_ids shape: torch.Size([2, 1024])\n",
            "max input_ids value: tensor(90913)\n",
            "vocabulary size: 96103\n"
          ]
        },
        {
          "name": "stderr",
          "output_type": "stream",
          "text": [
            "\r 16%|█▌        | 39/250 [13:43<1:13:27, 20.89s/it]"
          ]
        },
        {
          "name": "stdout",
          "output_type": "stream",
          "text": [
            "torch.Size([2, 128])\n",
            "torch.Size([2, 1024])\n",
            "input_ids shape: torch.Size([2, 1024])\n",
            "max input_ids value: tensor(93307)\n",
            "vocabulary size: 96103\n"
          ]
        },
        {
          "name": "stderr",
          "output_type": "stream",
          "text": [
            "\r 16%|█▌        | 40/250 [14:04<1:13:31, 21.01s/it]"
          ]
        },
        {
          "name": "stdout",
          "output_type": "stream",
          "text": [
            "torch.Size([2, 128])\n",
            "torch.Size([2, 1024])\n",
            "input_ids shape: torch.Size([2, 1024])\n",
            "max input_ids value: tensor(89479)\n",
            "vocabulary size: 96103\n"
          ]
        },
        {
          "name": "stderr",
          "output_type": "stream",
          "text": [
            "\r 16%|█▋        | 41/250 [14:26<1:14:08, 21.29s/it]"
          ]
        },
        {
          "name": "stdout",
          "output_type": "stream",
          "text": [
            "torch.Size([2, 128])\n",
            "torch.Size([2, 1024])\n",
            "input_ids shape: torch.Size([2, 1024])\n",
            "max input_ids value: tensor(95020)\n",
            "vocabulary size: 96103\n"
          ]
        },
        {
          "name": "stderr",
          "output_type": "stream",
          "text": [
            "\r 17%|█▋        | 42/250 [14:47<1:12:50, 21.01s/it]"
          ]
        },
        {
          "name": "stdout",
          "output_type": "stream",
          "text": [
            "torch.Size([2, 128])\n",
            "torch.Size([2, 1024])\n",
            "input_ids shape: torch.Size([2, 1024])\n",
            "max input_ids value: tensor(93386)\n",
            "vocabulary size: 96103\n"
          ]
        },
        {
          "name": "stderr",
          "output_type": "stream",
          "text": [
            "\r 17%|█▋        | 43/250 [15:07<1:12:07, 20.91s/it]"
          ]
        },
        {
          "name": "stdout",
          "output_type": "stream",
          "text": [
            "torch.Size([2, 128])\n",
            "torch.Size([2, 1024])\n",
            "input_ids shape: torch.Size([2, 1024])\n",
            "max input_ids value: tensor(95085)\n",
            "vocabulary size: 96103\n"
          ]
        },
        {
          "name": "stderr",
          "output_type": "stream",
          "text": [
            "\r 18%|█▊        | 44/250 [15:28<1:11:47, 20.91s/it]"
          ]
        },
        {
          "name": "stdout",
          "output_type": "stream",
          "text": [
            "torch.Size([2, 128])\n",
            "torch.Size([2, 1024])\n",
            "input_ids shape: torch.Size([2, 1024])\n",
            "max input_ids value: tensor(92953)\n",
            "vocabulary size: 96103\n"
          ]
        },
        {
          "name": "stderr",
          "output_type": "stream",
          "text": [
            "\r 18%|█▊        | 45/250 [15:50<1:11:48, 21.02s/it]"
          ]
        },
        {
          "name": "stdout",
          "output_type": "stream",
          "text": [
            "torch.Size([2, 128])\n",
            "torch.Size([2, 1024])\n",
            "input_ids shape: torch.Size([2, 1024])\n",
            "max input_ids value: tensor(89575)\n",
            "vocabulary size: 96103\n"
          ]
        },
        {
          "name": "stderr",
          "output_type": "stream",
          "text": [
            "\r 18%|█▊        | 46/250 [16:10<1:10:58, 20.88s/it]"
          ]
        },
        {
          "name": "stdout",
          "output_type": "stream",
          "text": [
            "torch.Size([2, 128])\n",
            "torch.Size([2, 1024])\n",
            "input_ids shape: torch.Size([2, 1024])\n",
            "max input_ids value: tensor(94208)\n",
            "vocabulary size: 96103\n"
          ]
        },
        {
          "name": "stderr",
          "output_type": "stream",
          "text": [
            "\r 19%|█▉        | 47/250 [16:31<1:10:20, 20.79s/it]"
          ]
        },
        {
          "name": "stdout",
          "output_type": "stream",
          "text": [
            "torch.Size([2, 128])\n",
            "torch.Size([2, 1024])\n",
            "input_ids shape: torch.Size([2, 1024])\n",
            "max input_ids value: tensor(94760)\n",
            "vocabulary size: 96103\n"
          ]
        },
        {
          "name": "stderr",
          "output_type": "stream",
          "text": [
            "\r 19%|█▉        | 48/250 [16:51<1:09:48, 20.73s/it]"
          ]
        },
        {
          "name": "stdout",
          "output_type": "stream",
          "text": [
            "torch.Size([2, 128])\n",
            "torch.Size([2, 1024])\n",
            "input_ids shape: torch.Size([2, 1024])\n",
            "max input_ids value: tensor(89770)\n",
            "vocabulary size: 96103\n"
          ]
        },
        {
          "name": "stderr",
          "output_type": "stream",
          "text": [
            "\r 20%|█▉        | 49/250 [17:12<1:09:56, 20.88s/it]"
          ]
        },
        {
          "name": "stdout",
          "output_type": "stream",
          "text": [
            "torch.Size([2, 128])\n",
            "torch.Size([2, 1024])\n",
            "input_ids shape: torch.Size([2, 1024])\n",
            "max input_ids value: tensor(87635)\n",
            "vocabulary size: 96103\n"
          ]
        },
        {
          "name": "stderr",
          "output_type": "stream",
          "text": [
            "\r 20%|██        | 50/250 [17:34<1:10:36, 21.18s/it]"
          ]
        },
        {
          "name": "stdout",
          "output_type": "stream",
          "text": [
            "torch.Size([2, 128])\n",
            "torch.Size([2, 1024])\n",
            "input_ids shape: torch.Size([2, 1024])\n",
            "max input_ids value: tensor(94144)\n",
            "vocabulary size: 96103\n"
          ]
        },
        {
          "name": "stderr",
          "output_type": "stream",
          "text": [
            "\r 20%|██        | 51/250 [17:59<1:14:09, 22.36s/it]"
          ]
        },
        {
          "name": "stdout",
          "output_type": "stream",
          "text": [
            "torch.Size([2, 128])\n",
            "torch.Size([2, 1024])\n",
            "input_ids shape: torch.Size([2, 1024])\n",
            "max input_ids value: tensor(88835)\n",
            "vocabulary size: 96103\n"
          ]
        },
        {
          "name": "stderr",
          "output_type": "stream",
          "text": [
            "\r 21%|██        | 52/250 [18:20<1:12:24, 21.94s/it]"
          ]
        },
        {
          "name": "stdout",
          "output_type": "stream",
          "text": [
            "torch.Size([2, 128])\n",
            "torch.Size([2, 1024])\n",
            "input_ids shape: torch.Size([2, 1024])\n",
            "max input_ids value: tensor(95545)\n",
            "vocabulary size: 96103\n"
          ]
        },
        {
          "name": "stderr",
          "output_type": "stream",
          "text": [
            "\r 21%|██        | 53/250 [18:42<1:11:22, 21.74s/it]"
          ]
        },
        {
          "name": "stdout",
          "output_type": "stream",
          "text": [
            "torch.Size([2, 128])\n",
            "torch.Size([2, 1024])\n",
            "input_ids shape: torch.Size([2, 1024])\n",
            "max input_ids value: tensor(93346)\n",
            "vocabulary size: 96103\n"
          ]
        },
        {
          "name": "stderr",
          "output_type": "stream",
          "text": [
            "\r 22%|██▏       | 54/250 [19:02<1:09:56, 21.41s/it]"
          ]
        },
        {
          "name": "stdout",
          "output_type": "stream",
          "text": [
            "torch.Size([2, 128])\n",
            "torch.Size([2, 1024])\n",
            "input_ids shape: torch.Size([2, 1024])\n",
            "max input_ids value: tensor(89736)\n",
            "vocabulary size: 96103\n"
          ]
        },
        {
          "name": "stderr",
          "output_type": "stream",
          "text": [
            "\r 22%|██▏       | 55/250 [19:23<1:08:37, 21.12s/it]"
          ]
        },
        {
          "name": "stdout",
          "output_type": "stream",
          "text": [
            "torch.Size([2, 128])\n",
            "torch.Size([2, 1024])\n",
            "input_ids shape: torch.Size([2, 1024])\n",
            "max input_ids value: tensor(94208)\n",
            "vocabulary size: 96103\n"
          ]
        },
        {
          "name": "stderr",
          "output_type": "stream",
          "text": [
            "\r 22%|██▏       | 56/250 [19:43<1:07:43, 20.95s/it]"
          ]
        },
        {
          "name": "stdout",
          "output_type": "stream",
          "text": [
            "torch.Size([2, 128])\n",
            "torch.Size([2, 1024])\n",
            "input_ids shape: torch.Size([2, 1024])\n",
            "max input_ids value: tensor(92174)\n",
            "vocabulary size: 96103\n"
          ]
        },
        {
          "name": "stderr",
          "output_type": "stream",
          "text": [
            "\r 23%|██▎       | 57/250 [20:05<1:08:11, 21.20s/it]"
          ]
        },
        {
          "name": "stdout",
          "output_type": "stream",
          "text": [
            "torch.Size([2, 128])\n",
            "torch.Size([2, 1024])\n",
            "input_ids shape: torch.Size([2, 1024])\n",
            "max input_ids value: tensor(95274)\n",
            "vocabulary size: 96103\n"
          ]
        },
        {
          "name": "stderr",
          "output_type": "stream",
          "text": [
            "\r 23%|██▎       | 58/250 [20:25<1:06:56, 20.92s/it]"
          ]
        },
        {
          "name": "stdout",
          "output_type": "stream",
          "text": [
            "torch.Size([2, 128])\n",
            "torch.Size([2, 1024])\n",
            "input_ids shape: torch.Size([2, 1024])\n",
            "max input_ids value: tensor(87789)\n",
            "vocabulary size: 96103\n"
          ]
        },
        {
          "name": "stderr",
          "output_type": "stream",
          "text": [
            "\r 24%|██▎       | 59/250 [20:46<1:06:01, 20.74s/it]"
          ]
        },
        {
          "name": "stdout",
          "output_type": "stream",
          "text": [
            "torch.Size([2, 128])\n",
            "torch.Size([2, 1024])\n",
            "input_ids shape: torch.Size([2, 1024])\n",
            "max input_ids value: tensor(93307)\n",
            "vocabulary size: 96103\n"
          ]
        },
        {
          "name": "stderr",
          "output_type": "stream",
          "text": [
            "\r 24%|██▍       | 60/250 [21:06<1:05:14, 20.60s/it]"
          ]
        },
        {
          "name": "stdout",
          "output_type": "stream",
          "text": [
            "torch.Size([2, 128])\n",
            "torch.Size([2, 1024])\n",
            "input_ids shape: torch.Size([2, 1024])\n",
            "max input_ids value: tensor(94736)\n",
            "vocabulary size: 96103\n"
          ]
        },
        {
          "name": "stderr",
          "output_type": "stream",
          "text": [
            "\r 24%|██▍       | 61/250 [21:27<1:05:20, 20.74s/it]"
          ]
        },
        {
          "name": "stdout",
          "output_type": "stream",
          "text": [
            "torch.Size([2, 128])\n",
            "torch.Size([2, 1024])\n",
            "input_ids shape: torch.Size([2, 1024])\n",
            "max input_ids value: tensor(92512)\n",
            "vocabulary size: 96103\n"
          ]
        },
        {
          "name": "stderr",
          "output_type": "stream",
          "text": [
            "\r 25%|██▍       | 62/250 [21:49<1:06:05, 21.09s/it]"
          ]
        },
        {
          "name": "stdout",
          "output_type": "stream",
          "text": [
            "torch.Size([2, 128])\n",
            "torch.Size([2, 1024])\n",
            "input_ids shape: torch.Size([2, 1024])\n",
            "max input_ids value: tensor(90677)\n",
            "vocabulary size: 96103\n"
          ]
        },
        {
          "name": "stderr",
          "output_type": "stream",
          "text": [
            "\r 25%|██▌       | 63/250 [22:10<1:05:37, 21.05s/it]"
          ]
        },
        {
          "name": "stdout",
          "output_type": "stream",
          "text": [
            "torch.Size([2, 128])\n",
            "torch.Size([2, 1024])\n",
            "input_ids shape: torch.Size([2, 1024])\n",
            "max input_ids value: tensor(88961)\n",
            "vocabulary size: 96103\n"
          ]
        },
        {
          "name": "stderr",
          "output_type": "stream",
          "text": [
            "\r 26%|██▌       | 64/250 [22:31<1:05:28, 21.12s/it]"
          ]
        },
        {
          "name": "stdout",
          "output_type": "stream",
          "text": [
            "torch.Size([2, 128])\n",
            "torch.Size([2, 1024])\n",
            "input_ids shape: torch.Size([2, 1024])\n",
            "max input_ids value: tensor(89694)\n",
            "vocabulary size: 96103\n"
          ]
        },
        {
          "name": "stderr",
          "output_type": "stream",
          "text": [
            "\r 26%|██▌       | 65/250 [22:54<1:06:58, 21.72s/it]"
          ]
        },
        {
          "name": "stdout",
          "output_type": "stream",
          "text": [
            "torch.Size([2, 128])\n",
            "torch.Size([2, 1024])\n",
            "input_ids shape: torch.Size([2, 1024])\n",
            "max input_ids value: tensor(95370)\n",
            "vocabulary size: 96103\n"
          ]
        },
        {
          "name": "stderr",
          "output_type": "stream",
          "text": [
            "\r 26%|██▋       | 66/250 [23:16<1:06:39, 21.74s/it]"
          ]
        },
        {
          "name": "stdout",
          "output_type": "stream",
          "text": [
            "torch.Size([2, 128])\n",
            "torch.Size([2, 1024])\n",
            "input_ids shape: torch.Size([2, 1024])\n",
            "max input_ids value: tensor(92814)\n",
            "vocabulary size: 96103\n"
          ]
        },
        {
          "name": "stderr",
          "output_type": "stream",
          "text": [
            "\r 27%|██▋       | 67/250 [23:38<1:06:00, 21.64s/it]"
          ]
        },
        {
          "name": "stdout",
          "output_type": "stream",
          "text": [
            "torch.Size([2, 128])\n",
            "torch.Size([2, 1024])\n",
            "input_ids shape: torch.Size([2, 1024])\n",
            "max input_ids value: tensor(92339)\n",
            "vocabulary size: 96103\n"
          ]
        },
        {
          "name": "stderr",
          "output_type": "stream",
          "text": [
            "\r 27%|██▋       | 68/250 [23:59<1:05:51, 21.71s/it]"
          ]
        },
        {
          "name": "stdout",
          "output_type": "stream",
          "text": [
            "torch.Size([2, 128])\n",
            "torch.Size([2, 1024])\n",
            "input_ids shape: torch.Size([2, 1024])\n",
            "max input_ids value: tensor(88270)\n",
            "vocabulary size: 96103\n"
          ]
        },
        {
          "name": "stderr",
          "output_type": "stream",
          "text": [
            "\r 28%|██▊       | 69/250 [24:23<1:06:52, 22.17s/it]"
          ]
        },
        {
          "name": "stdout",
          "output_type": "stream",
          "text": [
            "torch.Size([2, 87])\n",
            "torch.Size([2, 1024])\n",
            "input_ids shape: torch.Size([2, 1024])\n",
            "max input_ids value: tensor(92393)\n",
            "vocabulary size: 96103\n"
          ]
        },
        {
          "name": "stderr",
          "output_type": "stream",
          "text": [
            "\r 28%|██▊       | 70/250 [24:44<1:06:10, 22.06s/it]"
          ]
        },
        {
          "name": "stdout",
          "output_type": "stream",
          "text": [
            "torch.Size([2, 128])\n",
            "torch.Size([2, 1024])\n",
            "input_ids shape: torch.Size([2, 1024])\n",
            "max input_ids value: tensor(92814)\n",
            "vocabulary size: 96103\n"
          ]
        },
        {
          "name": "stderr",
          "output_type": "stream",
          "text": [
            "\r 28%|██▊       | 71/250 [25:06<1:05:05, 21.82s/it]"
          ]
        },
        {
          "name": "stdout",
          "output_type": "stream",
          "text": [
            "torch.Size([2, 128])\n",
            "torch.Size([2, 1024])\n",
            "input_ids shape: torch.Size([2, 1024])\n",
            "max input_ids value: tensor(81824)\n",
            "vocabulary size: 96103\n"
          ]
        },
        {
          "name": "stderr",
          "output_type": "stream",
          "text": [
            "\r 29%|██▉       | 72/250 [25:28<1:05:22, 22.04s/it]"
          ]
        },
        {
          "name": "stdout",
          "output_type": "stream",
          "text": [
            "torch.Size([2, 84])\n",
            "torch.Size([2, 1024])\n",
            "input_ids shape: torch.Size([2, 1024])\n",
            "max input_ids value: tensor(95655)\n",
            "vocabulary size: 96103\n"
          ]
        },
        {
          "name": "stderr",
          "output_type": "stream",
          "text": [
            "\r 29%|██▉       | 73/250 [25:51<1:05:39, 22.25s/it]"
          ]
        },
        {
          "name": "stdout",
          "output_type": "stream",
          "text": [
            "torch.Size([2, 128])\n",
            "torch.Size([2, 1024])\n",
            "input_ids shape: torch.Size([2, 1024])\n",
            "max input_ids value: tensor(92549)\n",
            "vocabulary size: 96103\n"
          ]
        },
        {
          "name": "stderr",
          "output_type": "stream",
          "text": [
            "\r 30%|██▉       | 74/250 [26:12<1:04:37, 22.03s/it]"
          ]
        },
        {
          "name": "stdout",
          "output_type": "stream",
          "text": [
            "torch.Size([2, 128])\n",
            "torch.Size([2, 1024])\n",
            "input_ids shape: torch.Size([2, 1024])\n",
            "max input_ids value: tensor(94439)\n",
            "vocabulary size: 96103\n"
          ]
        },
        {
          "name": "stderr",
          "output_type": "stream",
          "text": [
            "\r 30%|███       | 75/250 [26:34<1:04:06, 21.98s/it]"
          ]
        },
        {
          "name": "stdout",
          "output_type": "stream",
          "text": [
            "torch.Size([2, 128])\n",
            "torch.Size([2, 1024])\n",
            "input_ids shape: torch.Size([2, 1024])\n",
            "max input_ids value: tensor(86029)\n",
            "vocabulary size: 96103\n"
          ]
        },
        {
          "name": "stderr",
          "output_type": "stream",
          "text": [
            "\r 30%|███       | 76/250 [26:56<1:03:40, 21.96s/it]"
          ]
        },
        {
          "name": "stdout",
          "output_type": "stream",
          "text": [
            "torch.Size([2, 128])\n",
            "torch.Size([2, 1024])\n",
            "input_ids shape: torch.Size([2, 1024])\n",
            "max input_ids value: tensor(93307)\n",
            "vocabulary size: 96103\n"
          ]
        },
        {
          "name": "stderr",
          "output_type": "stream",
          "text": [
            "\r 31%|███       | 77/250 [27:18<1:02:43, 21.75s/it]"
          ]
        },
        {
          "name": "stdout",
          "output_type": "stream",
          "text": [
            "torch.Size([2, 128])\n",
            "torch.Size([2, 1024])\n",
            "input_ids shape: torch.Size([2, 1024])\n",
            "max input_ids value: tensor(91116)\n",
            "vocabulary size: 96103\n"
          ]
        },
        {
          "name": "stderr",
          "output_type": "stream",
          "text": [
            "\r 31%|███       | 78/250 [27:39<1:02:04, 21.65s/it]"
          ]
        },
        {
          "name": "stdout",
          "output_type": "stream",
          "text": [
            "torch.Size([2, 128])\n",
            "torch.Size([2, 1024])\n",
            "input_ids shape: torch.Size([2, 1024])\n",
            "max input_ids value: tensor(94875)\n",
            "vocabulary size: 96103\n"
          ]
        },
        {
          "name": "stderr",
          "output_type": "stream",
          "text": [
            "\r 32%|███▏      | 79/250 [28:01<1:02:04, 21.78s/it]"
          ]
        },
        {
          "name": "stdout",
          "output_type": "stream",
          "text": [
            "torch.Size([2, 128])\n",
            "torch.Size([2, 1024])\n",
            "input_ids shape: torch.Size([2, 1024])\n",
            "max input_ids value: tensor(93293)\n",
            "vocabulary size: 96103\n"
          ]
        },
        {
          "name": "stderr",
          "output_type": "stream",
          "text": [
            "\r 32%|███▏      | 80/250 [28:23<1:01:45, 21.80s/it]"
          ]
        },
        {
          "name": "stdout",
          "output_type": "stream",
          "text": [
            "torch.Size([2, 128])\n",
            "torch.Size([2, 1024])\n",
            "input_ids shape: torch.Size([2, 1024])\n",
            "max input_ids value: tensor(96081)\n",
            "vocabulary size: 96103\n"
          ]
        },
        {
          "name": "stderr",
          "output_type": "stream",
          "text": [
            "\r 32%|███▏      | 81/250 [28:44<1:01:09, 21.71s/it]"
          ]
        },
        {
          "name": "stdout",
          "output_type": "stream",
          "text": [
            "torch.Size([2, 128])\n",
            "torch.Size([2, 1024])\n",
            "input_ids shape: torch.Size([2, 1024])\n",
            "max input_ids value: tensor(94144)\n",
            "vocabulary size: 96103\n"
          ]
        },
        {
          "name": "stderr",
          "output_type": "stream",
          "text": [
            "\r 33%|███▎      | 82/250 [29:07<1:01:36, 22.00s/it]"
          ]
        },
        {
          "name": "stdout",
          "output_type": "stream",
          "text": [
            "torch.Size([2, 128])\n",
            "torch.Size([2, 1024])\n",
            "input_ids shape: torch.Size([2, 1024])\n",
            "max input_ids value: tensor(88279)\n",
            "vocabulary size: 96103\n"
          ]
        },
        {
          "name": "stderr",
          "output_type": "stream",
          "text": [
            "\r 33%|███▎      | 83/250 [29:30<1:01:36, 22.14s/it]"
          ]
        },
        {
          "name": "stdout",
          "output_type": "stream",
          "text": [
            "torch.Size([2, 128])\n",
            "torch.Size([2, 1024])\n",
            "input_ids shape: torch.Size([2, 1024])\n",
            "max input_ids value: tensor(93055)\n",
            "vocabulary size: 96103\n"
          ]
        },
        {
          "name": "stderr",
          "output_type": "stream",
          "text": [
            "\r 34%|███▎      | 84/250 [29:52<1:01:09, 22.10s/it]"
          ]
        },
        {
          "name": "stdout",
          "output_type": "stream",
          "text": [
            "torch.Size([2, 128])\n",
            "torch.Size([2, 1024])\n",
            "input_ids shape: torch.Size([2, 1024])\n",
            "max input_ids value: tensor(93307)\n",
            "vocabulary size: 96103\n"
          ]
        },
        {
          "name": "stderr",
          "output_type": "stream",
          "text": [
            "\r 34%|███▍      | 85/250 [30:13<1:00:26, 21.98s/it]"
          ]
        },
        {
          "name": "stdout",
          "output_type": "stream",
          "text": [
            "torch.Size([2, 128])\n",
            "torch.Size([2, 1024])\n",
            "input_ids shape: torch.Size([2, 1024])\n",
            "max input_ids value: tensor(83022)\n",
            "vocabulary size: 96103\n"
          ]
        },
        {
          "name": "stderr",
          "output_type": "stream",
          "text": [
            "\r 34%|███▍      | 86/250 [30:34<59:15, 21.68s/it]  "
          ]
        },
        {
          "name": "stdout",
          "output_type": "stream",
          "text": [
            "torch.Size([2, 66])\n",
            "torch.Size([2, 1024])\n",
            "input_ids shape: torch.Size([2, 1024])\n",
            "max input_ids value: tensor(92437)\n",
            "vocabulary size: 96103\n"
          ]
        },
        {
          "name": "stderr",
          "output_type": "stream",
          "text": [
            "\r 35%|███▍      | 87/250 [30:56<59:16, 21.82s/it]"
          ]
        },
        {
          "name": "stdout",
          "output_type": "stream",
          "text": [
            "torch.Size([2, 128])\n",
            "torch.Size([2, 1024])\n",
            "input_ids shape: torch.Size([2, 1024])\n",
            "max input_ids value: tensor(95554)\n",
            "vocabulary size: 96103\n"
          ]
        },
        {
          "name": "stderr",
          "output_type": "stream",
          "text": [
            "\r 35%|███▌      | 88/250 [31:18<58:44, 21.76s/it]"
          ]
        },
        {
          "name": "stdout",
          "output_type": "stream",
          "text": [
            "torch.Size([2, 128])\n",
            "torch.Size([2, 1024])\n",
            "input_ids shape: torch.Size([2, 1024])\n",
            "max input_ids value: tensor(83318)\n",
            "vocabulary size: 96103\n"
          ]
        },
        {
          "name": "stderr",
          "output_type": "stream",
          "text": [
            "\r 36%|███▌      | 89/250 [31:40<58:22, 21.76s/it]"
          ]
        },
        {
          "name": "stdout",
          "output_type": "stream",
          "text": [
            "torch.Size([2, 128])\n",
            "torch.Size([2, 1024])\n",
            "input_ids shape: torch.Size([2, 1024])\n",
            "max input_ids value: tensor(94823)\n",
            "vocabulary size: 96103\n"
          ]
        },
        {
          "name": "stderr",
          "output_type": "stream",
          "text": [
            "\r 36%|███▌      | 90/250 [32:02<58:40, 22.01s/it]"
          ]
        },
        {
          "name": "stdout",
          "output_type": "stream",
          "text": [
            "torch.Size([2, 128])\n",
            "torch.Size([2, 1024])\n",
            "input_ids shape: torch.Size([2, 1024])\n",
            "max input_ids value: tensor(93528)\n",
            "vocabulary size: 96103\n"
          ]
        },
        {
          "name": "stderr",
          "output_type": "stream",
          "text": [
            "\r 36%|███▋      | 91/250 [32:25<58:42, 22.15s/it]"
          ]
        },
        {
          "name": "stdout",
          "output_type": "stream",
          "text": [
            "torch.Size([2, 128])\n",
            "torch.Size([2, 1024])\n",
            "input_ids shape: torch.Size([2, 1024])\n",
            "max input_ids value: tensor(94875)\n",
            "vocabulary size: 96103\n"
          ]
        },
        {
          "name": "stderr",
          "output_type": "stream",
          "text": [
            "\r 37%|███▋      | 92/250 [32:47<58:16, 22.13s/it]"
          ]
        },
        {
          "name": "stdout",
          "output_type": "stream",
          "text": [
            "torch.Size([2, 128])\n",
            "torch.Size([2, 1024])\n",
            "input_ids shape: torch.Size([2, 1024])\n",
            "max input_ids value: tensor(94760)\n",
            "vocabulary size: 96103\n"
          ]
        },
        {
          "name": "stderr",
          "output_type": "stream",
          "text": [
            "\r 37%|███▋      | 93/250 [33:09<58:09, 22.23s/it]"
          ]
        },
        {
          "name": "stdout",
          "output_type": "stream",
          "text": [
            "torch.Size([2, 128])\n",
            "torch.Size([2, 1024])\n",
            "input_ids shape: torch.Size([2, 1024])\n",
            "max input_ids value: tensor(91185)\n",
            "vocabulary size: 96103\n"
          ]
        },
        {
          "name": "stderr",
          "output_type": "stream",
          "text": [
            "\r 38%|███▊      | 94/250 [33:32<58:03, 22.33s/it]"
          ]
        },
        {
          "name": "stdout",
          "output_type": "stream",
          "text": [
            "torch.Size([2, 128])\n",
            "torch.Size([2, 1024])\n",
            "input_ids shape: torch.Size([2, 1024])\n",
            "max input_ids value: tensor(95199)\n",
            "vocabulary size: 96103\n"
          ]
        },
        {
          "name": "stderr",
          "output_type": "stream",
          "text": [
            "\r 38%|███▊      | 95/250 [33:54<57:15, 22.16s/it]"
          ]
        },
        {
          "name": "stdout",
          "output_type": "stream",
          "text": [
            "torch.Size([2, 128])\n",
            "torch.Size([2, 1024])\n",
            "input_ids shape: torch.Size([2, 1024])\n",
            "max input_ids value: tensor(88968)\n",
            "vocabulary size: 96103\n"
          ]
        },
        {
          "name": "stderr",
          "output_type": "stream",
          "text": [
            "\r 38%|███▊      | 96/250 [34:15<56:30, 22.02s/it]"
          ]
        },
        {
          "name": "stdout",
          "output_type": "stream",
          "text": [
            "torch.Size([2, 128])\n",
            "torch.Size([2, 1024])\n",
            "input_ids shape: torch.Size([2, 1024])\n",
            "max input_ids value: tensor(95655)\n",
            "vocabulary size: 96103\n"
          ]
        },
        {
          "name": "stderr",
          "output_type": "stream",
          "text": [
            "\r 39%|███▉      | 97/250 [34:38<56:24, 22.12s/it]"
          ]
        },
        {
          "name": "stdout",
          "output_type": "stream",
          "text": [
            "torch.Size([2, 128])\n",
            "torch.Size([2, 1024])\n",
            "input_ids shape: torch.Size([2, 1024])\n",
            "max input_ids value: tensor(95199)\n",
            "vocabulary size: 96103\n"
          ]
        },
        {
          "name": "stderr",
          "output_type": "stream",
          "text": [
            "\r 39%|███▉      | 98/250 [35:00<55:55, 22.07s/it]"
          ]
        },
        {
          "name": "stdout",
          "output_type": "stream",
          "text": [
            "torch.Size([2, 128])\n",
            "torch.Size([2, 1024])\n",
            "input_ids shape: torch.Size([2, 1024])\n",
            "max input_ids value: tensor(86891)\n",
            "vocabulary size: 96103\n"
          ]
        },
        {
          "name": "stderr",
          "output_type": "stream",
          "text": [
            "\r 40%|███▉      | 99/250 [35:21<54:54, 21.82s/it]"
          ]
        },
        {
          "name": "stdout",
          "output_type": "stream",
          "text": [
            "torch.Size([2, 128])\n",
            "torch.Size([2, 1024])\n",
            "input_ids shape: torch.Size([2, 1024])\n",
            "max input_ids value: tensor(94648)\n",
            "vocabulary size: 96103\n"
          ]
        },
        {
          "name": "stderr",
          "output_type": "stream",
          "text": [
            "\r 40%|████      | 100/250 [35:43<54:23, 21.76s/it]"
          ]
        },
        {
          "name": "stdout",
          "output_type": "stream",
          "text": [
            "torch.Size([2, 128])\n",
            "torch.Size([2, 1024])\n",
            "input_ids shape: torch.Size([2, 1024])\n",
            "max input_ids value: tensor(95540)\n",
            "vocabulary size: 96103\n"
          ]
        },
        {
          "name": "stderr",
          "output_type": "stream",
          "text": [
            "\r 40%|████      | 101/250 [36:05<54:21, 21.89s/it]"
          ]
        },
        {
          "name": "stdout",
          "output_type": "stream",
          "text": [
            "torch.Size([2, 128])\n",
            "torch.Size([2, 1024])\n",
            "input_ids shape: torch.Size([2, 1024])\n",
            "max input_ids value: tensor(93634)\n",
            "vocabulary size: 96103\n"
          ]
        },
        {
          "name": "stderr",
          "output_type": "stream",
          "text": [
            "\r 41%|████      | 102/250 [36:26<53:45, 21.80s/it]"
          ]
        },
        {
          "name": "stdout",
          "output_type": "stream",
          "text": [
            "torch.Size([2, 128])\n",
            "torch.Size([2, 1024])\n",
            "input_ids shape: torch.Size([2, 1024])\n",
            "max input_ids value: tensor(90763)\n",
            "vocabulary size: 96103\n"
          ]
        },
        {
          "name": "stderr",
          "output_type": "stream",
          "text": [
            "\r 41%|████      | 103/250 [36:47<52:55, 21.60s/it]"
          ]
        },
        {
          "name": "stdout",
          "output_type": "stream",
          "text": [
            "torch.Size([2, 128])\n",
            "torch.Size([2, 1024])\n",
            "input_ids shape: torch.Size([2, 1024])\n",
            "max input_ids value: tensor(93818)\n",
            "vocabulary size: 96103\n"
          ]
        },
        {
          "name": "stderr",
          "output_type": "stream",
          "text": [
            "\r 42%|████▏     | 104/250 [37:09<52:43, 21.67s/it]"
          ]
        },
        {
          "name": "stdout",
          "output_type": "stream",
          "text": [
            "torch.Size([2, 128])\n",
            "torch.Size([2, 1024])\n",
            "input_ids shape: torch.Size([2, 1024])\n",
            "max input_ids value: tensor(92547)\n",
            "vocabulary size: 96103\n"
          ]
        },
        {
          "name": "stderr",
          "output_type": "stream",
          "text": [
            "\r 42%|████▏     | 105/250 [37:32<52:51, 21.87s/it]"
          ]
        },
        {
          "name": "stdout",
          "output_type": "stream",
          "text": [
            "torch.Size([2, 128])\n",
            "torch.Size([2, 1024])\n",
            "input_ids shape: torch.Size([2, 1024])\n",
            "max input_ids value: tensor(94530)\n",
            "vocabulary size: 96103\n"
          ]
        },
        {
          "name": "stderr",
          "output_type": "stream",
          "text": [
            "\r 42%|████▏     | 106/250 [37:53<52:04, 21.70s/it]"
          ]
        },
        {
          "name": "stdout",
          "output_type": "stream",
          "text": [
            "torch.Size([2, 128])\n",
            "torch.Size([2, 1024])\n",
            "input_ids shape: torch.Size([2, 1024])\n",
            "max input_ids value: tensor(72643)\n",
            "vocabulary size: 96103\n"
          ]
        },
        {
          "name": "stderr",
          "output_type": "stream",
          "text": [
            "\r 43%|████▎     | 107/250 [38:14<51:26, 21.59s/it]"
          ]
        },
        {
          "name": "stdout",
          "output_type": "stream",
          "text": [
            "torch.Size([2, 128])\n",
            "torch.Size([2, 1024])\n",
            "input_ids shape: torch.Size([2, 1024])\n",
            "max input_ids value: tensor(90098)\n",
            "vocabulary size: 96103\n"
          ]
        },
        {
          "name": "stderr",
          "output_type": "stream",
          "text": [
            "\r 43%|████▎     | 108/250 [38:36<51:07, 21.60s/it]"
          ]
        },
        {
          "name": "stdout",
          "output_type": "stream",
          "text": [
            "torch.Size([2, 128])\n",
            "torch.Size([2, 1024])\n",
            "input_ids shape: torch.Size([2, 1024])\n",
            "max input_ids value: tensor(94674)\n",
            "vocabulary size: 96103\n"
          ]
        },
        {
          "name": "stderr",
          "output_type": "stream",
          "text": [
            "\r 44%|████▎     | 109/250 [38:57<50:42, 21.58s/it]"
          ]
        },
        {
          "name": "stdout",
          "output_type": "stream",
          "text": [
            "torch.Size([2, 128])\n",
            "torch.Size([2, 1024])\n",
            "input_ids shape: torch.Size([2, 1024])\n",
            "max input_ids value: tensor(94864)\n",
            "vocabulary size: 96103\n"
          ]
        },
        {
          "name": "stderr",
          "output_type": "stream",
          "text": [
            "\r 44%|████▍     | 110/250 [39:19<50:07, 21.48s/it]"
          ]
        },
        {
          "name": "stdout",
          "output_type": "stream",
          "text": [
            "torch.Size([2, 128])\n",
            "torch.Size([2, 1024])\n",
            "input_ids shape: torch.Size([2, 1024])\n",
            "max input_ids value: tensor(89995)\n",
            "vocabulary size: 96103\n"
          ]
        },
        {
          "name": "stderr",
          "output_type": "stream",
          "text": [
            "\r 44%|████▍     | 111/250 [39:40<49:46, 21.48s/it]"
          ]
        },
        {
          "name": "stdout",
          "output_type": "stream",
          "text": [
            "torch.Size([2, 128])\n",
            "torch.Size([2, 1024])\n",
            "input_ids shape: torch.Size([2, 1024])\n",
            "max input_ids value: tensor(89114)\n",
            "vocabulary size: 96103\n"
          ]
        },
        {
          "name": "stderr",
          "output_type": "stream",
          "text": [
            "\r 45%|████▍     | 112/250 [40:02<49:42, 21.61s/it]"
          ]
        },
        {
          "name": "stdout",
          "output_type": "stream",
          "text": [
            "torch.Size([2, 128])\n",
            "torch.Size([2, 1024])\n",
            "input_ids shape: torch.Size([2, 1024])\n",
            "max input_ids value: tensor(83803)\n",
            "vocabulary size: 96103\n"
          ]
        },
        {
          "name": "stderr",
          "output_type": "stream",
          "text": [
            "\r 45%|████▌     | 113/250 [40:24<49:34, 21.71s/it]"
          ]
        },
        {
          "name": "stdout",
          "output_type": "stream",
          "text": [
            "torch.Size([2, 128])\n",
            "torch.Size([2, 1024])\n",
            "input_ids shape: torch.Size([2, 1024])\n",
            "max input_ids value: tensor(95707)\n",
            "vocabulary size: 96103\n"
          ]
        },
        {
          "name": "stderr",
          "output_type": "stream",
          "text": [
            "\r 46%|████▌     | 114/250 [40:45<48:44, 21.50s/it]"
          ]
        },
        {
          "name": "stdout",
          "output_type": "stream",
          "text": [
            "torch.Size([2, 128])\n",
            "torch.Size([2, 1024])\n",
            "input_ids shape: torch.Size([2, 1024])\n",
            "max input_ids value: tensor(95139)\n",
            "vocabulary size: 96103\n"
          ]
        },
        {
          "name": "stderr",
          "output_type": "stream",
          "text": [
            "\r 46%|████▌     | 115/250 [41:06<48:09, 21.41s/it]"
          ]
        },
        {
          "name": "stdout",
          "output_type": "stream",
          "text": [
            "torch.Size([2, 128])\n",
            "torch.Size([2, 1024])\n",
            "input_ids shape: torch.Size([2, 1024])\n",
            "max input_ids value: tensor(89038)\n",
            "vocabulary size: 96103\n"
          ]
        },
        {
          "name": "stderr",
          "output_type": "stream",
          "text": [
            "\r 46%|████▋     | 116/250 [41:28<47:57, 21.47s/it]"
          ]
        },
        {
          "name": "stdout",
          "output_type": "stream",
          "text": [
            "torch.Size([2, 128])\n",
            "torch.Size([2, 1024])\n",
            "input_ids shape: torch.Size([2, 1024])\n",
            "max input_ids value: tensor(85896)\n",
            "vocabulary size: 96103\n"
          ]
        },
        {
          "name": "stderr",
          "output_type": "stream",
          "text": [
            "\r 47%|████▋     | 117/250 [41:50<47:46, 21.55s/it]"
          ]
        },
        {
          "name": "stdout",
          "output_type": "stream",
          "text": [
            "torch.Size([2, 128])\n",
            "torch.Size([2, 1024])\n",
            "input_ids shape: torch.Size([2, 1024])\n",
            "max input_ids value: tensor(84421)\n",
            "vocabulary size: 96103\n"
          ]
        },
        {
          "name": "stderr",
          "output_type": "stream",
          "text": [
            "\r 47%|████▋     | 118/250 [42:12<48:15, 21.94s/it]"
          ]
        },
        {
          "name": "stdout",
          "output_type": "stream",
          "text": [
            "torch.Size([2, 128])\n",
            "torch.Size([2, 1024])\n",
            "input_ids shape: torch.Size([2, 1024])\n",
            "max input_ids value: tensor(94830)\n",
            "vocabulary size: 96103\n"
          ]
        },
        {
          "name": "stderr",
          "output_type": "stream",
          "text": [
            "\r 48%|████▊     | 119/250 [42:33<47:16, 21.65s/it]"
          ]
        },
        {
          "name": "stdout",
          "output_type": "stream",
          "text": [
            "torch.Size([2, 128])\n",
            "torch.Size([2, 1024])\n",
            "input_ids shape: torch.Size([2, 1024])\n",
            "max input_ids value: tensor(92676)\n",
            "vocabulary size: 96103\n"
          ]
        },
        {
          "name": "stderr",
          "output_type": "stream",
          "text": [
            "\r 48%|████▊     | 120/250 [42:55<46:46, 21.59s/it]"
          ]
        },
        {
          "name": "stdout",
          "output_type": "stream",
          "text": [
            "torch.Size([2, 128])\n",
            "torch.Size([2, 1024])\n",
            "input_ids shape: torch.Size([2, 1024])\n",
            "max input_ids value: tensor(95783)\n",
            "vocabulary size: 96103\n"
          ]
        },
        {
          "name": "stderr",
          "output_type": "stream",
          "text": [
            "\r 48%|████▊     | 121/250 [43:17<46:30, 21.63s/it]"
          ]
        },
        {
          "name": "stdout",
          "output_type": "stream",
          "text": [
            "torch.Size([2, 128])\n",
            "torch.Size([2, 1024])\n",
            "input_ids shape: torch.Size([2, 1024])\n",
            "max input_ids value: tensor(94208)\n",
            "vocabulary size: 96103\n"
          ]
        },
        {
          "name": "stderr",
          "output_type": "stream",
          "text": [
            "\r 49%|████▉     | 122/250 [43:38<45:48, 21.47s/it]"
          ]
        },
        {
          "name": "stdout",
          "output_type": "stream",
          "text": [
            "torch.Size([2, 128])\n",
            "torch.Size([2, 1024])\n",
            "input_ids shape: torch.Size([2, 1024])\n",
            "max input_ids value: tensor(95655)\n",
            "vocabulary size: 96103\n"
          ]
        },
        {
          "name": "stderr",
          "output_type": "stream",
          "text": [
            "\r 49%|████▉     | 123/250 [43:59<45:07, 21.32s/it]"
          ]
        },
        {
          "name": "stdout",
          "output_type": "stream",
          "text": [
            "torch.Size([2, 128])\n",
            "torch.Size([2, 1024])\n",
            "input_ids shape: torch.Size([2, 1024])\n",
            "max input_ids value: tensor(91497)\n",
            "vocabulary size: 96103\n"
          ]
        },
        {
          "name": "stderr",
          "output_type": "stream",
          "text": [
            "\r 50%|████▉     | 124/250 [44:20<44:57, 21.41s/it]"
          ]
        },
        {
          "name": "stdout",
          "output_type": "stream",
          "text": [
            "torch.Size([2, 128])\n",
            "torch.Size([2, 1024])\n",
            "input_ids shape: torch.Size([2, 1024])\n",
            "max input_ids value: tensor(91889)\n",
            "vocabulary size: 96103\n"
          ]
        },
        {
          "name": "stderr",
          "output_type": "stream",
          "text": [
            "\r 50%|█████     | 125/250 [44:42<44:37, 21.42s/it]"
          ]
        },
        {
          "name": "stdout",
          "output_type": "stream",
          "text": [
            "torch.Size([2, 128])\n",
            "torch.Size([2, 1024])\n",
            "input_ids shape: torch.Size([2, 1024])\n",
            "max input_ids value: tensor(92943)\n",
            "vocabulary size: 96103\n"
          ]
        },
        {
          "name": "stderr",
          "output_type": "stream",
          "text": [
            "\r 50%|█████     | 126/250 [45:03<44:03, 21.32s/it]"
          ]
        },
        {
          "name": "stdout",
          "output_type": "stream",
          "text": [
            "torch.Size([2, 128])\n",
            "torch.Size([2, 1024])\n",
            "input_ids shape: torch.Size([2, 1024])\n",
            "max input_ids value: tensor(95655)\n",
            "vocabulary size: 96103\n"
          ]
        },
        {
          "name": "stderr",
          "output_type": "stream",
          "text": [
            "\r 51%|█████     | 127/250 [45:23<43:18, 21.12s/it]"
          ]
        },
        {
          "name": "stdout",
          "output_type": "stream",
          "text": [
            "torch.Size([2, 128])\n",
            "torch.Size([2, 1024])\n",
            "input_ids shape: torch.Size([2, 1024])\n",
            "max input_ids value: tensor(88983)\n",
            "vocabulary size: 96103\n"
          ]
        },
        {
          "name": "stderr",
          "output_type": "stream",
          "text": [
            "\r 51%|█████     | 128/250 [45:44<42:45, 21.03s/it]"
          ]
        },
        {
          "name": "stdout",
          "output_type": "stream",
          "text": [
            "torch.Size([2, 128])\n",
            "torch.Size([2, 1024])\n",
            "input_ids shape: torch.Size([2, 1024])\n",
            "max input_ids value: tensor(95556)\n",
            "vocabulary size: 96103\n"
          ]
        },
        {
          "name": "stderr",
          "output_type": "stream",
          "text": [
            "\r 52%|█████▏    | 129/250 [46:06<42:45, 21.20s/it]"
          ]
        },
        {
          "name": "stdout",
          "output_type": "stream",
          "text": [
            "torch.Size([2, 128])\n",
            "torch.Size([2, 1024])\n",
            "input_ids shape: torch.Size([2, 1024])\n",
            "max input_ids value: tensor(95832)\n",
            "vocabulary size: 96103\n"
          ]
        },
        {
          "name": "stderr",
          "output_type": "stream",
          "text": [
            "\r 52%|█████▏    | 130/250 [46:27<42:11, 21.09s/it]"
          ]
        },
        {
          "name": "stdout",
          "output_type": "stream",
          "text": [
            "torch.Size([2, 128])\n",
            "torch.Size([2, 1024])\n",
            "input_ids shape: torch.Size([2, 1024])\n",
            "max input_ids value: tensor(89672)\n",
            "vocabulary size: 96103\n"
          ]
        },
        {
          "name": "stderr",
          "output_type": "stream",
          "text": [
            "\r 52%|█████▏    | 131/250 [46:41<38:03, 19.19s/it]"
          ]
        },
        {
          "name": "stdout",
          "output_type": "stream",
          "text": [
            "torch.Size([2, 87])\n",
            "torch.Size([2, 1024])\n",
            "input_ids shape: torch.Size([2, 1024])\n",
            "max input_ids value: tensor(94517)\n",
            "vocabulary size: 96103\n"
          ]
        },
        {
          "name": "stderr",
          "output_type": "stream",
          "text": [
            "\r 53%|█████▎    | 132/250 [47:02<38:36, 19.63s/it]"
          ]
        },
        {
          "name": "stdout",
          "output_type": "stream",
          "text": [
            "torch.Size([2, 128])\n",
            "torch.Size([2, 1024])\n",
            "input_ids shape: torch.Size([2, 1024])\n",
            "max input_ids value: tensor(95778)\n",
            "vocabulary size: 96103\n"
          ]
        },
        {
          "name": "stderr",
          "output_type": "stream",
          "text": [
            "\r 53%|█████▎    | 133/250 [47:23<38:55, 19.96s/it]"
          ]
        },
        {
          "name": "stdout",
          "output_type": "stream",
          "text": [
            "torch.Size([2, 128])\n",
            "torch.Size([2, 1024])\n",
            "input_ids shape: torch.Size([2, 1024])\n",
            "max input_ids value: tensor(95848)\n",
            "vocabulary size: 96103\n"
          ]
        },
        {
          "name": "stderr",
          "output_type": "stream",
          "text": [
            "\r 54%|█████▎    | 134/250 [47:44<39:24, 20.39s/it]"
          ]
        },
        {
          "name": "stdout",
          "output_type": "stream",
          "text": [
            "torch.Size([2, 128])\n",
            "torch.Size([2, 1024])\n",
            "input_ids shape: torch.Size([2, 1024])\n",
            "max input_ids value: tensor(95978)\n",
            "vocabulary size: 96103\n"
          ]
        },
        {
          "name": "stderr",
          "output_type": "stream",
          "text": [
            "\r 54%|█████▍    | 135/250 [48:05<39:35, 20.65s/it]"
          ]
        },
        {
          "name": "stdout",
          "output_type": "stream",
          "text": [
            "torch.Size([2, 128])\n",
            "torch.Size([2, 1024])\n",
            "input_ids shape: torch.Size([2, 1024])\n",
            "max input_ids value: tensor(89770)\n",
            "vocabulary size: 96103\n"
          ]
        },
        {
          "name": "stderr",
          "output_type": "stream",
          "text": [
            "\r 54%|█████▍    | 136/250 [48:26<39:23, 20.73s/it]"
          ]
        },
        {
          "name": "stdout",
          "output_type": "stream",
          "text": [
            "torch.Size([2, 128])\n",
            "torch.Size([2, 1024])\n",
            "input_ids shape: torch.Size([2, 1024])\n",
            "max input_ids value: tensor(93645)\n",
            "vocabulary size: 96103\n"
          ]
        },
        {
          "name": "stderr",
          "output_type": "stream",
          "text": [
            "\r 55%|█████▍    | 137/250 [48:47<39:03, 20.74s/it]"
          ]
        },
        {
          "name": "stdout",
          "output_type": "stream",
          "text": [
            "torch.Size([2, 128])\n",
            "torch.Size([2, 1024])\n",
            "input_ids shape: torch.Size([2, 1024])\n",
            "max input_ids value: tensor(95655)\n",
            "vocabulary size: 96103\n"
          ]
        },
        {
          "name": "stderr",
          "output_type": "stream",
          "text": [
            "\r 55%|█████▌    | 138/250 [49:08<38:57, 20.87s/it]"
          ]
        },
        {
          "name": "stdout",
          "output_type": "stream",
          "text": [
            "torch.Size([2, 128])\n",
            "torch.Size([2, 1024])\n",
            "input_ids shape: torch.Size([2, 1024])\n",
            "max input_ids value: tensor(95559)\n",
            "vocabulary size: 96103\n"
          ]
        },
        {
          "name": "stderr",
          "output_type": "stream",
          "text": [
            "\r 56%|█████▌    | 139/250 [49:30<38:56, 21.05s/it]"
          ]
        },
        {
          "name": "stdout",
          "output_type": "stream",
          "text": [
            "torch.Size([2, 128])\n",
            "torch.Size([2, 1024])\n",
            "input_ids shape: torch.Size([2, 1024])\n",
            "max input_ids value: tensor(94467)\n",
            "vocabulary size: 96103\n"
          ]
        },
        {
          "name": "stderr",
          "output_type": "stream",
          "text": [
            "\r 56%|█████▌    | 140/250 [49:51<38:31, 21.02s/it]"
          ]
        },
        {
          "name": "stdout",
          "output_type": "stream",
          "text": [
            "torch.Size([2, 128])\n",
            "torch.Size([2, 1024])\n",
            "input_ids shape: torch.Size([2, 1024])\n",
            "max input_ids value: tensor(73492)\n",
            "vocabulary size: 96103\n"
          ]
        },
        {
          "name": "stderr",
          "output_type": "stream",
          "text": [
            "\r 56%|█████▋    | 141/250 [50:12<38:13, 21.04s/it]"
          ]
        },
        {
          "name": "stdout",
          "output_type": "stream",
          "text": [
            "torch.Size([2, 128])\n",
            "torch.Size([2, 1024])\n",
            "input_ids shape: torch.Size([2, 1024])\n",
            "max input_ids value: tensor(93399)\n",
            "vocabulary size: 96103\n"
          ]
        },
        {
          "name": "stderr",
          "output_type": "stream",
          "text": [
            "\r 57%|█████▋    | 142/250 [50:34<38:17, 21.27s/it]"
          ]
        },
        {
          "name": "stdout",
          "output_type": "stream",
          "text": [
            "torch.Size([2, 128])\n",
            "torch.Size([2, 1024])\n",
            "input_ids shape: torch.Size([2, 1024])\n",
            "max input_ids value: tensor(91599)\n",
            "vocabulary size: 96103\n"
          ]
        },
        {
          "name": "stderr",
          "output_type": "stream",
          "text": [
            "\r 57%|█████▋    | 143/250 [50:55<37:52, 21.24s/it]"
          ]
        },
        {
          "name": "stdout",
          "output_type": "stream",
          "text": [
            "torch.Size([2, 128])\n",
            "torch.Size([2, 1024])\n",
            "input_ids shape: torch.Size([2, 1024])\n",
            "max input_ids value: tensor(95025)\n",
            "vocabulary size: 96103\n"
          ]
        },
        {
          "name": "stderr",
          "output_type": "stream",
          "text": [
            "\r 58%|█████▊    | 144/250 [51:16<37:24, 21.17s/it]"
          ]
        },
        {
          "name": "stdout",
          "output_type": "stream",
          "text": [
            "torch.Size([2, 128])\n",
            "torch.Size([2, 1024])\n",
            "input_ids shape: torch.Size([2, 1024])\n",
            "max input_ids value: tensor(80663)\n",
            "vocabulary size: 96103\n"
          ]
        },
        {
          "name": "stderr",
          "output_type": "stream",
          "text": [
            "\r 58%|█████▊    | 145/250 [51:37<36:48, 21.03s/it]"
          ]
        },
        {
          "name": "stdout",
          "output_type": "stream",
          "text": [
            "torch.Size([2, 128])\n",
            "torch.Size([2, 1024])\n",
            "input_ids shape: torch.Size([2, 1024])\n",
            "max input_ids value: tensor(88967)\n",
            "vocabulary size: 96103\n"
          ]
        },
        {
          "name": "stderr",
          "output_type": "stream",
          "text": [
            "\r 58%|█████▊    | 146/250 [51:58<36:38, 21.14s/it]"
          ]
        },
        {
          "name": "stdout",
          "output_type": "stream",
          "text": [
            "torch.Size([2, 128])\n",
            "torch.Size([2, 1024])\n",
            "input_ids shape: torch.Size([2, 1024])\n",
            "max input_ids value: tensor(91191)\n",
            "vocabulary size: 96103\n"
          ]
        },
        {
          "name": "stderr",
          "output_type": "stream",
          "text": [
            "\r 59%|█████▉    | 147/250 [52:19<36:10, 21.07s/it]"
          ]
        },
        {
          "name": "stdout",
          "output_type": "stream",
          "text": [
            "torch.Size([2, 128])\n",
            "torch.Size([2, 1024])\n",
            "input_ids shape: torch.Size([2, 1024])\n",
            "max input_ids value: tensor(89114)\n",
            "vocabulary size: 96103\n"
          ]
        },
        {
          "name": "stderr",
          "output_type": "stream",
          "text": [
            "\r 59%|█████▉    | 148/250 [52:40<35:41, 20.99s/it]"
          ]
        },
        {
          "name": "stdout",
          "output_type": "stream",
          "text": [
            "torch.Size([2, 128])\n",
            "torch.Size([2, 1024])\n",
            "input_ids shape: torch.Size([2, 1024])\n",
            "max input_ids value: tensor(91593)\n",
            "vocabulary size: 96103\n"
          ]
        },
        {
          "name": "stderr",
          "output_type": "stream",
          "text": [
            "\r 60%|█████▉    | 149/250 [53:01<35:16, 20.96s/it]"
          ]
        },
        {
          "name": "stdout",
          "output_type": "stream",
          "text": [
            "torch.Size([2, 128])\n",
            "torch.Size([2, 1024])\n",
            "input_ids shape: torch.Size([2, 1024])\n",
            "max input_ids value: tensor(91599)\n",
            "vocabulary size: 96103\n"
          ]
        },
        {
          "name": "stderr",
          "output_type": "stream",
          "text": [
            "\r 60%|██████    | 150/250 [53:21<34:50, 20.90s/it]"
          ]
        },
        {
          "name": "stdout",
          "output_type": "stream",
          "text": [
            "torch.Size([2, 128])\n",
            "torch.Size([2, 1024])\n",
            "input_ids shape: torch.Size([2, 1024])\n",
            "max input_ids value: tensor(91116)\n",
            "vocabulary size: 96103\n"
          ]
        },
        {
          "name": "stderr",
          "output_type": "stream",
          "text": [
            "\r 60%|██████    | 151/250 [53:43<34:55, 21.16s/it]"
          ]
        },
        {
          "name": "stdout",
          "output_type": "stream",
          "text": [
            "torch.Size([2, 128])\n",
            "torch.Size([2, 1024])\n",
            "input_ids shape: torch.Size([2, 1024])\n",
            "max input_ids value: tensor(93307)\n",
            "vocabulary size: 96103\n"
          ]
        },
        {
          "name": "stderr",
          "output_type": "stream",
          "text": [
            "\r 61%|██████    | 152/250 [54:04<34:26, 21.09s/it]"
          ]
        },
        {
          "name": "stdout",
          "output_type": "stream",
          "text": [
            "torch.Size([2, 128])\n",
            "torch.Size([2, 1024])\n",
            "input_ids shape: torch.Size([2, 1024])\n",
            "max input_ids value: tensor(88441)\n",
            "vocabulary size: 96103\n"
          ]
        },
        {
          "name": "stderr",
          "output_type": "stream",
          "text": [
            "\r 61%|██████    | 153/250 [54:25<33:56, 21.00s/it]"
          ]
        },
        {
          "name": "stdout",
          "output_type": "stream",
          "text": [
            "torch.Size([2, 128])\n",
            "torch.Size([2, 1024])\n",
            "input_ids shape: torch.Size([2, 1024])\n",
            "max input_ids value: tensor(82486)\n",
            "vocabulary size: 96103\n"
          ]
        },
        {
          "name": "stderr",
          "output_type": "stream",
          "text": [
            "\r 62%|██████▏   | 154/250 [54:45<33:16, 20.80s/it]"
          ]
        },
        {
          "name": "stdout",
          "output_type": "stream",
          "text": [
            "torch.Size([2, 128])\n",
            "torch.Size([2, 1024])\n",
            "input_ids shape: torch.Size([2, 1024])\n",
            "max input_ids value: tensor(92059)\n",
            "vocabulary size: 96103\n"
          ]
        },
        {
          "name": "stderr",
          "output_type": "stream",
          "text": [
            "\r 62%|██████▏   | 155/250 [55:06<32:59, 20.84s/it]"
          ]
        },
        {
          "name": "stdout",
          "output_type": "stream",
          "text": [
            "torch.Size([2, 128])\n",
            "torch.Size([2, 1024])\n",
            "input_ids shape: torch.Size([2, 1024])\n",
            "max input_ids value: tensor(95543)\n",
            "vocabulary size: 96103\n"
          ]
        },
        {
          "name": "stderr",
          "output_type": "stream",
          "text": [
            "\r 62%|██████▏   | 156/250 [55:27<32:53, 20.99s/it]"
          ]
        },
        {
          "name": "stdout",
          "output_type": "stream",
          "text": [
            "torch.Size([2, 128])\n",
            "torch.Size([2, 1024])\n",
            "input_ids shape: torch.Size([2, 1024])\n",
            "max input_ids value: tensor(83699)\n",
            "vocabulary size: 96103\n"
          ]
        },
        {
          "name": "stderr",
          "output_type": "stream",
          "text": [
            "\r 63%|██████▎   | 157/250 [55:48<32:28, 20.95s/it]"
          ]
        },
        {
          "name": "stdout",
          "output_type": "stream",
          "text": [
            "torch.Size([2, 128])\n",
            "torch.Size([2, 1024])\n",
            "input_ids shape: torch.Size([2, 1024])\n",
            "max input_ids value: tensor(92601)\n",
            "vocabulary size: 96103\n"
          ]
        },
        {
          "name": "stderr",
          "output_type": "stream",
          "text": [
            "\r 63%|██████▎   | 158/250 [56:09<32:01, 20.89s/it]"
          ]
        },
        {
          "name": "stdout",
          "output_type": "stream",
          "text": [
            "torch.Size([2, 128])\n",
            "torch.Size([2, 1024])\n",
            "input_ids shape: torch.Size([2, 1024])\n",
            "max input_ids value: tensor(93012)\n",
            "vocabulary size: 96103\n"
          ]
        },
        {
          "name": "stderr",
          "output_type": "stream",
          "text": [
            "\r 64%|██████▎   | 159/250 [56:29<31:29, 20.77s/it]"
          ]
        },
        {
          "name": "stdout",
          "output_type": "stream",
          "text": [
            "torch.Size([2, 128])\n",
            "torch.Size([2, 1024])\n",
            "input_ids shape: torch.Size([2, 1024])\n",
            "max input_ids value: tensor(94517)\n",
            "vocabulary size: 96103\n"
          ]
        },
        {
          "name": "stderr",
          "output_type": "stream",
          "text": [
            "\r 64%|██████▍   | 160/250 [56:51<31:33, 21.04s/it]"
          ]
        },
        {
          "name": "stdout",
          "output_type": "stream",
          "text": [
            "torch.Size([2, 128])\n",
            "torch.Size([2, 1024])\n",
            "input_ids shape: torch.Size([2, 1024])\n",
            "max input_ids value: tensor(93513)\n",
            "vocabulary size: 96103\n"
          ]
        },
        {
          "name": "stderr",
          "output_type": "stream",
          "text": [
            "\r 64%|██████▍   | 161/250 [57:13<31:25, 21.18s/it]"
          ]
        },
        {
          "name": "stdout",
          "output_type": "stream",
          "text": [
            "torch.Size([2, 128])\n",
            "torch.Size([2, 1024])\n",
            "input_ids shape: torch.Size([2, 1024])\n",
            "max input_ids value: tensor(88180)\n",
            "vocabulary size: 96103\n"
          ]
        },
        {
          "name": "stderr",
          "output_type": "stream",
          "text": [
            "\r 65%|██████▍   | 162/250 [57:33<30:47, 20.99s/it]"
          ]
        },
        {
          "name": "stdout",
          "output_type": "stream",
          "text": [
            "torch.Size([2, 128])\n",
            "torch.Size([2, 1024])\n",
            "input_ids shape: torch.Size([2, 1024])\n",
            "max input_ids value: tensor(95920)\n",
            "vocabulary size: 96103\n"
          ]
        },
        {
          "name": "stderr",
          "output_type": "stream",
          "text": [
            "\r 65%|██████▌   | 163/250 [57:54<30:18, 20.90s/it]"
          ]
        },
        {
          "name": "stdout",
          "output_type": "stream",
          "text": [
            "torch.Size([2, 128])\n",
            "torch.Size([2, 1024])\n",
            "input_ids shape: torch.Size([2, 1024])\n",
            "max input_ids value: tensor(93759)\n",
            "vocabulary size: 96103\n"
          ]
        },
        {
          "name": "stderr",
          "output_type": "stream",
          "text": [
            "\r 66%|██████▌   | 164/250 [58:15<30:05, 21.00s/it]"
          ]
        },
        {
          "name": "stdout",
          "output_type": "stream",
          "text": [
            "torch.Size([2, 128])\n",
            "torch.Size([2, 1024])\n",
            "input_ids shape: torch.Size([2, 1024])\n",
            "max input_ids value: tensor(92509)\n",
            "vocabulary size: 96103\n"
          ]
        },
        {
          "name": "stderr",
          "output_type": "stream",
          "text": [
            "\r 66%|██████▌   | 165/250 [58:36<29:42, 20.96s/it]"
          ]
        },
        {
          "name": "stdout",
          "output_type": "stream",
          "text": [
            "torch.Size([2, 128])\n",
            "torch.Size([2, 1024])\n",
            "input_ids shape: torch.Size([2, 1024])\n",
            "max input_ids value: tensor(95567)\n",
            "vocabulary size: 96103\n"
          ]
        },
        {
          "name": "stderr",
          "output_type": "stream",
          "text": [
            "\r 66%|██████▋   | 166/250 [58:57<29:19, 20.95s/it]"
          ]
        },
        {
          "name": "stdout",
          "output_type": "stream",
          "text": [
            "torch.Size([2, 128])\n",
            "torch.Size([2, 1024])\n",
            "input_ids shape: torch.Size([2, 1024])\n",
            "max input_ids value: tensor(89770)\n",
            "vocabulary size: 96103\n"
          ]
        },
        {
          "name": "stderr",
          "output_type": "stream",
          "text": [
            "\r 67%|██████▋   | 167/250 [59:18<28:51, 20.86s/it]"
          ]
        },
        {
          "name": "stdout",
          "output_type": "stream",
          "text": [
            "torch.Size([2, 128])\n",
            "torch.Size([2, 1024])\n",
            "input_ids shape: torch.Size([2, 1024])\n",
            "max input_ids value: tensor(86350)\n",
            "vocabulary size: 96103\n"
          ]
        },
        {
          "name": "stderr",
          "output_type": "stream",
          "text": [
            "\r 67%|██████▋   | 168/250 [59:38<28:24, 20.78s/it]"
          ]
        },
        {
          "name": "stdout",
          "output_type": "stream",
          "text": [
            "torch.Size([2, 128])\n",
            "torch.Size([2, 1024])\n",
            "input_ids shape: torch.Size([2, 1024])\n",
            "max input_ids value: tensor(92549)\n",
            "vocabulary size: 96103\n"
          ]
        },
        {
          "name": "stderr",
          "output_type": "stream",
          "text": [
            "\r 68%|██████▊   | 169/250 [1:00:00<28:35, 21.18s/it]"
          ]
        },
        {
          "name": "stdout",
          "output_type": "stream",
          "text": [
            "torch.Size([2, 128])\n",
            "torch.Size([2, 1024])\n",
            "input_ids shape: torch.Size([2, 1024])\n",
            "max input_ids value: tensor(93670)\n",
            "vocabulary size: 96103\n"
          ]
        },
        {
          "name": "stderr",
          "output_type": "stream",
          "text": [
            "\r 68%|██████▊   | 170/250 [1:00:21<27:59, 21.00s/it]"
          ]
        },
        {
          "name": "stdout",
          "output_type": "stream",
          "text": [
            "torch.Size([2, 128])\n",
            "torch.Size([2, 1024])\n",
            "input_ids shape: torch.Size([2, 1024])\n",
            "max input_ids value: tensor(87312)\n",
            "vocabulary size: 96103\n"
          ]
        },
        {
          "name": "stderr",
          "output_type": "stream",
          "text": [
            "\r 68%|██████▊   | 171/250 [1:00:42<27:33, 20.94s/it]"
          ]
        },
        {
          "name": "stdout",
          "output_type": "stream",
          "text": [
            "torch.Size([2, 128])\n",
            "torch.Size([2, 1024])\n",
            "input_ids shape: torch.Size([2, 1024])\n",
            "max input_ids value: tensor(90060)\n",
            "vocabulary size: 96103\n"
          ]
        },
        {
          "name": "stderr",
          "output_type": "stream",
          "text": [
            "\r 69%|██████▉   | 172/250 [1:01:02<27:10, 20.90s/it]"
          ]
        },
        {
          "name": "stdout",
          "output_type": "stream",
          "text": [
            "torch.Size([2, 128])\n",
            "torch.Size([2, 1024])\n",
            "input_ids shape: torch.Size([2, 1024])\n",
            "max input_ids value: tensor(95823)\n",
            "vocabulary size: 96103\n"
          ]
        },
        {
          "name": "stderr",
          "output_type": "stream",
          "text": [
            "\r 69%|██████▉   | 173/250 [1:01:24<27:03, 21.08s/it]"
          ]
        },
        {
          "name": "stdout",
          "output_type": "stream",
          "text": [
            "torch.Size([2, 128])\n",
            "torch.Size([2, 1024])\n",
            "input_ids shape: torch.Size([2, 1024])\n",
            "max input_ids value: tensor(95430)\n",
            "vocabulary size: 96103\n"
          ]
        },
        {
          "name": "stderr",
          "output_type": "stream",
          "text": [
            "\r 70%|██████▉   | 174/250 [1:01:45<26:36, 21.01s/it]"
          ]
        },
        {
          "name": "stdout",
          "output_type": "stream",
          "text": [
            "torch.Size([2, 128])\n",
            "torch.Size([2, 1024])\n",
            "input_ids shape: torch.Size([2, 1024])\n",
            "max input_ids value: tensor(95545)\n",
            "vocabulary size: 96103\n"
          ]
        },
        {
          "name": "stderr",
          "output_type": "stream",
          "text": [
            "\r 70%|███████   | 175/250 [1:02:05<26:07, 20.90s/it]"
          ]
        },
        {
          "name": "stdout",
          "output_type": "stream",
          "text": [
            "torch.Size([2, 128])\n",
            "torch.Size([2, 1024])\n",
            "input_ids shape: torch.Size([2, 1024])\n",
            "max input_ids value: tensor(87541)\n",
            "vocabulary size: 96103\n"
          ]
        },
        {
          "name": "stderr",
          "output_type": "stream",
          "text": [
            "\r 70%|███████   | 176/250 [1:02:26<25:49, 20.93s/it]"
          ]
        },
        {
          "name": "stdout",
          "output_type": "stream",
          "text": [
            "torch.Size([2, 128])\n",
            "torch.Size([2, 1024])\n",
            "input_ids shape: torch.Size([2, 1024])\n",
            "max input_ids value: tensor(95440)\n",
            "vocabulary size: 96103\n"
          ]
        },
        {
          "name": "stderr",
          "output_type": "stream",
          "text": [
            "\r 71%|███████   | 177/250 [1:02:48<25:41, 21.12s/it]"
          ]
        },
        {
          "name": "stdout",
          "output_type": "stream",
          "text": [
            "torch.Size([2, 128])\n",
            "torch.Size([2, 1024])\n",
            "input_ids shape: torch.Size([2, 1024])\n",
            "max input_ids value: tensor(91134)\n",
            "vocabulary size: 96103\n"
          ]
        },
        {
          "name": "stderr",
          "output_type": "stream",
          "text": [
            "\r 71%|███████   | 178/250 [1:03:09<25:15, 21.05s/it]"
          ]
        },
        {
          "name": "stdout",
          "output_type": "stream",
          "text": [
            "torch.Size([2, 128])\n",
            "torch.Size([2, 1024])\n",
            "input_ids shape: torch.Size([2, 1024])\n",
            "max input_ids value: tensor(88961)\n",
            "vocabulary size: 96103\n"
          ]
        },
        {
          "name": "stderr",
          "output_type": "stream",
          "text": [
            "\r 72%|███████▏  | 179/250 [1:03:29<24:42, 20.88s/it]"
          ]
        },
        {
          "name": "stdout",
          "output_type": "stream",
          "text": [
            "torch.Size([2, 128])\n",
            "torch.Size([2, 1024])\n",
            "input_ids shape: torch.Size([2, 1024])\n",
            "max input_ids value: tensor(91434)\n",
            "vocabulary size: 96103\n"
          ]
        },
        {
          "name": "stderr",
          "output_type": "stream",
          "text": [
            "\r 72%|███████▏  | 180/250 [1:03:50<24:12, 20.75s/it]"
          ]
        },
        {
          "name": "stdout",
          "output_type": "stream",
          "text": [
            "torch.Size([2, 128])\n",
            "torch.Size([2, 1024])\n",
            "input_ids shape: torch.Size([2, 1024])\n",
            "max input_ids value: tensor(95655)\n",
            "vocabulary size: 96103\n"
          ]
        },
        {
          "name": "stderr",
          "output_type": "stream",
          "text": [
            "\r 72%|███████▏  | 181/250 [1:04:10<23:47, 20.68s/it]"
          ]
        },
        {
          "name": "stdout",
          "output_type": "stream",
          "text": [
            "torch.Size([2, 128])\n",
            "torch.Size([2, 1024])\n",
            "input_ids shape: torch.Size([2, 1024])\n",
            "max input_ids value: tensor(93670)\n",
            "vocabulary size: 96103\n"
          ]
        },
        {
          "name": "stderr",
          "output_type": "stream",
          "text": [
            "\r 73%|███████▎  | 182/250 [1:04:32<23:47, 21.00s/it]"
          ]
        },
        {
          "name": "stdout",
          "output_type": "stream",
          "text": [
            "torch.Size([2, 128])\n",
            "torch.Size([2, 1024])\n",
            "input_ids shape: torch.Size([2, 1024])\n",
            "max input_ids value: tensor(90836)\n",
            "vocabulary size: 96103\n"
          ]
        },
        {
          "name": "stderr",
          "output_type": "stream",
          "text": [
            "\r 73%|███████▎  | 183/250 [1:04:53<23:31, 21.07s/it]"
          ]
        },
        {
          "name": "stdout",
          "output_type": "stream",
          "text": [
            "torch.Size([2, 128])\n",
            "torch.Size([2, 1024])\n",
            "input_ids shape: torch.Size([2, 1024])\n",
            "max input_ids value: tensor(90599)\n",
            "vocabulary size: 96103\n"
          ]
        },
        {
          "name": "stderr",
          "output_type": "stream",
          "text": [
            "\r 74%|███████▎  | 184/250 [1:05:14<22:55, 20.85s/it]"
          ]
        },
        {
          "name": "stdout",
          "output_type": "stream",
          "text": [
            "torch.Size([2, 128])\n",
            "torch.Size([2, 1024])\n",
            "input_ids shape: torch.Size([2, 1024])\n",
            "max input_ids value: tensor(95594)\n",
            "vocabulary size: 96103\n"
          ]
        },
        {
          "name": "stderr",
          "output_type": "stream",
          "text": [
            "\r 74%|███████▍  | 185/250 [1:05:34<22:29, 20.76s/it]"
          ]
        },
        {
          "name": "stdout",
          "output_type": "stream",
          "text": [
            "torch.Size([2, 128])\n",
            "torch.Size([2, 1024])\n",
            "input_ids shape: torch.Size([2, 1024])\n",
            "max input_ids value: tensor(94346)\n",
            "vocabulary size: 96103\n"
          ]
        },
        {
          "name": "stderr",
          "output_type": "stream",
          "text": [
            "\r 74%|███████▍  | 186/250 [1:05:55<22:17, 20.90s/it]"
          ]
        },
        {
          "name": "stdout",
          "output_type": "stream",
          "text": [
            "torch.Size([2, 128])\n",
            "torch.Size([2, 1024])\n",
            "input_ids shape: torch.Size([2, 1024])\n",
            "max input_ids value: tensor(93297)\n",
            "vocabulary size: 96103\n"
          ]
        },
        {
          "name": "stderr",
          "output_type": "stream",
          "text": [
            "\r 75%|███████▍  | 187/250 [1:06:17<22:00, 20.97s/it]"
          ]
        },
        {
          "name": "stdout",
          "output_type": "stream",
          "text": [
            "torch.Size([2, 128])\n",
            "torch.Size([2, 1024])\n",
            "input_ids shape: torch.Size([2, 1024])\n",
            "max input_ids value: tensor(94439)\n",
            "vocabulary size: 96103\n"
          ]
        },
        {
          "name": "stderr",
          "output_type": "stream",
          "text": [
            "\r 75%|███████▌  | 188/250 [1:06:37<21:37, 20.93s/it]"
          ]
        },
        {
          "name": "stdout",
          "output_type": "stream",
          "text": [
            "torch.Size([2, 128])\n",
            "torch.Size([2, 1024])\n",
            "input_ids shape: torch.Size([2, 1024])\n",
            "max input_ids value: tensor(80869)\n",
            "vocabulary size: 96103\n"
          ]
        },
        {
          "name": "stderr",
          "output_type": "stream",
          "text": [
            "\r 76%|███████▌  | 189/250 [1:06:58<21:10, 20.83s/it]"
          ]
        },
        {
          "name": "stdout",
          "output_type": "stream",
          "text": [
            "torch.Size([2, 121])\n",
            "torch.Size([2, 1024])\n",
            "input_ids shape: torch.Size([2, 1024])\n",
            "max input_ids value: tensor(95335)\n",
            "vocabulary size: 96103\n"
          ]
        },
        {
          "name": "stderr",
          "output_type": "stream",
          "text": [
            "\r 76%|███████▌  | 190/250 [1:07:19<20:52, 20.87s/it]"
          ]
        },
        {
          "name": "stdout",
          "output_type": "stream",
          "text": [
            "torch.Size([2, 128])\n",
            "torch.Size([2, 1024])\n",
            "input_ids shape: torch.Size([2, 1024])\n",
            "max input_ids value: tensor(90054)\n",
            "vocabulary size: 96103\n"
          ]
        },
        {
          "name": "stderr",
          "output_type": "stream",
          "text": [
            "\r 76%|███████▋  | 191/250 [1:07:41<20:44, 21.09s/it]"
          ]
        },
        {
          "name": "stdout",
          "output_type": "stream",
          "text": [
            "torch.Size([2, 128])\n",
            "torch.Size([2, 1024])\n",
            "input_ids shape: torch.Size([2, 1024])\n",
            "max input_ids value: tensor(87570)\n",
            "vocabulary size: 96103\n"
          ]
        },
        {
          "name": "stderr",
          "output_type": "stream",
          "text": [
            "\r 77%|███████▋  | 192/250 [1:08:01<20:14, 20.94s/it]"
          ]
        },
        {
          "name": "stdout",
          "output_type": "stream",
          "text": [
            "torch.Size([2, 128])\n",
            "torch.Size([2, 1024])\n",
            "input_ids shape: torch.Size([2, 1024])\n",
            "max input_ids value: tensor(89548)\n",
            "vocabulary size: 96103\n"
          ]
        },
        {
          "name": "stderr",
          "output_type": "stream",
          "text": [
            "\r 77%|███████▋  | 193/250 [1:08:22<19:49, 20.87s/it]"
          ]
        },
        {
          "name": "stdout",
          "output_type": "stream",
          "text": [
            "torch.Size([2, 91])\n",
            "torch.Size([2, 1024])\n",
            "input_ids shape: torch.Size([2, 1024])\n",
            "max input_ids value: tensor(95908)\n",
            "vocabulary size: 96103\n"
          ]
        },
        {
          "name": "stderr",
          "output_type": "stream",
          "text": [
            "\r 78%|███████▊  | 194/250 [1:08:42<19:21, 20.75s/it]"
          ]
        },
        {
          "name": "stdout",
          "output_type": "stream",
          "text": [
            "torch.Size([2, 128])\n",
            "torch.Size([2, 1024])\n",
            "input_ids shape: torch.Size([2, 1024])\n",
            "max input_ids value: tensor(95260)\n",
            "vocabulary size: 96103\n"
          ]
        },
        {
          "name": "stderr",
          "output_type": "stream",
          "text": [
            "\r 78%|███████▊  | 195/250 [1:09:04<19:12, 20.95s/it]"
          ]
        },
        {
          "name": "stdout",
          "output_type": "stream",
          "text": [
            "torch.Size([2, 128])\n",
            "torch.Size([2, 1024])\n",
            "input_ids shape: torch.Size([2, 1024])\n",
            "max input_ids value: tensor(87265)\n",
            "vocabulary size: 96103\n"
          ]
        },
        {
          "name": "stderr",
          "output_type": "stream",
          "text": [
            "\r 78%|███████▊  | 196/250 [1:09:25<18:58, 21.08s/it]"
          ]
        },
        {
          "name": "stdout",
          "output_type": "stream",
          "text": [
            "torch.Size([2, 128])\n",
            "torch.Size([2, 1024])\n",
            "input_ids shape: torch.Size([2, 1024])\n",
            "max input_ids value: tensor(90763)\n",
            "vocabulary size: 96103\n"
          ]
        },
        {
          "name": "stderr",
          "output_type": "stream",
          "text": [
            "\r 79%|███████▉  | 197/250 [1:09:46<18:31, 20.98s/it]"
          ]
        },
        {
          "name": "stdout",
          "output_type": "stream",
          "text": [
            "torch.Size([2, 128])\n",
            "torch.Size([2, 1024])\n",
            "input_ids shape: torch.Size([2, 1024])\n",
            "max input_ids value: tensor(92393)\n",
            "vocabulary size: 96103\n"
          ]
        },
        {
          "name": "stderr",
          "output_type": "stream",
          "text": [
            "\r 79%|███████▉  | 198/250 [1:10:07<18:07, 20.90s/it]"
          ]
        },
        {
          "name": "stdout",
          "output_type": "stream",
          "text": [
            "torch.Size([2, 128])\n",
            "torch.Size([2, 1024])\n",
            "input_ids shape: torch.Size([2, 1024])\n",
            "max input_ids value: tensor(91434)\n",
            "vocabulary size: 96103\n"
          ]
        },
        {
          "name": "stderr",
          "output_type": "stream",
          "text": [
            "\r 80%|███████▉  | 199/250 [1:10:28<17:46, 20.92s/it]"
          ]
        },
        {
          "name": "stdout",
          "output_type": "stream",
          "text": [
            "torch.Size([2, 70])\n",
            "torch.Size([2, 1024])\n",
            "input_ids shape: torch.Size([2, 1024])\n",
            "max input_ids value: tensor(92629)\n",
            "vocabulary size: 96103\n"
          ]
        },
        {
          "name": "stderr",
          "output_type": "stream",
          "text": [
            "\r 80%|████████  | 200/250 [1:10:49<17:32, 21.05s/it]"
          ]
        },
        {
          "name": "stdout",
          "output_type": "stream",
          "text": [
            "torch.Size([2, 128])\n",
            "torch.Size([2, 1024])\n",
            "input_ids shape: torch.Size([2, 1024])\n",
            "max input_ids value: tensor(95631)\n",
            "vocabulary size: 96103\n"
          ]
        },
        {
          "name": "stderr",
          "output_type": "stream",
          "text": [
            "\r 80%|████████  | 201/250 [1:11:10<17:08, 20.99s/it]"
          ]
        },
        {
          "name": "stdout",
          "output_type": "stream",
          "text": [
            "torch.Size([2, 128])\n",
            "torch.Size([2, 1024])\n",
            "input_ids shape: torch.Size([2, 1024])\n",
            "max input_ids value: tensor(89479)\n",
            "vocabulary size: 96103\n"
          ]
        },
        {
          "name": "stderr",
          "output_type": "stream",
          "text": [
            "\r 81%|████████  | 202/250 [1:11:30<16:43, 20.90s/it]"
          ]
        },
        {
          "name": "stdout",
          "output_type": "stream",
          "text": [
            "torch.Size([2, 128])\n",
            "torch.Size([2, 1024])\n",
            "input_ids shape: torch.Size([2, 1024])\n",
            "max input_ids value: tensor(83378)\n",
            "vocabulary size: 96103\n"
          ]
        },
        {
          "name": "stderr",
          "output_type": "stream",
          "text": [
            "\r 81%|████████  | 203/250 [1:11:51<16:19, 20.83s/it]"
          ]
        },
        {
          "name": "stdout",
          "output_type": "stream",
          "text": [
            "torch.Size([2, 128])\n",
            "torch.Size([2, 1024])\n",
            "input_ids shape: torch.Size([2, 1024])\n",
            "max input_ids value: tensor(95556)\n",
            "vocabulary size: 96103\n"
          ]
        },
        {
          "name": "stderr",
          "output_type": "stream",
          "text": [
            "\r 82%|████████▏ | 204/250 [1:12:13<16:10, 21.10s/it]"
          ]
        },
        {
          "name": "stdout",
          "output_type": "stream",
          "text": [
            "torch.Size([2, 128])\n",
            "torch.Size([2, 1024])\n",
            "input_ids shape: torch.Size([2, 1024])\n",
            "max input_ids value: tensor(94120)\n",
            "vocabulary size: 96103\n"
          ]
        },
        {
          "name": "stderr",
          "output_type": "stream",
          "text": [
            "\r 82%|████████▏ | 205/250 [1:12:34<15:45, 21.01s/it]"
          ]
        },
        {
          "name": "stdout",
          "output_type": "stream",
          "text": [
            "torch.Size([2, 128])\n",
            "torch.Size([2, 1024])\n",
            "input_ids shape: torch.Size([2, 1024])\n",
            "max input_ids value: tensor(92943)\n",
            "vocabulary size: 96103\n"
          ]
        },
        {
          "name": "stderr",
          "output_type": "stream",
          "text": [
            "\r 82%|████████▏ | 206/250 [1:12:55<15:23, 20.98s/it]"
          ]
        },
        {
          "name": "stdout",
          "output_type": "stream",
          "text": [
            "torch.Size([2, 128])\n",
            "torch.Size([2, 1024])\n",
            "input_ids shape: torch.Size([2, 1024])\n",
            "max input_ids value: tensor(93850)\n",
            "vocabulary size: 96103\n"
          ]
        },
        {
          "name": "stderr",
          "output_type": "stream",
          "text": [
            "\r 83%|████████▎ | 207/250 [1:13:16<15:05, 21.07s/it]"
          ]
        },
        {
          "name": "stdout",
          "output_type": "stream",
          "text": [
            "torch.Size([2, 128])\n",
            "torch.Size([2, 1024])\n",
            "input_ids shape: torch.Size([2, 1024])\n",
            "max input_ids value: tensor(95978)\n",
            "vocabulary size: 96103\n"
          ]
        },
        {
          "name": "stderr",
          "output_type": "stream",
          "text": [
            "\r 83%|████████▎ | 208/250 [1:13:37<14:43, 21.04s/it]"
          ]
        },
        {
          "name": "stdout",
          "output_type": "stream",
          "text": [
            "torch.Size([2, 128])\n",
            "torch.Size([2, 1024])\n",
            "input_ids shape: torch.Size([2, 1024])\n",
            "max input_ids value: tensor(93998)\n",
            "vocabulary size: 96103\n"
          ]
        },
        {
          "name": "stderr",
          "output_type": "stream",
          "text": [
            "\r 84%|████████▎ | 209/250 [1:13:58<14:19, 20.96s/it]"
          ]
        },
        {
          "name": "stdout",
          "output_type": "stream",
          "text": [
            "torch.Size([2, 128])\n",
            "torch.Size([2, 1024])\n",
            "input_ids shape: torch.Size([2, 1024])\n",
            "max input_ids value: tensor(89798)\n",
            "vocabulary size: 96103\n"
          ]
        },
        {
          "name": "stderr",
          "output_type": "stream",
          "text": [
            "\r 84%|████████▍ | 210/250 [1:14:18<13:53, 20.83s/it]"
          ]
        },
        {
          "name": "stdout",
          "output_type": "stream",
          "text": [
            "torch.Size([2, 128])\n",
            "torch.Size([2, 1024])\n",
            "input_ids shape: torch.Size([2, 1024])\n",
            "max input_ids value: tensor(83761)\n",
            "vocabulary size: 96103\n"
          ]
        },
        {
          "name": "stderr",
          "output_type": "stream",
          "text": [
            "\r 84%|████████▍ | 211/250 [1:14:42<14:13, 21.87s/it]"
          ]
        },
        {
          "name": "stdout",
          "output_type": "stream",
          "text": [
            "torch.Size([2, 108])\n",
            "torch.Size([2, 1024])\n",
            "input_ids shape: torch.Size([2, 1024])\n",
            "max input_ids value: tensor(89770)\n",
            "vocabulary size: 96103\n"
          ]
        },
        {
          "name": "stderr",
          "output_type": "stream",
          "text": [
            "\r 85%|████████▍ | 212/250 [1:15:03<13:39, 21.58s/it]"
          ]
        },
        {
          "name": "stdout",
          "output_type": "stream",
          "text": [
            "torch.Size([2, 128])\n",
            "torch.Size([2, 1024])\n",
            "input_ids shape: torch.Size([2, 1024])\n",
            "max input_ids value: tensor(84454)\n",
            "vocabulary size: 96103\n"
          ]
        },
        {
          "name": "stderr",
          "output_type": "stream",
          "text": [
            "\r 85%|████████▌ | 213/250 [1:15:24<13:05, 21.23s/it]"
          ]
        },
        {
          "name": "stdout",
          "output_type": "stream",
          "text": [
            "torch.Size([2, 128])\n",
            "torch.Size([2, 1024])\n",
            "input_ids shape: torch.Size([2, 1024])\n",
            "max input_ids value: tensor(89923)\n",
            "vocabulary size: 96103\n"
          ]
        },
        {
          "name": "stderr",
          "output_type": "stream",
          "text": [
            "\r 86%|████████▌ | 214/250 [1:15:44<12:36, 21.02s/it]"
          ]
        },
        {
          "name": "stdout",
          "output_type": "stream",
          "text": [
            "torch.Size([2, 128])\n",
            "torch.Size([2, 1024])\n",
            "input_ids shape: torch.Size([2, 1024])\n",
            "max input_ids value: tensor(89819)\n",
            "vocabulary size: 96103\n"
          ]
        },
        {
          "name": "stderr",
          "output_type": "stream",
          "text": [
            "\r 86%|████████▌ | 215/250 [1:16:05<12:09, 20.85s/it]"
          ]
        },
        {
          "name": "stdout",
          "output_type": "stream",
          "text": [
            "torch.Size([2, 128])\n",
            "torch.Size([2, 1024])\n",
            "input_ids shape: torch.Size([2, 1024])\n",
            "max input_ids value: tensor(95540)\n",
            "vocabulary size: 96103\n"
          ]
        },
        {
          "name": "stderr",
          "output_type": "stream",
          "text": [
            "\r 86%|████████▋ | 216/250 [1:16:26<11:56, 21.07s/it]"
          ]
        },
        {
          "name": "stdout",
          "output_type": "stream",
          "text": [
            "torch.Size([2, 128])\n",
            "torch.Size([2, 1024])\n",
            "input_ids shape: torch.Size([2, 1024])\n",
            "max input_ids value: tensor(95093)\n",
            "vocabulary size: 96103\n"
          ]
        },
        {
          "name": "stderr",
          "output_type": "stream",
          "text": [
            "\r 87%|████████▋ | 217/250 [1:16:48<11:36, 21.11s/it]"
          ]
        },
        {
          "name": "stdout",
          "output_type": "stream",
          "text": [
            "torch.Size([2, 128])\n",
            "torch.Size([2, 1024])\n",
            "input_ids shape: torch.Size([2, 1024])\n",
            "max input_ids value: tensor(88180)\n",
            "vocabulary size: 96103\n"
          ]
        },
        {
          "name": "stderr",
          "output_type": "stream",
          "text": [
            "\r 87%|████████▋ | 218/250 [1:17:08<11:08, 20.90s/it]"
          ]
        },
        {
          "name": "stdout",
          "output_type": "stream",
          "text": [
            "torch.Size([2, 128])\n",
            "torch.Size([2, 1024])\n",
            "input_ids shape: torch.Size([2, 1024])\n",
            "max input_ids value: tensor(92016)\n",
            "vocabulary size: 96103\n"
          ]
        },
        {
          "name": "stderr",
          "output_type": "stream",
          "text": [
            "\r 88%|████████▊ | 219/250 [1:17:29<10:45, 20.81s/it]"
          ]
        },
        {
          "name": "stdout",
          "output_type": "stream",
          "text": [
            "torch.Size([2, 128])\n",
            "torch.Size([2, 1024])\n",
            "input_ids shape: torch.Size([2, 1024])\n",
            "max input_ids value: tensor(92694)\n",
            "vocabulary size: 96103\n"
          ]
        },
        {
          "name": "stderr",
          "output_type": "stream",
          "text": [
            "\r 88%|████████▊ | 220/250 [1:17:49<10:23, 20.80s/it]"
          ]
        },
        {
          "name": "stdout",
          "output_type": "stream",
          "text": [
            "torch.Size([2, 128])\n",
            "torch.Size([2, 1024])\n",
            "input_ids shape: torch.Size([2, 1024])\n",
            "max input_ids value: tensor(95521)\n",
            "vocabulary size: 96103\n"
          ]
        },
        {
          "name": "stderr",
          "output_type": "stream",
          "text": [
            "\r 88%|████████▊ | 221/250 [1:18:11<10:07, 20.93s/it]"
          ]
        },
        {
          "name": "stdout",
          "output_type": "stream",
          "text": [
            "torch.Size([2, 128])\n",
            "torch.Size([2, 1024])\n",
            "input_ids shape: torch.Size([2, 1024])\n",
            "max input_ids value: tensor(84030)\n",
            "vocabulary size: 96103\n"
          ]
        },
        {
          "name": "stderr",
          "output_type": "stream",
          "text": [
            "\r 89%|████████▉ | 222/250 [1:18:31<09:44, 20.86s/it]"
          ]
        },
        {
          "name": "stdout",
          "output_type": "stream",
          "text": [
            "torch.Size([2, 128])\n",
            "torch.Size([2, 1024])\n",
            "input_ids shape: torch.Size([2, 1024])\n",
            "max input_ids value: tensor(89305)\n",
            "vocabulary size: 96103\n"
          ]
        },
        {
          "name": "stderr",
          "output_type": "stream",
          "text": [
            "\r 89%|████████▉ | 223/250 [1:18:52<09:21, 20.79s/it]"
          ]
        },
        {
          "name": "stdout",
          "output_type": "stream",
          "text": [
            "torch.Size([2, 128])\n",
            "torch.Size([2, 1024])\n",
            "input_ids shape: torch.Size([2, 1024])\n",
            "max input_ids value: tensor(83678)\n",
            "vocabulary size: 96103\n"
          ]
        },
        {
          "name": "stderr",
          "output_type": "stream",
          "text": [
            "\r 90%|████████▉ | 224/250 [1:19:12<08:59, 20.73s/it]"
          ]
        },
        {
          "name": "stdout",
          "output_type": "stream",
          "text": [
            "torch.Size([2, 128])\n",
            "torch.Size([2, 1024])\n",
            "input_ids shape: torch.Size([2, 1024])\n",
            "max input_ids value: tensor(95699)\n",
            "vocabulary size: 96103\n"
          ]
        },
        {
          "name": "stderr",
          "output_type": "stream",
          "text": [
            "\r 90%|█████████ | 225/250 [1:19:34<08:43, 20.95s/it]"
          ]
        },
        {
          "name": "stdout",
          "output_type": "stream",
          "text": [
            "torch.Size([2, 128])\n",
            "torch.Size([2, 1024])\n",
            "input_ids shape: torch.Size([2, 1024])\n",
            "max input_ids value: tensor(93912)\n",
            "vocabulary size: 96103\n"
          ]
        },
        {
          "name": "stderr",
          "output_type": "stream",
          "text": [
            "\r 90%|█████████ | 226/250 [1:19:55<08:21, 20.91s/it]"
          ]
        },
        {
          "name": "stdout",
          "output_type": "stream",
          "text": [
            "torch.Size([2, 128])\n",
            "torch.Size([2, 1024])\n",
            "input_ids shape: torch.Size([2, 1024])\n",
            "max input_ids value: tensor(83498)\n",
            "vocabulary size: 96103\n"
          ]
        },
        {
          "name": "stderr",
          "output_type": "stream",
          "text": [
            "\r 91%|█████████ | 227/250 [1:20:15<07:57, 20.75s/it]"
          ]
        },
        {
          "name": "stdout",
          "output_type": "stream",
          "text": [
            "torch.Size([2, 128])\n",
            "torch.Size([2, 1024])\n",
            "input_ids shape: torch.Size([2, 1024])\n",
            "max input_ids value: tensor(87603)\n",
            "vocabulary size: 96103\n"
          ]
        },
        {
          "name": "stderr",
          "output_type": "stream",
          "text": [
            "\r 91%|█████████ | 228/250 [1:20:36<07:35, 20.69s/it]"
          ]
        },
        {
          "name": "stdout",
          "output_type": "stream",
          "text": [
            "torch.Size([2, 128])\n",
            "torch.Size([2, 1024])\n",
            "input_ids shape: torch.Size([2, 1024])\n",
            "max input_ids value: tensor(94064)\n",
            "vocabulary size: 96103\n"
          ]
        },
        {
          "name": "stderr",
          "output_type": "stream",
          "text": [
            "\r 92%|█████████▏| 229/250 [1:20:57<07:16, 20.81s/it]"
          ]
        },
        {
          "name": "stdout",
          "output_type": "stream",
          "text": [
            "torch.Size([2, 128])\n",
            "torch.Size([2, 1024])\n",
            "input_ids shape: torch.Size([2, 1024])\n",
            "max input_ids value: tensor(95655)\n",
            "vocabulary size: 96103\n"
          ]
        },
        {
          "name": "stderr",
          "output_type": "stream",
          "text": [
            "\r 92%|█████████▏| 230/250 [1:21:17<06:55, 20.77s/it]"
          ]
        },
        {
          "name": "stdout",
          "output_type": "stream",
          "text": [
            "torch.Size([2, 128])\n",
            "torch.Size([2, 1024])\n",
            "input_ids shape: torch.Size([2, 1024])\n",
            "max input_ids value: tensor(94736)\n",
            "vocabulary size: 96103\n"
          ]
        },
        {
          "name": "stderr",
          "output_type": "stream",
          "text": [
            "\r 92%|█████████▏| 231/250 [1:21:37<06:28, 20.46s/it]"
          ]
        },
        {
          "name": "stdout",
          "output_type": "stream",
          "text": [
            "torch.Size([2, 79])\n",
            "torch.Size([2, 1024])\n",
            "input_ids shape: torch.Size([2, 1024])\n",
            "max input_ids value: tensor(88180)\n",
            "vocabulary size: 96103\n"
          ]
        },
        {
          "name": "stderr",
          "output_type": "stream",
          "text": [
            "\r 93%|█████████▎| 232/250 [1:21:57<06:07, 20.41s/it]"
          ]
        },
        {
          "name": "stdout",
          "output_type": "stream",
          "text": [
            "torch.Size([2, 128])\n",
            "torch.Size([2, 1024])\n",
            "input_ids shape: torch.Size([2, 1024])\n",
            "max input_ids value: tensor(94107)\n",
            "vocabulary size: 96103\n"
          ]
        },
        {
          "name": "stderr",
          "output_type": "stream",
          "text": [
            "\r 93%|█████████▎| 233/250 [1:22:18<05:48, 20.50s/it]"
          ]
        },
        {
          "name": "stdout",
          "output_type": "stream",
          "text": [
            "torch.Size([2, 128])\n",
            "torch.Size([2, 1024])\n",
            "input_ids shape: torch.Size([2, 1024])\n",
            "max input_ids value: tensor(89770)\n",
            "vocabulary size: 96103\n"
          ]
        },
        {
          "name": "stderr",
          "output_type": "stream",
          "text": [
            "\r 94%|█████████▎| 234/250 [1:22:39<05:30, 20.65s/it]"
          ]
        },
        {
          "name": "stdout",
          "output_type": "stream",
          "text": [
            "torch.Size([2, 128])\n",
            "torch.Size([2, 1024])\n",
            "input_ids shape: torch.Size([2, 1024])\n",
            "max input_ids value: tensor(88722)\n",
            "vocabulary size: 96103\n"
          ]
        },
        {
          "name": "stderr",
          "output_type": "stream",
          "text": [
            "\r 94%|█████████▍| 235/250 [1:23:00<05:11, 20.76s/it]"
          ]
        },
        {
          "name": "stdout",
          "output_type": "stream",
          "text": [
            "torch.Size([2, 128])\n",
            "torch.Size([2, 1024])\n",
            "input_ids shape: torch.Size([2, 1024])\n",
            "max input_ids value: tensor(94875)\n",
            "vocabulary size: 96103\n"
          ]
        },
        {
          "name": "stderr",
          "output_type": "stream",
          "text": [
            "\r 94%|█████████▍| 236/250 [1:23:21<04:50, 20.73s/it]"
          ]
        },
        {
          "name": "stdout",
          "output_type": "stream",
          "text": [
            "torch.Size([2, 128])\n",
            "torch.Size([2, 1024])\n",
            "input_ids shape: torch.Size([2, 1024])\n",
            "max input_ids value: tensor(93297)\n",
            "vocabulary size: 96103\n"
          ]
        },
        {
          "name": "stderr",
          "output_type": "stream",
          "text": [
            "\r 95%|█████████▍| 237/250 [1:23:38<04:16, 19.76s/it]"
          ]
        },
        {
          "name": "stdout",
          "output_type": "stream",
          "text": [
            "torch.Size([2, 67])\n",
            "torch.Size([2, 1024])\n",
            "input_ids shape: torch.Size([2, 1024])\n",
            "max input_ids value: tensor(91209)\n",
            "vocabulary size: 96103\n"
          ]
        },
        {
          "name": "stderr",
          "output_type": "stream",
          "text": [
            "\r 95%|█████████▌| 238/250 [1:23:59<04:00, 20.03s/it]"
          ]
        },
        {
          "name": "stdout",
          "output_type": "stream",
          "text": [
            "torch.Size([2, 128])\n",
            "torch.Size([2, 1024])\n",
            "input_ids shape: torch.Size([2, 1024])\n",
            "max input_ids value: tensor(94736)\n",
            "vocabulary size: 96103\n"
          ]
        },
        {
          "name": "stderr",
          "output_type": "stream",
          "text": [
            "\r 96%|█████████▌| 239/250 [1:24:20<03:41, 20.17s/it]"
          ]
        },
        {
          "name": "stdout",
          "output_type": "stream",
          "text": [
            "torch.Size([2, 128])\n",
            "torch.Size([2, 1024])\n",
            "input_ids shape: torch.Size([2, 1024])\n",
            "max input_ids value: tensor(94830)\n",
            "vocabulary size: 96103\n"
          ]
        },
        {
          "name": "stderr",
          "output_type": "stream",
          "text": [
            "\r 96%|█████████▌| 240/250 [1:24:41<03:25, 20.52s/it]"
          ]
        },
        {
          "name": "stdout",
          "output_type": "stream",
          "text": [
            "torch.Size([2, 128])\n",
            "torch.Size([2, 1024])\n",
            "input_ids shape: torch.Size([2, 1024])\n",
            "max input_ids value: tensor(94117)\n",
            "vocabulary size: 96103\n"
          ]
        },
        {
          "name": "stderr",
          "output_type": "stream",
          "text": [
            "\r 96%|█████████▋| 241/250 [1:25:02<03:05, 20.61s/it]"
          ]
        },
        {
          "name": "stdout",
          "output_type": "stream",
          "text": [
            "torch.Size([2, 128])\n",
            "torch.Size([2, 1024])\n",
            "input_ids shape: torch.Size([2, 1024])\n",
            "max input_ids value: tensor(92943)\n",
            "vocabulary size: 96103\n"
          ]
        },
        {
          "name": "stderr",
          "output_type": "stream",
          "text": [
            "\r 97%|█████████▋| 242/250 [1:25:22<02:44, 20.59s/it]"
          ]
        },
        {
          "name": "stdout",
          "output_type": "stream",
          "text": [
            "torch.Size([2, 128])\n",
            "torch.Size([2, 1024])\n",
            "input_ids shape: torch.Size([2, 1024])\n",
            "max input_ids value: tensor(89770)\n",
            "vocabulary size: 96103\n"
          ]
        },
        {
          "name": "stderr",
          "output_type": "stream",
          "text": [
            "\r 97%|█████████▋| 243/250 [1:25:43<02:24, 20.58s/it]"
          ]
        },
        {
          "name": "stdout",
          "output_type": "stream",
          "text": [
            "torch.Size([2, 128])\n",
            "torch.Size([2, 1024])\n",
            "input_ids shape: torch.Size([2, 1024])\n",
            "max input_ids value: tensor(95655)\n",
            "vocabulary size: 96103\n"
          ]
        },
        {
          "name": "stderr",
          "output_type": "stream",
          "text": [
            "\r 98%|█████████▊| 244/250 [1:26:04<02:04, 20.76s/it]"
          ]
        },
        {
          "name": "stdout",
          "output_type": "stream",
          "text": [
            "torch.Size([2, 128])\n",
            "torch.Size([2, 1024])\n",
            "input_ids shape: torch.Size([2, 1024])\n",
            "max input_ids value: tensor(82343)\n",
            "vocabulary size: 96103\n"
          ]
        },
        {
          "name": "stderr",
          "output_type": "stream",
          "text": [
            "\r 98%|█████████▊| 245/250 [1:26:25<01:44, 20.84s/it]"
          ]
        },
        {
          "name": "stdout",
          "output_type": "stream",
          "text": [
            "torch.Size([2, 128])\n",
            "torch.Size([2, 1024])\n",
            "input_ids shape: torch.Size([2, 1024])\n",
            "max input_ids value: tensor(93513)\n",
            "vocabulary size: 96103\n"
          ]
        },
        {
          "name": "stderr",
          "output_type": "stream",
          "text": [
            "\r 98%|█████████▊| 246/250 [1:26:45<01:22, 20.75s/it]"
          ]
        },
        {
          "name": "stdout",
          "output_type": "stream",
          "text": [
            "torch.Size([2, 128])\n",
            "torch.Size([2, 1024])\n",
            "input_ids shape: torch.Size([2, 1024])\n",
            "max input_ids value: tensor(91690)\n",
            "vocabulary size: 96103\n"
          ]
        },
        {
          "name": "stderr",
          "output_type": "stream",
          "text": [
            "\r 99%|█████████▉| 247/250 [1:27:06<01:02, 20.69s/it]"
          ]
        },
        {
          "name": "stdout",
          "output_type": "stream",
          "text": [
            "torch.Size([2, 128])\n",
            "torch.Size([2, 1024])\n",
            "input_ids shape: torch.Size([2, 1024])\n",
            "max input_ids value: tensor(88804)\n",
            "vocabulary size: 96103\n"
          ]
        },
        {
          "name": "stderr",
          "output_type": "stream",
          "text": [
            "\r 99%|█████████▉| 248/250 [1:27:27<00:41, 20.65s/it]"
          ]
        },
        {
          "name": "stdout",
          "output_type": "stream",
          "text": [
            "torch.Size([2, 128])\n",
            "torch.Size([2, 1024])\n",
            "input_ids shape: torch.Size([2, 1024])\n",
            "max input_ids value: tensor(89770)\n",
            "vocabulary size: 96103\n"
          ]
        },
        {
          "name": "stderr",
          "output_type": "stream",
          "text": [
            "\r100%|█████████▉| 249/250 [1:27:48<00:20, 20.93s/it]"
          ]
        },
        {
          "name": "stdout",
          "output_type": "stream",
          "text": [
            "torch.Size([2, 128])\n",
            "torch.Size([2, 1024])\n",
            "input_ids shape: torch.Size([2, 1024])\n",
            "max input_ids value: tensor(84030)\n",
            "vocabulary size: 96103\n"
          ]
        },
        {
          "name": "stderr",
          "output_type": "stream",
          "text": [
            "100%|██████████| 250/250 [1:28:08<00:00, 21.16s/it]"
          ]
        },
        {
          "name": "stdout",
          "output_type": "stream",
          "text": [
            "torch.Size([2, 128])\n",
            "torch.Size([2, 1024])\n"
          ]
        },
        {
          "name": "stderr",
          "output_type": "stream",
          "text": [
            "\n"
          ]
        },
        {
          "data": {
            "text/html": [
              "\n",
              "  <div id=\"df-355a9c25-5891-4770-aadc-922fd3ad1b7a\">\n",
              "    <div class=\"colab-df-container\">\n",
              "      <div>\n",
              "<style scoped>\n",
              "    .dataframe tbody tr th:only-of-type {\n",
              "        vertical-align: middle;\n",
              "    }\n",
              "\n",
              "    .dataframe tbody tr th {\n",
              "        vertical-align: top;\n",
              "    }\n",
              "\n",
              "    .dataframe thead th {\n",
              "        text-align: right;\n",
              "    }\n",
              "</style>\n",
              "<table border=\"1\" class=\"dataframe\">\n",
              "  <thead>\n",
              "    <tr style=\"text-align: right;\">\n",
              "      <th></th>\n",
              "      <th>rouge1</th>\n",
              "      <th>rouge2</th>\n",
              "      <th>rougeL</th>\n",
              "      <th>rougeLsum</th>\n",
              "    </tr>\n",
              "  </thead>\n",
              "  <tbody>\n",
              "    <tr>\n",
              "      <th>pegasus</th>\n",
              "      <td>0.085873</td>\n",
              "      <td>0.032921</td>\n",
              "      <td>0.058045</td>\n",
              "      <td>0.05873</td>\n",
              "    </tr>\n",
              "  </tbody>\n",
              "</table>\n",
              "</div>\n",
              "      <button class=\"colab-df-convert\" onclick=\"convertToInteractive('df-355a9c25-5891-4770-aadc-922fd3ad1b7a')\"\n",
              "              title=\"Convert this dataframe to an interactive table.\"\n",
              "              style=\"display:none;\">\n",
              "        \n",
              "  <svg xmlns=\"http://www.w3.org/2000/svg\" height=\"24px\"viewBox=\"0 0 24 24\"\n",
              "       width=\"24px\">\n",
              "    <path d=\"M0 0h24v24H0V0z\" fill=\"none\"/>\n",
              "    <path d=\"M18.56 5.44l.94 2.06.94-2.06 2.06-.94-2.06-.94-.94-2.06-.94 2.06-2.06.94zm-11 1L8.5 8.5l.94-2.06 2.06-.94-2.06-.94L8.5 2.5l-.94 2.06-2.06.94zm10 10l.94 2.06.94-2.06 2.06-.94-2.06-.94-.94-2.06-.94 2.06-2.06.94z\"/><path d=\"M17.41 7.96l-1.37-1.37c-.4-.4-.92-.59-1.43-.59-.52 0-1.04.2-1.43.59L10.3 9.45l-7.72 7.72c-.78.78-.78 2.05 0 2.83L4 21.41c.39.39.9.59 1.41.59.51 0 1.02-.2 1.41-.59l7.78-7.78 2.81-2.81c.8-.78.8-2.07 0-2.86zM5.41 20L4 18.59l7.72-7.72 1.47 1.35L5.41 20z\"/>\n",
              "  </svg>\n",
              "      </button>\n",
              "      \n",
              "  <style>\n",
              "    .colab-df-container {\n",
              "      display:flex;\n",
              "      flex-wrap:wrap;\n",
              "      gap: 12px;\n",
              "    }\n",
              "\n",
              "    .colab-df-convert {\n",
              "      background-color: #E8F0FE;\n",
              "      border: none;\n",
              "      border-radius: 50%;\n",
              "      cursor: pointer;\n",
              "      display: none;\n",
              "      fill: #1967D2;\n",
              "      height: 32px;\n",
              "      padding: 0 0 0 0;\n",
              "      width: 32px;\n",
              "    }\n",
              "\n",
              "    .colab-df-convert:hover {\n",
              "      background-color: #E2EBFA;\n",
              "      box-shadow: 0px 1px 2px rgba(60, 64, 67, 0.3), 0px 1px 3px 1px rgba(60, 64, 67, 0.15);\n",
              "      fill: #174EA6;\n",
              "    }\n",
              "\n",
              "    [theme=dark] .colab-df-convert {\n",
              "      background-color: #3B4455;\n",
              "      fill: #D2E3FC;\n",
              "    }\n",
              "\n",
              "    [theme=dark] .colab-df-convert:hover {\n",
              "      background-color: #434B5C;\n",
              "      box-shadow: 0px 1px 3px 1px rgba(0, 0, 0, 0.15);\n",
              "      filter: drop-shadow(0px 1px 2px rgba(0, 0, 0, 0.3));\n",
              "      fill: #FFFFFF;\n",
              "    }\n",
              "  </style>\n",
              "\n",
              "      <script>\n",
              "        const buttonEl =\n",
              "          document.querySelector('#df-355a9c25-5891-4770-aadc-922fd3ad1b7a button.colab-df-convert');\n",
              "        buttonEl.style.display =\n",
              "          google.colab.kernel.accessAllowed ? 'block' : 'none';\n",
              "\n",
              "        async function convertToInteractive(key) {\n",
              "          const element = document.querySelector('#df-355a9c25-5891-4770-aadc-922fd3ad1b7a');\n",
              "          const dataTable =\n",
              "            await google.colab.kernel.invokeFunction('convertToInteractive',\n",
              "                                                     [key], {});\n",
              "          if (!dataTable) return;\n",
              "\n",
              "          const docLinkHtml = 'Like what you see? Visit the ' +\n",
              "            '<a target=\"_blank\" href=https://colab.research.google.com/notebooks/data_table.ipynb>data table notebook</a>'\n",
              "            + ' to learn more about interactive tables.';\n",
              "          element.innerHTML = '';\n",
              "          dataTable['output_type'] = 'display_data';\n",
              "          await google.colab.output.renderOutput(dataTable, element);\n",
              "          const docLink = document.createElement('div');\n",
              "          docLink.innerHTML = docLinkHtml;\n",
              "          element.appendChild(docLink);\n",
              "        }\n",
              "      </script>\n",
              "    </div>\n",
              "  </div>\n",
              "  "
            ],
            "text/plain": [
              "           rouge1    rouge2    rougeL  rougeLsum\n",
              "pegasus  0.085873  0.032921  0.058045    0.05873"
            ]
          },
          "execution_count": 31,
          "metadata": {},
          "output_type": "execute_result"
        }
      ],
      "source": [
        "\n",
        "score = calculate_metric_on_test_ds(\n",
        "    dataset_dict['test'][:500], rouge_metric, trainer.model, pegtokenizer, batch_size = 2, column_text = 'article', column_summary= 'highlights'\n",
        ")\n",
        "\n",
        "rouge_dict = dict((rn, score[rn].high.fmeasure ) for rn in rouge_names )\n",
        "\n",
        "pd.DataFrame(rouge_dict, index = [f'pegasus'] )"
      ],
      "id": "5BzqdHVxqGBN"
    },
    {
      "cell_type": "code",
      "execution_count": null,
      "metadata": {
        "colab": {
          "base_uri": "https://localhost:8080/"
        },
        "id": "53E4ZEYsq4o6",
        "outputId": "26e26adb-4a06-4b47-a398-0bd735c43729"
      },
      "outputs": [
        {
          "name": "stdout",
          "output_type": "stream",
          "text": [
            "config.json\t\toptimizer.pt\t   rng_state.pth  trainer_state.json\n",
            "generation_config.json\tpytorch_model.bin  scheduler.pt   training_args.bin\n"
          ]
        }
      ],
      "source": [
        "!ls /content/drive/MyDrive/final/results/checkpoint-1000/"
      ],
      "id": "53E4ZEYsq4o6"
    },
    {
      "cell_type": "code",
      "execution_count": null,
      "metadata": {
        "id": "wocH0Oods80s"
      },
      "outputs": [],
      "source": [
        "rouge_dict_all = {}\n",
        "for rn in rouge_names:\n",
        "    scores = score[rn].high\n",
        "    rouge_dict_all[rn] = {\n",
        "        \"precision\": scores.precision,\n",
        "        \"recall\": scores.recall,\n",
        "        \"f-1measure\": scores.fmeasure,\n",
        "    }\n"
      ],
      "id": "wocH0Oods80s"
    },
    {
      "cell_type": "code",
      "execution_count": null,
      "metadata": {
        "colab": {
          "base_uri": "https://localhost:8080/",
          "height": 143
        },
        "id": "tdptQexFtZut",
        "outputId": "dc8ecca5-5547-4800-eff4-928f8b553077"
      },
      "outputs": [
        {
          "data": {
            "text/html": [
              "\n",
              "  <div id=\"df-e7c20ad2-7718-4163-95d2-31d0e9405c71\">\n",
              "    <div class=\"colab-df-container\">\n",
              "      <div>\n",
              "<style scoped>\n",
              "    .dataframe tbody tr th:only-of-type {\n",
              "        vertical-align: middle;\n",
              "    }\n",
              "\n",
              "    .dataframe tbody tr th {\n",
              "        vertical-align: top;\n",
              "    }\n",
              "\n",
              "    .dataframe thead th {\n",
              "        text-align: right;\n",
              "    }\n",
              "</style>\n",
              "<table border=\"1\" class=\"dataframe\">\n",
              "  <thead>\n",
              "    <tr style=\"text-align: right;\">\n",
              "      <th></th>\n",
              "      <th>rouge1</th>\n",
              "      <th>rouge2</th>\n",
              "      <th>rougeL</th>\n",
              "      <th>rougeLsum</th>\n",
              "    </tr>\n",
              "  </thead>\n",
              "  <tbody>\n",
              "    <tr>\n",
              "      <th>precision</th>\n",
              "      <td>0.095059</td>\n",
              "      <td>0.037601</td>\n",
              "      <td>0.065247</td>\n",
              "      <td>0.064527</td>\n",
              "    </tr>\n",
              "    <tr>\n",
              "      <th>recall</th>\n",
              "      <td>0.129377</td>\n",
              "      <td>0.052352</td>\n",
              "      <td>0.090123</td>\n",
              "      <td>0.088928</td>\n",
              "    </tr>\n",
              "    <tr>\n",
              "      <th>f-1measure</th>\n",
              "      <td>0.100208</td>\n",
              "      <td>0.040025</td>\n",
              "      <td>0.068447</td>\n",
              "      <td>0.068154</td>\n",
              "    </tr>\n",
              "  </tbody>\n",
              "</table>\n",
              "</div>\n",
              "      <button class=\"colab-df-convert\" onclick=\"convertToInteractive('df-e7c20ad2-7718-4163-95d2-31d0e9405c71')\"\n",
              "              title=\"Convert this dataframe to an interactive table.\"\n",
              "              style=\"display:none;\">\n",
              "        \n",
              "  <svg xmlns=\"http://www.w3.org/2000/svg\" height=\"24px\"viewBox=\"0 0 24 24\"\n",
              "       width=\"24px\">\n",
              "    <path d=\"M0 0h24v24H0V0z\" fill=\"none\"/>\n",
              "    <path d=\"M18.56 5.44l.94 2.06.94-2.06 2.06-.94-2.06-.94-.94-2.06-.94 2.06-2.06.94zm-11 1L8.5 8.5l.94-2.06 2.06-.94-2.06-.94L8.5 2.5l-.94 2.06-2.06.94zm10 10l.94 2.06.94-2.06 2.06-.94-2.06-.94-.94-2.06-.94 2.06-2.06.94z\"/><path d=\"M17.41 7.96l-1.37-1.37c-.4-.4-.92-.59-1.43-.59-.52 0-1.04.2-1.43.59L10.3 9.45l-7.72 7.72c-.78.78-.78 2.05 0 2.83L4 21.41c.39.39.9.59 1.41.59.51 0 1.02-.2 1.41-.59l7.78-7.78 2.81-2.81c.8-.78.8-2.07 0-2.86zM5.41 20L4 18.59l7.72-7.72 1.47 1.35L5.41 20z\"/>\n",
              "  </svg>\n",
              "      </button>\n",
              "      \n",
              "  <style>\n",
              "    .colab-df-container {\n",
              "      display:flex;\n",
              "      flex-wrap:wrap;\n",
              "      gap: 12px;\n",
              "    }\n",
              "\n",
              "    .colab-df-convert {\n",
              "      background-color: #E8F0FE;\n",
              "      border: none;\n",
              "      border-radius: 50%;\n",
              "      cursor: pointer;\n",
              "      display: none;\n",
              "      fill: #1967D2;\n",
              "      height: 32px;\n",
              "      padding: 0 0 0 0;\n",
              "      width: 32px;\n",
              "    }\n",
              "\n",
              "    .colab-df-convert:hover {\n",
              "      background-color: #E2EBFA;\n",
              "      box-shadow: 0px 1px 2px rgba(60, 64, 67, 0.3), 0px 1px 3px 1px rgba(60, 64, 67, 0.15);\n",
              "      fill: #174EA6;\n",
              "    }\n",
              "\n",
              "    [theme=dark] .colab-df-convert {\n",
              "      background-color: #3B4455;\n",
              "      fill: #D2E3FC;\n",
              "    }\n",
              "\n",
              "    [theme=dark] .colab-df-convert:hover {\n",
              "      background-color: #434B5C;\n",
              "      box-shadow: 0px 1px 3px 1px rgba(0, 0, 0, 0.15);\n",
              "      filter: drop-shadow(0px 1px 2px rgba(0, 0, 0, 0.3));\n",
              "      fill: #FFFFFF;\n",
              "    }\n",
              "  </style>\n",
              "\n",
              "      <script>\n",
              "        const buttonEl =\n",
              "          document.querySelector('#df-e7c20ad2-7718-4163-95d2-31d0e9405c71 button.colab-df-convert');\n",
              "        buttonEl.style.display =\n",
              "          google.colab.kernel.accessAllowed ? 'block' : 'none';\n",
              "\n",
              "        async function convertToInteractive(key) {\n",
              "          const element = document.querySelector('#df-e7c20ad2-7718-4163-95d2-31d0e9405c71');\n",
              "          const dataTable =\n",
              "            await google.colab.kernel.invokeFunction('convertToInteractive',\n",
              "                                                     [key], {});\n",
              "          if (!dataTable) return;\n",
              "\n",
              "          const docLinkHtml = 'Like what you see? Visit the ' +\n",
              "            '<a target=\"_blank\" href=https://colab.research.google.com/notebooks/data_table.ipynb>data table notebook</a>'\n",
              "            + ' to learn more about interactive tables.';\n",
              "          element.innerHTML = '';\n",
              "          dataTable['output_type'] = 'display_data';\n",
              "          await google.colab.output.renderOutput(dataTable, element);\n",
              "          const docLink = document.createElement('div');\n",
              "          docLink.innerHTML = docLinkHtml;\n",
              "          element.appendChild(docLink);\n",
              "        }\n",
              "      </script>\n",
              "    </div>\n",
              "  </div>\n",
              "  "
            ],
            "text/plain": [
              "              rouge1    rouge2    rougeL  rougeLsum\n",
              "precision   0.095059  0.037601  0.065247   0.064527\n",
              "recall      0.129377  0.052352  0.090123   0.088928\n",
              "f-1measure  0.100208  0.040025  0.068447   0.068154"
            ]
          },
          "execution_count": 33,
          "metadata": {},
          "output_type": "execute_result"
        }
      ],
      "source": [
        "\n",
        "pd.DataFrame(rouge_dict_all )"
      ],
      "id": "tdptQexFtZut"
    },
    {
      "cell_type": "code",
      "execution_count": null,
      "metadata": {
        "id": "6y2-hjFhuY_M"
      },
      "outputs": [],
      "source": [
        "#didn't find effective\n",
        "def calculate_metric_on_test_ds_trial(dataset, metric, model, tokenizer, \n",
        "                               batch_size=8, device=device, \n",
        "                               column_text=\"article\", \n",
        "                               column_summary=\"highlights\"):\n",
        "    article_batches = list(generate_batch_sized_chunks(dataset[column_text], batch_size))\n",
        "    target_batches = list(generate_batch_sized_chunks(dataset[column_summary], batch_size))\n",
        "\n",
        "    #scorer = rouge_scorer.RougeScorer(['rouge1', 'rouge2', 'rougeL'], use_stemmer=True)\n",
        "    results = {}\n",
        "    for article_batch, target_batch in tqdm(\n",
        "        zip(article_batches, target_batches), total=len(article_batches)):\n",
        "        \n",
        "        inputs = tokenizer(article_batch, max_length=1024,  truncation=True, \n",
        "                        padding=\"max_length\", return_tensors=\"pt\")\n",
        "        \n",
        "        # Filter out examples with a shorter sequence length\n",
        "        #mask = inputs['attention_mask'].sum(dim=1) > 0\n",
        "        #inputs = {k: v[mask] for k, v in inputs.items()}\n",
        "        #target_batch = [t for t, m in zip(target_batch, mask) if m]\n",
        "        \n",
        "        print(\"input_ids shape:\", inputs[\"input_ids\"].shape)\n",
        "        print(\"max input_ids value:\", inputs[\"input_ids\"].max())\n",
        "        print(\"vocabulary size:\", tokenizer.vocab_size)\n",
        "\n",
        "        summaries = model.generate(input_ids=inputs[\"input_ids\"].to(device),\n",
        "                         attention_mask=inputs[\"attention_mask\"].to(device), \n",
        "                         length_penalty=0.8, num_beams=8, max_length=128)\n",
        "        ''' parameter for length penalty ensures that the model does not generate sequences that are too long. '''\n",
        "       \n",
        "        print(summaries.shape)\n",
        "        print(inputs[\"attention_mask\"].shape)\n",
        "        # Finally, we decode the generated texts, \n",
        "        # replace the <n> token, and add the decoded texts with the references to the metric.\n",
        "        decoded_summaries = [tokenizer.decode(s, skip_special_tokens=True, \n",
        "                                clean_up_tokenization_spaces=True) \n",
        "               for s in summaries]      \n",
        "        \n",
        "        decoded_summaries = [d.replace(\"<n>\", \" \") for d in decoded_summaries]\n",
        "\n",
        "         \n",
        "        metric.add_batch(predictions=decoded_summaries, references=target_batch)\n",
        "        \n",
        "    #  Finally compute and return the ROUGE scores.\n",
        "    score = metric.compute(use_stemmer=False)\n",
        "    return score"
      ],
      "id": "6y2-hjFhuY_M"
    },
    {
      "cell_type": "code",
      "execution_count": null,
      "metadata": {
        "id": "jFpaufyACi2h"
      },
      "outputs": [],
      "source": [
        "from rouge_score import rouge_scorer"
      ],
      "id": "jFpaufyACi2h"
    },
    {
      "cell_type": "code",
      "execution_count": null,
      "metadata": {
        "id": "Q4mZq_bhIWri"
      },
      "outputs": [],
      "source": [
        "model_checkpoint = 'google/pegasus-large'\n",
        "pegtokenizer  = PegasusTokenizer.from_pretrained(model_checkpoint)"
      ],
      "id": "Q4mZq_bhIWri"
    },
    {
      "cell_type": "code",
      "execution_count": null,
      "metadata": {
        "id": "EBo8qC9kDVN3"
      },
      "outputs": [],
      "source": [
        "# load the finetuned model\n",
        "\n",
        "model_path = \"/content/drive/MyDrive/final/results/checkpoint-1000/\"\n",
        "model_finetune = PegasusForConditionalGeneration.from_pretrained(model_path, local_files_only=True).to(torch_device)\n",
        "#pegtokenizer  = PegasusTokenizer.from_pretrained(model_finetune)"
      ],
      "id": "EBo8qC9kDVN3"
    },
    {
      "cell_type": "code",
      "execution_count": null,
      "metadata": {
        "colab": {
          "base_uri": "https://localhost:8080/"
        },
        "id": "RKjmO3m2Sqsw",
        "outputId": "015fdcac-c8ea-40ff-e273-f5c6c8139694"
      },
      "outputs": [
        {
          "name": "stdout",
          "output_type": "stream",
          "text": [
            "Looking in indexes: https://pypi.org/simple, https://us-python.pkg.dev/colab-wheels/public/simple/\n",
            "Collecting py-rouge\n",
            "  Downloading py_rouge-1.1-py3-none-any.whl (56 kB)\n",
            "\u001b[2K     \u001b[90m━━━━━━━━━━━━━━━━━━━━━━━━━━━━━━━━━━━━━━━━\u001b[0m \u001b[32m56.8/56.8 kB\u001b[0m \u001b[31m2.7 MB/s\u001b[0m eta \u001b[36m0:00:00\u001b[0m\n",
            "\u001b[?25hInstalling collected packages: py-rouge\n",
            "Successfully installed py-rouge-1.1\n"
          ]
        }
      ],
      "source": [
        "!pip install py-rouge"
      ],
      "id": "RKjmO3m2Sqsw"
    },
    {
      "cell_type": "code",
      "execution_count": null,
      "metadata": {
        "colab": {
          "base_uri": "https://localhost:8080/"
        },
        "id": "9ucAzktoIwzI",
        "outputId": "022f7eb7-7885-45c1-d38a-b651380c9e46"
      },
      "outputs": [
        {
          "name": "stdout",
          "output_type": "stream",
          "text": [
            "Looking in indexes: https://pypi.org/simple, https://us-python.pkg.dev/colab-wheels/public/simple/\n",
            "Requirement already satisfied: rouge-score in /usr/local/lib/python3.10/dist-packages (0.1.2)\n",
            "Requirement already satisfied: absl-py in /usr/local/lib/python3.10/dist-packages (from rouge-score) (1.4.0)\n",
            "Requirement already satisfied: nltk in /usr/local/lib/python3.10/dist-packages (from rouge-score) (3.8.1)\n",
            "Requirement already satisfied: numpy in /usr/local/lib/python3.10/dist-packages (from rouge-score) (1.24.3)\n",
            "Requirement already satisfied: six>=1.14.0 in /usr/local/lib/python3.10/dist-packages (from rouge-score) (1.16.0)\n",
            "Requirement already satisfied: click in /usr/local/lib/python3.10/dist-packages (from nltk->rouge-score) (8.1.3)\n",
            "Requirement already satisfied: joblib in /usr/local/lib/python3.10/dist-packages (from nltk->rouge-score) (1.2.0)\n",
            "Requirement already satisfied: regex>=2021.8.3 in /usr/local/lib/python3.10/dist-packages (from nltk->rouge-score) (2022.10.31)\n",
            "Requirement already satisfied: tqdm in /usr/local/lib/python3.10/dist-packages (from nltk->rouge-score) (4.65.0)\n"
          ]
        }
      ],
      "source": [
        "\n",
        "!pip install rouge-score"
      ],
      "id": "9ucAzktoIwzI"
    },
    {
      "cell_type": "code",
      "execution_count": null,
      "metadata": {
        "id": "f9CWRy9TTEBE"
      },
      "outputs": [],
      "source": [
        "from rouge import Rouge"
      ],
      "id": "f9CWRy9TTEBE"
    },
    {
      "cell_type": "code",
      "execution_count": null,
      "metadata": {
        "colab": {
          "base_uri": "https://localhost:8080/",
          "height": 1000
        },
        "id": "djwavMvGCY3t",
        "outputId": "7c4a8c61-5a8a-412f-b776-e60f5d8cbadc"
      },
      "outputs": [
        {
          "name": "stderr",
          "output_type": "stream",
          "text": [
            "\r  0%|          | 0/25 [00:00<?, ?it/s]"
          ]
        },
        {
          "name": "stdout",
          "output_type": "stream",
          "text": [
            "input_ids shape: torch.Size([2, 1024])\n",
            "max input_ids value: tensor(95824)\n",
            "vocabulary size: 96103\n"
          ]
        },
        {
          "name": "stderr",
          "output_type": "stream",
          "text": [
            "\r  4%|▍         | 1/25 [00:18<07:17, 18.24s/it]"
          ]
        },
        {
          "name": "stdout",
          "output_type": "stream",
          "text": [
            "torch.Size([2, 128])\n",
            "torch.Size([2, 1024])\n",
            "input_ids shape: torch.Size([2, 1024])\n",
            "max input_ids value: tensor(92829)\n",
            "vocabulary size: 96103\n"
          ]
        },
        {
          "name": "stderr",
          "output_type": "stream",
          "text": [
            "\r  8%|▊         | 2/25 [00:34<06:38, 17.35s/it]"
          ]
        },
        {
          "name": "stdout",
          "output_type": "stream",
          "text": [
            "torch.Size([2, 128])\n",
            "torch.Size([2, 1024])\n",
            "input_ids shape: torch.Size([2, 1024])\n",
            "max input_ids value: tensor(93505)\n",
            "vocabulary size: 96103\n"
          ]
        },
        {
          "name": "stderr",
          "output_type": "stream",
          "text": [
            "\r 12%|█▏        | 3/25 [00:50<06:07, 16.73s/it]"
          ]
        },
        {
          "name": "stdout",
          "output_type": "stream",
          "text": [
            "torch.Size([2, 128])\n",
            "torch.Size([2, 1024])\n",
            "input_ids shape: torch.Size([2, 1024])\n",
            "max input_ids value: tensor(92006)\n",
            "vocabulary size: 96103\n"
          ]
        },
        {
          "name": "stderr",
          "output_type": "stream",
          "text": [
            "\r 16%|█▌        | 4/25 [01:08<05:57, 17.00s/it]"
          ]
        },
        {
          "name": "stdout",
          "output_type": "stream",
          "text": [
            "torch.Size([2, 128])\n",
            "torch.Size([2, 1024])\n",
            "input_ids shape: torch.Size([2, 1024])\n",
            "max input_ids value: tensor(93676)\n",
            "vocabulary size: 96103\n"
          ]
        },
        {
          "name": "stderr",
          "output_type": "stream",
          "text": [
            "\r 20%|██        | 5/25 [01:24<05:33, 16.69s/it]"
          ]
        },
        {
          "name": "stdout",
          "output_type": "stream",
          "text": [
            "torch.Size([2, 128])\n",
            "torch.Size([2, 1024])\n",
            "input_ids shape: torch.Size([2, 1024])\n",
            "max input_ids value: tensor(95559)\n",
            "vocabulary size: 96103\n"
          ]
        },
        {
          "name": "stderr",
          "output_type": "stream",
          "text": [
            "\r 24%|██▍       | 6/25 [01:41<05:16, 16.67s/it]"
          ]
        },
        {
          "name": "stdout",
          "output_type": "stream",
          "text": [
            "torch.Size([2, 128])\n",
            "torch.Size([2, 1024])\n",
            "input_ids shape: torch.Size([2, 1024])\n",
            "max input_ids value: tensor(88903)\n",
            "vocabulary size: 96103\n"
          ]
        },
        {
          "name": "stderr",
          "output_type": "stream",
          "text": [
            "\r 28%|██▊       | 7/25 [01:57<04:56, 16.47s/it]"
          ]
        },
        {
          "name": "stdout",
          "output_type": "stream",
          "text": [
            "torch.Size([2, 128])\n",
            "torch.Size([2, 1024])\n",
            "input_ids shape: torch.Size([2, 1024])\n",
            "max input_ids value: tensor(85666)\n",
            "vocabulary size: 96103\n"
          ]
        },
        {
          "name": "stderr",
          "output_type": "stream",
          "text": [
            "\r 32%|███▏      | 8/25 [02:17<04:58, 17.53s/it]"
          ]
        },
        {
          "name": "stdout",
          "output_type": "stream",
          "text": [
            "torch.Size([2, 128])\n",
            "torch.Size([2, 1024])\n",
            "input_ids shape: torch.Size([2, 1024])\n",
            "max input_ids value: tensor(92539)\n",
            "vocabulary size: 96103\n"
          ]
        },
        {
          "name": "stderr",
          "output_type": "stream",
          "text": [
            "\r 36%|███▌      | 9/25 [02:32<04:31, 17.00s/it]"
          ]
        },
        {
          "name": "stdout",
          "output_type": "stream",
          "text": [
            "torch.Size([2, 128])\n",
            "torch.Size([2, 1024])\n",
            "input_ids shape: torch.Size([2, 1024])\n",
            "max input_ids value: tensor(89038)\n",
            "vocabulary size: 96103\n"
          ]
        },
        {
          "name": "stderr",
          "output_type": "stream",
          "text": [
            "\r 40%|████      | 10/25 [02:49<04:13, 16.87s/it]"
          ]
        },
        {
          "name": "stdout",
          "output_type": "stream",
          "text": [
            "torch.Size([2, 128])\n",
            "torch.Size([2, 1024])\n",
            "input_ids shape: torch.Size([2, 1024])\n",
            "max input_ids value: tensor(95655)\n",
            "vocabulary size: 96103\n"
          ]
        },
        {
          "name": "stderr",
          "output_type": "stream",
          "text": [
            "\r 44%|████▍     | 11/25 [03:05<03:52, 16.59s/it]"
          ]
        },
        {
          "name": "stdout",
          "output_type": "stream",
          "text": [
            "torch.Size([2, 128])\n",
            "torch.Size([2, 1024])\n",
            "input_ids shape: torch.Size([2, 1024])\n",
            "max input_ids value: tensor(95655)\n",
            "vocabulary size: 96103\n"
          ]
        },
        {
          "name": "stderr",
          "output_type": "stream",
          "text": [
            "\r 48%|████▊     | 12/25 [03:21<03:32, 16.32s/it]"
          ]
        },
        {
          "name": "stdout",
          "output_type": "stream",
          "text": [
            "torch.Size([2, 128])\n",
            "torch.Size([2, 1024])\n",
            "input_ids shape: torch.Size([2, 1024])\n",
            "max input_ids value: tensor(94875)\n",
            "vocabulary size: 96103\n"
          ]
        },
        {
          "name": "stderr",
          "output_type": "stream",
          "text": [
            "\r 52%|█████▏    | 13/25 [03:38<03:19, 16.62s/it]"
          ]
        },
        {
          "name": "stdout",
          "output_type": "stream",
          "text": [
            "torch.Size([2, 128])\n",
            "torch.Size([2, 1024])\n",
            "input_ids shape: torch.Size([2, 1024])\n",
            "max input_ids value: tensor(93307)\n",
            "vocabulary size: 96103\n"
          ]
        },
        {
          "name": "stderr",
          "output_type": "stream",
          "text": [
            "\r 56%|█████▌    | 14/25 [03:54<02:59, 16.32s/it]"
          ]
        },
        {
          "name": "stdout",
          "output_type": "stream",
          "text": [
            "torch.Size([2, 128])\n",
            "torch.Size([2, 1024])\n",
            "input_ids shape: torch.Size([2, 1024])\n",
            "max input_ids value: tensor(92339)\n",
            "vocabulary size: 96103\n"
          ]
        },
        {
          "name": "stderr",
          "output_type": "stream",
          "text": [
            "\r 60%|██████    | 15/25 [04:11<02:46, 16.64s/it]"
          ]
        },
        {
          "name": "stdout",
          "output_type": "stream",
          "text": [
            "torch.Size([2, 128])\n",
            "torch.Size([2, 1024])\n",
            "input_ids shape: torch.Size([2, 1024])\n",
            "max input_ids value: tensor(84512)\n",
            "vocabulary size: 96103\n"
          ]
        },
        {
          "name": "stderr",
          "output_type": "stream",
          "text": [
            "\r 64%|██████▍   | 16/25 [04:30<02:35, 17.25s/it]"
          ]
        },
        {
          "name": "stdout",
          "output_type": "stream",
          "text": [
            "torch.Size([2, 128])\n",
            "torch.Size([2, 1024])\n",
            "input_ids shape: torch.Size([2, 1024])\n",
            "max input_ids value: tensor(86233)\n",
            "vocabulary size: 96103\n"
          ]
        },
        {
          "name": "stderr",
          "output_type": "stream",
          "text": [
            "\r 68%|██████▊   | 17/25 [04:45<02:14, 16.77s/it]"
          ]
        },
        {
          "name": "stdout",
          "output_type": "stream",
          "text": [
            "torch.Size([2, 128])\n",
            "torch.Size([2, 1024])\n",
            "input_ids shape: torch.Size([2, 1024])\n",
            "max input_ids value: tensor(89736)\n",
            "vocabulary size: 96103\n"
          ]
        },
        {
          "name": "stderr",
          "output_type": "stream",
          "text": [
            "\r 72%|███████▏  | 18/25 [05:02<01:56, 16.69s/it]"
          ]
        },
        {
          "name": "stdout",
          "output_type": "stream",
          "text": [
            "torch.Size([2, 128])\n",
            "torch.Size([2, 1024])\n",
            "input_ids shape: torch.Size([2, 1024])\n",
            "max input_ids value: tensor(89322)\n",
            "vocabulary size: 96103\n"
          ]
        },
        {
          "name": "stderr",
          "output_type": "stream",
          "text": [
            "\r 76%|███████▌  | 19/25 [05:18<01:39, 16.64s/it]"
          ]
        },
        {
          "name": "stdout",
          "output_type": "stream",
          "text": [
            "torch.Size([2, 128])\n",
            "torch.Size([2, 1024])\n",
            "input_ids shape: torch.Size([2, 1024])\n",
            "max input_ids value: tensor(95569)\n",
            "vocabulary size: 96103\n"
          ]
        },
        {
          "name": "stderr",
          "output_type": "stream",
          "text": [
            "\r 80%|████████  | 20/25 [05:35<01:22, 16.56s/it]"
          ]
        },
        {
          "name": "stdout",
          "output_type": "stream",
          "text": [
            "torch.Size([2, 128])\n",
            "torch.Size([2, 1024])\n",
            "input_ids shape: torch.Size([2, 1024])\n",
            "max input_ids value: tensor(95814)\n",
            "vocabulary size: 96103\n"
          ]
        },
        {
          "name": "stderr",
          "output_type": "stream",
          "text": [
            "\r 84%|████████▍ | 21/25 [05:50<01:05, 16.31s/it]"
          ]
        },
        {
          "name": "stdout",
          "output_type": "stream",
          "text": [
            "torch.Size([2, 128])\n",
            "torch.Size([2, 1024])\n",
            "input_ids shape: torch.Size([2, 1024])\n",
            "max input_ids value: tensor(95655)\n",
            "vocabulary size: 96103\n"
          ]
        },
        {
          "name": "stderr",
          "output_type": "stream",
          "text": [
            "\r 88%|████████▊ | 22/25 [06:07<00:49, 16.35s/it]"
          ]
        },
        {
          "name": "stdout",
          "output_type": "stream",
          "text": [
            "torch.Size([2, 128])\n",
            "torch.Size([2, 1024])\n",
            "input_ids shape: torch.Size([2, 1024])\n",
            "max input_ids value: tensor(93998)\n",
            "vocabulary size: 96103\n"
          ]
        },
        {
          "name": "stderr",
          "output_type": "stream",
          "text": [
            "\r 92%|█████████▏| 23/25 [06:23<00:32, 16.24s/it]"
          ]
        },
        {
          "name": "stdout",
          "output_type": "stream",
          "text": [
            "torch.Size([2, 128])\n",
            "torch.Size([2, 1024])\n",
            "input_ids shape: torch.Size([2, 1024])\n",
            "max input_ids value: tensor(91488)\n",
            "vocabulary size: 96103\n"
          ]
        },
        {
          "name": "stderr",
          "output_type": "stream",
          "text": [
            "\r 96%|█████████▌| 24/25 [06:39<00:16, 16.23s/it]"
          ]
        },
        {
          "name": "stdout",
          "output_type": "stream",
          "text": [
            "torch.Size([2, 128])\n",
            "torch.Size([2, 1024])\n",
            "input_ids shape: torch.Size([2, 1024])\n",
            "max input_ids value: tensor(94736)\n",
            "vocabulary size: 96103\n"
          ]
        },
        {
          "name": "stderr",
          "output_type": "stream",
          "text": [
            "100%|██████████| 25/25 [06:55<00:00, 16.61s/it]"
          ]
        },
        {
          "name": "stdout",
          "output_type": "stream",
          "text": [
            "torch.Size([2, 128])\n",
            "torch.Size([2, 1024])\n"
          ]
        },
        {
          "name": "stderr",
          "output_type": "stream",
          "text": [
            "\n"
          ]
        },
        {
          "ename": "TypeError",
          "evalue": "ignored",
          "output_type": "error",
          "traceback": [
            "\u001b[0;31m---------------------------------------------------------------------------\u001b[0m",
            "\u001b[0;31mTypeError\u001b[0m                                 Traceback (most recent call last)",
            "\u001b[0;32m<ipython-input-51-9abdd2d46178>\u001b[0m in \u001b[0;36m<cell line: 16>\u001b[0;34m()\u001b[0m\n\u001b[1;32m     14\u001b[0m \u001b[0;34m\u001b[0m\u001b[0m\n\u001b[1;32m     15\u001b[0m \u001b[0;31m# Print average scores\u001b[0m\u001b[0;34m\u001b[0m\u001b[0;34m\u001b[0m\u001b[0m\n\u001b[0;32m---> 16\u001b[0;31m \u001b[0mprint\u001b[0m\u001b[0;34m(\u001b[0m\u001b[0;34m'ROUGE-1:'\u001b[0m\u001b[0;34m,\u001b[0m \u001b[0msum\u001b[0m\u001b[0;34m(\u001b[0m\u001b[0mrouge1_scores\u001b[0m\u001b[0;34m)\u001b[0m \u001b[0;34m/\u001b[0m \u001b[0mlen\u001b[0m\u001b[0;34m(\u001b[0m\u001b[0mrouge1_scores\u001b[0m\u001b[0;34m)\u001b[0m\u001b[0;34m)\u001b[0m\u001b[0;34m\u001b[0m\u001b[0;34m\u001b[0m\u001b[0m\n\u001b[0m\u001b[1;32m     17\u001b[0m \u001b[0mprint\u001b[0m\u001b[0;34m(\u001b[0m\u001b[0;34m'ROUGE-2:'\u001b[0m\u001b[0;34m,\u001b[0m \u001b[0msum\u001b[0m\u001b[0;34m(\u001b[0m\u001b[0mrouge2_scores\u001b[0m\u001b[0;34m)\u001b[0m \u001b[0;34m/\u001b[0m \u001b[0mlen\u001b[0m\u001b[0;34m(\u001b[0m\u001b[0mrouge2_scores\u001b[0m\u001b[0;34m)\u001b[0m\u001b[0;34m)\u001b[0m\u001b[0;34m\u001b[0m\u001b[0;34m\u001b[0m\u001b[0m\n\u001b[1;32m     18\u001b[0m \u001b[0mprint\u001b[0m\u001b[0;34m(\u001b[0m\u001b[0;34m'ROUGE-L:'\u001b[0m\u001b[0;34m,\u001b[0m \u001b[0msum\u001b[0m\u001b[0;34m(\u001b[0m\u001b[0mrougeL_scores\u001b[0m\u001b[0;34m)\u001b[0m \u001b[0;34m/\u001b[0m \u001b[0mlen\u001b[0m\u001b[0;34m(\u001b[0m\u001b[0mrougeL_scores\u001b[0m\u001b[0;34m)\u001b[0m\u001b[0;34m)\u001b[0m\u001b[0;34m\u001b[0m\u001b[0;34m\u001b[0m\u001b[0m\n",
            "\u001b[0;31mTypeError\u001b[0m: unsupported operand type(s) for +: 'int' and 'Score'"
          ]
        }
      ],
      "source": [
        "#score\n",
        "rouge_scores = calculate_metric_on_test_ds_trial(\n",
        "    dataset_dict['test'][:500], model_finetune, pegtokenizer, batch_size = 2, column_text = 'article', column_summary= 'highlights'\n",
        ")\n",
        "\n",
        "#rouge_dict = dict((rn, score[rn].mid.fmeasure ) for rn in rouge_names )\n",
        "\n",
        "#pd.DataFrame(rouge_dict, index = [f'pegasus'] )\n",
        "\n",
        "# Access individual metric scores\n",
        "rouge1_scores = rouge_scores['rouge1']\n",
        "rouge2_scores = rouge_scores['rouge2']\n",
        "rougeL_scores = rouge_scores['rougeL']\n",
        "\n",
        "# Print average scores\n",
        "print('ROUGE-1:', rouge1_scores\n",
        "print('ROUGE-2:', sum(rouge2_scores) / len(rouge2_scores))\n",
        "print('ROUGE-L:', sum(rougeL_scores) / len(rougeL_scores))"
      ],
      "id": "djwavMvGCY3t"
    }
  ],
  "metadata": {
    "accelerator": "TPU",
    "colab": {
      "machine_shape": "hm",
      "provenance": []
    },
    "gpuClass": "standard",
    "kernelspec": {
      "display_name": "Python 3 (ipykernel)",
      "language": "python",
      "name": "python3"
    },
    "language_info": {
      "codemirror_mode": {
        "name": "ipython",
        "version": 3
      },
      "file_extension": ".py",
      "mimetype": "text/x-python",
      "name": "python",
      "nbconvert_exporter": "python",
      "pygments_lexer": "ipython3",
      "version": "3.10.5"
    },
    "widgets": {
      "application/vnd.jupyter.widget-state+json": {
        "00d9584d1c534f91b86f1713a524ddbc": {
          "model_module": "@jupyter-widgets/controls",
          "model_module_version": "1.5.0",
          "model_name": "DescriptionStyleModel",
          "state": {
            "_model_module": "@jupyter-widgets/controls",
            "_model_module_version": "1.5.0",
            "_model_name": "DescriptionStyleModel",
            "_view_count": null,
            "_view_module": "@jupyter-widgets/base",
            "_view_module_version": "1.2.0",
            "_view_name": "StyleView",
            "description_width": ""
          }
        },
        "03bbfbcd922d4b0db7e6e9966a549ce2": {
          "model_module": "@jupyter-widgets/controls",
          "model_module_version": "1.5.0",
          "model_name": "DescriptionStyleModel",
          "state": {
            "_model_module": "@jupyter-widgets/controls",
            "_model_module_version": "1.5.0",
            "_model_name": "DescriptionStyleModel",
            "_view_count": null,
            "_view_module": "@jupyter-widgets/base",
            "_view_module_version": "1.2.0",
            "_view_name": "StyleView",
            "description_width": ""
          }
        },
        "04e1e6d0acd245d48aaf6e3c5feb920c": {
          "model_module": "@jupyter-widgets/controls",
          "model_module_version": "1.5.0",
          "model_name": "DescriptionStyleModel",
          "state": {
            "_model_module": "@jupyter-widgets/controls",
            "_model_module_version": "1.5.0",
            "_model_name": "DescriptionStyleModel",
            "_view_count": null,
            "_view_module": "@jupyter-widgets/base",
            "_view_module_version": "1.2.0",
            "_view_name": "StyleView",
            "description_width": ""
          }
        },
        "04f45e9852894cb4b14836e0030b1828": {
          "model_module": "@jupyter-widgets/controls",
          "model_module_version": "1.5.0",
          "model_name": "FloatProgressModel",
          "state": {
            "_dom_classes": [],
            "_model_module": "@jupyter-widgets/controls",
            "_model_module_version": "1.5.0",
            "_model_name": "FloatProgressModel",
            "_view_count": null,
            "_view_module": "@jupyter-widgets/controls",
            "_view_module_version": "1.5.0",
            "_view_name": "ProgressView",
            "bar_style": "success",
            "description": "",
            "description_tooltip": null,
            "layout": "IPY_MODEL_114a8f3be49745febf4cfe90e7ea4b98",
            "max": 3094,
            "min": 0,
            "orientation": "horizontal",
            "style": "IPY_MODEL_4659f1c8fc3b41a6a4b97bfadcc31670",
            "value": 3094
          }
        },
        "05cc791bee6345b48e02d92324e6a8fa": {
          "model_module": "@jupyter-widgets/controls",
          "model_module_version": "1.5.0",
          "model_name": "DescriptionStyleModel",
          "state": {
            "_model_module": "@jupyter-widgets/controls",
            "_model_module_version": "1.5.0",
            "_model_name": "DescriptionStyleModel",
            "_view_count": null,
            "_view_module": "@jupyter-widgets/base",
            "_view_module_version": "1.2.0",
            "_view_name": "StyleView",
            "description_width": ""
          }
        },
        "072ccb4294394666895d86995b4f0967": {
          "model_module": "@jupyter-widgets/base",
          "model_module_version": "1.2.0",
          "model_name": "LayoutModel",
          "state": {
            "_model_module": "@jupyter-widgets/base",
            "_model_module_version": "1.2.0",
            "_model_name": "LayoutModel",
            "_view_count": null,
            "_view_module": "@jupyter-widgets/base",
            "_view_module_version": "1.2.0",
            "_view_name": "LayoutView",
            "align_content": null,
            "align_items": null,
            "align_self": null,
            "border": null,
            "bottom": null,
            "display": null,
            "flex": null,
            "flex_flow": null,
            "grid_area": null,
            "grid_auto_columns": null,
            "grid_auto_flow": null,
            "grid_auto_rows": null,
            "grid_column": null,
            "grid_gap": null,
            "grid_row": null,
            "grid_template_areas": null,
            "grid_template_columns": null,
            "grid_template_rows": null,
            "height": null,
            "justify_content": null,
            "justify_items": null,
            "left": null,
            "margin": null,
            "max_height": null,
            "max_width": null,
            "min_height": null,
            "min_width": null,
            "object_fit": null,
            "object_position": null,
            "order": null,
            "overflow": null,
            "overflow_x": null,
            "overflow_y": null,
            "padding": null,
            "right": null,
            "top": null,
            "visibility": null,
            "width": null
          }
        },
        "07f99a355a0946fd9aa4537f8b10a240": {
          "model_module": "@jupyter-widgets/base",
          "model_module_version": "1.2.0",
          "model_name": "LayoutModel",
          "state": {
            "_model_module": "@jupyter-widgets/base",
            "_model_module_version": "1.2.0",
            "_model_name": "LayoutModel",
            "_view_count": null,
            "_view_module": "@jupyter-widgets/base",
            "_view_module_version": "1.2.0",
            "_view_name": "LayoutView",
            "align_content": null,
            "align_items": null,
            "align_self": null,
            "border": null,
            "bottom": null,
            "display": null,
            "flex": null,
            "flex_flow": null,
            "grid_area": null,
            "grid_auto_columns": null,
            "grid_auto_flow": null,
            "grid_auto_rows": null,
            "grid_column": null,
            "grid_gap": null,
            "grid_row": null,
            "grid_template_areas": null,
            "grid_template_columns": null,
            "grid_template_rows": null,
            "height": null,
            "justify_content": null,
            "justify_items": null,
            "left": null,
            "margin": null,
            "max_height": null,
            "max_width": null,
            "min_height": null,
            "min_width": null,
            "object_fit": null,
            "object_position": null,
            "order": null,
            "overflow": null,
            "overflow_x": null,
            "overflow_y": null,
            "padding": null,
            "right": null,
            "top": null,
            "visibility": null,
            "width": null
          }
        },
        "09b4fef230a349c688b94a270dbf458c": {
          "model_module": "@jupyter-widgets/base",
          "model_module_version": "1.2.0",
          "model_name": "LayoutModel",
          "state": {
            "_model_module": "@jupyter-widgets/base",
            "_model_module_version": "1.2.0",
            "_model_name": "LayoutModel",
            "_view_count": null,
            "_view_module": "@jupyter-widgets/base",
            "_view_module_version": "1.2.0",
            "_view_name": "LayoutView",
            "align_content": null,
            "align_items": null,
            "align_self": null,
            "border": null,
            "bottom": null,
            "display": null,
            "flex": null,
            "flex_flow": null,
            "grid_area": null,
            "grid_auto_columns": null,
            "grid_auto_flow": null,
            "grid_auto_rows": null,
            "grid_column": null,
            "grid_gap": null,
            "grid_row": null,
            "grid_template_areas": null,
            "grid_template_columns": null,
            "grid_template_rows": null,
            "height": null,
            "justify_content": null,
            "justify_items": null,
            "left": null,
            "margin": null,
            "max_height": null,
            "max_width": null,
            "min_height": null,
            "min_width": null,
            "object_fit": null,
            "object_position": null,
            "order": null,
            "overflow": null,
            "overflow_x": null,
            "overflow_y": null,
            "padding": null,
            "right": null,
            "top": null,
            "visibility": null,
            "width": null
          }
        },
        "0b30de618feb4163aa2cd5cf6ef737ca": {
          "model_module": "@jupyter-widgets/controls",
          "model_module_version": "1.5.0",
          "model_name": "DescriptionStyleModel",
          "state": {
            "_model_module": "@jupyter-widgets/controls",
            "_model_module_version": "1.5.0",
            "_model_name": "DescriptionStyleModel",
            "_view_count": null,
            "_view_module": "@jupyter-widgets/base",
            "_view_module_version": "1.2.0",
            "_view_name": "StyleView",
            "description_width": ""
          }
        },
        "0b93274c78ef41b78a56592d31fca16c": {
          "model_module": "@jupyter-widgets/base",
          "model_module_version": "1.2.0",
          "model_name": "LayoutModel",
          "state": {
            "_model_module": "@jupyter-widgets/base",
            "_model_module_version": "1.2.0",
            "_model_name": "LayoutModel",
            "_view_count": null,
            "_view_module": "@jupyter-widgets/base",
            "_view_module_version": "1.2.0",
            "_view_name": "LayoutView",
            "align_content": null,
            "align_items": null,
            "align_self": null,
            "border": null,
            "bottom": null,
            "display": null,
            "flex": null,
            "flex_flow": null,
            "grid_area": null,
            "grid_auto_columns": null,
            "grid_auto_flow": null,
            "grid_auto_rows": null,
            "grid_column": null,
            "grid_gap": null,
            "grid_row": null,
            "grid_template_areas": null,
            "grid_template_columns": null,
            "grid_template_rows": null,
            "height": null,
            "justify_content": null,
            "justify_items": null,
            "left": null,
            "margin": null,
            "max_height": null,
            "max_width": null,
            "min_height": null,
            "min_width": null,
            "object_fit": null,
            "object_position": null,
            "order": null,
            "overflow": null,
            "overflow_x": null,
            "overflow_y": null,
            "padding": null,
            "right": null,
            "top": null,
            "visibility": "hidden",
            "width": null
          }
        },
        "0bd4342febed4213a8318c59b9373e73": {
          "model_module": "@jupyter-widgets/controls",
          "model_module_version": "1.5.0",
          "model_name": "HBoxModel",
          "state": {
            "_dom_classes": [],
            "_model_module": "@jupyter-widgets/controls",
            "_model_module_version": "1.5.0",
            "_model_name": "HBoxModel",
            "_view_count": null,
            "_view_module": "@jupyter-widgets/controls",
            "_view_module_version": "1.5.0",
            "_view_name": "HBoxView",
            "box_style": "",
            "children": [
              "IPY_MODEL_d6b738b77c874be390c19eb4ffe99ef4",
              "IPY_MODEL_dae2e95e05fc4bcaa4c4e08fe4494d26",
              "IPY_MODEL_f3d7edbde7574a7aae63ce2e357ac277"
            ],
            "layout": "IPY_MODEL_18851eb6d4814daa87ac5ff35c07f201"
          }
        },
        "0bd89415b86745ddbca39af5e1fc5ec7": {
          "model_module": "@jupyter-widgets/controls",
          "model_module_version": "1.5.0",
          "model_name": "DescriptionStyleModel",
          "state": {
            "_model_module": "@jupyter-widgets/controls",
            "_model_module_version": "1.5.0",
            "_model_name": "DescriptionStyleModel",
            "_view_count": null,
            "_view_module": "@jupyter-widgets/base",
            "_view_module_version": "1.2.0",
            "_view_name": "StyleView",
            "description_width": ""
          }
        },
        "0d07969b1f854f238ba83bfba3541346": {
          "model_module": "@jupyter-widgets/controls",
          "model_module_version": "1.5.0",
          "model_name": "HBoxModel",
          "state": {
            "_dom_classes": [],
            "_model_module": "@jupyter-widgets/controls",
            "_model_module_version": "1.5.0",
            "_model_name": "HBoxModel",
            "_view_count": null,
            "_view_module": "@jupyter-widgets/controls",
            "_view_module_version": "1.5.0",
            "_view_name": "HBoxView",
            "box_style": "",
            "children": [
              "IPY_MODEL_cef7a33a16df422e9b894764f7f61345",
              "IPY_MODEL_e1c55d36c9ab40238288b8b2f1b848b5",
              "IPY_MODEL_8503bf0c6365495fa55a19daefcd2f92"
            ],
            "layout": "IPY_MODEL_072ccb4294394666895d86995b4f0967"
          }
        },
        "10238ec54aa14ac491ccd0a5636b5fa2": {
          "model_module": "@jupyter-widgets/base",
          "model_module_version": "1.2.0",
          "model_name": "LayoutModel",
          "state": {
            "_model_module": "@jupyter-widgets/base",
            "_model_module_version": "1.2.0",
            "_model_name": "LayoutModel",
            "_view_count": null,
            "_view_module": "@jupyter-widgets/base",
            "_view_module_version": "1.2.0",
            "_view_name": "LayoutView",
            "align_content": null,
            "align_items": null,
            "align_self": null,
            "border": null,
            "bottom": null,
            "display": null,
            "flex": null,
            "flex_flow": null,
            "grid_area": null,
            "grid_auto_columns": null,
            "grid_auto_flow": null,
            "grid_auto_rows": null,
            "grid_column": null,
            "grid_gap": null,
            "grid_row": null,
            "grid_template_areas": null,
            "grid_template_columns": null,
            "grid_template_rows": null,
            "height": null,
            "justify_content": null,
            "justify_items": null,
            "left": null,
            "margin": null,
            "max_height": null,
            "max_width": null,
            "min_height": null,
            "min_width": null,
            "object_fit": null,
            "object_position": null,
            "order": null,
            "overflow": null,
            "overflow_x": null,
            "overflow_y": null,
            "padding": null,
            "right": null,
            "top": null,
            "visibility": null,
            "width": null
          }
        },
        "114a8f3be49745febf4cfe90e7ea4b98": {
          "model_module": "@jupyter-widgets/base",
          "model_module_version": "1.2.0",
          "model_name": "LayoutModel",
          "state": {
            "_model_module": "@jupyter-widgets/base",
            "_model_module_version": "1.2.0",
            "_model_name": "LayoutModel",
            "_view_count": null,
            "_view_module": "@jupyter-widgets/base",
            "_view_module_version": "1.2.0",
            "_view_name": "LayoutView",
            "align_content": null,
            "align_items": null,
            "align_self": null,
            "border": null,
            "bottom": null,
            "display": null,
            "flex": null,
            "flex_flow": null,
            "grid_area": null,
            "grid_auto_columns": null,
            "grid_auto_flow": null,
            "grid_auto_rows": null,
            "grid_column": null,
            "grid_gap": null,
            "grid_row": null,
            "grid_template_areas": null,
            "grid_template_columns": null,
            "grid_template_rows": null,
            "height": null,
            "justify_content": null,
            "justify_items": null,
            "left": null,
            "margin": null,
            "max_height": null,
            "max_width": null,
            "min_height": null,
            "min_width": null,
            "object_fit": null,
            "object_position": null,
            "order": null,
            "overflow": null,
            "overflow_x": null,
            "overflow_y": null,
            "padding": null,
            "right": null,
            "top": null,
            "visibility": null,
            "width": null
          }
        },
        "1181e9ad383d4e6a8271503d0aa2ac5d": {
          "model_module": "@jupyter-widgets/controls",
          "model_module_version": "1.5.0",
          "model_name": "HTMLModel",
          "state": {
            "_dom_classes": [],
            "_model_module": "@jupyter-widgets/controls",
            "_model_module_version": "1.5.0",
            "_model_name": "HTMLModel",
            "_view_count": null,
            "_view_module": "@jupyter-widgets/controls",
            "_view_module_version": "1.5.0",
            "_view_name": "HTMLView",
            "description": "",
            "description_tooltip": null,
            "layout": "IPY_MODEL_aba2fd042f8a45aea893d134df4ea8b5",
            "placeholder": "​",
            "style": "IPY_MODEL_b7486af753a44c54a62b6821d67acf9e",
            "value": " 280/280 [00:00&lt;00:00, 22.8kB/s]"
          }
        },
        "1191d950c5b8423a9510f63b7ec91da7": {
          "model_module": "@jupyter-widgets/controls",
          "model_module_version": "1.5.0",
          "model_name": "ProgressStyleModel",
          "state": {
            "_model_module": "@jupyter-widgets/controls",
            "_model_module_version": "1.5.0",
            "_model_name": "ProgressStyleModel",
            "_view_count": null,
            "_view_module": "@jupyter-widgets/base",
            "_view_module_version": "1.2.0",
            "_view_name": "StyleView",
            "bar_color": null,
            "description_width": ""
          }
        },
        "11c97dc0532d4986acc6f88e03ebbdd8": {
          "model_module": "@jupyter-widgets/base",
          "model_module_version": "1.2.0",
          "model_name": "LayoutModel",
          "state": {
            "_model_module": "@jupyter-widgets/base",
            "_model_module_version": "1.2.0",
            "_model_name": "LayoutModel",
            "_view_count": null,
            "_view_module": "@jupyter-widgets/base",
            "_view_module_version": "1.2.0",
            "_view_name": "LayoutView",
            "align_content": null,
            "align_items": null,
            "align_self": null,
            "border": null,
            "bottom": null,
            "display": null,
            "flex": null,
            "flex_flow": null,
            "grid_area": null,
            "grid_auto_columns": null,
            "grid_auto_flow": null,
            "grid_auto_rows": null,
            "grid_column": null,
            "grid_gap": null,
            "grid_row": null,
            "grid_template_areas": null,
            "grid_template_columns": null,
            "grid_template_rows": null,
            "height": null,
            "justify_content": null,
            "justify_items": null,
            "left": null,
            "margin": null,
            "max_height": null,
            "max_width": null,
            "min_height": null,
            "min_width": null,
            "object_fit": null,
            "object_position": null,
            "order": null,
            "overflow": null,
            "overflow_x": null,
            "overflow_y": null,
            "padding": null,
            "right": null,
            "top": null,
            "visibility": null,
            "width": null
          }
        },
        "13833e47a6bc473c9397cc86fe1febd3": {
          "model_module": "@jupyter-widgets/base",
          "model_module_version": "1.2.0",
          "model_name": "LayoutModel",
          "state": {
            "_model_module": "@jupyter-widgets/base",
            "_model_module_version": "1.2.0",
            "_model_name": "LayoutModel",
            "_view_count": null,
            "_view_module": "@jupyter-widgets/base",
            "_view_module_version": "1.2.0",
            "_view_name": "LayoutView",
            "align_content": null,
            "align_items": null,
            "align_self": null,
            "border": null,
            "bottom": null,
            "display": null,
            "flex": null,
            "flex_flow": null,
            "grid_area": null,
            "grid_auto_columns": null,
            "grid_auto_flow": null,
            "grid_auto_rows": null,
            "grid_column": null,
            "grid_gap": null,
            "grid_row": null,
            "grid_template_areas": null,
            "grid_template_columns": null,
            "grid_template_rows": null,
            "height": null,
            "justify_content": null,
            "justify_items": null,
            "left": null,
            "margin": null,
            "max_height": null,
            "max_width": null,
            "min_height": null,
            "min_width": null,
            "object_fit": null,
            "object_position": null,
            "order": null,
            "overflow": null,
            "overflow_x": null,
            "overflow_y": null,
            "padding": null,
            "right": null,
            "top": null,
            "visibility": null,
            "width": null
          }
        },
        "15add7417520471b872cdc205110233a": {
          "model_module": "@jupyter-widgets/controls",
          "model_module_version": "1.5.0",
          "model_name": "DescriptionStyleModel",
          "state": {
            "_model_module": "@jupyter-widgets/controls",
            "_model_module_version": "1.5.0",
            "_model_name": "DescriptionStyleModel",
            "_view_count": null,
            "_view_module": "@jupyter-widgets/base",
            "_view_module_version": "1.2.0",
            "_view_name": "StyleView",
            "description_width": ""
          }
        },
        "166eb5db6edb46c1a3f8be02757f6346": {
          "model_module": "@jupyter-widgets/base",
          "model_module_version": "1.2.0",
          "model_name": "LayoutModel",
          "state": {
            "_model_module": "@jupyter-widgets/base",
            "_model_module_version": "1.2.0",
            "_model_name": "LayoutModel",
            "_view_count": null,
            "_view_module": "@jupyter-widgets/base",
            "_view_module_version": "1.2.0",
            "_view_name": "LayoutView",
            "align_content": null,
            "align_items": null,
            "align_self": null,
            "border": null,
            "bottom": null,
            "display": null,
            "flex": null,
            "flex_flow": null,
            "grid_area": null,
            "grid_auto_columns": null,
            "grid_auto_flow": null,
            "grid_auto_rows": null,
            "grid_column": null,
            "grid_gap": null,
            "grid_row": null,
            "grid_template_areas": null,
            "grid_template_columns": null,
            "grid_template_rows": null,
            "height": null,
            "justify_content": null,
            "justify_items": null,
            "left": null,
            "margin": null,
            "max_height": null,
            "max_width": null,
            "min_height": null,
            "min_width": null,
            "object_fit": null,
            "object_position": null,
            "order": null,
            "overflow": null,
            "overflow_x": null,
            "overflow_y": null,
            "padding": null,
            "right": null,
            "top": null,
            "visibility": null,
            "width": null
          }
        },
        "16e5432fa9044cf59732f1175dc2a3a7": {
          "model_module": "@jupyter-widgets/base",
          "model_module_version": "1.2.0",
          "model_name": "LayoutModel",
          "state": {
            "_model_module": "@jupyter-widgets/base",
            "_model_module_version": "1.2.0",
            "_model_name": "LayoutModel",
            "_view_count": null,
            "_view_module": "@jupyter-widgets/base",
            "_view_module_version": "1.2.0",
            "_view_name": "LayoutView",
            "align_content": null,
            "align_items": null,
            "align_self": null,
            "border": null,
            "bottom": null,
            "display": null,
            "flex": null,
            "flex_flow": null,
            "grid_area": null,
            "grid_auto_columns": null,
            "grid_auto_flow": null,
            "grid_auto_rows": null,
            "grid_column": null,
            "grid_gap": null,
            "grid_row": null,
            "grid_template_areas": null,
            "grid_template_columns": null,
            "grid_template_rows": null,
            "height": null,
            "justify_content": null,
            "justify_items": null,
            "left": null,
            "margin": null,
            "max_height": null,
            "max_width": null,
            "min_height": null,
            "min_width": null,
            "object_fit": null,
            "object_position": null,
            "order": null,
            "overflow": null,
            "overflow_x": null,
            "overflow_y": null,
            "padding": null,
            "right": null,
            "top": null,
            "visibility": null,
            "width": null
          }
        },
        "17134cd480a2457192d8ad28d3bf93d8": {
          "model_module": "@jupyter-widgets/base",
          "model_module_version": "1.2.0",
          "model_name": "LayoutModel",
          "state": {
            "_model_module": "@jupyter-widgets/base",
            "_model_module_version": "1.2.0",
            "_model_name": "LayoutModel",
            "_view_count": null,
            "_view_module": "@jupyter-widgets/base",
            "_view_module_version": "1.2.0",
            "_view_name": "LayoutView",
            "align_content": null,
            "align_items": null,
            "align_self": null,
            "border": null,
            "bottom": null,
            "display": null,
            "flex": null,
            "flex_flow": null,
            "grid_area": null,
            "grid_auto_columns": null,
            "grid_auto_flow": null,
            "grid_auto_rows": null,
            "grid_column": null,
            "grid_gap": null,
            "grid_row": null,
            "grid_template_areas": null,
            "grid_template_columns": null,
            "grid_template_rows": null,
            "height": null,
            "justify_content": null,
            "justify_items": null,
            "left": null,
            "margin": null,
            "max_height": null,
            "max_width": null,
            "min_height": null,
            "min_width": null,
            "object_fit": null,
            "object_position": null,
            "order": null,
            "overflow": null,
            "overflow_x": null,
            "overflow_y": null,
            "padding": null,
            "right": null,
            "top": null,
            "visibility": null,
            "width": null
          }
        },
        "179f3f2650634b6e9bdd4326c37bbb8c": {
          "model_module": "@jupyter-widgets/controls",
          "model_module_version": "1.5.0",
          "model_name": "HTMLModel",
          "state": {
            "_dom_classes": [],
            "_model_module": "@jupyter-widgets/controls",
            "_model_module_version": "1.5.0",
            "_model_name": "HTMLModel",
            "_view_count": null,
            "_view_module": "@jupyter-widgets/controls",
            "_view_module_version": "1.5.0",
            "_view_name": "HTMLView",
            "description": "",
            "description_tooltip": null,
            "layout": "IPY_MODEL_a38c7a50a30a453f98d571f28e7bd1d5",
            "placeholder": "​",
            "style": "IPY_MODEL_0bd89415b86745ddbca39af5e1fc5ec7",
            "value": "Map: 100%"
          }
        },
        "17fb1153048d4511b66df7866fbca9a1": {
          "model_module": "@jupyter-widgets/base",
          "model_module_version": "1.2.0",
          "model_name": "LayoutModel",
          "state": {
            "_model_module": "@jupyter-widgets/base",
            "_model_module_version": "1.2.0",
            "_model_name": "LayoutModel",
            "_view_count": null,
            "_view_module": "@jupyter-widgets/base",
            "_view_module_version": "1.2.0",
            "_view_name": "LayoutView",
            "align_content": null,
            "align_items": null,
            "align_self": null,
            "border": null,
            "bottom": null,
            "display": null,
            "flex": null,
            "flex_flow": null,
            "grid_area": null,
            "grid_auto_columns": null,
            "grid_auto_flow": null,
            "grid_auto_rows": null,
            "grid_column": null,
            "grid_gap": null,
            "grid_row": null,
            "grid_template_areas": null,
            "grid_template_columns": null,
            "grid_template_rows": null,
            "height": null,
            "justify_content": null,
            "justify_items": null,
            "left": null,
            "margin": null,
            "max_height": null,
            "max_width": null,
            "min_height": null,
            "min_width": null,
            "object_fit": null,
            "object_position": null,
            "order": null,
            "overflow": null,
            "overflow_x": null,
            "overflow_y": null,
            "padding": null,
            "right": null,
            "top": null,
            "visibility": null,
            "width": null
          }
        },
        "1805db9fe9264bb8a377d9b16908f54c": {
          "model_module": "@jupyter-widgets/controls",
          "model_module_version": "1.5.0",
          "model_name": "ProgressStyleModel",
          "state": {
            "_model_module": "@jupyter-widgets/controls",
            "_model_module_version": "1.5.0",
            "_model_name": "ProgressStyleModel",
            "_view_count": null,
            "_view_module": "@jupyter-widgets/base",
            "_view_module_version": "1.2.0",
            "_view_name": "StyleView",
            "bar_color": null,
            "description_width": ""
          }
        },
        "18851eb6d4814daa87ac5ff35c07f201": {
          "model_module": "@jupyter-widgets/base",
          "model_module_version": "1.2.0",
          "model_name": "LayoutModel",
          "state": {
            "_model_module": "@jupyter-widgets/base",
            "_model_module_version": "1.2.0",
            "_model_name": "LayoutModel",
            "_view_count": null,
            "_view_module": "@jupyter-widgets/base",
            "_view_module_version": "1.2.0",
            "_view_name": "LayoutView",
            "align_content": null,
            "align_items": null,
            "align_self": null,
            "border": null,
            "bottom": null,
            "display": null,
            "flex": null,
            "flex_flow": null,
            "grid_area": null,
            "grid_auto_columns": null,
            "grid_auto_flow": null,
            "grid_auto_rows": null,
            "grid_column": null,
            "grid_gap": null,
            "grid_row": null,
            "grid_template_areas": null,
            "grid_template_columns": null,
            "grid_template_rows": null,
            "height": null,
            "justify_content": null,
            "justify_items": null,
            "left": null,
            "margin": null,
            "max_height": null,
            "max_width": null,
            "min_height": null,
            "min_width": null,
            "object_fit": null,
            "object_position": null,
            "order": null,
            "overflow": null,
            "overflow_x": null,
            "overflow_y": null,
            "padding": null,
            "right": null,
            "top": null,
            "visibility": null,
            "width": null
          }
        },
        "1936795c4b6b4d27818de8cbad0a8771": {
          "model_module": "@jupyter-widgets/controls",
          "model_module_version": "1.5.0",
          "model_name": "ProgressStyleModel",
          "state": {
            "_model_module": "@jupyter-widgets/controls",
            "_model_module_version": "1.5.0",
            "_model_name": "ProgressStyleModel",
            "_view_count": null,
            "_view_module": "@jupyter-widgets/base",
            "_view_module_version": "1.2.0",
            "_view_name": "StyleView",
            "bar_color": null,
            "description_width": ""
          }
        },
        "1a57e316c5d640c4943be2d789ec7356": {
          "model_module": "@jupyter-widgets/base",
          "model_module_version": "1.2.0",
          "model_name": "LayoutModel",
          "state": {
            "_model_module": "@jupyter-widgets/base",
            "_model_module_version": "1.2.0",
            "_model_name": "LayoutModel",
            "_view_count": null,
            "_view_module": "@jupyter-widgets/base",
            "_view_module_version": "1.2.0",
            "_view_name": "LayoutView",
            "align_content": null,
            "align_items": null,
            "align_self": null,
            "border": null,
            "bottom": null,
            "display": null,
            "flex": null,
            "flex_flow": null,
            "grid_area": null,
            "grid_auto_columns": null,
            "grid_auto_flow": null,
            "grid_auto_rows": null,
            "grid_column": null,
            "grid_gap": null,
            "grid_row": null,
            "grid_template_areas": null,
            "grid_template_columns": null,
            "grid_template_rows": null,
            "height": null,
            "justify_content": null,
            "justify_items": null,
            "left": null,
            "margin": null,
            "max_height": null,
            "max_width": null,
            "min_height": null,
            "min_width": null,
            "object_fit": null,
            "object_position": null,
            "order": null,
            "overflow": null,
            "overflow_x": null,
            "overflow_y": null,
            "padding": null,
            "right": null,
            "top": null,
            "visibility": null,
            "width": null
          }
        },
        "20fe912c786b468591c90ffc687cb807": {
          "model_module": "@jupyter-widgets/controls",
          "model_module_version": "1.5.0",
          "model_name": "ProgressStyleModel",
          "state": {
            "_model_module": "@jupyter-widgets/controls",
            "_model_module_version": "1.5.0",
            "_model_name": "ProgressStyleModel",
            "_view_count": null,
            "_view_module": "@jupyter-widgets/base",
            "_view_module_version": "1.2.0",
            "_view_name": "StyleView",
            "bar_color": null,
            "description_width": ""
          }
        },
        "23bf66b5aae540ce9b4a7b6f6e78d403": {
          "model_module": "@jupyter-widgets/controls",
          "model_module_version": "1.5.0",
          "model_name": "HTMLModel",
          "state": {
            "_dom_classes": [],
            "_model_module": "@jupyter-widgets/controls",
            "_model_module_version": "1.5.0",
            "_model_name": "HTMLModel",
            "_view_count": null,
            "_view_module": "@jupyter-widgets/controls",
            "_view_module_version": "1.5.0",
            "_view_name": "HTMLView",
            "description": "",
            "description_tooltip": null,
            "layout": "IPY_MODEL_11c97dc0532d4986acc6f88e03ebbdd8",
            "placeholder": "​",
            "style": "IPY_MODEL_dbddca6f05f2448c97ad6133f6292c9b",
            "value": "Downloading (…)cial_tokens_map.json: 100%"
          }
        },
        "2488fd4c8c784e45b0ec9f536f3015bf": {
          "model_module": "@jupyter-widgets/base",
          "model_module_version": "1.2.0",
          "model_name": "LayoutModel",
          "state": {
            "_model_module": "@jupyter-widgets/base",
            "_model_module_version": "1.2.0",
            "_model_name": "LayoutModel",
            "_view_count": null,
            "_view_module": "@jupyter-widgets/base",
            "_view_module_version": "1.2.0",
            "_view_name": "LayoutView",
            "align_content": null,
            "align_items": null,
            "align_self": null,
            "border": null,
            "bottom": null,
            "display": null,
            "flex": null,
            "flex_flow": null,
            "grid_area": null,
            "grid_auto_columns": null,
            "grid_auto_flow": null,
            "grid_auto_rows": null,
            "grid_column": null,
            "grid_gap": null,
            "grid_row": null,
            "grid_template_areas": null,
            "grid_template_columns": null,
            "grid_template_rows": null,
            "height": null,
            "justify_content": null,
            "justify_items": null,
            "left": null,
            "margin": null,
            "max_height": null,
            "max_width": null,
            "min_height": null,
            "min_width": null,
            "object_fit": null,
            "object_position": null,
            "order": null,
            "overflow": null,
            "overflow_x": null,
            "overflow_y": null,
            "padding": null,
            "right": null,
            "top": null,
            "visibility": null,
            "width": null
          }
        },
        "24c3b0f0920c44b3a4b185d4612838f9": {
          "model_module": "@jupyter-widgets/controls",
          "model_module_version": "1.5.0",
          "model_name": "ProgressStyleModel",
          "state": {
            "_model_module": "@jupyter-widgets/controls",
            "_model_module_version": "1.5.0",
            "_model_name": "ProgressStyleModel",
            "_view_count": null,
            "_view_module": "@jupyter-widgets/base",
            "_view_module_version": "1.2.0",
            "_view_name": "StyleView",
            "bar_color": null,
            "description_width": ""
          }
        },
        "2a2acbb28782454382d61b3083abba87": {
          "model_module": "@jupyter-widgets/base",
          "model_module_version": "1.2.0",
          "model_name": "LayoutModel",
          "state": {
            "_model_module": "@jupyter-widgets/base",
            "_model_module_version": "1.2.0",
            "_model_name": "LayoutModel",
            "_view_count": null,
            "_view_module": "@jupyter-widgets/base",
            "_view_module_version": "1.2.0",
            "_view_name": "LayoutView",
            "align_content": null,
            "align_items": null,
            "align_self": null,
            "border": null,
            "bottom": null,
            "display": null,
            "flex": null,
            "flex_flow": null,
            "grid_area": null,
            "grid_auto_columns": null,
            "grid_auto_flow": null,
            "grid_auto_rows": null,
            "grid_column": null,
            "grid_gap": null,
            "grid_row": null,
            "grid_template_areas": null,
            "grid_template_columns": null,
            "grid_template_rows": null,
            "height": null,
            "justify_content": null,
            "justify_items": null,
            "left": null,
            "margin": null,
            "max_height": null,
            "max_width": null,
            "min_height": null,
            "min_width": null,
            "object_fit": null,
            "object_position": null,
            "order": null,
            "overflow": null,
            "overflow_x": null,
            "overflow_y": null,
            "padding": null,
            "right": null,
            "top": null,
            "visibility": null,
            "width": null
          }
        },
        "2b7b9e0a992b49dca7d3d14bc6e0bff4": {
          "model_module": "@jupyter-widgets/controls",
          "model_module_version": "1.5.0",
          "model_name": "DescriptionStyleModel",
          "state": {
            "_model_module": "@jupyter-widgets/controls",
            "_model_module_version": "1.5.0",
            "_model_name": "DescriptionStyleModel",
            "_view_count": null,
            "_view_module": "@jupyter-widgets/base",
            "_view_module_version": "1.2.0",
            "_view_name": "StyleView",
            "description_width": ""
          }
        },
        "2c690bfbc60f44fbbd16c82381a1124e": {
          "model_module": "@jupyter-widgets/base",
          "model_module_version": "1.2.0",
          "model_name": "LayoutModel",
          "state": {
            "_model_module": "@jupyter-widgets/base",
            "_model_module_version": "1.2.0",
            "_model_name": "LayoutModel",
            "_view_count": null,
            "_view_module": "@jupyter-widgets/base",
            "_view_module_version": "1.2.0",
            "_view_name": "LayoutView",
            "align_content": null,
            "align_items": null,
            "align_self": null,
            "border": null,
            "bottom": null,
            "display": null,
            "flex": null,
            "flex_flow": null,
            "grid_area": null,
            "grid_auto_columns": null,
            "grid_auto_flow": null,
            "grid_auto_rows": null,
            "grid_column": null,
            "grid_gap": null,
            "grid_row": null,
            "grid_template_areas": null,
            "grid_template_columns": null,
            "grid_template_rows": null,
            "height": null,
            "justify_content": null,
            "justify_items": null,
            "left": null,
            "margin": null,
            "max_height": null,
            "max_width": null,
            "min_height": null,
            "min_width": null,
            "object_fit": null,
            "object_position": null,
            "order": null,
            "overflow": null,
            "overflow_x": null,
            "overflow_y": null,
            "padding": null,
            "right": null,
            "top": null,
            "visibility": null,
            "width": null
          }
        },
        "2cc7eeb76f7e4a8aa5762fcee1ddb860": {
          "model_module": "@jupyter-widgets/base",
          "model_module_version": "1.2.0",
          "model_name": "LayoutModel",
          "state": {
            "_model_module": "@jupyter-widgets/base",
            "_model_module_version": "1.2.0",
            "_model_name": "LayoutModel",
            "_view_count": null,
            "_view_module": "@jupyter-widgets/base",
            "_view_module_version": "1.2.0",
            "_view_name": "LayoutView",
            "align_content": null,
            "align_items": null,
            "align_self": null,
            "border": null,
            "bottom": null,
            "display": null,
            "flex": null,
            "flex_flow": null,
            "grid_area": null,
            "grid_auto_columns": null,
            "grid_auto_flow": null,
            "grid_auto_rows": null,
            "grid_column": null,
            "grid_gap": null,
            "grid_row": null,
            "grid_template_areas": null,
            "grid_template_columns": null,
            "grid_template_rows": null,
            "height": null,
            "justify_content": null,
            "justify_items": null,
            "left": null,
            "margin": null,
            "max_height": null,
            "max_width": null,
            "min_height": null,
            "min_width": null,
            "object_fit": null,
            "object_position": null,
            "order": null,
            "overflow": null,
            "overflow_x": null,
            "overflow_y": null,
            "padding": null,
            "right": null,
            "top": null,
            "visibility": null,
            "width": null
          }
        },
        "2df1d0f08af4422e8661a44a6412bc1d": {
          "model_module": "@jupyter-widgets/base",
          "model_module_version": "1.2.0",
          "model_name": "LayoutModel",
          "state": {
            "_model_module": "@jupyter-widgets/base",
            "_model_module_version": "1.2.0",
            "_model_name": "LayoutModel",
            "_view_count": null,
            "_view_module": "@jupyter-widgets/base",
            "_view_module_version": "1.2.0",
            "_view_name": "LayoutView",
            "align_content": null,
            "align_items": null,
            "align_self": null,
            "border": null,
            "bottom": null,
            "display": null,
            "flex": null,
            "flex_flow": null,
            "grid_area": null,
            "grid_auto_columns": null,
            "grid_auto_flow": null,
            "grid_auto_rows": null,
            "grid_column": null,
            "grid_gap": null,
            "grid_row": null,
            "grid_template_areas": null,
            "grid_template_columns": null,
            "grid_template_rows": null,
            "height": null,
            "justify_content": null,
            "justify_items": null,
            "left": null,
            "margin": null,
            "max_height": null,
            "max_width": null,
            "min_height": null,
            "min_width": null,
            "object_fit": null,
            "object_position": null,
            "order": null,
            "overflow": null,
            "overflow_x": null,
            "overflow_y": null,
            "padding": null,
            "right": null,
            "top": null,
            "visibility": null,
            "width": null
          }
        },
        "2eccbe1b9de14bf298053bf187ce128b": {
          "model_module": "@jupyter-widgets/base",
          "model_module_version": "1.2.0",
          "model_name": "LayoutModel",
          "state": {
            "_model_module": "@jupyter-widgets/base",
            "_model_module_version": "1.2.0",
            "_model_name": "LayoutModel",
            "_view_count": null,
            "_view_module": "@jupyter-widgets/base",
            "_view_module_version": "1.2.0",
            "_view_name": "LayoutView",
            "align_content": null,
            "align_items": null,
            "align_self": null,
            "border": null,
            "bottom": null,
            "display": null,
            "flex": null,
            "flex_flow": null,
            "grid_area": null,
            "grid_auto_columns": null,
            "grid_auto_flow": null,
            "grid_auto_rows": null,
            "grid_column": null,
            "grid_gap": null,
            "grid_row": null,
            "grid_template_areas": null,
            "grid_template_columns": null,
            "grid_template_rows": null,
            "height": null,
            "justify_content": null,
            "justify_items": null,
            "left": null,
            "margin": null,
            "max_height": null,
            "max_width": null,
            "min_height": null,
            "min_width": null,
            "object_fit": null,
            "object_position": null,
            "order": null,
            "overflow": null,
            "overflow_x": null,
            "overflow_y": null,
            "padding": null,
            "right": null,
            "top": null,
            "visibility": "hidden",
            "width": null
          }
        },
        "30c69019bb3440beb898cf3bc8a5577a": {
          "model_module": "@jupyter-widgets/base",
          "model_module_version": "1.2.0",
          "model_name": "LayoutModel",
          "state": {
            "_model_module": "@jupyter-widgets/base",
            "_model_module_version": "1.2.0",
            "_model_name": "LayoutModel",
            "_view_count": null,
            "_view_module": "@jupyter-widgets/base",
            "_view_module_version": "1.2.0",
            "_view_name": "LayoutView",
            "align_content": null,
            "align_items": null,
            "align_self": null,
            "border": null,
            "bottom": null,
            "display": null,
            "flex": null,
            "flex_flow": null,
            "grid_area": null,
            "grid_auto_columns": null,
            "grid_auto_flow": null,
            "grid_auto_rows": null,
            "grid_column": null,
            "grid_gap": null,
            "grid_row": null,
            "grid_template_areas": null,
            "grid_template_columns": null,
            "grid_template_rows": null,
            "height": null,
            "justify_content": null,
            "justify_items": null,
            "left": null,
            "margin": null,
            "max_height": null,
            "max_width": null,
            "min_height": null,
            "min_width": null,
            "object_fit": null,
            "object_position": null,
            "order": null,
            "overflow": null,
            "overflow_x": null,
            "overflow_y": null,
            "padding": null,
            "right": null,
            "top": null,
            "visibility": null,
            "width": null
          }
        },
        "35a4d5f48f7f4fbe8222e1adf6fe2f45": {
          "model_module": "@jupyter-widgets/controls",
          "model_module_version": "1.5.0",
          "model_name": "HTMLModel",
          "state": {
            "_dom_classes": [],
            "_model_module": "@jupyter-widgets/controls",
            "_model_module_version": "1.5.0",
            "_model_name": "HTMLModel",
            "_view_count": null,
            "_view_module": "@jupyter-widgets/controls",
            "_view_module_version": "1.5.0",
            "_view_name": "HTMLView",
            "description": "",
            "description_tooltip": null,
            "layout": "IPY_MODEL_9a5b211d992444bca6503c8f0c796c3a",
            "placeholder": "​",
            "style": "IPY_MODEL_15add7417520471b872cdc205110233a",
            "value": " 2.28G/2.28G [00:11&lt;00:00, 190MB/s]"
          }
        },
        "3849caeb34454d92974f151122e4b57b": {
          "model_module": "@jupyter-widgets/base",
          "model_module_version": "1.2.0",
          "model_name": "LayoutModel",
          "state": {
            "_model_module": "@jupyter-widgets/base",
            "_model_module_version": "1.2.0",
            "_model_name": "LayoutModel",
            "_view_count": null,
            "_view_module": "@jupyter-widgets/base",
            "_view_module_version": "1.2.0",
            "_view_name": "LayoutView",
            "align_content": null,
            "align_items": null,
            "align_self": null,
            "border": null,
            "bottom": null,
            "display": null,
            "flex": null,
            "flex_flow": null,
            "grid_area": null,
            "grid_auto_columns": null,
            "grid_auto_flow": null,
            "grid_auto_rows": null,
            "grid_column": null,
            "grid_gap": null,
            "grid_row": null,
            "grid_template_areas": null,
            "grid_template_columns": null,
            "grid_template_rows": null,
            "height": null,
            "justify_content": null,
            "justify_items": null,
            "left": null,
            "margin": null,
            "max_height": null,
            "max_width": null,
            "min_height": null,
            "min_width": null,
            "object_fit": null,
            "object_position": null,
            "order": null,
            "overflow": null,
            "overflow_x": null,
            "overflow_y": null,
            "padding": null,
            "right": null,
            "top": null,
            "visibility": null,
            "width": null
          }
        },
        "388e02b51c804d53a227d7e6d518209a": {
          "model_module": "@jupyter-widgets/controls",
          "model_module_version": "1.5.0",
          "model_name": "HTMLModel",
          "state": {
            "_dom_classes": [],
            "_model_module": "@jupyter-widgets/controls",
            "_model_module_version": "1.5.0",
            "_model_name": "HTMLModel",
            "_view_count": null,
            "_view_module": "@jupyter-widgets/controls",
            "_view_module_version": "1.5.0",
            "_view_name": "HTMLView",
            "description": "",
            "description_tooltip": null,
            "layout": "IPY_MODEL_fdaf07d547384233bbaf83f31d34880d",
            "placeholder": "​",
            "style": "IPY_MODEL_04e1e6d0acd245d48aaf6e3c5feb920c",
            "value": "100%"
          }
        },
        "391831381e1049838e206e44086ec336": {
          "model_module": "@jupyter-widgets/base",
          "model_module_version": "1.2.0",
          "model_name": "LayoutModel",
          "state": {
            "_model_module": "@jupyter-widgets/base",
            "_model_module_version": "1.2.0",
            "_model_name": "LayoutModel",
            "_view_count": null,
            "_view_module": "@jupyter-widgets/base",
            "_view_module_version": "1.2.0",
            "_view_name": "LayoutView",
            "align_content": null,
            "align_items": null,
            "align_self": null,
            "border": null,
            "bottom": null,
            "display": null,
            "flex": null,
            "flex_flow": null,
            "grid_area": null,
            "grid_auto_columns": null,
            "grid_auto_flow": null,
            "grid_auto_rows": null,
            "grid_column": null,
            "grid_gap": null,
            "grid_row": null,
            "grid_template_areas": null,
            "grid_template_columns": null,
            "grid_template_rows": null,
            "height": null,
            "justify_content": null,
            "justify_items": null,
            "left": null,
            "margin": null,
            "max_height": null,
            "max_width": null,
            "min_height": null,
            "min_width": null,
            "object_fit": null,
            "object_position": null,
            "order": null,
            "overflow": null,
            "overflow_x": null,
            "overflow_y": null,
            "padding": null,
            "right": null,
            "top": null,
            "visibility": null,
            "width": null
          }
        },
        "3acbe9bbfbf9435f8ce7dcfbf47d2d3a": {
          "model_module": "@jupyter-widgets/controls",
          "model_module_version": "1.5.0",
          "model_name": "DescriptionStyleModel",
          "state": {
            "_model_module": "@jupyter-widgets/controls",
            "_model_module_version": "1.5.0",
            "_model_name": "DescriptionStyleModel",
            "_view_count": null,
            "_view_module": "@jupyter-widgets/base",
            "_view_module_version": "1.2.0",
            "_view_name": "StyleView",
            "description_width": ""
          }
        },
        "3ce649ad65cc44059d8db6dfa7ab3e89": {
          "model_module": "@jupyter-widgets/controls",
          "model_module_version": "1.5.0",
          "model_name": "DescriptionStyleModel",
          "state": {
            "_model_module": "@jupyter-widgets/controls",
            "_model_module_version": "1.5.0",
            "_model_name": "DescriptionStyleModel",
            "_view_count": null,
            "_view_module": "@jupyter-widgets/base",
            "_view_module_version": "1.2.0",
            "_view_name": "StyleView",
            "description_width": ""
          }
        },
        "3d6e0946bca042338cfd7f637fff0854": {
          "model_module": "@jupyter-widgets/controls",
          "model_module_version": "1.5.0",
          "model_name": "FloatProgressModel",
          "state": {
            "_dom_classes": [],
            "_model_module": "@jupyter-widgets/controls",
            "_model_module_version": "1.5.0",
            "_model_name": "FloatProgressModel",
            "_view_count": null,
            "_view_module": "@jupyter-widgets/controls",
            "_view_module_version": "1.5.0",
            "_view_name": "ProgressView",
            "bar_style": "success",
            "description": "",
            "description_tooltip": null,
            "layout": "IPY_MODEL_16e5432fa9044cf59732f1175dc2a3a7",
            "max": 1912529,
            "min": 0,
            "orientation": "horizontal",
            "style": "IPY_MODEL_60fa1999c7e745dcb249c31e25a4d087",
            "value": 1912529
          }
        },
        "3e6ac791aafe42c5807b0a9437fbaa95": {
          "model_module": "@jupyter-widgets/controls",
          "model_module_version": "1.5.0",
          "model_name": "DescriptionStyleModel",
          "state": {
            "_model_module": "@jupyter-widgets/controls",
            "_model_module_version": "1.5.0",
            "_model_name": "DescriptionStyleModel",
            "_view_count": null,
            "_view_module": "@jupyter-widgets/base",
            "_view_module_version": "1.2.0",
            "_view_name": "StyleView",
            "description_width": ""
          }
        },
        "403a89651fd0480786a9fdb2b381b70f": {
          "model_module": "@jupyter-widgets/controls",
          "model_module_version": "1.5.0",
          "model_name": "FloatProgressModel",
          "state": {
            "_dom_classes": [],
            "_model_module": "@jupyter-widgets/controls",
            "_model_module_version": "1.5.0",
            "_model_name": "FloatProgressModel",
            "_view_count": null,
            "_view_module": "@jupyter-widgets/controls",
            "_view_module_version": "1.5.0",
            "_view_name": "ProgressView",
            "bar_style": "success",
            "description": "",
            "description_tooltip": null,
            "layout": "IPY_MODEL_aad02bcd58254f19a56e5a62a2d64033",
            "max": 2275327883,
            "min": 0,
            "orientation": "horizontal",
            "style": "IPY_MODEL_1805db9fe9264bb8a377d9b16908f54c",
            "value": 2275327883
          }
        },
        "44c0406f0f104d209ec765c5dd247e5a": {
          "model_module": "@jupyter-widgets/controls",
          "model_module_version": "1.5.0",
          "model_name": "DescriptionStyleModel",
          "state": {
            "_model_module": "@jupyter-widgets/controls",
            "_model_module_version": "1.5.0",
            "_model_name": "DescriptionStyleModel",
            "_view_count": null,
            "_view_module": "@jupyter-widgets/base",
            "_view_module_version": "1.2.0",
            "_view_name": "StyleView",
            "description_width": ""
          }
        },
        "45f7131636d14f1b86aab9247286f698": {
          "model_module": "@jupyter-widgets/base",
          "model_module_version": "1.2.0",
          "model_name": "LayoutModel",
          "state": {
            "_model_module": "@jupyter-widgets/base",
            "_model_module_version": "1.2.0",
            "_model_name": "LayoutModel",
            "_view_count": null,
            "_view_module": "@jupyter-widgets/base",
            "_view_module_version": "1.2.0",
            "_view_name": "LayoutView",
            "align_content": null,
            "align_items": null,
            "align_self": null,
            "border": null,
            "bottom": null,
            "display": null,
            "flex": null,
            "flex_flow": null,
            "grid_area": null,
            "grid_auto_columns": null,
            "grid_auto_flow": null,
            "grid_auto_rows": null,
            "grid_column": null,
            "grid_gap": null,
            "grid_row": null,
            "grid_template_areas": null,
            "grid_template_columns": null,
            "grid_template_rows": null,
            "height": null,
            "justify_content": null,
            "justify_items": null,
            "left": null,
            "margin": null,
            "max_height": null,
            "max_width": null,
            "min_height": null,
            "min_width": null,
            "object_fit": null,
            "object_position": null,
            "order": null,
            "overflow": null,
            "overflow_x": null,
            "overflow_y": null,
            "padding": null,
            "right": null,
            "top": null,
            "visibility": null,
            "width": null
          }
        },
        "46536d7fef9143cf8d17ac564cb1e0e3": {
          "model_module": "@jupyter-widgets/controls",
          "model_module_version": "1.5.0",
          "model_name": "FloatProgressModel",
          "state": {
            "_dom_classes": [],
            "_model_module": "@jupyter-widgets/controls",
            "_model_module_version": "1.5.0",
            "_model_name": "FloatProgressModel",
            "_view_count": null,
            "_view_module": "@jupyter-widgets/controls",
            "_view_module_version": "1.5.0",
            "_view_name": "ProgressView",
            "bar_style": "success",
            "description": "",
            "description_tooltip": null,
            "layout": "IPY_MODEL_166eb5db6edb46c1a3f8be02757f6346",
            "max": 2275327883,
            "min": 0,
            "orientation": "horizontal",
            "style": "IPY_MODEL_b10a7bc17da44fdd996bb46ee1ecabfc",
            "value": 2275327883
          }
        },
        "4659f1c8fc3b41a6a4b97bfadcc31670": {
          "model_module": "@jupyter-widgets/controls",
          "model_module_version": "1.5.0",
          "model_name": "ProgressStyleModel",
          "state": {
            "_model_module": "@jupyter-widgets/controls",
            "_model_module_version": "1.5.0",
            "_model_name": "ProgressStyleModel",
            "_view_count": null,
            "_view_module": "@jupyter-widgets/base",
            "_view_module_version": "1.2.0",
            "_view_name": "StyleView",
            "bar_color": null,
            "description_width": ""
          }
        },
        "46c7f51d9aec498186532bd8b401908c": {
          "model_module": "@jupyter-widgets/base",
          "model_module_version": "1.2.0",
          "model_name": "LayoutModel",
          "state": {
            "_model_module": "@jupyter-widgets/base",
            "_model_module_version": "1.2.0",
            "_model_name": "LayoutModel",
            "_view_count": null,
            "_view_module": "@jupyter-widgets/base",
            "_view_module_version": "1.2.0",
            "_view_name": "LayoutView",
            "align_content": null,
            "align_items": null,
            "align_self": null,
            "border": null,
            "bottom": null,
            "display": null,
            "flex": null,
            "flex_flow": null,
            "grid_area": null,
            "grid_auto_columns": null,
            "grid_auto_flow": null,
            "grid_auto_rows": null,
            "grid_column": null,
            "grid_gap": null,
            "grid_row": null,
            "grid_template_areas": null,
            "grid_template_columns": null,
            "grid_template_rows": null,
            "height": null,
            "justify_content": null,
            "justify_items": null,
            "left": null,
            "margin": null,
            "max_height": null,
            "max_width": null,
            "min_height": null,
            "min_width": null,
            "object_fit": null,
            "object_position": null,
            "order": null,
            "overflow": null,
            "overflow_x": null,
            "overflow_y": null,
            "padding": null,
            "right": null,
            "top": null,
            "visibility": null,
            "width": null
          }
        },
        "48454e8e281d485c8e645bae0e18542c": {
          "model_module": "@jupyter-widgets/base",
          "model_module_version": "1.2.0",
          "model_name": "LayoutModel",
          "state": {
            "_model_module": "@jupyter-widgets/base",
            "_model_module_version": "1.2.0",
            "_model_name": "LayoutModel",
            "_view_count": null,
            "_view_module": "@jupyter-widgets/base",
            "_view_module_version": "1.2.0",
            "_view_name": "LayoutView",
            "align_content": null,
            "align_items": null,
            "align_self": null,
            "border": null,
            "bottom": null,
            "display": null,
            "flex": null,
            "flex_flow": null,
            "grid_area": null,
            "grid_auto_columns": null,
            "grid_auto_flow": null,
            "grid_auto_rows": null,
            "grid_column": null,
            "grid_gap": null,
            "grid_row": null,
            "grid_template_areas": null,
            "grid_template_columns": null,
            "grid_template_rows": null,
            "height": null,
            "justify_content": null,
            "justify_items": null,
            "left": null,
            "margin": null,
            "max_height": null,
            "max_width": null,
            "min_height": null,
            "min_width": null,
            "object_fit": null,
            "object_position": null,
            "order": null,
            "overflow": null,
            "overflow_x": null,
            "overflow_y": null,
            "padding": null,
            "right": null,
            "top": null,
            "visibility": null,
            "width": null
          }
        },
        "48d34fee1a2a40e18d6fb3007921bf9c": {
          "model_module": "@jupyter-widgets/controls",
          "model_module_version": "1.5.0",
          "model_name": "HBoxModel",
          "state": {
            "_dom_classes": [],
            "_model_module": "@jupyter-widgets/controls",
            "_model_module_version": "1.5.0",
            "_model_name": "HBoxModel",
            "_view_count": null,
            "_view_module": "@jupyter-widgets/controls",
            "_view_module_version": "1.5.0",
            "_view_name": "HBoxView",
            "box_style": "",
            "children": [
              "IPY_MODEL_6c7d30e234f945ef8bb15d9799bf8983",
              "IPY_MODEL_873466a84a114c68898751c76f755bfa",
              "IPY_MODEL_8c179bbf7d2a4e1698a022a35dcf8bc6"
            ],
            "layout": "IPY_MODEL_f29f796b70744e21bff00a77be35b345"
          }
        },
        "4c8e1315bec64737bc8c9db9ae16f615": {
          "model_module": "@jupyter-widgets/controls",
          "model_module_version": "1.5.0",
          "model_name": "FloatProgressModel",
          "state": {
            "_dom_classes": [],
            "_model_module": "@jupyter-widgets/controls",
            "_model_module_version": "1.5.0",
            "_model_name": "FloatProgressModel",
            "_view_count": null,
            "_view_module": "@jupyter-widgets/controls",
            "_view_module_version": "1.5.0",
            "_view_name": "ProgressView",
            "bar_style": "success",
            "description": "",
            "description_tooltip": null,
            "layout": "IPY_MODEL_2cc7eeb76f7e4a8aa5762fcee1ddb860",
            "max": 65,
            "min": 0,
            "orientation": "horizontal",
            "style": "IPY_MODEL_bfaf21c852b148e9b3613a27670dc607",
            "value": 65
          }
        },
        "4d026ed62fb3431aac3cc4797e8c8dd1": {
          "model_module": "@jupyter-widgets/base",
          "model_module_version": "1.2.0",
          "model_name": "LayoutModel",
          "state": {
            "_model_module": "@jupyter-widgets/base",
            "_model_module_version": "1.2.0",
            "_model_name": "LayoutModel",
            "_view_count": null,
            "_view_module": "@jupyter-widgets/base",
            "_view_module_version": "1.2.0",
            "_view_name": "LayoutView",
            "align_content": null,
            "align_items": null,
            "align_self": null,
            "border": null,
            "bottom": null,
            "display": null,
            "flex": null,
            "flex_flow": null,
            "grid_area": null,
            "grid_auto_columns": null,
            "grid_auto_flow": null,
            "grid_auto_rows": null,
            "grid_column": null,
            "grid_gap": null,
            "grid_row": null,
            "grid_template_areas": null,
            "grid_template_columns": null,
            "grid_template_rows": null,
            "height": null,
            "justify_content": null,
            "justify_items": null,
            "left": null,
            "margin": null,
            "max_height": null,
            "max_width": null,
            "min_height": null,
            "min_width": null,
            "object_fit": null,
            "object_position": null,
            "order": null,
            "overflow": null,
            "overflow_x": null,
            "overflow_y": null,
            "padding": null,
            "right": null,
            "top": null,
            "visibility": null,
            "width": null
          }
        },
        "4d26f0b84e8d447e8f0f0cc8d13d8e58": {
          "model_module": "@jupyter-widgets/base",
          "model_module_version": "1.2.0",
          "model_name": "LayoutModel",
          "state": {
            "_model_module": "@jupyter-widgets/base",
            "_model_module_version": "1.2.0",
            "_model_name": "LayoutModel",
            "_view_count": null,
            "_view_module": "@jupyter-widgets/base",
            "_view_module_version": "1.2.0",
            "_view_name": "LayoutView",
            "align_content": null,
            "align_items": null,
            "align_self": null,
            "border": null,
            "bottom": null,
            "display": null,
            "flex": null,
            "flex_flow": null,
            "grid_area": null,
            "grid_auto_columns": null,
            "grid_auto_flow": null,
            "grid_auto_rows": null,
            "grid_column": null,
            "grid_gap": null,
            "grid_row": null,
            "grid_template_areas": null,
            "grid_template_columns": null,
            "grid_template_rows": null,
            "height": null,
            "justify_content": null,
            "justify_items": null,
            "left": null,
            "margin": null,
            "max_height": null,
            "max_width": null,
            "min_height": null,
            "min_width": null,
            "object_fit": null,
            "object_position": null,
            "order": null,
            "overflow": null,
            "overflow_x": null,
            "overflow_y": null,
            "padding": null,
            "right": null,
            "top": null,
            "visibility": null,
            "width": null
          }
        },
        "4f6f22eab7de4365b21d53de44e8d7e5": {
          "model_module": "@jupyter-widgets/base",
          "model_module_version": "1.2.0",
          "model_name": "LayoutModel",
          "state": {
            "_model_module": "@jupyter-widgets/base",
            "_model_module_version": "1.2.0",
            "_model_name": "LayoutModel",
            "_view_count": null,
            "_view_module": "@jupyter-widgets/base",
            "_view_module_version": "1.2.0",
            "_view_name": "LayoutView",
            "align_content": null,
            "align_items": null,
            "align_self": null,
            "border": null,
            "bottom": null,
            "display": null,
            "flex": null,
            "flex_flow": null,
            "grid_area": null,
            "grid_auto_columns": null,
            "grid_auto_flow": null,
            "grid_auto_rows": null,
            "grid_column": null,
            "grid_gap": null,
            "grid_row": null,
            "grid_template_areas": null,
            "grid_template_columns": null,
            "grid_template_rows": null,
            "height": null,
            "justify_content": null,
            "justify_items": null,
            "left": null,
            "margin": null,
            "max_height": null,
            "max_width": null,
            "min_height": null,
            "min_width": null,
            "object_fit": null,
            "object_position": null,
            "order": null,
            "overflow": null,
            "overflow_x": null,
            "overflow_y": null,
            "padding": null,
            "right": null,
            "top": null,
            "visibility": null,
            "width": null
          }
        },
        "504f0f0dd1de436487c768fbf4f6fa84": {
          "model_module": "@jupyter-widgets/controls",
          "model_module_version": "1.5.0",
          "model_name": "HBoxModel",
          "state": {
            "_dom_classes": [],
            "_model_module": "@jupyter-widgets/controls",
            "_model_module_version": "1.5.0",
            "_model_name": "HBoxModel",
            "_view_count": null,
            "_view_module": "@jupyter-widgets/controls",
            "_view_module_version": "1.5.0",
            "_view_name": "HBoxView",
            "box_style": "",
            "children": [
              "IPY_MODEL_61f377b4584b4bf4a240b7b6796ce432",
              "IPY_MODEL_46536d7fef9143cf8d17ac564cb1e0e3",
              "IPY_MODEL_9d4edc09ffd1449abdf72e3bc5b841c4"
            ],
            "layout": "IPY_MODEL_4d26f0b84e8d447e8f0f0cc8d13d8e58"
          }
        },
        "53aae45a69ec4934b4bd01851af94370": {
          "model_module": "@jupyter-widgets/controls",
          "model_module_version": "1.5.0",
          "model_name": "ProgressStyleModel",
          "state": {
            "_model_module": "@jupyter-widgets/controls",
            "_model_module_version": "1.5.0",
            "_model_name": "ProgressStyleModel",
            "_view_count": null,
            "_view_module": "@jupyter-widgets/base",
            "_view_module_version": "1.2.0",
            "_view_name": "StyleView",
            "bar_color": null,
            "description_width": ""
          }
        },
        "57d5b42c7c4a441ba64f8b564afc1e63": {
          "model_module": "@jupyter-widgets/controls",
          "model_module_version": "1.5.0",
          "model_name": "DescriptionStyleModel",
          "state": {
            "_model_module": "@jupyter-widgets/controls",
            "_model_module_version": "1.5.0",
            "_model_name": "DescriptionStyleModel",
            "_view_count": null,
            "_view_module": "@jupyter-widgets/base",
            "_view_module_version": "1.2.0",
            "_view_name": "StyleView",
            "description_width": ""
          }
        },
        "58b6dffaa7bd47ff98626559714d7701": {
          "model_module": "@jupyter-widgets/base",
          "model_module_version": "1.2.0",
          "model_name": "LayoutModel",
          "state": {
            "_model_module": "@jupyter-widgets/base",
            "_model_module_version": "1.2.0",
            "_model_name": "LayoutModel",
            "_view_count": null,
            "_view_module": "@jupyter-widgets/base",
            "_view_module_version": "1.2.0",
            "_view_name": "LayoutView",
            "align_content": null,
            "align_items": null,
            "align_self": null,
            "border": null,
            "bottom": null,
            "display": null,
            "flex": null,
            "flex_flow": null,
            "grid_area": null,
            "grid_auto_columns": null,
            "grid_auto_flow": null,
            "grid_auto_rows": null,
            "grid_column": null,
            "grid_gap": null,
            "grid_row": null,
            "grid_template_areas": null,
            "grid_template_columns": null,
            "grid_template_rows": null,
            "height": null,
            "justify_content": null,
            "justify_items": null,
            "left": null,
            "margin": null,
            "max_height": null,
            "max_width": null,
            "min_height": null,
            "min_width": null,
            "object_fit": null,
            "object_position": null,
            "order": null,
            "overflow": null,
            "overflow_x": null,
            "overflow_y": null,
            "padding": null,
            "right": null,
            "top": null,
            "visibility": null,
            "width": null
          }
        },
        "58b923933a224b80ae500e89585dcbc4": {
          "model_module": "@jupyter-widgets/controls",
          "model_module_version": "1.5.0",
          "model_name": "DescriptionStyleModel",
          "state": {
            "_model_module": "@jupyter-widgets/controls",
            "_model_module_version": "1.5.0",
            "_model_name": "DescriptionStyleModel",
            "_view_count": null,
            "_view_module": "@jupyter-widgets/base",
            "_view_module_version": "1.2.0",
            "_view_name": "StyleView",
            "description_width": ""
          }
        },
        "59ba2b4bc983462a9bd49c47ed6bd8de": {
          "model_module": "@jupyter-widgets/controls",
          "model_module_version": "1.5.0",
          "model_name": "DescriptionStyleModel",
          "state": {
            "_model_module": "@jupyter-widgets/controls",
            "_model_module_version": "1.5.0",
            "_model_name": "DescriptionStyleModel",
            "_view_count": null,
            "_view_module": "@jupyter-widgets/base",
            "_view_module_version": "1.2.0",
            "_view_name": "StyleView",
            "description_width": ""
          }
        },
        "5db58539b85a4da3af2ed25eaff1a465": {
          "model_module": "@jupyter-widgets/controls",
          "model_module_version": "1.5.0",
          "model_name": "FloatProgressModel",
          "state": {
            "_dom_classes": [],
            "_model_module": "@jupyter-widgets/controls",
            "_model_module_version": "1.5.0",
            "_model_name": "FloatProgressModel",
            "_view_count": null,
            "_view_module": "@jupyter-widgets/controls",
            "_view_module_version": "1.5.0",
            "_view_name": "ProgressView",
            "bar_style": "",
            "description": "",
            "description_tooltip": null,
            "layout": "IPY_MODEL_10238ec54aa14ac491ccd0a5636b5fa2",
            "max": 11490,
            "min": 0,
            "orientation": "horizontal",
            "style": "IPY_MODEL_c726de93c7dd451788aafe827a79fc17",
            "value": 11490
          }
        },
        "5eec0ba18c5e4c6f84076167cd5e5074": {
          "model_module": "@jupyter-widgets/controls",
          "model_module_version": "1.5.0",
          "model_name": "DescriptionStyleModel",
          "state": {
            "_model_module": "@jupyter-widgets/controls",
            "_model_module_version": "1.5.0",
            "_model_name": "DescriptionStyleModel",
            "_view_count": null,
            "_view_module": "@jupyter-widgets/base",
            "_view_module_version": "1.2.0",
            "_view_name": "StyleView",
            "description_width": ""
          }
        },
        "5f52b522f0924d1b96dd9f2f786cecaa": {
          "model_module": "@jupyter-widgets/controls",
          "model_module_version": "1.5.0",
          "model_name": "DescriptionStyleModel",
          "state": {
            "_model_module": "@jupyter-widgets/controls",
            "_model_module_version": "1.5.0",
            "_model_name": "DescriptionStyleModel",
            "_view_count": null,
            "_view_module": "@jupyter-widgets/base",
            "_view_module_version": "1.2.0",
            "_view_name": "StyleView",
            "description_width": ""
          }
        },
        "5fa9f0da4ae94619bb7990a23239083c": {
          "model_module": "@jupyter-widgets/controls",
          "model_module_version": "1.5.0",
          "model_name": "DescriptionStyleModel",
          "state": {
            "_model_module": "@jupyter-widgets/controls",
            "_model_module_version": "1.5.0",
            "_model_name": "DescriptionStyleModel",
            "_view_count": null,
            "_view_module": "@jupyter-widgets/base",
            "_view_module_version": "1.2.0",
            "_view_name": "StyleView",
            "description_width": ""
          }
        },
        "60fa1999c7e745dcb249c31e25a4d087": {
          "model_module": "@jupyter-widgets/controls",
          "model_module_version": "1.5.0",
          "model_name": "ProgressStyleModel",
          "state": {
            "_model_module": "@jupyter-widgets/controls",
            "_model_module_version": "1.5.0",
            "_model_name": "ProgressStyleModel",
            "_view_count": null,
            "_view_module": "@jupyter-widgets/base",
            "_view_module_version": "1.2.0",
            "_view_name": "StyleView",
            "bar_color": null,
            "description_width": ""
          }
        },
        "612f3998a538467d89666719bff3522a": {
          "model_module": "@jupyter-widgets/base",
          "model_module_version": "1.2.0",
          "model_name": "LayoutModel",
          "state": {
            "_model_module": "@jupyter-widgets/base",
            "_model_module_version": "1.2.0",
            "_model_name": "LayoutModel",
            "_view_count": null,
            "_view_module": "@jupyter-widgets/base",
            "_view_module_version": "1.2.0",
            "_view_name": "LayoutView",
            "align_content": null,
            "align_items": null,
            "align_self": null,
            "border": null,
            "bottom": null,
            "display": null,
            "flex": null,
            "flex_flow": null,
            "grid_area": null,
            "grid_auto_columns": null,
            "grid_auto_flow": null,
            "grid_auto_rows": null,
            "grid_column": null,
            "grid_gap": null,
            "grid_row": null,
            "grid_template_areas": null,
            "grid_template_columns": null,
            "grid_template_rows": null,
            "height": null,
            "justify_content": null,
            "justify_items": null,
            "left": null,
            "margin": null,
            "max_height": null,
            "max_width": null,
            "min_height": null,
            "min_width": null,
            "object_fit": null,
            "object_position": null,
            "order": null,
            "overflow": null,
            "overflow_x": null,
            "overflow_y": null,
            "padding": null,
            "right": null,
            "top": null,
            "visibility": null,
            "width": null
          }
        },
        "61f377b4584b4bf4a240b7b6796ce432": {
          "model_module": "@jupyter-widgets/controls",
          "model_module_version": "1.5.0",
          "model_name": "HTMLModel",
          "state": {
            "_dom_classes": [],
            "_model_module": "@jupyter-widgets/controls",
            "_model_module_version": "1.5.0",
            "_model_name": "HTMLModel",
            "_view_count": null,
            "_view_module": "@jupyter-widgets/controls",
            "_view_module_version": "1.5.0",
            "_view_name": "HTMLView",
            "description": "",
            "description_tooltip": null,
            "layout": "IPY_MODEL_f5180788376b42528d93676a027d3b39",
            "placeholder": "​",
            "style": "IPY_MODEL_a71e8c83b7c24ede94d2ab594d42c9bc",
            "value": "Downloading pytorch_model.bin: 100%"
          }
        },
        "622092eeb40d4f85b2203c99a83ddd58": {
          "model_module": "@jupyter-widgets/base",
          "model_module_version": "1.2.0",
          "model_name": "LayoutModel",
          "state": {
            "_model_module": "@jupyter-widgets/base",
            "_model_module_version": "1.2.0",
            "_model_name": "LayoutModel",
            "_view_count": null,
            "_view_module": "@jupyter-widgets/base",
            "_view_module_version": "1.2.0",
            "_view_name": "LayoutView",
            "align_content": null,
            "align_items": null,
            "align_self": null,
            "border": null,
            "bottom": null,
            "display": null,
            "flex": null,
            "flex_flow": null,
            "grid_area": null,
            "grid_auto_columns": null,
            "grid_auto_flow": null,
            "grid_auto_rows": null,
            "grid_column": null,
            "grid_gap": null,
            "grid_row": null,
            "grid_template_areas": null,
            "grid_template_columns": null,
            "grid_template_rows": null,
            "height": null,
            "justify_content": null,
            "justify_items": null,
            "left": null,
            "margin": null,
            "max_height": null,
            "max_width": null,
            "min_height": null,
            "min_width": null,
            "object_fit": null,
            "object_position": null,
            "order": null,
            "overflow": null,
            "overflow_x": null,
            "overflow_y": null,
            "padding": null,
            "right": null,
            "top": null,
            "visibility": null,
            "width": null
          }
        },
        "6385a84335944b47b64f0eaaa9f0b7a4": {
          "model_module": "@jupyter-widgets/base",
          "model_module_version": "1.2.0",
          "model_name": "LayoutModel",
          "state": {
            "_model_module": "@jupyter-widgets/base",
            "_model_module_version": "1.2.0",
            "_model_name": "LayoutModel",
            "_view_count": null,
            "_view_module": "@jupyter-widgets/base",
            "_view_module_version": "1.2.0",
            "_view_name": "LayoutView",
            "align_content": null,
            "align_items": null,
            "align_self": null,
            "border": null,
            "bottom": null,
            "display": null,
            "flex": null,
            "flex_flow": null,
            "grid_area": null,
            "grid_auto_columns": null,
            "grid_auto_flow": null,
            "grid_auto_rows": null,
            "grid_column": null,
            "grid_gap": null,
            "grid_row": null,
            "grid_template_areas": null,
            "grid_template_columns": null,
            "grid_template_rows": null,
            "height": null,
            "justify_content": null,
            "justify_items": null,
            "left": null,
            "margin": null,
            "max_height": null,
            "max_width": null,
            "min_height": null,
            "min_width": null,
            "object_fit": null,
            "object_position": null,
            "order": null,
            "overflow": null,
            "overflow_x": null,
            "overflow_y": null,
            "padding": null,
            "right": null,
            "top": null,
            "visibility": null,
            "width": null
          }
        },
        "6466fba593514a7b96f970f11b2f4a96": {
          "model_module": "@jupyter-widgets/base",
          "model_module_version": "1.2.0",
          "model_name": "LayoutModel",
          "state": {
            "_model_module": "@jupyter-widgets/base",
            "_model_module_version": "1.2.0",
            "_model_name": "LayoutModel",
            "_view_count": null,
            "_view_module": "@jupyter-widgets/base",
            "_view_module_version": "1.2.0",
            "_view_name": "LayoutView",
            "align_content": null,
            "align_items": null,
            "align_self": null,
            "border": null,
            "bottom": null,
            "display": null,
            "flex": null,
            "flex_flow": null,
            "grid_area": null,
            "grid_auto_columns": null,
            "grid_auto_flow": null,
            "grid_auto_rows": null,
            "grid_column": null,
            "grid_gap": null,
            "grid_row": null,
            "grid_template_areas": null,
            "grid_template_columns": null,
            "grid_template_rows": null,
            "height": null,
            "justify_content": null,
            "justify_items": null,
            "left": null,
            "margin": null,
            "max_height": null,
            "max_width": null,
            "min_height": null,
            "min_width": null,
            "object_fit": null,
            "object_position": null,
            "order": null,
            "overflow": null,
            "overflow_x": null,
            "overflow_y": null,
            "padding": null,
            "right": null,
            "top": null,
            "visibility": null,
            "width": null
          }
        },
        "66db3b47d28840ecb4c4e8d2008fb6ea": {
          "model_module": "@jupyter-widgets/controls",
          "model_module_version": "1.5.0",
          "model_name": "HTMLModel",
          "state": {
            "_dom_classes": [],
            "_model_module": "@jupyter-widgets/controls",
            "_model_module_version": "1.5.0",
            "_model_name": "HTMLModel",
            "_view_count": null,
            "_view_module": "@jupyter-widgets/controls",
            "_view_module_version": "1.5.0",
            "_view_name": "HTMLView",
            "description": "",
            "description_tooltip": null,
            "layout": "IPY_MODEL_07f99a355a0946fd9aa4537f8b10a240",
            "placeholder": "​",
            "style": "IPY_MODEL_57d5b42c7c4a441ba64f8b564afc1e63",
            "value": "Downloading (…)ve/main/spiece.model: 100%"
          }
        },
        "677763b5d5df4b9098b8bcb75d3f13b8": {
          "model_module": "@jupyter-widgets/base",
          "model_module_version": "1.2.0",
          "model_name": "LayoutModel",
          "state": {
            "_model_module": "@jupyter-widgets/base",
            "_model_module_version": "1.2.0",
            "_model_name": "LayoutModel",
            "_view_count": null,
            "_view_module": "@jupyter-widgets/base",
            "_view_module_version": "1.2.0",
            "_view_name": "LayoutView",
            "align_content": null,
            "align_items": null,
            "align_self": null,
            "border": null,
            "bottom": null,
            "display": null,
            "flex": null,
            "flex_flow": null,
            "grid_area": null,
            "grid_auto_columns": null,
            "grid_auto_flow": null,
            "grid_auto_rows": null,
            "grid_column": null,
            "grid_gap": null,
            "grid_row": null,
            "grid_template_areas": null,
            "grid_template_columns": null,
            "grid_template_rows": null,
            "height": null,
            "justify_content": null,
            "justify_items": null,
            "left": null,
            "margin": null,
            "max_height": null,
            "max_width": null,
            "min_height": null,
            "min_width": null,
            "object_fit": null,
            "object_position": null,
            "order": null,
            "overflow": null,
            "overflow_x": null,
            "overflow_y": null,
            "padding": null,
            "right": null,
            "top": null,
            "visibility": null,
            "width": null
          }
        },
        "67ae888ff5f9450383a384862a52a896": {
          "model_module": "@jupyter-widgets/base",
          "model_module_version": "1.2.0",
          "model_name": "LayoutModel",
          "state": {
            "_model_module": "@jupyter-widgets/base",
            "_model_module_version": "1.2.0",
            "_model_name": "LayoutModel",
            "_view_count": null,
            "_view_module": "@jupyter-widgets/base",
            "_view_module_version": "1.2.0",
            "_view_name": "LayoutView",
            "align_content": null,
            "align_items": null,
            "align_self": null,
            "border": null,
            "bottom": null,
            "display": null,
            "flex": null,
            "flex_flow": null,
            "grid_area": null,
            "grid_auto_columns": null,
            "grid_auto_flow": null,
            "grid_auto_rows": null,
            "grid_column": null,
            "grid_gap": null,
            "grid_row": null,
            "grid_template_areas": null,
            "grid_template_columns": null,
            "grid_template_rows": null,
            "height": null,
            "justify_content": null,
            "justify_items": null,
            "left": null,
            "margin": null,
            "max_height": null,
            "max_width": null,
            "min_height": null,
            "min_width": null,
            "object_fit": null,
            "object_position": null,
            "order": null,
            "overflow": null,
            "overflow_x": null,
            "overflow_y": null,
            "padding": null,
            "right": null,
            "top": null,
            "visibility": null,
            "width": null
          }
        },
        "6c7d30e234f945ef8bb15d9799bf8983": {
          "model_module": "@jupyter-widgets/controls",
          "model_module_version": "1.5.0",
          "model_name": "HTMLModel",
          "state": {
            "_dom_classes": [],
            "_model_module": "@jupyter-widgets/controls",
            "_model_module_version": "1.5.0",
            "_model_name": "HTMLModel",
            "_view_count": null,
            "_view_module": "@jupyter-widgets/controls",
            "_view_module_version": "1.5.0",
            "_view_name": "HTMLView",
            "description": "",
            "description_tooltip": null,
            "layout": "IPY_MODEL_b8ec7736d60448c4b50bc15318307b25",
            "placeholder": "​",
            "style": "IPY_MODEL_5fa9f0da4ae94619bb7990a23239083c",
            "value": "Downloading (…)neration_config.json: 100%"
          }
        },
        "6e35e72046714c359d00996396af7605": {
          "model_module": "@jupyter-widgets/controls",
          "model_module_version": "1.5.0",
          "model_name": "HBoxModel",
          "state": {
            "_dom_classes": [],
            "_model_module": "@jupyter-widgets/controls",
            "_model_module_version": "1.5.0",
            "_model_name": "HBoxModel",
            "_view_count": null,
            "_view_module": "@jupyter-widgets/controls",
            "_view_module_version": "1.5.0",
            "_view_name": "HBoxView",
            "box_style": "",
            "children": [
              "IPY_MODEL_23bf66b5aae540ce9b4a7b6f6e78d403",
              "IPY_MODEL_4c8e1315bec64737bc8c9db9ae16f615",
              "IPY_MODEL_8e020580d95547df9371bbfd97956c29"
            ],
            "layout": "IPY_MODEL_6e3be94bd85540e7bba33f063367b301"
          }
        },
        "6e3be94bd85540e7bba33f063367b301": {
          "model_module": "@jupyter-widgets/base",
          "model_module_version": "1.2.0",
          "model_name": "LayoutModel",
          "state": {
            "_model_module": "@jupyter-widgets/base",
            "_model_module_version": "1.2.0",
            "_model_name": "LayoutModel",
            "_view_count": null,
            "_view_module": "@jupyter-widgets/base",
            "_view_module_version": "1.2.0",
            "_view_name": "LayoutView",
            "align_content": null,
            "align_items": null,
            "align_self": null,
            "border": null,
            "bottom": null,
            "display": null,
            "flex": null,
            "flex_flow": null,
            "grid_area": null,
            "grid_auto_columns": null,
            "grid_auto_flow": null,
            "grid_auto_rows": null,
            "grid_column": null,
            "grid_gap": null,
            "grid_row": null,
            "grid_template_areas": null,
            "grid_template_columns": null,
            "grid_template_rows": null,
            "height": null,
            "justify_content": null,
            "justify_items": null,
            "left": null,
            "margin": null,
            "max_height": null,
            "max_width": null,
            "min_height": null,
            "min_width": null,
            "object_fit": null,
            "object_position": null,
            "order": null,
            "overflow": null,
            "overflow_x": null,
            "overflow_y": null,
            "padding": null,
            "right": null,
            "top": null,
            "visibility": null,
            "width": null
          }
        },
        "72407edbcdbd42b0a6b2853694c3dbce": {
          "model_module": "@jupyter-widgets/controls",
          "model_module_version": "1.5.0",
          "model_name": "HTMLModel",
          "state": {
            "_dom_classes": [],
            "_model_module": "@jupyter-widgets/controls",
            "_model_module_version": "1.5.0",
            "_model_name": "HTMLModel",
            "_view_count": null,
            "_view_module": "@jupyter-widgets/controls",
            "_view_module_version": "1.5.0",
            "_view_name": "HTMLView",
            "description": "",
            "description_tooltip": null,
            "layout": "IPY_MODEL_b5da637577e349ee9aaa92b9b17f9d1a",
            "placeholder": "​",
            "style": "IPY_MODEL_8df8de4a32504279855a92c2c06c4b6b",
            "value": "Map: 100%"
          }
        },
        "73449e78cd1b4c05b15cf7ae361ed9a8": {
          "model_module": "@jupyter-widgets/controls",
          "model_module_version": "1.5.0",
          "model_name": "ProgressStyleModel",
          "state": {
            "_model_module": "@jupyter-widgets/controls",
            "_model_module_version": "1.5.0",
            "_model_name": "ProgressStyleModel",
            "_view_count": null,
            "_view_module": "@jupyter-widgets/base",
            "_view_module_version": "1.2.0",
            "_view_name": "StyleView",
            "bar_color": null,
            "description_width": ""
          }
        },
        "739cf710358447208e834b2506eacd50": {
          "model_module": "@jupyter-widgets/base",
          "model_module_version": "1.2.0",
          "model_name": "LayoutModel",
          "state": {
            "_model_module": "@jupyter-widgets/base",
            "_model_module_version": "1.2.0",
            "_model_name": "LayoutModel",
            "_view_count": null,
            "_view_module": "@jupyter-widgets/base",
            "_view_module_version": "1.2.0",
            "_view_name": "LayoutView",
            "align_content": null,
            "align_items": null,
            "align_self": null,
            "border": null,
            "bottom": null,
            "display": null,
            "flex": null,
            "flex_flow": null,
            "grid_area": null,
            "grid_auto_columns": null,
            "grid_auto_flow": null,
            "grid_auto_rows": null,
            "grid_column": null,
            "grid_gap": null,
            "grid_row": null,
            "grid_template_areas": null,
            "grid_template_columns": null,
            "grid_template_rows": null,
            "height": null,
            "justify_content": null,
            "justify_items": null,
            "left": null,
            "margin": null,
            "max_height": null,
            "max_width": null,
            "min_height": null,
            "min_width": null,
            "object_fit": null,
            "object_position": null,
            "order": null,
            "overflow": null,
            "overflow_x": null,
            "overflow_y": null,
            "padding": null,
            "right": null,
            "top": null,
            "visibility": null,
            "width": null
          }
        },
        "768ed44dc95d46a8936d0b48cb4880ea": {
          "model_module": "@jupyter-widgets/controls",
          "model_module_version": "1.5.0",
          "model_name": "DescriptionStyleModel",
          "state": {
            "_model_module": "@jupyter-widgets/controls",
            "_model_module_version": "1.5.0",
            "_model_name": "DescriptionStyleModel",
            "_view_count": null,
            "_view_module": "@jupyter-widgets/base",
            "_view_module_version": "1.2.0",
            "_view_name": "StyleView",
            "description_width": ""
          }
        },
        "771c0d62cd2b47c6abf5d7a5bf796421": {
          "model_module": "@jupyter-widgets/controls",
          "model_module_version": "1.5.0",
          "model_name": "HTMLModel",
          "state": {
            "_dom_classes": [],
            "_model_module": "@jupyter-widgets/controls",
            "_model_module_version": "1.5.0",
            "_model_name": "HTMLModel",
            "_view_count": null,
            "_view_module": "@jupyter-widgets/controls",
            "_view_module_version": "1.5.0",
            "_view_name": "HTMLView",
            "description": "",
            "description_tooltip": null,
            "layout": "IPY_MODEL_30c69019bb3440beb898cf3bc8a5577a",
            "placeholder": "​",
            "style": "IPY_MODEL_5f52b522f0924d1b96dd9f2f786cecaa",
            "value": "Downloading (…)neration_config.json: 100%"
          }
        },
        "7adfbda825644341ad38770c45f79bdc": {
          "model_module": "@jupyter-widgets/base",
          "model_module_version": "1.2.0",
          "model_name": "LayoutModel",
          "state": {
            "_model_module": "@jupyter-widgets/base",
            "_model_module_version": "1.2.0",
            "_model_name": "LayoutModel",
            "_view_count": null,
            "_view_module": "@jupyter-widgets/base",
            "_view_module_version": "1.2.0",
            "_view_name": "LayoutView",
            "align_content": null,
            "align_items": null,
            "align_self": null,
            "border": null,
            "bottom": null,
            "display": null,
            "flex": null,
            "flex_flow": null,
            "grid_area": null,
            "grid_auto_columns": null,
            "grid_auto_flow": null,
            "grid_auto_rows": null,
            "grid_column": null,
            "grid_gap": null,
            "grid_row": null,
            "grid_template_areas": null,
            "grid_template_columns": null,
            "grid_template_rows": null,
            "height": null,
            "justify_content": null,
            "justify_items": null,
            "left": null,
            "margin": null,
            "max_height": null,
            "max_width": null,
            "min_height": null,
            "min_width": null,
            "object_fit": null,
            "object_position": null,
            "order": null,
            "overflow": null,
            "overflow_x": null,
            "overflow_y": null,
            "padding": null,
            "right": null,
            "top": null,
            "visibility": "hidden",
            "width": null
          }
        },
        "7aed088259664092bea28c4e1fe527cf": {
          "model_module": "@jupyter-widgets/base",
          "model_module_version": "1.2.0",
          "model_name": "LayoutModel",
          "state": {
            "_model_module": "@jupyter-widgets/base",
            "_model_module_version": "1.2.0",
            "_model_name": "LayoutModel",
            "_view_count": null,
            "_view_module": "@jupyter-widgets/base",
            "_view_module_version": "1.2.0",
            "_view_name": "LayoutView",
            "align_content": null,
            "align_items": null,
            "align_self": null,
            "border": null,
            "bottom": null,
            "display": null,
            "flex": null,
            "flex_flow": null,
            "grid_area": null,
            "grid_auto_columns": null,
            "grid_auto_flow": null,
            "grid_auto_rows": null,
            "grid_column": null,
            "grid_gap": null,
            "grid_row": null,
            "grid_template_areas": null,
            "grid_template_columns": null,
            "grid_template_rows": null,
            "height": null,
            "justify_content": null,
            "justify_items": null,
            "left": null,
            "margin": null,
            "max_height": null,
            "max_width": null,
            "min_height": null,
            "min_width": null,
            "object_fit": null,
            "object_position": null,
            "order": null,
            "overflow": null,
            "overflow_x": null,
            "overflow_y": null,
            "padding": null,
            "right": null,
            "top": null,
            "visibility": null,
            "width": null
          }
        },
        "7c339a38838142eaaa2d6e7c1abef2ea": {
          "model_module": "@jupyter-widgets/controls",
          "model_module_version": "1.5.0",
          "model_name": "DescriptionStyleModel",
          "state": {
            "_model_module": "@jupyter-widgets/controls",
            "_model_module_version": "1.5.0",
            "_model_name": "DescriptionStyleModel",
            "_view_count": null,
            "_view_module": "@jupyter-widgets/base",
            "_view_module_version": "1.2.0",
            "_view_name": "StyleView",
            "description_width": ""
          }
        },
        "7cf16ad166ab47409959b5e803a0c5f2": {
          "model_module": "@jupyter-widgets/controls",
          "model_module_version": "1.5.0",
          "model_name": "HBoxModel",
          "state": {
            "_dom_classes": [],
            "_model_module": "@jupyter-widgets/controls",
            "_model_module_version": "1.5.0",
            "_model_name": "HBoxModel",
            "_view_count": null,
            "_view_module": "@jupyter-widgets/controls",
            "_view_module_version": "1.5.0",
            "_view_name": "HBoxView",
            "box_style": "",
            "children": [
              "IPY_MODEL_d55d96f897e24e5ab57598d0b1aba7dc",
              "IPY_MODEL_5db58539b85a4da3af2ed25eaff1a465",
              "IPY_MODEL_e3b8b1c1c3854d8fb816d973ed3cee1b"
            ],
            "layout": "IPY_MODEL_0b93274c78ef41b78a56592d31fca16c"
          }
        },
        "7dc6e586833440cfb4c3d7bfebabc3c7": {
          "model_module": "@jupyter-widgets/base",
          "model_module_version": "1.2.0",
          "model_name": "LayoutModel",
          "state": {
            "_model_module": "@jupyter-widgets/base",
            "_model_module_version": "1.2.0",
            "_model_name": "LayoutModel",
            "_view_count": null,
            "_view_module": "@jupyter-widgets/base",
            "_view_module_version": "1.2.0",
            "_view_name": "LayoutView",
            "align_content": null,
            "align_items": null,
            "align_self": null,
            "border": null,
            "bottom": null,
            "display": null,
            "flex": null,
            "flex_flow": null,
            "grid_area": null,
            "grid_auto_columns": null,
            "grid_auto_flow": null,
            "grid_auto_rows": null,
            "grid_column": null,
            "grid_gap": null,
            "grid_row": null,
            "grid_template_areas": null,
            "grid_template_columns": null,
            "grid_template_rows": null,
            "height": null,
            "justify_content": null,
            "justify_items": null,
            "left": null,
            "margin": null,
            "max_height": null,
            "max_width": null,
            "min_height": null,
            "min_width": null,
            "object_fit": null,
            "object_position": null,
            "order": null,
            "overflow": null,
            "overflow_x": null,
            "overflow_y": null,
            "padding": null,
            "right": null,
            "top": null,
            "visibility": null,
            "width": null
          }
        },
        "7e76c7797203464d9fe89fbe7250bb99": {
          "model_module": "@jupyter-widgets/controls",
          "model_module_version": "1.5.0",
          "model_name": "HBoxModel",
          "state": {
            "_dom_classes": [],
            "_model_module": "@jupyter-widgets/controls",
            "_model_module_version": "1.5.0",
            "_model_name": "HBoxModel",
            "_view_count": null,
            "_view_module": "@jupyter-widgets/controls",
            "_view_module_version": "1.5.0",
            "_view_name": "HBoxView",
            "box_style": "",
            "children": [
              "IPY_MODEL_871896f4510242c2b40bd2ccd712b668",
              "IPY_MODEL_dedfa760765d4208af6102e1a5b5ae89",
              "IPY_MODEL_a0c899d0e80a4308a3c1e8c0bbf4f6be"
            ],
            "layout": "IPY_MODEL_622092eeb40d4f85b2203c99a83ddd58"
          }
        },
        "82825fce171a48b4a891e97d8832a5bf": {
          "model_module": "@jupyter-widgets/controls",
          "model_module_version": "1.5.0",
          "model_name": "HBoxModel",
          "state": {
            "_dom_classes": [],
            "_model_module": "@jupyter-widgets/controls",
            "_model_module_version": "1.5.0",
            "_model_name": "HBoxModel",
            "_view_count": null,
            "_view_module": "@jupyter-widgets/controls",
            "_view_module_version": "1.5.0",
            "_view_name": "HBoxView",
            "box_style": "",
            "children": [
              "IPY_MODEL_88b28cb5fe22418eb7632ef187189aa0",
              "IPY_MODEL_bcdaa5e0c48346a1932b7dab9185d678",
              "IPY_MODEL_a42a55a6bff14e3fa7fc73ec481a2848"
            ],
            "layout": "IPY_MODEL_a554ec1354c94383b377a9950990b94e"
          }
        },
        "8503bf0c6365495fa55a19daefcd2f92": {
          "model_module": "@jupyter-widgets/controls",
          "model_module_version": "1.5.0",
          "model_name": "HTMLModel",
          "state": {
            "_dom_classes": [],
            "_model_module": "@jupyter-widgets/controls",
            "_model_module_version": "1.5.0",
            "_model_name": "HTMLModel",
            "_view_count": null,
            "_view_module": "@jupyter-widgets/controls",
            "_view_module_version": "1.5.0",
            "_view_name": "HTMLView",
            "description": "",
            "description_tooltip": null,
            "layout": "IPY_MODEL_46c7f51d9aec498186532bd8b401908c",
            "placeholder": "​",
            "style": "IPY_MODEL_3ce649ad65cc44059d8db6dfa7ab3e89",
            "value": " 65.0/65.0 [00:00&lt;00:00, 3.01kB/s]"
          }
        },
        "871896f4510242c2b40bd2ccd712b668": {
          "model_module": "@jupyter-widgets/controls",
          "model_module_version": "1.5.0",
          "model_name": "HTMLModel",
          "state": {
            "_dom_classes": [],
            "_model_module": "@jupyter-widgets/controls",
            "_model_module_version": "1.5.0",
            "_model_name": "HTMLModel",
            "_view_count": null,
            "_view_module": "@jupyter-widgets/controls",
            "_view_module_version": "1.5.0",
            "_view_name": "HTMLView",
            "description": "",
            "description_tooltip": null,
            "layout": "IPY_MODEL_4d026ed62fb3431aac3cc4797e8c8dd1",
            "placeholder": "​",
            "style": "IPY_MODEL_b78375ab61fc4bc5b61b633aaa432066",
            "value": "Downloading (…)okenizer_config.json: 100%"
          }
        },
        "873466a84a114c68898751c76f755bfa": {
          "model_module": "@jupyter-widgets/controls",
          "model_module_version": "1.5.0",
          "model_name": "FloatProgressModel",
          "state": {
            "_dom_classes": [],
            "_model_module": "@jupyter-widgets/controls",
            "_model_module_version": "1.5.0",
            "_model_name": "FloatProgressModel",
            "_view_count": null,
            "_view_module": "@jupyter-widgets/controls",
            "_view_module_version": "1.5.0",
            "_view_name": "ProgressView",
            "bar_style": "success",
            "description": "",
            "description_tooltip": null,
            "layout": "IPY_MODEL_3849caeb34454d92974f151122e4b57b",
            "max": 260,
            "min": 0,
            "orientation": "horizontal",
            "style": "IPY_MODEL_20fe912c786b468591c90ffc687cb807",
            "value": 260
          }
        },
        "88b28cb5fe22418eb7632ef187189aa0": {
          "model_module": "@jupyter-widgets/controls",
          "model_module_version": "1.5.0",
          "model_name": "HTMLModel",
          "state": {
            "_dom_classes": [],
            "_model_module": "@jupyter-widgets/controls",
            "_model_module_version": "1.5.0",
            "_model_name": "HTMLModel",
            "_view_count": null,
            "_view_module": "@jupyter-widgets/controls",
            "_view_module_version": "1.5.0",
            "_view_name": "HTMLView",
            "description": "",
            "description_tooltip": null,
            "layout": "IPY_MODEL_931aabf166cd460abd22cf89b8277099",
            "placeholder": "​",
            "style": "IPY_MODEL_c229cb9c0dda4e82a067b291f63ab94e",
            "value": "Downloading (…)ve/main/spiece.model: 100%"
          }
        },
        "8c179bbf7d2a4e1698a022a35dcf8bc6": {
          "model_module": "@jupyter-widgets/controls",
          "model_module_version": "1.5.0",
          "model_name": "HTMLModel",
          "state": {
            "_dom_classes": [],
            "_model_module": "@jupyter-widgets/controls",
            "_model_module_version": "1.5.0",
            "_model_name": "HTMLModel",
            "_view_count": null,
            "_view_module": "@jupyter-widgets/controls",
            "_view_module_version": "1.5.0",
            "_view_name": "HTMLView",
            "description": "",
            "description_tooltip": null,
            "layout": "IPY_MODEL_a0842a101c6c4d559c9285d1572579ef",
            "placeholder": "​",
            "style": "IPY_MODEL_c90cd9e3f41646b390bc2bb7ff9ee1bc",
            "value": " 260/260 [00:00&lt;00:00, 21.9kB/s]"
          }
        },
        "8c342f5411f94d289cacce378d1c95c2": {
          "model_module": "@jupyter-widgets/controls",
          "model_module_version": "1.5.0",
          "model_name": "ProgressStyleModel",
          "state": {
            "_model_module": "@jupyter-widgets/controls",
            "_model_module_version": "1.5.0",
            "_model_name": "ProgressStyleModel",
            "_view_count": null,
            "_view_module": "@jupyter-widgets/base",
            "_view_module_version": "1.2.0",
            "_view_name": "StyleView",
            "bar_color": null,
            "description_width": ""
          }
        },
        "8df8de4a32504279855a92c2c06c4b6b": {
          "model_module": "@jupyter-widgets/controls",
          "model_module_version": "1.5.0",
          "model_name": "DescriptionStyleModel",
          "state": {
            "_model_module": "@jupyter-widgets/controls",
            "_model_module_version": "1.5.0",
            "_model_name": "DescriptionStyleModel",
            "_view_count": null,
            "_view_module": "@jupyter-widgets/base",
            "_view_module_version": "1.2.0",
            "_view_name": "StyleView",
            "description_width": ""
          }
        },
        "8e020580d95547df9371bbfd97956c29": {
          "model_module": "@jupyter-widgets/controls",
          "model_module_version": "1.5.0",
          "model_name": "HTMLModel",
          "state": {
            "_dom_classes": [],
            "_model_module": "@jupyter-widgets/controls",
            "_model_module_version": "1.5.0",
            "_model_name": "HTMLModel",
            "_view_count": null,
            "_view_module": "@jupyter-widgets/controls",
            "_view_module_version": "1.5.0",
            "_view_name": "HTMLView",
            "description": "",
            "description_tooltip": null,
            "layout": "IPY_MODEL_c932792e066f485f88e39b70508dda0d",
            "placeholder": "​",
            "style": "IPY_MODEL_fd929787aa4e48edbe8ee0af923842a5",
            "value": " 65.0/65.0 [00:00&lt;00:00, 5.50kB/s]"
          }
        },
        "8f6215b1be2349db95f7cbedf4e360b9": {
          "model_module": "@jupyter-widgets/controls",
          "model_module_version": "1.5.0",
          "model_name": "HTMLModel",
          "state": {
            "_dom_classes": [],
            "_model_module": "@jupyter-widgets/controls",
            "_model_module_version": "1.5.0",
            "_model_name": "HTMLModel",
            "_view_count": null,
            "_view_module": "@jupyter-widgets/controls",
            "_view_module_version": "1.5.0",
            "_view_name": "HTMLView",
            "description": "",
            "description_tooltip": null,
            "layout": "IPY_MODEL_97c583d35bd64894853ccf97fa44b66a",
            "placeholder": "​",
            "style": "IPY_MODEL_00d9584d1c534f91b86f1713a524ddbc",
            "value": " 3/3 [00:00&lt;00:00, 90.79it/s]"
          }
        },
        "9163e619ea014143b31778e7a72becaf": {
          "model_module": "@jupyter-widgets/controls",
          "model_module_version": "1.5.0",
          "model_name": "HBoxModel",
          "state": {
            "_dom_classes": [],
            "_model_module": "@jupyter-widgets/controls",
            "_model_module_version": "1.5.0",
            "_model_name": "HBoxModel",
            "_view_count": null,
            "_view_module": "@jupyter-widgets/controls",
            "_view_module_version": "1.5.0",
            "_view_name": "HBoxView",
            "box_style": "",
            "children": [
              "IPY_MODEL_f234ce08f91d4ede84e3287158c93106",
              "IPY_MODEL_04f45e9852894cb4b14836e0030b1828",
              "IPY_MODEL_c168590ebc1342f78e7ef69dc4f44dfc"
            ],
            "layout": "IPY_MODEL_c9485ef21866415380d22f7ddef87f8d"
          }
        },
        "931695e5d1214fe68fe2c2d7b2558e47": {
          "model_module": "@jupyter-widgets/base",
          "model_module_version": "1.2.0",
          "model_name": "LayoutModel",
          "state": {
            "_model_module": "@jupyter-widgets/base",
            "_model_module_version": "1.2.0",
            "_model_name": "LayoutModel",
            "_view_count": null,
            "_view_module": "@jupyter-widgets/base",
            "_view_module_version": "1.2.0",
            "_view_name": "LayoutView",
            "align_content": null,
            "align_items": null,
            "align_self": null,
            "border": null,
            "bottom": null,
            "display": null,
            "flex": null,
            "flex_flow": null,
            "grid_area": null,
            "grid_auto_columns": null,
            "grid_auto_flow": null,
            "grid_auto_rows": null,
            "grid_column": null,
            "grid_gap": null,
            "grid_row": null,
            "grid_template_areas": null,
            "grid_template_columns": null,
            "grid_template_rows": null,
            "height": null,
            "justify_content": null,
            "justify_items": null,
            "left": null,
            "margin": null,
            "max_height": null,
            "max_width": null,
            "min_height": null,
            "min_width": null,
            "object_fit": null,
            "object_position": null,
            "order": null,
            "overflow": null,
            "overflow_x": null,
            "overflow_y": null,
            "padding": null,
            "right": null,
            "top": null,
            "visibility": null,
            "width": null
          }
        },
        "931aabf166cd460abd22cf89b8277099": {
          "model_module": "@jupyter-widgets/base",
          "model_module_version": "1.2.0",
          "model_name": "LayoutModel",
          "state": {
            "_model_module": "@jupyter-widgets/base",
            "_model_module_version": "1.2.0",
            "_model_name": "LayoutModel",
            "_view_count": null,
            "_view_module": "@jupyter-widgets/base",
            "_view_module_version": "1.2.0",
            "_view_name": "LayoutView",
            "align_content": null,
            "align_items": null,
            "align_self": null,
            "border": null,
            "bottom": null,
            "display": null,
            "flex": null,
            "flex_flow": null,
            "grid_area": null,
            "grid_auto_columns": null,
            "grid_auto_flow": null,
            "grid_auto_rows": null,
            "grid_column": null,
            "grid_gap": null,
            "grid_row": null,
            "grid_template_areas": null,
            "grid_template_columns": null,
            "grid_template_rows": null,
            "height": null,
            "justify_content": null,
            "justify_items": null,
            "left": null,
            "margin": null,
            "max_height": null,
            "max_width": null,
            "min_height": null,
            "min_width": null,
            "object_fit": null,
            "object_position": null,
            "order": null,
            "overflow": null,
            "overflow_x": null,
            "overflow_y": null,
            "padding": null,
            "right": null,
            "top": null,
            "visibility": null,
            "width": null
          }
        },
        "97c583d35bd64894853ccf97fa44b66a": {
          "model_module": "@jupyter-widgets/base",
          "model_module_version": "1.2.0",
          "model_name": "LayoutModel",
          "state": {
            "_model_module": "@jupyter-widgets/base",
            "_model_module_version": "1.2.0",
            "_model_name": "LayoutModel",
            "_view_count": null,
            "_view_module": "@jupyter-widgets/base",
            "_view_module_version": "1.2.0",
            "_view_name": "LayoutView",
            "align_content": null,
            "align_items": null,
            "align_self": null,
            "border": null,
            "bottom": null,
            "display": null,
            "flex": null,
            "flex_flow": null,
            "grid_area": null,
            "grid_auto_columns": null,
            "grid_auto_flow": null,
            "grid_auto_rows": null,
            "grid_column": null,
            "grid_gap": null,
            "grid_row": null,
            "grid_template_areas": null,
            "grid_template_columns": null,
            "grid_template_rows": null,
            "height": null,
            "justify_content": null,
            "justify_items": null,
            "left": null,
            "margin": null,
            "max_height": null,
            "max_width": null,
            "min_height": null,
            "min_width": null,
            "object_fit": null,
            "object_position": null,
            "order": null,
            "overflow": null,
            "overflow_x": null,
            "overflow_y": null,
            "padding": null,
            "right": null,
            "top": null,
            "visibility": null,
            "width": null
          }
        },
        "9822324ff67d4177bae06d014c7093f5": {
          "model_module": "@jupyter-widgets/base",
          "model_module_version": "1.2.0",
          "model_name": "LayoutModel",
          "state": {
            "_model_module": "@jupyter-widgets/base",
            "_model_module_version": "1.2.0",
            "_model_name": "LayoutModel",
            "_view_count": null,
            "_view_module": "@jupyter-widgets/base",
            "_view_module_version": "1.2.0",
            "_view_name": "LayoutView",
            "align_content": null,
            "align_items": null,
            "align_self": null,
            "border": null,
            "bottom": null,
            "display": null,
            "flex": null,
            "flex_flow": null,
            "grid_area": null,
            "grid_auto_columns": null,
            "grid_auto_flow": null,
            "grid_auto_rows": null,
            "grid_column": null,
            "grid_gap": null,
            "grid_row": null,
            "grid_template_areas": null,
            "grid_template_columns": null,
            "grid_template_rows": null,
            "height": null,
            "justify_content": null,
            "justify_items": null,
            "left": null,
            "margin": null,
            "max_height": null,
            "max_width": null,
            "min_height": null,
            "min_width": null,
            "object_fit": null,
            "object_position": null,
            "order": null,
            "overflow": null,
            "overflow_x": null,
            "overflow_y": null,
            "padding": null,
            "right": null,
            "top": null,
            "visibility": null,
            "width": null
          }
        },
        "9a5b211d992444bca6503c8f0c796c3a": {
          "model_module": "@jupyter-widgets/base",
          "model_module_version": "1.2.0",
          "model_name": "LayoutModel",
          "state": {
            "_model_module": "@jupyter-widgets/base",
            "_model_module_version": "1.2.0",
            "_model_name": "LayoutModel",
            "_view_count": null,
            "_view_module": "@jupyter-widgets/base",
            "_view_module_version": "1.2.0",
            "_view_name": "LayoutView",
            "align_content": null,
            "align_items": null,
            "align_self": null,
            "border": null,
            "bottom": null,
            "display": null,
            "flex": null,
            "flex_flow": null,
            "grid_area": null,
            "grid_auto_columns": null,
            "grid_auto_flow": null,
            "grid_auto_rows": null,
            "grid_column": null,
            "grid_gap": null,
            "grid_row": null,
            "grid_template_areas": null,
            "grid_template_columns": null,
            "grid_template_rows": null,
            "height": null,
            "justify_content": null,
            "justify_items": null,
            "left": null,
            "margin": null,
            "max_height": null,
            "max_width": null,
            "min_height": null,
            "min_width": null,
            "object_fit": null,
            "object_position": null,
            "order": null,
            "overflow": null,
            "overflow_x": null,
            "overflow_y": null,
            "padding": null,
            "right": null,
            "top": null,
            "visibility": null,
            "width": null
          }
        },
        "9d4edc09ffd1449abdf72e3bc5b841c4": {
          "model_module": "@jupyter-widgets/controls",
          "model_module_version": "1.5.0",
          "model_name": "HTMLModel",
          "state": {
            "_dom_classes": [],
            "_model_module": "@jupyter-widgets/controls",
            "_model_module_version": "1.5.0",
            "_model_name": "HTMLModel",
            "_view_count": null,
            "_view_module": "@jupyter-widgets/controls",
            "_view_module_version": "1.5.0",
            "_view_name": "HTMLView",
            "description": "",
            "description_tooltip": null,
            "layout": "IPY_MODEL_2488fd4c8c784e45b0ec9f536f3015bf",
            "placeholder": "​",
            "style": "IPY_MODEL_59ba2b4bc983462a9bd49c47ed6bd8de",
            "value": " 2.28G/2.28G [00:12&lt;00:00, 177MB/s]"
          }
        },
        "9ee0f8dffa934149a2e54a23e96a38b0": {
          "model_module": "@jupyter-widgets/controls",
          "model_module_version": "1.5.0",
          "model_name": "HBoxModel",
          "state": {
            "_dom_classes": [],
            "_model_module": "@jupyter-widgets/controls",
            "_model_module_version": "1.5.0",
            "_model_name": "HBoxModel",
            "_view_count": null,
            "_view_module": "@jupyter-widgets/controls",
            "_view_module_version": "1.5.0",
            "_view_name": "HBoxView",
            "box_style": "",
            "children": [
              "IPY_MODEL_66db3b47d28840ecb4c4e8d2008fb6ea",
              "IPY_MODEL_3d6e0946bca042338cfd7f637fff0854",
              "IPY_MODEL_b8afc7434f4d4c33b1417debd23119fb"
            ],
            "layout": "IPY_MODEL_7dc6e586833440cfb4c3d7bfebabc3c7"
          }
        },
        "9f4717aa96304f43a2c9d09a2a918038": {
          "model_module": "@jupyter-widgets/controls",
          "model_module_version": "1.5.0",
          "model_name": "ProgressStyleModel",
          "state": {
            "_model_module": "@jupyter-widgets/controls",
            "_model_module_version": "1.5.0",
            "_model_name": "ProgressStyleModel",
            "_view_count": null,
            "_view_module": "@jupyter-widgets/base",
            "_view_module_version": "1.2.0",
            "_view_name": "StyleView",
            "bar_color": null,
            "description_width": ""
          }
        },
        "a0842a101c6c4d559c9285d1572579ef": {
          "model_module": "@jupyter-widgets/base",
          "model_module_version": "1.2.0",
          "model_name": "LayoutModel",
          "state": {
            "_model_module": "@jupyter-widgets/base",
            "_model_module_version": "1.2.0",
            "_model_name": "LayoutModel",
            "_view_count": null,
            "_view_module": "@jupyter-widgets/base",
            "_view_module_version": "1.2.0",
            "_view_name": "LayoutView",
            "align_content": null,
            "align_items": null,
            "align_self": null,
            "border": null,
            "bottom": null,
            "display": null,
            "flex": null,
            "flex_flow": null,
            "grid_area": null,
            "grid_auto_columns": null,
            "grid_auto_flow": null,
            "grid_auto_rows": null,
            "grid_column": null,
            "grid_gap": null,
            "grid_row": null,
            "grid_template_areas": null,
            "grid_template_columns": null,
            "grid_template_rows": null,
            "height": null,
            "justify_content": null,
            "justify_items": null,
            "left": null,
            "margin": null,
            "max_height": null,
            "max_width": null,
            "min_height": null,
            "min_width": null,
            "object_fit": null,
            "object_position": null,
            "order": null,
            "overflow": null,
            "overflow_x": null,
            "overflow_y": null,
            "padding": null,
            "right": null,
            "top": null,
            "visibility": null,
            "width": null
          }
        },
        "a0c899d0e80a4308a3c1e8c0bbf4f6be": {
          "model_module": "@jupyter-widgets/controls",
          "model_module_version": "1.5.0",
          "model_name": "HTMLModel",
          "state": {
            "_dom_classes": [],
            "_model_module": "@jupyter-widgets/controls",
            "_model_module_version": "1.5.0",
            "_model_name": "HTMLModel",
            "_view_count": null,
            "_view_module": "@jupyter-widgets/controls",
            "_view_module_version": "1.5.0",
            "_view_name": "HTMLView",
            "description": "",
            "description_tooltip": null,
            "layout": "IPY_MODEL_1a57e316c5d640c4943be2d789ec7356",
            "placeholder": "​",
            "style": "IPY_MODEL_58b923933a224b80ae500e89585dcbc4",
            "value": " 88.0/88.0 [00:00&lt;00:00, 7.61kB/s]"
          }
        },
        "a38c7a50a30a453f98d571f28e7bd1d5": {
          "model_module": "@jupyter-widgets/base",
          "model_module_version": "1.2.0",
          "model_name": "LayoutModel",
          "state": {
            "_model_module": "@jupyter-widgets/base",
            "_model_module_version": "1.2.0",
            "_model_name": "LayoutModel",
            "_view_count": null,
            "_view_module": "@jupyter-widgets/base",
            "_view_module_version": "1.2.0",
            "_view_name": "LayoutView",
            "align_content": null,
            "align_items": null,
            "align_self": null,
            "border": null,
            "bottom": null,
            "display": null,
            "flex": null,
            "flex_flow": null,
            "grid_area": null,
            "grid_auto_columns": null,
            "grid_auto_flow": null,
            "grid_auto_rows": null,
            "grid_column": null,
            "grid_gap": null,
            "grid_row": null,
            "grid_template_areas": null,
            "grid_template_columns": null,
            "grid_template_rows": null,
            "height": null,
            "justify_content": null,
            "justify_items": null,
            "left": null,
            "margin": null,
            "max_height": null,
            "max_width": null,
            "min_height": null,
            "min_width": null,
            "object_fit": null,
            "object_position": null,
            "order": null,
            "overflow": null,
            "overflow_x": null,
            "overflow_y": null,
            "padding": null,
            "right": null,
            "top": null,
            "visibility": null,
            "width": null
          }
        },
        "a42a55a6bff14e3fa7fc73ec481a2848": {
          "model_module": "@jupyter-widgets/controls",
          "model_module_version": "1.5.0",
          "model_name": "HTMLModel",
          "state": {
            "_dom_classes": [],
            "_model_module": "@jupyter-widgets/controls",
            "_model_module_version": "1.5.0",
            "_model_name": "HTMLModel",
            "_view_count": null,
            "_view_module": "@jupyter-widgets/controls",
            "_view_module_version": "1.5.0",
            "_view_name": "HTMLView",
            "description": "",
            "description_tooltip": null,
            "layout": "IPY_MODEL_931695e5d1214fe68fe2c2d7b2558e47",
            "placeholder": "​",
            "style": "IPY_MODEL_f2aa07aafd6a42cda948b914d0af553e",
            "value": " 1.91M/1.91M [00:00&lt;00:00, 16.2MB/s]"
          }
        },
        "a554ec1354c94383b377a9950990b94e": {
          "model_module": "@jupyter-widgets/base",
          "model_module_version": "1.2.0",
          "model_name": "LayoutModel",
          "state": {
            "_model_module": "@jupyter-widgets/base",
            "_model_module_version": "1.2.0",
            "_model_name": "LayoutModel",
            "_view_count": null,
            "_view_module": "@jupyter-widgets/base",
            "_view_module_version": "1.2.0",
            "_view_name": "LayoutView",
            "align_content": null,
            "align_items": null,
            "align_self": null,
            "border": null,
            "bottom": null,
            "display": null,
            "flex": null,
            "flex_flow": null,
            "grid_area": null,
            "grid_auto_columns": null,
            "grid_auto_flow": null,
            "grid_auto_rows": null,
            "grid_column": null,
            "grid_gap": null,
            "grid_row": null,
            "grid_template_areas": null,
            "grid_template_columns": null,
            "grid_template_rows": null,
            "height": null,
            "justify_content": null,
            "justify_items": null,
            "left": null,
            "margin": null,
            "max_height": null,
            "max_width": null,
            "min_height": null,
            "min_width": null,
            "object_fit": null,
            "object_position": null,
            "order": null,
            "overflow": null,
            "overflow_x": null,
            "overflow_y": null,
            "padding": null,
            "right": null,
            "top": null,
            "visibility": null,
            "width": null
          }
        },
        "a71e8c83b7c24ede94d2ab594d42c9bc": {
          "model_module": "@jupyter-widgets/controls",
          "model_module_version": "1.5.0",
          "model_name": "DescriptionStyleModel",
          "state": {
            "_model_module": "@jupyter-widgets/controls",
            "_model_module_version": "1.5.0",
            "_model_name": "DescriptionStyleModel",
            "_view_count": null,
            "_view_module": "@jupyter-widgets/base",
            "_view_module_version": "1.2.0",
            "_view_name": "StyleView",
            "description_width": ""
          }
        },
        "a85f55d4f8364cc884d192f126345d4f": {
          "model_module": "@jupyter-widgets/controls",
          "model_module_version": "1.5.0",
          "model_name": "HTMLModel",
          "state": {
            "_dom_classes": [],
            "_model_module": "@jupyter-widgets/controls",
            "_model_module_version": "1.5.0",
            "_model_name": "HTMLModel",
            "_view_count": null,
            "_view_module": "@jupyter-widgets/controls",
            "_view_module_version": "1.5.0",
            "_view_name": "HTMLView",
            "description": "",
            "description_tooltip": null,
            "layout": "IPY_MODEL_09b4fef230a349c688b94a270dbf458c",
            "placeholder": "​",
            "style": "IPY_MODEL_fbe7de5dd20f4019b799297bc6ab4270",
            "value": "Downloading (…)okenizer_config.json: 100%"
          }
        },
        "a8c0b853c7254950b2dd3c9e6adcc6bc": {
          "model_module": "@jupyter-widgets/controls",
          "model_module_version": "1.5.0",
          "model_name": "DescriptionStyleModel",
          "state": {
            "_model_module": "@jupyter-widgets/controls",
            "_model_module_version": "1.5.0",
            "_model_name": "DescriptionStyleModel",
            "_view_count": null,
            "_view_module": "@jupyter-widgets/base",
            "_view_module_version": "1.2.0",
            "_view_name": "StyleView",
            "description_width": ""
          }
        },
        "a99d0f92d4a24361b3982066d64a4481": {
          "model_module": "@jupyter-widgets/base",
          "model_module_version": "1.2.0",
          "model_name": "LayoutModel",
          "state": {
            "_model_module": "@jupyter-widgets/base",
            "_model_module_version": "1.2.0",
            "_model_name": "LayoutModel",
            "_view_count": null,
            "_view_module": "@jupyter-widgets/base",
            "_view_module_version": "1.2.0",
            "_view_name": "LayoutView",
            "align_content": null,
            "align_items": null,
            "align_self": null,
            "border": null,
            "bottom": null,
            "display": null,
            "flex": null,
            "flex_flow": null,
            "grid_area": null,
            "grid_auto_columns": null,
            "grid_auto_flow": null,
            "grid_auto_rows": null,
            "grid_column": null,
            "grid_gap": null,
            "grid_row": null,
            "grid_template_areas": null,
            "grid_template_columns": null,
            "grid_template_rows": null,
            "height": null,
            "justify_content": null,
            "justify_items": null,
            "left": null,
            "margin": null,
            "max_height": null,
            "max_width": null,
            "min_height": null,
            "min_width": null,
            "object_fit": null,
            "object_position": null,
            "order": null,
            "overflow": null,
            "overflow_x": null,
            "overflow_y": null,
            "padding": null,
            "right": null,
            "top": null,
            "visibility": null,
            "width": null
          }
        },
        "aad02bcd58254f19a56e5a62a2d64033": {
          "model_module": "@jupyter-widgets/base",
          "model_module_version": "1.2.0",
          "model_name": "LayoutModel",
          "state": {
            "_model_module": "@jupyter-widgets/base",
            "_model_module_version": "1.2.0",
            "_model_name": "LayoutModel",
            "_view_count": null,
            "_view_module": "@jupyter-widgets/base",
            "_view_module_version": "1.2.0",
            "_view_name": "LayoutView",
            "align_content": null,
            "align_items": null,
            "align_self": null,
            "border": null,
            "bottom": null,
            "display": null,
            "flex": null,
            "flex_flow": null,
            "grid_area": null,
            "grid_auto_columns": null,
            "grid_auto_flow": null,
            "grid_auto_rows": null,
            "grid_column": null,
            "grid_gap": null,
            "grid_row": null,
            "grid_template_areas": null,
            "grid_template_columns": null,
            "grid_template_rows": null,
            "height": null,
            "justify_content": null,
            "justify_items": null,
            "left": null,
            "margin": null,
            "max_height": null,
            "max_width": null,
            "min_height": null,
            "min_width": null,
            "object_fit": null,
            "object_position": null,
            "order": null,
            "overflow": null,
            "overflow_x": null,
            "overflow_y": null,
            "padding": null,
            "right": null,
            "top": null,
            "visibility": null,
            "width": null
          }
        },
        "aba2fd042f8a45aea893d134df4ea8b5": {
          "model_module": "@jupyter-widgets/base",
          "model_module_version": "1.2.0",
          "model_name": "LayoutModel",
          "state": {
            "_model_module": "@jupyter-widgets/base",
            "_model_module_version": "1.2.0",
            "_model_name": "LayoutModel",
            "_view_count": null,
            "_view_module": "@jupyter-widgets/base",
            "_view_module_version": "1.2.0",
            "_view_name": "LayoutView",
            "align_content": null,
            "align_items": null,
            "align_self": null,
            "border": null,
            "bottom": null,
            "display": null,
            "flex": null,
            "flex_flow": null,
            "grid_area": null,
            "grid_auto_columns": null,
            "grid_auto_flow": null,
            "grid_auto_rows": null,
            "grid_column": null,
            "grid_gap": null,
            "grid_row": null,
            "grid_template_areas": null,
            "grid_template_columns": null,
            "grid_template_rows": null,
            "height": null,
            "justify_content": null,
            "justify_items": null,
            "left": null,
            "margin": null,
            "max_height": null,
            "max_width": null,
            "min_height": null,
            "min_width": null,
            "object_fit": null,
            "object_position": null,
            "order": null,
            "overflow": null,
            "overflow_x": null,
            "overflow_y": null,
            "padding": null,
            "right": null,
            "top": null,
            "visibility": null,
            "width": null
          }
        },
        "ac0f97c0fa1c4fff82366066b7f4a802": {
          "model_module": "@jupyter-widgets/controls",
          "model_module_version": "1.5.0",
          "model_name": "HBoxModel",
          "state": {
            "_dom_classes": [],
            "_model_module": "@jupyter-widgets/controls",
            "_model_module_version": "1.5.0",
            "_model_name": "HBoxModel",
            "_view_count": null,
            "_view_module": "@jupyter-widgets/controls",
            "_view_module_version": "1.5.0",
            "_view_name": "HBoxView",
            "box_style": "",
            "children": [
              "IPY_MODEL_b539eb7404a84e3ab5d453c2e7c3834e",
              "IPY_MODEL_403a89651fd0480786a9fdb2b381b70f",
              "IPY_MODEL_35a4d5f48f7f4fbe8222e1adf6fe2f45"
            ],
            "layout": "IPY_MODEL_e6bb4a74f12040d599ba16a22d346b19"
          }
        },
        "ac95a1e5cf4a4e80b6864d8e0b2e0986": {
          "model_module": "@jupyter-widgets/controls",
          "model_module_version": "1.5.0",
          "model_name": "HBoxModel",
          "state": {
            "_dom_classes": [],
            "_model_module": "@jupyter-widgets/controls",
            "_model_module_version": "1.5.0",
            "_model_name": "HBoxModel",
            "_view_count": null,
            "_view_module": "@jupyter-widgets/controls",
            "_view_module_version": "1.5.0",
            "_view_name": "HBoxView",
            "box_style": "",
            "children": [
              "IPY_MODEL_388e02b51c804d53a227d7e6d518209a",
              "IPY_MODEL_d5f27739f98c451f855eb4ae0ba36a97",
              "IPY_MODEL_8f6215b1be2349db95f7cbedf4e360b9"
            ],
            "layout": "IPY_MODEL_fffbe74a2e1444bc95bbd76e23bdaa89"
          }
        },
        "b0263f4e70774d44a440162fe42b7c7e": {
          "model_module": "@jupyter-widgets/controls",
          "model_module_version": "1.5.0",
          "model_name": "FloatProgressModel",
          "state": {
            "_dom_classes": [],
            "_model_module": "@jupyter-widgets/controls",
            "_model_module_version": "1.5.0",
            "_model_name": "FloatProgressModel",
            "_view_count": null,
            "_view_module": "@jupyter-widgets/controls",
            "_view_module_version": "1.5.0",
            "_view_name": "ProgressView",
            "bar_style": "",
            "description": "",
            "description_tooltip": null,
            "layout": "IPY_MODEL_a99d0f92d4a24361b3982066d64a4481",
            "max": 287113,
            "min": 0,
            "orientation": "horizontal",
            "style": "IPY_MODEL_1191d950c5b8423a9510f63b7ec91da7",
            "value": 287113
          }
        },
        "b10a7bc17da44fdd996bb46ee1ecabfc": {
          "model_module": "@jupyter-widgets/controls",
          "model_module_version": "1.5.0",
          "model_name": "ProgressStyleModel",
          "state": {
            "_model_module": "@jupyter-widgets/controls",
            "_model_module_version": "1.5.0",
            "_model_name": "ProgressStyleModel",
            "_view_count": null,
            "_view_module": "@jupyter-widgets/base",
            "_view_module_version": "1.2.0",
            "_view_name": "StyleView",
            "bar_color": null,
            "description_width": ""
          }
        },
        "b2752b1e927b4c17825b658275ba47af": {
          "model_module": "@jupyter-widgets/base",
          "model_module_version": "1.2.0",
          "model_name": "LayoutModel",
          "state": {
            "_model_module": "@jupyter-widgets/base",
            "_model_module_version": "1.2.0",
            "_model_name": "LayoutModel",
            "_view_count": null,
            "_view_module": "@jupyter-widgets/base",
            "_view_module_version": "1.2.0",
            "_view_name": "LayoutView",
            "align_content": null,
            "align_items": null,
            "align_self": null,
            "border": null,
            "bottom": null,
            "display": null,
            "flex": null,
            "flex_flow": null,
            "grid_area": null,
            "grid_auto_columns": null,
            "grid_auto_flow": null,
            "grid_auto_rows": null,
            "grid_column": null,
            "grid_gap": null,
            "grid_row": null,
            "grid_template_areas": null,
            "grid_template_columns": null,
            "grid_template_rows": null,
            "height": null,
            "justify_content": null,
            "justify_items": null,
            "left": null,
            "margin": null,
            "max_height": null,
            "max_width": null,
            "min_height": null,
            "min_width": null,
            "object_fit": null,
            "object_position": null,
            "order": null,
            "overflow": null,
            "overflow_x": null,
            "overflow_y": null,
            "padding": null,
            "right": null,
            "top": null,
            "visibility": null,
            "width": null
          }
        },
        "b3b4fc05866247148279453c85f45c20": {
          "model_module": "@jupyter-widgets/controls",
          "model_module_version": "1.5.0",
          "model_name": "FloatProgressModel",
          "state": {
            "_dom_classes": [],
            "_model_module": "@jupyter-widgets/controls",
            "_model_module_version": "1.5.0",
            "_model_name": "FloatProgressModel",
            "_view_count": null,
            "_view_module": "@jupyter-widgets/controls",
            "_view_module_version": "1.5.0",
            "_view_name": "ProgressView",
            "bar_style": "success",
            "description": "",
            "description_tooltip": null,
            "layout": "IPY_MODEL_2df1d0f08af4422e8661a44a6412bc1d",
            "max": 88,
            "min": 0,
            "orientation": "horizontal",
            "style": "IPY_MODEL_d5f090da05ef44d4a682e9d0d662e034",
            "value": 88
          }
        },
        "b539eb7404a84e3ab5d453c2e7c3834e": {
          "model_module": "@jupyter-widgets/controls",
          "model_module_version": "1.5.0",
          "model_name": "HTMLModel",
          "state": {
            "_dom_classes": [],
            "_model_module": "@jupyter-widgets/controls",
            "_model_module_version": "1.5.0",
            "_model_name": "HTMLModel",
            "_view_count": null,
            "_view_module": "@jupyter-widgets/controls",
            "_view_module_version": "1.5.0",
            "_view_name": "HTMLView",
            "description": "",
            "description_tooltip": null,
            "layout": "IPY_MODEL_48454e8e281d485c8e645bae0e18542c",
            "placeholder": "​",
            "style": "IPY_MODEL_7c339a38838142eaaa2d6e7c1abef2ea",
            "value": "Downloading pytorch_model.bin: 100%"
          }
        },
        "b5da637577e349ee9aaa92b9b17f9d1a": {
          "model_module": "@jupyter-widgets/base",
          "model_module_version": "1.2.0",
          "model_name": "LayoutModel",
          "state": {
            "_model_module": "@jupyter-widgets/base",
            "_model_module_version": "1.2.0",
            "_model_name": "LayoutModel",
            "_view_count": null,
            "_view_module": "@jupyter-widgets/base",
            "_view_module_version": "1.2.0",
            "_view_name": "LayoutView",
            "align_content": null,
            "align_items": null,
            "align_self": null,
            "border": null,
            "bottom": null,
            "display": null,
            "flex": null,
            "flex_flow": null,
            "grid_area": null,
            "grid_auto_columns": null,
            "grid_auto_flow": null,
            "grid_auto_rows": null,
            "grid_column": null,
            "grid_gap": null,
            "grid_row": null,
            "grid_template_areas": null,
            "grid_template_columns": null,
            "grid_template_rows": null,
            "height": null,
            "justify_content": null,
            "justify_items": null,
            "left": null,
            "margin": null,
            "max_height": null,
            "max_width": null,
            "min_height": null,
            "min_width": null,
            "object_fit": null,
            "object_position": null,
            "order": null,
            "overflow": null,
            "overflow_x": null,
            "overflow_y": null,
            "padding": null,
            "right": null,
            "top": null,
            "visibility": null,
            "width": null
          }
        },
        "b7486af753a44c54a62b6821d67acf9e": {
          "model_module": "@jupyter-widgets/controls",
          "model_module_version": "1.5.0",
          "model_name": "DescriptionStyleModel",
          "state": {
            "_model_module": "@jupyter-widgets/controls",
            "_model_module_version": "1.5.0",
            "_model_name": "DescriptionStyleModel",
            "_view_count": null,
            "_view_module": "@jupyter-widgets/base",
            "_view_module_version": "1.2.0",
            "_view_name": "StyleView",
            "description_width": ""
          }
        },
        "b78375ab61fc4bc5b61b633aaa432066": {
          "model_module": "@jupyter-widgets/controls",
          "model_module_version": "1.5.0",
          "model_name": "DescriptionStyleModel",
          "state": {
            "_model_module": "@jupyter-widgets/controls",
            "_model_module_version": "1.5.0",
            "_model_name": "DescriptionStyleModel",
            "_view_count": null,
            "_view_module": "@jupyter-widgets/base",
            "_view_module_version": "1.2.0",
            "_view_name": "StyleView",
            "description_width": ""
          }
        },
        "b8afc7434f4d4c33b1417debd23119fb": {
          "model_module": "@jupyter-widgets/controls",
          "model_module_version": "1.5.0",
          "model_name": "HTMLModel",
          "state": {
            "_dom_classes": [],
            "_model_module": "@jupyter-widgets/controls",
            "_model_module_version": "1.5.0",
            "_model_name": "HTMLModel",
            "_view_count": null,
            "_view_module": "@jupyter-widgets/controls",
            "_view_module_version": "1.5.0",
            "_view_name": "HTMLView",
            "description": "",
            "description_tooltip": null,
            "layout": "IPY_MODEL_13833e47a6bc473c9397cc86fe1febd3",
            "placeholder": "​",
            "style": "IPY_MODEL_e91dd1b959cf43828602c0cc6813916e",
            "value": " 1.91M/1.91M [00:00&lt;00:00, 21.7MB/s]"
          }
        },
        "b8baf3b0679046d78abc05934b1498e9": {
          "model_module": "@jupyter-widgets/controls",
          "model_module_version": "1.5.0",
          "model_name": "HBoxModel",
          "state": {
            "_dom_classes": [],
            "_model_module": "@jupyter-widgets/controls",
            "_model_module_version": "1.5.0",
            "_model_name": "HBoxModel",
            "_view_count": null,
            "_view_module": "@jupyter-widgets/controls",
            "_view_module_version": "1.5.0",
            "_view_name": "HBoxView",
            "box_style": "",
            "children": [
              "IPY_MODEL_72407edbcdbd42b0a6b2853694c3dbce",
              "IPY_MODEL_b0263f4e70774d44a440162fe42b7c7e",
              "IPY_MODEL_dd5ca4e62f4d41ae8ea73a27788544a7"
            ],
            "layout": "IPY_MODEL_2eccbe1b9de14bf298053bf187ce128b"
          }
        },
        "b8ec7736d60448c4b50bc15318307b25": {
          "model_module": "@jupyter-widgets/base",
          "model_module_version": "1.2.0",
          "model_name": "LayoutModel",
          "state": {
            "_model_module": "@jupyter-widgets/base",
            "_model_module_version": "1.2.0",
            "_model_name": "LayoutModel",
            "_view_count": null,
            "_view_module": "@jupyter-widgets/base",
            "_view_module_version": "1.2.0",
            "_view_name": "LayoutView",
            "align_content": null,
            "align_items": null,
            "align_self": null,
            "border": null,
            "bottom": null,
            "display": null,
            "flex": null,
            "flex_flow": null,
            "grid_area": null,
            "grid_auto_columns": null,
            "grid_auto_flow": null,
            "grid_auto_rows": null,
            "grid_column": null,
            "grid_gap": null,
            "grid_row": null,
            "grid_template_areas": null,
            "grid_template_columns": null,
            "grid_template_rows": null,
            "height": null,
            "justify_content": null,
            "justify_items": null,
            "left": null,
            "margin": null,
            "max_height": null,
            "max_width": null,
            "min_height": null,
            "min_width": null,
            "object_fit": null,
            "object_position": null,
            "order": null,
            "overflow": null,
            "overflow_x": null,
            "overflow_y": null,
            "padding": null,
            "right": null,
            "top": null,
            "visibility": null,
            "width": null
          }
        },
        "b9f7b2bcd1c44768a946e594b015a20d": {
          "model_module": "@jupyter-widgets/controls",
          "model_module_version": "1.5.0",
          "model_name": "HTMLModel",
          "state": {
            "_dom_classes": [],
            "_model_module": "@jupyter-widgets/controls",
            "_model_module_version": "1.5.0",
            "_model_name": "HTMLModel",
            "_view_count": null,
            "_view_module": "@jupyter-widgets/controls",
            "_view_module_version": "1.5.0",
            "_view_name": "HTMLView",
            "description": "",
            "description_tooltip": null,
            "layout": "IPY_MODEL_6385a84335944b47b64f0eaaa9f0b7a4",
            "placeholder": "​",
            "style": "IPY_MODEL_a8c0b853c7254950b2dd3c9e6adcc6bc",
            "value": " 88.0/88.0 [00:00&lt;00:00, 8.03kB/s]"
          }
        },
        "bcdaa5e0c48346a1932b7dab9185d678": {
          "model_module": "@jupyter-widgets/controls",
          "model_module_version": "1.5.0",
          "model_name": "FloatProgressModel",
          "state": {
            "_dom_classes": [],
            "_model_module": "@jupyter-widgets/controls",
            "_model_module_version": "1.5.0",
            "_model_name": "FloatProgressModel",
            "_view_count": null,
            "_view_module": "@jupyter-widgets/controls",
            "_view_module_version": "1.5.0",
            "_view_name": "ProgressView",
            "bar_style": "success",
            "description": "",
            "description_tooltip": null,
            "layout": "IPY_MODEL_7aed088259664092bea28c4e1fe527cf",
            "max": 1912529,
            "min": 0,
            "orientation": "horizontal",
            "style": "IPY_MODEL_1936795c4b6b4d27818de8cbad0a8771",
            "value": 1912529
          }
        },
        "bfaf21c852b148e9b3613a27670dc607": {
          "model_module": "@jupyter-widgets/controls",
          "model_module_version": "1.5.0",
          "model_name": "ProgressStyleModel",
          "state": {
            "_model_module": "@jupyter-widgets/controls",
            "_model_module_version": "1.5.0",
            "_model_name": "ProgressStyleModel",
            "_view_count": null,
            "_view_module": "@jupyter-widgets/base",
            "_view_module_version": "1.2.0",
            "_view_name": "StyleView",
            "bar_color": null,
            "description_width": ""
          }
        },
        "c168590ebc1342f78e7ef69dc4f44dfc": {
          "model_module": "@jupyter-widgets/controls",
          "model_module_version": "1.5.0",
          "model_name": "HTMLModel",
          "state": {
            "_dom_classes": [],
            "_model_module": "@jupyter-widgets/controls",
            "_model_module_version": "1.5.0",
            "_model_name": "HTMLModel",
            "_view_count": null,
            "_view_module": "@jupyter-widgets/controls",
            "_view_module_version": "1.5.0",
            "_view_name": "HTMLView",
            "description": "",
            "description_tooltip": null,
            "layout": "IPY_MODEL_739cf710358447208e834b2506eacd50",
            "placeholder": "​",
            "style": "IPY_MODEL_03bbfbcd922d4b0db7e6e9966a549ce2",
            "value": " 3.09k/3.09k [00:00&lt;00:00, 264kB/s]"
          }
        },
        "c229cb9c0dda4e82a067b291f63ab94e": {
          "model_module": "@jupyter-widgets/controls",
          "model_module_version": "1.5.0",
          "model_name": "DescriptionStyleModel",
          "state": {
            "_model_module": "@jupyter-widgets/controls",
            "_model_module_version": "1.5.0",
            "_model_name": "DescriptionStyleModel",
            "_view_count": null,
            "_view_module": "@jupyter-widgets/base",
            "_view_module_version": "1.2.0",
            "_view_name": "StyleView",
            "description_width": ""
          }
        },
        "c726de93c7dd451788aafe827a79fc17": {
          "model_module": "@jupyter-widgets/controls",
          "model_module_version": "1.5.0",
          "model_name": "ProgressStyleModel",
          "state": {
            "_model_module": "@jupyter-widgets/controls",
            "_model_module_version": "1.5.0",
            "_model_name": "ProgressStyleModel",
            "_view_count": null,
            "_view_module": "@jupyter-widgets/base",
            "_view_module_version": "1.2.0",
            "_view_name": "StyleView",
            "bar_color": null,
            "description_width": ""
          }
        },
        "c90cd9e3f41646b390bc2bb7ff9ee1bc": {
          "model_module": "@jupyter-widgets/controls",
          "model_module_version": "1.5.0",
          "model_name": "DescriptionStyleModel",
          "state": {
            "_model_module": "@jupyter-widgets/controls",
            "_model_module_version": "1.5.0",
            "_model_name": "DescriptionStyleModel",
            "_view_count": null,
            "_view_module": "@jupyter-widgets/base",
            "_view_module_version": "1.2.0",
            "_view_name": "StyleView",
            "description_width": ""
          }
        },
        "c932792e066f485f88e39b70508dda0d": {
          "model_module": "@jupyter-widgets/base",
          "model_module_version": "1.2.0",
          "model_name": "LayoutModel",
          "state": {
            "_model_module": "@jupyter-widgets/base",
            "_model_module_version": "1.2.0",
            "_model_name": "LayoutModel",
            "_view_count": null,
            "_view_module": "@jupyter-widgets/base",
            "_view_module_version": "1.2.0",
            "_view_name": "LayoutView",
            "align_content": null,
            "align_items": null,
            "align_self": null,
            "border": null,
            "bottom": null,
            "display": null,
            "flex": null,
            "flex_flow": null,
            "grid_area": null,
            "grid_auto_columns": null,
            "grid_auto_flow": null,
            "grid_auto_rows": null,
            "grid_column": null,
            "grid_gap": null,
            "grid_row": null,
            "grid_template_areas": null,
            "grid_template_columns": null,
            "grid_template_rows": null,
            "height": null,
            "justify_content": null,
            "justify_items": null,
            "left": null,
            "margin": null,
            "max_height": null,
            "max_width": null,
            "min_height": null,
            "min_width": null,
            "object_fit": null,
            "object_position": null,
            "order": null,
            "overflow": null,
            "overflow_x": null,
            "overflow_y": null,
            "padding": null,
            "right": null,
            "top": null,
            "visibility": null,
            "width": null
          }
        },
        "c9485ef21866415380d22f7ddef87f8d": {
          "model_module": "@jupyter-widgets/base",
          "model_module_version": "1.2.0",
          "model_name": "LayoutModel",
          "state": {
            "_model_module": "@jupyter-widgets/base",
            "_model_module_version": "1.2.0",
            "_model_name": "LayoutModel",
            "_view_count": null,
            "_view_module": "@jupyter-widgets/base",
            "_view_module_version": "1.2.0",
            "_view_name": "LayoutView",
            "align_content": null,
            "align_items": null,
            "align_self": null,
            "border": null,
            "bottom": null,
            "display": null,
            "flex": null,
            "flex_flow": null,
            "grid_area": null,
            "grid_auto_columns": null,
            "grid_auto_flow": null,
            "grid_auto_rows": null,
            "grid_column": null,
            "grid_gap": null,
            "grid_row": null,
            "grid_template_areas": null,
            "grid_template_columns": null,
            "grid_template_rows": null,
            "height": null,
            "justify_content": null,
            "justify_items": null,
            "left": null,
            "margin": null,
            "max_height": null,
            "max_width": null,
            "min_height": null,
            "min_width": null,
            "object_fit": null,
            "object_position": null,
            "order": null,
            "overflow": null,
            "overflow_x": null,
            "overflow_y": null,
            "padding": null,
            "right": null,
            "top": null,
            "visibility": null,
            "width": null
          }
        },
        "c9d385d24f1c4fe5a1adddab3e3f85e8": {
          "model_module": "@jupyter-widgets/controls",
          "model_module_version": "1.5.0",
          "model_name": "HBoxModel",
          "state": {
            "_dom_classes": [],
            "_model_module": "@jupyter-widgets/controls",
            "_model_module_version": "1.5.0",
            "_model_name": "HBoxModel",
            "_view_count": null,
            "_view_module": "@jupyter-widgets/controls",
            "_view_module_version": "1.5.0",
            "_view_name": "HBoxView",
            "box_style": "",
            "children": [
              "IPY_MODEL_771c0d62cd2b47c6abf5d7a5bf796421",
              "IPY_MODEL_d4bf8d6c642440ecb050495a238fbac1",
              "IPY_MODEL_1181e9ad383d4e6a8271503d0aa2ac5d"
            ],
            "layout": "IPY_MODEL_e92faf2059c1401e90717c35896570cd"
          }
        },
        "cef7a33a16df422e9b894764f7f61345": {
          "model_module": "@jupyter-widgets/controls",
          "model_module_version": "1.5.0",
          "model_name": "HTMLModel",
          "state": {
            "_dom_classes": [],
            "_model_module": "@jupyter-widgets/controls",
            "_model_module_version": "1.5.0",
            "_model_name": "HTMLModel",
            "_view_count": null,
            "_view_module": "@jupyter-widgets/controls",
            "_view_module_version": "1.5.0",
            "_view_name": "HTMLView",
            "description": "",
            "description_tooltip": null,
            "layout": "IPY_MODEL_45f7131636d14f1b86aab9247286f698",
            "placeholder": "​",
            "style": "IPY_MODEL_2b7b9e0a992b49dca7d3d14bc6e0bff4",
            "value": "Downloading (…)cial_tokens_map.json: 100%"
          }
        },
        "d0e7728a459e474fb8413c92c1ef78ce": {
          "model_module": "@jupyter-widgets/base",
          "model_module_version": "1.2.0",
          "model_name": "LayoutModel",
          "state": {
            "_model_module": "@jupyter-widgets/base",
            "_model_module_version": "1.2.0",
            "_model_name": "LayoutModel",
            "_view_count": null,
            "_view_module": "@jupyter-widgets/base",
            "_view_module_version": "1.2.0",
            "_view_name": "LayoutView",
            "align_content": null,
            "align_items": null,
            "align_self": null,
            "border": null,
            "bottom": null,
            "display": null,
            "flex": null,
            "flex_flow": null,
            "grid_area": null,
            "grid_auto_columns": null,
            "grid_auto_flow": null,
            "grid_auto_rows": null,
            "grid_column": null,
            "grid_gap": null,
            "grid_row": null,
            "grid_template_areas": null,
            "grid_template_columns": null,
            "grid_template_rows": null,
            "height": null,
            "justify_content": null,
            "justify_items": null,
            "left": null,
            "margin": null,
            "max_height": null,
            "max_width": null,
            "min_height": null,
            "min_width": null,
            "object_fit": null,
            "object_position": null,
            "order": null,
            "overflow": null,
            "overflow_x": null,
            "overflow_y": null,
            "padding": null,
            "right": null,
            "top": null,
            "visibility": null,
            "width": null
          }
        },
        "d3062bf7bf204baa9d1b566680db8817": {
          "model_module": "@jupyter-widgets/controls",
          "model_module_version": "1.5.0",
          "model_name": "HBoxModel",
          "state": {
            "_dom_classes": [],
            "_model_module": "@jupyter-widgets/controls",
            "_model_module_version": "1.5.0",
            "_model_name": "HBoxModel",
            "_view_count": null,
            "_view_module": "@jupyter-widgets/controls",
            "_view_module_version": "1.5.0",
            "_view_name": "HBoxView",
            "box_style": "",
            "children": [
              "IPY_MODEL_179f3f2650634b6e9bdd4326c37bbb8c",
              "IPY_MODEL_dd7f8cd2e07d402a900aac39db2da462",
              "IPY_MODEL_fca72dad12ea48578fcdab47c704e262"
            ],
            "layout": "IPY_MODEL_7adfbda825644341ad38770c45f79bdc"
          }
        },
        "d4bf8d6c642440ecb050495a238fbac1": {
          "model_module": "@jupyter-widgets/controls",
          "model_module_version": "1.5.0",
          "model_name": "FloatProgressModel",
          "state": {
            "_dom_classes": [],
            "_model_module": "@jupyter-widgets/controls",
            "_model_module_version": "1.5.0",
            "_model_name": "FloatProgressModel",
            "_view_count": null,
            "_view_module": "@jupyter-widgets/controls",
            "_view_module_version": "1.5.0",
            "_view_name": "ProgressView",
            "bar_style": "success",
            "description": "",
            "description_tooltip": null,
            "layout": "IPY_MODEL_391831381e1049838e206e44086ec336",
            "max": 280,
            "min": 0,
            "orientation": "horizontal",
            "style": "IPY_MODEL_8c342f5411f94d289cacce378d1c95c2",
            "value": 280
          }
        },
        "d55d96f897e24e5ab57598d0b1aba7dc": {
          "model_module": "@jupyter-widgets/controls",
          "model_module_version": "1.5.0",
          "model_name": "HTMLModel",
          "state": {
            "_dom_classes": [],
            "_model_module": "@jupyter-widgets/controls",
            "_model_module_version": "1.5.0",
            "_model_name": "HTMLModel",
            "_view_count": null,
            "_view_module": "@jupyter-widgets/controls",
            "_view_module_version": "1.5.0",
            "_view_name": "HTMLView",
            "description": "",
            "description_tooltip": null,
            "layout": "IPY_MODEL_67ae888ff5f9450383a384862a52a896",
            "placeholder": "​",
            "style": "IPY_MODEL_5eec0ba18c5e4c6f84076167cd5e5074",
            "value": "Map: 100%"
          }
        },
        "d5f090da05ef44d4a682e9d0d662e034": {
          "model_module": "@jupyter-widgets/controls",
          "model_module_version": "1.5.0",
          "model_name": "ProgressStyleModel",
          "state": {
            "_model_module": "@jupyter-widgets/controls",
            "_model_module_version": "1.5.0",
            "_model_name": "ProgressStyleModel",
            "_view_count": null,
            "_view_module": "@jupyter-widgets/base",
            "_view_module_version": "1.2.0",
            "_view_name": "StyleView",
            "bar_color": null,
            "description_width": ""
          }
        },
        "d5f27739f98c451f855eb4ae0ba36a97": {
          "model_module": "@jupyter-widgets/controls",
          "model_module_version": "1.5.0",
          "model_name": "FloatProgressModel",
          "state": {
            "_dom_classes": [],
            "_model_module": "@jupyter-widgets/controls",
            "_model_module_version": "1.5.0",
            "_model_name": "FloatProgressModel",
            "_view_count": null,
            "_view_module": "@jupyter-widgets/controls",
            "_view_module_version": "1.5.0",
            "_view_name": "ProgressView",
            "bar_style": "success",
            "description": "",
            "description_tooltip": null,
            "layout": "IPY_MODEL_58b6dffaa7bd47ff98626559714d7701",
            "max": 3,
            "min": 0,
            "orientation": "horizontal",
            "style": "IPY_MODEL_d8c9e2d23da94287a55af335bbf89477",
            "value": 3
          }
        },
        "d66c2baa5a7c4ef7978870fb0379dc44": {
          "model_module": "@jupyter-widgets/controls",
          "model_module_version": "1.5.0",
          "model_name": "HBoxModel",
          "state": {
            "_dom_classes": [],
            "_model_module": "@jupyter-widgets/controls",
            "_model_module_version": "1.5.0",
            "_model_name": "HBoxModel",
            "_view_count": null,
            "_view_module": "@jupyter-widgets/controls",
            "_view_module_version": "1.5.0",
            "_view_name": "HBoxView",
            "box_style": "",
            "children": [
              "IPY_MODEL_a85f55d4f8364cc884d192f126345d4f",
              "IPY_MODEL_b3b4fc05866247148279453c85f45c20",
              "IPY_MODEL_b9f7b2bcd1c44768a946e594b015a20d"
            ],
            "layout": "IPY_MODEL_612f3998a538467d89666719bff3522a"
          }
        },
        "d6b738b77c874be390c19eb4ffe99ef4": {
          "model_module": "@jupyter-widgets/controls",
          "model_module_version": "1.5.0",
          "model_name": "HTMLModel",
          "state": {
            "_dom_classes": [],
            "_model_module": "@jupyter-widgets/controls",
            "_model_module_version": "1.5.0",
            "_model_name": "HTMLModel",
            "_view_count": null,
            "_view_module": "@jupyter-widgets/controls",
            "_view_module_version": "1.5.0",
            "_view_name": "HTMLView",
            "description": "",
            "description_tooltip": null,
            "layout": "IPY_MODEL_d0e7728a459e474fb8413c92c1ef78ce",
            "placeholder": "​",
            "style": "IPY_MODEL_44c0406f0f104d209ec765c5dd247e5a",
            "value": "Downloading (…)lve/main/config.json: 100%"
          }
        },
        "d8c9e2d23da94287a55af335bbf89477": {
          "model_module": "@jupyter-widgets/controls",
          "model_module_version": "1.5.0",
          "model_name": "ProgressStyleModel",
          "state": {
            "_model_module": "@jupyter-widgets/controls",
            "_model_module_version": "1.5.0",
            "_model_name": "ProgressStyleModel",
            "_view_count": null,
            "_view_module": "@jupyter-widgets/base",
            "_view_module_version": "1.2.0",
            "_view_name": "StyleView",
            "bar_color": null,
            "description_width": ""
          }
        },
        "dae2e95e05fc4bcaa4c4e08fe4494d26": {
          "model_module": "@jupyter-widgets/controls",
          "model_module_version": "1.5.0",
          "model_name": "FloatProgressModel",
          "state": {
            "_dom_classes": [],
            "_model_module": "@jupyter-widgets/controls",
            "_model_module_version": "1.5.0",
            "_model_name": "FloatProgressModel",
            "_view_count": null,
            "_view_module": "@jupyter-widgets/controls",
            "_view_module_version": "1.5.0",
            "_view_name": "ProgressView",
            "bar_style": "success",
            "description": "",
            "description_tooltip": null,
            "layout": "IPY_MODEL_677763b5d5df4b9098b8bcb75d3f13b8",
            "max": 1120,
            "min": 0,
            "orientation": "horizontal",
            "style": "IPY_MODEL_53aae45a69ec4934b4bd01851af94370",
            "value": 1120
          }
        },
        "dbddca6f05f2448c97ad6133f6292c9b": {
          "model_module": "@jupyter-widgets/controls",
          "model_module_version": "1.5.0",
          "model_name": "DescriptionStyleModel",
          "state": {
            "_model_module": "@jupyter-widgets/controls",
            "_model_module_version": "1.5.0",
            "_model_name": "DescriptionStyleModel",
            "_view_count": null,
            "_view_module": "@jupyter-widgets/base",
            "_view_module_version": "1.2.0",
            "_view_name": "StyleView",
            "description_width": ""
          }
        },
        "dd5ca4e62f4d41ae8ea73a27788544a7": {
          "model_module": "@jupyter-widgets/controls",
          "model_module_version": "1.5.0",
          "model_name": "HTMLModel",
          "state": {
            "_dom_classes": [],
            "_model_module": "@jupyter-widgets/controls",
            "_model_module_version": "1.5.0",
            "_model_name": "HTMLModel",
            "_view_count": null,
            "_view_module": "@jupyter-widgets/controls",
            "_view_module_version": "1.5.0",
            "_view_name": "HTMLView",
            "description": "",
            "description_tooltip": null,
            "layout": "IPY_MODEL_17134cd480a2457192d8ad28d3bf93d8",
            "placeholder": "​",
            "style": "IPY_MODEL_0b30de618feb4163aa2cd5cf6ef737ca",
            "value": " 287000/287113 [03:11&lt;00:00, 1413.78 examples/s]"
          }
        },
        "dd7f8cd2e07d402a900aac39db2da462": {
          "model_module": "@jupyter-widgets/controls",
          "model_module_version": "1.5.0",
          "model_name": "FloatProgressModel",
          "state": {
            "_dom_classes": [],
            "_model_module": "@jupyter-widgets/controls",
            "_model_module_version": "1.5.0",
            "_model_name": "FloatProgressModel",
            "_view_count": null,
            "_view_module": "@jupyter-widgets/controls",
            "_view_module_version": "1.5.0",
            "_view_name": "ProgressView",
            "bar_style": "",
            "description": "",
            "description_tooltip": null,
            "layout": "IPY_MODEL_6466fba593514a7b96f970f11b2f4a96",
            "max": 13368,
            "min": 0,
            "orientation": "horizontal",
            "style": "IPY_MODEL_24c3b0f0920c44b3a4b185d4612838f9",
            "value": 13368
          }
        },
        "dedfa760765d4208af6102e1a5b5ae89": {
          "model_module": "@jupyter-widgets/controls",
          "model_module_version": "1.5.0",
          "model_name": "FloatProgressModel",
          "state": {
            "_dom_classes": [],
            "_model_module": "@jupyter-widgets/controls",
            "_model_module_version": "1.5.0",
            "_model_name": "FloatProgressModel",
            "_view_count": null,
            "_view_module": "@jupyter-widgets/controls",
            "_view_module_version": "1.5.0",
            "_view_name": "ProgressView",
            "bar_style": "success",
            "description": "",
            "description_tooltip": null,
            "layout": "IPY_MODEL_2c690bfbc60f44fbbd16c82381a1124e",
            "max": 88,
            "min": 0,
            "orientation": "horizontal",
            "style": "IPY_MODEL_73449e78cd1b4c05b15cf7ae361ed9a8",
            "value": 88
          }
        },
        "e1c55d36c9ab40238288b8b2f1b848b5": {
          "model_module": "@jupyter-widgets/controls",
          "model_module_version": "1.5.0",
          "model_name": "FloatProgressModel",
          "state": {
            "_dom_classes": [],
            "_model_module": "@jupyter-widgets/controls",
            "_model_module_version": "1.5.0",
            "_model_name": "FloatProgressModel",
            "_view_count": null,
            "_view_module": "@jupyter-widgets/controls",
            "_view_module_version": "1.5.0",
            "_view_name": "ProgressView",
            "bar_style": "success",
            "description": "",
            "description_tooltip": null,
            "layout": "IPY_MODEL_2a2acbb28782454382d61b3083abba87",
            "max": 65,
            "min": 0,
            "orientation": "horizontal",
            "style": "IPY_MODEL_9f4717aa96304f43a2c9d09a2a918038",
            "value": 65
          }
        },
        "e3b8b1c1c3854d8fb816d973ed3cee1b": {
          "model_module": "@jupyter-widgets/controls",
          "model_module_version": "1.5.0",
          "model_name": "HTMLModel",
          "state": {
            "_dom_classes": [],
            "_model_module": "@jupyter-widgets/controls",
            "_model_module_version": "1.5.0",
            "_model_name": "HTMLModel",
            "_view_count": null,
            "_view_module": "@jupyter-widgets/controls",
            "_view_module_version": "1.5.0",
            "_view_name": "HTMLView",
            "description": "",
            "description_tooltip": null,
            "layout": "IPY_MODEL_17fb1153048d4511b66df7866fbca9a1",
            "placeholder": "​",
            "style": "IPY_MODEL_768ed44dc95d46a8936d0b48cb4880ea",
            "value": " 11490/11490 [00:07&lt;00:00, 1396.97 examples/s]"
          }
        },
        "e6bb4a74f12040d599ba16a22d346b19": {
          "model_module": "@jupyter-widgets/base",
          "model_module_version": "1.2.0",
          "model_name": "LayoutModel",
          "state": {
            "_model_module": "@jupyter-widgets/base",
            "_model_module_version": "1.2.0",
            "_model_name": "LayoutModel",
            "_view_count": null,
            "_view_module": "@jupyter-widgets/base",
            "_view_module_version": "1.2.0",
            "_view_name": "LayoutView",
            "align_content": null,
            "align_items": null,
            "align_self": null,
            "border": null,
            "bottom": null,
            "display": null,
            "flex": null,
            "flex_flow": null,
            "grid_area": null,
            "grid_auto_columns": null,
            "grid_auto_flow": null,
            "grid_auto_rows": null,
            "grid_column": null,
            "grid_gap": null,
            "grid_row": null,
            "grid_template_areas": null,
            "grid_template_columns": null,
            "grid_template_rows": null,
            "height": null,
            "justify_content": null,
            "justify_items": null,
            "left": null,
            "margin": null,
            "max_height": null,
            "max_width": null,
            "min_height": null,
            "min_width": null,
            "object_fit": null,
            "object_position": null,
            "order": null,
            "overflow": null,
            "overflow_x": null,
            "overflow_y": null,
            "padding": null,
            "right": null,
            "top": null,
            "visibility": null,
            "width": null
          }
        },
        "e91dd1b959cf43828602c0cc6813916e": {
          "model_module": "@jupyter-widgets/controls",
          "model_module_version": "1.5.0",
          "model_name": "DescriptionStyleModel",
          "state": {
            "_model_module": "@jupyter-widgets/controls",
            "_model_module_version": "1.5.0",
            "_model_name": "DescriptionStyleModel",
            "_view_count": null,
            "_view_module": "@jupyter-widgets/base",
            "_view_module_version": "1.2.0",
            "_view_name": "StyleView",
            "description_width": ""
          }
        },
        "e92faf2059c1401e90717c35896570cd": {
          "model_module": "@jupyter-widgets/base",
          "model_module_version": "1.2.0",
          "model_name": "LayoutModel",
          "state": {
            "_model_module": "@jupyter-widgets/base",
            "_model_module_version": "1.2.0",
            "_model_name": "LayoutModel",
            "_view_count": null,
            "_view_module": "@jupyter-widgets/base",
            "_view_module_version": "1.2.0",
            "_view_name": "LayoutView",
            "align_content": null,
            "align_items": null,
            "align_self": null,
            "border": null,
            "bottom": null,
            "display": null,
            "flex": null,
            "flex_flow": null,
            "grid_area": null,
            "grid_auto_columns": null,
            "grid_auto_flow": null,
            "grid_auto_rows": null,
            "grid_column": null,
            "grid_gap": null,
            "grid_row": null,
            "grid_template_areas": null,
            "grid_template_columns": null,
            "grid_template_rows": null,
            "height": null,
            "justify_content": null,
            "justify_items": null,
            "left": null,
            "margin": null,
            "max_height": null,
            "max_width": null,
            "min_height": null,
            "min_width": null,
            "object_fit": null,
            "object_position": null,
            "order": null,
            "overflow": null,
            "overflow_x": null,
            "overflow_y": null,
            "padding": null,
            "right": null,
            "top": null,
            "visibility": null,
            "width": null
          }
        },
        "f234ce08f91d4ede84e3287158c93106": {
          "model_module": "@jupyter-widgets/controls",
          "model_module_version": "1.5.0",
          "model_name": "HTMLModel",
          "state": {
            "_dom_classes": [],
            "_model_module": "@jupyter-widgets/controls",
            "_model_module_version": "1.5.0",
            "_model_name": "HTMLModel",
            "_view_count": null,
            "_view_module": "@jupyter-widgets/controls",
            "_view_module_version": "1.5.0",
            "_view_name": "HTMLView",
            "description": "",
            "description_tooltip": null,
            "layout": "IPY_MODEL_b2752b1e927b4c17825b658275ba47af",
            "placeholder": "​",
            "style": "IPY_MODEL_3e6ac791aafe42c5807b0a9437fbaa95",
            "value": "Downloading (…)lve/main/config.json: 100%"
          }
        },
        "f29f796b70744e21bff00a77be35b345": {
          "model_module": "@jupyter-widgets/base",
          "model_module_version": "1.2.0",
          "model_name": "LayoutModel",
          "state": {
            "_model_module": "@jupyter-widgets/base",
            "_model_module_version": "1.2.0",
            "_model_name": "LayoutModel",
            "_view_count": null,
            "_view_module": "@jupyter-widgets/base",
            "_view_module_version": "1.2.0",
            "_view_name": "LayoutView",
            "align_content": null,
            "align_items": null,
            "align_self": null,
            "border": null,
            "bottom": null,
            "display": null,
            "flex": null,
            "flex_flow": null,
            "grid_area": null,
            "grid_auto_columns": null,
            "grid_auto_flow": null,
            "grid_auto_rows": null,
            "grid_column": null,
            "grid_gap": null,
            "grid_row": null,
            "grid_template_areas": null,
            "grid_template_columns": null,
            "grid_template_rows": null,
            "height": null,
            "justify_content": null,
            "justify_items": null,
            "left": null,
            "margin": null,
            "max_height": null,
            "max_width": null,
            "min_height": null,
            "min_width": null,
            "object_fit": null,
            "object_position": null,
            "order": null,
            "overflow": null,
            "overflow_x": null,
            "overflow_y": null,
            "padding": null,
            "right": null,
            "top": null,
            "visibility": null,
            "width": null
          }
        },
        "f2aa07aafd6a42cda948b914d0af553e": {
          "model_module": "@jupyter-widgets/controls",
          "model_module_version": "1.5.0",
          "model_name": "DescriptionStyleModel",
          "state": {
            "_model_module": "@jupyter-widgets/controls",
            "_model_module_version": "1.5.0",
            "_model_name": "DescriptionStyleModel",
            "_view_count": null,
            "_view_module": "@jupyter-widgets/base",
            "_view_module_version": "1.2.0",
            "_view_name": "StyleView",
            "description_width": ""
          }
        },
        "f3d7edbde7574a7aae63ce2e357ac277": {
          "model_module": "@jupyter-widgets/controls",
          "model_module_version": "1.5.0",
          "model_name": "HTMLModel",
          "state": {
            "_dom_classes": [],
            "_model_module": "@jupyter-widgets/controls",
            "_model_module_version": "1.5.0",
            "_model_name": "HTMLModel",
            "_view_count": null,
            "_view_module": "@jupyter-widgets/controls",
            "_view_module_version": "1.5.0",
            "_view_name": "HTMLView",
            "description": "",
            "description_tooltip": null,
            "layout": "IPY_MODEL_9822324ff67d4177bae06d014c7093f5",
            "placeholder": "​",
            "style": "IPY_MODEL_3acbe9bbfbf9435f8ce7dcfbf47d2d3a",
            "value": " 1.12k/1.12k [00:00&lt;00:00, 82.2kB/s]"
          }
        },
        "f5180788376b42528d93676a027d3b39": {
          "model_module": "@jupyter-widgets/base",
          "model_module_version": "1.2.0",
          "model_name": "LayoutModel",
          "state": {
            "_model_module": "@jupyter-widgets/base",
            "_model_module_version": "1.2.0",
            "_model_name": "LayoutModel",
            "_view_count": null,
            "_view_module": "@jupyter-widgets/base",
            "_view_module_version": "1.2.0",
            "_view_name": "LayoutView",
            "align_content": null,
            "align_items": null,
            "align_self": null,
            "border": null,
            "bottom": null,
            "display": null,
            "flex": null,
            "flex_flow": null,
            "grid_area": null,
            "grid_auto_columns": null,
            "grid_auto_flow": null,
            "grid_auto_rows": null,
            "grid_column": null,
            "grid_gap": null,
            "grid_row": null,
            "grid_template_areas": null,
            "grid_template_columns": null,
            "grid_template_rows": null,
            "height": null,
            "justify_content": null,
            "justify_items": null,
            "left": null,
            "margin": null,
            "max_height": null,
            "max_width": null,
            "min_height": null,
            "min_width": null,
            "object_fit": null,
            "object_position": null,
            "order": null,
            "overflow": null,
            "overflow_x": null,
            "overflow_y": null,
            "padding": null,
            "right": null,
            "top": null,
            "visibility": null,
            "width": null
          }
        },
        "fbe7de5dd20f4019b799297bc6ab4270": {
          "model_module": "@jupyter-widgets/controls",
          "model_module_version": "1.5.0",
          "model_name": "DescriptionStyleModel",
          "state": {
            "_model_module": "@jupyter-widgets/controls",
            "_model_module_version": "1.5.0",
            "_model_name": "DescriptionStyleModel",
            "_view_count": null,
            "_view_module": "@jupyter-widgets/base",
            "_view_module_version": "1.2.0",
            "_view_name": "StyleView",
            "description_width": ""
          }
        },
        "fca72dad12ea48578fcdab47c704e262": {
          "model_module": "@jupyter-widgets/controls",
          "model_module_version": "1.5.0",
          "model_name": "HTMLModel",
          "state": {
            "_dom_classes": [],
            "_model_module": "@jupyter-widgets/controls",
            "_model_module_version": "1.5.0",
            "_model_name": "HTMLModel",
            "_view_count": null,
            "_view_module": "@jupyter-widgets/controls",
            "_view_module_version": "1.5.0",
            "_view_name": "HTMLView",
            "description": "",
            "description_tooltip": null,
            "layout": "IPY_MODEL_4f6f22eab7de4365b21d53de44e8d7e5",
            "placeholder": "​",
            "style": "IPY_MODEL_05cc791bee6345b48e02d92324e6a8fa",
            "value": " 13368/13368 [00:08&lt;00:00, 1299.15 examples/s]"
          }
        },
        "fd929787aa4e48edbe8ee0af923842a5": {
          "model_module": "@jupyter-widgets/controls",
          "model_module_version": "1.5.0",
          "model_name": "DescriptionStyleModel",
          "state": {
            "_model_module": "@jupyter-widgets/controls",
            "_model_module_version": "1.5.0",
            "_model_name": "DescriptionStyleModel",
            "_view_count": null,
            "_view_module": "@jupyter-widgets/base",
            "_view_module_version": "1.2.0",
            "_view_name": "StyleView",
            "description_width": ""
          }
        },
        "fdaf07d547384233bbaf83f31d34880d": {
          "model_module": "@jupyter-widgets/base",
          "model_module_version": "1.2.0",
          "model_name": "LayoutModel",
          "state": {
            "_model_module": "@jupyter-widgets/base",
            "_model_module_version": "1.2.0",
            "_model_name": "LayoutModel",
            "_view_count": null,
            "_view_module": "@jupyter-widgets/base",
            "_view_module_version": "1.2.0",
            "_view_name": "LayoutView",
            "align_content": null,
            "align_items": null,
            "align_self": null,
            "border": null,
            "bottom": null,
            "display": null,
            "flex": null,
            "flex_flow": null,
            "grid_area": null,
            "grid_auto_columns": null,
            "grid_auto_flow": null,
            "grid_auto_rows": null,
            "grid_column": null,
            "grid_gap": null,
            "grid_row": null,
            "grid_template_areas": null,
            "grid_template_columns": null,
            "grid_template_rows": null,
            "height": null,
            "justify_content": null,
            "justify_items": null,
            "left": null,
            "margin": null,
            "max_height": null,
            "max_width": null,
            "min_height": null,
            "min_width": null,
            "object_fit": null,
            "object_position": null,
            "order": null,
            "overflow": null,
            "overflow_x": null,
            "overflow_y": null,
            "padding": null,
            "right": null,
            "top": null,
            "visibility": null,
            "width": null
          }
        },
        "fffbe74a2e1444bc95bbd76e23bdaa89": {
          "model_module": "@jupyter-widgets/base",
          "model_module_version": "1.2.0",
          "model_name": "LayoutModel",
          "state": {
            "_model_module": "@jupyter-widgets/base",
            "_model_module_version": "1.2.0",
            "_model_name": "LayoutModel",
            "_view_count": null,
            "_view_module": "@jupyter-widgets/base",
            "_view_module_version": "1.2.0",
            "_view_name": "LayoutView",
            "align_content": null,
            "align_items": null,
            "align_self": null,
            "border": null,
            "bottom": null,
            "display": null,
            "flex": null,
            "flex_flow": null,
            "grid_area": null,
            "grid_auto_columns": null,
            "grid_auto_flow": null,
            "grid_auto_rows": null,
            "grid_column": null,
            "grid_gap": null,
            "grid_row": null,
            "grid_template_areas": null,
            "grid_template_columns": null,
            "grid_template_rows": null,
            "height": null,
            "justify_content": null,
            "justify_items": null,
            "left": null,
            "margin": null,
            "max_height": null,
            "max_width": null,
            "min_height": null,
            "min_width": null,
            "object_fit": null,
            "object_position": null,
            "order": null,
            "overflow": null,
            "overflow_x": null,
            "overflow_y": null,
            "padding": null,
            "right": null,
            "top": null,
            "visibility": null,
            "width": null
          }
        },
        "29da4c6626484787af95c12a977b1667": {
          "model_module": "@jupyter-widgets/controls",
          "model_name": "HBoxModel",
          "model_module_version": "1.5.0",
          "state": {
            "_dom_classes": [],
            "_model_module": "@jupyter-widgets/controls",
            "_model_module_version": "1.5.0",
            "_model_name": "HBoxModel",
            "_view_count": null,
            "_view_module": "@jupyter-widgets/controls",
            "_view_module_version": "1.5.0",
            "_view_name": "HBoxView",
            "box_style": "",
            "children": [
              "IPY_MODEL_a3c35278df1345879e529267c501c29c",
              "IPY_MODEL_fdefe886e15742fcb9d77b831a55b78d",
              "IPY_MODEL_1c7dea9681d8406ca841082698e5639c"
            ],
            "layout": "IPY_MODEL_b3b8d856f5aa4f1f999fbddfe163a42e"
          }
        },
        "a3c35278df1345879e529267c501c29c": {
          "model_module": "@jupyter-widgets/controls",
          "model_name": "HTMLModel",
          "model_module_version": "1.5.0",
          "state": {
            "_dom_classes": [],
            "_model_module": "@jupyter-widgets/controls",
            "_model_module_version": "1.5.0",
            "_model_name": "HTMLModel",
            "_view_count": null,
            "_view_module": "@jupyter-widgets/controls",
            "_view_module_version": "1.5.0",
            "_view_name": "HTMLView",
            "description": "",
            "description_tooltip": null,
            "layout": "IPY_MODEL_b6e94b48d2dd420aab30c17bd19b7aff",
            "placeholder": "​",
            "style": "IPY_MODEL_75437d479dc24e8f89e4677f77378d86",
            "value": "Downloading (…)okenizer_config.json: 100%"
          }
        },
        "fdefe886e15742fcb9d77b831a55b78d": {
          "model_module": "@jupyter-widgets/controls",
          "model_name": "FloatProgressModel",
          "model_module_version": "1.5.0",
          "state": {
            "_dom_classes": [],
            "_model_module": "@jupyter-widgets/controls",
            "_model_module_version": "1.5.0",
            "_model_name": "FloatProgressModel",
            "_view_count": null,
            "_view_module": "@jupyter-widgets/controls",
            "_view_module_version": "1.5.0",
            "_view_name": "ProgressView",
            "bar_style": "success",
            "description": "",
            "description_tooltip": null,
            "layout": "IPY_MODEL_06f0c13afd9e48c080bc68ce0ded4c3b",
            "max": 88,
            "min": 0,
            "orientation": "horizontal",
            "style": "IPY_MODEL_c5f2334e8b5b4b009ff2163b475a5586",
            "value": 88
          }
        },
        "1c7dea9681d8406ca841082698e5639c": {
          "model_module": "@jupyter-widgets/controls",
          "model_name": "HTMLModel",
          "model_module_version": "1.5.0",
          "state": {
            "_dom_classes": [],
            "_model_module": "@jupyter-widgets/controls",
            "_model_module_version": "1.5.0",
            "_model_name": "HTMLModel",
            "_view_count": null,
            "_view_module": "@jupyter-widgets/controls",
            "_view_module_version": "1.5.0",
            "_view_name": "HTMLView",
            "description": "",
            "description_tooltip": null,
            "layout": "IPY_MODEL_93b195cbfe9d4a78935cebd93df0515b",
            "placeholder": "​",
            "style": "IPY_MODEL_e4dce54e8c3b4d9d9d29774022ee12b6",
            "value": " 88.0/88.0 [00:00&lt;00:00, 7.62kB/s]"
          }
        },
        "b3b8d856f5aa4f1f999fbddfe163a42e": {
          "model_module": "@jupyter-widgets/base",
          "model_name": "LayoutModel",
          "model_module_version": "1.2.0",
          "state": {
            "_model_module": "@jupyter-widgets/base",
            "_model_module_version": "1.2.0",
            "_model_name": "LayoutModel",
            "_view_count": null,
            "_view_module": "@jupyter-widgets/base",
            "_view_module_version": "1.2.0",
            "_view_name": "LayoutView",
            "align_content": null,
            "align_items": null,
            "align_self": null,
            "border": null,
            "bottom": null,
            "display": null,
            "flex": null,
            "flex_flow": null,
            "grid_area": null,
            "grid_auto_columns": null,
            "grid_auto_flow": null,
            "grid_auto_rows": null,
            "grid_column": null,
            "grid_gap": null,
            "grid_row": null,
            "grid_template_areas": null,
            "grid_template_columns": null,
            "grid_template_rows": null,
            "height": null,
            "justify_content": null,
            "justify_items": null,
            "left": null,
            "margin": null,
            "max_height": null,
            "max_width": null,
            "min_height": null,
            "min_width": null,
            "object_fit": null,
            "object_position": null,
            "order": null,
            "overflow": null,
            "overflow_x": null,
            "overflow_y": null,
            "padding": null,
            "right": null,
            "top": null,
            "visibility": null,
            "width": null
          }
        },
        "b6e94b48d2dd420aab30c17bd19b7aff": {
          "model_module": "@jupyter-widgets/base",
          "model_name": "LayoutModel",
          "model_module_version": "1.2.0",
          "state": {
            "_model_module": "@jupyter-widgets/base",
            "_model_module_version": "1.2.0",
            "_model_name": "LayoutModel",
            "_view_count": null,
            "_view_module": "@jupyter-widgets/base",
            "_view_module_version": "1.2.0",
            "_view_name": "LayoutView",
            "align_content": null,
            "align_items": null,
            "align_self": null,
            "border": null,
            "bottom": null,
            "display": null,
            "flex": null,
            "flex_flow": null,
            "grid_area": null,
            "grid_auto_columns": null,
            "grid_auto_flow": null,
            "grid_auto_rows": null,
            "grid_column": null,
            "grid_gap": null,
            "grid_row": null,
            "grid_template_areas": null,
            "grid_template_columns": null,
            "grid_template_rows": null,
            "height": null,
            "justify_content": null,
            "justify_items": null,
            "left": null,
            "margin": null,
            "max_height": null,
            "max_width": null,
            "min_height": null,
            "min_width": null,
            "object_fit": null,
            "object_position": null,
            "order": null,
            "overflow": null,
            "overflow_x": null,
            "overflow_y": null,
            "padding": null,
            "right": null,
            "top": null,
            "visibility": null,
            "width": null
          }
        },
        "75437d479dc24e8f89e4677f77378d86": {
          "model_module": "@jupyter-widgets/controls",
          "model_name": "DescriptionStyleModel",
          "model_module_version": "1.5.0",
          "state": {
            "_model_module": "@jupyter-widgets/controls",
            "_model_module_version": "1.5.0",
            "_model_name": "DescriptionStyleModel",
            "_view_count": null,
            "_view_module": "@jupyter-widgets/base",
            "_view_module_version": "1.2.0",
            "_view_name": "StyleView",
            "description_width": ""
          }
        },
        "06f0c13afd9e48c080bc68ce0ded4c3b": {
          "model_module": "@jupyter-widgets/base",
          "model_name": "LayoutModel",
          "model_module_version": "1.2.0",
          "state": {
            "_model_module": "@jupyter-widgets/base",
            "_model_module_version": "1.2.0",
            "_model_name": "LayoutModel",
            "_view_count": null,
            "_view_module": "@jupyter-widgets/base",
            "_view_module_version": "1.2.0",
            "_view_name": "LayoutView",
            "align_content": null,
            "align_items": null,
            "align_self": null,
            "border": null,
            "bottom": null,
            "display": null,
            "flex": null,
            "flex_flow": null,
            "grid_area": null,
            "grid_auto_columns": null,
            "grid_auto_flow": null,
            "grid_auto_rows": null,
            "grid_column": null,
            "grid_gap": null,
            "grid_row": null,
            "grid_template_areas": null,
            "grid_template_columns": null,
            "grid_template_rows": null,
            "height": null,
            "justify_content": null,
            "justify_items": null,
            "left": null,
            "margin": null,
            "max_height": null,
            "max_width": null,
            "min_height": null,
            "min_width": null,
            "object_fit": null,
            "object_position": null,
            "order": null,
            "overflow": null,
            "overflow_x": null,
            "overflow_y": null,
            "padding": null,
            "right": null,
            "top": null,
            "visibility": null,
            "width": null
          }
        },
        "c5f2334e8b5b4b009ff2163b475a5586": {
          "model_module": "@jupyter-widgets/controls",
          "model_name": "ProgressStyleModel",
          "model_module_version": "1.5.0",
          "state": {
            "_model_module": "@jupyter-widgets/controls",
            "_model_module_version": "1.5.0",
            "_model_name": "ProgressStyleModel",
            "_view_count": null,
            "_view_module": "@jupyter-widgets/base",
            "_view_module_version": "1.2.0",
            "_view_name": "StyleView",
            "bar_color": null,
            "description_width": ""
          }
        },
        "93b195cbfe9d4a78935cebd93df0515b": {
          "model_module": "@jupyter-widgets/base",
          "model_name": "LayoutModel",
          "model_module_version": "1.2.0",
          "state": {
            "_model_module": "@jupyter-widgets/base",
            "_model_module_version": "1.2.0",
            "_model_name": "LayoutModel",
            "_view_count": null,
            "_view_module": "@jupyter-widgets/base",
            "_view_module_version": "1.2.0",
            "_view_name": "LayoutView",
            "align_content": null,
            "align_items": null,
            "align_self": null,
            "border": null,
            "bottom": null,
            "display": null,
            "flex": null,
            "flex_flow": null,
            "grid_area": null,
            "grid_auto_columns": null,
            "grid_auto_flow": null,
            "grid_auto_rows": null,
            "grid_column": null,
            "grid_gap": null,
            "grid_row": null,
            "grid_template_areas": null,
            "grid_template_columns": null,
            "grid_template_rows": null,
            "height": null,
            "justify_content": null,
            "justify_items": null,
            "left": null,
            "margin": null,
            "max_height": null,
            "max_width": null,
            "min_height": null,
            "min_width": null,
            "object_fit": null,
            "object_position": null,
            "order": null,
            "overflow": null,
            "overflow_x": null,
            "overflow_y": null,
            "padding": null,
            "right": null,
            "top": null,
            "visibility": null,
            "width": null
          }
        },
        "e4dce54e8c3b4d9d9d29774022ee12b6": {
          "model_module": "@jupyter-widgets/controls",
          "model_name": "DescriptionStyleModel",
          "model_module_version": "1.5.0",
          "state": {
            "_model_module": "@jupyter-widgets/controls",
            "_model_module_version": "1.5.0",
            "_model_name": "DescriptionStyleModel",
            "_view_count": null,
            "_view_module": "@jupyter-widgets/base",
            "_view_module_version": "1.2.0",
            "_view_name": "StyleView",
            "description_width": ""
          }
        },
        "21c7329e73464f26aff414d58e0e6f3d": {
          "model_module": "@jupyter-widgets/controls",
          "model_name": "HBoxModel",
          "model_module_version": "1.5.0",
          "state": {
            "_dom_classes": [],
            "_model_module": "@jupyter-widgets/controls",
            "_model_module_version": "1.5.0",
            "_model_name": "HBoxModel",
            "_view_count": null,
            "_view_module": "@jupyter-widgets/controls",
            "_view_module_version": "1.5.0",
            "_view_name": "HBoxView",
            "box_style": "",
            "children": [
              "IPY_MODEL_4e5417d44aca44569dcd2d216cdbc125",
              "IPY_MODEL_7c3bb0c9e5bb43f5a24b40b7a4e0ea51",
              "IPY_MODEL_83952a81ff13465ca35a0d2b7d3e7b0d"
            ],
            "layout": "IPY_MODEL_5c7ac0c0b8a04789a0ad314e3ef12c68"
          }
        },
        "4e5417d44aca44569dcd2d216cdbc125": {
          "model_module": "@jupyter-widgets/controls",
          "model_name": "HTMLModel",
          "model_module_version": "1.5.0",
          "state": {
            "_dom_classes": [],
            "_model_module": "@jupyter-widgets/controls",
            "_model_module_version": "1.5.0",
            "_model_name": "HTMLModel",
            "_view_count": null,
            "_view_module": "@jupyter-widgets/controls",
            "_view_module_version": "1.5.0",
            "_view_name": "HTMLView",
            "description": "",
            "description_tooltip": null,
            "layout": "IPY_MODEL_107310bdc19042d1bfedba6200c318ba",
            "placeholder": "​",
            "style": "IPY_MODEL_712416453274405f989d9600bd3ceee7",
            "value": "Downloading (…)lve/main/config.json: 100%"
          }
        },
        "7c3bb0c9e5bb43f5a24b40b7a4e0ea51": {
          "model_module": "@jupyter-widgets/controls",
          "model_name": "FloatProgressModel",
          "model_module_version": "1.5.0",
          "state": {
            "_dom_classes": [],
            "_model_module": "@jupyter-widgets/controls",
            "_model_module_version": "1.5.0",
            "_model_name": "FloatProgressModel",
            "_view_count": null,
            "_view_module": "@jupyter-widgets/controls",
            "_view_module_version": "1.5.0",
            "_view_name": "ProgressView",
            "bar_style": "success",
            "description": "",
            "description_tooltip": null,
            "layout": "IPY_MODEL_5acdd836faaf40cf94dfd27851b71e87",
            "max": 1120,
            "min": 0,
            "orientation": "horizontal",
            "style": "IPY_MODEL_21925538036642198d129d3fd4426e83",
            "value": 1120
          }
        },
        "83952a81ff13465ca35a0d2b7d3e7b0d": {
          "model_module": "@jupyter-widgets/controls",
          "model_name": "HTMLModel",
          "model_module_version": "1.5.0",
          "state": {
            "_dom_classes": [],
            "_model_module": "@jupyter-widgets/controls",
            "_model_module_version": "1.5.0",
            "_model_name": "HTMLModel",
            "_view_count": null,
            "_view_module": "@jupyter-widgets/controls",
            "_view_module_version": "1.5.0",
            "_view_name": "HTMLView",
            "description": "",
            "description_tooltip": null,
            "layout": "IPY_MODEL_a21c6cb222884418973cd4caa23ae4dd",
            "placeholder": "​",
            "style": "IPY_MODEL_4480591dbb0746a1b4b007e389eee15f",
            "value": " 1.12k/1.12k [00:00&lt;00:00, 98.2kB/s]"
          }
        },
        "5c7ac0c0b8a04789a0ad314e3ef12c68": {
          "model_module": "@jupyter-widgets/base",
          "model_name": "LayoutModel",
          "model_module_version": "1.2.0",
          "state": {
            "_model_module": "@jupyter-widgets/base",
            "_model_module_version": "1.2.0",
            "_model_name": "LayoutModel",
            "_view_count": null,
            "_view_module": "@jupyter-widgets/base",
            "_view_module_version": "1.2.0",
            "_view_name": "LayoutView",
            "align_content": null,
            "align_items": null,
            "align_self": null,
            "border": null,
            "bottom": null,
            "display": null,
            "flex": null,
            "flex_flow": null,
            "grid_area": null,
            "grid_auto_columns": null,
            "grid_auto_flow": null,
            "grid_auto_rows": null,
            "grid_column": null,
            "grid_gap": null,
            "grid_row": null,
            "grid_template_areas": null,
            "grid_template_columns": null,
            "grid_template_rows": null,
            "height": null,
            "justify_content": null,
            "justify_items": null,
            "left": null,
            "margin": null,
            "max_height": null,
            "max_width": null,
            "min_height": null,
            "min_width": null,
            "object_fit": null,
            "object_position": null,
            "order": null,
            "overflow": null,
            "overflow_x": null,
            "overflow_y": null,
            "padding": null,
            "right": null,
            "top": null,
            "visibility": null,
            "width": null
          }
        },
        "107310bdc19042d1bfedba6200c318ba": {
          "model_module": "@jupyter-widgets/base",
          "model_name": "LayoutModel",
          "model_module_version": "1.2.0",
          "state": {
            "_model_module": "@jupyter-widgets/base",
            "_model_module_version": "1.2.0",
            "_model_name": "LayoutModel",
            "_view_count": null,
            "_view_module": "@jupyter-widgets/base",
            "_view_module_version": "1.2.0",
            "_view_name": "LayoutView",
            "align_content": null,
            "align_items": null,
            "align_self": null,
            "border": null,
            "bottom": null,
            "display": null,
            "flex": null,
            "flex_flow": null,
            "grid_area": null,
            "grid_auto_columns": null,
            "grid_auto_flow": null,
            "grid_auto_rows": null,
            "grid_column": null,
            "grid_gap": null,
            "grid_row": null,
            "grid_template_areas": null,
            "grid_template_columns": null,
            "grid_template_rows": null,
            "height": null,
            "justify_content": null,
            "justify_items": null,
            "left": null,
            "margin": null,
            "max_height": null,
            "max_width": null,
            "min_height": null,
            "min_width": null,
            "object_fit": null,
            "object_position": null,
            "order": null,
            "overflow": null,
            "overflow_x": null,
            "overflow_y": null,
            "padding": null,
            "right": null,
            "top": null,
            "visibility": null,
            "width": null
          }
        },
        "712416453274405f989d9600bd3ceee7": {
          "model_module": "@jupyter-widgets/controls",
          "model_name": "DescriptionStyleModel",
          "model_module_version": "1.5.0",
          "state": {
            "_model_module": "@jupyter-widgets/controls",
            "_model_module_version": "1.5.0",
            "_model_name": "DescriptionStyleModel",
            "_view_count": null,
            "_view_module": "@jupyter-widgets/base",
            "_view_module_version": "1.2.0",
            "_view_name": "StyleView",
            "description_width": ""
          }
        },
        "5acdd836faaf40cf94dfd27851b71e87": {
          "model_module": "@jupyter-widgets/base",
          "model_name": "LayoutModel",
          "model_module_version": "1.2.0",
          "state": {
            "_model_module": "@jupyter-widgets/base",
            "_model_module_version": "1.2.0",
            "_model_name": "LayoutModel",
            "_view_count": null,
            "_view_module": "@jupyter-widgets/base",
            "_view_module_version": "1.2.0",
            "_view_name": "LayoutView",
            "align_content": null,
            "align_items": null,
            "align_self": null,
            "border": null,
            "bottom": null,
            "display": null,
            "flex": null,
            "flex_flow": null,
            "grid_area": null,
            "grid_auto_columns": null,
            "grid_auto_flow": null,
            "grid_auto_rows": null,
            "grid_column": null,
            "grid_gap": null,
            "grid_row": null,
            "grid_template_areas": null,
            "grid_template_columns": null,
            "grid_template_rows": null,
            "height": null,
            "justify_content": null,
            "justify_items": null,
            "left": null,
            "margin": null,
            "max_height": null,
            "max_width": null,
            "min_height": null,
            "min_width": null,
            "object_fit": null,
            "object_position": null,
            "order": null,
            "overflow": null,
            "overflow_x": null,
            "overflow_y": null,
            "padding": null,
            "right": null,
            "top": null,
            "visibility": null,
            "width": null
          }
        },
        "21925538036642198d129d3fd4426e83": {
          "model_module": "@jupyter-widgets/controls",
          "model_name": "ProgressStyleModel",
          "model_module_version": "1.5.0",
          "state": {
            "_model_module": "@jupyter-widgets/controls",
            "_model_module_version": "1.5.0",
            "_model_name": "ProgressStyleModel",
            "_view_count": null,
            "_view_module": "@jupyter-widgets/base",
            "_view_module_version": "1.2.0",
            "_view_name": "StyleView",
            "bar_color": null,
            "description_width": ""
          }
        },
        "a21c6cb222884418973cd4caa23ae4dd": {
          "model_module": "@jupyter-widgets/base",
          "model_name": "LayoutModel",
          "model_module_version": "1.2.0",
          "state": {
            "_model_module": "@jupyter-widgets/base",
            "_model_module_version": "1.2.0",
            "_model_name": "LayoutModel",
            "_view_count": null,
            "_view_module": "@jupyter-widgets/base",
            "_view_module_version": "1.2.0",
            "_view_name": "LayoutView",
            "align_content": null,
            "align_items": null,
            "align_self": null,
            "border": null,
            "bottom": null,
            "display": null,
            "flex": null,
            "flex_flow": null,
            "grid_area": null,
            "grid_auto_columns": null,
            "grid_auto_flow": null,
            "grid_auto_rows": null,
            "grid_column": null,
            "grid_gap": null,
            "grid_row": null,
            "grid_template_areas": null,
            "grid_template_columns": null,
            "grid_template_rows": null,
            "height": null,
            "justify_content": null,
            "justify_items": null,
            "left": null,
            "margin": null,
            "max_height": null,
            "max_width": null,
            "min_height": null,
            "min_width": null,
            "object_fit": null,
            "object_position": null,
            "order": null,
            "overflow": null,
            "overflow_x": null,
            "overflow_y": null,
            "padding": null,
            "right": null,
            "top": null,
            "visibility": null,
            "width": null
          }
        },
        "4480591dbb0746a1b4b007e389eee15f": {
          "model_module": "@jupyter-widgets/controls",
          "model_name": "DescriptionStyleModel",
          "model_module_version": "1.5.0",
          "state": {
            "_model_module": "@jupyter-widgets/controls",
            "_model_module_version": "1.5.0",
            "_model_name": "DescriptionStyleModel",
            "_view_count": null,
            "_view_module": "@jupyter-widgets/base",
            "_view_module_version": "1.2.0",
            "_view_name": "StyleView",
            "description_width": ""
          }
        },
        "e3f12e5cd6744d93921a57e8480e437e": {
          "model_module": "@jupyter-widgets/controls",
          "model_name": "HBoxModel",
          "model_module_version": "1.5.0",
          "state": {
            "_dom_classes": [],
            "_model_module": "@jupyter-widgets/controls",
            "_model_module_version": "1.5.0",
            "_model_name": "HBoxModel",
            "_view_count": null,
            "_view_module": "@jupyter-widgets/controls",
            "_view_module_version": "1.5.0",
            "_view_name": "HBoxView",
            "box_style": "",
            "children": [
              "IPY_MODEL_a6b88ffad0a9405abb51451c4e944fca",
              "IPY_MODEL_5acdaa905c5842129424a4dd574e14fb",
              "IPY_MODEL_f7fb600bf218411e9e9f7d55da5d534b"
            ],
            "layout": "IPY_MODEL_05af40290db84b8c8581dc3ca85619a1"
          }
        },
        "a6b88ffad0a9405abb51451c4e944fca": {
          "model_module": "@jupyter-widgets/controls",
          "model_name": "HTMLModel",
          "model_module_version": "1.5.0",
          "state": {
            "_dom_classes": [],
            "_model_module": "@jupyter-widgets/controls",
            "_model_module_version": "1.5.0",
            "_model_name": "HTMLModel",
            "_view_count": null,
            "_view_module": "@jupyter-widgets/controls",
            "_view_module_version": "1.5.0",
            "_view_name": "HTMLView",
            "description": "",
            "description_tooltip": null,
            "layout": "IPY_MODEL_1a220f9e0f7e4157ba1dc430685fa24d",
            "placeholder": "​",
            "style": "IPY_MODEL_fc4436c6a860447cbae158bf1fd0db85",
            "value": "Downloading (…)ve/main/spiece.model: 100%"
          }
        },
        "5acdaa905c5842129424a4dd574e14fb": {
          "model_module": "@jupyter-widgets/controls",
          "model_name": "FloatProgressModel",
          "model_module_version": "1.5.0",
          "state": {
            "_dom_classes": [],
            "_model_module": "@jupyter-widgets/controls",
            "_model_module_version": "1.5.0",
            "_model_name": "FloatProgressModel",
            "_view_count": null,
            "_view_module": "@jupyter-widgets/controls",
            "_view_module_version": "1.5.0",
            "_view_name": "ProgressView",
            "bar_style": "success",
            "description": "",
            "description_tooltip": null,
            "layout": "IPY_MODEL_e27d5bd3948748b69ee4d9ed4d9268a2",
            "max": 1912529,
            "min": 0,
            "orientation": "horizontal",
            "style": "IPY_MODEL_3398f6c379a443029f96520132f493fd",
            "value": 1912529
          }
        },
        "f7fb600bf218411e9e9f7d55da5d534b": {
          "model_module": "@jupyter-widgets/controls",
          "model_name": "HTMLModel",
          "model_module_version": "1.5.0",
          "state": {
            "_dom_classes": [],
            "_model_module": "@jupyter-widgets/controls",
            "_model_module_version": "1.5.0",
            "_model_name": "HTMLModel",
            "_view_count": null,
            "_view_module": "@jupyter-widgets/controls",
            "_view_module_version": "1.5.0",
            "_view_name": "HTMLView",
            "description": "",
            "description_tooltip": null,
            "layout": "IPY_MODEL_98425ff112a0413a9dd27230499bc906",
            "placeholder": "​",
            "style": "IPY_MODEL_cde9b71fd73f4eb0a8bafea1313d34ed",
            "value": " 1.91M/1.91M [00:00&lt;00:00, 24.0MB/s]"
          }
        },
        "05af40290db84b8c8581dc3ca85619a1": {
          "model_module": "@jupyter-widgets/base",
          "model_name": "LayoutModel",
          "model_module_version": "1.2.0",
          "state": {
            "_model_module": "@jupyter-widgets/base",
            "_model_module_version": "1.2.0",
            "_model_name": "LayoutModel",
            "_view_count": null,
            "_view_module": "@jupyter-widgets/base",
            "_view_module_version": "1.2.0",
            "_view_name": "LayoutView",
            "align_content": null,
            "align_items": null,
            "align_self": null,
            "border": null,
            "bottom": null,
            "display": null,
            "flex": null,
            "flex_flow": null,
            "grid_area": null,
            "grid_auto_columns": null,
            "grid_auto_flow": null,
            "grid_auto_rows": null,
            "grid_column": null,
            "grid_gap": null,
            "grid_row": null,
            "grid_template_areas": null,
            "grid_template_columns": null,
            "grid_template_rows": null,
            "height": null,
            "justify_content": null,
            "justify_items": null,
            "left": null,
            "margin": null,
            "max_height": null,
            "max_width": null,
            "min_height": null,
            "min_width": null,
            "object_fit": null,
            "object_position": null,
            "order": null,
            "overflow": null,
            "overflow_x": null,
            "overflow_y": null,
            "padding": null,
            "right": null,
            "top": null,
            "visibility": null,
            "width": null
          }
        },
        "1a220f9e0f7e4157ba1dc430685fa24d": {
          "model_module": "@jupyter-widgets/base",
          "model_name": "LayoutModel",
          "model_module_version": "1.2.0",
          "state": {
            "_model_module": "@jupyter-widgets/base",
            "_model_module_version": "1.2.0",
            "_model_name": "LayoutModel",
            "_view_count": null,
            "_view_module": "@jupyter-widgets/base",
            "_view_module_version": "1.2.0",
            "_view_name": "LayoutView",
            "align_content": null,
            "align_items": null,
            "align_self": null,
            "border": null,
            "bottom": null,
            "display": null,
            "flex": null,
            "flex_flow": null,
            "grid_area": null,
            "grid_auto_columns": null,
            "grid_auto_flow": null,
            "grid_auto_rows": null,
            "grid_column": null,
            "grid_gap": null,
            "grid_row": null,
            "grid_template_areas": null,
            "grid_template_columns": null,
            "grid_template_rows": null,
            "height": null,
            "justify_content": null,
            "justify_items": null,
            "left": null,
            "margin": null,
            "max_height": null,
            "max_width": null,
            "min_height": null,
            "min_width": null,
            "object_fit": null,
            "object_position": null,
            "order": null,
            "overflow": null,
            "overflow_x": null,
            "overflow_y": null,
            "padding": null,
            "right": null,
            "top": null,
            "visibility": null,
            "width": null
          }
        },
        "fc4436c6a860447cbae158bf1fd0db85": {
          "model_module": "@jupyter-widgets/controls",
          "model_name": "DescriptionStyleModel",
          "model_module_version": "1.5.0",
          "state": {
            "_model_module": "@jupyter-widgets/controls",
            "_model_module_version": "1.5.0",
            "_model_name": "DescriptionStyleModel",
            "_view_count": null,
            "_view_module": "@jupyter-widgets/base",
            "_view_module_version": "1.2.0",
            "_view_name": "StyleView",
            "description_width": ""
          }
        },
        "e27d5bd3948748b69ee4d9ed4d9268a2": {
          "model_module": "@jupyter-widgets/base",
          "model_name": "LayoutModel",
          "model_module_version": "1.2.0",
          "state": {
            "_model_module": "@jupyter-widgets/base",
            "_model_module_version": "1.2.0",
            "_model_name": "LayoutModel",
            "_view_count": null,
            "_view_module": "@jupyter-widgets/base",
            "_view_module_version": "1.2.0",
            "_view_name": "LayoutView",
            "align_content": null,
            "align_items": null,
            "align_self": null,
            "border": null,
            "bottom": null,
            "display": null,
            "flex": null,
            "flex_flow": null,
            "grid_area": null,
            "grid_auto_columns": null,
            "grid_auto_flow": null,
            "grid_auto_rows": null,
            "grid_column": null,
            "grid_gap": null,
            "grid_row": null,
            "grid_template_areas": null,
            "grid_template_columns": null,
            "grid_template_rows": null,
            "height": null,
            "justify_content": null,
            "justify_items": null,
            "left": null,
            "margin": null,
            "max_height": null,
            "max_width": null,
            "min_height": null,
            "min_width": null,
            "object_fit": null,
            "object_position": null,
            "order": null,
            "overflow": null,
            "overflow_x": null,
            "overflow_y": null,
            "padding": null,
            "right": null,
            "top": null,
            "visibility": null,
            "width": null
          }
        },
        "3398f6c379a443029f96520132f493fd": {
          "model_module": "@jupyter-widgets/controls",
          "model_name": "ProgressStyleModel",
          "model_module_version": "1.5.0",
          "state": {
            "_model_module": "@jupyter-widgets/controls",
            "_model_module_version": "1.5.0",
            "_model_name": "ProgressStyleModel",
            "_view_count": null,
            "_view_module": "@jupyter-widgets/base",
            "_view_module_version": "1.2.0",
            "_view_name": "StyleView",
            "bar_color": null,
            "description_width": ""
          }
        },
        "98425ff112a0413a9dd27230499bc906": {
          "model_module": "@jupyter-widgets/base",
          "model_name": "LayoutModel",
          "model_module_version": "1.2.0",
          "state": {
            "_model_module": "@jupyter-widgets/base",
            "_model_module_version": "1.2.0",
            "_model_name": "LayoutModel",
            "_view_count": null,
            "_view_module": "@jupyter-widgets/base",
            "_view_module_version": "1.2.0",
            "_view_name": "LayoutView",
            "align_content": null,
            "align_items": null,
            "align_self": null,
            "border": null,
            "bottom": null,
            "display": null,
            "flex": null,
            "flex_flow": null,
            "grid_area": null,
            "grid_auto_columns": null,
            "grid_auto_flow": null,
            "grid_auto_rows": null,
            "grid_column": null,
            "grid_gap": null,
            "grid_row": null,
            "grid_template_areas": null,
            "grid_template_columns": null,
            "grid_template_rows": null,
            "height": null,
            "justify_content": null,
            "justify_items": null,
            "left": null,
            "margin": null,
            "max_height": null,
            "max_width": null,
            "min_height": null,
            "min_width": null,
            "object_fit": null,
            "object_position": null,
            "order": null,
            "overflow": null,
            "overflow_x": null,
            "overflow_y": null,
            "padding": null,
            "right": null,
            "top": null,
            "visibility": null,
            "width": null
          }
        },
        "cde9b71fd73f4eb0a8bafea1313d34ed": {
          "model_module": "@jupyter-widgets/controls",
          "model_name": "DescriptionStyleModel",
          "model_module_version": "1.5.0",
          "state": {
            "_model_module": "@jupyter-widgets/controls",
            "_model_module_version": "1.5.0",
            "_model_name": "DescriptionStyleModel",
            "_view_count": null,
            "_view_module": "@jupyter-widgets/base",
            "_view_module_version": "1.2.0",
            "_view_name": "StyleView",
            "description_width": ""
          }
        },
        "985c7733da73436ca9d49c8e48eea237": {
          "model_module": "@jupyter-widgets/controls",
          "model_name": "HBoxModel",
          "model_module_version": "1.5.0",
          "state": {
            "_dom_classes": [],
            "_model_module": "@jupyter-widgets/controls",
            "_model_module_version": "1.5.0",
            "_model_name": "HBoxModel",
            "_view_count": null,
            "_view_module": "@jupyter-widgets/controls",
            "_view_module_version": "1.5.0",
            "_view_name": "HBoxView",
            "box_style": "",
            "children": [
              "IPY_MODEL_f4c785e853934d55b2836ded7e1bf664",
              "IPY_MODEL_18e896a52c6e47448b9ed9d1ca427fd1",
              "IPY_MODEL_ae21c809ad804f42a4d8909f778113d8"
            ],
            "layout": "IPY_MODEL_e74f6a6318344c8793bba9a1d2faac3f"
          }
        },
        "f4c785e853934d55b2836ded7e1bf664": {
          "model_module": "@jupyter-widgets/controls",
          "model_name": "HTMLModel",
          "model_module_version": "1.5.0",
          "state": {
            "_dom_classes": [],
            "_model_module": "@jupyter-widgets/controls",
            "_model_module_version": "1.5.0",
            "_model_name": "HTMLModel",
            "_view_count": null,
            "_view_module": "@jupyter-widgets/controls",
            "_view_module_version": "1.5.0",
            "_view_name": "HTMLView",
            "description": "",
            "description_tooltip": null,
            "layout": "IPY_MODEL_bfff4d5853114a6cb00dfa0f29d965e5",
            "placeholder": "​",
            "style": "IPY_MODEL_5e7e7f50be564ed684e4fedaee5d601d",
            "value": "Downloading (…)cial_tokens_map.json: 100%"
          }
        },
        "18e896a52c6e47448b9ed9d1ca427fd1": {
          "model_module": "@jupyter-widgets/controls",
          "model_name": "FloatProgressModel",
          "model_module_version": "1.5.0",
          "state": {
            "_dom_classes": [],
            "_model_module": "@jupyter-widgets/controls",
            "_model_module_version": "1.5.0",
            "_model_name": "FloatProgressModel",
            "_view_count": null,
            "_view_module": "@jupyter-widgets/controls",
            "_view_module_version": "1.5.0",
            "_view_name": "ProgressView",
            "bar_style": "success",
            "description": "",
            "description_tooltip": null,
            "layout": "IPY_MODEL_4e77d0aced474d20a1ef319e5540a9ab",
            "max": 65,
            "min": 0,
            "orientation": "horizontal",
            "style": "IPY_MODEL_8dc61d7330c04c7bac2cd43e4cbdb594",
            "value": 65
          }
        },
        "ae21c809ad804f42a4d8909f778113d8": {
          "model_module": "@jupyter-widgets/controls",
          "model_name": "HTMLModel",
          "model_module_version": "1.5.0",
          "state": {
            "_dom_classes": [],
            "_model_module": "@jupyter-widgets/controls",
            "_model_module_version": "1.5.0",
            "_model_name": "HTMLModel",
            "_view_count": null,
            "_view_module": "@jupyter-widgets/controls",
            "_view_module_version": "1.5.0",
            "_view_name": "HTMLView",
            "description": "",
            "description_tooltip": null,
            "layout": "IPY_MODEL_df0178eda8754dfa9afcd9467fc9bac8",
            "placeholder": "​",
            "style": "IPY_MODEL_ff7351c769724470bc7bc1b89ed747ca",
            "value": " 65.0/65.0 [00:00&lt;00:00, 5.86kB/s]"
          }
        },
        "e74f6a6318344c8793bba9a1d2faac3f": {
          "model_module": "@jupyter-widgets/base",
          "model_name": "LayoutModel",
          "model_module_version": "1.2.0",
          "state": {
            "_model_module": "@jupyter-widgets/base",
            "_model_module_version": "1.2.0",
            "_model_name": "LayoutModel",
            "_view_count": null,
            "_view_module": "@jupyter-widgets/base",
            "_view_module_version": "1.2.0",
            "_view_name": "LayoutView",
            "align_content": null,
            "align_items": null,
            "align_self": null,
            "border": null,
            "bottom": null,
            "display": null,
            "flex": null,
            "flex_flow": null,
            "grid_area": null,
            "grid_auto_columns": null,
            "grid_auto_flow": null,
            "grid_auto_rows": null,
            "grid_column": null,
            "grid_gap": null,
            "grid_row": null,
            "grid_template_areas": null,
            "grid_template_columns": null,
            "grid_template_rows": null,
            "height": null,
            "justify_content": null,
            "justify_items": null,
            "left": null,
            "margin": null,
            "max_height": null,
            "max_width": null,
            "min_height": null,
            "min_width": null,
            "object_fit": null,
            "object_position": null,
            "order": null,
            "overflow": null,
            "overflow_x": null,
            "overflow_y": null,
            "padding": null,
            "right": null,
            "top": null,
            "visibility": null,
            "width": null
          }
        },
        "bfff4d5853114a6cb00dfa0f29d965e5": {
          "model_module": "@jupyter-widgets/base",
          "model_name": "LayoutModel",
          "model_module_version": "1.2.0",
          "state": {
            "_model_module": "@jupyter-widgets/base",
            "_model_module_version": "1.2.0",
            "_model_name": "LayoutModel",
            "_view_count": null,
            "_view_module": "@jupyter-widgets/base",
            "_view_module_version": "1.2.0",
            "_view_name": "LayoutView",
            "align_content": null,
            "align_items": null,
            "align_self": null,
            "border": null,
            "bottom": null,
            "display": null,
            "flex": null,
            "flex_flow": null,
            "grid_area": null,
            "grid_auto_columns": null,
            "grid_auto_flow": null,
            "grid_auto_rows": null,
            "grid_column": null,
            "grid_gap": null,
            "grid_row": null,
            "grid_template_areas": null,
            "grid_template_columns": null,
            "grid_template_rows": null,
            "height": null,
            "justify_content": null,
            "justify_items": null,
            "left": null,
            "margin": null,
            "max_height": null,
            "max_width": null,
            "min_height": null,
            "min_width": null,
            "object_fit": null,
            "object_position": null,
            "order": null,
            "overflow": null,
            "overflow_x": null,
            "overflow_y": null,
            "padding": null,
            "right": null,
            "top": null,
            "visibility": null,
            "width": null
          }
        },
        "5e7e7f50be564ed684e4fedaee5d601d": {
          "model_module": "@jupyter-widgets/controls",
          "model_name": "DescriptionStyleModel",
          "model_module_version": "1.5.0",
          "state": {
            "_model_module": "@jupyter-widgets/controls",
            "_model_module_version": "1.5.0",
            "_model_name": "DescriptionStyleModel",
            "_view_count": null,
            "_view_module": "@jupyter-widgets/base",
            "_view_module_version": "1.2.0",
            "_view_name": "StyleView",
            "description_width": ""
          }
        },
        "4e77d0aced474d20a1ef319e5540a9ab": {
          "model_module": "@jupyter-widgets/base",
          "model_name": "LayoutModel",
          "model_module_version": "1.2.0",
          "state": {
            "_model_module": "@jupyter-widgets/base",
            "_model_module_version": "1.2.0",
            "_model_name": "LayoutModel",
            "_view_count": null,
            "_view_module": "@jupyter-widgets/base",
            "_view_module_version": "1.2.0",
            "_view_name": "LayoutView",
            "align_content": null,
            "align_items": null,
            "align_self": null,
            "border": null,
            "bottom": null,
            "display": null,
            "flex": null,
            "flex_flow": null,
            "grid_area": null,
            "grid_auto_columns": null,
            "grid_auto_flow": null,
            "grid_auto_rows": null,
            "grid_column": null,
            "grid_gap": null,
            "grid_row": null,
            "grid_template_areas": null,
            "grid_template_columns": null,
            "grid_template_rows": null,
            "height": null,
            "justify_content": null,
            "justify_items": null,
            "left": null,
            "margin": null,
            "max_height": null,
            "max_width": null,
            "min_height": null,
            "min_width": null,
            "object_fit": null,
            "object_position": null,
            "order": null,
            "overflow": null,
            "overflow_x": null,
            "overflow_y": null,
            "padding": null,
            "right": null,
            "top": null,
            "visibility": null,
            "width": null
          }
        },
        "8dc61d7330c04c7bac2cd43e4cbdb594": {
          "model_module": "@jupyter-widgets/controls",
          "model_name": "ProgressStyleModel",
          "model_module_version": "1.5.0",
          "state": {
            "_model_module": "@jupyter-widgets/controls",
            "_model_module_version": "1.5.0",
            "_model_name": "ProgressStyleModel",
            "_view_count": null,
            "_view_module": "@jupyter-widgets/base",
            "_view_module_version": "1.2.0",
            "_view_name": "StyleView",
            "bar_color": null,
            "description_width": ""
          }
        },
        "df0178eda8754dfa9afcd9467fc9bac8": {
          "model_module": "@jupyter-widgets/base",
          "model_name": "LayoutModel",
          "model_module_version": "1.2.0",
          "state": {
            "_model_module": "@jupyter-widgets/base",
            "_model_module_version": "1.2.0",
            "_model_name": "LayoutModel",
            "_view_count": null,
            "_view_module": "@jupyter-widgets/base",
            "_view_module_version": "1.2.0",
            "_view_name": "LayoutView",
            "align_content": null,
            "align_items": null,
            "align_self": null,
            "border": null,
            "bottom": null,
            "display": null,
            "flex": null,
            "flex_flow": null,
            "grid_area": null,
            "grid_auto_columns": null,
            "grid_auto_flow": null,
            "grid_auto_rows": null,
            "grid_column": null,
            "grid_gap": null,
            "grid_row": null,
            "grid_template_areas": null,
            "grid_template_columns": null,
            "grid_template_rows": null,
            "height": null,
            "justify_content": null,
            "justify_items": null,
            "left": null,
            "margin": null,
            "max_height": null,
            "max_width": null,
            "min_height": null,
            "min_width": null,
            "object_fit": null,
            "object_position": null,
            "order": null,
            "overflow": null,
            "overflow_x": null,
            "overflow_y": null,
            "padding": null,
            "right": null,
            "top": null,
            "visibility": null,
            "width": null
          }
        },
        "ff7351c769724470bc7bc1b89ed747ca": {
          "model_module": "@jupyter-widgets/controls",
          "model_name": "DescriptionStyleModel",
          "model_module_version": "1.5.0",
          "state": {
            "_model_module": "@jupyter-widgets/controls",
            "_model_module_version": "1.5.0",
            "_model_name": "DescriptionStyleModel",
            "_view_count": null,
            "_view_module": "@jupyter-widgets/base",
            "_view_module_version": "1.2.0",
            "_view_name": "StyleView",
            "description_width": ""
          }
        },
        "77c39f0df28742c18342be0507aab0ec": {
          "model_module": "@jupyter-widgets/controls",
          "model_name": "HBoxModel",
          "model_module_version": "1.5.0",
          "state": {
            "_dom_classes": [],
            "_model_module": "@jupyter-widgets/controls",
            "_model_module_version": "1.5.0",
            "_model_name": "HBoxModel",
            "_view_count": null,
            "_view_module": "@jupyter-widgets/controls",
            "_view_module_version": "1.5.0",
            "_view_name": "HBoxView",
            "box_style": "",
            "children": [
              "IPY_MODEL_c73cd041469f44da98dd6b207a2982fd",
              "IPY_MODEL_3329987137d94f53bf0da65c23f26301",
              "IPY_MODEL_0245beaddf134a79a9b01b5bd4731e92"
            ],
            "layout": "IPY_MODEL_50b98b0e9fb540e6b89962b9126f1dc3"
          }
        },
        "c73cd041469f44da98dd6b207a2982fd": {
          "model_module": "@jupyter-widgets/controls",
          "model_name": "HTMLModel",
          "model_module_version": "1.5.0",
          "state": {
            "_dom_classes": [],
            "_model_module": "@jupyter-widgets/controls",
            "_model_module_version": "1.5.0",
            "_model_name": "HTMLModel",
            "_view_count": null,
            "_view_module": "@jupyter-widgets/controls",
            "_view_module_version": "1.5.0",
            "_view_name": "HTMLView",
            "description": "",
            "description_tooltip": null,
            "layout": "IPY_MODEL_9b828c6ed40d484f88b854f229eab41a",
            "placeholder": "​",
            "style": "IPY_MODEL_22acbb6da07f4cd6b5f733b11cc50dd5",
            "value": "Downloading pytorch_model.bin: 100%"
          }
        },
        "3329987137d94f53bf0da65c23f26301": {
          "model_module": "@jupyter-widgets/controls",
          "model_name": "FloatProgressModel",
          "model_module_version": "1.5.0",
          "state": {
            "_dom_classes": [],
            "_model_module": "@jupyter-widgets/controls",
            "_model_module_version": "1.5.0",
            "_model_name": "FloatProgressModel",
            "_view_count": null,
            "_view_module": "@jupyter-widgets/controls",
            "_view_module_version": "1.5.0",
            "_view_name": "ProgressView",
            "bar_style": "success",
            "description": "",
            "description_tooltip": null,
            "layout": "IPY_MODEL_4d97bb1272c041be8b5f5dc2cc4b178f",
            "max": 2275327883,
            "min": 0,
            "orientation": "horizontal",
            "style": "IPY_MODEL_7514fdd88849400d9e9e8c6741cce098",
            "value": 2275327883
          }
        },
        "0245beaddf134a79a9b01b5bd4731e92": {
          "model_module": "@jupyter-widgets/controls",
          "model_name": "HTMLModel",
          "model_module_version": "1.5.0",
          "state": {
            "_dom_classes": [],
            "_model_module": "@jupyter-widgets/controls",
            "_model_module_version": "1.5.0",
            "_model_name": "HTMLModel",
            "_view_count": null,
            "_view_module": "@jupyter-widgets/controls",
            "_view_module_version": "1.5.0",
            "_view_name": "HTMLView",
            "description": "",
            "description_tooltip": null,
            "layout": "IPY_MODEL_a89e2bad04914d409a4505fbe5235e5c",
            "placeholder": "​",
            "style": "IPY_MODEL_8b0beb14211240f3bb9a89ac5aa5b4af",
            "value": " 2.28G/2.28G [00:55&lt;00:00, 47.2MB/s]"
          }
        },
        "50b98b0e9fb540e6b89962b9126f1dc3": {
          "model_module": "@jupyter-widgets/base",
          "model_name": "LayoutModel",
          "model_module_version": "1.2.0",
          "state": {
            "_model_module": "@jupyter-widgets/base",
            "_model_module_version": "1.2.0",
            "_model_name": "LayoutModel",
            "_view_count": null,
            "_view_module": "@jupyter-widgets/base",
            "_view_module_version": "1.2.0",
            "_view_name": "LayoutView",
            "align_content": null,
            "align_items": null,
            "align_self": null,
            "border": null,
            "bottom": null,
            "display": null,
            "flex": null,
            "flex_flow": null,
            "grid_area": null,
            "grid_auto_columns": null,
            "grid_auto_flow": null,
            "grid_auto_rows": null,
            "grid_column": null,
            "grid_gap": null,
            "grid_row": null,
            "grid_template_areas": null,
            "grid_template_columns": null,
            "grid_template_rows": null,
            "height": null,
            "justify_content": null,
            "justify_items": null,
            "left": null,
            "margin": null,
            "max_height": null,
            "max_width": null,
            "min_height": null,
            "min_width": null,
            "object_fit": null,
            "object_position": null,
            "order": null,
            "overflow": null,
            "overflow_x": null,
            "overflow_y": null,
            "padding": null,
            "right": null,
            "top": null,
            "visibility": null,
            "width": null
          }
        },
        "9b828c6ed40d484f88b854f229eab41a": {
          "model_module": "@jupyter-widgets/base",
          "model_name": "LayoutModel",
          "model_module_version": "1.2.0",
          "state": {
            "_model_module": "@jupyter-widgets/base",
            "_model_module_version": "1.2.0",
            "_model_name": "LayoutModel",
            "_view_count": null,
            "_view_module": "@jupyter-widgets/base",
            "_view_module_version": "1.2.0",
            "_view_name": "LayoutView",
            "align_content": null,
            "align_items": null,
            "align_self": null,
            "border": null,
            "bottom": null,
            "display": null,
            "flex": null,
            "flex_flow": null,
            "grid_area": null,
            "grid_auto_columns": null,
            "grid_auto_flow": null,
            "grid_auto_rows": null,
            "grid_column": null,
            "grid_gap": null,
            "grid_row": null,
            "grid_template_areas": null,
            "grid_template_columns": null,
            "grid_template_rows": null,
            "height": null,
            "justify_content": null,
            "justify_items": null,
            "left": null,
            "margin": null,
            "max_height": null,
            "max_width": null,
            "min_height": null,
            "min_width": null,
            "object_fit": null,
            "object_position": null,
            "order": null,
            "overflow": null,
            "overflow_x": null,
            "overflow_y": null,
            "padding": null,
            "right": null,
            "top": null,
            "visibility": null,
            "width": null
          }
        },
        "22acbb6da07f4cd6b5f733b11cc50dd5": {
          "model_module": "@jupyter-widgets/controls",
          "model_name": "DescriptionStyleModel",
          "model_module_version": "1.5.0",
          "state": {
            "_model_module": "@jupyter-widgets/controls",
            "_model_module_version": "1.5.0",
            "_model_name": "DescriptionStyleModel",
            "_view_count": null,
            "_view_module": "@jupyter-widgets/base",
            "_view_module_version": "1.2.0",
            "_view_name": "StyleView",
            "description_width": ""
          }
        },
        "4d97bb1272c041be8b5f5dc2cc4b178f": {
          "model_module": "@jupyter-widgets/base",
          "model_name": "LayoutModel",
          "model_module_version": "1.2.0",
          "state": {
            "_model_module": "@jupyter-widgets/base",
            "_model_module_version": "1.2.0",
            "_model_name": "LayoutModel",
            "_view_count": null,
            "_view_module": "@jupyter-widgets/base",
            "_view_module_version": "1.2.0",
            "_view_name": "LayoutView",
            "align_content": null,
            "align_items": null,
            "align_self": null,
            "border": null,
            "bottom": null,
            "display": null,
            "flex": null,
            "flex_flow": null,
            "grid_area": null,
            "grid_auto_columns": null,
            "grid_auto_flow": null,
            "grid_auto_rows": null,
            "grid_column": null,
            "grid_gap": null,
            "grid_row": null,
            "grid_template_areas": null,
            "grid_template_columns": null,
            "grid_template_rows": null,
            "height": null,
            "justify_content": null,
            "justify_items": null,
            "left": null,
            "margin": null,
            "max_height": null,
            "max_width": null,
            "min_height": null,
            "min_width": null,
            "object_fit": null,
            "object_position": null,
            "order": null,
            "overflow": null,
            "overflow_x": null,
            "overflow_y": null,
            "padding": null,
            "right": null,
            "top": null,
            "visibility": null,
            "width": null
          }
        },
        "7514fdd88849400d9e9e8c6741cce098": {
          "model_module": "@jupyter-widgets/controls",
          "model_name": "ProgressStyleModel",
          "model_module_version": "1.5.0",
          "state": {
            "_model_module": "@jupyter-widgets/controls",
            "_model_module_version": "1.5.0",
            "_model_name": "ProgressStyleModel",
            "_view_count": null,
            "_view_module": "@jupyter-widgets/base",
            "_view_module_version": "1.2.0",
            "_view_name": "StyleView",
            "bar_color": null,
            "description_width": ""
          }
        },
        "a89e2bad04914d409a4505fbe5235e5c": {
          "model_module": "@jupyter-widgets/base",
          "model_name": "LayoutModel",
          "model_module_version": "1.2.0",
          "state": {
            "_model_module": "@jupyter-widgets/base",
            "_model_module_version": "1.2.0",
            "_model_name": "LayoutModel",
            "_view_count": null,
            "_view_module": "@jupyter-widgets/base",
            "_view_module_version": "1.2.0",
            "_view_name": "LayoutView",
            "align_content": null,
            "align_items": null,
            "align_self": null,
            "border": null,
            "bottom": null,
            "display": null,
            "flex": null,
            "flex_flow": null,
            "grid_area": null,
            "grid_auto_columns": null,
            "grid_auto_flow": null,
            "grid_auto_rows": null,
            "grid_column": null,
            "grid_gap": null,
            "grid_row": null,
            "grid_template_areas": null,
            "grid_template_columns": null,
            "grid_template_rows": null,
            "height": null,
            "justify_content": null,
            "justify_items": null,
            "left": null,
            "margin": null,
            "max_height": null,
            "max_width": null,
            "min_height": null,
            "min_width": null,
            "object_fit": null,
            "object_position": null,
            "order": null,
            "overflow": null,
            "overflow_x": null,
            "overflow_y": null,
            "padding": null,
            "right": null,
            "top": null,
            "visibility": null,
            "width": null
          }
        },
        "8b0beb14211240f3bb9a89ac5aa5b4af": {
          "model_module": "@jupyter-widgets/controls",
          "model_name": "DescriptionStyleModel",
          "model_module_version": "1.5.0",
          "state": {
            "_model_module": "@jupyter-widgets/controls",
            "_model_module_version": "1.5.0",
            "_model_name": "DescriptionStyleModel",
            "_view_count": null,
            "_view_module": "@jupyter-widgets/base",
            "_view_module_version": "1.2.0",
            "_view_name": "StyleView",
            "description_width": ""
          }
        },
        "b4c39c1ec01340feb63644f5a2428da7": {
          "model_module": "@jupyter-widgets/controls",
          "model_name": "HBoxModel",
          "model_module_version": "1.5.0",
          "state": {
            "_dom_classes": [],
            "_model_module": "@jupyter-widgets/controls",
            "_model_module_version": "1.5.0",
            "_model_name": "HBoxModel",
            "_view_count": null,
            "_view_module": "@jupyter-widgets/controls",
            "_view_module_version": "1.5.0",
            "_view_name": "HBoxView",
            "box_style": "",
            "children": [
              "IPY_MODEL_0dfd67deda94478b9a5e4bb28d4901e6",
              "IPY_MODEL_96ab3e7b6bfd42cab163bf9af81a386d",
              "IPY_MODEL_68de0a9c71d74993a6327bb531fc0e06"
            ],
            "layout": "IPY_MODEL_4e931a6a437d4077a74a0a595978420b"
          }
        },
        "0dfd67deda94478b9a5e4bb28d4901e6": {
          "model_module": "@jupyter-widgets/controls",
          "model_name": "HTMLModel",
          "model_module_version": "1.5.0",
          "state": {
            "_dom_classes": [],
            "_model_module": "@jupyter-widgets/controls",
            "_model_module_version": "1.5.0",
            "_model_name": "HTMLModel",
            "_view_count": null,
            "_view_module": "@jupyter-widgets/controls",
            "_view_module_version": "1.5.0",
            "_view_name": "HTMLView",
            "description": "",
            "description_tooltip": null,
            "layout": "IPY_MODEL_85e7ea21921343e8b8ba7d0382653794",
            "placeholder": "​",
            "style": "IPY_MODEL_c6d235fd69984d9f95b1c2a9066cacdf",
            "value": "Downloading (…)neration_config.json: 100%"
          }
        },
        "96ab3e7b6bfd42cab163bf9af81a386d": {
          "model_module": "@jupyter-widgets/controls",
          "model_name": "FloatProgressModel",
          "model_module_version": "1.5.0",
          "state": {
            "_dom_classes": [],
            "_model_module": "@jupyter-widgets/controls",
            "_model_module_version": "1.5.0",
            "_model_name": "FloatProgressModel",
            "_view_count": null,
            "_view_module": "@jupyter-widgets/controls",
            "_view_module_version": "1.5.0",
            "_view_name": "ProgressView",
            "bar_style": "success",
            "description": "",
            "description_tooltip": null,
            "layout": "IPY_MODEL_51b2a90ea2814558b0a070ee4c1c303a",
            "max": 280,
            "min": 0,
            "orientation": "horizontal",
            "style": "IPY_MODEL_ba26374576374ae1aa80a91b6f934fde",
            "value": 280
          }
        },
        "68de0a9c71d74993a6327bb531fc0e06": {
          "model_module": "@jupyter-widgets/controls",
          "model_name": "HTMLModel",
          "model_module_version": "1.5.0",
          "state": {
            "_dom_classes": [],
            "_model_module": "@jupyter-widgets/controls",
            "_model_module_version": "1.5.0",
            "_model_name": "HTMLModel",
            "_view_count": null,
            "_view_module": "@jupyter-widgets/controls",
            "_view_module_version": "1.5.0",
            "_view_name": "HTMLView",
            "description": "",
            "description_tooltip": null,
            "layout": "IPY_MODEL_ead4e4edb46c435aad085c110e62f1b3",
            "placeholder": "​",
            "style": "IPY_MODEL_663c00f463fd4ac9b4931c8b22eaa277",
            "value": " 280/280 [00:00&lt;00:00, 25.3kB/s]"
          }
        },
        "4e931a6a437d4077a74a0a595978420b": {
          "model_module": "@jupyter-widgets/base",
          "model_name": "LayoutModel",
          "model_module_version": "1.2.0",
          "state": {
            "_model_module": "@jupyter-widgets/base",
            "_model_module_version": "1.2.0",
            "_model_name": "LayoutModel",
            "_view_count": null,
            "_view_module": "@jupyter-widgets/base",
            "_view_module_version": "1.2.0",
            "_view_name": "LayoutView",
            "align_content": null,
            "align_items": null,
            "align_self": null,
            "border": null,
            "bottom": null,
            "display": null,
            "flex": null,
            "flex_flow": null,
            "grid_area": null,
            "grid_auto_columns": null,
            "grid_auto_flow": null,
            "grid_auto_rows": null,
            "grid_column": null,
            "grid_gap": null,
            "grid_row": null,
            "grid_template_areas": null,
            "grid_template_columns": null,
            "grid_template_rows": null,
            "height": null,
            "justify_content": null,
            "justify_items": null,
            "left": null,
            "margin": null,
            "max_height": null,
            "max_width": null,
            "min_height": null,
            "min_width": null,
            "object_fit": null,
            "object_position": null,
            "order": null,
            "overflow": null,
            "overflow_x": null,
            "overflow_y": null,
            "padding": null,
            "right": null,
            "top": null,
            "visibility": null,
            "width": null
          }
        },
        "85e7ea21921343e8b8ba7d0382653794": {
          "model_module": "@jupyter-widgets/base",
          "model_name": "LayoutModel",
          "model_module_version": "1.2.0",
          "state": {
            "_model_module": "@jupyter-widgets/base",
            "_model_module_version": "1.2.0",
            "_model_name": "LayoutModel",
            "_view_count": null,
            "_view_module": "@jupyter-widgets/base",
            "_view_module_version": "1.2.0",
            "_view_name": "LayoutView",
            "align_content": null,
            "align_items": null,
            "align_self": null,
            "border": null,
            "bottom": null,
            "display": null,
            "flex": null,
            "flex_flow": null,
            "grid_area": null,
            "grid_auto_columns": null,
            "grid_auto_flow": null,
            "grid_auto_rows": null,
            "grid_column": null,
            "grid_gap": null,
            "grid_row": null,
            "grid_template_areas": null,
            "grid_template_columns": null,
            "grid_template_rows": null,
            "height": null,
            "justify_content": null,
            "justify_items": null,
            "left": null,
            "margin": null,
            "max_height": null,
            "max_width": null,
            "min_height": null,
            "min_width": null,
            "object_fit": null,
            "object_position": null,
            "order": null,
            "overflow": null,
            "overflow_x": null,
            "overflow_y": null,
            "padding": null,
            "right": null,
            "top": null,
            "visibility": null,
            "width": null
          }
        },
        "c6d235fd69984d9f95b1c2a9066cacdf": {
          "model_module": "@jupyter-widgets/controls",
          "model_name": "DescriptionStyleModel",
          "model_module_version": "1.5.0",
          "state": {
            "_model_module": "@jupyter-widgets/controls",
            "_model_module_version": "1.5.0",
            "_model_name": "DescriptionStyleModel",
            "_view_count": null,
            "_view_module": "@jupyter-widgets/base",
            "_view_module_version": "1.2.0",
            "_view_name": "StyleView",
            "description_width": ""
          }
        },
        "51b2a90ea2814558b0a070ee4c1c303a": {
          "model_module": "@jupyter-widgets/base",
          "model_name": "LayoutModel",
          "model_module_version": "1.2.0",
          "state": {
            "_model_module": "@jupyter-widgets/base",
            "_model_module_version": "1.2.0",
            "_model_name": "LayoutModel",
            "_view_count": null,
            "_view_module": "@jupyter-widgets/base",
            "_view_module_version": "1.2.0",
            "_view_name": "LayoutView",
            "align_content": null,
            "align_items": null,
            "align_self": null,
            "border": null,
            "bottom": null,
            "display": null,
            "flex": null,
            "flex_flow": null,
            "grid_area": null,
            "grid_auto_columns": null,
            "grid_auto_flow": null,
            "grid_auto_rows": null,
            "grid_column": null,
            "grid_gap": null,
            "grid_row": null,
            "grid_template_areas": null,
            "grid_template_columns": null,
            "grid_template_rows": null,
            "height": null,
            "justify_content": null,
            "justify_items": null,
            "left": null,
            "margin": null,
            "max_height": null,
            "max_width": null,
            "min_height": null,
            "min_width": null,
            "object_fit": null,
            "object_position": null,
            "order": null,
            "overflow": null,
            "overflow_x": null,
            "overflow_y": null,
            "padding": null,
            "right": null,
            "top": null,
            "visibility": null,
            "width": null
          }
        },
        "ba26374576374ae1aa80a91b6f934fde": {
          "model_module": "@jupyter-widgets/controls",
          "model_name": "ProgressStyleModel",
          "model_module_version": "1.5.0",
          "state": {
            "_model_module": "@jupyter-widgets/controls",
            "_model_module_version": "1.5.0",
            "_model_name": "ProgressStyleModel",
            "_view_count": null,
            "_view_module": "@jupyter-widgets/base",
            "_view_module_version": "1.2.0",
            "_view_name": "StyleView",
            "bar_color": null,
            "description_width": ""
          }
        },
        "ead4e4edb46c435aad085c110e62f1b3": {
          "model_module": "@jupyter-widgets/base",
          "model_name": "LayoutModel",
          "model_module_version": "1.2.0",
          "state": {
            "_model_module": "@jupyter-widgets/base",
            "_model_module_version": "1.2.0",
            "_model_name": "LayoutModel",
            "_view_count": null,
            "_view_module": "@jupyter-widgets/base",
            "_view_module_version": "1.2.0",
            "_view_name": "LayoutView",
            "align_content": null,
            "align_items": null,
            "align_self": null,
            "border": null,
            "bottom": null,
            "display": null,
            "flex": null,
            "flex_flow": null,
            "grid_area": null,
            "grid_auto_columns": null,
            "grid_auto_flow": null,
            "grid_auto_rows": null,
            "grid_column": null,
            "grid_gap": null,
            "grid_row": null,
            "grid_template_areas": null,
            "grid_template_columns": null,
            "grid_template_rows": null,
            "height": null,
            "justify_content": null,
            "justify_items": null,
            "left": null,
            "margin": null,
            "max_height": null,
            "max_width": null,
            "min_height": null,
            "min_width": null,
            "object_fit": null,
            "object_position": null,
            "order": null,
            "overflow": null,
            "overflow_x": null,
            "overflow_y": null,
            "padding": null,
            "right": null,
            "top": null,
            "visibility": null,
            "width": null
          }
        },
        "663c00f463fd4ac9b4931c8b22eaa277": {
          "model_module": "@jupyter-widgets/controls",
          "model_name": "DescriptionStyleModel",
          "model_module_version": "1.5.0",
          "state": {
            "_model_module": "@jupyter-widgets/controls",
            "_model_module_version": "1.5.0",
            "_model_name": "DescriptionStyleModel",
            "_view_count": null,
            "_view_module": "@jupyter-widgets/base",
            "_view_module_version": "1.2.0",
            "_view_name": "StyleView",
            "description_width": ""
          }
        }
      }
    }
  },
  "nbformat": 4,
  "nbformat_minor": 5
}