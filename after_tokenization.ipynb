{
 "cells": [
  {
   "cell_type": "code",
   "execution_count": 2,
   "id": "c68b09fb",
   "metadata": {},
   "outputs": [],
   "source": [
    "import pandas as pd"
   ]
  },
  {
   "cell_type": "code",
   "execution_count": 3,
   "id": "4ae5e711",
   "metadata": {},
   "outputs": [],
   "source": [
    "data = pd.read_csv('tokenized.csv')"
   ]
  },
  {
   "cell_type": "code",
   "execution_count": 4,
   "id": "e99b5379",
   "metadata": {},
   "outputs": [
    {
     "name": "stderr",
     "output_type": "stream",
     "text": [
      "/Library/Frameworks/Python.framework/Versions/3.10/lib/python3.10/site-packages/sklearn/feature_extraction/text.py:524: UserWarning: The parameter 'token_pattern' will not be used since 'tokenizer' is not None'\n",
      "  warnings.warn(\n"
     ]
    }
   ],
   "source": [
    "from sklearn.feature_extraction.text import TfidfVectorizer\n",
    "from sklearn.decomposition import TruncatedSVD\n",
    "from sklearn.preprocessing import StandardScaler\n",
    "import numpy as np\n",
    "\n",
    "# Create a TfidfVectorizer object for the article_tokens column\n",
    "tfidf_article = TfidfVectorizer(tokenizer=lambda x: x, lowercase=False)\n",
    "tfidf_article.fit(data['article_tokens'])\n",
    "\n",
    "# Fit and transform the article_tokens column\n",
    "tfidf_article_tokens = tfidf_article.transform(data['article_tokens'])\n",
    "\n",
    "\n",
    "\n",
    "\n",
    "# Create a TfidfVectorizer object for the highlights_tokens column\n",
    "tfidf_highlights = TfidfVectorizer(tokenizer=lambda x: x, lowercase=False)\n",
    "tfidf_highlights.fit(data['highlights_tokens'])\n",
    "\n",
    "# Fit and transform the highlights_tokens column\n",
    "tfidf_highlights_tokens = tfidf_highlights.transform(data['highlights_tokens'])\n",
    "\n",
    "\n"
   ]
  },
  {
   "cell_type": "code",
   "execution_count": 5,
   "id": "9fc97a6d",
   "metadata": {},
   "outputs": [
    {
     "name": "stdout",
     "output_type": "stream",
     "text": [
      "  (0, 73)\t0.0022646937072834574\n",
      "  (0, 72)\t0.02234304627210692\n",
      "  (0, 71)\t0.007400751739817798\n",
      "  (0, 70)\t0.01546816618579909\n",
      "  (0, 69)\t0.006875871404560421\n",
      "  (0, 68)\t0.034373559498124893\n",
      "  (0, 67)\t0.15296138433225956\n",
      "  (0, 66)\t0.11686937229880506\n",
      "  (0, 65)\t0.08421469474472718\n",
      "  (0, 63)\t0.05156098336629842\n",
      "  (0, 62)\t0.1615547205307011\n",
      "  (0, 61)\t0.10312003438129859\n",
      "  (0, 60)\t0.041248013752519436\n",
      "  (0, 59)\t0.0532786844303376\n",
      "  (0, 58)\t0.013757126710297067\n",
      "  (0, 57)\t0.0071799881584349405\n",
      "  (0, 56)\t0.11858803953849337\n",
      "  (0, 55)\t0.09108974301411923\n",
      "  (0, 54)\t0.024061441550899423\n",
      "  (0, 53)\t0.05156044659981371\n",
      "  (0, 52)\t0.18217872740696084\n",
      "  (0, 51)\t0.08421539611302906\n",
      "  (0, 50)\t0.06015360387724856\n",
      "  (0, 49)\t0.029219168113049143\n",
      "  (0, 48)\t0.13749337917506477\n",
      "  :\t:\n",
      "  (480288, 55)\t0.07980234125044912\n",
      "  (480288, 54)\t0.032876316641910375\n",
      "  (480288, 53)\t0.02866152360258054\n",
      "  (480288, 52)\t0.18011650609831645\n",
      "  (480288, 51)\t0.07109181834757722\n",
      "  (480288, 50)\t0.03371929911990808\n",
      "  (480288, 49)\t0.02894408574761071\n",
      "  (480288, 48)\t0.14808330532576094\n",
      "  (480288, 45)\t0.000561985978465886\n",
      "  (480288, 44)\t0.000561985978465886\n",
      "  (480288, 18)\t0.0012767065711825152\n",
      "  (480288, 17)\t0.00043738691463492813\n",
      "  (480288, 16)\t0.0008886647154569726\n",
      "  (480288, 15)\t0.0004321236309532373\n",
      "  (480288, 14)\t0.0003782200137515014\n",
      "  (480288, 13)\t0.001970219022107077\n",
      "  (480288, 12)\t0.0007389607356829297\n",
      "  (480288, 11)\t0.0018835381123152126\n",
      "  (480288, 10)\t0.001535559675898275\n",
      "  (480288, 9)\t0.003085512115291247\n",
      "  (480288, 7)\t0.022760432127868383\n",
      "  (480288, 6)\t0.39058025503379074\n",
      "  (480288, 3)\t0.7435074495103672\n",
      "  (480288, 2)\t0.00209555121775576\n",
      "  (480288, 0)\t0.3717537247551836\n"
     ]
    }
   ],
   "source": [
    "print(tfidf_article_tokens)"
   ]
  },
  {
   "cell_type": "code",
   "execution_count": 6,
   "id": "6f1b77c4",
   "metadata": {},
   "outputs": [],
   "source": [
    "batch_size = 500\n",
    "\n",
    "# Standardize the article_tokens column\n",
    "scaler_article = StandardScaler()\n",
    "scaled_article = []\n",
    "\n",
    "for i in range(0, len(tfidf_article_tokens.toarray()), batch_size):\n",
    "    batch = tfidf_article_tokens.toarray()[i:i+batch_size]\n",
    "    scaled_batch = scaler_article.fit_transform(batch)\n",
    "    scaled_article.append(scaled_batch)\n",
    "\n",
    "scaled_article = np.concatenate(scaled_article, axis=0)\n",
    "\n"
   ]
  },
  {
   "cell_type": "code",
   "execution_count": 7,
   "id": "4a142a6d",
   "metadata": {},
   "outputs": [],
   "source": [
    "# Standardize the highlights_tokens column\n",
    "scaler_highlights = StandardScaler()\n",
    "scaled_highlights = []\n",
    "\n",
    "for i in range(0, len(tfidf_highlights_tokens.toarray()), batch_size):\n",
    "    batch = tfidf_highlights_tokens.toarray()[i:i+batch_size]\n",
    "    scaled_batch = scaler_highlights.fit_transform(batch)\n",
    "    scaled_highlights.append(scaled_batch)\n",
    "\n",
    "scaled_highlights = np.concatenate(scaled_highlights, axis=0)"
   ]
  },
  {
   "cell_type": "code",
   "execution_count": 8,
   "id": "f4c617ce",
   "metadata": {},
   "outputs": [
    {
     "name": "stdout",
     "output_type": "stream",
     "text": [
      "[[-1.13807199 -0.28052357  0.         ...  0.          0.\n",
      "   0.        ]\n",
      " [-0.85052805 -0.28052357  0.         ...  0.          0.\n",
      "   0.        ]\n",
      " [ 0.08654211 -0.28052357  0.         ...  0.          0.\n",
      "   0.        ]\n",
      " ...\n",
      " [ 2.08390261 -0.24341082 -0.55047126 ...  0.          0.\n",
      "   0.        ]\n",
      " [-0.25012622  0.35562961 -1.17121525 ...  0.          0.\n",
      "   0.        ]\n",
      " [ 0.01723066 -0.24341082 -0.9904161  ...  0.          0.\n",
      "   0.        ]]\n"
     ]
    }
   ],
   "source": [
    "print(scaled_article)"
   ]
  },
  {
   "cell_type": "code",
   "execution_count": 9,
   "id": "ee9b4773",
   "metadata": {},
   "outputs": [
    {
     "name": "stdout",
     "output_type": "stream",
     "text": [
      "[[-0.2646441  -0.04476615  0.         ...  0.          0.\n",
      "   0.        ]\n",
      " [ 0.25980248 -0.04476615  0.         ...  0.          0.\n",
      "   0.        ]\n",
      " [-0.04730716 -0.04476615  0.         ...  0.          0.\n",
      "   0.        ]\n",
      " ...\n",
      " [ 0.4201044   0.         -0.72204012 ...  0.          0.\n",
      "   0.        ]\n",
      " [-0.0683246   0.         -1.268546   ...  0.          0.\n",
      "   0.        ]\n",
      " [ 1.15416524  0.         -1.4074981  ...  0.          0.\n",
      "   0.        ]]\n"
     ]
    }
   ],
   "source": [
    "print(scaled_highlights)"
   ]
  },
  {
   "cell_type": "code",
   "execution_count": 10,
   "id": "ee5fd5f5",
   "metadata": {},
   "outputs": [],
   "source": [
    "# Perform dimensionality reduction using TruncatedSVD\n",
    "svd_article = TruncatedSVD(n_components=317, random_state=42)\n",
    "reduced_article = svd_article.fit_transform(scaled_article)\n",
    "\n"
   ]
  },
  {
   "cell_type": "code",
   "execution_count": 11,
   "id": "eec3049c",
   "metadata": {},
   "outputs": [
    {
     "name": "stdout",
     "output_type": "stream",
     "text": [
      "480289\n"
     ]
    }
   ],
   "source": [
    "print(len(reduced_article))"
   ]
  },
  {
   "cell_type": "code",
   "execution_count": 12,
   "id": "c48066e4",
   "metadata": {},
   "outputs": [
    {
     "name": "stdout",
     "output_type": "stream",
     "text": [
      "[[-4.16576495e-01  4.95353162e+00  2.71360777e+00 ... -3.46368399e-18\n",
      "  -4.63624262e-19 -9.29189588e-16]\n",
      " [-3.65752862e+00  2.90025064e-01  1.16171038e-01 ... -7.82857933e-19\n",
      "   2.57343350e-19  1.82435651e-16]\n",
      " [ 9.43802209e-02 -8.03207253e-01  7.87193813e-01 ... -2.92011896e-19\n",
      "   3.37394088e-19  4.20398120e-17]\n",
      " ...\n",
      " [ 3.21083777e+00 -2.71452968e+00  1.22687363e+00 ...  4.91880553e-19\n",
      "   6.03311568e-21 -5.54193930e-16]\n",
      " [-1.14604454e+00 -1.52057313e+00 -1.24886102e+00 ... -1.66470815e-18\n",
      "   3.06327342e-19 -2.05587108e-16]\n",
      " [-1.36363002e-02 -1.70944384e+00 -7.85274348e-01 ... -1.10913340e-19\n",
      "  -5.84196017e-19  1.19536364e-16]]\n"
     ]
    }
   ],
   "source": [
    "print(reduced_article)"
   ]
  },
  {
   "cell_type": "code",
   "execution_count": 13,
   "id": "08fbfc69",
   "metadata": {},
   "outputs": [],
   "source": [
    "# Perform dimensionality reduction using TruncatedSVD\n",
    "svd_highlights = TruncatedSVD(n_components=50, random_state=42)\n",
    "reduced_highlights = svd_highlights.fit_transform(scaled_highlights)"
   ]
  },
  {
   "cell_type": "code",
   "execution_count": 14,
   "id": "e6b91183",
   "metadata": {},
   "outputs": [
    {
     "name": "stdout",
     "output_type": "stream",
     "text": [
      "480289\n"
     ]
    }
   ],
   "source": [
    "print(len(reduced_highlights))"
   ]
  },
  {
   "cell_type": "code",
   "execution_count": 15,
   "id": "5eec6ada",
   "metadata": {},
   "outputs": [
    {
     "name": "stdout",
     "output_type": "stream",
     "text": [
      "[[ 5.50218811e+00  3.53316599e+00 -1.86026073e+00 ... -6.35880826e-19\n",
      "  -4.58142392e-19  1.14388819e-16]\n",
      " [-3.65698475e-01 -1.96884342e+00 -1.38462062e+00 ...  1.81810774e-19\n",
      "   1.14682633e-19  3.57817706e-16]\n",
      " [-7.57376042e+00  3.61295638e+00  9.68678003e-01 ... -2.18031519e-18\n",
      "  -3.42201359e-19 -6.60081051e-16]\n",
      " ...\n",
      " [ 2.80401548e+00 -1.14243896e+00  1.00624196e+00 ...  3.99981834e-18\n",
      "   1.03481763e-18 -1.63050589e-17]\n",
      " [ 3.49849732e+00  1.45947725e+00  1.94373410e-01 ...  1.86014662e-18\n",
      "  -1.74289515e-18  3.61224387e-16]\n",
      " [ 3.51244292e-01  2.84661281e+00 -8.68020310e-01 ...  3.22946768e-18\n",
      "  -2.83815037e-19  4.12094919e-16]]\n"
     ]
    }
   ],
   "source": [
    "print(reduced_article[600:1000])"
   ]
  },
  {
   "cell_type": "code",
   "execution_count": 16,
   "id": "13a1abca",
   "metadata": {},
   "outputs": [],
   "source": [
    "reconstructed_highlights = svd_highlights.inverse_transform(reduced_highlights)\n"
   ]
  },
  {
   "cell_type": "code",
   "execution_count": 18,
   "id": "3a7f8d7a",
   "metadata": {},
   "outputs": [
    {
     "name": "stdout",
     "output_type": "stream",
     "text": [
      "The Tesla CEO, Elon Musk has fallen to the third spot in the list of \n",
      "    the Forbes billionaire rankings after a significant fall in \n",
      "    Tesla shares recently. The billionaire lost close to $6.2 billion \n",
      "    by the end of the day on Wednesday. \n",
      "    Musk's overall wealth has fallen down dramatic since January when \n",
      "    the Tesla CEO was valued at around $197 billion and after the \n",
      "    consecutive fall within the last few weeks, Musk is now valued at \n",
      "    $150.900 billion, as per Forbes's real-time billionaire's list.\n",
      "    While Amazon's CEO Jeff Bezos appears to be unshakable at the number \n",
      "    one position at $175.4 billion, the second spot has now been claimed \n",
      "    by the French billionaire Bernard Arnault who is the owner conglomerate \n",
      "    LVMH , with a fortune of $ 155.600 billion. For the record, the LVMH group \n",
      "    encompasses over 70 luxury brands including Fendi, Givenchy, Louis Vuitton, \n",
      "    Christian Dior, Marc Jacobs, Fenty Beauty, \n",
      "    Bvlgari, Tiffany & Co. and Sephora.\n"
     ]
    }
   ],
   "source": [
    "print('''The Tesla CEO, Elon Musk has fallen to the third spot in the list of \n",
    "    the Forbes billionaire rankings after a significant fall in \n",
    "    Tesla shares recently. The billionaire lost close to $6.2 billion \n",
    "    by the end of the day on Wednesday. \n",
    "    Musk's overall wealth has fallen down dramatic since January when \n",
    "    the Tesla CEO was valued at around $197 billion and after the \n",
    "    consecutive fall within the last few weeks, Musk is now valued at \n",
    "    $150.900 billion, as per Forbes's real-time billionaire's list.\n",
    "    While Amazon's CEO Jeff Bezos appears to be unshakable at the number \n",
    "    one position at $175.4 billion, the second spot has now been claimed \n",
    "    by the French billionaire Bernard Arnault who is the owner conglomerate \n",
    "    LVMH , with a fortune of $ 155.600 billion. For the record, the LVMH group \n",
    "    encompasses over 70 luxury brands including Fendi, Givenchy, Louis Vuitton, \n",
    "    Christian Dior, Marc Jacobs, Fenty Beauty, \n",
    "    Bvlgari, Tiffany & Co. and Sephora.''')"
   ]
  },
  {
   "cell_type": "code",
   "execution_count": null,
   "id": "c03c2fb3",
   "metadata": {},
   "outputs": [],
   "source": [
    "print('''The Tesla CEO, Elon Musk has fallen to the third spot in the list\n",
    "of the Forbes billionaire rankings after a significant fall in Tesla shares \n",
    "recently.<n>The billionaire lost close to $6.2 billion by the end of the day on Wednesday.\n",
    "<n>While Amazon's CEO Jeff Bezos appears to be unshakable at the number one position \n",
    "at $175.4 billion, the second spot has now been claimed by the French billionaire Bernard Arnault.''')"
   ]
  },
  {
   "cell_type": "code",
   "execution_count": null,
   "id": "fbf82650",
   "metadata": {},
   "outputs": [],
   "source": [
    "print('''\"Musk's overall wealth has fallen down dramatic since January when the Tesla CEO was valued\n",
    "at around $197 billion and after the consecutive fall within the last few weeks, \n",
    "Musk is now valued at $150.900 billion, \n",
    "as per Forbes's real-time billionaire's list.\")"
   ]
  }
 ],
 "metadata": {
  "kernelspec": {
   "display_name": "Python 3 (ipykernel)",
   "language": "python",
   "name": "python3"
  },
  "language_info": {
   "codemirror_mode": {
    "name": "ipython",
    "version": 3
   },
   "file_extension": ".py",
   "mimetype": "text/x-python",
   "name": "python",
   "nbconvert_exporter": "python",
   "pygments_lexer": "ipython3",
   "version": "3.10.5"
  }
 },
 "nbformat": 4,
 "nbformat_minor": 5
}
